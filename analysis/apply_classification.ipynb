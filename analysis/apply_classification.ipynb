{
 "cells": [
  {
   "cell_type": "markdown",
   "metadata": {},
   "source": [
    "# Apply Photometric Classification To Fit Results\n",
    "\n",
    "This notebook applies the photometric classification method from González-Gaitán et al. 2014 to SDSS, DES, and CSP light-curve fits. Results are then used to analyze the properties of peculiar supernovae."
   ]
  },
  {
   "cell_type": "code",
   "execution_count": null,
   "metadata": {},
   "outputs": [],
   "source": [
    "from os import path\n",
    "\n",
    "import numpy as np\n",
    "import pandas as pd\n",
    "from astropy.table import Table\n",
    "from bokeh.io import output_notebook, show\n",
    "from bokeh.plotting import figure\n",
    "from bokeh.palettes import Category20\n",
    "from matplotlib import pyplot as plt\n"
   ]
  },
  {
   "cell_type": "markdown",
   "metadata": {},
   "source": [
    "## Load Data\n",
    "\n",
    "We begin by reading in SNCosmo fit results for SDSS, DES, and CSP. This includes fits that use all observed bands, along with those that use exclusively the restframe blue and restframe red filters."
   ]
  },
  {
   "cell_type": "code",
   "execution_count": null,
   "metadata": {},
   "outputs": [],
   "source": [
    "def get_fit_results(survey, model):\n",
    "    \"\"\"\"\"\"\n",
    "\n",
    "    index_col = 1 if survey == 'sdss' else 0\n",
    "    path_pattern = f'../sncosmo_fits/{survey}_results/{model}_{{}}.csv'\n",
    "    \n",
    "    all_data = pd.read_csv(path_pattern.format('all'), index_col=index_col)\n",
    "    blue_data = pd.read_csv(path_pattern.format('blue'), index_col=index_col)\n",
    "    red_data = pd.read_csv(path_pattern.format('red'), index_col=index_col)\n",
    "    return all_data.dropna(), blue_data.dropna(), red_data.dropna()\n",
    "\n",
    "\n",
    "sdss_snia_all, sdss_snia_blue, sdss_snia_red = get_fit_results('sdss', 'salt_2_4')\n",
    "sdss_91bg_all, sdss_91bg_blue, sdss_91bg_red = get_fit_results('sdss', 'nugent')\n",
    "\n",
    "des_snia_all, des_snia_blue, des_snia_red = get_fit_results('des', 'salt_2_4')\n",
    "des_91bg_all, des_91bg_blue, des_91bg_red = get_fit_results('des', 'nugent')\n",
    "\n",
    "csp_snia_all, csp_snia_blue, csp_snia_red = get_fit_results('csp', 'salt_2_4')\n",
    "csp_91bg_all, csp_91bg_blue, csp_91bg_red = get_fit_results('csp', 'nugent')\n"
   ]
  },
  {
   "cell_type": "markdown",
   "metadata": {},
   "source": [
    "Next, we calculate the difference in normalized chi-squared values and plot the results. The resulting plot is analogous to Figure 3 in the 2014 paper."
   ]
  },
  {
   "cell_type": "code",
   "execution_count": null,
   "metadata": {},
   "outputs": [],
   "source": [
    "def calc_chisquared_diff(snia_blue, snia_red, bg_blue, bg_red):\n",
    "    # Combine data tables for snia and 91bg templates\n",
    "    combined_snia = snia_blue.join(snia_red, lsuffix='_blue', rsuffix='_red')\n",
    "    combined_snia['chi_norm_blue'] = combined_snia['chi_blue'] / combined_snia['dof_blue']\n",
    "    combined_snia['chi_norm_red'] = combined_snia['chi_red'] / combined_snia['dof_red']\n",
    "    \n",
    "    combined_91bg = bg_blue.join(bg_red, lsuffix='_blue', rsuffix='_red')\n",
    "    combined_91bg['chi_norm_blue'] = combined_91bg['chi_blue'] / combined_91bg['dof_blue']\n",
    "    combined_91bg['chi_norm_red'] = combined_91bg['chi_red'] / combined_91bg['dof_red']\n",
    "    \n",
    "    # Calculate chi-squared differences\n",
    "    chi_squared_values = pd.DataFrame({\n",
    "        'blue': combined_snia['chi_norm_blue'] - combined_91bg['chi_norm_blue'],\n",
    "        'red': combined_snia['chi_norm_red'] - combined_91bg['chi_norm_red']\n",
    "    })\n",
    "    \n",
    "    return chi_squared_values.dropna()\n",
    "\n",
    "\n",
    "sdss_chi_diff = calc_chisquared_diff(sdss_snia_blue, sdss_snia_red, sdss_91bg_blue, sdss_91bg_red)\n",
    "des_chi_diff = calc_chisquared_diff(des_snia_blue, des_snia_red, des_91bg_blue, des_91bg_red)\n",
    "csp_chi_diff = calc_chisquared_diff(csp_snia_blue, csp_snia_red, csp_91bg_blue, csp_91bg_red)\n"
   ]
  },
  {
   "cell_type": "code",
   "execution_count": null,
   "metadata": {},
   "outputs": [],
   "source": [
    "plt.scatter(sdss_chi_diff['blue'], sdss_chi_diff['red'])\n",
    "plt.scatter(des_chi_diff['blue'], des_chi_diff['red'])\n",
    "plt.scatter(csp_chi_diff['blue'], csp_chi_diff['red'])\n",
    "\n",
    "plt.axhline(0, linestyle='--')\n",
    "plt.axvline(0, linestyle='--')\n",
    "\n",
    "plt.show()\n"
   ]
  },
  {
   "cell_type": "markdown",
   "metadata": {},
   "source": [
    "We expect 91bg like supernovae to fall in the upper-right quadrant of the figure. Here we have drawn dashed lines intersecting at (0, 0) for visual reference only. A new set of lines will be generated later on to indicate a more carefully chosen selection of 91bg like supernovae."
   ]
  },
  {
   "cell_type": "markdown",
   "metadata": {},
   "source": [
    "# Optimize FOM"
   ]
  },
  {
   "cell_type": "code",
   "execution_count": null,
   "metadata": {
    "scrolled": false
   },
   "outputs": [],
   "source": [
    "csp_spec_class = Table.read('./csp_classifications.txt', format='ascii')\n",
    "csp_spec_class.keep_columns(['SN', 'Type'])\n",
    "csp_spec_class.show_in_notebook(display_length=10)\n",
    "\n",
    "# Remove rows without data or targets with inconclusive classifications\n",
    "csp_spec_class.remove_rows([0, 1])\n",
    "is_data = np.logical_not(csp_spec_class['Type'] == '        ')\n",
    "csp_spec_class = csp_spec_class[is_data]\n",
    "\n",
    "csp_spec_class.show_in_notebook(display_length=10)\n"
   ]
  },
  {
   "cell_type": "code",
   "execution_count": null,
   "metadata": {},
   "outputs": [],
   "source": [
    "def calc_fom(num_tot, num_true, num_false):\n",
    "    \"\"\"Calculate the figure of merrit for a set of classifications\n",
    "\n",
    "    FOM = (num_true / num_tot) X (num_true / (num_true + num_false))\n",
    "    \n",
    "    args:\n",
    "        num_tot   (float): Number of correct classifications for a given type\n",
    "        num_true  (float): Total input number of that type\n",
    "        num_false (float): Number of objects falsely classified for that type\n",
    "        \n",
    "    Returns:\n",
    "        The figure of merit value\n",
    "    \"\"\"\n",
    "    \n",
    "    return (num_true / num_tot) * (num_true / (num_true + num_false))\n"
   ]
  },
  {
   "cell_type": "code",
   "execution_count": null,
   "metadata": {},
   "outputs": [],
   "source": []
  }
 ],
 "metadata": {
  "kernelspec": {
   "display_name": "Python 3",
   "language": "python",
   "name": "python3"
  },
  "language_info": {
   "codemirror_mode": {
    "name": "ipython",
    "version": 3
   },
   "file_extension": ".py",
   "mimetype": "text/x-python",
   "name": "python",
   "nbconvert_exporter": "python",
   "pygments_lexer": "ipython3",
   "version": "3.7.1"
  }
 },
 "nbformat": 4,
 "nbformat_minor": 2
}
