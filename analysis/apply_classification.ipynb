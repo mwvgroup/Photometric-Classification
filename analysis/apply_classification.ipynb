{
 "cells": [
  {
   "cell_type": "markdown",
   "metadata": {},
   "source": [
    "# Apply Photometric Classification To Fit Results\n",
    "\n",
    "This notebook applies the photometric classification method from González-Gaitán et al. 2014 to SDSS, DES, and CSP light-curve fits. Results are then used to analyze the properties of peculiar supernovae."
   ]
  },
  {
   "cell_type": "code",
   "execution_count": null,
   "metadata": {},
   "outputs": [],
   "source": [
    "from os import path\n",
    "\n",
    "import numpy as np\n",
    "import pandas as pd\n",
    "from astropy.table import Table, join\n",
    "from bokeh.io import output_notebook, show\n",
    "from bokeh.plotting import figure\n",
    "from bokeh.palettes import Category20\n",
    "from matplotlib import pyplot as plt\n",
    "from scipy import optimize\n",
    "from sklearn.utils import resample\n"
   ]
  },
  {
   "cell_type": "markdown",
   "metadata": {},
   "source": [
    "## Load Data\n",
    "\n",
    "We begin by reading in SNCosmo fit results for SDSS, DES, and CSP. This includes fits that use all observed bands, along with those that use exclusively the restframe blue and restframe red filters."
   ]
  },
  {
   "cell_type": "code",
   "execution_count": null,
   "metadata": {
    "scrolled": false
   },
   "outputs": [],
   "source": [
    "def get_fit_results(survey, model):\n",
    "    \"\"\"Get lightcurve fits for a given survey and model\n",
    "    \n",
    "    Args:\n",
    "        survey (str): The name of the survey\n",
    "        model  (str): The name of the fitted model\n",
    "        \n",
    "    Returns:\n",
    "        A DataFrame of fits in all bands\n",
    "        A DataFrame of fits in blue bands\n",
    "        A DataFrame of fits in red bands\n",
    "    \"\"\"\n",
    "\n",
    "    index_col = 1 if survey == 'sdss' else 0\n",
    "    path_pattern = f'../sncosmo_fits/{survey}_results/{model}_{{}}.csv'\n",
    "    \n",
    "    all_data = pd.read_csv(path_pattern.format('all'), index_col=index_col)\n",
    "    blue_data = pd.read_csv(path_pattern.format('blue'), index_col=index_col)\n",
    "    red_data = pd.read_csv(path_pattern.format('red'), index_col=index_col)\n",
    "    return all_data.dropna(), blue_data.dropna(), red_data.dropna()\n",
    "\n",
    "\n",
    "sdss_snia_all, sdss_snia_blue, sdss_snia_red = get_fit_results('sdss', 'salt_2_4')\n",
    "sdss_91bg_all, sdss_91bg_blue, sdss_91bg_red = get_fit_results('sdss', 'nugent')\n",
    "\n",
    "des_snia_all, des_snia_blue, des_snia_red = get_fit_results('des', 'salt_2_4')\n",
    "des_91bg_all, des_91bg_blue, des_91bg_red = get_fit_results('des', 'nugent')\n",
    "\n",
    "csp_snia_all, csp_snia_blue, csp_snia_red = get_fit_results('csp', 'salt_2_4')\n",
    "csp_91bg_all, csp_91bg_blue, csp_91bg_red = get_fit_results('csp', 'nugent')\n"
   ]
  },
  {
   "cell_type": "markdown",
   "metadata": {},
   "source": [
    "Next, we calculate the difference in normalized chi-squared values and plot the results. The resulting plot is simpler to Figure 3 in the 2014 paper."
   ]
  },
  {
   "cell_type": "code",
   "execution_count": null,
   "metadata": {},
   "outputs": [],
   "source": [
    "def calc_chisquared_diff(snia_blue, snia_red, bg_blue, bg_red):\n",
    "    \"\"\"Calculate the difference between the normalized chi-squared\n",
    "    of the Salt and 91bg model in restframe blue and red bands\n",
    "\n",
    "    Args:\n",
    "        snia_blue (DataFrame): Salt fit results in the resftram blue\n",
    "        snia_red  (DataFrame): Salt fit results in the resftram red\n",
    "        bg_blue   (DataFrame): 91bg fit results in the resftram blue\n",
    "        bg_red    (DataFrame): 91bg fit results in the resftram red\n",
    "        \n",
    "    Returns:\n",
    "        A DataFrame with columns 'red' and 'blue'\n",
    "    \"\"\"\n",
    "    \n",
    "    combined_snia = snia_blue.join(snia_red, lsuffix='_blue', rsuffix='_red')\n",
    "    combined_snia['chi_norm_blue'] = combined_snia['chi_blue'] / combined_snia['dof_blue']\n",
    "    combined_snia['chi_norm_red'] = combined_snia['chi_red'] / combined_snia['dof_red']\n",
    "    \n",
    "    combined_91bg = bg_blue.join(bg_red, lsuffix='_blue', rsuffix='_red')\n",
    "    combined_91bg['chi_norm_blue'] = combined_91bg['chi_blue'] / combined_91bg['dof_blue']\n",
    "    combined_91bg['chi_norm_red'] = combined_91bg['chi_red'] / combined_91bg['dof_red']\n",
    "    \n",
    "    # Calculate chi-squared differences\n",
    "    chi_squared_values = pd.DataFrame({\n",
    "        'blue': combined_snia['chi_norm_blue'] - combined_91bg['chi_norm_blue'],\n",
    "        'red': combined_snia['chi_norm_red'] - combined_91bg['chi_norm_red']\n",
    "    })\n",
    "    \n",
    "    return chi_squared_values.dropna()\n",
    "\n",
    "\n",
    "sdss_chi_diff = calc_chisquared_diff(sdss_snia_blue, sdss_snia_red, sdss_91bg_blue, sdss_91bg_red)\n",
    "des_chi_diff = calc_chisquared_diff(des_snia_blue, des_snia_red, des_91bg_blue, des_91bg_red)\n",
    "csp_chi_diff = calc_chisquared_diff(csp_snia_blue, csp_snia_red, csp_91bg_blue, csp_91bg_red)\n",
    "\n",
    "csp_chi_diff.head()\n"
   ]
  },
  {
   "cell_type": "code",
   "execution_count": null,
   "metadata": {},
   "outputs": [],
   "source": [
    "plt.scatter(sdss_chi_diff['blue'], sdss_chi_diff['red'], label='SDSS')\n",
    "plt.scatter(des_chi_diff['blue'], des_chi_diff['red'], label='DES')\n",
    "plt.scatter(csp_chi_diff['blue'], csp_chi_diff['red'], label='CSP')\n",
    "\n",
    "plt.axhline(0, linestyle='--', color='black', alpha=.6)\n",
    "plt.axvline(0, linestyle='--', color='black', alpha=.6)\n",
    "plt.xlabel(r'$\\chi^2_{blue}(Ia) - \\chi^2_{blue}(91bg)$', fontsize=14)\n",
    "plt.ylabel(r'$\\chi^2_{red}(Ia) - \\chi^2_{red}(91bg)$', fontsize=14)\n",
    "\n",
    "plt.show()\n"
   ]
  },
  {
   "cell_type": "markdown",
   "metadata": {},
   "source": [
    "We expect 91bg like supernovae to fall in the upper-right quadrant of the figure. Here we have drawn dashed lines intersecting at (0, 0) for visual reference only. A new set of lines will be generated later on to indicate a more carefully chosen set of boundaries to isolate 91bg like supernovae."
   ]
  },
  {
   "cell_type": "markdown",
   "metadata": {},
   "source": [
    "# Optimize FOM"
   ]
  },
  {
   "cell_type": "markdown",
   "metadata": {},
   "source": [
    "We use a figure of merit (FOM) parameter as an optimization parameter for training our classification. The FOM is defined as:\n",
    "\n",
    "$$FOM = \\frac{N_{true}}{N_{tot}} * \\frac{N_{true}}{N_{true} + N_{false}}$$\n",
    "\n",
    "where $N_{true}$ is the number of correctly identified objects of a given type (e.g. 91bg-like objects), $N_{tot}$ is the total input number of that type and $N_{false}$ is the number of objects. In order to calculate this parameter, we will need to construct a dataframe containing the known classifications of spectroscopically observed targets along with the chi-squared differences from above.\n"
   ]
  },
  {
   "cell_type": "code",
   "execution_count": null,
   "metadata": {
    "scrolled": false
   },
   "outputs": [],
   "source": [
    "csp_spec_class = Table.read('./csp_classifications.txt', format='ascii')\n",
    "csp_spec_class.keep_columns(['SN', 'Type'])\n",
    "csp_spec_class.rename_column('Type', 'type')\n",
    "\n",
    "# Remove rows without data or targets with inconclusive classifications\n",
    "csp_spec_class.remove_rows([0, 1])\n",
    "is_data = np.logical_not(csp_spec_class['type'] == '        ')\n",
    "csp_spec_class = csp_spec_class[is_data]\n",
    "\n",
    "classification_data = csp_spec_class.to_pandas()\n",
    "classification_data = classification_data.join(sdss_chi_diff)\n",
    "\n",
    "classification_data.head()\n"
   ]
  },
  {
   "cell_type": "markdown",
   "metadata": {},
   "source": [
    "Next we write a few functions to determine the optimal chi-squared boudaries based on the FOM."
   ]
  },
  {
   "cell_type": "code",
   "execution_count": null,
   "metadata": {},
   "outputs": [],
   "source": [
    "def calc_fom(dataframe, blue_cutoff, red_cutoff):\n",
    "    \"\"\"Calculate the figure of merrit for a set of classifications\n",
    "\n",
    "    FOM = (num_true / num_tot) X (num_true / (num_true + num_false))\n",
    "    \n",
    "    args:\n",
    "        num_tot   (float): Total input number of that type\n",
    "        num_true  (float): Number of correct classifications for a given type\n",
    "        num_false (float): Number of objects falsely classified for that type\n",
    "        \n",
    "    Returns:\n",
    "        The figure of merit value\n",
    "    \"\"\"\n",
    "    \n",
    "    is_91bg_true = dataframe['type'] == '91bg'\n",
    "    is_91bg_classified = (\n",
    "        (dataframe['blue'] > blue_cutoff)\n",
    "        & (dataframe['red'] > red_cutoff)\n",
    "    )\n",
    "\n",
    "    num_tot = sum(is_91bg_true)  # How to handle multiple types?\n",
    "    num_true = sum(is_91bg_true == is_91bg_classified)\n",
    "    num_false = len(dataframe) - num_true\n",
    "    return (num_true / num_tot) * (num_true / (num_true + num_false))\n",
    "\n",
    "\n",
    "initial_fom = calc_fom(classification_data, 0, 0)\n",
    "print(f'FOM at (0, 0): {initial_fom}\\n')\n",
    "\n",
    "inverse_fom = lambda args: 1 / calc_fom(classification_data, *args)\n",
    "result = optimize.minimize(inverse_fom, [0, 0])\n",
    "print('Optimization results:')\n",
    "print(result)\n"
   ]
  },
  {
   "cell_type": "code",
   "execution_count": null,
   "metadata": {},
   "outputs": [],
   "source": [
    "plt.scatter(sdss_chi_diff['blue'], sdss_chi_diff['red'], label='SDSS')\n",
    "plt.scatter(des_chi_diff['blue'], des_chi_diff['red'], label='DES')\n",
    "plt.scatter(csp_chi_diff['blue'], csp_chi_diff['red'], label='CSP')\n",
    "\n",
    "plt.axvline(0, linestyle='--', color='black', alpha=.6)\n",
    "plt.axhline(0, linestyle='--', color='black', alpha=.6)\n",
    "plt.axvline(result.x[0], linestyle='--', color='red', alpha=.6)\n",
    "plt.axhline(result.x[1], linestyle='--', color='red', alpha=.6, label=f'FOM = {1 / result.fun}')\n",
    "plt.xlabel(r'$\\chi^2_{blue}(Ia) - \\chi^2_{blue}(91bg)$', fontsize=14)\n",
    "plt.ylabel(r'$\\chi^2_{red}(Ia) - \\chi^2_{red}(91bg)$', fontsize=14)\n",
    "\n",
    "plt.legend()\n",
    "plt.show()\n"
   ]
  },
  {
   "cell_type": "markdown",
   "metadata": {},
   "source": [
    "## Bootstrap"
   ]
  },
  {
   "cell_type": "markdown",
   "metadata": {},
   "source": [
    "Now that we have a figure of merit optimization, we can bootstrap our data to determine our final classification parameters."
   ]
  },
  {
   "cell_type": "code",
   "execution_count": null,
   "metadata": {},
   "outputs": [],
   "source": [
    "# configure bootstrap\n",
    "n_iterations = 1000\n",
    "n_size = int(len(classification_data) * 0.50)\n",
    "\n",
    "# run bootstrap\n",
    "fom_values = []\n",
    "classification_params = []\n",
    "for i in range(n_iterations):\n",
    "    # prepare train and test sets\n",
    "    sample_data = resample(classification_data, n_samples=n_size)\n",
    "    inverse_fom = lambda args: 1 / calc_fom(classification_data, *args)\n",
    "    result = optimize.minimize(inverse_fom, [0, 0])\n",
    "    \n",
    "    fom_values.append(1 / result.fun)\n",
    "    classification_params.append(result.x)\n"
   ]
  },
  {
   "cell_type": "code",
   "execution_count": null,
   "metadata": {},
   "outputs": [],
   "source": [
    "def calc_confidence_intervals(alpha=0.95):\n",
    "    p = ((1 - alpha) / 2) * 100\n",
    "    lower = max(0, numpy.percentile(stats, p))\n",
    "    \n",
    "    p = (alpha + ((1 - alpha) / 2)) * 100\n",
    "    upper = min(1.0, numpy.percentile(stats, p))\n",
    "    \n",
    "    return lower, upper\n",
    "\n",
    "\n",
    "confidence = 0.95\n",
    "average_fom = np.average(fom_values)\n",
    "fom_interval = calc_confidence_intervals(confidence, fom_values)\n",
    "\n",
    "print(f'Average FOM: {average_fom}')\n",
    "print(f'{alpha*100:.1f} confidence interval {fom_interval[0]*100:.1f} and {fom_interval[1]*100:.1f}')\n",
    "\n",
    "average_params = np.average(classification_params, axis=1)\n",
    "blue_param_interval = np.average(classification_params[0], axis=1)\n",
    "red_param_interval = np.average(classification_params[1], axis=1)\n",
    "\n",
    "print(f'Average classification params: {average_params}')\n",
    "print(f'{alpha*100:.1f} confidence interval blue param {blue_param_interval[0]*100:.1f} and {blue_param_interval[1]*100:.1f}')\n",
    "print(f'{alpha*100:.1f} confidence interval red param {red_param_interval[0]*100:.1f} and {red_param_interval[1]*100:.1f}')\n"
   ]
  },
  {
   "cell_type": "code",
   "execution_count": null,
   "metadata": {},
   "outputs": [],
   "source": [
    "plt.scatter(sdss_chi_diff['blue'], sdss_chi_diff['red'], label='SDSS')\n",
    "plt.scatter(des_chi_diff['blue'], des_chi_diff['red'], label='DES')\n",
    "plt.scatter(csp_chi_diff['blue'], csp_chi_diff['red'], label='CSP')\n",
    "\n",
    "plt.axvline(0, linestyle='--', color='black', alpha=.6)\n",
    "plt.axhline(0, linestyle='--', color='black', alpha=.6)\n",
    "plt.axvline(average_params[0], linestyle='--', color='red', alpha=.6)\n",
    "plt.axhline(average_params[1], linestyle='--', color='red', alpha=.6, label=f'FOM = {1 / result.fun}')\n",
    "plt.xlabel(r'$\\chi^2_{blue}(Ia) - \\chi^2_{blue}(91bg)$', fontsize=14)\n",
    "plt.ylabel(r'$\\chi^2_{red}(Ia) - \\chi^2_{red}(91bg)$', fontsize=14)\n",
    "\n",
    "plt.legend()\n",
    "plt.show()\n"
   ]
  },
  {
   "cell_type": "code",
   "execution_count": null,
   "metadata": {},
   "outputs": [],
   "source": []
  }
 ],
 "metadata": {
  "kernelspec": {
   "display_name": "Python [conda env:sdss_classification_3.7]",
   "language": "python",
   "name": "conda-env-sdss_classification_3.7-py"
  },
  "language_info": {
   "codemirror_mode": {
    "name": "ipython",
    "version": 3
   },
   "file_extension": ".py",
   "mimetype": "text/x-python",
   "name": "python",
   "nbconvert_exporter": "python",
   "pygments_lexer": "ipython3",
   "version": "3.7.1"
  }
 },
 "nbformat": 4,
 "nbformat_minor": 2
}
