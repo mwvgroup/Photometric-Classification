{
 "cells": [
  {
   "cell_type": "markdown",
   "metadata": {},
   "source": [
    "# Apply Photometric Classification To Fit Results\n",
    "\n",
    "This notebook applies the photometric classification method from González-Gaitan 2014 to the SDSS and DES light-curve fits. Results are then used to analyze properties of peculiar supernovae."
   ]
  },
  {
   "cell_type": "code",
   "execution_count": null,
   "metadata": {},
   "outputs": [],
   "source": [
    "import numpy as np\n",
    "import pandas as pd\n",
    "\n",
    "from bokeh.io import output_notebook, show\n",
    "from bokeh.plotting import figure\n",
    "from bokeh.palettes import Category20\n"
   ]
  },
  {
   "cell_type": "markdown",
   "metadata": {},
   "source": [
    "## Combine summary tables from each fit run"
   ]
  },
  {
   "cell_type": "code",
   "execution_count": null,
   "metadata": {
    "scrolled": false
   },
   "outputs": [],
   "source": [
    "# Read in data from each fit run\n",
    "data_tables = []\n",
    "for fit_run in ('snia_ug', 'snia_riz', '91bg_ug', '91bg_riz'):\n",
    "    sdss_path = '../sncosmo/sdss_results/{}.csv'.format(fit_run)\n",
    "    des_path = '../sncosmo/des_results/{}.csv'.format(fit_run)\n",
    "    \n",
    "    sdss_data = pd.read_csv(sdss_path, index_col=0)\n",
    "    des_data = pd.read_csv(des_path, index_col=0)\n",
    "    \n",
    "    sdss_data = sdss_data.rename(columns={\n",
    "        'num_points_sdssu': 'num_points_u', \n",
    "        'num_points_sdssg': 'num_points_g',\n",
    "        'num_points_sdssr': 'num_points_r',\n",
    "        'num_points_sdssi': 'num_points_i',\n",
    "        'num_points_sdssz': 'num_points_z'\n",
    "    })\n",
    "    \n",
    "    des_data = des_data.rename(columns={\n",
    "        'num_points_desu': 'num_points_u', \n",
    "        'num_points_desg': 'num_points_g',\n",
    "        'num_points_desr': 'num_points_r',\n",
    "        'num_points_desi': 'num_points_i',\n",
    "        'num_points_desz': 'num_points_z'\n",
    "    })\n",
    "    \n",
    "    \n",
    "    combined_data = pd.concat([sdss_data, des_data], sort=False)\n",
    "    combined_data.fillna(value={'class': 'DES'}, inplace=True)\n",
    "    data_tables.append(combined_data)\n",
    "    \n",
    "\n",
    "# Combine data tables for snia and 91bg templates\n",
    "combined_snia = data_tables[0].join(data_tables[1], lsuffix='_ug', rsuffix='_riz')\n",
    "combined_snia['chi_norm_ug'] = combined_snia['chi_ug'] / combined_snia['dof_ug']\n",
    "combined_snia['chi_norm_riz'] = combined_snia['chi_riz'] / combined_snia['dof_riz']\n",
    "\n",
    "combined_91bg = data_tables[2].join(data_tables[3], lsuffix='_ug', rsuffix='_riz')\n",
    "combined_91bg['chi_norm_ug'] = combined_91bg['chi_ug'] / combined_91bg['dof_ug']\n",
    "combined_91bg['chi_norm_riz'] = combined_91bg['chi_riz'] / combined_91bg['dof_riz']\n",
    "\n",
    "# Calculate chi-squared differences\n",
    "chi_squared_values = pd.DataFrame({\n",
    "    'blue': combined_snia['chi_norm_ug'] - combined_91bg['chi_norm_ug'],\n",
    "    'red': combined_snia['chi_norm_riz'] - combined_91bg['chi_norm_riz'],\n",
    "    'class': combined_snia['class_ug']\n",
    "})\n"
   ]
  },
  {
   "cell_type": "markdown",
   "metadata": {},
   "source": [
    "## Preliminary Chi-squared Comparison"
   ]
  },
  {
   "cell_type": "code",
   "execution_count": null,
   "metadata": {},
   "outputs": [],
   "source": [
    "fig = figure(plot_width=600, plot_height=400, \n",
    "             tools=['save', 'pan', 'box_zoom', 'reset', 'wheel_zoom'])\n",
    "\n",
    "class_set = sorted(set(chi_squared_values['class']))\n",
    "for classification, color in zip(class_set, Category20[20]):\n",
    "    indices = chi_squared_values['class'] == classification\n",
    "    fig.circle(\n",
    "        chi_squared_values['blue'][indices], \n",
    "        chi_squared_values['red'][indices], \n",
    "        color=color, \n",
    "        legend=classification\n",
    "    )\n",
    "\n",
    "# Lagend and labels\n",
    "fig.legend.click_policy = \"hide\"\n",
    "new_legend = fig.legend[0]\n",
    "fig.legend[0].plot = None\n",
    "fig.add_layout(new_legend, 'left')\n",
    "fig.yaxis.axis_label = \"Chi2 Ia - Chi2 91bg (riz)\"\n",
    "fig.xaxis.axis_label = \"Chi2 Ia - Chi2 91bg (ug)\"\n",
    "\n",
    "output_notebook()\n",
    "show(fig)\n"
   ]
  },
  {
   "cell_type": "code",
   "execution_count": null,
   "metadata": {},
   "outputs": [],
   "source": []
  }
 ],
 "metadata": {
  "kernelspec": {
   "display_name": "Python 3",
   "language": "python",
   "name": "python3"
  },
  "language_info": {
   "codemirror_mode": {
    "name": "ipython",
    "version": 3
   },
   "file_extension": ".py",
   "mimetype": "text/x-python",
   "name": "python",
   "nbconvert_exporter": "python",
   "pygments_lexer": "ipython3",
   "version": "3.6.7"
  }
 },
 "nbformat": 4,
 "nbformat_minor": 2
}
