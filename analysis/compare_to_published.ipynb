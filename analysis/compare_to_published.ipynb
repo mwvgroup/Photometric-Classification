{
 "cells": [
  {
   "cell_type": "markdown",
   "metadata": {},
   "source": [
    "# Compare fit results to published values\n",
    "\n",
    "This notebook compares fit results from SNCosmo with fit results published by SDSS and DES."
   ]
  },
  {
   "cell_type": "code",
   "execution_count": null,
   "metadata": {
    "ExecuteTime": {
     "end_time": "2019-01-29T19:57:38.084459Z",
     "start_time": "2019-01-29T19:57:32.663826Z"
    }
   },
   "outputs": [],
   "source": [
    "import sys\n",
    "\n",
    "import numpy as np\n",
    "from astropy.table import Table, join\n",
    "from bokeh.io import output_notebook, show\n",
    "from bokeh.layouts import gridplot\n",
    "from bokeh.models import ColumnDataSource, HoverTool, Span\n",
    "from bokeh.plotting import figure\n",
    "from matplotlib import pyplot as plt\n",
    "\n",
    "sys.path.insert(0, '../')\n",
    "from data_access import sdss, des, csp\n"
   ]
  },
  {
   "cell_type": "code",
   "execution_count": null,
   "metadata": {
    "ExecuteTime": {
     "end_time": "2019-01-29T19:57:40.152819Z",
     "start_time": "2019-01-29T19:57:40.140235Z"
    }
   },
   "outputs": [],
   "source": [
    "# Set up bokeh plotting\n",
    "output_notebook()\n",
    "_basic_tools = \"save,pan,box_zoom,reset,wheel_zoom\".split(',')\n"
   ]
  },
  {
   "cell_type": "markdown",
   "metadata": {},
   "source": [
    "## Plotting functions\n",
    "\n",
    "Since we will be creating the same plots for multiple data sets, we create some generic plotting functions. We create a static version of the plot zoomed in to show detail, along with an interactive version that defaults to show all available data. Note that we assume the colum names of the data tables being plotted."
   ]
  },
  {
   "cell_type": "code",
   "execution_count": null,
   "metadata": {
    "ExecuteTime": {
     "end_time": "2019-01-29T19:57:42.584067Z",
     "start_time": "2019-01-29T19:57:42.391266Z"
    }
   },
   "outputs": [],
   "source": [
    "def create_static_figure(fit_data, survey_name):\n",
    "    \"\"\"Return a matplotlib figure comparing x0, x1, c, and chisq\n",
    "    of the published and SNCosmo fit values.\n",
    "    \n",
    "    Args:\n",
    "        fit_data  (Table): A table of data to plot\n",
    "        survey_name (str): Name of the survey being plotted\n",
    "        \n",
    "    Returns:\n",
    "         A matplotlib figure object\n",
    "    \"\"\"\n",
    "\n",
    "    fig, axes = plt.subplots(2, 3, figsize=(18, 12))\n",
    "    axes = axes.flatten()\n",
    "    line = (-20, 2000)\n",
    "\n",
    "    for axis, value in zip(axes, ['x0', 'x1', 'c']):\n",
    "        axis.plot(line, line, linestyle='--', color='grey')\n",
    "        axis.errorbar(fit_data['{}_{}'.format(value, survey_name)],\n",
    "                      fit_data['{}_sncosmo'.format(value)],\n",
    "                      xerr=fit_data['{}_{}_err'.format(value, survey_name)],\n",
    "                      yerr=fit_data['{}_err_sncosmo'.format(value)],\n",
    "                      linestyle='',\n",
    "                      alpha=.3)\n",
    "\n",
    "    reduced_chisq_survey = fit_data['chisq_{}'.format(survey_name)] / fit_data[\n",
    "        'ndof_{}'.format(survey_name)]\n",
    "    reduced_chisq_sncosmo = fit_data['chisq_sncosmo'] / fit_data[\n",
    "        'ndof_sncosmo']\n",
    "    axes[3].plot(line, line, linestyle='--', color='grey', alpha=.8)\n",
    "    axes[3].scatter(fit_data['chisq_{}'.format(survey_name)],\n",
    "                    fit_data['chisq_sncosmo'],\n",
    "                    alpha=.3, s=10)\n",
    "\n",
    "    axes[4].plot(line, line, linestyle='--', color='grey', alpha=.8)\n",
    "    axes[4].scatter(reduced_chisq_survey,\n",
    "                    reduced_chisq_sncosmo,\n",
    "                    alpha=.3, s=10)\n",
    "\n",
    "    axes[0].set_title('x0')\n",
    "    axes[0].set_ylabel('SNCosmo Fit ugriz')\n",
    "\n",
    "    axes[1].set_title('x1')\n",
    "\n",
    "    axes[2].set_title('c')\n",
    "    axes[2].set_xlabel('Published Value')\n",
    "    axes[2].set_ylabel('SNCosmo Fit ugriz')\n",
    "\n",
    "    axes[3].set_xlabel('Published Value')\n",
    "    axes[3].set_title('chisq')\n",
    "\n",
    "    axes[4].set_xlabel('Published Value')\n",
    "    axes[4].set_title('chisq_norm')\n",
    "\n",
    "    return axes\n",
    "\n",
    "\n",
    "def create_interactive_figure(fit_data, survey_name):\n",
    "    \"\"\"Return a bokeh figure comparing x0, x1, c, and chisq\n",
    "    of the published and SNCosmo fit values.\n",
    "    \n",
    "    Args:\n",
    "        fit_data  (Table): A table of data to plot\n",
    "        survey_name (str): Name of the survey being plotted\n",
    "        \n",
    "    Returns:\n",
    "         A bokeh figure object\n",
    "    \"\"\"\n",
    "\n",
    "    data_dict = {col.name: np.array(col) for col in fit_data.itercols()}\n",
    "    data_dict['chisq_norm_sncosmo'] = data_dict['chisq_sncosmo'] / data_dict[\n",
    "        'ndof_sncosmo']\n",
    "    data_dict['chisq_norm_{}'.format(survey_name)] = data_dict[\n",
    "                                                         'chisq_{}'.format(\n",
    "                                                             survey_name)] / \\\n",
    "                                                     data_dict[\n",
    "                                                         'ndof_{}'.format(\n",
    "                                                             survey_name)]\n",
    "    source = ColumnDataSource(data=data_dict)\n",
    "\n",
    "    hover = HoverTool(tooltips=[\n",
    "        (\"target\", \"@cid\"),\n",
    "        (\"class\", \"@class\"),\n",
    "        (\"z\", \"@z\"),\n",
    "        ('z_fit', '@fit_z'),\n",
    "        ('chisq_sncosmo', '@chisq_sncosmo'),\n",
    "        ('ndof_sncosmo', '@ndof_sncosmo'),\n",
    "    ])\n",
    "\n",
    "    figures = []\n",
    "    for value in ('x0', 'x1', 'c', 'chisq_norm'):\n",
    "        x_key, y_key = f'{value}_{survey_name}', f'{value}_sncosmo'\n",
    "        fig = figure(\n",
    "            tools=_basic_tools + [hover, 'box_select', 'lasso_select'],\n",
    "            title=value)\n",
    "        fig.circle(x_key, y_key, source=source, size=4, alpha=.5)\n",
    "\n",
    "        fig.line([min(data_dict[x_key]), max(data_dict[x_key])],\n",
    "                 [min(data_dict[x_key]), max(data_dict[x_key])],\n",
    "                 line_width=2)\n",
    "\n",
    "        fig.xaxis.axis_label = 'Published Value'\n",
    "        fig.yaxis.axis_label = 'SNCosmo Fit ugriz'\n",
    "        figures.append(fig)\n",
    "\n",
    "    return gridplot(figures, ncols=2, plot_width=350, plot_height=350)\n"
   ]
  },
  {
   "cell_type": "markdown",
   "metadata": {},
   "source": [
    "## SDSS\n",
    "\n",
    "We create a table to store both the published and SNCosmo fit results for SDSS. Then we plot correlations between both data sets for the fit parameters x0, x1 (stretch), and c (color) along with normalized chi-squared."
   ]
  },
  {
   "cell_type": "code",
   "execution_count": null,
   "metadata": {
    "ExecuteTime": {
     "end_time": "2019-01-29T19:57:51.595792Z",
     "start_time": "2019-01-29T19:57:48.230607Z"
    },
    "scrolled": false
   },
   "outputs": [],
   "source": [
    "# Get SDSS published data\n",
    "sdss_published = sdss.master_table[\n",
    "    'CID',\n",
    "    'x0SALT2zspec',\n",
    "    'x0errSALT2zspec',\n",
    "    'x1SALT2zspec',\n",
    "    'x1errSALT2zspec',\n",
    "    'cSALT2zspec',\n",
    "    'cerrSALT2zspec',\n",
    "    'chi2SALT2zspec',\n",
    "    'ndofSALT2zspec'\n",
    "]\n",
    "\n",
    "# Rename columns for consistancy\n",
    "sdss_published.rename_column('CID', 'cid')\n",
    "sdss_published.rename_column('x0SALT2zspec', 'x0_sdss')\n",
    "sdss_published.rename_column('x0errSALT2zspec', 'x0_sdss_err')\n",
    "sdss_published.rename_column('x1SALT2zspec', 'x1_sdss')\n",
    "sdss_published.rename_column('x1errSALT2zspec', 'x1_sdss_err')\n",
    "sdss_published.rename_column('cSALT2zspec', 'c_sdss')\n",
    "sdss_published.rename_column('cerrSALT2zspec', 'c_sdss_err')\n",
    "sdss_published.rename_column('chi2SALT2zspec', 'chisq_sdss')\n",
    "sdss_published.rename_column('ndofSALT2zspec', 'ndof_sdss')\n",
    "\n",
    "# Get SNCosmo fit data\n",
    "sdss_sncosmo = Table.read('../sncosmo_fits/sdss_results/snia_ugriz.csv')\n",
    "sdss_sncosmo.rename_column('x0', 'x0_sncosmo')\n",
    "sdss_sncosmo.rename_column('x0_err', 'x0_err_sncosmo')\n",
    "sdss_sncosmo.rename_column('x1', 'x1_sncosmo')\n",
    "sdss_sncosmo.rename_column('x1_err', 'x1_err_sncosmo')\n",
    "sdss_sncosmo.rename_column('c', 'c_sncosmo')\n",
    "sdss_sncosmo.rename_column('c_err', 'c_err_sncosmo')\n",
    "sdss_sncosmo.rename_column('chi', 'chisq_sncosmo')\n",
    "sdss_sncosmo.rename_column('dof', 'ndof_sncosmo')\n",
    "\n",
    "# Combine tables and keep only SN with published fits\n",
    "combined_sdss = join(sdss_sncosmo, sdss_published)\n",
    "combined_sdss = combined_sdss[~combined_sdss['x0_sdss'].mask]\n",
    "combined_sdss[:5].show_in_notebook()\n"
   ]
  },
  {
   "cell_type": "code",
   "execution_count": null,
   "metadata": {
    "ExecuteTime": {
     "end_time": "2019-01-29T19:57:54.414872Z",
     "start_time": "2019-01-29T19:57:51.599854Z"
    }
   },
   "outputs": [],
   "source": [
    "plot_axes = create_static_figure(combined_sdss, 'sdss')\n",
    "\n",
    "plot_axes[0].set_xlim(0, .0025)\n",
    "plot_axes[0].set_ylim(0, .0025)\n",
    "plot_axes[1].set_xlim(-10, 10)\n",
    "plot_axes[1].set_ylim(-10, 10)\n",
    "plot_axes[2].set_xlim(-1, 1)\n",
    "plot_axes[2].set_ylim(-1, 1)\n",
    "plot_axes[3].set_xlim(0, 200)\n",
    "plot_axes[3].set_ylim(0, 200)\n",
    "plot_axes[4].set_xlim(0, 5)\n",
    "plot_axes[4].set_ylim(0, 5)\n",
    "\n",
    "plt.show()\n"
   ]
  },
  {
   "cell_type": "code",
   "execution_count": null,
   "metadata": {
    "scrolled": false
   },
   "outputs": [],
   "source": [
    "plot_grid = create_interactive_figure(combined_sdss, 'sdss')\n",
    "show(plot_grid)\n"
   ]
  },
  {
   "cell_type": "markdown",
   "metadata": {},
   "source": [
    "Note the disagreement of the `x0` values. Having no explanation, for the time being, we settle on characterizing the slope of the relationship and move on."
   ]
  },
  {
   "cell_type": "code",
   "execution_count": null,
   "metadata": {},
   "outputs": [],
   "source": [
    "x = combined_sdss['x0_sdss']\n",
    "y = combined_sdss['x0_sncosmo']\n",
    "is_not_nan = ~np.isnan(y)\n",
    "\n",
    "np.polyfit(x[is_not_nan], y[is_not_nan], 1)\n"
   ]
  },
  {
   "cell_type": "markdown",
   "metadata": {},
   "source": [
    "## DES"
   ]
  },
  {
   "cell_type": "code",
   "execution_count": null,
   "metadata": {
    "scrolled": false
   },
   "outputs": [],
   "source": [
    "# Get DES published data\n",
    "des_published = des.master_table[\n",
    "    'CID',\n",
    "    'x0',\n",
    "    'x0ERR',\n",
    "    'x1',\n",
    "    'x1ERR',\n",
    "    'c',\n",
    "    'cERR',\n",
    "    'FITCHI2',\n",
    "    'NDOF'\n",
    "]\n",
    "\n",
    "des_published.rename_column('CID', 'cid')\n",
    "des_published.rename_column('x0', 'x0_des')\n",
    "des_published.rename_column('x0ERR', 'x0_des_err')\n",
    "des_published.rename_column('x1', 'x1_des')\n",
    "des_published.rename_column('x1ERR', 'x1_des_err')\n",
    "des_published.rename_column('c', 'c_des')\n",
    "des_published.rename_column('cERR', 'c_des_err')\n",
    "des_published.rename_column('FITCHI2', 'chisq_des')\n",
    "des_published.rename_column('NDOF', 'ndof_des')\n",
    "\n",
    "# Get SNCosmo fit data\n",
    "des_sncosmo = Table.read('../sncosmo_fits/des_results/snia_ugriz.csv')\n",
    "des_sncosmo.rename_column('x0', 'x0_sncosmo')\n",
    "des_sncosmo.rename_column('x0_err', 'x0_err_sncosmo')\n",
    "des_sncosmo.rename_column('x1', 'x1_sncosmo')\n",
    "des_sncosmo.rename_column('x1_err', 'x1_err_sncosmo')\n",
    "des_sncosmo.rename_column('c', 'c_sncosmo')\n",
    "des_sncosmo.rename_column('c_err', 'c_err_sncosmo')\n",
    "des_sncosmo.rename_column('chi', 'chisq_sncosmo')\n",
    "des_sncosmo.rename_column('dof', 'ndof_sncosmo')\n",
    "des_sncosmo['cid'] = [str(x) for x in des_sncosmo['cid']]\n",
    "\n",
    "# Combine tables and keep only SN with published fits\n",
    "combined_des = join(des_sncosmo, des_published)\n",
    "combined_des[:5].show_in_notebook()\n"
   ]
  },
  {
   "cell_type": "code",
   "execution_count": null,
   "metadata": {},
   "outputs": [],
   "source": [
    "plot_axes = create_static_figure(combined_des, 'des')\n",
    "\n",
    "plot_axes[0].set_xlim(0, 5e-4)\n",
    "plot_axes[0].set_ylim(0, 5e-4)\n",
    "plot_axes[1].set_xlim(-5.5, 5.5)\n",
    "plot_axes[1].set_ylim(-5.5, 5.5)\n",
    "plot_axes[2].set_xlim(-1, 1)\n",
    "plot_axes[2].set_ylim(-1, 1)\n",
    "plot_axes[3].set_xlim(0, 70)\n",
    "plot_axes[3].set_ylim(0, 200)\n",
    "plot_axes[4].set_xlim(0, 2)\n",
    "plot_axes[4].set_ylim(0, 8)\n",
    "\n",
    "plt.show()\n"
   ]
  },
  {
   "cell_type": "code",
   "execution_count": null,
   "metadata": {},
   "outputs": [],
   "source": [
    "plot_grid = create_interactive_figure(combined_des, 'des')\n",
    "show(plot_grid)\n"
   ]
  }
 ],
 "metadata": {
  "kernelspec": {
   "display_name": "Python [conda env:sdss_classification_3.7]",
   "language": "python",
   "name": "conda-env-sdss_classification_3.7-py"
  },
  "language_info": {
   "codemirror_mode": {
    "name": "ipython",
    "version": 3
   },
   "file_extension": ".py",
   "mimetype": "text/x-python",
   "name": "python",
   "nbconvert_exporter": "python",
   "pygments_lexer": "ipython3",
   "version": "3.7.1"
  }
 },
 "nbformat": 4,
 "nbformat_minor": 2
}
