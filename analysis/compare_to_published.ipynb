{
 "cells": [
  {
   "cell_type": "markdown",
   "metadata": {},
   "source": [
    "# Compare fit results to published values\n",
    "\n",
    "This notebook compares fit results from SNCosmo with fit results published by SDSS and DES."
   ]
  },
  {
   "cell_type": "code",
   "execution_count": null,
   "metadata": {
    "ExecuteTime": {
     "end_time": "2019-01-29T19:57:38.084459Z",
     "start_time": "2019-01-29T19:57:32.663826Z"
    }
   },
   "outputs": [],
   "source": [
    "import numpy as np\n",
    "import sncosmo\n",
    "from astropy.table import Table, join\n",
    "from matplotlib import pyplot as plt\n",
    "\n",
    "from bokeh.io import output_notebook, show\n",
    "from bokeh.plotting import figure\n",
    "from bokeh.models import Span, HoverTool, ColumnDataSource\n",
    "from bokeh.layouts import gridplot\n",
    "from tqdm import tqdm\n",
    "\n",
    "import sys; sys.path.insert(0, '../')\n",
    "from data_access import sdss_data, des_data"
   ]
  },
  {
   "cell_type": "code",
   "execution_count": null,
   "metadata": {
    "ExecuteTime": {
     "end_time": "2019-01-29T19:57:40.152819Z",
     "start_time": "2019-01-29T19:57:40.140235Z"
    }
   },
   "outputs": [],
   "source": [
    "# Set up bokeh plotting\n",
    "output_notebook()\n",
    "_basic_tools = \"save,pan,box_zoom,reset,wheel_zoom\".split(',')\n"
   ]
  },
  {
   "cell_type": "markdown",
   "metadata": {},
   "source": [
    "## Plotting functions\n",
    "\n",
    "Since we will be creating the same plots for multiple data sets, we create some generic plotting functions. We create a static version of the plot zoomed in to show detail, along with an interactive version that defaults to show all available data. Note that we assume the colum names of the data tables being plotted."
   ]
  },
  {
   "cell_type": "code",
   "execution_count": null,
   "metadata": {
    "ExecuteTime": {
     "end_time": "2019-01-29T19:57:42.584067Z",
     "start_time": "2019-01-29T19:57:42.391266Z"
    }
   },
   "outputs": [],
   "source": [
    "def create_static_figure(fit_data, survey_name):\n",
    "    \"\"\"Return a matplotlib figure comparing x0, x1, c, and chisq\n",
    "    of the published and SNCosmo fit values.\n",
    "    \n",
    "    Args:\n",
    "        fit_data  (Table): A table of data to plot\n",
    "        survey_name (str): Name of the survey being plotted\n",
    "        \n",
    "    Returns:\n",
    "         A matplotlib figure object\n",
    "    \"\"\"\n",
    "    \n",
    "    fig, axes = plt.subplots(2, 3, figsize=(18, 12))\n",
    "    axes = axes.flatten()\n",
    "    line = (-20, 2000)\n",
    "\n",
    "    for axis, value in zip(axes, ['x0', 'x1', 'c']):\n",
    "        axis.plot(line, line, linestyle='--', color='grey')\n",
    "        axis.errorbar(fit_data['{}_{}'.format(value, survey_name)], \n",
    "                      fit_data['{}_sncosmo'.format(value)], \n",
    "                      xerr=fit_data['{}_{}_err'.format(value, survey_name)],\n",
    "                      yerr=fit_data['{}_err_sncosmo'.format(value)], \n",
    "                      linestyle='',\n",
    "                      alpha=.3)\n",
    "\n",
    "    \n",
    "    reduced_chisq_survey = fit_data['chisq_{}'.format(survey_name)] / fit_data['ndof_{}'.format(survey_name)]\n",
    "    reduced_chisq_sncosmo = fit_data['chisq_sncosmo'] / fit_data['ndof_sncosmo']\n",
    "    axes[3].plot(line, line, linestyle='--', color='grey', alpha=.8)\n",
    "    axes[3].scatter(fit_data['chisq_{}'.format(survey_name)], \n",
    "                    fit_data['chisq_sncosmo'], \n",
    "                    alpha=.3, s=10)\n",
    "    \n",
    "    axes[4].plot(line, line, linestyle='--', color='grey', alpha=.8)\n",
    "    axes[4].scatter(reduced_chisq_survey, \n",
    "                    reduced_chisq_sncosmo, \n",
    "                    alpha=.3, s=10)\n",
    "\n",
    "    axes[0].set_title('x0')\n",
    "    axes[0].set_ylabel('SNCosmo Fit ugriz')\n",
    "\n",
    "    axes[1].set_title('x1')\n",
    "\n",
    "    axes[2].set_title('c')\n",
    "    axes[2].set_xlabel('Published Value')\n",
    "    axes[2].set_ylabel('SNCosmo Fit ugriz')\n",
    "\n",
    "    axes[3].set_xlabel('Published Value')\n",
    "    axes[3].set_title('chisq')\n",
    "    \n",
    "    axes[4].set_xlabel('Published Value')\n",
    "    axes[4].set_title('chisq_norm')\n",
    "    \n",
    "    return axes\n",
    "\n",
    "\n",
    "def create_interactive_figure(fit_data, survey_name):\n",
    "    \"\"\"Return a bokeh figure comparing x0, x1, c, and chisq\n",
    "    of the published and SNCosmo fit values.\n",
    "    \n",
    "    Args:\n",
    "        fit_data  (Table): A table of data to plot\n",
    "        survey_name (str): Name of the survey being plotted\n",
    "        \n",
    "    Returns:\n",
    "         A bokeh figure object\n",
    "    \"\"\"\n",
    "    \n",
    "    data_dict = {col.name: np.array(col) for col in fit_data.itercols()}\n",
    "    data_dict['chisq_norm_sncosmo'] = data_dict['chisq_sncosmo'] / data_dict['ndof_sncosmo']\n",
    "    data_dict['chisq_norm_{}'.format(survey_name)] = data_dict['chisq_{}'.format(survey_name)] / data_dict['ndof_{}'.format(survey_name)]\n",
    "    source = ColumnDataSource(data=data_dict)\n",
    "\n",
    "    hover = HoverTool(tooltips=[\n",
    "            (\"target\", \"@cid\"),\n",
    "            (\"class\", \"@class\"),\n",
    "            (\"z\", \"@z\"),\n",
    "            ('z_fit', '@fit_z'),\n",
    "            ('chi2', '@chi'),\n",
    "            ('dof', '@dof'),\n",
    "        ])\n",
    "\n",
    "    figures = []\n",
    "    for value in ('x0', 'x1', 'c', 'chisq_norm'):\n",
    "        fig = figure(tools=_basic_tools + [hover, 'box_select', 'lasso_select'], title=value)\n",
    "        fig.circle('{}_{}'.format(value, survey_name), \n",
    "                   '{}_sncosmo'.format(value), \n",
    "                   source=source, size=4, alpha=.5)\n",
    "        \n",
    "        fig.xaxis.axis_label = 'Published Value'\n",
    "        fig.yaxis.axis_label = 'SNCosmo Fit ugriz'\n",
    "        figures.append(fig)\n",
    "    \n",
    "    return gridplot(figures, ncols=2, plot_width=350, plot_height=350)\n"
   ]
  },
  {
   "cell_type": "markdown",
   "metadata": {},
   "source": [
    "## SDSS\n",
    "\n",
    "We create a table to store both the published and SNCosmo fit results for SDSS. Then we plot correlations between both data sets for the fit parameters x0, x1 (stretch), and c (color) along with normalized chi-squared."
   ]
  },
  {
   "cell_type": "code",
   "execution_count": null,
   "metadata": {
    "ExecuteTime": {
     "end_time": "2019-01-29T19:57:51.595792Z",
     "start_time": "2019-01-29T19:57:48.230607Z"
    },
    "scrolled": false
   },
   "outputs": [],
   "source": [
    "# Get SDSS published data\n",
    "sdss_published = sdss_data.master_table[\n",
    "    'CID',\n",
    "    'x0SALT2zspec', \n",
    "    'x0errSALT2zspec', \n",
    "    'x1SALT2zspec', \n",
    "    'x1errSALT2zspec', \n",
    "    'cSALT2zspec', \n",
    "    'cerrSALT2zspec',\n",
    "    'chi2SALT2zspec',\n",
    "    'ndofSALT2zspec'\n",
    "]\n",
    "\n",
    "# Rename columns for consistancy\n",
    "sdss_published.rename_column('CID', 'cid')\n",
    "sdss_published.rename_column('x0SALT2zspec', 'x0_sdss')\n",
    "sdss_published.rename_column('x0errSALT2zspec', 'x0_sdss_err')\n",
    "sdss_published.rename_column('x1SALT2zspec', 'x1_sdss')\n",
    "sdss_published.rename_column('x1errSALT2zspec', 'x1_sdss_err')\n",
    "sdss_published.rename_column('cSALT2zspec', 'c_sdss')\n",
    "sdss_published.rename_column('cerrSALT2zspec', 'c_sdss_err')\n",
    "sdss_published.rename_column('chi2SALT2zspec', 'chisq_sdss')\n",
    "sdss_published.rename_column('ndofSALT2zspec', 'ndof_sdss')\n",
    "\n",
    "# Get SNCosmo fit data\n",
    "sdss_sncosmo = Table.read('../sncosmo/sdss_results/snia_ugriz.csv')\n",
    "sdss_sncosmo.rename_column('x0', 'x0_sncosmo')\n",
    "sdss_sncosmo.rename_column('x0_err', 'x0_err_sncosmo')\n",
    "sdss_sncosmo.rename_column('x1', 'x1_sncosmo')\n",
    "sdss_sncosmo.rename_column('x1_err', 'x1_err_sncosmo')\n",
    "sdss_sncosmo.rename_column('c', 'c_sncosmo')\n",
    "sdss_sncosmo.rename_column('c_err', 'c_err_sncosmo')\n",
    "sdss_sncosmo.rename_column('chi', 'chisq_sncosmo')\n",
    "sdss_sncosmo.rename_column('dof', 'ndof_sncosmo')\n",
    "\n",
    "# Combine tables and keep only SN with published fits\n",
    "combined_sdss = join(sdss_sncosmo, sdss_published)\n",
    "combined_sdss = combined_sdss[~combined_sdss['x0_sdss'].mask]   \n",
    "combined_sdss[:5].show_in_notebook()\n"
   ]
  },
  {
   "cell_type": "code",
   "execution_count": null,
   "metadata": {
    "ExecuteTime": {
     "end_time": "2019-01-29T19:57:54.414872Z",
     "start_time": "2019-01-29T19:57:51.599854Z"
    }
   },
   "outputs": [],
   "source": [
    "# Consider only type 1a objects\n",
    "fit_data = combined_sdss[combined_sdss['class'] == 'SNIa']\n",
    "plot_axes = create_static_figure(fit_data, 'sdss')\n",
    "\n",
    "plot_axes[0].set_xlim(0, .003)\n",
    "plot_axes[0].set_ylim(0, .003)\n",
    "plot_axes[1].set_xlim(-10, 10)\n",
    "plot_axes[1].set_ylim(-10, 10)\n",
    "plot_axes[2].set_xlim(-1, 1)\n",
    "plot_axes[2].set_ylim(-1, 1)\n",
    "plot_axes[3].set_xlim(0, 200)\n",
    "plot_axes[3].set_ylim(0, 1000)\n",
    "plot_axes[4].set_xlim(0, 10)\n",
    "plot_axes[4].set_ylim(0, 20)\n",
    "\n",
    "plt.show()"
   ]
  },
  {
   "cell_type": "code",
   "execution_count": null,
   "metadata": {
    "scrolled": false
   },
   "outputs": [],
   "source": [
    "plot_grid = create_interactive_figure(combined_sdss, 'sdss')\n",
    "show(plot_grid)\n"
   ]
  },
  {
   "cell_type": "markdown",
   "metadata": {},
   "source": [
    "## DES\n",
    "\n",
    "As before, we create a table to store both the published and SNCosmo fit results and plot the correlation."
   ]
  },
  {
   "cell_type": "code",
   "execution_count": null,
   "metadata": {
    "scrolled": false
   },
   "outputs": [],
   "source": [
    "# Get DES published data\n",
    "des_published = des_data.master_table[\n",
    "    'CID',\n",
    "    'x0',\n",
    "    'x0ERR',\n",
    "    'x1',\n",
    "    'x1ERR',\n",
    "    'c',\n",
    "    'cERR',\n",
    "    'FITCHI2',\n",
    "    'NDOF'\n",
    "]\n",
    "\n",
    "des_published.rename_column('CID', 'cid')\n",
    "des_published.rename_column('x0', 'x0_des')\n",
    "des_published.rename_column('x0ERR', 'x0_des_err')\n",
    "des_published.rename_column('x1', 'x1_des')\n",
    "des_published.rename_column('x1ERR', 'x1_des_err')\n",
    "des_published.rename_column('c', 'c_des')\n",
    "des_published.rename_column('cERR', 'c_des_err')\n",
    "des_published.rename_column('FITCHI2', 'chisq_des')\n",
    "des_published.rename_column('NDOF', 'ndof_des')\n",
    "\n",
    "# Get SNCosmo fit data\n",
    "des_sncosmo = Table.read('../sncosmo/des_results/snia_ugriz.csv')\n",
    "des_sncosmo.rename_column('x0', 'x0_sncosmo')\n",
    "des_sncosmo.rename_column('x0_err', 'x0_err_sncosmo')\n",
    "des_sncosmo.rename_column('x1', 'x1_sncosmo')\n",
    "des_sncosmo.rename_column('x1_err', 'x1_err_sncosmo')\n",
    "des_sncosmo.rename_column('c', 'c_sncosmo')\n",
    "des_sncosmo.rename_column('c_err', 'c_err_sncosmo')\n",
    "des_sncosmo.rename_column('chi', 'chisq_sncosmo')\n",
    "des_sncosmo.rename_column('dof', 'ndof_sncosmo')\n",
    "des_sncosmo['cid'] = [str(x) for x in des_sncosmo['cid']]\n",
    "\n",
    "# Combine tables and keep only SN with published fits\n",
    "combined_des = join(des_sncosmo, des_published)\n",
    "combined_des[:5].show_in_notebook()\n"
   ]
  },
  {
   "cell_type": "code",
   "execution_count": null,
   "metadata": {},
   "outputs": [],
   "source": [
    "plot_axes = create_static_figure(combined_des, 'des')\n",
    "\n",
    "plot_axes[0].set_xlim(0, 5e-4)\n",
    "plot_axes[0].set_ylim(0, 5e-4)\n",
    "plot_axes[1].set_xlim(-5.5, 5.5)\n",
    "plot_axes[1].set_ylim(-5.5, 5.5)\n",
    "plot_axes[2].set_xlim(-1, 1)\n",
    "plot_axes[2].set_ylim(-1, 1)\n",
    "plot_axes[3].set_xlim(0, 70)\n",
    "plot_axes[3].set_ylim(0, 200)\n",
    "plot_axes[4].set_xlim(0, 2)\n",
    "plot_axes[4].set_ylim(0, 8)\n",
    "\n",
    "plt.show()\n"
   ]
  },
  {
   "cell_type": "code",
   "execution_count": null,
   "metadata": {},
   "outputs": [],
   "source": [
    "plot_grid = create_interactive_figure(combined_des, 'des')\n",
    "show(plot_grid)\n"
   ]
  },
  {
   "cell_type": "markdown",
   "metadata": {},
   "source": [
    "## Exploring disagreements bewteen DES results\n",
    "\n",
    "Lets inspect a few light curves where the chi-squared values differ significantly between the published and SNCsomo fit results. We can then fit the lightcurve in SNCosmo with and without specifying the published value of each parameter and compare the results.\n"
   ]
  },
  {
   "cell_type": "code",
   "execution_count": null,
   "metadata": {
    "scrolled": false
   },
   "outputs": [],
   "source": [
    "test_ids = (1330031, 1330426)\n",
    "\n",
    "for test_id in test_ids:\n",
    "    input_table = des_data.get_input_for_id(test_id)\n",
    "\n",
    "    # Get published values\n",
    "    published_values = des_published[des_published['cid'] == str(test_id)]\n",
    "    x0 = published_values['x0_des'][0]\n",
    "    x1 = published_values['x1_des'][0]\n",
    "    c = published_values['c_des'][0]\n",
    "    chisq_norm = published_values['chisq_des'][0] / published_values['ndof_des'][0]\n",
    "\n",
    "    print('Published Values for {}:'.format(test_id))\n",
    "    print('x0: ', x0)\n",
    "    print('x1: ', x1)\n",
    "    print('c: ', c)\n",
    "    print('chisq_norm: ', chisq_norm)\n",
    "\n",
    "    print('\\n\\nFitting for all terms except z:')\n",
    "    model = sncosmo.Model(source='salt2')\n",
    "    model.set(z=input_table.meta['redshift'])\n",
    "\n",
    "    result, fitted_model = sncosmo.fit_lc(input_table, model, ['t0', 'x0', 'x1', 'c'], bounds=None)\n",
    "    result['chi2_norm'] = (result.chisq / result.ndof)\n",
    "    sncosmo.plot_lc(input_table, model=fitted_model, errors=result.errors)\n",
    "    plt.show()\n",
    "    print(result)\n",
    "\n",
    "    print('\\n\\nFitting with fixed, published values:')\n",
    "    model.set(z=input_table.meta['redshift'], x0=x0, x1=x1, c=c)\n",
    "    result, fitted_model = sncosmo.fit_lc(input_table, model, ['t0'], bounds=None)\n",
    "    result['chi2_norm'] = (result.chisq / result.ndof)\n",
    "    sncosmo.plot_lc(input_table, model=fitted_model, errors=result.errors)\n",
    "    plt.show()\n",
    "    print(result)\n",
    "    print('\\n\\n\\n')"
   ]
  },
  {
   "cell_type": "markdown",
   "metadata": {},
   "source": [
    "Next we run fits for all DES targets fitting only for `t0`. All other parameters are set to published values."
   ]
  },
  {
   "cell_type": "code",
   "execution_count": null,
   "metadata": {
    "scrolled": false
   },
   "outputs": [],
   "source": [
    "col_names = ['cid', 'z_sncosmo','t0_sncosmo', \n",
    "             'x0_sncosmo', 'x1_sncosmo', 'c_sncosmo', \n",
    "             'chisq_sncosmo', 'ndof_sncosmo']\n",
    "\n",
    "test_fit_results = Table(names=col_names,\n",
    "    dtype = ['S30'] + [float for _ in col_names[:-1]],\n",
    ")\n",
    "\n",
    "for input_table in des_data.iter_sncosmo_input(verbose=True):\n",
    "    cid = str(input_table.meta['cid'])\n",
    "    published_values = des_published[des_published['cid'] == cid]\n",
    "    x0 = published_values['x0_des']\n",
    "    x1 = published_values['x1_des']\n",
    "    c = published_values['c_des']\n",
    "    \n",
    "    model = sncosmo.Model(source='salt2')\n",
    "    model.set(z=input_table.meta['redshift'], x0=x0, x1=x1, c=c)\n",
    "    \n",
    "    try:\n",
    "        result, fitted_model = sncosmo.fit_lc(\n",
    "            input_table, model, ['t0'], bounds=None)\n",
    "\n",
    "        new_row = [cid]\n",
    "        new_row.extend(result.parameters)\n",
    "        new_row.append(result.chisq)\n",
    "        new_row.append(result.ndof)\n",
    "        test_fit_results.add_row(new_row)\n",
    "        \n",
    "    except:\n",
    "        tqdm.write('Failed: ' + cid)\n",
    "\n"
   ]
  },
  {
   "cell_type": "code",
   "execution_count": null,
   "metadata": {},
   "outputs": [],
   "source": [
    "plot_data = join(test_fit_results, des_published)\n",
    "plot_grid = create_interactive_figure(plot_data, 'des')\n",
    "show(plot_grid)\n"
   ]
  },
  {
   "cell_type": "code",
   "execution_count": null,
   "metadata": {},
   "outputs": [],
   "source": []
  }
 ],
 "metadata": {
  "kernelspec": {
   "display_name": "Python [conda env:sdss_classification_2.7]",
   "language": "python",
   "name": "conda-env-sdss_classification_2.7-py"
  },
  "language_info": {
   "codemirror_mode": {
    "name": "ipython",
    "version": 2
   },
   "file_extension": ".py",
   "mimetype": "text/x-python",
   "name": "python",
   "nbconvert_exporter": "python",
   "pygments_lexer": "ipython2",
   "version": "2.7.15"
  }
 },
 "nbformat": 4,
 "nbformat_minor": 2
}
