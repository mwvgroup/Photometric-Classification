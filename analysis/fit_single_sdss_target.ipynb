{
 "cells": [
  {
   "cell_type": "code",
   "execution_count": null,
   "metadata": {},
   "outputs": [],
   "source": [
    "import numpy as np\n",
    "import sncosmo\n",
    "from astropy.table import Table\n",
    "from matplotlib import pyplot as plt\n",
    "\n",
    "import sys; sys.path.insert(0, '../')\n",
    "from data_access import sdss\n"
   ]
  },
  {
   "cell_type": "markdown",
   "metadata": {},
   "source": [
    "## Get SDSS published table of spectroscopically confirmed SNIa"
   ]
  },
  {
   "cell_type": "code",
   "execution_count": null,
   "metadata": {
    "scrolled": false
   },
   "outputs": [],
   "source": [
    "spec_confirmed_sn = sdss_data.master_table[sdss_data.master_table['Classification'] == 'zSNIa']\n",
    "spec_confirmed_sn.show_in_notebook(display_length=10)"
   ]
  },
  {
   "cell_type": "markdown",
   "metadata": {},
   "source": [
    "## Pick an arbitrary target and look at the light curve"
   ]
  },
  {
   "cell_type": "code",
   "execution_count": null,
   "metadata": {
    "scrolled": false
   },
   "outputs": [],
   "source": [
    "test_id = 822\n",
    "\n",
    "# Get fit published values\n",
    "published_values = sdss_data.master_table[sdss_data.master_table['CID'] == test_id]\n",
    "x0 = published_values['x0SALT2zspec'][0]\n",
    "x1 = published_values['x1SALT2zspec'][0]\n",
    "c = published_values['cSALT2zspec'][0]\n",
    "chisq_norm = published_values['chi2SALT2zspec'][0] / published_values['ndofSALT2zspec'][0]\n",
    "peak_mjd = published_values['MJDatPeakrmag'][0]\n",
    "\n",
    "print('Published Values for CID {}:'.format(test_id))\n",
    "print('x0: ', x0)\n",
    "print('x1: ', x1)\n",
    "print('c: ', c)\n",
    "print('chisq: ', published_values['chi2SALT2zspec'][0])\n",
    "print('ndof: ', published_values['ndofSALT2zspec'][0])\n",
    "print('chisq_norm: ', chisq_norm)\n",
    "\n",
    "# Get sdss photometry data\n",
    "phot_data = sdss_data.get_data_for_id(test_id)\n",
    "phot_data = phot_data[phot_data['FLAG'] < 1024]\n",
    "phot_data = phot_data[phot_data['MJD'] < peak_mjd + 45]\n",
    "phot_data = phot_data[phot_data['MJD'] > peak_mjd - 15]\n",
    "\n",
    "fig, axes = plt.subplots(1, 5, figsize=(15, 3))\n",
    "for i in range(5):\n",
    "    band_data = phot_data[phot_data['FILT'] == i]\n",
    "    axes[i].scatter(band_data['MJD'], band_data['MAG'])\n",
    "    axes[i].errorbar(band_data['MJD'], band_data['MAG'], yerr=band_data['MERR'], linestyle='')\n",
    "\n",
    "plt.show()\n",
    "\n",
    "phot_data.show_in_notebook(display_length=10)\n"
   ]
  },
  {
   "cell_type": "markdown",
   "metadata": {},
   "source": [
    "## Create an SNCosmo input table"
   ]
  },
  {
   "cell_type": "code",
   "execution_count": null,
   "metadata": {},
   "outputs": [],
   "source": [
    "@np.vectorize\n",
    "def sdss_mag_to_ab_flux(mag, band):\n",
    "    \"\"\"For a given sdss magnitude return the AB flux\"\"\"\n",
    "\n",
    "    if band == 'sdssu':\n",
    "        offset = -0.679\n",
    "    \n",
    "    elif band == 'sdssg':\n",
    "        offset = 0.0203\n",
    "    \n",
    "    elif band == 'sdssr':\n",
    "        offset =  0.0049\n",
    "    \n",
    "    elif band == 'sdssi':\n",
    "        offset = 0.0178\n",
    "    \n",
    "    elif band == 'sdssz':\n",
    "        offset = 0.0102\n",
    "    \n",
    "    else:\n",
    "        ValueError('Unknown band {}'.format(band))\n",
    "        \n",
    "    return 3631 * 10**((mag + offset) / -2.5)\n",
    "    \n",
    "    \n",
    "def calc_err(sigma_sdss_mag, flux_ab):\n",
    "    \"\"\"Calculate the error in AB flux\"\"\"\n",
    "    \n",
    "    return (sigma_sdss_mag * flux_ab * np.log(10) / 2.5)\n",
    "    "
   ]
  },
  {
   "cell_type": "code",
   "execution_count": null,
   "metadata": {
    "scrolled": false
   },
   "outputs": [],
   "source": [
    "sdss_bands = ('sdssu', 'sdssg', 'sdssr', 'sdssi', 'sdssz')\n",
    "\n",
    "input_table = Table()\n",
    "input_table.meta = phot_data.meta\n",
    "input_table['time'] = phot_data['MJD']\n",
    "input_table['band'] = [sdss_bands[i] for i in phot_data['FILT']]\n",
    "input_table['zp'] = np.full(len(phot_data), 2.5 * np.log10(3631))\n",
    "input_table['flux'] = sdss_mag_to_ab_flux(phot_data['MAG'], input_table['band'])\n",
    "input_table['fluxerr'] = calc_err(phot_data['MERR'], input_table['flux'])\n",
    "input_table['zpsys'] = np.full(len(phot_data), 'ab')\n",
    "\n",
    "input_table.show_in_notebook(display_length=10)"
   ]
  },
  {
   "cell_type": "markdown",
   "metadata": {},
   "source": [
    "## Run fit"
   ]
  },
  {
   "cell_type": "code",
   "execution_count": null,
   "metadata": {
    "scrolled": false
   },
   "outputs": [],
   "source": [
    "print('\\n\\nFitting for all terms except z:')\n",
    "source = sncosmo.get_source('salt2', version='2.0')\n",
    "model = sncosmo.Model(source=source)\n",
    "model.set(z=input_table.meta['redshift'])\n",
    "\n",
    "result, fitted_model = sncosmo.fit_lc(input_table, model, ['t0', 'x0', 'x1', 'c'], bounds=None)\n",
    "result['chi2_norm'] = (result.chisq / result.ndof)\n",
    "sncosmo.plot_lc(input_table, model=fitted_model, errors=result.errors)\n",
    "plt.show()\n",
    "print(result)\n",
    "\n",
    "print('\\n\\nFitting with fixed, published values:')\n",
    "model.set(z=input_table.meta['redshift'], x0=x0, x1=x1, c=c)\n",
    "result, fitted_model = sncosmo.fit_lc(input_table, model, ['t0'], bounds=None)\n",
    "result['chi2_norm'] = (result.chisq / result.ndof)\n",
    "sncosmo.plot_lc(input_table, model=fitted_model, errors=result.errors)\n",
    "plt.show()\n",
    "print(result)\n",
    "print('\\n\\n\\n')\n"
   ]
  },
  {
   "cell_type": "code",
   "execution_count": null,
   "metadata": {},
   "outputs": [],
   "source": []
  }
 ],
 "metadata": {
  "kernelspec": {
   "display_name": "Python [conda env:sdss_classification_2.7]",
   "language": "python",
   "name": "conda-env-sdss_classification_2.7-py"
  },
  "language_info": {
   "codemirror_mode": {
    "name": "ipython",
    "version": 2
   },
   "file_extension": ".py",
   "mimetype": "text/x-python",
   "name": "python",
   "nbconvert_exporter": "python",
   "pygments_lexer": "ipython2",
   "version": "2.7.15"
  }
 },
 "nbformat": 4,
 "nbformat_minor": 2
}
