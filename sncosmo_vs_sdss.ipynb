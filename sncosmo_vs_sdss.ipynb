{
 "cells": [
  {
   "cell_type": "code",
   "execution_count": null,
   "metadata": {},
   "outputs": [],
   "source": [
    "import numpy as np\n",
    "from astropy.table import Table, join\n",
    "from matplotlib import pyplot as plt\n",
    "\n",
    "from bokeh.io import output_notebook, show\n",
    "from bokeh.plotting import figure\n",
    "from bokeh.models import Span, HoverTool, ColumnDataSource\n",
    "from bokeh.layouts import gridplot\n",
    "\n",
    "from parse_sn_data import MASTER_TABLE as master_table\n",
    "\n",
    "output_notebook()\n",
    "_basic_tools = \"save,pan,box_zoom,reset,wheel_zoom\".split(',')\n"
   ]
  },
  {
   "cell_type": "code",
   "execution_count": null,
   "metadata": {},
   "outputs": [],
   "source": [
    "# Get SDSS fit data\n",
    "smp_fit_params = master_table[\n",
    "    'CID',\n",
    "    'x0SALT2zspec', \n",
    "    'x0errSALT2zspec', \n",
    "    'x1SALT2zspec', \n",
    "    'x1errSALT2zspec', \n",
    "    'cSALT2zspec', \n",
    "    'cerrSALT2zspec']\n",
    "\n",
    "smp_fit_params.rename_column('CID', 'cid')\n",
    "smp_fit_params.rename_column('x0SALT2zspec', 'x0_sdss')\n",
    "smp_fit_params.rename_column('x0errSALT2zspec', 'x0_sdss_err')\n",
    "smp_fit_params.rename_column('x1SALT2zspec', 'x1_sdss')\n",
    "smp_fit_params.rename_column('x1errSALT2zspec', 'x1_sdss_err')\n",
    "smp_fit_params.rename_column('cSALT2zspec', 'c_sdss')\n",
    "smp_fit_params.rename_column('cerrSALT2zspec', 'c_sdss_err')\n",
    "\n",
    "# Get SNCosmo fitt data\n",
    "sncosmo_fits = Table.read('sncosmo_results/snia_all_bands/summary.csv')\n",
    "\n",
    "sncosmo_fits.rename_column('x0', 'x0_ugriz')\n",
    "sncosmo_fits.rename_column('x0_err', 'x0_err_ugriz')\n",
    "sncosmo_fits.rename_column('x1', 'x1_ugriz')\n",
    "sncosmo_fits.rename_column('x1_err', 'x1_err_ugriz')\n",
    "sncosmo_fits.rename_column('c', 'c_ugriz')\n",
    "sncosmo_fits.rename_column('c_err', 'c_err_ugriz')\n",
    "\n",
    "# Calculate residuals\n",
    "combined_table = join(sncosmo_fits, smp_fit_params)\n",
    "combined_table = combined_table[~combined_table['x0_sdss'].mask]\n",
    "for value in ('x0', 'x1', 'c'):\n",
    "    combined_table['delta_' + value] = \\\n",
    "        100 * (combined_table[value + '_sdss'] - combined_table[value + '_ugriz']) / combined_table[value + '_sdss']\n"
   ]
  },
  {
   "cell_type": "markdown",
   "metadata": {},
   "source": [
    "# Compare fit parameters between SNCosmo and SDSS"
   ]
  },
  {
   "cell_type": "code",
   "execution_count": null,
   "metadata": {},
   "outputs": [],
   "source": [
    "fit_data = combined_table[combined_table['class'] == 'SNIa']\n",
    "fig, axes = plt.subplots(1, 3, figsize=(12, 4))\n",
    "line = np.arange(-20, 20)\n",
    "\n",
    "axes[0].plot(line, line, linestyle='--', color='grey', alpha=.6)\n",
    "axes[0].errorbar(fit_data['x0_sdss'], fit_data['x0_ugriz'], \n",
    "                 xerr=fit_data['x0_sdss_err'], yerr=fit_data['x0_err_ugriz'], \n",
    "                 linestyle='')\n",
    "\n",
    "axes[0].set_ylabel('SNCosmo Fit ugriz')\n",
    "axes[0].set_title('x0')\n",
    "axes[0].set_xlim(0, .002)\n",
    "axes[0].set_ylim(0, .002)\n",
    "\n",
    "axes[1].plot(line, line, linestyle='--', color='grey', alpha=.6)\n",
    "axes[1].errorbar(fit_data['x1_sdss'], fit_data['x1_ugriz'],\n",
    "                 xerr=fit_data['x1_sdss_err'], yerr=fit_data['x1_err_ugriz'], \n",
    "                 linestyle='', alpha=.3)\n",
    "\n",
    "axes[1].set_xlabel('SDSS Published Value')\n",
    "axes[1].set_title('x1')\n",
    "axes[1].set_xlim(-6, 6)\n",
    "axes[1].set_ylim(-6, 6)\n",
    "\n",
    "axes[2].plot(line, line, linestyle='--', color='grey', alpha=.6)\n",
    "axes[2].errorbar(fit_data['c_sdss'], fit_data['c_ugriz'],\n",
    "                 xerr=fit_data['c_sdss_err'], yerr=fit_data['c_err_ugriz'], \n",
    "                 linestyle='', alpha=.3)\n",
    "\n",
    "axes[2].set_title('c')\n",
    "axes[2].set_xlim(-.5, 1.5)\n",
    "axes[2].set_ylim(-.5, 1.5)\n",
    "\n",
    "plt.show()\n",
    "\n"
   ]
  },
  {
   "cell_type": "code",
   "execution_count": null,
   "metadata": {},
   "outputs": [],
   "source": [
    "data_dict = {col.name: np.array(col) for col in fit_data.itercols()}\n",
    "source = ColumnDataSource(data=data_dict)\n",
    "\n",
    "hover = HoverTool(tooltips=[\n",
    "        (\"target\", \"@cid\"),\n",
    "        (\"class\", \"@class\"),\n",
    "        (\"z\", \"@z\"),\n",
    "        ('z_fit', '@fit_z'),\n",
    "        ('chi2', '@chi'),\n",
    "        ('dof', '@dof'),\n",
    "    ])\n"
   ]
  },
  {
   "cell_type": "code",
   "execution_count": null,
   "metadata": {},
   "outputs": [],
   "source": [
    "figures = []\n",
    "for value in ('x0', 'x1', 'c'):\n",
    "    fig = figure(tools=_basic_tools + [hover, 'box_select', 'lasso_select'], title=value)\n",
    "    fig.circle(value + '_ugriz', value + '_sdss', source=source, size=4, alpha=.5)\n",
    "    fig.xaxis.axis_label = value + ' snc'\n",
    "    fig.yaxis.axis_label = value + ' smp'\n",
    "    figures.append(fig)\n",
    "\n",
    "grid = gridplot(figures, ncols=3, plot_width=300, plot_height=300)\n",
    "show(grid)\n"
   ]
  },
  {
   "cell_type": "code",
   "execution_count": null,
   "metadata": {},
   "outputs": [],
   "source": [
    "figures = []\n",
    "for value in ('x0', 'x1', 'c'):\n",
    "    fig = figure(tools=_basic_tools + [hover, 'box_select', 'lasso_select'], title=value)\n",
    "    fig.circle('z', 'delta_' + value, source=source, size=4, alpha=.5)\n",
    "    fig.xaxis.axis_label = 'Redshift'\n",
    "    fig.yaxis.axis_label = 'Percent Residual'\n",
    "    figures.append(fig)\n",
    "\n",
    "grid = gridplot(figures, ncols=3, plot_width=325, plot_height=325)\n",
    "show(grid)\n"
   ]
  },
  {
   "cell_type": "code",
   "execution_count": null,
   "metadata": {},
   "outputs": [],
   "source": []
  }
 ],
 "metadata": {
  "kernelspec": {
   "display_name": "Python 3",
   "language": "python",
   "name": "python3"
  },
  "language_info": {
   "codemirror_mode": {
    "name": "ipython",
    "version": 3
   },
   "file_extension": ".py",
   "mimetype": "text/x-python",
   "name": "python",
   "nbconvert_exporter": "python",
   "pygments_lexer": "ipython3",
   "version": "3.7.0"
  }
 },
 "nbformat": 4,
 "nbformat_minor": 2
}
