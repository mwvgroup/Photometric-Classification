{
 "cells": [
  {
   "cell_type": "markdown",
   "metadata": {},
   "source": [
    "# Compare fit results to published values\n",
    "\n",
    "This notebook compares fit results from SNCosmo with fit results published by SDSS and DES."
   ]
  },
  {
   "cell_type": "code",
   "execution_count": null,
   "metadata": {},
   "outputs": [],
   "source": [
    "import numpy as np\n",
    "from astropy.table import Table, join\n",
    "from matplotlib import pyplot as plt\n",
    "\n",
    "from bokeh.io import output_notebook, show\n",
    "from bokeh.plotting import figure\n",
    "from bokeh.models import Span, HoverTool, ColumnDataSource\n",
    "from bokeh.layouts import gridplot\n",
    "\n",
    "import sys; sys.path.insert(0, '../')\n",
    "from data_access import sdss_data, des_data"
   ]
  },
  {
   "cell_type": "code",
   "execution_count": null,
   "metadata": {},
   "outputs": [],
   "source": [
    "# Set up bokeh plotting\n",
    "output_notebook()\n",
    "_basic_tools = \"save,pan,box_zoom,reset,wheel_zoom\".split(',')\n"
   ]
  },
  {
   "cell_type": "markdown",
   "metadata": {},
   "source": [
    "## Plotting functions\n",
    "\n",
    "Since we will be creating the same plots for multiple data sets, we create some generic plotting functions. We create a static version of the plot zoomed in to show detail, along with an interactive version that defaults to show all available data."
   ]
  },
  {
   "cell_type": "code",
   "execution_count": null,
   "metadata": {},
   "outputs": [],
   "source": [
    "def create_static_figure(fit_data, survey_name):\n",
    "    \n",
    "    fig, axes = plt.subplots(2, 2, figsize=(12, 12))\n",
    "    axes = axes.flatten()\n",
    "    line = np.arange(-20, 20)\n",
    "\n",
    "    for axis, value in zip(axes, ['x0', 'x1', 'c']):\n",
    "        axis.plot(line, line, linestyle='--', color='grey')\n",
    "        axis.errorbar(fit_data[f'{value}_{survey_name}'], \n",
    "                      fit_data[f'{value}_sncosmo'], \n",
    "                      xerr=fit_data[f'{value}_{survey_name}_err'],\n",
    "                      yerr=fit_data[f'{value}_err_sncosmo'], \n",
    "                      linestyle='',\n",
    "                      alpha=.3)\n",
    "\n",
    "    axes[3].plot(line, line, linestyle='--', color='grey', alpha=.6)\n",
    "    axes[3].scatter(fit_data[f'chi_{survey_name}'], fit_data['chi_sncosmo'], alpha=.3, s=10)\n",
    "\n",
    "    axes[0].set_title('x0')\n",
    "    axes[0].set_ylabel('SNCosmo Fit ugriz')\n",
    "\n",
    "    axes[1].set_title('x1')\n",
    "\n",
    "    axes[2].set_title('c')\n",
    "    axes[2].set_xlabel('Published Value')\n",
    "    axes[2].set_ylabel('SNCosmo Fit ugriz')\n",
    "\n",
    "    axes[3].set_xlabel('Published Value')\n",
    "    axes[3].set_title('chi2')\n",
    "    \n",
    "    return axes\n",
    "\n",
    "\n",
    "def create_interactive_figure(fit_data, survey_name):\n",
    "    data_dict = {col.name: np.array(col) for col in fit_data.itercols()}\n",
    "    source = ColumnDataSource(data=data_dict)\n",
    "\n",
    "    hover = HoverTool(tooltips=[\n",
    "            (\"target\", \"@cid\"),\n",
    "            (\"class\", \"@class\"),\n",
    "            (\"z\", \"@z\"),\n",
    "            ('z_fit', '@fit_z'),\n",
    "            ('chi2', '@chi'),\n",
    "            ('dof', '@dof'),\n",
    "        ])\n",
    "\n",
    "    figures = []\n",
    "    for value in ('x0', 'x1', 'c', 'chi'):\n",
    "        fig = figure(tools=_basic_tools + [hover, 'box_select', 'lasso_select'], title=value)\n",
    "        fig.circle(f'{value}_{survey_name}', f'{value}_sncosmo', source=source, size=4, alpha=.5)\n",
    "        fig.xaxis.axis_label = 'Published Value'\n",
    "        fig.yaxis.axis_label = 'SNCosmo Fit ugriz'\n",
    "        figures.append(fig)\n",
    "    \n",
    "    return gridplot(figures, ncols=2, plot_width=350, plot_height=350)\n",
    "\n"
   ]
  },
  {
   "cell_type": "markdown",
   "metadata": {},
   "source": [
    "## SDSS\n",
    "\n",
    "We begin by creating a combined table to store both the published and SNCosmo fit results. Then we plot correlations between both data sets for the fit parameters x0, x1 (stretch), and c (color) along with normalized chi-squared."
   ]
  },
  {
   "cell_type": "code",
   "execution_count": null,
   "metadata": {
    "scrolled": false
   },
   "outputs": [],
   "source": [
    "# Get SDSS published data\n",
    "sdss_published = sdss_data.master_table[\n",
    "    'CID',\n",
    "    'x0SALT2zspec', \n",
    "    'x0errSALT2zspec', \n",
    "    'x1SALT2zspec', \n",
    "    'x1errSALT2zspec', \n",
    "    'cSALT2zspec', \n",
    "    'cerrSALT2zspec',\n",
    "]\n",
    "\n",
    "sdss_published.rename_column('CID', 'cid')\n",
    "sdss_published.rename_column('x0SALT2zspec', 'x0_sdss')\n",
    "sdss_published.rename_column('x0errSALT2zspec', 'x0_sdss_err')\n",
    "sdss_published.rename_column('x1SALT2zspec', 'x1_sdss')\n",
    "sdss_published.rename_column('x1errSALT2zspec', 'x1_sdss_err')\n",
    "sdss_published.rename_column('cSALT2zspec', 'c_sdss')\n",
    "sdss_published.rename_column('cerrSALT2zspec', 'c_sdss_err')\n",
    "sdss_published['chi_sdss'] = (\n",
    "    sdss_data.master_table['chi2SALT2zspec'] \n",
    "    / sdss_data.master_table['ndofSALT2zspec']\n",
    ")\n",
    "\n",
    "# Get SNCosmo fit data\n",
    "sdss_sncosmo = Table.read('sdss_results/snia_ugriz.csv')\n",
    "sdss_sncosmo.rename_column('x0', 'x0_sncosmo')\n",
    "sdss_sncosmo.rename_column('x0_err', 'x0_err_sncosmo')\n",
    "sdss_sncosmo.rename_column('x1', 'x1_sncosmo')\n",
    "sdss_sncosmo.rename_column('x1_err', 'x1_err_sncosmo')\n",
    "sdss_sncosmo.rename_column('c', 'c_sncosmo')\n",
    "sdss_sncosmo.rename_column('c_err', 'c_err_sncosmo')\n",
    "sdss_sncosmo['chi_sncosmo'] = sdss_sncosmo['chi'] / sdss_sncosmo['dof']\n",
    "sdss_sncosmo.remove_columns(['chi', 'dof'])\n",
    "\n",
    "# Combine tables and keep only SN with published fits\n",
    "combined_sdss = join(sdss_sncosmo, sdss_published)\n",
    "combined_sdss = combined_sdss[~combined_sdss['x0_sdss'].mask]   \n",
    "combined_sdss.show_in_notebook(display_length=5)\n"
   ]
  },
  {
   "cell_type": "code",
   "execution_count": null,
   "metadata": {},
   "outputs": [],
   "source": [
    "# Consider only type 1a objects\n",
    "fit_data = combined_sdss[combined_sdss['class'] == 'SNIa']\n",
    "plot_axes = create_static_figure(fit_data, 'sdss')\n",
    "\n",
    "plot_axes[0].set_xlim(0, .003)\n",
    "plot_axes[0].set_ylim(0, .003)\n",
    "plot_axes[1].set_xlim(-3.5, 3.5)\n",
    "plot_axes[1].set_ylim(-15, 15)\n",
    "plot_axes[2].set_xlim(-.5, 1)\n",
    "plot_axes[2].set_ylim(-2, 1.75)\n",
    "plot_axes[3].set_xlim(0, 8)\n",
    "plot_axes[3].set_ylim(0, 150)\n",
    "\n",
    "plt.show()"
   ]
  },
  {
   "cell_type": "code",
   "execution_count": null,
   "metadata": {},
   "outputs": [],
   "source": [
    "plot_grid = create_interactive_figure(fit_data, 'sdss')\n",
    "show(plot_grid)\n"
   ]
  },
  {
   "cell_type": "markdown",
   "metadata": {},
   "source": [
    "## DES\n",
    "\n",
    "As before, we begin by creating a combined table to store both the published and SNCosmo fit results."
   ]
  },
  {
   "cell_type": "code",
   "execution_count": null,
   "metadata": {},
   "outputs": [],
   "source": [
    "# Get DES published data\n",
    "des_published = des_data.master_table[\n",
    "    'CID',\n",
    "    'x0',\n",
    "    'x0ERR',\n",
    "    'x1',\n",
    "    'x1ERR',\n",
    "    'c',\n",
    "    'cERR'\n",
    "]\n",
    "\n",
    "des_published.rename_column('CID', 'cid')\n",
    "des_published.rename_column('x0', 'x0_des')\n",
    "des_published.rename_column('x0ERR', 'x0_des_err')\n",
    "des_published.rename_column('x1', 'x1_des')\n",
    "des_published.rename_column('x1ERR', 'x1_des_err')\n",
    "des_published.rename_column('c', 'c_des')\n",
    "des_published.rename_column('cERR', 'c_des_err')\n",
    "des_published['chi_des'] = (\n",
    "   des_data.master_table['FITCHI2'] \n",
    "   / des_data.master_table['NDOF']\n",
    ")\n",
    "\n",
    "\n",
    "# Get SNCosmo fit data\n",
    "des_sncosmo = Table.read('des_results/snia_ugriz.csv')\n",
    "des_sncosmo.rename_column('x0', 'x0_sncosmo')\n",
    "des_sncosmo.rename_column('x0_err', 'x0_err_sncosmo')\n",
    "des_sncosmo.rename_column('x1', 'x1_sncosmo')\n",
    "des_sncosmo.rename_column('x1_err', 'x1_err_sncosmo')\n",
    "des_sncosmo.rename_column('c', 'c_sncosmo')\n",
    "des_sncosmo.rename_column('c_err', 'c_err_sncosmo')\n",
    "des_sncosmo['chi_sncosmo'] = des_sncosmo['chi'] / des_sncosmo['dof']\n",
    "des_sncosmo['cid'] = [str(x) for x in des_sncosmo['obj_id']]\n",
    "des_sncosmo.remove_columns(['chi', 'dof', 'obj_id'])\n",
    "\n",
    "# Combine tables and keep only SN with published fits\n",
    "combined_des = join(des_sncosmo, des_published)\n",
    "combined_des.show_in_notebook(display_length=5)\n"
   ]
  },
  {
   "cell_type": "code",
   "execution_count": null,
   "metadata": {},
   "outputs": [],
   "source": [
    "plot_axes = create_static_figure(combined_des, 'des')\n",
    "\n",
    "plot_axes[0].set_xlim(0, 5e-4)\n",
    "plot_axes[0].set_ylim(0, 3e-5)\n",
    "plot_axes[1].set_xlim(-3.5, 3.5)\n",
    "plot_axes[1].set_ylim(-5.5, 5.5)\n",
    "plot_axes[2].set_xlim(-.5, .5)\n",
    "plot_axes[2].set_ylim(-1.5, 1.75)\n",
    "plot_axes[3].set_xlim(0, 2)\n",
    "plot_axes[3].set_ylim(0, 36)\n",
    "\n",
    "plt.show()\n"
   ]
  },
  {
   "cell_type": "code",
   "execution_count": null,
   "metadata": {},
   "outputs": [],
   "source": [
    "plot_grid = create_interactive_figure(combined_des, 'des')\n",
    "show(plot_grid)\n"
   ]
  },
  {
   "cell_type": "code",
   "execution_count": null,
   "metadata": {},
   "outputs": [],
   "source": []
  }
 ],
 "metadata": {
  "kernelspec": {
   "display_name": "Python 3",
   "language": "python",
   "name": "python3"
  },
  "language_info": {
   "codemirror_mode": {
    "name": "ipython",
    "version": 3
   },
   "file_extension": ".py",
   "mimetype": "text/x-python",
   "name": "python",
   "nbconvert_exporter": "python",
   "pygments_lexer": "ipython3",
   "version": "3.6.7"
  }
 },
 "nbformat": 4,
 "nbformat_minor": 2
}
