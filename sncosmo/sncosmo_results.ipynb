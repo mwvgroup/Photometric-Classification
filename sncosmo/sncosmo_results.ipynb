{
 "cells": [
  {
   "cell_type": "code",
   "execution_count": null,
   "metadata": {},
   "outputs": [],
   "source": [
    "import numpy as np\n",
    "from astropy.table import Table, join\n",
    "\n",
    "from bokeh.io import output_notebook, output_file, show, save\n",
    "from bokeh.plotting import figure\n",
    "from bokeh.palettes import Category20\n"
   ]
  },
  {
   "cell_type": "markdown",
   "metadata": {},
   "source": [
    "## Combine summary tables from each fit run"
   ]
  },
  {
   "cell_type": "code",
   "execution_count": null,
   "metadata": {},
   "outputs": [],
   "source": [
    "all_ia = Table.read('sncosmo_results/snia_ugriz.csv')\n",
    "blue_ia = Table.read('sncosmo_results/snia_ug.csv')\n",
    "red_ia = Table.read('sncosmo_results/snia_riz.csv')\n",
    "all_91bg = Table.read('sncosmo_results/91bg_ugriz.csv')\n",
    "blue_91bg = Table.read('sncosmo_results/91bg_ug.csv')\n",
    "red_91bg = Table.read('sncosmo_results/91bg_riz.csv')\n",
    "\n",
    "tables = (blue_ia, red_ia, blue_91bg, red_91bg)\n",
    "table_names = ('blue_ia', 'red_ia', 'blue_91bg', 'red_91bg')\n",
    "combined_table = None\n",
    "for table, name in zip(tables, table_names):\n",
    "    # Rename columns\n",
    "    temp_table = table.copy()\n",
    "    for column in temp_table.colnames:\n",
    "        if column in ('cid', 'class'):\n",
    "            continue\n",
    "            \n",
    "        temp_table.rename_column(column, column + '_' + name)\n",
    "        \n",
    "    # Join tables\n",
    "    if combined_table is None:\n",
    "        combined_table = temp_table\n",
    "        continue\n",
    "        \n",
    "    combined_table = join(combined_table, temp_table, \n",
    "                          join_type='outer', \n",
    "                          keys=['cid', 'class'])\n",
    "    \n",
    "del temp_table\n"
   ]
  },
  {
   "cell_type": "code",
   "execution_count": null,
   "metadata": {
    "scrolled": false
   },
   "outputs": [],
   "source": [
    "print('Total number targets (ugriz):', len(all_ia))\n",
    "print('Number of fit ia (blue): {} / {}'.format(\n",
    "    np.sum(~np.isnan(blue_ia['chi'])), len(blue_ia)))\n",
    "\n",
    "print('Number of fit ia (red): {} / {}'.format(\n",
    "    np.sum(~np.isnan(red_ia['chi'])), len(red_ia)))\n",
    "\n",
    "print('Number of fit 91 (blue): {} / {}'.format(\n",
    "    np.sum(~np.isnan(blue_91bg['chi'])), len(blue_91bg)))\n",
    "\n",
    "print('Number of fit 91 (red): {} / {}'.format(\n",
    "    np.sum(~np.isnan(red_91bg['chi'])), len(red_91bg)))\n"
   ]
  },
  {
   "cell_type": "markdown",
   "metadata": {},
   "source": [
    "## Chi-squared Comparison"
   ]
  },
  {
   "cell_type": "code",
   "execution_count": null,
   "metadata": {},
   "outputs": [],
   "source": [
    "# Get plot data\n",
    "class_set = sorted(set(combined_table['class']))\n",
    "x_vals = (combined_table['chi_blue_ia'] / combined_table['dof_blue_ia']\n",
    "          - combined_table['chi_blue_91bg'] / combined_table['dof_blue_91bg'])\n",
    "\n",
    "y_vals = (combined_table['chi_red_ia'] / combined_table['dof_red_ia'] \n",
    "          - combined_table['chi_red_91bg'] / combined_table['dof_red_91bg'])\n",
    "\n",
    "# Plot data\n",
    "fig = figure(plot_width=600, plot_height=400, \n",
    "             tools=['save', 'pan', 'box_zoom', 'reset', 'wheel_zoom'])\n",
    "\n",
    "for classification, color in zip(class_set, Category20[20]):\n",
    "    indices = combined_table['class'] == classification\n",
    "    fig.circle(x_vals[indices], y_vals[indices], color=color, legend=classification)\n",
    "\n",
    "# Move legend outside the plot\n",
    "fig.legend.click_policy=\"hide\"\n",
    "new_legend = fig.legend[0]\n",
    "fig.legend[0].plot = None\n",
    "fig.add_layout(new_legend, 'left')\n",
    "fig.yaxis.axis_label = \"Chi2 Ia - Chi2 91bg (riz)\"\n",
    "fig.xaxis.axis_label = \"Chi2 Ia - Chi2 91bg (ug)\"\n",
    "\n",
    "output_notebook()\n",
    "show(fig)\n",
    "\n",
    "# output_file(\"chi_squared_comparison.html\")\n",
    "# save(fig)\n"
   ]
  },
  {
   "cell_type": "code",
   "execution_count": null,
   "metadata": {},
   "outputs": [],
   "source": []
  }
 ],
 "metadata": {
  "kernelspec": {
   "display_name": "Python 3",
   "language": "python",
   "name": "python3"
  },
  "language_info": {
   "codemirror_mode": {
    "name": "ipython",
    "version": 3
   },
   "file_extension": ".py",
   "mimetype": "text/x-python",
   "name": "python",
   "nbconvert_exporter": "python",
   "pygments_lexer": "ipython3",
   "version": "3.6.7"
  }
 },
 "nbformat": 4,
 "nbformat_minor": 2
}
