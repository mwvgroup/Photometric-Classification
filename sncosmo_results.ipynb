{
 "cells": [
  {
   "cell_type": "code",
   "execution_count": null,
   "metadata": {},
   "outputs": [],
   "source": [
    "import numpy as np\n",
    "from astropy.table import Table, join\n",
    "from matplotlib import pyplot as plt\n",
    "\n",
    "%matplotlib notebook\n"
   ]
  },
  {
   "cell_type": "markdown",
   "metadata": {},
   "source": [
    "## Combine summary tables from each fit run"
   ]
  },
  {
   "cell_type": "code",
   "execution_count": null,
   "metadata": {},
   "outputs": [],
   "source": [
    "all_ia = Table.read('sncosmo_results/snia_all_bands/summary.csv')\n",
    "blue_ia = Table.read('sncosmo_results/snia_ug/summary.csv')\n",
    "red_ia = Table.read('sncosmo_results/snia_riz/summary.csv')\n",
    "all_91bg = Table.read('sncosmo_results/91bg_all_bands/summary.csv')\n",
    "blue_91bg = Table.read('sncosmo_results/91bg_ug/summary.csv')\n",
    "red_91bg = Table.read('sncosmo_results/91bg_riz/summary.csv')\n",
    "\n",
    "tables = (blue_ia, red_ia, blue_91bg, red_91bg)\n",
    "table_names = ('blue_ia', 'red_ia', 'blue_91bg', 'red_91bg')\n",
    "combined_table = None\n",
    "for table, name in zip(tables, table_names):\n",
    "    # Rename columns\n",
    "    for column in table.colnames:\n",
    "        if column in ('cid', 'class'):\n",
    "            continue\n",
    "            \n",
    "        table.rename_column(column, column + '_' + name)\n",
    "        \n",
    "    # Join tables\n",
    "    if combined_table is None:\n",
    "        combined_table = table\n",
    "        continue\n",
    "        \n",
    "    combined_table = join(combined_table, table, \n",
    "                          join_type='outer', \n",
    "                          keys=['cid', 'class'])\n"
   ]
  },
  {
   "cell_type": "markdown",
   "metadata": {},
   "source": [
    "## Chi-squared Comparison"
   ]
  },
  {
   "cell_type": "code",
   "execution_count": null,
   "metadata": {},
   "outputs": [],
   "source": [
    "x_vals = combined_table['chi_blue_ia'] / combined_table['dof_blue_ia'] \\\n",
    "             - combined_table['chi_blue_91bg'] / combined_table['dof_blue_91bg']\n",
    "\n",
    "y_vals = combined_table['chi_red_ia'] / combined_table['dof_red_ia'] \\\n",
    "             - combined_table['chi_red_91bg'] / combined_table['dof_red_91bg']\n",
    "\n",
    "\n",
    "for classification in set(combined_table['class']):\n",
    "    indx = combined_table['class'] == classification\n",
    "    plt.scatter(x_vals[indx], y_vals[indx], s=5, label=classification)\n",
    "\n",
    "plt.axvline(0, color='grey', alpha=0.5, linestyle='--')\n",
    "plt.axhline(0, color='grey', alpha=0.5, linestyle='--')\n",
    "plt.xlabel(r'$\\chi^2_{ug}(Ia) - \\chi^2_{ug}(91bg)$')\n",
    "plt.ylabel(r'$\\chi^2_{riz}(Ia) - \\chi^2_{riz}(91bg)$')\n",
    "plt.legend()\n",
    "plt.show()\n"
   ]
  },
  {
   "cell_type": "code",
   "execution_count": null,
   "metadata": {},
   "outputs": [],
   "source": []
  }
 ],
 "metadata": {
  "kernelspec": {
   "display_name": "Python 3",
   "language": "python",
   "name": "python3"
  },
  "language_info": {
   "codemirror_mode": {
    "name": "ipython",
    "version": 3
   },
   "file_extension": ".py",
   "mimetype": "text/x-python",
   "name": "python",
   "nbconvert_exporter": "python",
   "pygments_lexer": "ipython3",
   "version": "3.7.0"
  }
 },
 "nbformat": 4,
 "nbformat_minor": 2
}
