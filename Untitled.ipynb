{
 "cells": [
  {
   "cell_type": "code",
   "execution_count": 2,
   "metadata": {},
   "outputs": [],
   "source": [
    "from multiprocessing.pool import ThreadPool\n",
    "import time\n",
    "import threading\n",
    "from tqdm import tqdm\n",
    "\n",
    "from analysis_pipeline.data_access import sdss\n",
    "\n",
    "total = 10258"
   ]
  },
  {
   "cell_type": "code",
   "execution_count": null,
   "metadata": {},
   "outputs": [],
   "source": [
    "def demo(position, total):\n",
    "    text = \"progresser #{}\".format(position)\n",
    "    progress = tqdm(\n",
    "        total=total,\n",
    "        position=position,\n",
    "        desc=text,\n",
    "    )\n",
    "\n",
    "    for table in sdss.iter_sncosmo_input():\n",
    "        progress.update(1)\n",
    "\n",
    "    progress.close()\n",
    "\n",
    "\n",
    "pool = ThreadPool(5)\n",
    "tasks = range(50)\n",
    "for i, url in enumerate(tasks, 1):\n",
    "    pool.apply_async(demo, args=(i, 100))\n",
    "\n",
    "\n",
    "pool.close()\n",
    "pool.join()"
   ]
  },
  {
   "cell_type": "code",
   "execution_count": 3,
   "metadata": {},
   "outputs": [
    {
     "name": "stderr",
     "output_type": "stream",
     "text": [
      "\n",
      "dd:   0%|          | 0/3 [00:00<?, ?it/s]\u001b[A\n",
      "dd: 100%|██████████| 3/3 [00:00<00:00, 3614.74it/s]\u001b[A"
     ]
    }
   ],
   "source": [
    "for x in tqdm([1, 2, 3], position=1, desc='dd'):\n",
    "    pass"
   ]
  },
  {
   "cell_type": "code",
   "execution_count": null,
   "metadata": {},
   "outputs": [],
   "source": [
    "    if isinstance(verbose, dict):\n",
    "        iter_data = tqdm(\n",
    "            file_list,\n",
    "            **verbose,\n",
    "        )\n",
    "\n",
    "    elif verbose:\n",
    "        iter_data = tqdm(file_list)\n",
    "\n",
    "    else:\n",
    "        iter_data = file_list"
   ]
  },
  {
   "cell_type": "code",
   "execution_count": null,
   "metadata": {},
   "outputs": [],
   "source": [
    "def fit_lc(data, model, vparam_names, nest=True, **kwargs):\n",
    "    \"\"\"A wrapper for sncosmo.fit_lc that returns results as a list\n",
    "\n",
    "    Exceptions raised by sncosmo.fit_lc are caught and stored as the exit\n",
    "    message. By default, initial parameters are determine using nested\n",
    "    sampling. Mutable arguments are not guaranteed to go unchanged.\n",
    "\n",
    "    Args:\n",
    "        Any arguments for sncosmo.fit_lc\n",
    "        nest (bool): Whether to use nested sampling to determine initial values\n",
    "\n",
    "    Returns:\n",
    "        A list of values for 'z', 't0', 'x0', 'x1', 'c', their respective\n",
    "        errors, the fit chi-squared, number of DOF, and SNCosmo exit message.\n",
    "    \"\"\"\n",
    "\n",
    "    if nest:\n",
    "        nest_result, _ = sncosmo.nest_lc(\n",
    "            data, model, vparam_names,\n",
    "            bounds=kwargs['bounds'],\n",
    "            modelcov=kwargs.get('modelcov', False))\n",
    "\n",
    "        nest_vals = {param: value for param, value in\n",
    "                     zip(nest_result.vparam_names, nest_result.parameters)}\n",
    "        model.set(**nest_vals)\n",
    "\n",
    "        kwargs['guess_amplitude'] = False\n",
    "        kwargs['guess_t0'] = False\n",
    "        kwargs['guess_z'] = False\n",
    "\n",
    "    out_data = []\n",
    "    try:\n",
    "        result, fitted_model = sncosmo.fit_lc(\n",
    "            data=data, model=model, vparam_names=vparam_names, **kwargs)\n",
    "\n",
    "    except (DataQualityError, RuntimeError, ValueError) as e:\n",
    "        if 'z' in vparam_names:\n",
    "            out_data.extend(np.full(12, np.NAN).tolist())\n",
    "            out_data.append(str(e))\n",
    "\n",
    "        else:\n",
    "            z = data.meta['redshift']\n",
    "            z_err = data.meta.get('redshift_err', 0)\n",
    "\n",
    "            out_data.append(z)\n",
    "            out_data.extend(np.full(4, np.NAN).tolist())\n",
    "            out_data.append(z_err)\n",
    "            out_data.extend(np.full(6, np.NAN).tolist())\n",
    "            out_data.append(str(e).replace('\\n', ' '))\n",
    "\n",
    "    else:\n",
    "        for param in ['z', 't0', 'x0', 'x1', 'c']:\n",
    "            i = result.param_names.index(param)\n",
    "            out_data.append(result.parameters[i])\n",
    "\n",
    "        for param in ['z', 't0', 'x0', 'x1', 'c']:\n",
    "            out_data.append(result.errors.get(param, 0))\n",
    "\n",
    "        out_data.append(result.chisq)\n",
    "        out_data.append(result.ndof)\n",
    "        out_data.append(result.message.replace('\\n', ' '))\n",
    "\n",
    "    return out_data"
   ]
  }
 ],
 "metadata": {
  "kernelspec": {
   "display_name": "Python [conda env:sdss_classification_3.7]",
   "language": "python",
   "name": "conda-env-sdss_classification_3.7-py"
  },
  "language_info": {
   "codemirror_mode": {
    "name": "ipython",
    "version": 3
   },
   "file_extension": ".py",
   "mimetype": "text/x-python",
   "name": "python",
   "nbconvert_exporter": "python",
   "pygments_lexer": "ipython3",
   "version": "3.7.1"
  }
 },
 "nbformat": 4,
 "nbformat_minor": 2
}
