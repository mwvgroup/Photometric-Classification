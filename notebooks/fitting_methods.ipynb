{
 "cells": [
  {
   "cell_type": "code",
   "execution_count": null,
   "metadata": {},
   "outputs": [],
   "source": [
    "import signal\n",
    "import sys\n",
    "from copy import deepcopy\n",
    "\n",
    "import numpy as np\n",
    "import sncosmo\n",
    "from matplotlib import pyplot as plt\n",
    "from sndata.csp import dr1, dr3\n",
    "from tqdm import tqdm_notebook\n",
    "from IPython.display import clear_output\n",
    "\n",
    "sys.path.insert(0, '../')\n",
    "\n",
    "from analysis_pipeline import models\n",
    "from analysis_pipeline.utils import split_data\n",
    "from analysis_pipeline.lc_fitting import calc_chisq\n"
   ]
  },
  {
   "cell_type": "markdown",
   "metadata": {},
   "source": [
    "## Load and register data"
   ]
  },
  {
   "cell_type": "code",
   "execution_count": null,
   "metadata": {},
   "outputs": [],
   "source": [
    "# Download and register data\n",
    "dr1.download_module_data()\n",
    "dr3.download_module_data()\n",
    "dr3.register_filters(force=True)\n",
    "models.register_sources(force=True)\n"
   ]
  },
  {
   "cell_type": "markdown",
   "metadata": {},
   "source": [
    "## Define utility and fitting functions"
   ]
  },
  {
   "cell_type": "code",
   "execution_count": null,
   "metadata": {},
   "outputs": [],
   "source": [
    "class timeout:\n",
    "    \"\"\"A timeout context manager\"\"\"\n",
    "\n",
    "    def __init__(self, seconds=1, error_message='Timeout'):\n",
    "        \"\"\"A timeout context manager\n",
    "        Args:\n",
    "            seconds       (int): The number of seconds until timeout\n",
    "            error_message (str): The TimeOutError message on timeout\n",
    "        \"\"\"\n",
    "\n",
    "        self.seconds = seconds\n",
    "        self.error_message = error_message\n",
    "\n",
    "    def handle_timeout(self, signum, frame):\n",
    "        raise TimeoutError(self.error_message)\n",
    "\n",
    "    def __enter__(self):\n",
    "        signal.signal(signal.SIGALRM, self.handle_timeout)\n",
    "        signal.alarm(self.seconds)\n",
    "\n",
    "    def __exit__(self, type_, value, traceback):\n",
    "        signal.alarm(0)\n"
   ]
  },
  {
   "cell_type": "markdown",
   "metadata": {},
   "source": [
    "## Define classification functions"
   ]
  },
  {
   "cell_type": "code",
   "execution_count": null,
   "metadata": {},
   "outputs": [],
   "source": [
    "def get_classification_coords(\n",
    "    all_data, red_data, blue_data, fit_func=sncosmo.fit_lc, \n",
    "    kwargs_all=dict(), kwargs_s2=dict(), kwargs_bg=dict(), \n",
    "    show_plots=False):\n",
    "    \"\"\"Determine the classification coordinates for a given target\n",
    "    \n",
    "    Args:\n",
    "        data             (Table): Table of light curve data for SNCosmo\n",
    "        band_names   (list[str]): Band names of the parent survey\n",
    "        lambda_eff (list[float]): Effective wavelength for each band\n",
    "    \n",
    "    Returns:\n",
    "       The x and y classification coordinates\n",
    "    \"\"\"\n",
    "    \n",
    "    # Parse data\n",
    "    z = all_data.meta['redshift']    \n",
    "    vparmas = ['t0', 'x0', 'x1', 'c']\n",
    "\n",
    "    # Load models\n",
    "    salt2 = sncosmo.Model('salt2')\n",
    "    sn91bg = sncosmo.Model(source=sncosmo.get_source('sn91bg', version='salt2_phase'))\n",
    "\n",
    "    # Fit salt2 model with fixed redshift\n",
    "    salt2.set(z=z)\n",
    "    norm_result_all, norm_fit_all = fit_func(all_data, salt2, vparmas, **kwargs_all, **kwargs_s2)\n",
    "    norm_result_all, norm_fit_red = fit_func(red_data, salt2, vparmas, **kwargs_all, **kwargs_s2)\n",
    "    norm_result_all, norm_fit_blue = fit_func(blue_data, salt2, vparmas, **kwargs_all, **kwargs_s2)\n",
    "\n",
    "    # Fit 91bg model using salt2 t0\n",
    "    bounds = {'x1': [0.65, 1.25], 'c': [0, 1]}\n",
    "    sn91bg.set(z=z, t0=norm_fit_all.parameters[1])\n",
    "    bg_result_all, bg_fit_all = fit_func(all_data, sn91bg, vparmas[1:], bounds=bounds, **kwargs_all, **kwargs_bg)\n",
    "    bg_result_all, bg_fit_red = fit_func(red_data, sn91bg, vparmas[1:], bounds=bounds, **kwargs_all, **kwargs_bg)\n",
    "    bg_result_all, bg_fit_blue = fit_func(blue_data, sn91bg, vparmas[1:], bounds=bounds, **kwargs_all, **kwargs_bg)\n",
    "\n",
    "    if show_plots:\n",
    "        print('Salt2')\n",
    "        sncosmo.plot_lc(all_data, norm_fit_all)\n",
    "        sncosmo.plot_lc(red_data, norm_fit_red)\n",
    "        sncosmo.plot_lc(blue_data, norm_fit_blue)\n",
    "        plt.show()\n",
    "\n",
    "        print('91bg')\n",
    "        sncosmo.plot_lc(all_data, bg_fit_all)\n",
    "        sncosmo.plot_lc(red_data, bg_fit_red)\n",
    "        sncosmo.plot_lc(blue_data, bg_fit_blue)\n",
    "        plt.show()\n",
    "\n",
    "    # Calculate chisq\n",
    "    norm_blue_chisq = np.divide(*calc_chisq(blue_data, norm_fit_blue))\n",
    "    norm_red_chisq = np.divide(*calc_chisq(red_data, norm_fit_red))\n",
    "    bg_blue_chisq = np.divide(*calc_chisq(blue_data, bg_fit_blue))\n",
    "    bg_red_chisq = np.divide(*calc_chisq(red_data, bg_fit_red))\n",
    "    \n",
    "    return (norm_blue_chisq - bg_blue_chisq, norm_red_chisq - bg_red_chisq)\n",
    "\n"
   ]
  },
  {
   "cell_type": "code",
   "execution_count": null,
   "metadata": {},
   "outputs": [],
   "source": [
    "def get_classification_coords(\n",
    "    all_data, red_data, blue_data, vparams = ['t0', 'x0', 'x1', 'c'], kwargs_s2=dict(), kwargs_bg=dict(), \n",
    "    show_plots=False):\n",
    "    \"\"\"Determine the classification coordinates for a given target\n",
    "    \n",
    "    Args:\n",
    "        data             (Table): Table of light curve data for SNCosmo\n",
    "        band_names   (list[str]): Band names of the parent survey\n",
    "        lambda_eff (list[float]): Effective wavelength for each band\n",
    "    \n",
    "    Returns:\n",
    "       The x and y classification coordinates\n",
    "    \"\"\"\n",
    "\n",
    "    salt2 = sncosmo.Model('salt2')\n",
    "    sn91bg = sncosmo.Model('sn91bg')\n",
    "    \n",
    "    # If we are not fitting for z, set it in the models\n",
    "    if 'z' not in vparams:\n",
    "        z = all_data.meta['redshift']    \n",
    "        salt2.set(z=z)\n",
    "        sn91bg.set(z=z)\n",
    "\n",
    "    # Fit salt2 model to all data and determine t0\n",
    "    norm_result_all, norm_fit_all = sncosmo.fit_lc(all_data, salt2, vparams, **kwargs_s2)\n",
    "    t0 = norm_fit_all.parameters[1]\n",
    "    \n",
    "    # Set t0 for remaining fits\n",
    "    salt2.set(t0=t0)\n",
    "    sn91bg.set(t0=t0)\n",
    "    \n",
    "    norm_result_red, norm_fit_red = sncosmo.fit_lc(red_data, salt2, vparams, **kwargs_s2)\n",
    "    norm_result_blue, norm_fit_blue = sncosmo.fit_lc(blue_data, salt2, vparams, **kwargs_s2)\n",
    "\n",
    "    vparams = [p for p in vparams if p != 't0']\n",
    "    bg_result_all, bg_fit_all = sncosmo.fit_lc(all_data, sn91bg, vparams, **kwargs_bg)\n",
    "    bg_result_red, bg_fit_red = sncosmo.fit_lc(red_data, sn91bg, vparams, **kwargs_bg)\n",
    "    bg_result_blue, bg_fit_blue = sncosmo.fit_lc(blue_data, sn91bg, vparams, **kwargs_bg)\n",
    "\n",
    "    if show_plots:\n",
    "        print('Salt2')\n",
    "        sncosmo.plot_lc(all_data, norm_fit_all)\n",
    "        sncosmo.plot_lc(red_data, norm_fit_red)\n",
    "        sncosmo.plot_lc(blue_data, norm_fit_blue)\n",
    "        plt.show()\n",
    "\n",
    "        print('91bg')\n",
    "        sncosmo.plot_lc(all_data, bg_fit_all)\n",
    "        sncosmo.plot_lc(red_data, bg_fit_red)\n",
    "        sncosmo.plot_lc(blue_data, bg_fit_blue)\n",
    "        plt.show()\n",
    "\n",
    "    # Calculate chisq\n",
    "    norm_blue_chisq = np.divide(*calc_chisq(blue_data, norm_fit_blue))\n",
    "    norm_red_chisq = np.divide(*calc_chisq(red_data, norm_fit_red))\n",
    "    bg_blue_chisq = np.divide(*calc_chisq(blue_data, bg_fit_blue))\n",
    "    bg_red_chisq = np.divide(*calc_chisq(red_data, bg_fit_red))\n",
    "    \n",
    "    return (norm_blue_chisq - bg_blue_chisq, norm_red_chisq - bg_red_chisq)\n"
   ]
  },
  {
   "cell_type": "code",
   "execution_count": null,
   "metadata": {
    "scrolled": false
   },
   "outputs": [],
   "source": [
    "survey = dr3\n",
    "bands = survey.band_names\n",
    "leff = survey.lambda_effective\n",
    "all_data_table = survey.get_data_for_id('2004dt', True)\n",
    "blue_data_table, red_data_table = split_data(all_data_table, bands, leff)\n",
    "get_classification_coords(all_data_table, blue_data_table, red_data_table, \n",
    "                          show_plots=True, kwargs_bg={'bounds': {'x1': [0.65, 1.25], 'c': [0, 1]}})\n"
   ]
  },
  {
   "cell_type": "code",
   "execution_count": null,
   "metadata": {},
   "outputs": [],
   "source": []
  },
  {
   "cell_type": "code",
   "execution_count": null,
   "metadata": {},
   "outputs": [],
   "source": [
    "def classify_survey(survey, obj_ids, fitting_func):\n",
    "    # Get classification coordinates for each target\n",
    "    timeout_seconds = 30\n",
    "    bands = survey.band_names\n",
    "    leff = survey.lambda_effective\n",
    "\n",
    "    x, y = [], []\n",
    "    for obj_id in tqdm_notebook(obj_ids):\n",
    "        print(obj_id)\n",
    "        all_data_table = survey.get_data_for_id(obj_id, True)\n",
    "        red_data_table, blue_data_table = split_data(all_data_table, bands, leff)\n",
    "\n",
    "        try:\n",
    "            with timeout(timeout_seconds):\n",
    "                x_this, y_this = get_classification_coords(\n",
    "                    all_data_table, red_data_table, blue_data_table, fitting_func)\n",
    "\n",
    "        except:\n",
    "            x.append(np.NAN)\n",
    "            y.append(np.NAN)    \n",
    "\n",
    "        else:\n",
    "            x.append(x_this)\n",
    "            y.append(y_this)\n",
    "            \n",
    "        break\n",
    "\n",
    "    return x, y\n"
   ]
  },
  {
   "cell_type": "markdown",
   "metadata": {},
   "source": [
    "## Run classifications"
   ]
  },
  {
   "cell_type": "code",
   "execution_count": null,
   "metadata": {
    "scrolled": false
   },
   "outputs": [],
   "source": [
    "# Get list of targets that are spectroscopically classified\n",
    "dr1_table_1 = dr1.load_table(1)\n",
    "is_typed = ~dr1_table_1['Type'].mask\n",
    "classifications = dr1_table_1['SN', 'Type'][is_typed]\n",
    "classifications.show_in_notebook(display_length=10)\n"
   ]
  },
  {
   "cell_type": "code",
   "execution_count": null,
   "metadata": {},
   "outputs": [],
   "source": [
    "simple_x, simple_y = classify_survey(dr3, classifications['SN'], simple_fit)\n",
    "classifications['simple_x'] = simple_x\n",
    "classifications['simple_y'] = simple_y\n"
   ]
  },
  {
   "cell_type": "code",
   "execution_count": null,
   "metadata": {},
   "outputs": [],
   "source": [
    "simple_y"
   ]
  },
  {
   "cell_type": "code",
   "execution_count": null,
   "metadata": {},
   "outputs": [],
   "source": [
    "plt.figure(figsize=(10, 10))\n",
    "for snclass in set(classifications['Type']):\n",
    "    plot_data = classifications[classifications['Type'] == snclass]\n",
    "    plt.scatter(plot_data['x'], plot_data['y'], label=snclass)\n",
    "    \n",
    "plt.axvline(0, linestyle='--', color='grey')\n",
    "plt.axhline(0, linestyle='--', color='grey')\n",
    "plt.xlabel(r'$\\chi^2_{blue}(Ia) - \\chi^2_{blue}(91bg)$', fontsize=14)\n",
    "plt.ylabel(r'$\\chi^2_{red}(Ia) - \\chi^2_{red}(91bg)$', fontsize=14)\n",
    "plt.legend()\n"
   ]
  },
  {
   "cell_type": "code",
   "execution_count": null,
   "metadata": {
    "scrolled": false
   },
   "outputs": [],
   "source": [
    "data_table = dr3.get_data_for_id('2007N', True)\n",
    "ignore_bands = [b for b in dr3.band_names if ('Y' in b or 'J' in b or 'H' in b)]\n",
    "for b in ignore_bands:\n",
    "    data_table = data_table[~(data_table['band'] == b)]\n",
    "            \n",
    "get_classification_coords(data_table, bands, leff, show_plots=True)\n",
    "    "
   ]
  },
  {
   "cell_type": "code",
   "execution_count": null,
   "metadata": {},
   "outputs": [],
   "source": []
  },
  {
   "cell_type": "code",
   "execution_count": null,
   "metadata": {},
   "outputs": [],
   "source": []
  }
 ],
 "metadata": {
  "kernelspec": {
   "display_name": "Python [conda env:sdss_class]",
   "language": "python",
   "name": "conda-env-sdss_class-py"
  },
  "language_info": {
   "codemirror_mode": {
    "name": "ipython",
    "version": 3
   },
   "file_extension": ".py",
   "mimetype": "text/x-python",
   "name": "python",
   "nbconvert_exporter": "python",
   "pygments_lexer": "ipython3",
   "version": "3.7.3"
  }
 },
 "nbformat": 4,
 "nbformat_minor": 2
}
