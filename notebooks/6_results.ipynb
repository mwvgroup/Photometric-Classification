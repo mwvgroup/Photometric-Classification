{
 "cells": [
  {
   "cell_type": "markdown",
   "metadata": {},
   "source": [
    "# Result Figures\n",
    "\n",
    "This notebook provides figures summarizing our the properties of our classified targets."
   ]
  },
  {
   "cell_type": "code",
   "execution_count": null,
   "metadata": {},
   "outputs": [],
   "source": [
    "import sys\n",
    "\n",
    "import sncosmo\n",
    "from matplotlib import pyplot as plt\n",
    "from matplotlib.ticker import AutoMinorLocator\n",
    "\n",
    "sys.path.insert(0, '../')\n",
    "from analysis_pipeline import SN91bgSource, get_fit_results\n"
   ]
  },
  {
   "cell_type": "markdown",
   "metadata": {},
   "source": [
    "## Load Data\n",
    "\n",
    "We begin by reading in SNCosmo fit results for SDSS, DES, and CSP. This includes fits that use all observed bands, along with those that exclusively use the restframe blue and restframe red filters."
   ]
  },
  {
   "cell_type": "code",
   "execution_count": null,
   "metadata": {
    "scrolled": false
   },
   "outputs": [],
   "source": [
    "salt_2_4 = sncosmo.Model(source=sncosmo.get_source('salt2', version='2.4'))\n",
    "sn_91bg = sncosmo.Model(source=SN91bgSource())\n",
    "\n",
    "for survey in ('csp', 'des', 'sdss'):\n",
    "    for model in (salt_2_4, sn_91bg):\n",
    "        for param_num in (4, 5):\n",
    "            var_pattern = f'{survey}_{model.source.name}_{param_num}p_{{}}'\n",
    "            all_bands, blue, red = get_fit_results(survey, model, param_num)\n",
    "            \n",
    "            for var, string in [(all_bands, 'all'), (blue, 'blue'), (red, 'red')]:\n",
    "                if var is None:\n",
    "                    msg = 'Could not find {} param fit in {} bands for {} - {}'\n",
    "                    print(msg.format(param_num, string, survey, model.source.name))\n",
    "                \n",
    "                else:\n",
    "                    globals()[var_pattern.format(string)] = var\n"
   ]
  },
  {
   "cell_type": "markdown",
   "metadata": {},
   "source": [
    "#  $M(B)$ VS. $\\Delta M_{15}(B)$"
   ]
  },
  {
   "cell_type": "code",
   "execution_count": null,
   "metadata": {},
   "outputs": [],
   "source": [
    "def plot_decline_rate(path, show=True):\n",
    "    fig, ax = plt.subplots(figsize=(8, 8))\n",
    "    plt.scatter(\n",
    "        x=sdss_salt2_2_4_4p_all['delta_15'], \n",
    "        y=sdss_salt2_2_4_4p_all['b_max'],\n",
    "        label='CSP',\n",
    "        s=1,\n",
    "    )\n",
    "\n",
    "    plt.scatter(\n",
    "        x=des_salt2_2_4_4p_all['delta_15'], \n",
    "        y=des_salt2_2_4_4p_all['b_max'],\n",
    "        label='DES',\n",
    "        s=1,\n",
    "    )\n",
    "\n",
    "    plt.scatter(\n",
    "        x=csp_salt2_2_4_4p_all['delta_15'], \n",
    "        y=csp_salt2_2_4_4p_all['b_max'],\n",
    "        label='CSP',\n",
    "        s=1,\n",
    "    )\n",
    "\n",
    "    ax.set_xlim(0, 3.5)\n",
    "    ax.set_xlabel(r'$\\Delta M_{15}\\, (B)$', fontsize=14, labelpad=10)\n",
    "    ax.xaxis.set_minor_locator(AutoMinorLocator(5))\n",
    "\n",
    "    ax.set_ylim(-10, -30)\n",
    "    ax.set_ylabel(r'$M\\, (B)$', fontsize=14, labelpad=10)\n",
    "    ax.yaxis.set_minor_locator(AutoMinorLocator(5))\n",
    "\n",
    "    plt.savefig(path)\n",
    "    if show:\n",
    "        plt.show()"
   ]
  },
  {
   "cell_type": "code",
   "execution_count": null,
   "metadata": {},
   "outputs": [],
   "source": [
    "plot_decline_rate('notebook_figs/ia_decline_rate.pdf')"
   ]
  },
  {
   "cell_type": "markdown",
   "metadata": {},
   "source": [
    "# Stretch and Color"
   ]
  },
  {
   "cell_type": "code",
   "execution_count": null,
   "metadata": {},
   "outputs": [],
   "source": [
    "def plot_stretch_color(path, show=True):\n",
    "    fig, ax = plt.subplots(figsize=(8, 8))\n",
    "    plt.scatter(\n",
    "        x=sdss_salt2_2_4_4p_all['x1'], \n",
    "        y=sdss_salt2_2_4_4p_all['c'],\n",
    "        label='CSP',\n",
    "        s=1,\n",
    "    )\n",
    "\n",
    "    plt.scatter(\n",
    "        x=des_salt2_2_4_4p_all['x1'], \n",
    "        y=des_salt2_2_4_4p_all['c'],\n",
    "        label='DES',\n",
    "        s=1,\n",
    "    )\n",
    "\n",
    "    plt.scatter(\n",
    "        x=csp_salt2_2_4_4p_all['x1'], \n",
    "        y=csp_salt2_2_4_4p_all['c'],\n",
    "        label='CSP',\n",
    "        s=1,\n",
    "    )\n",
    "\n",
    "    ax.set_xlabel(r'Stretch $(x_1)$', fontsize=14, labelpad=10)\n",
    "    ax.xaxis.set_minor_locator(AutoMinorLocator(5))\n",
    "\n",
    "    #ax.set_ylim(-10, -30)\n",
    "    ax.set_ylabel(r'Color $(c)$', fontsize=14, labelpad=10)\n",
    "    ax.yaxis.set_minor_locator(AutoMinorLocator(5))\n",
    "\n",
    "    plt.savefig(path)\n",
    "    if show:\n",
    "        plt.show()\n"
   ]
  },
  {
   "cell_type": "code",
   "execution_count": null,
   "metadata": {},
   "outputs": [],
   "source": [
    "plot_stretch_color('notebook_figs/ia_stretch_color.pdf')"
   ]
  },
  {
   "cell_type": "code",
   "execution_count": null,
   "metadata": {},
   "outputs": [],
   "source": []
  }
 ],
 "metadata": {
  "kernelspec": {
   "display_name": "Python [conda env:sdss_class] *",
   "language": "python",
   "name": "conda-env-sdss_class-py"
  },
  "language_info": {
   "codemirror_mode": {
    "name": "ipython",
    "version": 3
   },
   "file_extension": ".py",
   "mimetype": "text/x-python",
   "name": "python",
   "nbconvert_exporter": "python",
   "pygments_lexer": "ipython3",
   "version": "3.7.3"
  }
 },
 "nbformat": 4,
 "nbformat_minor": 2
}
