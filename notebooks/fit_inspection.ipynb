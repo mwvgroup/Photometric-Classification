{
 "cells": [
  {
   "cell_type": "markdown",
   "metadata": {},
   "source": [
    "# Fit Inspection\n",
    "\n",
    "This notebook visually inspects light curve fits for each target in a given survey. \n"
   ]
  },
  {
   "cell_type": "code",
   "execution_count": null,
   "metadata": {},
   "outputs": [],
   "source": [
    "import sys\n",
    "from pathlib import Path\n",
    "\n",
    "import sndata\n",
    "import yaml\n",
    "\n",
    "sys.path.insert(0, '../')\n",
    "\n",
    "from phot_class import fit_func_wraps\n",
    "from phot_class import models\n",
    "from phot_class import utils\n",
    "from phot_class.fitting import run_band_fits, run_collective_fits\n"
   ]
  },
  {
   "cell_type": "markdown",
   "metadata": {},
   "source": [
    "We begin by defining the data release to inspect light-curves for. We also define which parameters to vary while fitting and load a dictionary of priors from file.\n"
   ]
  },
  {
   "cell_type": "code",
   "execution_count": null,
   "metadata": {},
   "outputs": [],
   "source": [
    "# Set this to the survey you want to inspect\n",
    "# e.g. sndata.des.sn3yr, sndata.sdss.sako18\n",
    "survey = sndata.sdss.sako18\n",
    "\n",
    "# Specify which model parameters you want to vary while fitting\n",
    "# Options: 'z', t0', 'x0', 'x1', 'c'\n",
    "vparams = ['t0', 'amplitude', 'x1', 'c']\n",
    "\n",
    "# Specify the path where to load / save prior values from\n",
    "config_path = Path('../config_files/sdss_config_ext.yml')\n",
    "\n",
    "# Specify type of fits to investigate\n",
    "fitting_type = 'collective'\n"
   ]
  },
  {
   "cell_type": "markdown",
   "metadata": {},
   "source": [
    "Next we build an iterable over the object ids for each supernova we want to fit."
   ]
  },
  {
   "cell_type": "code",
   "execution_count": null,
   "metadata": {
    "scrolled": false
   },
   "outputs": [],
   "source": [
    "# Make sncosmo aware of the models and bandpasses we are using\n",
    "models.register_sources(force=True)\n",
    "survey.download_module_data()\n",
    "survey.register_filters(force=True)\n",
    "\n",
    "# Define an iterable over object ids\n",
    "targets = survey.get_available_ids()\n",
    "total_targets = len(targets)\n",
    "\n",
    "target_iter = iter(targets)\n",
    "band_names = survey.band_names\n",
    "lambda_eff = survey.lambda_effective\n"
   ]
  },
  {
   "cell_type": "code",
   "execution_count": null,
   "metadata": {},
   "outputs": [],
   "source": [
    "with open(config_path) as config_file:\n",
    "    config = yaml.load(config_file, Loader=yaml.FullLoader)\n"
   ]
  },
  {
   "cell_type": "markdown",
   "metadata": {},
   "source": [
    "Finally, we iterate over each supernova one at a time and fit each light-curve using the priors we loaded in from file earlier. To inspect fit results for a specific target, manually specify ``target_for_inspection`` as the desired object id."
   ]
  },
  {
   "cell_type": "code",
   "execution_count": null,
   "metadata": {},
   "outputs": [],
   "source": [
    "# Iterate to next target\n",
    "target_for_inspection = next(target_iter)\n",
    "\n",
    "# Or fit a given id\n",
    "# target_for_inspection = '15749'\n",
    "\n",
    "i = survey.get_available_ids().index(target_for_inspection)\n",
    "print(f'{i + 1} / {total_targets}')\n"
   ]
  },
  {
   "cell_type": "code",
   "execution_count": null,
   "metadata": {
    "scrolled": false
   },
   "outputs": [],
   "source": [
    "print('Inspecting:', target_for_inspection)\n",
    "\n",
    "# Load data. Note that we drop any data in the CSP NIR filters\n",
    "# These filters tend to throw off our fits\n",
    "target_data = survey.get_data_for_id(target_for_inspection)\n",
    "target_data = target_data[target_data['band'] != 'csp_dr3_Ydw']\n",
    "target_data = target_data[target_data['band'] != 'csp_dr3_Y']\n",
    "z = target_data.meta['z']\n",
    "\n",
    "hsiao_prior, hsiao_kwargs, sn91bg_prior, sn91bg_kwargs = \\\n",
    "    utils.parse_config_dict(target_for_inspection, config)\n",
    "\n",
    "print(f'\\nHsiao prior: {hsiao_prior}')\n",
    "print(f'\\nHsiao kwargs: {hsiao_kwargs}')\n",
    "print(f'\\nsn91bg prior: {sn91bg_prior}')\n",
    "print(f'\\nsn91bg kwargs: {sn91bg_kwargs}\\n')\n",
    "\n",
    "if fitting_type == 'band':\n",
    "    fit_results = run_band_fits(\n",
    "        target_data.meta['obj_id'],\n",
    "        target_data,\n",
    "        fit_func=fit_func_wraps.simple_fit,\n",
    "        priors_hs=hsiao_prior,\n",
    "        priors_bg=sn91bg_prior,\n",
    "        kwargs_hs=hsiao_kwargs,\n",
    "        kwargs_bg=sn91bg_kwargs,\n",
    "        show_plots=True\n",
    "    )\n",
    "\n",
    "elif fitting_type == 'collective':\n",
    "    fit_results = run_collective_fits(\n",
    "        target_data.meta['obj_id'],\n",
    "        target_data,\n",
    "        fit_func=fit_func_wraps.simple_fit,\n",
    "        priors_hs=hsiao_prior,\n",
    "        priors_bg=sn91bg_prior,\n",
    "        kwargs_hs=hsiao_kwargs,\n",
    "        kwargs_bg=sn91bg_kwargs,\n",
    "        show_plots=True,\n",
    "        band_names=survey.band_names,\n",
    "        lambda_eff=survey.lambda_effective\n",
    "    )\n",
    "\n"
   ]
  },
  {
   "cell_type": "code",
   "execution_count": null,
   "metadata": {},
   "outputs": [],
   "source": []
  }
 ],
 "metadata": {
  "kernelspec": {
   "display_name": "Python [conda env:anaconda3-phot_class] *",
   "language": "python",
   "name": "conda-env-anaconda3-phot_class-py"
  },
  "language_info": {
   "codemirror_mode": {
    "name": "ipython",
    "version": 3
   },
   "file_extension": ".py",
   "mimetype": "text/x-python",
   "name": "python",
   "nbconvert_exporter": "python",
   "pygments_lexer": "ipython3",
   "version": "3.7.4"
  }
 },
 "nbformat": 4,
 "nbformat_minor": 2
}
