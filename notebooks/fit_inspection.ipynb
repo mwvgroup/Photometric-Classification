{
 "cells": [
  {
   "cell_type": "markdown",
   "metadata": {},
   "source": [
    "# Fit Inspection\n",
    "\n",
    "This notebook visually inspects light curve fits for each target in a given survey. \n",
    "\n",
    "#### Interesting fits from CSP\n",
    "\n",
    "| Target | Model | Bands | notes |\n",
    "|---|---|---|---|\n",
    "| 2005M  | sn91bg | red | We would likely get a different fit result if we didn't crop the model. |\n",
    "| 2005?  | sn91bg |  | Much better sn91bg fit with significantly different t0 than CSP (14 days) . |\n",
    "| 2006dd  | sn91bg |  | Only caught the tail of the SN. |\n",
    "| 2006et | sn91bg | red | chisq would be smaller with a larger stretch, but our model is limited. |\n",
    "| 2006fw | | | One of the few CSP cases where the redshift is high enough to limit the number of \"red\" filters. |\n",
    "| 2006gj | | red | A normal SN Ia (I think) with a better 91bg than Ia fit. |\n",
    "| 2007jh, 2007ux, 2008R | salt2 | | The minimized t0 is visually too early, but increasing it results in a worse fit. |\n",
    "\n"
   ]
  },
  {
   "cell_type": "code",
   "execution_count": 24,
   "metadata": {},
   "outputs": [],
   "source": [
    "import sys\n",
    "from pathlib import Path\n",
    "\n",
    "import sndata\n",
    "import yaml\n",
    "\n",
    "sys.path.insert(0, '../')\n",
    "\n",
    "from phot_class import fit_funcs\n",
    "from phot_class import models\n",
    "from phot_class import utils\n",
    "from phot_class.classification import run_classification_fits\n"
   ]
  },
  {
   "cell_type": "markdown",
   "metadata": {},
   "source": [
    "We begin by defining the data release to inspect light-curves for. We also define which parameters to vary while fitting and load a dictionary of priors from file.\n"
   ]
  },
  {
   "cell_type": "code",
   "execution_count": 25,
   "metadata": {},
   "outputs": [],
   "source": [
    "# Set this to the survey you want to inspect\n",
    "# e.g. sndata.des.sn3yr, sndata.sdss.sako18\n",
    "survey = sndata.sdss.sako18\n",
    "\n",
    "# Specify which model parameters you want to vary while fitting\n",
    "# Options: 'z', t0', 'x0', 'x1', 'c'\n",
    "vparams = ['t0', 'x0', 'x1', 'c']\n",
    "\n",
    "# Specify the path where to load / save prior values from\n",
    "config_path = Path('../sdss_config.yml')\n"
   ]
  },
  {
   "cell_type": "markdown",
   "metadata": {},
   "source": [
    "Next we build an iterable over the object ids for each supernova we want to fit."
   ]
  },
  {
   "cell_type": "code",
   "execution_count": 26,
   "metadata": {
    "scrolled": false
   },
   "outputs": [],
   "source": [
    "# Make sncosmo aware of the models and bandpasses we are using\n",
    "models.register_sources(force=True)\n",
    "survey.download_module_data()\n",
    "survey.register_filters(force=True)\n",
    "\n",
    "# Define an iterable over object ids\n",
    "targets = survey.get_available_ids()\n",
    "total_targets = len(targets)\n",
    "\n",
    "target_iter = iter(targets)\n",
    "band_names = survey.band_names\n",
    "lambda_eff = survey.lambda_effective\n"
   ]
  },
  {
   "cell_type": "markdown",
   "metadata": {},
   "source": [
    "Finally, we iterate over each supernova one at a time and fit each light-curve using the priors we loaded in from file earlier. To inspect fit results for a specific target, manually specify ``target_for_inspection`` as the desired object id."
   ]
  },
  {
   "cell_type": "code",
   "execution_count": 41,
   "metadata": {},
   "outputs": [
    {
     "name": "stdout",
     "output_type": "stream",
     "text": [
      "9 / 10258\n"
     ]
    }
   ],
   "source": [
    "target_for_inspection = next(target_iter)\n",
    "i = survey.get_available_ids().index(target_for_inspection)\n",
    "print(f'{i + 1} / {total_targets}')\n"
   ]
  },
  {
   "cell_type": "code",
   "execution_count": 42,
   "metadata": {
    "scrolled": false
   },
   "outputs": [
    {
     "name": "stdout",
     "output_type": "stream",
     "text": [
      "Inspecting: 10039\n",
      "\n",
      "salt2 prior:\n",
      "    all: {}\n",
      "    blue: {}\n",
      "    red: {}\n",
      "\n",
      "salt2 kwargs:\n",
      "    all: {}\n",
      "    blue: {}\n",
      "    red: {}\n",
      "\n",
      "sn91bg prior:\n",
      "    all: {}\n",
      "    blue: {}\n",
      "    red: {}\n",
      "\n",
      "sn91bg kwargs:\n",
      "    all: {}\n",
      "    blue: {}\n",
      "    red: {}\n",
      "\n"
     ]
    },
    {
     "ename": "RuntimeError",
     "evalue": "Encountered unspecified value for z in prior: {}",
     "output_type": "error",
     "traceback": [
      "\u001b[0;31m---------------------------------------------------------------------------\u001b[0m",
      "\u001b[0;31mRuntimeError\u001b[0m                              Traceback (most recent call last)",
      "\u001b[0;32m<ipython-input-42-aeeebc53f611>\u001b[0m in \u001b[0;36m<module>\u001b[0;34m\u001b[0m\n\u001b[1;32m     46\u001b[0m     \u001b[0mkwargs_s2\u001b[0m\u001b[0;34m=\u001b[0m\u001b[0msalt2_kwargs\u001b[0m\u001b[0;34m,\u001b[0m\u001b[0;34m\u001b[0m\u001b[0;34m\u001b[0m\u001b[0m\n\u001b[1;32m     47\u001b[0m     \u001b[0mkwargs_bg\u001b[0m\u001b[0;34m=\u001b[0m\u001b[0msn91bg_kwargs\u001b[0m\u001b[0;34m,\u001b[0m\u001b[0;34m\u001b[0m\u001b[0;34m\u001b[0m\u001b[0m\n\u001b[0;32m---> 48\u001b[0;31m     \u001b[0mshow_plots\u001b[0m\u001b[0;34m=\u001b[0m\u001b[0;32mTrue\u001b[0m\u001b[0;34m\u001b[0m\u001b[0;34m\u001b[0m\u001b[0m\n\u001b[0m\u001b[1;32m     49\u001b[0m )\n",
      "\u001b[0;32m~/Github/Photometric-Classification/phot_class/classification.py\u001b[0m in \u001b[0;36mrun_classification_fits\u001b[0;34m(blue_data, red_data, vparams, fit_func, priors_s2, priors_bg, kwargs_s2, kwargs_bg, show_plots)\u001b[0m\n\u001b[1;32m    170\u001b[0m     \u001b[0mfixed_params\u001b[0m \u001b[0;34m=\u001b[0m \u001b[0;34m{\u001b[0m\u001b[0;34m'z'\u001b[0m\u001b[0;34m,\u001b[0m \u001b[0;34m't0'\u001b[0m\u001b[0;34m,\u001b[0m \u001b[0;34m'x0'\u001b[0m\u001b[0;34m,\u001b[0m \u001b[0;34m'x1'\u001b[0m\u001b[0;34m,\u001b[0m \u001b[0;34m'c'\u001b[0m\u001b[0;34m}\u001b[0m \u001b[0;34m-\u001b[0m \u001b[0mset\u001b[0m\u001b[0;34m(\u001b[0m\u001b[0mvparams\u001b[0m\u001b[0;34m)\u001b[0m\u001b[0;34m\u001b[0m\u001b[0;34m\u001b[0m\u001b[0m\n\u001b[1;32m    171\u001b[0m     \u001b[0;32mfor\u001b[0m \u001b[0mprior\u001b[0m \u001b[0;32min\u001b[0m \u001b[0;34m(\u001b[0m\u001b[0mpriors_s2\u001b[0m\u001b[0;34m,\u001b[0m \u001b[0mpriors_bg\u001b[0m\u001b[0;34m)\u001b[0m\u001b[0;34m:\u001b[0m\u001b[0;34m\u001b[0m\u001b[0;34m\u001b[0m\u001b[0m\n\u001b[0;32m--> 172\u001b[0;31m         \u001b[0m_raise_unspecified_params\u001b[0m\u001b[0;34m(\u001b[0m\u001b[0mfixed_params\u001b[0m\u001b[0;34m,\u001b[0m \u001b[0;34m*\u001b[0m\u001b[0mprior\u001b[0m\u001b[0;34m.\u001b[0m\u001b[0mvalues\u001b[0m\u001b[0;34m(\u001b[0m\u001b[0;34m)\u001b[0m\u001b[0;34m)\u001b[0m\u001b[0;34m\u001b[0m\u001b[0;34m\u001b[0m\u001b[0m\n\u001b[0m\u001b[1;32m    173\u001b[0m \u001b[0;34m\u001b[0m\u001b[0m\n\u001b[1;32m    174\u001b[0m \u001b[0;34m\u001b[0m\u001b[0m\n",
      "\u001b[0;32m~/Github/Photometric-Classification/phot_class/classification.py\u001b[0m in \u001b[0;36m_raise_unspecified_params\u001b[0;34m(fixed_params, *priors)\u001b[0m\n\u001b[1;32m    127\u001b[0m             \u001b[0;32mif\u001b[0m \u001b[0mp\u001b[0m \u001b[0;32mnot\u001b[0m \u001b[0;32min\u001b[0m \u001b[0mprior\u001b[0m\u001b[0;34m:\u001b[0m\u001b[0;34m\u001b[0m\u001b[0;34m\u001b[0m\u001b[0m\n\u001b[1;32m    128\u001b[0m                 raise RuntimeError(\n\u001b[0;32m--> 129\u001b[0;31m                     f'Encountered unspecified value for {p} in prior: {prior}')\n\u001b[0m\u001b[1;32m    130\u001b[0m \u001b[0;34m\u001b[0m\u001b[0m\n\u001b[1;32m    131\u001b[0m \u001b[0;34m\u001b[0m\u001b[0m\n",
      "\u001b[0;31mRuntimeError\u001b[0m: Encountered unspecified value for z in prior: {}"
     ]
    }
   ],
   "source": [
    "print('Inspecting:', target_for_inspection)\n",
    "\n",
    "# We reload the config data each time we fit. This means\n",
    "# you can vary the parameters in the config file to\n",
    "# improve the fit results in a semi-interactive way.\n",
    "#with open(config_path) as config_file:\n",
    "#    config = yaml.load(config_file, Loader=yaml.FullLoader)\n",
    "\n",
    "# Load data. Note that we drop any data in the CSP NIR filters\n",
    "# These filters tend to throw off our fits\n",
    "target_data = survey.get_data_for_id(target_for_inspection)\n",
    "target_data = target_data[target_data['band'] != 'csp_dr3_Ydw']\n",
    "target_data = target_data[target_data['band'] != 'csp_dr3_Y']\n",
    "z = target_data.meta['redshift']\n",
    "\n",
    "# Format data for fitting\n",
    "blue_data, red_data = utils.split_data(target_data, band_names, lambda_eff, z)\n",
    "salt2_prior, salt2_kwargs, sn91bg_prior, sn91bg_kwargs = \\\n",
    "    utils.parse_config_dict(target_for_inspection, config)\n",
    "\n",
    "band_sets = ['all', 'blue', 'red']\n",
    "print('\\nsalt2 prior:')\n",
    "for b in band_sets:\n",
    "    print(f'    {b}: {salt2_prior[b]}')\n",
    "    \n",
    "print('\\nsalt2 kwargs:')\n",
    "for b in band_sets:\n",
    "    print(f'    {b}: {salt2_kwargs[b]}')\n",
    "    \n",
    "print('\\nsn91bg prior:')\n",
    "for b in band_sets:\n",
    "    print(f'    {b}: {sn91bg_prior[b]}')\n",
    "    \n",
    "print('\\nsn91bg kwargs:')\n",
    "for b in band_sets:\n",
    "    print(f'    {b}: {sn91bg_kwargs[b]}')\n",
    "\n",
    "print()\n",
    "fit_results = run_classification_fits(\n",
    "    blue_data=blue_data,\n",
    "    red_data=red_data,\n",
    "    vparams=vparams,\n",
    "    fit_func=fit_funcs.simple_fit,\n",
    "    priors_s2=salt2_prior,\n",
    "    priors_bg=sn91bg_prior,\n",
    "    kwargs_s2=salt2_kwargs,\n",
    "    kwargs_bg=sn91bg_kwargs,\n",
    "    show_plots=True\n",
    ")\n"
   ]
  },
  {
   "cell_type": "code",
   "execution_count": null,
   "metadata": {},
   "outputs": [],
   "source": []
  }
 ],
 "metadata": {
  "kernelspec": {
   "display_name": "Python [conda env:phot_class] *",
   "language": "python",
   "name": "conda-env-phot_class-py"
  },
  "language_info": {
   "codemirror_mode": {
    "name": "ipython",
    "version": 3
   },
   "file_extension": ".py",
   "mimetype": "text/x-python",
   "name": "python",
   "nbconvert_exporter": "python",
   "pygments_lexer": "ipython3",
   "version": "3.7.4"
  }
 },
 "nbformat": 4,
 "nbformat_minor": 2
}
