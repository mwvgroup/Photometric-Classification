{
 "cells": [
  {
   "cell_type": "markdown",
   "metadata": {},
   "source": [
    "# Check Fitting Function\n",
    "\n",
    "This notebook demonstrates the fitting of a single SDSS target with the analysis pipeline and checks that the pipeline results agree with results computed directly from SNCosmo. It is important to note that the full analysis uses nested sampling to determine model specific fitting priors for each individual object. We do not consider that process here, but restrict our scope to ensuring the core fitting functionality of the analysis pipeline returns consistent results."
   ]
  },
  {
   "cell_type": "code",
   "execution_count": null,
   "metadata": {},
   "outputs": [],
   "source": [
    "import sys\n",
    "\n",
    "import numpy as np\n",
    "import sncosmo\n",
    "from SNData.sdss import sako18\n",
    "from astropy.table import Table\n",
    "from matplotlib import pyplot as plt\n",
    "\n",
    "sys.path.insert(0, '../')\n",
    "from analysis_pipeline import fit_lc\n",
    "\n",
    "# Make sure SDSS data is locally available and registered with SNCosmo\n",
    "sako18.download_module_data()\n",
    "sako18.register_filters()\n"
   ]
  },
  {
   "cell_type": "markdown",
   "metadata": {},
   "source": [
    "## Notes on data handling\n",
    "\n",
    "For completeness, we note that the `SNData` package uses SDSS bandpasses from Doi et al. 2010. These are the same filters when fitting SDSS light curves."
   ]
  },
  {
   "cell_type": "code",
   "execution_count": null,
   "metadata": {
    "scrolled": false
   },
   "outputs": [],
   "source": [
    "fig, axes = plt.subplots(1, 6, figsize=(24, 4))\n",
    "for i, axis in enumerate(axes):\n",
    "    for band in 'ugriz':\n",
    "        band = sncosmo.get_bandpass('sdss_sako18_{}{}'.format(band, i + 1))\n",
    "        axis.plot(band.wave, band.trans)\n",
    "        axis.set_title('CCD Column {}'.format(i + 1))\n"
   ]
  },
  {
   "cell_type": "markdown",
   "metadata": {},
   "source": [
    "We also note that the published SDSS data set includes flags notating outlier data points. These observations are automatically removed by `SNData`"
   ]
  },
  {
   "cell_type": "markdown",
   "metadata": {},
   "source": [
    "## Picking an example target\n",
    "\n",
    "For our demonstration, we specifically focus on targets that are spectroscopically confirmed SNe Ia. These can be isolated from the published SDSS data by selecting targets classified as `SNIa`."
   ]
  },
  {
   "cell_type": "code",
   "execution_count": null,
   "metadata": {
    "scrolled": false
   },
   "outputs": [],
   "source": [
    "master_table = sako18.load_table('master')\n",
    "master_table_indices = master_table['Classification'] == 'SNIa'\n",
    "spec_confirmed_sn = master_table[master_table_indices]\n",
    "\n",
    "print('A sample of the SDSS published results for '\n",
    "      'spectroscopically confirmed SNe Ia:')\n",
    "spec_confirmed_sn[:5]\n"
   ]
  },
  {
   "cell_type": "markdown",
   "metadata": {},
   "source": [
    "Next, we pick fit an arbitrary object ID and retrieve the published values. "
   ]
  },
  {
   "cell_type": "code",
   "execution_count": null,
   "metadata": {},
   "outputs": [],
   "source": [
    "test_id = '739'\n",
    "published_values = spec_confirmed_sn[spec_confirmed_sn['CID'] == test_id][0]\n",
    "print('Example_id:', test_id)\n",
    "\n",
    "print('\\nPublished values:')\n",
    "print('  z: ', published_values['zCMB'])\n",
    "print('  t0:', published_values['MJDatPeakrmag'])\n",
    "print('  x0:', published_values['x0SALT2zspec'])\n",
    "print('  x1:', published_values['x1SALT2zspec'])\n",
    "print('  c: ', published_values['cSALT2zspec'])\n",
    "\n",
    "chisq_norm = published_values['chi2SALT2zspec'] / published_values['ndofSALT2zspec']\n",
    "print('  Normalized chi-squared:', chisq_norm)\n",
    "\n",
    "print('\\nThe lightcurve:')\n",
    "test_data = sako18.get_data_for_id(test_id)\n",
    "fig, axes = plt.subplots(1, 5, figsize=(15, 3))\n",
    "for i in range(5):\n",
    "    band_data = test_data[test_data['FILT'] == i]\n",
    "    axes[i].scatter(band_data['MJD'], band_data['MAG'])\n",
    "    axes[i].errorbar(band_data['MJD'], band_data['MAG'], yerr=band_data['MERR'], linestyle='')\n",
    "    axes[i].set_xlabel('MJD')\n",
    "\n",
    "axes[0].set_ylabel('Mag')\n",
    "plt.show()\n",
    "\n",
    "print('\\nA subset of the data table:')\n",
    "test_data[:10]\n"
   ]
  },
  {
   "cell_type": "markdown",
   "metadata": {},
   "source": [
    "# Light curve fitting\n",
    "\n",
    "Using the data shown above, we fit an arbitrary light curve and check that the results we receive from the pipeline are the same as those we would receive from running SNCosmo directly."
   ]
  },
  {
   "cell_type": "code",
   "execution_count": null,
   "metadata": {
    "scrolled": false
   },
   "outputs": [],
   "source": [
    "# Get an input table formatted for use with SNCosmo\n",
    "input_table = sako18.get_sncosmo_input(test_id)\n",
    "\n",
    "# Create a Salt2.0 model\n",
    "source = sncosmo.get_source('salt2', version='2.0')\n",
    "model = sncosmo.Model(source=source)\n",
    "model.set(z=input_table.meta['redshift'])\n",
    "\n",
    "# Run the fit with the pipeline\n",
    "pipeline_results = fit_lc(\n",
    "    input_table,\n",
    "    model,\n",
    "    ['t0', 'x0', 'x1', 'c'],\n",
    "    modelcov=True)\n",
    "\n",
    "print('\\nPipeline results:')\n",
    "print('  z: ', pipeline_results[2])\n",
    "print('  t0:', pipeline_results[3])\n",
    "print('  x0:', pipeline_results[4])\n",
    "print('  x1:', pipeline_results[5])\n",
    "print('  c: ', pipeline_results[6])\n",
    "print('  Normalized chi-squared:', pipeline_results[10] / pipeline_results[11])\n",
    "\n",
    "# Run the fit with SNCosmo\n",
    "sncosmo_result, fitted_model = sncosmo.fit_lc(\n",
    "    input_table,\n",
    "    model, ['t0', 'x0', 'x1', 'c'],\n",
    "    modelcov=True\n",
    ")\n",
    "\n",
    "print('\\nSNCosmo values:')\n",
    "print('  z: ', sncosmo_result.parameters[0])\n",
    "print('  t0:', sncosmo_result.parameters[1])\n",
    "print('  x0:', sncosmo_result.parameters[2])\n",
    "print('  x1:', sncosmo_result.parameters[3])\n",
    "print('  c: ', sncosmo_result.parameters[4])\n",
    "print('  Normalized chi-squared:',\n",
    "      sncosmo_result.chisq / sncosmo_result.ndof)\n",
    "\n",
    "print('\\nSNCosmo Plot:')\n",
    "sncosmo.plot_lc(input_table, model=fitted_model, errors=sncosmo_result.errors)\n",
    "plt.show()\n"
   ]
  },
  {
   "cell_type": "markdown",
   "metadata": {},
   "source": [
    "Finally we take a look at the published values."
   ]
  },
  {
   "cell_type": "code",
   "execution_count": null,
   "metadata": {},
   "outputs": [],
   "source": [
    "print('\\nPipeline results:')\n",
    "print('  z: ', pipeline_results[2])\n",
    "print('  t0:', pipeline_results[3])\n",
    "print('  x0:', pipeline_results[4])\n",
    "print('  x1:', pipeline_results[5])\n",
    "print('  c: ', pipeline_results[6])\n",
    "print('  Normalized chi-squared:', pipeline_results[10] / pipeline_results[11])\n",
    "\n",
    "print('\\nPublished values:')\n",
    "print('  z: ', published_values['zCMB'])\n",
    "print('  t0:', published_values['MJDatPeakrmag'])\n",
    "print('  x0:', published_values['x0SALT2zspec'])\n",
    "print('  x1:', published_values['x1SALT2zspec'])\n",
    "print('  c: ', published_values['cSALT2zspec'])\n",
    "print('  Normalized chi-squared:', chisq_norm)"
   ]
  },
  {
   "cell_type": "code",
   "execution_count": null,
   "metadata": {},
   "outputs": [],
   "source": []
  }
 ],
 "metadata": {
  "kernelspec": {
   "display_name": "Python [conda env:sdss_class] *",
   "language": "python",
   "name": "conda-env-sdss_class-py"
  },
  "language_info": {
   "codemirror_mode": {
    "name": "ipython",
    "version": 3
   },
   "file_extension": ".py",
   "mimetype": "text/x-python",
   "name": "python",
   "nbconvert_exporter": "python",
   "pygments_lexer": "ipython3",
   "version": "3.7.3"
  }
 },
 "nbformat": 4,
 "nbformat_minor": 2
}
