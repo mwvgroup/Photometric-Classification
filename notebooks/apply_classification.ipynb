{
 "cells": [
  {
   "cell_type": "markdown",
   "metadata": {},
   "source": [
    "# Apply Photometric Classification To Fit Results\n",
    "\n",
    "This notebook applies the photometric classification method from González-Gaitán et al. 2014 to SDSS, DES, and CSP light-curve fits. Results are then used to analyze the properties of peculiar supernovae."
   ]
  },
  {
   "cell_type": "code",
   "execution_count": 72,
   "metadata": {},
   "outputs": [
    {
     "data": {
      "text/html": [
       "\n",
       "    <div class=\"bk-root\">\n",
       "        <a href=\"https://bokeh.pydata.org\" target=\"_blank\" class=\"bk-logo bk-logo-small bk-logo-notebook\"></a>\n",
       "        <span id=\"3747\">Loading BokehJS ...</span>\n",
       "    </div>"
      ]
     },
     "metadata": {},
     "output_type": "display_data"
    },
    {
     "data": {
      "application/javascript": [
       "\n",
       "(function(root) {\n",
       "  function now() {\n",
       "    return new Date();\n",
       "  }\n",
       "\n",
       "  var force = true;\n",
       "\n",
       "  if (typeof root._bokeh_onload_callbacks === \"undefined\" || force === true) {\n",
       "    root._bokeh_onload_callbacks = [];\n",
       "    root._bokeh_is_loading = undefined;\n",
       "  }\n",
       "\n",
       "  var JS_MIME_TYPE = 'application/javascript';\n",
       "  var HTML_MIME_TYPE = 'text/html';\n",
       "  var EXEC_MIME_TYPE = 'application/vnd.bokehjs_exec.v0+json';\n",
       "  var CLASS_NAME = 'output_bokeh rendered_html';\n",
       "\n",
       "  /**\n",
       "   * Render data to the DOM node\n",
       "   */\n",
       "  function render(props, node) {\n",
       "    var script = document.createElement(\"script\");\n",
       "    node.appendChild(script);\n",
       "  }\n",
       "\n",
       "  /**\n",
       "   * Handle when an output is cleared or removed\n",
       "   */\n",
       "  function handleClearOutput(event, handle) {\n",
       "    var cell = handle.cell;\n",
       "\n",
       "    var id = cell.output_area._bokeh_element_id;\n",
       "    var server_id = cell.output_area._bokeh_server_id;\n",
       "    // Clean up Bokeh references\n",
       "    if (id != null && id in Bokeh.index) {\n",
       "      Bokeh.index[id].model.document.clear();\n",
       "      delete Bokeh.index[id];\n",
       "    }\n",
       "\n",
       "    if (server_id !== undefined) {\n",
       "      // Clean up Bokeh references\n",
       "      var cmd = \"from bokeh.io.state import curstate; print(curstate().uuid_to_server['\" + server_id + \"'].get_sessions()[0].document.roots[0]._id)\";\n",
       "      cell.notebook.kernel.execute(cmd, {\n",
       "        iopub: {\n",
       "          output: function(msg) {\n",
       "            var id = msg.content.text.trim();\n",
       "            if (id in Bokeh.index) {\n",
       "              Bokeh.index[id].model.document.clear();\n",
       "              delete Bokeh.index[id];\n",
       "            }\n",
       "          }\n",
       "        }\n",
       "      });\n",
       "      // Destroy server and session\n",
       "      var cmd = \"import bokeh.io.notebook as ion; ion.destroy_server('\" + server_id + \"')\";\n",
       "      cell.notebook.kernel.execute(cmd);\n",
       "    }\n",
       "  }\n",
       "\n",
       "  /**\n",
       "   * Handle when a new output is added\n",
       "   */\n",
       "  function handleAddOutput(event, handle) {\n",
       "    var output_area = handle.output_area;\n",
       "    var output = handle.output;\n",
       "\n",
       "    // limit handleAddOutput to display_data with EXEC_MIME_TYPE content only\n",
       "    if ((output.output_type != \"display_data\") || (!output.data.hasOwnProperty(EXEC_MIME_TYPE))) {\n",
       "      return\n",
       "    }\n",
       "\n",
       "    var toinsert = output_area.element.find(\".\" + CLASS_NAME.split(' ')[0]);\n",
       "\n",
       "    if (output.metadata[EXEC_MIME_TYPE][\"id\"] !== undefined) {\n",
       "      toinsert[toinsert.length - 1].firstChild.textContent = output.data[JS_MIME_TYPE];\n",
       "      // store reference to embed id on output_area\n",
       "      output_area._bokeh_element_id = output.metadata[EXEC_MIME_TYPE][\"id\"];\n",
       "    }\n",
       "    if (output.metadata[EXEC_MIME_TYPE][\"server_id\"] !== undefined) {\n",
       "      var bk_div = document.createElement(\"div\");\n",
       "      bk_div.innerHTML = output.data[HTML_MIME_TYPE];\n",
       "      var script_attrs = bk_div.children[0].attributes;\n",
       "      for (var i = 0; i < script_attrs.length; i++) {\n",
       "        toinsert[toinsert.length - 1].firstChild.setAttribute(script_attrs[i].name, script_attrs[i].value);\n",
       "      }\n",
       "      // store reference to server id on output_area\n",
       "      output_area._bokeh_server_id = output.metadata[EXEC_MIME_TYPE][\"server_id\"];\n",
       "    }\n",
       "  }\n",
       "\n",
       "  function register_renderer(events, OutputArea) {\n",
       "\n",
       "    function append_mime(data, metadata, element) {\n",
       "      // create a DOM node to render to\n",
       "      var toinsert = this.create_output_subarea(\n",
       "        metadata,\n",
       "        CLASS_NAME,\n",
       "        EXEC_MIME_TYPE\n",
       "      );\n",
       "      this.keyboard_manager.register_events(toinsert);\n",
       "      // Render to node\n",
       "      var props = {data: data, metadata: metadata[EXEC_MIME_TYPE]};\n",
       "      render(props, toinsert[toinsert.length - 1]);\n",
       "      element.append(toinsert);\n",
       "      return toinsert\n",
       "    }\n",
       "\n",
       "    /* Handle when an output is cleared or removed */\n",
       "    events.on('clear_output.CodeCell', handleClearOutput);\n",
       "    events.on('delete.Cell', handleClearOutput);\n",
       "\n",
       "    /* Handle when a new output is added */\n",
       "    events.on('output_added.OutputArea', handleAddOutput);\n",
       "\n",
       "    /**\n",
       "     * Register the mime type and append_mime function with output_area\n",
       "     */\n",
       "    OutputArea.prototype.register_mime_type(EXEC_MIME_TYPE, append_mime, {\n",
       "      /* Is output safe? */\n",
       "      safe: true,\n",
       "      /* Index of renderer in `output_area.display_order` */\n",
       "      index: 0\n",
       "    });\n",
       "  }\n",
       "\n",
       "  // register the mime type if in Jupyter Notebook environment and previously unregistered\n",
       "  if (root.Jupyter !== undefined) {\n",
       "    var events = require('base/js/events');\n",
       "    var OutputArea = require('notebook/js/outputarea').OutputArea;\n",
       "\n",
       "    if (OutputArea.prototype.mime_types().indexOf(EXEC_MIME_TYPE) == -1) {\n",
       "      register_renderer(events, OutputArea);\n",
       "    }\n",
       "  }\n",
       "\n",
       "  \n",
       "  if (typeof (root._bokeh_timeout) === \"undefined\" || force === true) {\n",
       "    root._bokeh_timeout = Date.now() + 5000;\n",
       "    root._bokeh_failed_load = false;\n",
       "  }\n",
       "\n",
       "  var NB_LOAD_WARNING = {'data': {'text/html':\n",
       "     \"<div style='background-color: #fdd'>\\n\"+\n",
       "     \"<p>\\n\"+\n",
       "     \"BokehJS does not appear to have successfully loaded. If loading BokehJS from CDN, this \\n\"+\n",
       "     \"may be due to a slow or bad network connection. Possible fixes:\\n\"+\n",
       "     \"</p>\\n\"+\n",
       "     \"<ul>\\n\"+\n",
       "     \"<li>re-rerun `output_notebook()` to attempt to load from CDN again, or</li>\\n\"+\n",
       "     \"<li>use INLINE resources instead, as so:</li>\\n\"+\n",
       "     \"</ul>\\n\"+\n",
       "     \"<code>\\n\"+\n",
       "     \"from bokeh.resources import INLINE\\n\"+\n",
       "     \"output_notebook(resources=INLINE)\\n\"+\n",
       "     \"</code>\\n\"+\n",
       "     \"</div>\"}};\n",
       "\n",
       "  function display_loaded() {\n",
       "    var el = document.getElementById(\"3747\");\n",
       "    if (el != null) {\n",
       "      el.textContent = \"BokehJS is loading...\";\n",
       "    }\n",
       "    if (root.Bokeh !== undefined) {\n",
       "      if (el != null) {\n",
       "        el.textContent = \"BokehJS \" + root.Bokeh.version + \" successfully loaded.\";\n",
       "      }\n",
       "    } else if (Date.now() < root._bokeh_timeout) {\n",
       "      setTimeout(display_loaded, 100)\n",
       "    }\n",
       "  }\n",
       "\n",
       "\n",
       "  function run_callbacks() {\n",
       "    try {\n",
       "      root._bokeh_onload_callbacks.forEach(function(callback) {\n",
       "        if (callback != null)\n",
       "          callback();\n",
       "      });\n",
       "    } finally {\n",
       "      delete root._bokeh_onload_callbacks\n",
       "    }\n",
       "    console.debug(\"Bokeh: all callbacks have finished\");\n",
       "  }\n",
       "\n",
       "  function load_libs(css_urls, js_urls, callback) {\n",
       "    if (css_urls == null) css_urls = [];\n",
       "    if (js_urls == null) js_urls = [];\n",
       "\n",
       "    root._bokeh_onload_callbacks.push(callback);\n",
       "    if (root._bokeh_is_loading > 0) {\n",
       "      console.debug(\"Bokeh: BokehJS is being loaded, scheduling callback at\", now());\n",
       "      return null;\n",
       "    }\n",
       "    if (js_urls == null || js_urls.length === 0) {\n",
       "      run_callbacks();\n",
       "      return null;\n",
       "    }\n",
       "    console.debug(\"Bokeh: BokehJS not loaded, scheduling load and callback at\", now());\n",
       "    root._bokeh_is_loading = css_urls.length + js_urls.length;\n",
       "\n",
       "    function on_load() {\n",
       "      root._bokeh_is_loading--;\n",
       "      if (root._bokeh_is_loading === 0) {\n",
       "        console.debug(\"Bokeh: all BokehJS libraries/stylesheets loaded\");\n",
       "        run_callbacks()\n",
       "      }\n",
       "    }\n",
       "\n",
       "    function on_error() {\n",
       "      console.error(\"failed to load \" + url);\n",
       "    }\n",
       "\n",
       "    for (var i = 0; i < css_urls.length; i++) {\n",
       "      var url = css_urls[i];\n",
       "      const element = document.createElement(\"link\");\n",
       "      element.onload = on_load;\n",
       "      element.onerror = on_error;\n",
       "      element.rel = \"stylesheet\";\n",
       "      element.type = \"text/css\";\n",
       "      element.href = url;\n",
       "      console.debug(\"Bokeh: injecting link tag for BokehJS stylesheet: \", url);\n",
       "      document.body.appendChild(element);\n",
       "    }\n",
       "\n",
       "    for (var i = 0; i < js_urls.length; i++) {\n",
       "      var url = js_urls[i];\n",
       "      var element = document.createElement('script');\n",
       "      element.onload = on_load;\n",
       "      element.onerror = on_error;\n",
       "      element.async = false;\n",
       "      element.src = url;\n",
       "      console.debug(\"Bokeh: injecting script tag for BokehJS library: \", url);\n",
       "      document.head.appendChild(element);\n",
       "    }\n",
       "  };var element = document.getElementById(\"3747\");\n",
       "  if (element == null) {\n",
       "    console.error(\"Bokeh: ERROR: autoload.js configured with elementid '3747' but no matching script tag was found. \")\n",
       "    return false;\n",
       "  }\n",
       "\n",
       "  function inject_raw_css(css) {\n",
       "    const element = document.createElement(\"style\");\n",
       "    element.appendChild(document.createTextNode(css));\n",
       "    document.body.appendChild(element);\n",
       "  }\n",
       "\n",
       "  var js_urls = [\"https://cdn.pydata.org/bokeh/release/bokeh-1.3.4.min.js\", \"https://cdn.pydata.org/bokeh/release/bokeh-widgets-1.3.4.min.js\", \"https://cdn.pydata.org/bokeh/release/bokeh-tables-1.3.4.min.js\", \"https://cdn.pydata.org/bokeh/release/bokeh-gl-1.3.4.min.js\"];\n",
       "  var css_urls = [];\n",
       "\n",
       "  var inline_js = [\n",
       "    function(Bokeh) {\n",
       "      Bokeh.set_log_level(\"info\");\n",
       "    },\n",
       "    \n",
       "    function(Bokeh) {\n",
       "      \n",
       "    },\n",
       "    function(Bokeh) {} // ensure no trailing comma for IE\n",
       "  ];\n",
       "\n",
       "  function run_inline_js() {\n",
       "    \n",
       "    if ((root.Bokeh !== undefined) || (force === true)) {\n",
       "      for (var i = 0; i < inline_js.length; i++) {\n",
       "        inline_js[i].call(root, root.Bokeh);\n",
       "      }if (force === true) {\n",
       "        display_loaded();\n",
       "      }} else if (Date.now() < root._bokeh_timeout) {\n",
       "      setTimeout(run_inline_js, 100);\n",
       "    } else if (!root._bokeh_failed_load) {\n",
       "      console.log(\"Bokeh: BokehJS failed to load within specified timeout.\");\n",
       "      root._bokeh_failed_load = true;\n",
       "    } else if (force !== true) {\n",
       "      var cell = $(document.getElementById(\"3747\")).parents('.cell').data().cell;\n",
       "      cell.output_area.append_execute_result(NB_LOAD_WARNING)\n",
       "    }\n",
       "\n",
       "  }\n",
       "\n",
       "  if (root._bokeh_is_loading === 0) {\n",
       "    console.debug(\"Bokeh: BokehJS loaded, going straight to plotting\");\n",
       "    run_inline_js();\n",
       "  } else {\n",
       "    load_libs(css_urls, js_urls, function() {\n",
       "      console.debug(\"Bokeh: BokehJS plotting callback run at\", now());\n",
       "      run_inline_js();\n",
       "    });\n",
       "  }\n",
       "}(window));"
      ],
      "application/vnd.bokehjs_load.v0+json": "\n(function(root) {\n  function now() {\n    return new Date();\n  }\n\n  var force = true;\n\n  if (typeof root._bokeh_onload_callbacks === \"undefined\" || force === true) {\n    root._bokeh_onload_callbacks = [];\n    root._bokeh_is_loading = undefined;\n  }\n\n  \n\n  \n  if (typeof (root._bokeh_timeout) === \"undefined\" || force === true) {\n    root._bokeh_timeout = Date.now() + 5000;\n    root._bokeh_failed_load = false;\n  }\n\n  var NB_LOAD_WARNING = {'data': {'text/html':\n     \"<div style='background-color: #fdd'>\\n\"+\n     \"<p>\\n\"+\n     \"BokehJS does not appear to have successfully loaded. If loading BokehJS from CDN, this \\n\"+\n     \"may be due to a slow or bad network connection. Possible fixes:\\n\"+\n     \"</p>\\n\"+\n     \"<ul>\\n\"+\n     \"<li>re-rerun `output_notebook()` to attempt to load from CDN again, or</li>\\n\"+\n     \"<li>use INLINE resources instead, as so:</li>\\n\"+\n     \"</ul>\\n\"+\n     \"<code>\\n\"+\n     \"from bokeh.resources import INLINE\\n\"+\n     \"output_notebook(resources=INLINE)\\n\"+\n     \"</code>\\n\"+\n     \"</div>\"}};\n\n  function display_loaded() {\n    var el = document.getElementById(\"3747\");\n    if (el != null) {\n      el.textContent = \"BokehJS is loading...\";\n    }\n    if (root.Bokeh !== undefined) {\n      if (el != null) {\n        el.textContent = \"BokehJS \" + root.Bokeh.version + \" successfully loaded.\";\n      }\n    } else if (Date.now() < root._bokeh_timeout) {\n      setTimeout(display_loaded, 100)\n    }\n  }\n\n\n  function run_callbacks() {\n    try {\n      root._bokeh_onload_callbacks.forEach(function(callback) {\n        if (callback != null)\n          callback();\n      });\n    } finally {\n      delete root._bokeh_onload_callbacks\n    }\n    console.debug(\"Bokeh: all callbacks have finished\");\n  }\n\n  function load_libs(css_urls, js_urls, callback) {\n    if (css_urls == null) css_urls = [];\n    if (js_urls == null) js_urls = [];\n\n    root._bokeh_onload_callbacks.push(callback);\n    if (root._bokeh_is_loading > 0) {\n      console.debug(\"Bokeh: BokehJS is being loaded, scheduling callback at\", now());\n      return null;\n    }\n    if (js_urls == null || js_urls.length === 0) {\n      run_callbacks();\n      return null;\n    }\n    console.debug(\"Bokeh: BokehJS not loaded, scheduling load and callback at\", now());\n    root._bokeh_is_loading = css_urls.length + js_urls.length;\n\n    function on_load() {\n      root._bokeh_is_loading--;\n      if (root._bokeh_is_loading === 0) {\n        console.debug(\"Bokeh: all BokehJS libraries/stylesheets loaded\");\n        run_callbacks()\n      }\n    }\n\n    function on_error() {\n      console.error(\"failed to load \" + url);\n    }\n\n    for (var i = 0; i < css_urls.length; i++) {\n      var url = css_urls[i];\n      const element = document.createElement(\"link\");\n      element.onload = on_load;\n      element.onerror = on_error;\n      element.rel = \"stylesheet\";\n      element.type = \"text/css\";\n      element.href = url;\n      console.debug(\"Bokeh: injecting link tag for BokehJS stylesheet: \", url);\n      document.body.appendChild(element);\n    }\n\n    for (var i = 0; i < js_urls.length; i++) {\n      var url = js_urls[i];\n      var element = document.createElement('script');\n      element.onload = on_load;\n      element.onerror = on_error;\n      element.async = false;\n      element.src = url;\n      console.debug(\"Bokeh: injecting script tag for BokehJS library: \", url);\n      document.head.appendChild(element);\n    }\n  };var element = document.getElementById(\"3747\");\n  if (element == null) {\n    console.error(\"Bokeh: ERROR: autoload.js configured with elementid '3747' but no matching script tag was found. \")\n    return false;\n  }\n\n  function inject_raw_css(css) {\n    const element = document.createElement(\"style\");\n    element.appendChild(document.createTextNode(css));\n    document.body.appendChild(element);\n  }\n\n  var js_urls = [\"https://cdn.pydata.org/bokeh/release/bokeh-1.3.4.min.js\", \"https://cdn.pydata.org/bokeh/release/bokeh-widgets-1.3.4.min.js\", \"https://cdn.pydata.org/bokeh/release/bokeh-tables-1.3.4.min.js\", \"https://cdn.pydata.org/bokeh/release/bokeh-gl-1.3.4.min.js\"];\n  var css_urls = [];\n\n  var inline_js = [\n    function(Bokeh) {\n      Bokeh.set_log_level(\"info\");\n    },\n    \n    function(Bokeh) {\n      \n    },\n    function(Bokeh) {} // ensure no trailing comma for IE\n  ];\n\n  function run_inline_js() {\n    \n    if ((root.Bokeh !== undefined) || (force === true)) {\n      for (var i = 0; i < inline_js.length; i++) {\n        inline_js[i].call(root, root.Bokeh);\n      }if (force === true) {\n        display_loaded();\n      }} else if (Date.now() < root._bokeh_timeout) {\n      setTimeout(run_inline_js, 100);\n    } else if (!root._bokeh_failed_load) {\n      console.log(\"Bokeh: BokehJS failed to load within specified timeout.\");\n      root._bokeh_failed_load = true;\n    } else if (force !== true) {\n      var cell = $(document.getElementById(\"3747\")).parents('.cell').data().cell;\n      cell.output_area.append_execute_result(NB_LOAD_WARNING)\n    }\n\n  }\n\n  if (root._bokeh_is_loading === 0) {\n    console.debug(\"Bokeh: BokehJS loaded, going straight to plotting\");\n    run_inline_js();\n  } else {\n    load_libs(css_urls, js_urls, function() {\n      console.debug(\"Bokeh: BokehJS plotting callback run at\", now());\n      run_inline_js();\n    });\n  }\n}(window));"
     },
     "metadata": {},
     "output_type": "display_data"
    }
   ],
   "source": [
    "import sys\n",
    "from pathlib import Path\n",
    "\n",
    "import numpy as np\n",
    "import pandas as pd\n",
    "from astropy.table import Table\n",
    "from bokeh.plotting import figure, output_notebook, show\n",
    "from matplotlib import pyplot as plt\n",
    "from scipy import optimize\n",
    "from sklearn.utils import resample\n",
    "from sndata.csp import dr1\n",
    "from sndata.sdss import sako18\n",
    "\n",
    "sys.path.insert(0, '..')\n",
    "from phot_class import fom\n",
    "\n",
    "output_notebook()\n",
    "dr1.download_module_data()\n",
    "\n",
    "# Output directory for figures\n",
    "fig_dir = Path('./notebook_figs')\n",
    "fig_dir.mkdir(exist_ok=True, parents=True)\n"
   ]
  },
  {
   "cell_type": "markdown",
   "metadata": {},
   "source": [
    "## Load Data\n",
    "\n",
    "We begin by reading in spectroscopic classificaions for supernovae observed by CSP DR1. We join these classifications with our own classification parameters and perform some book-keeping."
   ]
  },
  {
   "cell_type": "code",
   "execution_count": 73,
   "metadata": {},
   "outputs": [],
   "source": [
    "# We assign a \"Normal\" classification to DES sn3yr targets \n",
    "# since it is a cosmology sample\n",
    "des_data = Table.read('../results/des_sn3yr_simple_fit_class.ecsv')\n",
    "des_data = des_data.to_pandas(index='obj_id')\n",
    "des_data['survey'] = 'DES'\n",
    "des_data['spec_class'] = 'Normal (DES)'\n"
   ]
  },
  {
   "cell_type": "code",
   "execution_count": 74,
   "metadata": {},
   "outputs": [
    {
     "name": "stderr",
     "output_type": "stream",
     "text": [
      "/anaconda3/envs/phot_class/lib/python3.7/site-packages/ipykernel_launcher.py:11: TableReplaceWarning: converted column 'pre_max' from integer to float\n",
      "  # This is added back by InteractiveShellApp.init_path()\n",
      "/anaconda3/envs/phot_class/lib/python3.7/site-packages/ipykernel_launcher.py:11: TableReplaceWarning: converted column 'post_max' from integer to float\n",
      "  # This is added back by InteractiveShellApp.init_path()\n",
      "../phot_class/classification.py:339: RuntimeWarning: divide by zero encountered in double_scalars\n",
      "  sn91bg_blue_chisq = sn91bg_blue['chisq'].sum() / sn91bg_blue['ndof'].sum()\n",
      "../phot_class/classification.py:340: RuntimeWarning: divide by zero encountered in double_scalars\n",
      "  sn91bg_red_chisq = sn91bg_red['chisq'].sum() / sn91bg_red['ndof'].sum()\n"
     ]
    }
   ],
   "source": [
    "sdss_master = sako18.load_table('master')\n",
    "sdss_spec_class = pd.DataFrame({\n",
    "    'obj_id': sdss_master['CID'],\n",
    "    'spec_class': sdss_master['Classification']\n",
    "})\n",
    "sdss_spec_class.set_index('obj_id', inplace=True)\n",
    "\n",
    "# Assuming the pipeline is still running:\n",
    "t = Table.read('../results/sdss_sako18_simple_fit_fits.ecsv')\n",
    "from phot_class.classification import classify_targets\n",
    "sdss_data = classify_targets(t).to_pandas(index='obj_id')\n",
    "# sdss_data = Table.read('../results/sdss_sako18_simple_fit_class.ecsv')\n",
    "sdss_data['survey'] = 'SDSS'\n",
    "sdss_data['spec_class'] = 'Unknown'\n",
    "sdss_data.update(sdss_spec_class)\n",
    "\n"
   ]
  },
  {
   "cell_type": "code",
   "execution_count": 75,
   "metadata": {
    "scrolled": false
   },
   "outputs": [
    {
     "data": {
      "text/html": [
       "<div>\n",
       "<style scoped>\n",
       "    .dataframe tbody tr th:only-of-type {\n",
       "        vertical-align: middle;\n",
       "    }\n",
       "\n",
       "    .dataframe tbody tr th {\n",
       "        vertical-align: top;\n",
       "    }\n",
       "\n",
       "    .dataframe thead th {\n",
       "        text-align: right;\n",
       "    }\n",
       "</style>\n",
       "<table border=\"1\" class=\"dataframe\">\n",
       "  <thead>\n",
       "    <tr style=\"text-align: right;\">\n",
       "      <th></th>\n",
       "      <th>spec_class</th>\n",
       "      <th>survey</th>\n",
       "      <th>x</th>\n",
       "      <th>y</th>\n",
       "    </tr>\n",
       "    <tr>\n",
       "      <th>obj_id</th>\n",
       "      <th></th>\n",
       "      <th></th>\n",
       "      <th></th>\n",
       "      <th></th>\n",
       "    </tr>\n",
       "  </thead>\n",
       "  <tbody>\n",
       "    <tr>\n",
       "      <td>01248677</td>\n",
       "      <td>Normal (DES)</td>\n",
       "      <td>DES</td>\n",
       "      <td>-70.969833</td>\n",
       "      <td>-68.641640</td>\n",
       "    </tr>\n",
       "    <tr>\n",
       "      <td>01250017</td>\n",
       "      <td>Normal (DES)</td>\n",
       "      <td>DES</td>\n",
       "      <td>-270.977203</td>\n",
       "      <td>-22.518950</td>\n",
       "    </tr>\n",
       "    <tr>\n",
       "      <td>01253039</td>\n",
       "      <td>Normal (DES)</td>\n",
       "      <td>DES</td>\n",
       "      <td>-0.916202</td>\n",
       "      <td>-1.373741</td>\n",
       "    </tr>\n",
       "    <tr>\n",
       "      <td>01253101</td>\n",
       "      <td>Normal (DES)</td>\n",
       "      <td>DES</td>\n",
       "      <td>-0.690476</td>\n",
       "      <td>-2.555635</td>\n",
       "    </tr>\n",
       "    <tr>\n",
       "      <td>01253920</td>\n",
       "      <td>Normal (DES)</td>\n",
       "      <td>DES</td>\n",
       "      <td>-36.937692</td>\n",
       "      <td>-6.584878</td>\n",
       "    </tr>\n",
       "  </tbody>\n",
       "</table>\n",
       "</div>"
      ],
      "text/plain": [
       "            spec_class survey           x          y\n",
       "obj_id                                              \n",
       "01248677  Normal (DES)    DES  -70.969833 -68.641640\n",
       "01250017  Normal (DES)    DES -270.977203 -22.518950\n",
       "01253039  Normal (DES)    DES   -0.916202  -1.373741\n",
       "01253101  Normal (DES)    DES   -0.690476  -2.555635\n",
       "01253920  Normal (DES)    DES  -36.937692  -6.584878"
      ]
     },
     "execution_count": 75,
     "metadata": {},
     "output_type": "execute_result"
    }
   ],
   "source": [
    "classifications = pd.concat([des_data, sdss_data], sort='True')\n",
    "classifications.fillna('Unknown')\n",
    "classifications.head()\n"
   ]
  },
  {
   "cell_type": "markdown",
   "metadata": {},
   "source": [
    "Using this table we create a static and an interactive version of our classification results."
   ]
  },
  {
   "cell_type": "code",
   "execution_count": 76,
   "metadata": {},
   "outputs": [],
   "source": [
    "def create_static_figure(class_data):\n",
    "    \"\"\"Create a static plot chi-squared difference\n",
    "    \n",
    "    The input DataFrame is expected to have columns x, y, \n",
    "    survey, and spec_class.\n",
    "\n",
    "    Args:\n",
    "        class_data (DataFrame): The data to plot\n",
    "        \n",
    "    Returns:\n",
    "         A matplotlib figure\n",
    "         A matplotlib axis\n",
    "    \"\"\"\n",
    "\n",
    "    markers = {'CSP': 'o', 'DES': 'v', 'SDSS': 's'}\n",
    "\n",
    "    fig, axis = plt.subplots(1, 1, figsize=(10, 10))\n",
    "    for i, release in enumerate(set(class_data['survey'])):\n",
    "        release_data = class_data[class_data['survey'] == release]\n",
    "\n",
    "        for j, sn_type in enumerate(set(class_data['spec_class'])):\n",
    "            plot_data = release_data[release_data['spec_class'] == sn_type]\n",
    "            axis.scatter(\n",
    "                plot_data['x'],\n",
    "                plot_data['y'],\n",
    "                label=sn_type if i == 0 else \"\",\n",
    "                color=f'C{j}',\n",
    "                marker=markers[release],\n",
    "                s=20\n",
    "            )\n",
    "\n",
    "    axis.axhline(0, linestyle=':', color='black', alpha=.5)\n",
    "    axis.axvline(0, linestyle=':', color='black', alpha=.5)\n",
    "    axis.set_xlabel(r'$\\chi^2_{blue}(Ia) - \\chi^2_{blue}(91bg)$', fontsize=14)\n",
    "    axis.set_ylabel(r'$\\chi^2_{red}(Ia) - \\chi^2_{red}(91bg)$', fontsize=14)\n",
    "\n",
    "    axis.legend(bbox_to_anchor=(1, 1))\n",
    "    return fig, axis\n"
   ]
  },
  {
   "cell_type": "code",
   "execution_count": 77,
   "metadata": {
    "scrolled": false
   },
   "outputs": [
    {
     "data": {
      "image/png": "[encoded data removed]",
      "text/plain": [
       "<Figure size 720x720 with 1 Axes>"
      ]
     },
     "metadata": {
      "needs_background": "light"
     },
     "output_type": "display_data"
    }
   ],
   "source": [
    "static_fig, static_axis = create_static_figure(classifications)\n",
    "plt.show()\n"
   ]
  },
  {
   "cell_type": "code",
   "execution_count": 78,
   "metadata": {},
   "outputs": [],
   "source": [
    "def create_interactive_figure(class_data):\n",
    "    \"\"\"Create an interactive plot chi-squared difference\n",
    "    \n",
    "    The input DataFrame is expected to have columns x, y, \n",
    "    survey, and spec_class.\n",
    "\n",
    "    Args:\n",
    "        class_data (DataFrame): The data to plot\n",
    "        \n",
    "    Returns:\n",
    "         A bokeh figure object\n",
    "    \"\"\"\n",
    "\n",
    "    hover_tooltips = [\n",
    "        (\"obj_id\", \"@obj_id\"),\n",
    "        (\"(x, y)\", \"(@x, @y)\"),\n",
    "        (\"spec_class\", \"@spec_class\"),\n",
    "        (\"survey\", \"@survey\")\n",
    "    ]\n",
    "\n",
    "    fig = figure(\n",
    "        plot_width=600,\n",
    "        plot_height=600,\n",
    "        x_axis_label='Blue chisq (Ia - 91bg)',\n",
    "        y_axis_label='Red chisq (Ia - 91bg)',\n",
    "        tooltips=hover_tooltips\n",
    "    )\n",
    "\n",
    "    # We use the default matplotlib color style\n",
    "    colors = ['#1f77b4',\n",
    "              '#ff7f0e',\n",
    "              '#2ca02c',\n",
    "              '#d62728',\n",
    "              '#9467bd',\n",
    "              '#8c564b',\n",
    "              '#e377c2',\n",
    "              '#7f7f7f',\n",
    "              '#bcbd22',\n",
    "              '#17becf']\n",
    "\n",
    "    markers = {'CSP': 'circle', 'DES': 'inverted_triangle', 'SDSS': 'square'}\n",
    "    for release in set(class_data['survey']):\n",
    "        plot_func = getattr(fig, markers[release])\n",
    "        release_data = class_data[class_data['survey'] == release]\n",
    "\n",
    "        for sn_type, color in zip(set(class_data['spec_class']), colors):\n",
    "            source = release_data[release_data['spec_class'] == sn_type]\n",
    "            plot_func('x', 'y', source=source, legend=sn_type, color=color)\n",
    "\n",
    "    fig.legend.location = \"bottom_right\"\n",
    "    fig.legend.click_policy = \"hide\"\n",
    "\n",
    "    return fig\n"
   ]
  },
  {
   "cell_type": "code",
   "execution_count": 81,
   "metadata": {},
   "outputs": [
    {
     "data": {
      "text/html": [
       "\n",
       "\n",
       "\n",
       "\n",
       "\n",
       "\n",
       "  <div class=\"bk-root\" id=\"ad9f4dc5-3ae6-4edf-8366-7a6075f2afcb\" data-root-id=\"4661\"></div>\n"
      ]
     },
     "metadata": {},
     "output_type": "display_data"
    },
    {
     "data": {
      "application/javascript": [
       "(function(root) {\n",
       "  function embed_document(root) {\n",
       "    \n",
       "  var docs_json = {\"3e7b2965-0d98-4b5e-8397-22afe4df246b\":{\"roots\":{\"references\":[{\"attributes\":{\"below\":[{\"id\":\"4670\",\"type\":\"LinearAxis\"}],\"center\":[{\"id\":\"4674\",\"type\":\"Grid\"},{\"id\":\"4679\",\"type\":\"Grid\"},{\"id\":\"4708\",\"type\":\"Legend\"}],\"left\":[{\"id\":\"4675\",\"type\":\"LinearAxis\"}],\"renderers\":[{\"id\":\"4699\",\"type\":\"GlyphRenderer\"},{\"id\":\"4714\",\"type\":\"GlyphRenderer\"},{\"id\":\"4730\",\"type\":\"GlyphRenderer\"},{\"id\":\"4748\",\"type\":\"GlyphRenderer\"},{\"id\":\"4768\",\"type\":\"GlyphRenderer\"},{\"id\":\"4790\",\"type\":\"GlyphRenderer\"},{\"id\":\"4814\",\"type\":\"GlyphRenderer\"}],\"title\":{\"id\":\"4702\",\"type\":\"Title\"},\"toolbar\":{\"id\":\"4687\",\"type\":\"Toolbar\"},\"x_range\":{\"id\":\"4662\",\"type\":\"DataRange1d\"},\"x_scale\":{\"id\":\"4666\",\"type\":\"LinearScale\"},\"y_range\":{\"id\":\"4664\",\"type\":\"DataRange1d\"},\"y_scale\":{\"id\":\"4668\",\"type\":\"LinearScale\"}},\"id\":\"4661\",\"subtype\":\"Figure\",\"type\":\"Plot\"},{\"attributes\":{\"callback\":null,\"data\":{\"obj_id\":[\"11241\"],\"spec_class\":[\"zSNIbc\"],\"survey\":[\"SDSS\"],\"x\":{\"__ndarray__\":\"dyut+xb/EkA=\",\"dtype\":\"float64\",\"shape\":[1]},\"y\":{\"__ndarray__\":\"TPBgnqg/CEA=\",\"dtype\":\"float64\",\"shape\":[1]}},\"selected\":{\"id\":\"4760\",\"type\":\"Selection\"},\"selection_policy\":{\"id\":\"4761\",\"type\":\"UnionRenderers\"}},\"id\":\"4726\",\"type\":\"ColumnDataSource\"},{\"attributes\":{\"callback\":null,\"data\":{\"obj_id\":[\"10028\",\"10106\"],\"spec_class\":[\"SNIa?\",\"SNIa?\"],\"survey\":[\"SDSS\",\"SDSS\"],\"x\":{\"__ndarray__\":\"qEhXQeJwNMBgSkIfMlnovw==\",\"dtype\":\"float64\",\"shape\":[2]},\"y\":{\"__ndarray__\":\"WcR4vyqfRsDYqjlPVzr0vw==\",\"dtype\":\"float64\",\"shape\":[2]}},\"selected\":{\"id\":\"4782\",\"type\":\"Selection\"},\"selection_policy\":{\"id\":\"4783\",\"type\":\"UnionRenderers\"}},\"id\":\"4744\",\"type\":\"ColumnDataSource\"},{\"attributes\":{\"fill_alpha\":{\"value\":0.1},\"fill_color\":{\"value\":\"#1f77b4\"},\"line_alpha\":{\"value\":0.1},\"line_color\":{\"value\":\"#1f77b4\"},\"x\":{\"field\":\"x\"},\"y\":{\"field\":\"y\"}},\"id\":\"4729\",\"type\":\"Square\"},{\"attributes\":{\"source\":{\"id\":\"4726\",\"type\":\"ColumnDataSource\"}},\"id\":\"4731\",\"type\":\"CDSView\"},{\"attributes\":{\"fill_color\":{\"value\":\"#8c564b\"},\"line_color\":{\"value\":\"#8c564b\"},\"x\":{\"field\":\"x\"},\"y\":{\"field\":\"y\"}},\"id\":\"4788\",\"type\":\"Square\"},{\"attributes\":{},\"id\":\"4782\",\"type\":\"Selection\"},{\"attributes\":{\"data_source\":{\"id\":\"4744\",\"type\":\"ColumnDataSource\"},\"glyph\":{\"id\":\"4746\",\"type\":\"Square\"},\"hover_glyph\":null,\"muted_glyph\":null,\"nonselection_glyph\":{\"id\":\"4747\",\"type\":\"Square\"},\"selection_glyph\":null,\"view\":{\"id\":\"4749\",\"type\":\"CDSView\"}},\"id\":\"4748\",\"type\":\"GlyphRenderer\"},{\"attributes\":{\"fill_alpha\":{\"value\":0.1},\"fill_color\":{\"value\":\"#1f77b4\"},\"line_alpha\":{\"value\":0.1},\"line_color\":{\"value\":\"#1f77b4\"},\"x\":{\"field\":\"x\"},\"y\":{\"field\":\"y\"}},\"id\":\"4813\",\"type\":\"Square\"},{\"attributes\":{\"label\":{\"value\":\"SNIa\"},\"renderers\":[{\"id\":\"4714\",\"type\":\"GlyphRenderer\"}]},\"id\":\"4725\",\"type\":\"LegendItem\"},{\"attributes\":{\"data_source\":{\"id\":\"4764\",\"type\":\"ColumnDataSource\"},\"glyph\":{\"id\":\"4766\",\"type\":\"Square\"},\"hover_glyph\":null,\"muted_glyph\":null,\"nonselection_glyph\":{\"id\":\"4767\",\"type\":\"Square\"},\"selection_glyph\":null,\"view\":{\"id\":\"4769\",\"type\":\"CDSView\"}},\"id\":\"4768\",\"type\":\"GlyphRenderer\"},{\"attributes\":{},\"id\":\"4685\",\"type\":\"HelpTool\"},{\"attributes\":{\"source\":{\"id\":\"4695\",\"type\":\"ColumnDataSource\"}},\"id\":\"4700\",\"type\":\"CDSView\"},{\"attributes\":{\"bottom_units\":\"screen\",\"fill_alpha\":{\"value\":0.5},\"fill_color\":{\"value\":\"lightgrey\"},\"left_units\":\"screen\",\"level\":\"overlay\",\"line_alpha\":{\"value\":1.0},\"line_color\":{\"value\":\"black\"},\"line_dash\":[4,4],\"line_width\":{\"value\":2},\"render_mode\":\"css\",\"right_units\":\"screen\",\"top_units\":\"screen\"},\"id\":\"4707\",\"type\":\"BoxAnnotation\"},{\"attributes\":{\"source\":{\"id\":\"4764\",\"type\":\"ColumnDataSource\"}},\"id\":\"4769\",\"type\":\"CDSView\"},{\"attributes\":{\"data_source\":{\"id\":\"4726\",\"type\":\"ColumnDataSource\"},\"glyph\":{\"id\":\"4728\",\"type\":\"Square\"},\"hover_glyph\":null,\"muted_glyph\":null,\"nonselection_glyph\":{\"id\":\"4729\",\"type\":\"Square\"},\"selection_glyph\":null,\"view\":{\"id\":\"4731\",\"type\":\"CDSView\"}},\"id\":\"4730\",\"type\":\"GlyphRenderer\"},{\"attributes\":{},\"id\":\"4722\",\"type\":\"Selection\"},{\"attributes\":{\"callback\":null},\"id\":\"4664\",\"type\":\"DataRange1d\"},{\"attributes\":{},\"id\":\"4760\",\"type\":\"Selection\"},{\"attributes\":{},\"id\":\"4783\",\"type\":\"UnionRenderers\"},{\"attributes\":{\"fill_color\":{\"value\":\"#d62728\"},\"line_color\":{\"value\":\"#d62728\"},\"x\":{\"field\":\"x\"},\"y\":{\"field\":\"y\"}},\"id\":\"4746\",\"type\":\"Square\"},{\"attributes\":{\"callback\":null,\"data\":{\"obj_id\":[\"12844\"],\"spec_class\":[\"SNIc\"],\"survey\":[\"SDSS\"],\"x\":{\"__ndarray__\":\"JINSyxZv4z8=\",\"dtype\":\"float64\",\"shape\":[1]},\"y\":{\"__ndarray__\":\"2KNwPQpXC8A=\",\"dtype\":\"float64\",\"shape\":[1]}},\"selected\":{\"id\":\"4806\",\"type\":\"Selection\"},\"selection_policy\":{\"id\":\"4807\",\"type\":\"UnionRenderers\"}},\"id\":\"4764\",\"type\":\"ColumnDataSource\"},{\"attributes\":{\"text\":\"\"},\"id\":\"4702\",\"type\":\"Title\"},{\"attributes\":{\"callback\":null,\"data\":{\"obj_id\":[\"11332\"],\"spec_class\":[\"SNIb\"],\"survey\":[\"SDSS\"],\"x\":{\"__ndarray__\":\"/ObVxLOiwT8=\",\"dtype\":\"float64\",\"shape\":[1]},\"y\":{\"__ndarray__\":\"wTxR/0YoAUA=\",\"dtype\":\"float64\",\"shape\":[1]}},\"selected\":{\"id\":\"5042\",\"type\":\"Selection\"},\"selection_policy\":{\"id\":\"5043\",\"type\":\"UnionRenderers\"}},\"id\":\"4810\",\"type\":\"ColumnDataSource\"},{\"attributes\":{},\"id\":\"4740\",\"type\":\"Selection\"},{\"attributes\":{\"fill_color\":{\"value\":\"#1f77b4\"},\"line_color\":{\"value\":\"#1f77b4\"},\"x\":{\"field\":\"x\"},\"y\":{\"field\":\"y\"}},\"id\":\"4697\",\"type\":\"Square\"},{\"attributes\":{},\"id\":\"4706\",\"type\":\"BasicTickFormatter\"},{\"attributes\":{\"source\":{\"id\":\"4744\",\"type\":\"ColumnDataSource\"}},\"id\":\"4749\",\"type\":\"CDSView\"},{\"attributes\":{\"fill_alpha\":{\"value\":0.1},\"fill_color\":{\"value\":\"#1f77b4\"},\"line_alpha\":{\"value\":0.1},\"line_color\":{\"value\":\"#1f77b4\"},\"x\":{\"field\":\"x\"},\"y\":{\"field\":\"y\"}},\"id\":\"4747\",\"type\":\"Square\"},{\"attributes\":{\"fill_alpha\":{\"value\":0.1},\"fill_color\":{\"value\":\"#1f77b4\"},\"line_alpha\":{\"value\":0.1},\"line_color\":{\"value\":\"#1f77b4\"},\"x\":{\"field\":\"x\"},\"y\":{\"field\":\"y\"}},\"id\":\"4789\",\"type\":\"Square\"},{\"attributes\":{\"data_source\":{\"id\":\"4695\",\"type\":\"ColumnDataSource\"},\"glyph\":{\"id\":\"4697\",\"type\":\"Square\"},\"hover_glyph\":null,\"muted_glyph\":null,\"nonselection_glyph\":{\"id\":\"4698\",\"type\":\"Square\"},\"selection_glyph\":null,\"view\":{\"id\":\"4700\",\"type\":\"CDSView\"}},\"id\":\"4699\",\"type\":\"GlyphRenderer\"},{\"attributes\":{\"data_source\":{\"id\":\"4786\",\"type\":\"ColumnDataSource\"},\"glyph\":{\"id\":\"4788\",\"type\":\"Square\"},\"hover_glyph\":null,\"muted_glyph\":null,\"nonselection_glyph\":{\"id\":\"4789\",\"type\":\"Square\"},\"selection_glyph\":null,\"view\":{\"id\":\"4791\",\"type\":\"CDSView\"}},\"id\":\"4790\",\"type\":\"GlyphRenderer\"},{\"attributes\":{\"callback\":null},\"id\":\"4662\",\"type\":\"DataRange1d\"},{\"attributes\":{\"source\":{\"id\":\"4786\",\"type\":\"ColumnDataSource\"}},\"id\":\"4791\",\"type\":\"CDSView\"},{\"attributes\":{\"label\":{\"value\":\"SNIc\"},\"renderers\":[{\"id\":\"4768\",\"type\":\"GlyphRenderer\"}]},\"id\":\"4785\",\"type\":\"LegendItem\"},{\"attributes\":{\"data_source\":{\"id\":\"4810\",\"type\":\"ColumnDataSource\"},\"glyph\":{\"id\":\"4812\",\"type\":\"Square\"},\"hover_glyph\":null,\"muted_glyph\":null,\"nonselection_glyph\":{\"id\":\"4813\",\"type\":\"Square\"},\"selection_glyph\":null,\"view\":{\"id\":\"4815\",\"type\":\"CDSView\"}},\"id\":\"4814\",\"type\":\"GlyphRenderer\"},{\"attributes\":{},\"id\":\"4666\",\"type\":\"LinearScale\"},{\"attributes\":{\"label\":{\"value\":\"Unknown\"},\"renderers\":[{\"id\":\"4699\",\"type\":\"GlyphRenderer\"}]},\"id\":\"4709\",\"type\":\"LegendItem\"},{\"attributes\":{},\"id\":\"4806\",\"type\":\"Selection\"},{\"attributes\":{\"callback\":null,\"data\":{\"obj_id\":[\"10037\",\"1008\",\"10146\",\"10299\",\"10324\",\"10450\",\"10460\",\"10559\",\"10690\",\"10843\",\"11026\",\"11120\",\"11156\",\"11172\",\"11181\",\"11192\",\"11306\",\"11311\",\"11518\",\"11540\",\"1158\",\"11771\",\"11858\",\"12110\",\"1214\",\"12199\",\"12308\",\"12804\",\"12840\",\"12850\",\"12852\"],\"spec_class\":[\"zSNIa\",\"zSNIa\",\"zSNIa\",\"zSNIa\",\"zSNIa\",\"zSNIa\",\"zSNIa\",\"zSNIa\",\"zSNIa\",\"zSNIa\",\"zSNIa\",\"zSNIa\",\"zSNIa\",\"zSNIa\",\"zSNIa\",\"zSNIa\",\"zSNIa\",\"zSNIa\",\"zSNIa\",\"zSNIa\",\"zSNIa\",\"zSNIa\",\"zSNIa\",\"zSNIa\",\"zSNIa\",\"zSNIa\",\"zSNIa\",\"zSNIa\",\"zSNIa\",\"zSNIa\",\"zSNIa\"],\"survey\":[\"SDSS\",\"SDSS\",\"SDSS\",\"SDSS\",\"SDSS\",\"SDSS\",\"SDSS\",\"SDSS\",\"SDSS\",\"SDSS\",\"SDSS\",\"SDSS\",\"SDSS\",\"SDSS\",\"SDSS\",\"SDSS\",\"SDSS\",\"SDSS\",\"SDSS\",\"SDSS\",\"SDSS\",\"SDSS\",\"SDSS\",\"SDSS\",\"SDSS\",\"SDSS\",\"SDSS\",\"SDSS\",\"SDSS\",\"SDSS\",\"SDSS\"],\"x\":{\"__ndarray__\":\"cKDTBjptyL9IusTuTeHWvyiA0Q9R9OK/N8duc+z2+b/we/Nq4lmxvybpi6IEAwDAAHKvuZA0xb+OSBhHZ50FwJCZmZmZmcW/SIeZYF1Ywr9Is2euGc7gv2eyMOLG3hHAxPUoXI9CGsAqXI/C9Sjqv5j8Yskvluy/DHTaQKcN1r/w7u7u7u7av7SnM1kYceM/6JM+6ZM++7+7MYKJ/k7xv6CWQb1Eib6/bj0K16Nw2b+IYRiGYRjev5Alv1jyi8U/EBi22Snesz8cWmQ730/Qv7Od76fGC/y/C7OUN55dFcCg4iH26i60v1D5Wy5Zf8S/cJiULh+H0b8=\",\"dtype\":\"float64\",\"shape\":[31]},\"y\":{\"__ndarray__\":\"5GMV+hFd578V2n7UIHvzv/5SEvqQieK/jvjXiH+N1r8wiztBnEzwvx6/WPKLJdm/LOrfCGX03r/nA9gZNwvlvwYio0Xz+eC/IGD02s9Mtr8kDKDex1vav3ZM8GCe+DbAaI3WaI1WHMBR1L8Ryujyv0DIUNlh6v6/Xo/C9Shc4L+wspoDNdfgvwTZnVH0hQbAtKKRgG9e1b+uDP4Tc2T1v9gbqePyTMS/4FG4HoXrob/bQKcNdNrgv1yEAdT7eNO/CFMYjvXFtL/dQKcNdFr6v4qkKRVnH9q/ejpcJ3t0AsCA8aYWb2qhv3QDfd8vfcS/1DRzgRTn3L8=\",\"dtype\":\"float64\",\"shape\":[31]}},\"selected\":{\"id\":\"4832\",\"type\":\"Selection\"},\"selection_policy\":{\"id\":\"4833\",\"type\":\"UnionRenderers\"}},\"id\":\"4786\",\"type\":\"ColumnDataSource\"},{\"attributes\":{\"label\":{\"value\":\"zSNIa\"},\"renderers\":[{\"id\":\"4790\",\"type\":\"GlyphRenderer\"}]},\"id\":\"4809\",\"type\":\"LegendItem\"},{\"attributes\":{},\"id\":\"4807\",\"type\":\"UnionRenderers\"},{\"attributes\":{},\"id\":\"4668\",\"type\":\"LinearScale\"},{\"attributes\":{\"fill_alpha\":{\"value\":0.1},\"fill_color\":{\"value\":\"#1f77b4\"},\"line_alpha\":{\"value\":0.1},\"line_color\":{\"value\":\"#1f77b4\"},\"x\":{\"field\":\"x\"},\"y\":{\"field\":\"y\"}},\"id\":\"4713\",\"type\":\"Square\"},{\"attributes\":{\"click_policy\":\"hide\",\"items\":[{\"id\":\"4709\",\"type\":\"LegendItem\"},{\"id\":\"4725\",\"type\":\"LegendItem\"},{\"id\":\"4743\",\"type\":\"LegendItem\"},{\"id\":\"4763\",\"type\":\"LegendItem\"},{\"id\":\"4785\",\"type\":\"LegendItem\"},{\"id\":\"4809\",\"type\":\"LegendItem\"},{\"id\":\"4835\",\"type\":\"LegendItem\"}],\"location\":\"bottom_right\"},\"id\":\"4708\",\"type\":\"Legend\"},{\"attributes\":{\"axis_label\":\"Blue chisq (Ia - 91bg)\",\"formatter\":{\"id\":\"4706\",\"type\":\"BasicTickFormatter\"},\"ticker\":{\"id\":\"4671\",\"type\":\"BasicTicker\"}},\"id\":\"4670\",\"type\":\"LinearAxis\"},{\"attributes\":{},\"id\":\"4676\",\"type\":\"BasicTicker\"},{\"attributes\":{},\"id\":\"5043\",\"type\":\"UnionRenderers\"},{\"attributes\":{\"dimension\":1,\"ticker\":{\"id\":\"4676\",\"type\":\"BasicTicker\"}},\"id\":\"4679\",\"type\":\"Grid\"},{\"attributes\":{},\"id\":\"4671\",\"type\":\"BasicTicker\"},{\"attributes\":{\"callback\":null,\"data\":{\"obj_id\":[\"10096\",\"1032\",\"10434\",\"10449\",\"10550\",\"10805\",\"11067\",\"1112\",\"1119\",\"11206\",\"11300\",\"11452\",\"11557\",\"11650\",\"1166\",\"11864\",\"12136\",\"1241\",\"1253\",\"12779\",\"12780\",\"12781\",\"12841\",\"12843\",\"12851\",\"12853\",\"12855\",\"12856\",\"12860\"],\"spec_class\":[\"SNIa\",\"SNIa\",\"SNIa\",\"SNIa\",\"SNIa\",\"SNIa\",\"SNIa\",\"SNIa\",\"SNIa\",\"SNIa\",\"SNIa\",\"SNIa\",\"SNIa\",\"SNIa\",\"SNIa\",\"SNIa\",\"SNIa\",\"SNIa\",\"SNIa\",\"SNIa\",\"SNIa\",\"SNIa\",\"SNIa\",\"SNIa\",\"SNIa\",\"SNIa\",\"SNIa\",\"SNIa\",\"SNIa\"],\"survey\":[\"SDSS\",\"SDSS\",\"SDSS\",\"SDSS\",\"SDSS\",\"SDSS\",\"SDSS\",\"SDSS\",\"SDSS\",\"SDSS\",\"SDSS\",\"SDSS\",\"SDSS\",\"SDSS\",\"SDSS\",\"SDSS\",\"SDSS\",\"SDSS\",\"SDSS\",\"SDSS\",\"SDSS\",\"SDSS\",\"SDSS\",\"SDSS\",\"SDSS\",\"SDSS\",\"SDSS\",\"SDSS\",\"SDSS\"],\"x\":{\"__ndarray__\":\"FiD3mgvJIMB8xVd8xVcEQH5qvHSTGCXA3CQGgZXD9r8YS36x5Bfrv3Bz7DbHjkvAR+F6FK4PSsDQUip72Rymv3DcGST7ns+/L5b8Yskv6r+FwMqhRbYKwPOfmCPTy+6/EofX3lOk5r8AAAAAAADw/1bLGyOY6NO/mE+ZpafSyT+RwvUoXE/2v+a04lM+thfAFijWHf951r8AGGnHCoSRvyKmkeObehpANnmb2pbGAUBYsRxhYHjWv7iiS98oJQXAMEHmfP50wT+tuesZ4poNwEC/WPKLJa+/RSB/BhaoGcBUt2UWvMkCwA==\",\"dtype\":\"float64\",\"shape\":[29]},\"y\":{\"__ndarray__\":\"FYMLIyEvFcD5dMsl5rXxP5huEoPAKifAlBgEVg4tE8DwMx2x79jYv+DKHNXzVHjArKqqqqoqWMCwzboTlcXHv1ATCTKOHdC/g04b6LSB5r9bSJpScfYdwG5eTTwrGv2/gGtxnMo12r8AAAAAAADw/8r0spXBf8K/Tjja+OKE07+KiIiIiIj3v0YJUo3jAy/AkP107GPbsr/jLsvFA7v7v4Ko7TX4pS1AScft6YN0CEAohAZDaDC0v5Y6kNw2/Oy/UEPqyhOos79woZUpx+Puv54rD0jWueS/VO5mvfEDCsBaxlQyGfIHwA==\",\"dtype\":\"float64\",\"shape\":[29]}},\"selected\":{\"id\":\"4740\",\"type\":\"Selection\"},\"selection_policy\":{\"id\":\"4741\",\"type\":\"UnionRenderers\"}},\"id\":\"4710\",\"type\":\"ColumnDataSource\"},{\"attributes\":{\"ticker\":{\"id\":\"4671\",\"type\":\"BasicTicker\"}},\"id\":\"4674\",\"type\":\"Grid\"},{\"attributes\":{\"fill_color\":{\"value\":\"#2ca02c\"},\"line_color\":{\"value\":\"#2ca02c\"},\"x\":{\"field\":\"x\"},\"y\":{\"field\":\"y\"}},\"id\":\"4728\",\"type\":\"Square\"},{\"attributes\":{},\"id\":\"4761\",\"type\":\"UnionRenderers\"},{\"attributes\":{\"label\":{\"value\":\"zSNIbc\"},\"renderers\":[{\"id\":\"4730\",\"type\":\"GlyphRenderer\"}]},\"id\":\"4743\",\"type\":\"LegendItem\"},{\"attributes\":{\"source\":{\"id\":\"4810\",\"type\":\"ColumnDataSource\"}},\"id\":\"4815\",\"type\":\"CDSView\"},{\"attributes\":{\"label\":{\"value\":\"SNIa?\"},\"renderers\":[{\"id\":\"4748\",\"type\":\"GlyphRenderer\"}]},\"id\":\"4763\",\"type\":\"LegendItem\"},{\"attributes\":{},\"id\":\"4681\",\"type\":\"WheelZoomTool\"},{\"attributes\":{\"axis_label\":\"Red chisq (Ia - 91bg)\",\"formatter\":{\"id\":\"4704\",\"type\":\"BasicTickFormatter\"},\"ticker\":{\"id\":\"4676\",\"type\":\"BasicTicker\"}},\"id\":\"4675\",\"type\":\"LinearAxis\"},{\"attributes\":{\"fill_color\":{\"value\":\"#e377c2\"},\"line_color\":{\"value\":\"#e377c2\"},\"x\":{\"field\":\"x\"},\"y\":{\"field\":\"y\"}},\"id\":\"4812\",\"type\":\"Square\"},{\"attributes\":{},\"id\":\"4704\",\"type\":\"BasicTickFormatter\"},{\"attributes\":{\"source\":{\"id\":\"4710\",\"type\":\"ColumnDataSource\"}},\"id\":\"4715\",\"type\":\"CDSView\"},{\"attributes\":{},\"id\":\"5042\",\"type\":\"Selection\"},{\"attributes\":{\"data_source\":{\"id\":\"4710\",\"type\":\"ColumnDataSource\"},\"glyph\":{\"id\":\"4712\",\"type\":\"Square\"},\"hover_glyph\":null,\"muted_glyph\":null,\"nonselection_glyph\":{\"id\":\"4713\",\"type\":\"Square\"},\"selection_glyph\":null,\"view\":{\"id\":\"4715\",\"type\":\"CDSView\"}},\"id\":\"4714\",\"type\":\"GlyphRenderer\"},{\"attributes\":{\"callback\":null,\"data\":{\"obj_id\":[\"1000\",\"10045\",\"10231\",\"1031\",\"1041\",\"10868\",\"10915\",\"10936\",\"11083\",\"11097\",\"11100\",\"11102\",\"11141\",\"11217\",\"1126\",\"1127\",\"11291\",\"11294\",\"11296\",\"11301\",\"11356\",\"11360\",\"11382\",\"11404\",\"11405\",\"11411\",\"11434\",\"11444\",\"11467\",\"11501\",\"11503\",\"1151\",\"11515\",\"1153\",\"11539\",\"11543\",\"11619\",\"11624\",\"11655\",\"11687\",\"11697\",\"1170\",\"11732\",\"11773\",\"11798\",\"1181\",\"11877\",\"11948\",\"11965\",\"11993\",\"12031\",\"12083\",\"1209\",\"12091\",\"12200\",\"12206\",\"1223\",\"12259\",\"12326\",\"1243\",\"1248\",\"12510\",\"1277\",\"12778\",\"12783\",\"12788\",\"1281\",\"12825\",\"12833\",\"12838\",\"12839\"],\"spec_class\":[\"Unknown\",\"Unknown\",\"Unknown\",\"Unknown\",\"Unknown\",\"Unknown\",\"Unknown\",\"Unknown\",\"Unknown\",\"Unknown\",\"Unknown\",\"Unknown\",\"Unknown\",\"Unknown\",\"Unknown\",\"Unknown\",\"Unknown\",\"Unknown\",\"Unknown\",\"Unknown\",\"Unknown\",\"Unknown\",\"Unknown\",\"Unknown\",\"Unknown\",\"Unknown\",\"Unknown\",\"Unknown\",\"Unknown\",\"Unknown\",\"Unknown\",\"Unknown\",\"Unknown\",\"Unknown\",\"Unknown\",\"Unknown\",\"Unknown\",\"Unknown\",\"Unknown\",\"Unknown\",\"Unknown\",\"Unknown\",\"Unknown\",\"Unknown\",\"Unknown\",\"Unknown\",\"Unknown\",\"Unknown\",\"Unknown\",\"Unknown\",\"Unknown\",\"Unknown\",\"Unknown\",\"Unknown\",\"Unknown\",\"Unknown\",\"Unknown\",\"Unknown\",\"Unknown\",\"Unknown\",\"Unknown\",\"Unknown\",\"Unknown\",\"Unknown\",\"Unknown\",\"Unknown\",\"Unknown\",\"Unknown\",\"Unknown\",\"Unknown\",\"Unknown\"],\"survey\":[\"SDSS\",\"SDSS\",\"SDSS\",\"SDSS\",\"SDSS\",\"SDSS\",\"SDSS\",\"SDSS\",\"SDSS\",\"SDSS\",\"SDSS\",\"SDSS\",\"SDSS\",\"SDSS\",\"SDSS\",\"SDSS\",\"SDSS\",\"SDSS\",\"SDSS\",\"SDSS\",\"SDSS\",\"SDSS\",\"SDSS\",\"SDSS\",\"SDSS\",\"SDSS\",\"SDSS\",\"SDSS\",\"SDSS\",\"SDSS\",\"SDSS\",\"SDSS\",\"SDSS\",\"SDSS\",\"SDSS\",\"SDSS\",\"SDSS\",\"SDSS\",\"SDSS\",\"SDSS\",\"SDSS\",\"SDSS\",\"SDSS\",\"SDSS\",\"SDSS\",\"SDSS\",\"SDSS\",\"SDSS\",\"SDSS\",\"SDSS\",\"SDSS\",\"SDSS\",\"SDSS\",\"SDSS\",\"SDSS\",\"SDSS\",\"SDSS\",\"SDSS\",\"SDSS\",\"SDSS\",\"SDSS\",\"SDSS\",\"SDSS\",\"SDSS\",\"SDSS\",\"SDSS\",\"SDSS\",\"SDSS\",\"SDSS\",\"SDSS\",\"SDSS\"],\"x\":{\"__ndarray__\":\"OCTQY47xxT/9J90vWxAFwP3UeOkmjTBA8Lhd6C5cw7/gLJt/xjTJv6DmXw51qLI/AqVk+M3A4z+cmZmZmZnkv2QQWDm0yOi/alLzAewMHsCMl24Sg0AEwMzMzMzMzNA//XY8lBDW9b+G61G4HuUYwMY0cnxT99c/uNrODKd04r/SBjptoNPmv5DC9Shcj8q/kML1KFwP+r9cj8L1KBwFwHTaQKcNdPK/gJChssPUNMDyKFyPwvX6v6gNdNpAp9m/AAAAAAAA8P8kIiIiIiLQv4r+TlbLm/G/oI18a1pJ6L+QEUz0d7K6v0gZvS1rdcS/hutRuB6F5r+AleYrtGt3P2iR7Xw/NQ7AAHy1gGcHub/AHoXrURjgv2IQWDm0yPm/CtejcD2KAMBMpSHnPrsAwAMrhxbZzv+/4EkMAiuHtj8GgZVDi2wGwODDptKQc6+/ILP+t0yYwb8fhetRuGhLwDptoNMGOgnAUKk4+/CZ8b+E61G4HoXrvzMzMzMzM+G/ABrotIFOWz/AyqFFtnMAwDEIrBxa5A7AAAAAAAAA8P8wBppdw4PLv1O4HoXrUQjASOF6FK5H2b9yAidwAifgv1BiEFg5tPc/bqDTBjpt9r+jkYBvXk0dwODm1cSzorW/nGFXgNxr47+x5BdLfjE1wODK//0DVbA/eNfHLkKW0j9gntEEOOvVP4CQobLD1N4/sGyjbEW0EMCgDA/eK5KxP6JLK5/qhvG/MtQFU1nx5L/0ZomiyVvvvw==\",\"dtype\":\"float64\",\"shape\":[71]},\"y\":{\"__ndarray__\":\"dife9bGL5r++12qctUjiP0Vvy1odkwRAgJsNAPWJ6r+wcmiR7Xznv2ikSDxTlvK/vAmcwAmc0D9oA5020Gn7v4AjlNHbMgHAXPi4wl4fF8DW8sYIJroDwCQOr72nyBPARIz7dUll5b9Bpw102oA0wPgqwb0g6sk/UB3qtoPQOsCvJp4VjYQowBMREREREfm/VlVVVVV1I8CuR+F6FI4gwMhxHMdxHOe/H4XrUbgeJcBi6nL7gwz3v/8gQ2WHqQzAAAAAAAAA8P/n1cSzotEAwKBIV0Hi8Ko/ECLxe8LE6r9gZ9wsNKndv7llrY4JHuy/hqnL7Q8yzL9wATTFPj6sP4GVQ4ts5wPAJvt0RYBg57/YvvbLMg3uv25Zq2OCBwfAdNpApw30FMB5kRd5kRcDwJx9+Ay7AhnAgO9LQVE5vT/AEcrobVkbwKA20GkDnc6/TpxvpPHE2b8pXI/C9QA0wGahSc0HsAXAmk3PHTkh+L8Evnk18az8v9QGOm2g0+6/gk4b6LSB8r/Yo3A9CtcIwD5R/0YoowPAAAAAAAAA8P9Ibgyhe6rkv3qi/o1QRgfA2mHqcvuD4j+yWt4YwUTnv0Dbv2hrZ80/aGZmZmZm1r/V1dXV1ZUBwMgZFLkIA9a/rtUxwYN56L9N9HeyWp4kwBgUuQgDqNi/gKX6wHEa5r9AD9yodULtP2jJL5b8ggfA0l5Cewm9IsBwTgbqixDJv3B0+IkArd0/zEd8xEd8/L+wkGnXZUPKvw==\",\"dtype\":\"float64\",\"shape\":[71]}},\"selected\":{\"id\":\"4722\",\"type\":\"Selection\"},\"selection_policy\":{\"id\":\"4723\",\"type\":\"UnionRenderers\"}},\"id\":\"4695\",\"type\":\"ColumnDataSource\"},{\"attributes\":{\"fill_color\":{\"value\":\"#9467bd\"},\"line_color\":{\"value\":\"#9467bd\"},\"x\":{\"field\":\"x\"},\"y\":{\"field\":\"y\"}},\"id\":\"4766\",\"type\":\"Square\"},{\"attributes\":{},\"id\":\"4832\",\"type\":\"Selection\"},{\"attributes\":{},\"id\":\"4723\",\"type\":\"UnionRenderers\"},{\"attributes\":{\"label\":{\"value\":\"SNIb\"},\"renderers\":[{\"id\":\"4814\",\"type\":\"GlyphRenderer\"}]},\"id\":\"4835\",\"type\":\"LegendItem\"},{\"attributes\":{\"callback\":null,\"tooltips\":[[\"obj_id\",\"@obj_id\"],[\"(x, y)\",\"(@x, @y)\"],[\"spec_class\",\"@spec_class\"],[\"survey\",\"@survey\"]]},\"id\":\"4686\",\"type\":\"HoverTool\"},{\"attributes\":{},\"id\":\"4833\",\"type\":\"UnionRenderers\"},{\"attributes\":{\"active_drag\":\"auto\",\"active_inspect\":\"auto\",\"active_multi\":null,\"active_scroll\":\"auto\",\"active_tap\":\"auto\",\"tools\":[{\"id\":\"4680\",\"type\":\"PanTool\"},{\"id\":\"4681\",\"type\":\"WheelZoomTool\"},{\"id\":\"4682\",\"type\":\"BoxZoomTool\"},{\"id\":\"4683\",\"type\":\"SaveTool\"},{\"id\":\"4684\",\"type\":\"ResetTool\"},{\"id\":\"4685\",\"type\":\"HelpTool\"},{\"id\":\"4686\",\"type\":\"HoverTool\"}]},\"id\":\"4687\",\"type\":\"Toolbar\"},{\"attributes\":{\"fill_alpha\":{\"value\":0.1},\"fill_color\":{\"value\":\"#1f77b4\"},\"line_alpha\":{\"value\":0.1},\"line_color\":{\"value\":\"#1f77b4\"},\"x\":{\"field\":\"x\"},\"y\":{\"field\":\"y\"}},\"id\":\"4698\",\"type\":\"Square\"},{\"attributes\":{},\"id\":\"4680\",\"type\":\"PanTool\"},{\"attributes\":{\"fill_color\":{\"value\":\"#ff7f0e\"},\"line_color\":{\"value\":\"#ff7f0e\"},\"x\":{\"field\":\"x\"},\"y\":{\"field\":\"y\"}},\"id\":\"4712\",\"type\":\"Square\"},{\"attributes\":{\"overlay\":{\"id\":\"4707\",\"type\":\"BoxAnnotation\"}},\"id\":\"4682\",\"type\":\"BoxZoomTool\"},{\"attributes\":{},\"id\":\"4741\",\"type\":\"UnionRenderers\"},{\"attributes\":{},\"id\":\"4683\",\"type\":\"SaveTool\"},{\"attributes\":{},\"id\":\"4684\",\"type\":\"ResetTool\"},{\"attributes\":{\"fill_alpha\":{\"value\":0.1},\"fill_color\":{\"value\":\"#1f77b4\"},\"line_alpha\":{\"value\":0.1},\"line_color\":{\"value\":\"#1f77b4\"},\"x\":{\"field\":\"x\"},\"y\":{\"field\":\"y\"}},\"id\":\"4767\",\"type\":\"Square\"}],\"root_ids\":[\"4661\"]},\"title\":\"Bokeh Application\",\"version\":\"1.3.4\"}};\n",
       "  var render_items = [{\"docid\":\"3e7b2965-0d98-4b5e-8397-22afe4df246b\",\"roots\":{\"4661\":\"ad9f4dc5-3ae6-4edf-8366-7a6075f2afcb\"}}];\n",
       "  root.Bokeh.embed.embed_items_notebook(docs_json, render_items);\n",
       "\n",
       "  }\n",
       "  if (root.Bokeh !== undefined) {\n",
       "    embed_document(root);\n",
       "  } else {\n",
       "    var attempts = 0;\n",
       "    var timer = setInterval(function(root) {\n",
       "      if (root.Bokeh !== undefined) {\n",
       "        embed_document(root);\n",
       "        clearInterval(timer);\n",
       "      }\n",
       "      attempts++;\n",
       "      if (attempts > 100) {\n",
       "        console.log(\"Bokeh: ERROR: Unable to run BokehJS code because BokehJS library is missing\");\n",
       "        clearInterval(timer);\n",
       "      }\n",
       "    }, 10, root)\n",
       "  }\n",
       "})(window);"
      ],
      "application/vnd.bokehjs_exec.v0+json": ""
     },
     "metadata": {
      "application/vnd.bokehjs_exec.v0+json": {
       "id": "4661"
      }
     },
     "output_type": "display_data"
    }
   ],
   "source": [
    "interactive_fig = create_interactive_figure(sdss_data)\n",
    "show(interactive_fig)\n"
   ]
  },
  {
   "cell_type": "code",
   "execution_count": 82,
   "metadata": {},
   "outputs": [
    {
     "name": "stdout",
     "output_type": "stream",
     "text": [
      "136\n"
     ]
    },
    {
     "data": {
      "text/plain": [
       "12"
      ]
     },
     "execution_count": 82,
     "metadata": {},
     "output_type": "execute_result"
    }
   ],
   "source": [
    "print(len(sdss_data))\n",
    "sum((sdss_data['x'] > 0) & (sdss_data['y'] > 0))"
   ]
  },
  {
   "cell_type": "markdown",
   "metadata": {},
   "source": [
    "## Intrinsic Properties"
   ]
  },
  {
   "cell_type": "code",
   "execution_count": 83,
   "metadata": {},
   "outputs": [],
   "source": [
    "# Todo"
   ]
  },
  {
   "cell_type": "markdown",
   "metadata": {},
   "source": [
    "## Host Galaxy Properties\n",
    "\n",
    "We start with some book keeping, and create dataframes for various subsets of the host galaxy data."
   ]
  },
  {
   "cell_type": "code",
   "execution_count": 84,
   "metadata": {},
   "outputs": [],
   "source": [
    "host_photometry = pd.DataFrame({\n",
    "    'obj_id': sdss_master['CID'],\n",
    "    'host_id': sdss_master['objIDHost'],  # Host galaxy object ID in SDSS DR8 Database \n",
    "    'ra': sdss_master['RAhost'],  # Right ascension of galaxy host (degrees) \n",
    "    'dec': sdss_master['DEChost'],  # Declination of galaxy host (degrees) \n",
    "    'dist': sdss_master['separationhost'], # Distance from SN to host (arcsec) \n",
    "    'distnorm': sdss_master['DLRhost'], # Normalized distance from SN to host (dDLR) \n",
    "    'z_KF': sdss_master['zphothost'], # Host photometric redshift (KF algorithm) \n",
    "    'z_KF_err': sdss_master['zphoterrhost'], # zphothost uncertainty\n",
    "    'z_RF': sdss_master['zphotRFhost'],  # Host photometric redshift (RF algorithm) \n",
    "    'z_RF_err': sdss_master['zphotRFerrhost'],  # zphotRFhost uncertainty \n",
    "    'u_mag': sdss_master['dereduhost'],  # Host galaxy u-band magnitude (dereddened) \n",
    "    'u_mag_err': sdss_master['erruhost'], # Host galaxy u-band magnitude uncertainty \n",
    "    'g_mag': sdss_master['deredghost'],  # Host galaxy g-band magnitude (dereddened)\n",
    "    'g_mag_err': sdss_master['errghost'],  #  Host galaxy g-band magnitude uncertainty \n",
    "    'r_mag': sdss_master['deredrhost'],  # Host galaxy r-band magnitude (dereddened)\n",
    "    'r_mag_err': sdss_master['errrhost'],  #  Host galaxy r-band magnitude uncertainty \n",
    "    'i_mag': sdss_master['deredihost'], # Host galaxy i-band magnitude (dereddened) \n",
    "    'i_mag_err': sdss_master['errihost'], # Host galaxy i-band magnitude uncertainty \n",
    "    'z_mag': sdss_master['deredzhost'], # Host galaxy z-band magnitude (dereddened) \n",
    "    'z_mag_err': sdss_master['errzhost'] # Host galaxy z-band magnitude (dereddened)\n",
    "})\n",
    "host_photometry.set_index('obj_id', inplace=True)\n",
    "    \n",
    "# Galaxy Parameters Calculated with FPPS\n",
    "fpps_params = pd.DataFrame({\n",
    "    'obj_id' : sdss_master['CID'],\n",
    "    'logmass' : sdss_master['logMassFSPS'],  # FSPS log(M), M=Galaxy Mass (M in units of Me)\n",
    "    'logmass_lo' : sdss_master['logMassloFSPS'],  # FSPS Lower limit of uncertainty in log(M)\n",
    "    'logmass_hi' : sdss_master['logMasshiFSPS'],  # FSPS Upper limit of uncertainty in log(M)\n",
    "    'logssfr' : sdss_master['logSSFRFSPS'],  # FSPS log(sSFR) sSFR=Galaxy Specific Star-forming Rate (SFR in Me yr−1)\n",
    "    'logssfr_lo' : sdss_master['logSSFRloFSPS'],  # FSPS Lower limit of uncertainty in log(sSFR)\n",
    "    'logssfr_hi' : sdss_master['logSSFRhiFSPS'],  # FSPS Upper limit of uncertainty in log(sSFR)\n",
    "    'age' : sdss_master['ageFSPS'],  # FSPS galaxy age (Gyr)\n",
    "    'age_lo' : sdss_master['ageloFSPS'],  # FSPS Lower limit of uncertainty in age\n",
    "    'age_hi' : sdss_master['agehiFSPS'],  # FSPS Upper limit of uncertainty in age \n",
    "    'rchisq' : sdss_master['minredchi2FSPS'] # Reduced chi-squared of best FSPS template fit\n",
    "})\n",
    "fpps_params.set_index('obj_id', inplace=True)\n",
    "\n",
    "# Galaxy Parameters Calculated with PÉGASE.2\n",
    "pegase_params = pd.DataFrame({\n",
    "    'obj_id' : sdss_master['CID'],\n",
    "    'logmass' : sdss_master['logMassPEGASE'], # PÉGASE.2 log(M), M=Galaxy Mass (M in units of Me) \n",
    "    'logmass_lo' : sdss_master['logMassloPEGASE'], # PÉGASE.2 Lower limit of uncertainty in log(M)\n",
    "    'logmass_hi' : sdss_master['logMasshiPEGASE'], # PÉGASE.2 Upper limit of uncertainty in log(SFR) \n",
    "    'logssfr' : sdss_master['logSFRPEGASE'], # PÉGASE.2 log(SFR) SFR=Galaxy star-forming rate (Me yr−1)\n",
    "    'logssfr_lo' : sdss_master['logSFRloPEGASE'], # PÉGASE.2 Lower limit of uncertainty in log(SFR)\n",
    "    'logssfr_hi' : sdss_master['logSFRhiPEGASE'], # PÉGASE.2 Upper limit of uncertainty in log(SFR)\n",
    "    'age' : sdss_master['agePEGASE'], # PÉGASE.2 galaxy age (Gyr)\n",
    "    'rchisq' : sdss_master['minchi2PEGASE']# Reduced chi-squared of best PÉGASE.2 fit\n",
    "})\n",
    "pegase_params.set_index('obj_id', inplace=True)\n"
   ]
  },
  {
   "cell_type": "markdown",
   "metadata": {},
   "source": [
    "Next we define a few plotting functions to help simplify our work later on."
   ]
  },
  {
   "cell_type": "code",
   "execution_count": 122,
   "metadata": {},
   "outputs": [],
   "source": [
    "def plot_host_property_distribution(col_name, bg_ids, normal_ids, *data_frames):\n",
    "    \n",
    "    fig, axes = plt.subplots(1, len(data_frames), sharex=True, sharey=True)\n",
    "    if len(data_frames) == 1:\n",
    "        axes = np.array([axes])\n",
    "    \n",
    "    for df, axis in zip(data_frames, axes.flatten()):\n",
    "        plot_data = df[col_name][df[col_name] > 0]\n",
    "        bg_data = plot_data.reindex(bg_ids).dropna()\n",
    "        normal_data = plot_data.reindex(normal_ids).dropna()\n",
    "        axis.hist([normal_data, bg_data], label=['Normal', '91bg'], density=True, stacked=True)\n",
    "\n",
    "    axes[-1].legend()\n",
    "    plt.tight_layout()\n",
    "    return fig, axes\n",
    "        "
   ]
  },
  {
   "cell_type": "markdown",
   "metadata": {},
   "source": [
    "Finally, we select 91bg and normal SNe using a given x and y cutoff and render a few plots."
   ]
  },
  {
   "cell_type": "code",
   "execution_count": 123,
   "metadata": {},
   "outputs": [],
   "source": [
    "x_cutoff = 1\n",
    "y_cutoff = 1\n",
    "\n",
    "snia = classifications[classifications.spec_class.isin(['SNIa', 'zSNIa', 'Unknown'])]\n",
    "bg_like = snia.index[(snia['x'] > x_cutoff) & (snia['y'] > y_cutoff)]\n",
    "normal = snia.index[(snia['x'] < x_cutoff) & (snia['y'] < y_cutoff)]\n",
    "\n"
   ]
  },
  {
   "cell_type": "code",
   "execution_count": 124,
   "metadata": {},
   "outputs": [
    {
     "data": {
      "image/png": "[encoded data removed]",
      "text/plain": [
       "<Figure size 432x288 with 2 Axes>"
      ]
     },
     "metadata": {
      "needs_background": "light"
     },
     "output_type": "display_data"
    }
   ],
   "source": [
    "fig, axes = plot_host_property_distribution('logmass', bg_like, normal, fpps_params, pegase_params) \n",
    "axes[0].set_title('FPPS')\n",
    "axes[1].set_title('PEGASE')\n",
    "for axis in axes:\n",
    "    axis.set_xlabel(r'$\\log(M)$')\n",
    "\n",
    "plt.show()\n"
   ]
  },
  {
   "cell_type": "code",
   "execution_count": 125,
   "metadata": {},
   "outputs": [
    {
     "data": {
      "image/png": "[encoded data removed]",
      "text/plain": [
       "<Figure size 432x288 with 2 Axes>"
      ]
     },
     "metadata": {
      "needs_background": "light"
     },
     "output_type": "display_data"
    }
   ],
   "source": [
    "fig, axes = plot_host_property_distribution('logssfr', bg_like, normal, fpps_params, pegase_params) \n",
    "axes[0].set_title('FPPS')\n",
    "axes[1].set_title('PEGASE')\n",
    "for axis in axes:\n",
    "    axis.set_xlabel(r'$\\log(SSFR)$')\n",
    "\n",
    "axis.set_ylim(0, 1.3)\n",
    "plt.show()\n",
    "\n"
   ]
  },
  {
   "cell_type": "code",
   "execution_count": 126,
   "metadata": {},
   "outputs": [
    {
     "data": {
      "image/png": "[encoded data removed]",
      "text/plain": [
       "<Figure size 432x288 with 1 Axes>"
      ]
     },
     "metadata": {
      "needs_background": "light"
     },
     "output_type": "display_data"
    }
   ],
   "source": [
    "fig, axes = plot_host_property_distribution('dist', bg_like, normal, host_photometry) \n",
    "#axes[0].set_ylim(0, .4)\n",
    "plt.show()\n"
   ]
  },
  {
   "cell_type": "markdown",
   "metadata": {},
   "source": [
    "## Optimize FOM"
   ]
  },
  {
   "cell_type": "code",
   "execution_count": null,
   "metadata": {},
   "outputs": [],
   "source": []
  },
  {
   "cell_type": "markdown",
   "metadata": {},
   "source": [
    "We use a figure of merit (FOM) value as an optimization parameter for training our classification. The FOM is defined as:\n",
    "\n",
    "$$FOM = \\frac{N_{true}}{N_{tot}} * \\frac{N_{true}}{N_{true} + N_{false}}$$\n",
    "\n",
    "where $N_{true}$ is the number of objects correctly classified as a given type (e.g. 91bg-like objects), $N_{tot}$ is the total number of that type, and $N_{false}$ is the number of incorrectly classified objects. \n"
   ]
  },
  {
   "cell_type": "code",
   "execution_count": null,
   "metadata": {},
   "outputs": [],
   "source": [
    "def subplot_fom_boundary(fom_type, axis, *args, **kwargs):\n",
    "    \"\"\"Plot the boundaries from an FOM calculation\n",
    "    \n",
    "    Args:\n",
    "        fom_type (str): The type of FOM calculation that was used \n",
    "        axis    (Axis): The matplotlib axis to plot on \n",
    "        *args  (float): The boundaries of the FOM calculation  \n",
    "        **kwargs: Plotting options \n",
    "    \"\"\"\n",
    "    \n",
    "    xlim = axis.get_xlim()\n",
    "    ylim = axis.get_ylim()\n",
    "    if fom_type == 'rectangular':\n",
    "        axis.axhline(args[0], **kwargs)\n",
    "        if 'label' in kwargs:\n",
    "            kwargs.pop('label')\n",
    "\n",
    "        axis.axvline(args[1], **kwargs)\n",
    "        \n",
    "    elif fom_type == 'horizontal':\n",
    "        axis.axvline(args[0], **kwargs)\n",
    "\n",
    "    elif fom_type == 'vertical':\n",
    "        axis.axhline(args[0], **kwargs)\n",
    "\n",
    "    elif fom_type == 'linear':\n",
    "        x = np.array([-1e4, 1e4])\n",
    "        axis.plot(x, args[0] * x + args[1], **kwargs)\n",
    "\n",
    "    elif fom_type == 'diagonal':\n",
    "        x = np.array([-1e4, 1e4])\n",
    "        axis.plot(x, - x + args[0], **kwargs)\n",
    "\n",
    "    else:\n",
    "        raise ValueError(f'Unknown FOM type {fom_type}')\n",
    "\n",
    "    axis.set_xlim(xlim)\n",
    "    axis.set_ylim(ylim)\n",
    "    axis.legend()\n"
   ]
  },
  {
   "cell_type": "code",
   "execution_count": null,
   "metadata": {
    "scrolled": false
   },
   "outputs": [],
   "source": [
    "static_fig, static_axis = create_static_figure(classifications)\n",
    "\n",
    "rectangular_lam = lambda args: 1 - fom.rectangular(truth=classifications['spec_class'],\n",
    "    x=classifications['x'], \n",
    "    y=classifications['y'], \n",
    "    x_cutoff=args[0], \n",
    "    y_cutoff=args[1], \n",
    "    check_type='91bg')\n",
    "\n",
    "rectangular_min = optimize.minimize(rectangular_lam, np.array([0, 0]), method='Powell')\n",
    "x_cutoff, y_cutoff = rectangular_min['x']\n",
    "rectangular_fom = 1 - rectangular_min['fun']\n",
    "\n",
    "subplot_fom_boundary(\n",
    "    'rectangular', \n",
    "    static_axis, \n",
    "    x_cutoff, \n",
    "    y_cutoff,\n",
    "    linestyle='--', \n",
    "    color='black', \n",
    "    alpha=.6, \n",
    "    label=f'FOM = {rectangular_fom:.3}')\n",
    "\n",
    "plt.show()"
   ]
  },
  {
   "cell_type": "code",
   "execution_count": null,
   "metadata": {},
   "outputs": [],
   "source": [
    "static_fig, static_axis = create_static_figure(classifications)\n",
    "\n",
    "vertical_lam = lambda args: 1 - fom.vertical(truth=classifications['spec_class'],\n",
    "    y=classifications['y'], \n",
    "    y_cutoff=args[0], \n",
    "    check_type='91bg')\n",
    "\n",
    "vertical_min = optimize.minimize(vertical_lam, np.array([0]), method='Powell')\n",
    "vertical_cutoff = vertical_min['x']\n",
    "vertical_fom = 1 - vertical_min['fun']\n",
    "\n",
    "subplot_fom_boundary(\n",
    "    'vertical', \n",
    "    static_axis, \n",
    "    vertical_cutoff, \n",
    "    linestyle='--',\n",
    "    color='black',\n",
    "    alpha=.6, \n",
    "    label=f'FOM = {vertical_fom:.3}')\n",
    "\n",
    "horizontal_lam = lambda args: 1 - fom.horizontal(truth=classifications['spec_class'],\n",
    "    x=classifications['x'], \n",
    "    x_cutoff=args[0], \n",
    "    check_type='91bg')\n",
    "\n",
    "horizontal_min = optimize.minimize(horizontal_lam, np.array([0]), method='Powell')\n",
    "horizontal_cutoff = horizontal_min['x']\n",
    "horizontal_fom = 1 - horizontal_min['fun']\n",
    "\n",
    "subplot_fom_boundary(\n",
    "    'horizontal', \n",
    "    static_axis, \n",
    "    horizontal_cutoff, \n",
    "    linestyle=':',\n",
    "    color='black',\n",
    "    alpha=.6, \n",
    "    label=f'FOM = {horizontal_fom:.3}')\n"
   ]
  },
  {
   "cell_type": "code",
   "execution_count": null,
   "metadata": {},
   "outputs": [],
   "source": [
    "static_fig, static_axis = create_static_figure(classifications)\n",
    "\n",
    "diagonal_lam = lambda args: 1 - fom.diagonal(truth=classifications['spec_class'],\n",
    "    x=classifications['x'], \n",
    "    y=classifications['y'],\n",
    "    b=args[0],\n",
    "    check_type='91bg')\n",
    "\n",
    "diagonal_min = optimize.minimize(diagonal_lam, np.array([0]), method='Powell')\n",
    "diagonal_b = diagonal_min['x']\n",
    "diagonal_fom = 1 - diagonal_min['fun']\n",
    "\n",
    "subplot_fom_boundary(\n",
    "    'diagonal', \n",
    "    static_axis, \n",
    "    diagonal_b, \n",
    "    linestyle='--', \n",
    "    color='black', \n",
    "    alpha=.6,\n",
    "    label=f'Diagonal FOM ({diagonal_b:.2}) = {diagonal_fom:.3}')\n",
    "\n",
    "linear_lam = lambda args: 1 - fom.linear(truth=classifications['spec_class'],\n",
    "    x=classifications['x'], \n",
    "    y=classifications['y'],\n",
    "    m=args[0],\n",
    "    b=args[1],\n",
    "    check_type='91bg')\n",
    "\n",
    "linear_min = optimize.minimize(linear_lam, np.array([-5, 0]), method='Powell')\n",
    "linear_m, linear_b = linear_min['x']\n",
    "linear_fom = 1 - linear_min['fun']\n",
    "\n",
    "subplot_fom_boundary(\n",
    "    'diagonal', \n",
    "    static_axis, \n",
    "    linear_m, \n",
    "    linear_b, \n",
    "    linestyle=':', \n",
    "    color='black', \n",
    "    alpha=.6,\n",
    "    label=f'Linear FOM ({linear_m:.2}, {linear_b:.2})= {linear_fom:.4}')\n"
   ]
  },
  {
   "cell_type": "markdown",
   "metadata": {},
   "source": [
    "## Bootstrap"
   ]
  },
  {
   "cell_type": "markdown",
   "metadata": {},
   "source": [
    "Now that we have a figure of merit optimization, we can bootstrap our data to determine our final classification parameters."
   ]
  },
  {
   "cell_type": "code",
   "execution_count": null,
   "metadata": {},
   "outputs": [],
   "source": [
    "# configure bootstrap\n",
    "n_iterations = 100\n",
    "n_size = int(len(classifications) * 0.50)\n",
    "\n",
    "# run bootstrap\n",
    "fom_values = []\n",
    "classification_params = []\n",
    "for i in range(n_iterations):\n",
    "    # prepare train and test sets\n",
    "    sample_data = resample(classifications, n_samples=n_size)\n",
    "    result = optimize.minimize(rectangular_lam, [0, 0], method='Powell')\n",
    "\n",
    "    fom_values.append(1 - result.fun)\n",
    "    classification_params.append(result.x)\n",
    "\n",
    "classification_params = np.array(classification_params).T\n"
   ]
  },
  {
   "cell_type": "code",
   "execution_count": null,
   "metadata": {},
   "outputs": [],
   "source": [
    "def calc_confidence_intervals(alpha, stats):\n",
    "    p = ((1 - alpha) / 2) * 100\n",
    "    lower = max(0, np.percentile(stats, p))\n",
    "\n",
    "    p = (alpha + ((1 - alpha) / 2)) * 100\n",
    "    upper = min(1.0, np.percentile(stats, p))\n",
    "\n",
    "    return lower, upper\n",
    "\n",
    "\n",
    "alpha=0.95\n",
    "confidence = 0.95\n",
    "average_fom = np.average(fom_values)\n",
    "fom_interval = calc_confidence_intervals(confidence, fom_values)\n",
    "\n",
    "print(f'Average FOM: {average_fom}')\n",
    "print(f'{alpha * 100:.1f} confidence interval: [{fom_interval[0] * 100:.1f} '\n",
    "      f', {fom_interval[1] * 100:.1f}]')\n",
    "\n",
    "average_params = np.average(classification_params, axis=1)\n",
    "blue_param_interval = calc_confidence_intervals(confidence, classification_params[0])\n",
    "red_param_interval = calc_confidence_intervals(confidence, classification_params[1])\n",
    "\n",
    "print(f'Average classification params: {average_params}')\n",
    "print(f'{alpha * 100} confidence interval for blue '\n",
    "      f'boundary: [{blue_param_interval[0]:.2f} '\n",
    "      f', {blue_param_interval[1]:.2f}]')\n",
    "\n",
    "print(f'{alpha * 100} confidence interval for red '\n",
    "      f'boundary: [{red_param_interval[0]:.2f} '\n",
    "      f', {red_param_interval[1]:.2f}]')\n"
   ]
  },
  {
   "cell_type": "code",
   "execution_count": null,
   "metadata": {},
   "outputs": [],
   "source": []
  }
 ],
 "metadata": {
  "kernelspec": {
   "display_name": "Python [conda env:phot_class] *",
   "language": "python",
   "name": "conda-env-phot_class-py"
  },
  "language_info": {
   "codemirror_mode": {
    "name": "ipython",
    "version": 3
   },
   "file_extension": ".py",
   "mimetype": "text/x-python",
   "name": "python",
   "nbconvert_exporter": "python",
   "pygments_lexer": "ipython3",
   "version": "3.7.4"
  }
 },
 "nbformat": 4,
 "nbformat_minor": 2
}
