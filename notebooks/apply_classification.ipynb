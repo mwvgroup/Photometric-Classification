{
 "cells": [
  {
   "cell_type": "markdown",
   "metadata": {},
   "source": [
    "# Apply Photometric Classification To Fit Results\n",
    "\n",
    "This notebook applies the photometric classification method from González-Gaitán et al. 2014 to SDSS light-curve fit results."
   ]
  },
  {
   "cell_type": "code",
   "execution_count": 1,
   "metadata": {},
   "outputs": [],
   "source": [
    "import warnings\n",
    "from pathlib import Path\n",
    "\n",
    "import matplotlib\n",
    "import numpy as np\n",
    "import pandas as pd\n",
    "import seaborn as sns\n",
    "from astropy.table import Table\n",
    "from bokeh.plotting import figure\n",
    "from matplotlib import pyplot as plt\n",
    "from scipy import stats\n",
    "from sklearn.utils import resample\n",
    "from sndata.csp import dr1\n",
    "from sndata.sdss import sako18\n",
    "\n",
    "dr1.download_module_data()\n",
    "matplotlib.rcParams['text.usetex'] = True\n",
    "matplotlib.rcParams['text.latex.preamble'] = [r'\\usepackage{amsmath}']\n",
    "\n",
    "# Output directory for figures\n",
    "fig_dir = Path('./notebook_figs/classification')\n",
    "fig_dir.mkdir(exist_ok=True, parents=True)\n"
   ]
  },
  {
   "cell_type": "markdown",
   "metadata": {},
   "source": [
    "## Load Data\n",
    "\n",
    "We read in the SDSS classificaions for supernovae and join these with our own photometric classification parameters. We create seperate tables for the band-by-band and collective fit results."
   ]
  },
  {
   "cell_type": "code",
   "execution_count": 2,
   "metadata": {
    "scrolled": false
   },
   "outputs": [],
   "source": [
    "# Read in sdss classifications\n",
    "sdss_master = sako18.load_table('master')\n",
    "sako_classification = pd.DataFrame({\n",
    "    'obj_id': sdss_master['CID'],\n",
    "    'spec_class': sdss_master['Classification']\n",
    "})\n",
    "sako_classification.set_index('obj_id', inplace=True)\n"
   ]
  },
  {
   "cell_type": "code",
   "execution_count": 3,
   "metadata": {},
   "outputs": [],
   "source": [
    "def read_classification_data(path, sdss_class):\n",
    "    \"\"\"Read pipeline classification coordinates from file and join with sdss classifications\n",
    "    \n",
    "    Args:\n",
    "        path             (str): Path of the file to read\n",
    "        sdss_class (DataFrame): SDSS classifications\n",
    "        \n",
    "    Returns:\n",
    "        A DataFrame of classification coords\n",
    "    \"\"\"\n",
    "\n",
    "    # Read in our own classification data\n",
    "    class_data = Table.read(path).to_pandas(index='obj_id')\n",
    "    class_data['survey'] = 'SDSS'\n",
    "    class_data['spec_class'] = 'Unspecified'\n",
    "\n",
    "    # Update our table with sdss classifications\n",
    "    class_data.update(sdss_class)\n",
    "    return class_data\n"
   ]
  },
  {
   "cell_type": "code",
   "execution_count": 4,
   "metadata": {},
   "outputs": [
    {
     "data": {
      "text/html": [
       "<div>\n",
       "<style scoped>\n",
       "    .dataframe tbody tr th:only-of-type {\n",
       "        vertical-align: middle;\n",
       "    }\n",
       "\n",
       "    .dataframe tbody tr th {\n",
       "        vertical-align: top;\n",
       "    }\n",
       "\n",
       "    .dataframe thead th {\n",
       "        text-align: right;\n",
       "    }\n",
       "</style>\n",
       "<table border=\"1\" class=\"dataframe\">\n",
       "  <thead>\n",
       "    <tr style=\"text-align: right;\">\n",
       "      <th></th>\n",
       "      <th>x</th>\n",
       "      <th>y</th>\n",
       "      <th>survey</th>\n",
       "      <th>spec_class</th>\n",
       "    </tr>\n",
       "    <tr>\n",
       "      <th>obj_id</th>\n",
       "      <th></th>\n",
       "      <th></th>\n",
       "      <th></th>\n",
       "      <th></th>\n",
       "    </tr>\n",
       "  </thead>\n",
       "  <tbody>\n",
       "    <tr>\n",
       "      <td>10028</td>\n",
       "      <td>-30.718333</td>\n",
       "      <td>-61.811193</td>\n",
       "      <td>SDSS</td>\n",
       "      <td>SNIa?</td>\n",
       "    </tr>\n",
       "    <tr>\n",
       "      <td>10036</td>\n",
       "      <td>0.266537</td>\n",
       "      <td>0.091667</td>\n",
       "      <td>SDSS</td>\n",
       "      <td>pSNIa</td>\n",
       "    </tr>\n",
       "    <tr>\n",
       "      <td>10037</td>\n",
       "      <td>-1.148080</td>\n",
       "      <td>-0.182717</td>\n",
       "      <td>SDSS</td>\n",
       "      <td>zSNIa</td>\n",
       "    </tr>\n",
       "    <tr>\n",
       "      <td>1008</td>\n",
       "      <td>-3.743340</td>\n",
       "      <td>-0.495803</td>\n",
       "      <td>SDSS</td>\n",
       "      <td>zSNIa</td>\n",
       "    </tr>\n",
       "    <tr>\n",
       "      <td>10096</td>\n",
       "      <td>-4.332436</td>\n",
       "      <td>0.309214</td>\n",
       "      <td>SDSS</td>\n",
       "      <td>SNIa</td>\n",
       "    </tr>\n",
       "  </tbody>\n",
       "</table>\n",
       "</div>"
      ],
      "text/plain": [
       "                x          y survey spec_class\n",
       "obj_id                                        \n",
       "10028  -30.718333 -61.811193   SDSS      SNIa?\n",
       "10036    0.266537   0.091667   SDSS      pSNIa\n",
       "10037   -1.148080  -0.182717   SDSS      zSNIa\n",
       "1008    -3.743340  -0.495803   SDSS      zSNIa\n",
       "10096   -4.332436   0.309214   SDSS       SNIa"
      ]
     },
     "execution_count": 4,
     "metadata": {},
     "output_type": "execute_result"
    }
   ],
   "source": [
    "band_path = '../results/band_fits/with_ext/sdss_sako18_simple_fit_class.ecsv'\n",
    "band_class = read_classification_data(band_path, sako_classification)\n",
    "\n",
    "collective_path = '../results/collective_fits/with_ext/sdss_sako18_simple_fit_class.ecsv'\n",
    "collective_class = read_classification_data(collective_path, sako_classification)\n",
    "collective_class.head()\n"
   ]
  },
  {
   "cell_type": "markdown",
   "metadata": {},
   "source": [
    "We also read in the actual fit results."
   ]
  },
  {
   "cell_type": "code",
   "execution_count": 5,
   "metadata": {},
   "outputs": [],
   "source": [
    "def read_fits_data(path):\n",
    "    \"\"\"Read pipeline fit results from file\n",
    "    \n",
    "    Args:\n",
    "        path             (str): Path of the file to read\n",
    "        \n",
    "    Returns:\n",
    "        A DataFrame of fit results\n",
    "    \"\"\"\n",
    "        \n",
    "    with warnings.catch_warnings():\n",
    "        warnings.simplefilter(\"ignore\")\n",
    "        fits_data = Table.read(path).to_pandas()\n",
    "        \n",
    "    return fits_data.set_index(['source', 'obj_id'])\n"
   ]
  },
  {
   "cell_type": "code",
   "execution_count": 6,
   "metadata": {
    "scrolled": false
   },
   "outputs": [
    {
     "data": {
      "text/html": [
       "<div>\n",
       "<style scoped>\n",
       "    .dataframe tbody tr th:only-of-type {\n",
       "        vertical-align: middle;\n",
       "    }\n",
       "\n",
       "    .dataframe tbody tr th {\n",
       "        vertical-align: top;\n",
       "    }\n",
       "\n",
       "    .dataframe thead th {\n",
       "        text-align: right;\n",
       "    }\n",
       "</style>\n",
       "<table border=\"1\" class=\"dataframe\">\n",
       "  <thead>\n",
       "    <tr style=\"text-align: right;\">\n",
       "      <th></th>\n",
       "      <th></th>\n",
       "      <th>message</th>\n",
       "      <th>band</th>\n",
       "      <th>pre_max</th>\n",
       "      <th>post_max</th>\n",
       "      <th>vparams</th>\n",
       "      <th>x1</th>\n",
       "      <th>z</th>\n",
       "      <th>c</th>\n",
       "      <th>amplitude</th>\n",
       "      <th>t0</th>\n",
       "      <th>...</th>\n",
       "      <th>x1_err</th>\n",
       "      <th>z_err</th>\n",
       "      <th>c_err</th>\n",
       "      <th>amplitude_err</th>\n",
       "      <th>t0_err</th>\n",
       "      <th>mwebv_err</th>\n",
       "      <th>chisq</th>\n",
       "      <th>ndof</th>\n",
       "      <th>b_max</th>\n",
       "      <th>delta_15</th>\n",
       "    </tr>\n",
       "    <tr>\n",
       "      <th>source</th>\n",
       "      <th>obj_id</th>\n",
       "      <th></th>\n",
       "      <th></th>\n",
       "      <th></th>\n",
       "      <th></th>\n",
       "      <th></th>\n",
       "      <th></th>\n",
       "      <th></th>\n",
       "      <th></th>\n",
       "      <th></th>\n",
       "      <th></th>\n",
       "      <th></th>\n",
       "      <th></th>\n",
       "      <th></th>\n",
       "      <th></th>\n",
       "      <th></th>\n",
       "      <th></th>\n",
       "      <th></th>\n",
       "      <th></th>\n",
       "      <th></th>\n",
       "      <th></th>\n",
       "      <th></th>\n",
       "    </tr>\n",
       "  </thead>\n",
       "  <tbody>\n",
       "    <tr>\n",
       "      <td rowspan=\"3\" valign=\"top\">hsiao_x1</td>\n",
       "      <td>10028</td>\n",
       "      <td>Minimization exited successfully.</td>\n",
       "      <td>all</td>\n",
       "      <td>85.0</td>\n",
       "      <td>20.0</td>\n",
       "      <td>t0,amplitude,x1</td>\n",
       "      <td>0.141842</td>\n",
       "      <td>0.064256</td>\n",
       "      <td>NaN</td>\n",
       "      <td>2.190513e-04</td>\n",
       "      <td>2.453694e+06</td>\n",
       "      <td>...</td>\n",
       "      <td>0.006493</td>\n",
       "      <td>NaN</td>\n",
       "      <td>NaN</td>\n",
       "      <td>7.309902e-07</td>\n",
       "      <td>0.085901</td>\n",
       "      <td>NaN</td>\n",
       "      <td>412.58</td>\n",
       "      <td>32.0</td>\n",
       "      <td>-19.16</td>\n",
       "      <td>1.330</td>\n",
       "    </tr>\n",
       "    <tr>\n",
       "      <td>10028</td>\n",
       "      <td>Minimization exited successfully.</td>\n",
       "      <td>blue</td>\n",
       "      <td>34.0</td>\n",
       "      <td>8.0</td>\n",
       "      <td>amplitude,x1</td>\n",
       "      <td>0.145950</td>\n",
       "      <td>0.064256</td>\n",
       "      <td>NaN</td>\n",
       "      <td>2.120666e-04</td>\n",
       "      <td>2.453694e+06</td>\n",
       "      <td>...</td>\n",
       "      <td>0.007041</td>\n",
       "      <td>NaN</td>\n",
       "      <td>NaN</td>\n",
       "      <td>8.540877e-07</td>\n",
       "      <td>NaN</td>\n",
       "      <td>NaN</td>\n",
       "      <td>37.06</td>\n",
       "      <td>12.0</td>\n",
       "      <td>-19.09</td>\n",
       "      <td>1.339</td>\n",
       "    </tr>\n",
       "    <tr>\n",
       "      <td>10028</td>\n",
       "      <td>Minimization exited successfully.</td>\n",
       "      <td>red</td>\n",
       "      <td>51.0</td>\n",
       "      <td>12.0</td>\n",
       "      <td>amplitude,x1</td>\n",
       "      <td>0.097528</td>\n",
       "      <td>0.064256</td>\n",
       "      <td>NaN</td>\n",
       "      <td>2.255210e-04</td>\n",
       "      <td>2.453694e+06</td>\n",
       "      <td>...</td>\n",
       "      <td>0.009118</td>\n",
       "      <td>NaN</td>\n",
       "      <td>NaN</td>\n",
       "      <td>7.930632e-07</td>\n",
       "      <td>NaN</td>\n",
       "      <td>NaN</td>\n",
       "      <td>155.41</td>\n",
       "      <td>19.0</td>\n",
       "      <td>-19.22</td>\n",
       "      <td>1.233</td>\n",
       "    </tr>\n",
       "    <tr>\n",
       "      <td rowspan=\"2\" valign=\"top\">sn91bg</td>\n",
       "      <td>10028</td>\n",
       "      <td>Minimization exited successfully.</td>\n",
       "      <td>all</td>\n",
       "      <td>90.0</td>\n",
       "      <td>15.0</td>\n",
       "      <td>t0,amplitude,x1,c</td>\n",
       "      <td>1.250000</td>\n",
       "      <td>0.064256</td>\n",
       "      <td>1.110223e-16</td>\n",
       "      <td>1.127967e-15</td>\n",
       "      <td>2.453696e+06</td>\n",
       "      <td>...</td>\n",
       "      <td>0.000311</td>\n",
       "      <td>NaN</td>\n",
       "      <td>0.000118</td>\n",
       "      <td>6.547090e-18</td>\n",
       "      <td>0.147287</td>\n",
       "      <td>NaN</td>\n",
       "      <td>4755.33</td>\n",
       "      <td>26.0</td>\n",
       "      <td>-18.52</td>\n",
       "      <td>1.446</td>\n",
       "    </tr>\n",
       "    <tr>\n",
       "      <td>10028</td>\n",
       "      <td>Minimization exited successfully.</td>\n",
       "      <td>blue</td>\n",
       "      <td>36.0</td>\n",
       "      <td>6.0</td>\n",
       "      <td>amplitude,x1,c</td>\n",
       "      <td>1.250000</td>\n",
       "      <td>0.064256</td>\n",
       "      <td>3.878009e-13</td>\n",
       "      <td>1.811014e-15</td>\n",
       "      <td>2.453696e+06</td>\n",
       "      <td>...</td>\n",
       "      <td>0.000986</td>\n",
       "      <td>NaN</td>\n",
       "      <td>0.005012</td>\n",
       "      <td>1.319683e-17</td>\n",
       "      <td>NaN</td>\n",
       "      <td>NaN</td>\n",
       "      <td>304.26</td>\n",
       "      <td>9.0</td>\n",
       "      <td>-19.04</td>\n",
       "      <td>1.446</td>\n",
       "    </tr>\n",
       "  </tbody>\n",
       "</table>\n",
       "<p>5 rows × 21 columns</p>\n",
       "</div>"
      ],
      "text/plain": [
       "                                           message  band  pre_max  post_max  \\\n",
       "source   obj_id                                                               \n",
       "hsiao_x1 10028   Minimization exited successfully.   all     85.0      20.0   \n",
       "         10028   Minimization exited successfully.  blue     34.0       8.0   \n",
       "         10028   Minimization exited successfully.   red     51.0      12.0   \n",
       "sn91bg   10028   Minimization exited successfully.   all     90.0      15.0   \n",
       "         10028   Minimization exited successfully.  blue     36.0       6.0   \n",
       "\n",
       "                           vparams        x1         z             c  \\\n",
       "source   obj_id                                                        \n",
       "hsiao_x1 10028     t0,amplitude,x1  0.141842  0.064256           NaN   \n",
       "         10028        amplitude,x1  0.145950  0.064256           NaN   \n",
       "         10028        amplitude,x1  0.097528  0.064256           NaN   \n",
       "sn91bg   10028   t0,amplitude,x1,c  1.250000  0.064256  1.110223e-16   \n",
       "         10028      amplitude,x1,c  1.250000  0.064256  3.878009e-13   \n",
       "\n",
       "                    amplitude            t0  ...    x1_err  z_err     c_err  \\\n",
       "source   obj_id                              ...                              \n",
       "hsiao_x1 10028   2.190513e-04  2.453694e+06  ...  0.006493    NaN       NaN   \n",
       "         10028   2.120666e-04  2.453694e+06  ...  0.007041    NaN       NaN   \n",
       "         10028   2.255210e-04  2.453694e+06  ...  0.009118    NaN       NaN   \n",
       "sn91bg   10028   1.127967e-15  2.453696e+06  ...  0.000311    NaN  0.000118   \n",
       "         10028   1.811014e-15  2.453696e+06  ...  0.000986    NaN  0.005012   \n",
       "\n",
       "                 amplitude_err    t0_err  mwebv_err    chisq  ndof  b_max  \\\n",
       "source   obj_id                                                             \n",
       "hsiao_x1 10028    7.309902e-07  0.085901        NaN   412.58  32.0 -19.16   \n",
       "         10028    8.540877e-07       NaN        NaN    37.06  12.0 -19.09   \n",
       "         10028    7.930632e-07       NaN        NaN   155.41  19.0 -19.22   \n",
       "sn91bg   10028    6.547090e-18  0.147287        NaN  4755.33  26.0 -18.52   \n",
       "         10028    1.319683e-17       NaN        NaN   304.26   9.0 -19.04   \n",
       "\n",
       "                 delta_15  \n",
       "source   obj_id            \n",
       "hsiao_x1 10028      1.330  \n",
       "         10028      1.339  \n",
       "         10028      1.233  \n",
       "sn91bg   10028      1.446  \n",
       "         10028      1.446  \n",
       "\n",
       "[5 rows x 21 columns]"
      ]
     },
     "execution_count": 6,
     "metadata": {},
     "output_type": "execute_result"
    }
   ],
   "source": [
    "band_fits_path = '../results/band_fits/with_ext/sdss_sako18_simple_fit_fits.ecsv'\n",
    "band_fits = read_fits_data(band_fits_path)\n",
    "band_fits['band'] = [str(b)[-2] if b != 'all' else b for b in band_fits.band]\n",
    "\n",
    "collective_fits_path = '../results/collective_fits/with_ext/sdss_sako18_simple_fit_fits.ecsv'\n",
    "collective_fits = read_fits_data(collective_fits_path)\n",
    "collective_fits.head()\n"
   ]
  },
  {
   "cell_type": "markdown",
   "metadata": {},
   "source": [
    "## Exploration of Failed Fits\n",
    "\n",
    "We perform a cursory investigation of any fits that have failed to converge. To start, we note the unique error messages raised in the band and collective fit results."
   ]
  },
  {
   "cell_type": "code",
   "execution_count": 7,
   "metadata": {},
   "outputs": [],
   "source": [
    "def get_failed_fits(fits_df):\n",
    "    \"\"\"Select failed fits from a dataframe\"\"\"\n",
    "    \n",
    "    failed_fits = fits_df['message'].str.lower().str.contains('failed')\n",
    "    return fits_df[failed_fits]\n",
    "    "
   ]
  },
  {
   "cell_type": "code",
   "execution_count": 8,
   "metadata": {},
   "outputs": [
    {
     "name": "stdout",
     "output_type": "stream",
     "text": [
      "Band fit error messages:\n",
      "\n",
      "['No data points with S/N > 5.0. Initial guessing failed.'\n",
      " 'Hesse Failed. Covariance may not be accurate. Covariance not positive definite.']\n",
      "\n",
      "Collective fit error messages:\n",
      "\n",
      "['No data points with S/N > 5.0. Initial guessing failed.'\n",
      " 'Hesse Failed. Covariance may not be accurate. Covariance not positive definite.']\n"
     ]
    }
   ],
   "source": [
    "print('Band fit error messages:\\n')\n",
    "print(get_failed_fits(band_fits).message.unique())\n",
    "\n",
    "print('\\nCollective fit error messages:\\n')\n",
    "print(get_failed_fits(collective_fits).message.unique())\n"
   ]
  },
  {
   "cell_type": "markdown",
   "metadata": {},
   "source": [
    "The SNR error is not concerning so long as there are an equal number of occurences between the band and collective fits."
   ]
  },
  {
   "cell_type": "code",
   "execution_count": 9,
   "metadata": {},
   "outputs": [
    {
     "name": "stdout",
     "output_type": "stream",
     "text": [
      "Equal Number of SNR errors: True\n"
     ]
    }
   ],
   "source": [
    "snr_err_msg = 'No data points with S/N > 5.0. Initial guessing failed.'\n",
    "band_snr_indices = band_fits.message == snr_err_msg\n",
    "collective_snr_indices = collective_fits.message == snr_err_msg\n",
    "equal_errors = sum(band_snr_indices) == sum(collective_snr_indices)\n",
    "\n",
    "print('Equal Number of SNR errors:', equal_errors)\n"
   ]
  },
  {
   "cell_type": "markdown",
   "metadata": {},
   "source": [
    "We drop the SNR errors for now and look at the distribution of the remaining errors across bands and models."
   ]
  },
  {
   "cell_type": "code",
   "execution_count": 10,
   "metadata": {},
   "outputs": [],
   "source": [
    "goodsnr_band_fits = band_fits[band_fits.message != snr_err_msg]\n",
    "goodsnr_collective_fits = collective_fits[collective_fits.message != snr_err_msg]\n"
   ]
  },
  {
   "cell_type": "code",
   "execution_count": 11,
   "metadata": {},
   "outputs": [
    {
     "name": "stdout",
     "output_type": "stream",
     "text": [
      "Band by band error distribution\n",
      "\n",
      "By fitted band (set):\n",
      "Series([], Name: band, dtype: int64)\n",
      "\n",
      "Number of failed fits per source:\n",
      "hsiao_x1    193\n",
      "Name: source, dtype: int64\n",
      "\n",
      "Number of failed fits per object (num_failures number_targets):\n",
      "1    179\n",
      "2      7\n",
      "dtype: int64\n"
     ]
    }
   ],
   "source": [
    "band_failed_nosnr = get_failed_fits(goodsnr_band_fits)\n",
    "\n",
    "print('Band by band error distribution\\n')\n",
    "print('By fitted band (set):')\n",
    "print(band_failed_nosnr.band.str[-2].value_counts())\n",
    "\n",
    "print('\\nNumber of failed fits per source:')\n",
    "print(band_failed_nosnr.droplevel(1).index.value_counts())\n",
    "\n",
    "print('\\nNumber of failed fits per object (num_failures number_targets):')\n",
    "print(band_failed_nosnr.index.value_counts().value_counts())\n"
   ]
  },
  {
   "cell_type": "code",
   "execution_count": 12,
   "metadata": {},
   "outputs": [
    {
     "name": "stdout",
     "output_type": "stream",
     "text": [
      "Collective error distribution\n",
      "\n",
      "By fitted band (set):\n",
      "red    8\n",
      "Name: band, dtype: int64\n",
      "\n",
      "Number of failed fits per source:\n",
      "hsiao_x1    8\n",
      "Name: source, dtype: int64\n",
      "\n",
      "Number of failed fits per object (num_failures number_targets):\n",
      "1    8\n",
      "dtype: int64\n"
     ]
    }
   ],
   "source": [
    "collective_failed_nosnr = get_failed_fits(goodsnr_collective_fits)\n",
    "\n",
    "print('Collective error distribution\\n')\n",
    "print('By fitted band (set):')\n",
    "print(collective_failed_nosnr.band.value_counts())\n",
    "\n",
    "print('\\nNumber of failed fits per source:')\n",
    "print(collective_failed_nosnr.droplevel(1).index.value_counts())\n",
    "\n",
    "print('\\nNumber of failed fits per object (num_failures number_targets):')\n",
    "print(collective_failed_nosnr.index.value_counts().value_counts())\n"
   ]
  },
  {
   "cell_type": "markdown",
   "metadata": {},
   "source": [
    "## Classification\n",
    "\n",
    "We apply the classification to the fitted light curves."
   ]
  },
  {
   "cell_type": "code",
   "execution_count": 13,
   "metadata": {},
   "outputs": [],
   "source": [
    "def create_border_hist(axis, padding=0):\n",
    "    \"\"\"Create axes for plotting border histograms\n",
    "\n",
    "    Args:\n",
    "        axis     (Axis): The matplotlib axis to border\n",
    "        padding (float): Spacing between the main and bordering axes\n",
    "\n",
    "    Returns:\n",
    "        Axis for the upper histogram\n",
    "        Axis for the right side histogram\n",
    "    \"\"\"\n",
    "\n",
    "    axis_pos = axis.get_position()\n",
    "    axis_width = axis_pos.x1 - axis_pos.x0\n",
    "    axis_height = axis_pos.y1 - axis_pos.y0\n",
    "\n",
    "    histx_pos = axis.get_position()\n",
    "    histx_pos.y0 += axis_height + padding\n",
    "    histx_pos.y1 = histx_pos.y0 + .35 * axis_height + padding\n",
    "    histx = plt.axes(histx_pos)\n",
    "    histx.set_xlim(axis.get_xlim())\n",
    "    histx.tick_params(direction='in', labelbottom=False)\n",
    "\n",
    "    histy_pos = axis.get_position()\n",
    "    histy_pos.x0 += axis_width + padding\n",
    "    histy_pos.x1 = histy_pos.x0 + .35 * axis_width + padding\n",
    "    histy = plt.axes(histy_pos)\n",
    "    histy.set_ylim(axis.get_ylim())\n",
    "    histy.tick_params(direction='in', labelleft=False)\n",
    "\n",
    "    return histx, histy\n",
    "\n",
    "\n",
    "def calc_delta_chisq(fits_df):\n",
    "    \"\"\"Calculate the difference in reduces chisq for overall fits\n",
    "\n",
    "    Args:\n",
    "        fits_df (DataFrame): Pipeline fit results\n",
    "\n",
    "    Returns:\n",
    "        A pandas series\n",
    "    \"\"\"\n",
    "\n",
    "    fits_hsiao = fits_df.loc['hsiao_x1']\n",
    "    fits_hsiao = fits_hsiao[fits_hsiao.band == 'all']\n",
    "    fits_sn91bg = fits_df.loc['sn91bg']\n",
    "    fits_sn91bg = fits_sn91bg[fits_sn91bg.band == 'all']\n",
    "    return (fits_hsiao.chisq / fits_hsiao.ndof) - (\n",
    "            fits_sn91bg.chisq / fits_sn91bg.ndof)\n",
    "\n",
    "\n",
    "def get_sako_pec():\n",
    "    with warnings.catch_warnings():\n",
    "        warnings.simplefilter(\"ignore\")\n",
    "        sako_data = sako18.load_table('master').to_pandas(index='CID')\n",
    "\n",
    "    flagged = sako_data.reindex(sako_data.Notes.dropna().index) \n",
    "    flagged = flagged[flagged.Notes > 1]\n",
    "    return flagged\n"
   ]
  },
  {
   "cell_type": "code",
   "execution_count": 14,
   "metadata": {},
   "outputs": [],
   "source": [
    "def plot_chisq_hist(fits_df):\n",
    "    \"\"\"Plot classification results\n",
    "\n",
    "    Args:\n",
    "        fits_df (DataFrame): DataFrame of fit results\n",
    "    \"\"\"\n",
    "\n",
    "    fig, axis = plt.subplots(1, 1, figsize=(7 / 2, 7 / 2))\n",
    "    delta_chi = calc_delta_chisq(fits_df)\n",
    "    chi_lt0 = delta_chi[delta_chi < 0]\n",
    "    chi_gt0 = delta_chi[delta_chi > 0]\n",
    "\n",
    "    # Plot histogram of overall chi-squared values\n",
    "    bins = np.arange(-25, 25)\n",
    "    axis.hist(chi_lt0, bins=bins, label=r'$\\Delta \\chi^2 < 0$ ({})'.format(len(chi_lt0)))\n",
    "    axis.hist(chi_gt0, bins=bins, label=r'$\\Delta \\chi^2 > 0$ ({})'.format(len(chi_gt0)))\n",
    "    axis.axvline(0, color='black', linestyle='--')\n",
    "    axis.set_xlim(-10, 10)\n",
    "    axis.set_xlabel(r'$\\Delta \\chi^2$ (Hsiao - SN91bg)')\n",
    "    axis.set_ylabel('Number of SNe')\n",
    "    axis.legend()\n",
    "    \n",
    "def plot_chisq_scatter(fits_df):\n",
    "    \"\"\"Plot classification results\n",
    "\n",
    "    Args:\n",
    "        fits_df (DataFrame): DataFrame of fit results\n",
    "    \"\"\"\n",
    "    \n",
    "    delta_chi = calc_delta_chisq(fits_df)\n",
    "    chi_lt0 = delta_chi[delta_chi < 0].index\n",
    "    chi_gt0 = delta_chi[delta_chi > 0].index\n",
    "\n",
    "    all_fits =  fits_df[fits_df.band == 'all']\n",
    "    chisq_hs = all_fits.loc['hsiao_x1'].chisq / all_fits.loc['hsiao_x1'].ndof\n",
    "    chisq_bg = all_fits.loc['sn91bg'].chisq / all_fits.loc['sn91bg'].ndof\n",
    "    chisq = pd.DataFrame(dict(chisq_hs=chisq_hs, chisq_bg=chisq_bg))\n",
    "\n",
    "    fig, axis = plt.subplots(1, 1, figsize=(7 / 2, 7 / 2))\n",
    "    labels = (r'$\\Delta\\chi^2 < 0$', r'$\\Delta\\chi^2 > 0$')\n",
    "    for index, label in zip((chi_lt0, chi_gt0), labels):\n",
    "        plot_data = chisq.reindex(index)\n",
    "        axis.scatter(plot_data.chisq_hs, plot_data.chisq_bg, \n",
    "                     s=5, alpha=.2, label=label)\n",
    "\n",
    "    ylim = axis.get_ylim()\n",
    "    axis.plot(ylim, ylim, linestyle='--', color='grey')\n",
    "    axis.set_xscale('log')\n",
    "    axis.set_yscale('log')\n",
    "    axis.set_xlabel(r'Reduced Hsiao $\\chi^2$')\n",
    "    axis.set_ylabel(r'Reduced SN91bg $\\chi^2$')\n",
    "    axis.legend(framealpha=1)\n",
    "    return fig, axis\n",
    "\n",
    "\n",
    "def plot_classification(class_df, fits_df, border_bins, padding):\n",
    "    \"\"\"Plot classification results\n",
    "\n",
    "    Args:\n",
    "        class_df  (DataFrame): Classification coordinates\n",
    "        class_df  (DataFrame): Classification results from collective fitting\n",
    "        fits_df   (DataFrame): DataFrame of fit results\n",
    "        border_bins (ndarray): Bins for histogram\n",
    "        padding       (float): Spacing between the main and bordering axes\n",
    "    \"\"\"\n",
    "\n",
    "    fig, axis = plt.subplots(1, 1, figsize=(7 / 2, 7 / 2))\n",
    "    x_label = r'$\\chi^2_\\text{blue}$ (Ia) - $\\chi^2_\\text{blue}$ (91bg)'\n",
    "    y_label = r'$\\chi^2_\\text{red}$ (Ia) - $\\chi^2_\\text{red}$ (91bg)'\n",
    "    markers = {2: 's', 3: '^', 4: 'P', 5: 'v'}\n",
    "    labels = {2: '91bg', 3: '00cx', 4: '02ci', 5: '02cx'}\n",
    "\n",
    "    delta_chi = calc_delta_chisq(fits_df)\n",
    "    chi_lt0 = delta_chi[delta_chi < 0]\n",
    "    chi_gt0 = delta_chi[delta_chi > 0]\n",
    "\n",
    "    all_data_lt = class_df.reindex(chi_lt0.index)\n",
    "    all_data_gt = class_df.reindex(chi_gt0.index)\n",
    "    axis.scatter(all_data_lt.x, all_data_lt.y, s=10, alpha=.7)\n",
    "    axis.scatter(all_data_gt.x, all_data_gt.y, s=10, color='C1', alpha=.7)\n",
    "    \n",
    "    axis.axvline(0, color='grey', linestyle='--')\n",
    "    axis.axhline(0, color='grey', linestyle='--')\n",
    "    axis.set_xlabel(x_label, fontsize=12)\n",
    "    axis.set_ylabel(y_label, fontsize=12)\n",
    "    axis.set_xlim(-75, 75)\n",
    "    axis.set_ylim(-50, 50)\n",
    "    \n",
    "    for flag_type, flag_data in get_sako_pec().groupby('Notes'):\n",
    "        plt_data = class_df.reindex(flag_data.index)\n",
    "        marker = markers[flag_type]\n",
    "        label = labels[flag_type]\n",
    "        axis.scatter(plt_data.x, plt_data.y, s=20, \n",
    "                     marker=marker, zorder=9,\n",
    "                     color='C3', label=label)\n",
    "\n",
    "    histx, histy = create_border_hist(axis, padding)\n",
    "    histx.hist([all_data_lt.x, all_data_gt.x], bins=border_bins, stacked=True)\n",
    "    histy.hist([all_data_lt.y, all_data_gt.y], bins=border_bins,\n",
    "               stacked=True, orientation='horizontal')\n",
    "\n",
    "    histx.set_xlim(axis.get_xlim())\n",
    "    histy.set_ylim(axis.get_ylim())\n",
    "    histx.set_yscale('log')\n",
    "    histy.set_xscale('log')\n",
    "    return fig, axis\n"
   ]
  },
  {
   "cell_type": "code",
   "execution_count": 15,
   "metadata": {
    "scrolled": false
   },
   "outputs": [
    {
     "name": "stderr",
     "output_type": "stream",
     "text": [
      "/anaconda3/envs/phot_class/lib/python3.7/site-packages/ipykernel_launcher.py:2: UserWarning: Attempted to set non-positive left xlim on a log-scaled axis.\n",
      "Invalid limit will be ignored.\n",
      "  \n",
      "/anaconda3/envs/phot_class/lib/python3.7/site-packages/ipykernel_launcher.py:3: UserWarning: Attempted to set non-positive bottom ylim on a log-scaled axis.\n",
      "Invalid limit will be ignored.\n",
      "  This is separate from the ipykernel package so we can avoid doing imports until\n"
     ]
    },
    {
     "data": {
      "image/png": "[encoded data removed]",
      "text/plain": [
       "<Figure size 252x252 with 1 Axes>"
      ]
     },
     "metadata": {
      "needs_background": "light"
     },
     "output_type": "display_data"
    }
   ],
   "source": [
    "chisq_scat_fig, chisq_scat_axis = plot_chisq_scatter(collective_fits)\n",
    "chisq_scat_axis.set_xlim(0, 1e3)\n",
    "chisq_scat_axis.set_ylim(0, 1e3)\n",
    "\n",
    "plt.savefig(fig_dir / 'chisq_scatter.pdf', bbox_inches='tight')\n",
    "plt.show()\n"
   ]
  },
  {
   "cell_type": "code",
   "execution_count": 16,
   "metadata": {},
   "outputs": [
    {
     "data": {
      "image/png": "[encoded data removed]",
      "text/plain": [
       "<Figure size 252x252 with 1 Axes>"
      ]
     },
     "metadata": {
      "needs_background": "light"
     },
     "output_type": "display_data"
    }
   ],
   "source": [
    "plot_chisq_hist(collective_fits)\n",
    "\n",
    "plt.savefig(fig_dir / 'chisq_hist.pdf', bbox_inches='tight')\n",
    "plt.show()\n"
   ]
  },
  {
   "cell_type": "code",
   "execution_count": 17,
   "metadata": {},
   "outputs": [
    {
     "data": {
      "image/png": "[encoded data removed]",
      "text/plain": [
       "<Figure size 252x252 with 3 Axes>"
      ]
     },
     "metadata": {
      "needs_background": "light"
     },
     "output_type": "display_data"
    }
   ],
   "source": [
    "coll_fig, coll_axis = plot_classification(\n",
    "    class_df=collective_class, \n",
    "    fits_df=collective_fits, \n",
    "    border_bins=np.arange(-100, 100, 5),\n",
    "    padding=.05\n",
    ")\n",
    "    \n",
    "plt.savefig(fig_dir / 'collective_classification.pdf', bbox_inches='tight')\n",
    "plt.show()\n"
   ]
  },
  {
   "cell_type": "code",
   "execution_count": 18,
   "metadata": {
    "scrolled": false
   },
   "outputs": [
    {
     "data": {
      "image/png": "[encoded data removed]",
      "text/plain": [
       "<Figure size 252x252 with 3 Axes>"
      ]
     },
     "metadata": {
      "needs_background": "light"
     },
     "output_type": "display_data"
    }
   ],
   "source": [
    "band_fig, band_axis = plot_classification(\n",
    "    class_df=band_class, \n",
    "    fits_df=band_fits, \n",
    "    border_bins=np.arange(-100, 100, 5),\n",
    "    padding=.05\n",
    ")\n",
    "    \n",
    "band_axis.legend(framealpha=1)\n",
    "\n",
    "plt.savefig(fig_dir / 'band_classification.pdf', bbox_inches='tight')\n",
    "plt.show()\n"
   ]
  },
  {
   "cell_type": "markdown",
   "metadata": {},
   "source": [
    "We note that some of the points in quadrent 3 hace a $\\Delta \\chi^2$ greater than 0. For future or external reference, we note the object Id for the point furthest away from the origin."
   ]
  },
  {
   "cell_type": "code",
   "execution_count": 19,
   "metadata": {},
   "outputs": [
    {
     "data": {
      "text/html": [
       "<div>\n",
       "<style scoped>\n",
       "    .dataframe tbody tr th:only-of-type {\n",
       "        vertical-align: middle;\n",
       "    }\n",
       "\n",
       "    .dataframe tbody tr th {\n",
       "        vertical-align: top;\n",
       "    }\n",
       "\n",
       "    .dataframe thead th {\n",
       "        text-align: right;\n",
       "    }\n",
       "</style>\n",
       "<table border=\"1\" class=\"dataframe\">\n",
       "  <thead>\n",
       "    <tr style=\"text-align: right;\">\n",
       "      <th></th>\n",
       "      <th>x</th>\n",
       "      <th>y</th>\n",
       "      <th>survey</th>\n",
       "      <th>spec_class</th>\n",
       "      <th>dist</th>\n",
       "    </tr>\n",
       "    <tr>\n",
       "      <th>obj_id</th>\n",
       "      <th></th>\n",
       "      <th></th>\n",
       "      <th></th>\n",
       "      <th></th>\n",
       "      <th></th>\n",
       "    </tr>\n",
       "  </thead>\n",
       "  <tbody>\n",
       "    <tr>\n",
       "      <td>15749</td>\n",
       "      <td>-19.107727</td>\n",
       "      <td>-20.794840</td>\n",
       "      <td>SDSS</td>\n",
       "      <td>SNIa?</td>\n",
       "      <td>28.240584</td>\n",
       "    </tr>\n",
       "    <tr>\n",
       "      <td>13467</td>\n",
       "      <td>-15.023733</td>\n",
       "      <td>-18.634854</td>\n",
       "      <td>SDSS</td>\n",
       "      <td>SNIa?</td>\n",
       "      <td>23.936798</td>\n",
       "    </tr>\n",
       "    <tr>\n",
       "      <td>17263</td>\n",
       "      <td>-19.622513</td>\n",
       "      <td>-1.438595</td>\n",
       "      <td>SDSS</td>\n",
       "      <td>SNIa</td>\n",
       "      <td>19.675177</td>\n",
       "    </tr>\n",
       "    <tr>\n",
       "      <td>17287</td>\n",
       "      <td>-0.149844</td>\n",
       "      <td>-17.158587</td>\n",
       "      <td>SDSS</td>\n",
       "      <td>SNIb</td>\n",
       "      <td>17.159242</td>\n",
       "    </tr>\n",
       "    <tr>\n",
       "      <td>17500</td>\n",
       "      <td>-12.769921</td>\n",
       "      <td>-4.673283</td>\n",
       "      <td>SDSS</td>\n",
       "      <td>SNIa</td>\n",
       "      <td>13.598178</td>\n",
       "    </tr>\n",
       "  </tbody>\n",
       "</table>\n",
       "</div>"
      ],
      "text/plain": [
       "                x          y survey spec_class       dist\n",
       "obj_id                                                   \n",
       "15749  -19.107727 -20.794840   SDSS      SNIa?  28.240584\n",
       "13467  -15.023733 -18.634854   SDSS      SNIa?  23.936798\n",
       "17263  -19.622513  -1.438595   SDSS       SNIa  19.675177\n",
       "17287   -0.149844 -17.158587   SDSS       SNIb  17.159242\n",
       "17500  -12.769921  -4.673283   SDSS       SNIa  13.598178"
      ]
     },
     "execution_count": 19,
     "metadata": {},
     "output_type": "execute_result"
    }
   ],
   "source": [
    "# Get object Ids with delta chisq > 0\n",
    "delta_chi = calc_delta_chisq(collective_fits)\n",
    "delta_gt0 = delta_chi[delta_chi > 0].index\n",
    "delta_gt0_coords = collective_class.reindex(delta_gt0)\n",
    "\n",
    "# Keep objects in quadrent 3\n",
    "indices = (delta_gt0_coords.x < 0) & (delta_gt0_coords.y < 0)\n",
    "delta_gt0_coords = delta_gt0_coords[indices]\n",
    "\n",
    "# Sort by distance from origin\n",
    "delta_gt0_coords['dist'] = ((delta_gt0_coords.x ** 2 + delta_gt0_coords.y ** 2) ** .5)\n",
    "delta_gt0_coords.sort_values('dist', ascending=False).head()\n"
   ]
  },
  {
   "cell_type": "markdown",
   "metadata": {},
   "source": [
    "## Intrinsic Properties\n",
    "\n",
    "We consider the distribution of fit parameters."
   ]
  },
  {
   "cell_type": "code",
   "execution_count": 20,
   "metadata": {},
   "outputs": [],
   "source": [
    "def plot_param_histogram(fits_df, source, fit_type, param):\n",
    "    \n",
    "    # Select data to plot\n",
    "    fits_with_source = fits_df.loc[source]\n",
    "    band_data = fits_with_source.groupby('band')\n",
    "    labels, data = np.transpose([[band, data[param]] for band, data in band_data])\n",
    "    \n",
    "    fig, axis = plt.subplots(1, 1, figsize=(7, 7))\n",
    "    axis.hist(data, stacked=True, label=labels)\n",
    "    \n",
    "    latex_safe_source = source.split(\"_\")[0]\n",
    "    axis.set_title(param + f' Distribution ({latex_safe_source} - {fit_type} Fits)'.title())\n",
    "    axis.set_xlabel(param)\n",
    "    axis.set_ylabel('Combined number of targets')\n",
    "    axis.legend()    \n"
   ]
  },
  {
   "cell_type": "code",
   "execution_count": 21,
   "metadata": {
    "scrolled": false
   },
   "outputs": [
    {
     "data": {
      "image/png": "[encoded data removed]",
      "text/plain": [
       "<Figure size 504x504 with 1 Axes>"
      ]
     },
     "metadata": {
      "needs_background": "light"
     },
     "output_type": "display_data"
    },
    {
     "data": {
      "image/png": "[encoded data removed]",
      "text/plain": [
       "<Figure size 504x504 with 1 Axes>"
      ]
     },
     "metadata": {
      "needs_background": "light"
     },
     "output_type": "display_data"
    },
    {
     "data": {
      "image/png": "[encoded data removed]",
      "text/plain": [
       "<Figure size 504x504 with 1 Axes>"
      ]
     },
     "metadata": {
      "needs_background": "light"
     },
     "output_type": "display_data"
    },
    {
     "data": {
      "image/png": "[encoded data removed]",
      "text/plain": [
       "<Figure size 504x504 with 1 Axes>"
      ]
     },
     "metadata": {
      "needs_background": "light"
     },
     "output_type": "display_data"
    },
    {
     "data": {
      "image/png": "[encoded data removed]",
      "text/plain": [
       "<Figure size 504x504 with 1 Axes>"
      ]
     },
     "metadata": {
      "needs_background": "light"
     },
     "output_type": "display_data"
    },
    {
     "data": {
      "image/png": "[encoded data removed]",
      "text/plain": [
       "<Figure size 504x504 with 1 Axes>"
      ]
     },
     "metadata": {
      "needs_background": "light"
     },
     "output_type": "display_data"
    }
   ],
   "source": [
    "for source in ('hsiao_x1', 'sn91bg'):\n",
    "    for param in ('x1', 'c'):\n",
    "        if source == 'hsiao_x1' and param == 'c':\n",
    "            continue\n",
    "            \n",
    "        for fit_type, fit_data in zip(('band', 'collective'), (band_fits, collective_fits)):\n",
    "            plot_param_histogram(fit_data, source, fit_type, param)\n",
    "            plt.savefig(fig_dir / f'{param}_{source}_{fit_type}_fits.pdf'.lower())\n",
    "            plt.show()\n"
   ]
  },
  {
   "cell_type": "code",
   "execution_count": 22,
   "metadata": {},
   "outputs": [],
   "source": [
    "def scatter_plot(x, y, c=None, contour=False, class_by=None, x_cutoff=0, y_cutoff=0):\n",
    "    \"\"\"Create a scatter plot with bordering histograms\n",
    "    \n",
    "    Args:\n",
    "        x    (ndarray): x values to plot\n",
    "        y    (ndarray): y values to plot\n",
    "        c    (ndarray): Optional values for a colorbar\n",
    "        contour (bool): Whether to plot contours\n",
    "        class_by   (str): Classify by \"collective\" or \"band\" fits\n",
    "        x_cutoff (float): The x cutoff for bg classifications\n",
    "        y_cutoff (float): The y cutoff for bg classifications\n",
    "        \n",
    "    Returns:\n",
    "        A seaborn figure\n",
    "        A matplotlib axis for the color bar, if c is provided\n",
    "    \"\"\"\n",
    "    \n",
    "    joint_plot = sns.jointplot(x, y, height=8)\n",
    "    scatter_ax = joint_plot.ax_joint\n",
    "    \n",
    "    if c is not None:\n",
    "        scatter_ax.cla()\n",
    "        basic_cols = ['blue', 'lightgrey', 'red']\n",
    "        cmap = LinearSegmentedColormap.from_list('mycmap', basic_cols)\n",
    "        s = scatter_ax.scatter(x, y, c=c, cmap=cmap, s=12)\n",
    "\n",
    "        ax_pos = scatter_ax.get_position()\n",
    "        ax_pos.y0 -= .2\n",
    "        ax_pos.y1 = ax_pos.y0 + .05\n",
    "        cbar_ax = plt.gcf().add_axes(ax_pos)\n",
    "        plt.colorbar(s, cax=cbar_ax, orientation='horizontal')\n",
    "        return joint_plot, cbar_ax \n",
    "    \n",
    "    elif class_by is not None:\n",
    "        x_coord = class_by.x\n",
    "        y_coord = class_by.y\n",
    "        sn91bg = class_by[(x_coord > x_cutoff) & (y_coord > y_cutoff)].index\n",
    "        normal = class_by[(x_coord < x_cutoff) & (y_coord < y_cutoff)].index\n",
    "        pec = class_by[(x_coord < x_cutoff) & (y_coord > y_cutoff)].index\n",
    "\n",
    "        scatter_ax.cla()\n",
    "        scatter_ax.scatter(x.reindex(normal), y.reindex(normal), \n",
    "                          color='C0',\n",
    "                          s=12, label='Q3')\n",
    "        \n",
    "        scatter_ax.scatter(x.reindex(sn91bg), y.reindex(sn91bg), color='C3', marker='^', label='Q1')\n",
    "        scatter_ax.scatter(x.reindex(pec), y.reindex(pec), color='C1', marker='s', label='Q2') \n",
    "        scatter_ax.legend()\n",
    "        \n",
    "    if contour:\n",
    "        sns.kdeplot(x, y, ax=scatter_ax, color='black', alpha=.8)\n",
    "        \n",
    "    return joint_plot\n",
    "\n"
   ]
  },
  {
   "cell_type": "code",
   "execution_count": 23,
   "metadata": {},
   "outputs": [
    {
     "data": {
      "image/png": "[encoded data removed]",
      "text/plain": [
       "<Figure size 576x576 with 3 Axes>"
      ]
     },
     "metadata": {
      "needs_background": "light"
     },
     "output_type": "display_data"
    }
   ],
   "source": [
    "x_cut = .5\n",
    "y_cut = 1\n",
    "all_fits = collective_fits[collective_fits.band == 'all']\n",
    "\n",
    "_ = scatter_plot(\n",
    "    x=all_fits.loc['sn91bg'].x1, \n",
    "    y=all_fits.loc['sn91bg'].c, \n",
    "    class_by=collective_class,\n",
    "    x_cutoff=x_cut, \n",
    "    y_cutoff=y_cut\n",
    ")\n"
   ]
  },
  {
   "cell_type": "markdown",
   "metadata": {},
   "source": [
    "## Host Galaxy Properties\n",
    "\n",
    "We start with some book keeping and create dataframes for various subsets of the host galaxy data."
   ]
  },
  {
   "cell_type": "code",
   "execution_count": 24,
   "metadata": {},
   "outputs": [],
   "source": [
    "host_photometry = pd.DataFrame({\n",
    "    'obj_id': sdss_master['CID'],\n",
    "    'host_id': sdss_master['objIDHost'],  # Host galaxy object ID in SDSS DR8 Database \n",
    "    'ra': sdss_master['RAhost'],  # Right ascension of galaxy host (degrees) \n",
    "    'dec': sdss_master['DEChost'],  # Declination of galaxy host (degrees) \n",
    "    'dist': sdss_master['separationhost'], # Distance from SN to host (arcsec) \n",
    "    'distnorm': sdss_master['DLRhost'], # Normalized distance from SN to host (dDLR) \n",
    "    'z_KF': sdss_master['zphothost'], # Host photometric redshift (KF algorithm) \n",
    "    'z_KF_err': sdss_master['zphoterrhost'], # zphothost uncertainty\n",
    "    'z_RF': sdss_master['zphotRFhost'],  # Host photometric redshift (RF algorithm) \n",
    "    'z_RF_err': sdss_master['zphotRFerrhost'],  # zphotRFhost uncertainty \n",
    "    'u_mag': sdss_master['dereduhost'],  # Host galaxy u-band magnitude (dereddened) \n",
    "    'u_mag_err': sdss_master['erruhost'], # Host galaxy u-band magnitude uncertainty \n",
    "    'g_mag': sdss_master['deredghost'],  # Host galaxy g-band magnitude (dereddened)\n",
    "    'g_mag_err': sdss_master['errghost'],  #  Host galaxy g-band magnitude uncertainty \n",
    "    'r_mag': sdss_master['deredrhost'],  # Host galaxy r-band magnitude (dereddened)\n",
    "    'r_mag_err': sdss_master['errrhost'],  #  Host galaxy r-band magnitude uncertainty \n",
    "    'i_mag': sdss_master['deredihost'], # Host galaxy i-band magnitude (dereddened) \n",
    "    'i_mag_err': sdss_master['errihost'], # Host galaxy i-band magnitude uncertainty \n",
    "    'z_mag': sdss_master['deredzhost'], # Host galaxy z-band magnitude (dereddened) \n",
    "    'z_mag_err': sdss_master['errzhost'] # Host galaxy z-band magnitude (dereddened)\n",
    "})\n",
    "host_photometry.set_index('obj_id', inplace=True)\n",
    "    \n",
    "# Galaxy Parameters Calculated with FSPS\n",
    "fsps_params = pd.DataFrame({\n",
    "    'obj_id' : sdss_master['CID'],\n",
    "    'logmass' : sdss_master['logMassFSPS'],  # FSPS log(M), M=Galaxy Mass (M in units of Me)\n",
    "    'logmass_lo' : sdss_master['logMassloFSPS'],  # FSPS Lower limit of uncertainty in log(M)\n",
    "    'logmass_hi' : sdss_master['logMasshiFSPS'],  # FSPS Upper limit of uncertainty in log(M)\n",
    "    'logssfr' : sdss_master['logSSFRFSPS'],  # FSPS log(sSFR) sSFR=Galaxy Specific Star-forming Rate (SFR in Me yr−1)\n",
    "    'logssfr_lo' : sdss_master['logSSFRloFSPS'],  # FSPS Lower limit of uncertainty in log(sSFR)\n",
    "    'logssfr_hi' : sdss_master['logSSFRhiFSPS'],  # FSPS Upper limit of uncertainty in log(sSFR)\n",
    "    'age' : sdss_master['ageFSPS'],  # FSPS galaxy age (Gyr)\n",
    "    'age_lo' : sdss_master['ageloFSPS'],  # FSPS Lower limit of uncertainty in age\n",
    "    'age_hi' : sdss_master['agehiFSPS'],  # FSPS Upper limit of uncertainty in age \n",
    "    'rchisq' : sdss_master['minredchi2FSPS'] # Reduced chi-squared of best FSPS template fit\n",
    "})\n",
    "fsps_params.set_index('obj_id', inplace=True)\n",
    "\n",
    "# Galaxy Parameters Calculated with PÉGASE.2\n",
    "pegase_params = pd.DataFrame({\n",
    "    'obj_id' : sdss_master['CID'],\n",
    "    'logmass' : sdss_master['logMassPEGASE'], # PÉGASE.2 log(M), M=Galaxy Mass (M in units of Me) \n",
    "    'logmass_lo' : sdss_master['logMassloPEGASE'], # PÉGASE.2 Lower limit of uncertainty in log(M)\n",
    "    'logmass_hi' : sdss_master['logMasshiPEGASE'], # PÉGASE.2 Upper limit of uncertainty in log(SFR) \n",
    "    'logssfr' : sdss_master['logSFRPEGASE'], # PÉGASE.2 log(SFR) SFR=Galaxy star-forming rate (Me yr−1)\n",
    "    'logssfr_lo' : sdss_master['logSFRloPEGASE'], # PÉGASE.2 Lower limit of uncertainty in log(SFR)\n",
    "    'logssfr_hi' : sdss_master['logSFRhiPEGASE'], # PÉGASE.2 Upper limit of uncertainty in log(SFR)\n",
    "    'age' : sdss_master['agePEGASE'], # PÉGASE.2 galaxy age (Gyr)\n",
    "    'rchisq' : sdss_master['minchi2PEGASE']# Reduced chi-squared of best PÉGASE.2 fit\n",
    "})\n",
    "pegase_params.set_index('obj_id', inplace=True)\n"
   ]
  },
  {
   "cell_type": "markdown",
   "metadata": {},
   "source": [
    "Next we define a few plotting functions to help simplify our work later on."
   ]
  },
  {
   "cell_type": "code",
   "execution_count": 25,
   "metadata": {},
   "outputs": [],
   "source": [
    "def plot_host_property_distribution(col_name, bg_ids, normal_ids, *data_frames, **kwargs):\n",
    "    \"\"\"Plot histograms of host galaxy properties\n",
    "    \n",
    "    Args:\n",
    "    col_name           (str): The name of the value to plot\n",
    "    bg_ids          (Series): Object Ids of 91bg like SN\n",
    "    normal_ids      (Series): Object Ids of normal SN\n",
    "    *data_frames (DataFrame): Data frames with host galaxy data\n",
    "\n",
    "    Returns:\n",
    "        A matplotlib figure\n",
    "        An array of matplotlib axes\n",
    "    \"\"\"\n",
    "    \n",
    "    fig, axes = plt.subplots(1, len(data_frames), sharex=True, sharey=True)\n",
    "    if len(data_frames) == 1:\n",
    "        axes = np.array([axes])\n",
    "    \n",
    "    for df, axis in zip(data_frames, axes.flatten()):\n",
    "        \n",
    "        plot_data = df[col_name]\n",
    "        bg_data = plot_data.reindex(bg_ids).dropna()\n",
    "        normal_data = plot_data.reindex(normal_ids).dropna()\n",
    "        \n",
    "        aks = stats.anderson_ksamp([normal_data, bg_data])\n",
    "        sig_level = aks.significance_level\n",
    "        \n",
    "        _, bins, _ = axis.hist(\n",
    "            normal_data,\n",
    "            density=True,\n",
    "            label=f'Normal ({len(normal_data)})', \n",
    "            **kwargs\n",
    "        )\n",
    "        \n",
    "        axis.hist(bg_data, \n",
    "                  fill=False, \n",
    "                  hatch='///', \n",
    "                  density=True, \n",
    "                  histtype='step', \n",
    "                  label=f'91bg ({len(bg_data)})',\n",
    "                  bins=bins\n",
    "                 )\n",
    "        \n",
    "        title = r'(p $\\geq$ 0.25)' if sig_level == 0.25 else f'(p = {sig_level:.2})'\n",
    "        axis.set_title(title)\n",
    "\n",
    "    axes[-1].legend()\n",
    "    plt.tight_layout()\n",
    "    return fig, axes\n",
    "        "
   ]
  },
  {
   "cell_type": "code",
   "execution_count": 26,
   "metadata": {
    "scrolled": false
   },
   "outputs": [
    {
     "name": "stderr",
     "output_type": "stream",
     "text": [
      "/anaconda3/envs/phot_class/lib/python3.7/site-packages/ipykernel_launcher.py:25: UserWarning: p-value capped: true value larger than 0.25\n"
     ]
    },
    {
     "data": {
      "image/png": "[encoded data removed]",
      "text/plain": [
       "<Figure size 432x288 with 2 Axes>"
      ]
     },
     "metadata": {
      "needs_background": "light"
     },
     "output_type": "display_data"
    }
   ],
   "source": [
    "bg_like = collective_class[(collective_class.x > x_cut) & (collective_class.y > y_cut)].index\n",
    "normal = collective_class[(collective_class.x < x_cut) & (collective_class.y < y_cut)].index\n",
    "\n",
    "fig, axes = plot_host_property_distribution('logmass', bg_like, normal, fsps_params, pegase_params) \n",
    "\n",
    "axes[0].set_ylabel('Number of Targets')\n",
    "axes[0].set_title('FSPS ' + axes[0].get_title())\n",
    "axes[1].set_title('PEGASE ' + axes[1].get_title())\n",
    "for axis in axes:\n",
    "    axis.set_xlabel(r'$\\log(\\text{M}_\\odot)$')\n",
    "    \n",
    "plt.savefig(fig_dir / 'collective_fits_mass.pdf', bbox_inches='tight')\n",
    "plt.show()\n"
   ]
  },
  {
   "cell_type": "code",
   "execution_count": 27,
   "metadata": {},
   "outputs": [
    {
     "data": {
      "image/png": "[encoded data removed]",
      "text/plain": [
       "<Figure size 432x288 with 1 Axes>"
      ]
     },
     "metadata": {
      "needs_background": "light"
     },
     "output_type": "display_data"
    }
   ],
   "source": [
    "ssfr_data = pegase_params[pegase_params.logssfr > 0]\n",
    "fig, axes = plot_host_property_distribution('logssfr', bg_like, normal, ssfr_data) \n",
    "\n",
    "axes[0].set_xlabel('SSFR')\n",
    "axes[0].set_ylabel('Number of Targets')\n",
    "\n",
    "plt.savefig(fig_dir / 'collective_fits_ssfr.pdf', bbox_inches='tight')\n",
    "plt.show()\n"
   ]
  },
  {
   "cell_type": "code",
   "execution_count": 28,
   "metadata": {},
   "outputs": [
    {
     "name": "stderr",
     "output_type": "stream",
     "text": [
      "/anaconda3/envs/phot_class/lib/python3.7/site-packages/ipykernel_launcher.py:25: UserWarning: p-value floored: true value smaller than 0.001\n"
     ]
    },
    {
     "data": {
      "image/png": "[encoded data removed]",
      "text/plain": [
       "<Figure size 432x288 with 1 Axes>"
      ]
     },
     "metadata": {
      "needs_background": "light"
     },
     "output_type": "display_data"
    }
   ],
   "source": [
    "ssfr_data = pegase_params[pegase_params.logssfr > 0]\n",
    "fig, axes = plot_host_property_distribution('dist', bg_like, normal, host_photometry) \n",
    "\n",
    "axes[0].set_xlabel('Distance to Host Center')\n",
    "axes[0].set_ylabel('Number of Targets')\n",
    "\n",
    "plt.savefig(fig_dir / 'collective_fits_distance.pdf', bbox_inches='tight')\n",
    "plt.show()\n"
   ]
  },
  {
   "cell_type": "code",
   "execution_count": 37,
   "metadata": {},
   "outputs": [],
   "source": [
    "from mpl_toolkits.axes_grid1 import make_axes_locatable\n",
    "\n",
    "def plot_pvalue(class_df, data, max_x=3.5, max_y=3.5, x_cutoff=0, y_cutoff=0, size=30):\n",
    "    \n",
    "    sig_arr = np.zeros((size, size))\n",
    "    count_arr = np.zeros((size, size))\n",
    "    x_arr = np.linspace(0, max_x, sig_arr.shape[0])\n",
    "    y_arr = np.linspace(0, max_y, sig_arr.shape[1])\n",
    "    \n",
    "    dx = (x_arr[1] - x_arr[0]) / 2\n",
    "    dy = (y_arr[1] - y_arr[0]) / 2\n",
    "    extent = [x_arr[0] - dx, x_arr[-1] + dx, y_arr[0] - dy, y_arr[-1] + dy]\n",
    "\n",
    "    for i, xcut in enumerate(x_arr):\n",
    "        for j, ycut in enumerate(y_arr):\n",
    "            test_bg = class_df[(class_df.x > xcut) & (class_df.y > ycut)].index\n",
    "            test_normal = class_df[(class_df.x < xcut) & (class_df.y < ycut)].index\n",
    "            test_bg_data = data.reindex(test_bg).dropna()\n",
    "            test_normal_data = data.reindex(test_normal).dropna()\n",
    "            sig = stats.anderson_ksamp([test_normal_data, test_bg_data]).significance_level\n",
    "            sig_arr[i, j] = sig\n",
    "            count_arr[i, j] = len(test_bg_data)\n",
    "    \n",
    "    fig, axes = plt.subplots(2, 1, sharex=True, sharey=True, figsize=(7 / 2, 7))\n",
    "    for axis, plot_data in zip(axes, (count_arr, sig_arr)):\n",
    "        divider = make_axes_locatable(axis)\n",
    "        cax = divider.append_axes('right', size='5%', pad=0.05)\n",
    "        im = axis.imshow(plot_data, extent=extent, origin='lower')\n",
    "        fig.colorbar(im, cax=cax, orientation='vertical')\n",
    "        axis.axvline(x_cutoff, linestyle='--', alpha=.8, colors='red')\n",
    "        axis.axhline(y_cutoff, linestyle='--', alpha=.8, colors='red')\n",
    "\n",
    "    axes[0].set_ylabel('y Cutoff', fontsize=12)\n",
    "    axes[0].set_title('Number of 91bg points', fontsize=12)\n",
    "    # axes[0].contour(x_arr, y_arr, count_arr, levels=np.arange(0, 50, 10), colors='red')\n",
    "    \n",
    "    axes[1].set_xlabel('x Cutoff', fontsize=12)\n",
    "    axes[1].set_ylabel('y Cutoff', fontsize=12)\n",
    "    axes[1].set_title(r'\\textit{p}-Value')\n",
    "    # axes[1].contour(x_arr, y_arr, sig_arr, levels=[0.05], colors='red')\n",
    "    \n",
    "    return fig, axes\n"
   ]
  },
  {
   "cell_type": "code",
   "execution_count": 35,
   "metadata": {
    "scrolled": false
   },
   "outputs": [
    {
     "name": "stderr",
     "output_type": "stream",
     "text": [
      "/anaconda3/envs/phot_class/lib/python3.7/site-packages/ipykernel_launcher.py:20: UserWarning: p-value capped: true value larger than 0.25\n"
     ]
    },
    {
     "data": {
      "image/png": "[encoded data removed]",
      "text/plain": [
       "<Figure size 252x504 with 4 Axes>"
      ]
     },
     "metadata": {
      "needs_background": "light"
     },
     "output_type": "display_data"
    },
    {
     "data": {
      "image/png": "[encoded data removed]",
      "text/plain": [
       "<Figure size 252x504 with 4 Axes>"
      ]
     },
     "metadata": {
      "needs_background": "light"
     },
     "output_type": "display_data"
    },
    {
     "data": {
      "image/png": "[encoded data removed]",
      "text/plain": [
       "<Figure size 252x504 with 4 Axes>"
      ]
     },
     "metadata": {
      "needs_background": "light"
     },
     "output_type": "display_data"
    },
    {
     "name": "stderr",
     "output_type": "stream",
     "text": [
      "/anaconda3/envs/phot_class/lib/python3.7/site-packages/ipykernel_launcher.py:20: UserWarning: p-value floored: true value smaller than 0.001\n"
     ]
    },
    {
     "data": {
      "image/png": "[encoded data removed]",
      "text/plain": [
       "<Figure size 252x504 with 4 Axes>"
      ]
     },
     "metadata": {
      "needs_background": "light"
     },
     "output_type": "display_data"
    }
   ],
   "source": [
    "plot_pvalue(collective_class, fsps_params.logmass) \n",
    "plt.tight_layout()\n",
    "plt.savefig(fig_dir / 'fsps_mass_pvalue.pdf', bbox_inches='tight')\n",
    "plt.show()\n",
    "\n",
    "plot_pvalue(collective_class, pegase_params.logmass) \n",
    "plt.savefig(fig_dir / 'pegase_mass_pvalue.pdf', bbox_inches='tight')\n",
    "plt.show()\n",
    "\n",
    "plot_pvalue(collective_class, ssfr_data.logssfr) \n",
    "plt.savefig(fig_dir / 'ssfr_pvalue.pdf', bbox_inches='tight')\n",
    "plt.show()\n",
    "\n",
    "plot_pvalue(collective_class, host_photometry.dist) \n",
    "plt.savefig(fig_dir / 'dist_pvalue.pdf', bbox_inches='tight')\n",
    "plt.show()\n"
   ]
  },
  {
   "cell_type": "code",
   "execution_count": null,
   "metadata": {},
   "outputs": [],
   "source": []
  }
 ],
 "metadata": {
  "kernelspec": {
   "display_name": "Python [conda env:phot_class] *",
   "language": "python",
   "name": "conda-env-phot_class-py"
  },
  "language_info": {
   "codemirror_mode": {
    "name": "ipython",
    "version": 3
   },
   "file_extension": ".py",
   "mimetype": "text/x-python",
   "name": "python",
   "nbconvert_exporter": "python",
   "pygments_lexer": "ipython3",
   "version": "3.7.4"
  }
 },
 "nbformat": 4,
 "nbformat_minor": 2
}
