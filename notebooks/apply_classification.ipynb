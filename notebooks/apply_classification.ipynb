{
 "cells": [
  {
   "cell_type": "markdown",
   "metadata": {},
   "source": [
    "# Apply Photometric Classification To Fit Results\n",
    "\n",
    "This notebook applies the photometric classification method from González-Gaitán et al. 2014 to SDSS light-curve fit results."
   ]
  },
  {
   "cell_type": "code",
   "execution_count": null,
   "metadata": {},
   "outputs": [],
   "source": [
    "import sys\n",
    "from pathlib import Path\n",
    "\n",
    "import numpy as np\n",
    "import pandas as pd\n",
    "from astropy.table import Table\n",
    "from bokeh.plotting import figure, output_notebook, show\n",
    "from matplotlib import pyplot as plt\n",
    "from scipy import optimize\n",
    "from sklearn.utils import resample\n",
    "from sndata.csp import dr1\n",
    "from sndata.sdss import sako18\n",
    "\n",
    "sys.path.insert(0, '..')\n",
    "from phot_class import fom\n",
    "\n",
    "output_notebook()\n",
    "dr1.download_module_data()\n",
    "\n",
    "# Output directory for figures\n",
    "fig_dir = Path('./notebook_figs/classification')\n",
    "fig_dir.mkdir(exist_ok=True, parents=True)\n"
   ]
  },
  {
   "cell_type": "markdown",
   "metadata": {},
   "source": [
    "## Load Data\n",
    "\n",
    "We read in the SDSS classificaions for supernovae and join these with our own photometric classification parameters. We create seperate tables for the band-by-band and collective fit results."
   ]
  },
  {
   "cell_type": "code",
   "execution_count": null,
   "metadata": {
    "scrolled": false
   },
   "outputs": [],
   "source": [
    "# Read in sdss classifications\n",
    "sdss_master = sako18.load_table('master')\n",
    "sako_classification = pd.DataFrame({\n",
    "    'obj_id': sdss_master['CID'],\n",
    "    'spec_class': sdss_master['Classification']\n",
    "})\n",
    "sako_classification.set_index('obj_id', inplace=True)\n"
   ]
  },
  {
   "cell_type": "code",
   "execution_count": null,
   "metadata": {},
   "outputs": [],
   "source": [
    "def read_classification_data(path, sdss_classifications):\n",
    "    # Read in our own classification data\n",
    "    class_data = Table.read(path).to_pandas(index='obj_id')\n",
    "    class_data['survey'] = 'SDSS'\n",
    "    class_data['spec_class'] = 'Unspecified'\n",
    "\n",
    "    # Update our table with sdss classifications\n",
    "    class_data.update(sdss_classifications)\n",
    "    return class_data\n"
   ]
  },
  {
   "cell_type": "code",
   "execution_count": null,
   "metadata": {},
   "outputs": [],
   "source": [
    "band_path = '../results/band_fits/with_ext/sdss_sako18_simple_fit_class.ecsv'\n",
    "band_class = read_classification_data(band_path, sako_classification)\n",
    "\n",
    "collective_path = '../results/collective_fits/with_ext/sdss_sako18_simple_fit_class.ecsv'\n",
    "collective_class = read_classification_data(collective_path, sako_classification)\n",
    "collective_class.head()\n"
   ]
  },
  {
   "cell_type": "markdown",
   "metadata": {},
   "source": [
    "We also read in the actual fit results."
   ]
  },
  {
   "cell_type": "code",
   "execution_count": null,
   "metadata": {},
   "outputs": [],
   "source": [
    "def read_fits_data(path):\n",
    "    fits_data = Table.read(path).to_pandas()\n",
    "    return fits_data.set_index(['source', 'obj_id'])\n"
   ]
  },
  {
   "cell_type": "code",
   "execution_count": null,
   "metadata": {},
   "outputs": [],
   "source": [
    "band_fits_path = '../results/band_fits/with_ext/sdss_sako18_simple_fit_fits.ecsv'\n",
    "band_fits = read_fits_data(band_fits_path)\n",
    "band_fits['band'] = [str(b)[-2] if b != 'all' else b for b in band_fits.band]\n",
    "\n",
    "collective_fits_path = '../results/collective_fits/with_ext/sdss_sako18_simple_fit_fits.ecsv'\n",
    "collective_fits = read_fits_data(collective_fits_path)\n",
    "collective_fits.head(6)\n"
   ]
  },
  {
   "cell_type": "markdown",
   "metadata": {},
   "source": [
    "## Exploration of Failed Fits\n",
    "\n",
    "We perform a cursory investigation of any fits that have failed to converge. To start, we note the unique error messages raised in the band and collective fit results."
   ]
  },
  {
   "cell_type": "code",
   "execution_count": null,
   "metadata": {},
   "outputs": [],
   "source": [
    "def get_failed_fits(fits_df):\n",
    "    failed_fits = fits_df['message'].str.lower().str.contains('failed')\n",
    "    return fits_df[failed_fits]\n",
    "    "
   ]
  },
  {
   "cell_type": "code",
   "execution_count": null,
   "metadata": {},
   "outputs": [],
   "source": [
    "print('Band fit error messages:\\n')\n",
    "print(get_failed_fits(band_fits).message.unique())\n",
    "\n",
    "print('\\nCollective fit error messages:\\n')\n",
    "print(get_failed_fits(collective_fits).message.unique())\n"
   ]
  },
  {
   "cell_type": "markdown",
   "metadata": {},
   "source": [
    "The SNR error is not concerning so long as there are an equal number of occurences between the band and collective fits."
   ]
  },
  {
   "cell_type": "code",
   "execution_count": null,
   "metadata": {},
   "outputs": [],
   "source": [
    "snr_err_msg = 'No data points with S/N > 5.0. Initial guessing failed.'\n",
    "band_snr_indices = band_fits.message == snr_err_msg\n",
    "collective_snr_indices = collective_fits.message == snr_err_msg\n",
    "equal_errors = sum(band_snr_indices) == sum(collective_snr_indices)\n",
    "\n",
    "print('Equal Number of SNR errors:', equal_errors)\n"
   ]
  },
  {
   "cell_type": "markdown",
   "metadata": {},
   "source": [
    "We drop the SNR errors for now and look at the distribution of the remaining errors across bands and models."
   ]
  },
  {
   "cell_type": "code",
   "execution_count": null,
   "metadata": {},
   "outputs": [],
   "source": [
    "goodsnr_band_fits = band_fits[band_fits.message != snr_err_msg]\n",
    "goodsnr_collective_fits = collective_fits[collective_fits.message != snr_err_msg]\n"
   ]
  },
  {
   "cell_type": "code",
   "execution_count": null,
   "metadata": {},
   "outputs": [],
   "source": [
    "band_failed_nosnr = get_failed_fits(goodsnr_band_fits)\n",
    "\n",
    "print('Band by band error distribution.\\n')\n",
    "print('By fitted band (set):')\n",
    "print(band_failed_nosnr.band.str[-2].value_counts())\n",
    "\n",
    "print('\\nNumber of failed fits per source:')\n",
    "print(band_failed_nosnr.droplevel(1).index.value_counts())\n",
    "\n",
    "print('\\nNumber of failed fits per object:')\n",
    "band_failed_nosnr.index.value_counts().hist()\n",
    "plt.show()\n"
   ]
  },
  {
   "cell_type": "code",
   "execution_count": null,
   "metadata": {},
   "outputs": [],
   "source": [
    "collective_failed_nosnr = get_failed_fits(goodsnr_collective_fits)\n",
    "\n",
    "print('Band by band error distribution.\\n')\n",
    "print('By fitted band (set):')\n",
    "print(collective_failed_nosnr.band.value_counts())\n",
    "\n",
    "print('\\nNumber of failed fits per source:')\n",
    "print(collective_failed_nosnr.droplevel(1).index.value_counts())\n",
    "\n",
    "print('\\nNumber of failed fits per object:')\n",
    "collective_failed_nosnr.index.value_counts().hist()\n",
    "plt.show()\n"
   ]
  },
  {
   "cell_type": "markdown",
   "metadata": {},
   "source": [
    "## Classification\n",
    "\n",
    "We apply the classification to the fitted light curves."
   ]
  },
  {
   "cell_type": "code",
   "execution_count": null,
   "metadata": {},
   "outputs": [],
   "source": [
    "def create_border_hist(axis, padding=0):\n",
    "    \"\"\"Create axes for plotting border histograms\n",
    "    \n",
    "    Args:\n",
    "        axis     (Axis): The matplotlib axis to border\n",
    "        padding (float): Spacing between the main and bordering axes\n",
    "        \n",
    "    Returns:\n",
    "        Axis for the upper histogram\n",
    "        Axis for the right side histogram\n",
    "    \"\"\"\n",
    "\n",
    "    axis_pos = axis.get_position()\n",
    "    axis_width = axis_pos.x1 - axis_pos.x0\n",
    "    axis_height = axis_pos.y1 - axis_pos.y0\n",
    "\n",
    "    histx_pos = axis.get_position()\n",
    "    histx_pos.y0 += axis_height + padding\n",
    "    histx_pos.y1 = histx_pos.y0 + .35 * axis_height + padding\n",
    "    histx = plt.axes(histx_pos)\n",
    "    histx.set_xlim(axis.get_xlim())\n",
    "    histx.tick_params(direction='in', labelbottom=False)\n",
    "\n",
    "    histy_pos = axis.get_position()\n",
    "    histy_pos.x0 += axis_width + padding / 2\n",
    "    histy_pos.x1 = histy_pos.x0 + .35 * axis_width + padding / 2\n",
    "    histy = plt.axes(histy_pos)\n",
    "    histy.set_ylim(axis.get_ylim())\n",
    "    histy.tick_params(direction='in', labelleft=False)\n",
    "\n",
    "    return histx, histy\n",
    "\n",
    "\n",
    "def plot_classification(band_class, collective_class, fits_df, border_bins, padding):\n",
    "    \"\"\"Plot classification results\n",
    "    \n",
    "    Args:\n",
    "        band_class       (DataFrame): Classification results from band fitting\n",
    "        collective_class (DataFrame): Classification results from collective fitting\n",
    "        fits_df          (DataFrame): DataFrame of fit results\n",
    "        border_bins        (ndarray): Bins for histogram\n",
    "        padding              (float): Spacing between the main and bordering axes\n",
    "    \"\"\"\n",
    "    \n",
    "    fig, axes = plt.subplots(1, 3, figsize=(15, 5))\n",
    "\n",
    "    # Plot histogram of overall chi-squared values\n",
    "    fits_hsiao = fits_df.loc['hsiao_x1']\n",
    "    fits_hsiao = fits_hsiao[fits_hsiao.band == 'all']\n",
    "    fits_sn91bg = fits_df.loc['sn91bg']\n",
    "    fits_sn91bg = fits_sn91bg[fits_sn91bg.band == 'all']\n",
    "    delta_chi = (fits_hsiao.chisq / fits_hsiao.ndof) - (fits_sn91bg.chisq / fits_sn91bg.ndof)\n",
    "\n",
    "    chi_lt0 = delta_chi[delta_chi < 0]\n",
    "    chi_gt0 = delta_chi[delta_chi > 0]\n",
    "\n",
    "    bins = np.arange(-25, 25)\n",
    "    axes[0].hist(chi_lt0, bins=bins, label=r'$\\Delta \\chi^2 < 0$ ({})'.format(len(chi_lt0)))\n",
    "    axes[0].hist(chi_gt0, bins=bins, label=r'$\\Delta \\chi^2 > 0$ ({})'.format(len(chi_gt0)))\n",
    "    axes[0].axvline(0, color='black', linestyle='--')\n",
    "    axes[0].set_xlim(-10, 10)\n",
    "    axes[0].set_title(r'$\\Delta \\chi^2$ (Hsiao - SN91bg)')\n",
    "    axes[0].legend()\n",
    "\n",
    "    # Plot collective fit results\n",
    "    coll_class_lt = collective_class.loc[chi_lt0.index]\n",
    "    coll_class_gt = collective_class.loc[chi_gt0.index]\n",
    "    axes[1].scatter(coll_class_lt.x, coll_class_lt.y, s=10)\n",
    "    axes[1].scatter(coll_class_gt.x, coll_class_gt.y, s=10)\n",
    "    axes[1].axvline(0, color='grey', linestyle='--')\n",
    "    axes[1].axhline(0, color='grey', linestyle='--')\n",
    "    axes[1].set_xlim(-75, 75)\n",
    "    axes[1].set_ylim(-50, 50)\n",
    "\n",
    "    collective_histx, collective_histy = create_border_hist(axes[1], padding)\n",
    "    collective_histx.hist([coll_class_lt.x , coll_class_gt.x], bins=border_bins, stacked=True)\n",
    "    collective_histy.hist([coll_class_lt.y , coll_class_gt.y], bins=border_bins, stacked=True, orientation='horizontal')    \n",
    "    collective_histx.set_xlim(axes[1].get_xlim())\n",
    "    collective_histy.set_ylim(axes[1].get_ylim())\n",
    "    collective_histy.set_title('Collective Fitting')\n",
    "\n",
    "    # Plot band-by-band fit results\n",
    "    ax2_pos = axes[2].get_position()\n",
    "    width = ax2_pos.x1 - ax2_pos.x0\n",
    "    ax2_pos.x0 += .4 * width\n",
    "    ax2_pos.x1 += .4 * width\n",
    "    axes[2].set_position(ax2_pos)\n",
    "\n",
    "    band_class_lt = band_class.loc[chi_lt0.index]\n",
    "    band_class_gt = band_class.loc[chi_gt0.index]\n",
    "    axes[2].scatter(band_class_lt.x, band_class_lt.y, s=10)\n",
    "    axes[2].scatter(band_class_gt.x, band_class_gt.y, s=10)\n",
    "    axes[2].axvline(0, color='grey', linestyle='--')\n",
    "    axes[2].axhline(0, color='grey', linestyle='--')\n",
    "    axes[2].set_xlim(-75, 75)\n",
    "    axes[2].set_ylim(-50, 50)\n",
    "\n",
    "    band_histx, band_histy = create_border_hist(axes[2], padding)\n",
    "    band_histx.hist([band_class_lt.x , band_class_gt.x], bins=border_bins, stacked=True)\n",
    "    band_histy.hist([band_class_lt.y , band_class_gt.y], bins=border_bins, stacked=True, orientation='horizontal')\n",
    "    band_histx.set_xlim(axes[2].get_xlim())\n",
    "    band_histy.set_ylim(axes[2].get_ylim())\n",
    "    band_histy.set_title('Band Fitting')\n"
   ]
  },
  {
   "cell_type": "code",
   "execution_count": null,
   "metadata": {},
   "outputs": [],
   "source": [
    "plt.tight_layout()\n",
    "plot_classification(band_class, collective_class, band_fits, np.arange(-100, 100, 5), .02)\n",
    "plt.savefig(fig_dir / 'classification.pdf')\n"
   ]
  },
  {
   "cell_type": "markdown",
   "metadata": {},
   "source": [
    "## Intrinsic Properties\n",
    "\n",
    "We consider the distribution of fit parameters."
   ]
  },
  {
   "cell_type": "code",
   "execution_count": null,
   "metadata": {},
   "outputs": [],
   "source": [
    "for source in ('hsiao_x1', 'sn91bg'):\n",
    "    for df, fit_type in zip((band_fits.loc[source], collective_fits.loc[source]), ('Band', 'Collective')):\n",
    "        labels, data = np.transpose([[band, band_data.x1] for band, band_data in df.groupby('band')])\n",
    "        plt.hist(data, stacked=True, label=labels)\n",
    "        plt.title(f'x1 Distribution ({source} - {fit_type} Fits)')\n",
    "        plt.legend()\n",
    "        \n",
    "        plt.savefig(fig_dir / f'x1_distribution_{source}_{fit_type}_fits.pdf'.lower())\n",
    "        plt.show()\n",
    "    "
   ]
  },
  {
   "cell_type": "code",
   "execution_count": null,
   "metadata": {},
   "outputs": [],
   "source": [
    "for df, fit_type in zip((band_fits.loc['sn91bg'], collective_fits.loc['sn91bg']), ('Band', 'Collective')):\n",
    "    labels, data = np.transpose([[band, band_data.c] for band, band_data in df.groupby('band')])\n",
    "    plt.hist(data, stacked=True, label=labels)\n",
    "    plt.title(f'c Distribution (SN91bg - {fit_type} Fits)')\n",
    "    plt.legend()\n",
    "    \n",
    "    plt.savefig(fig_dir / f'c_distribution_sn91bg_{fit_type}_fits.pdf'.lower())\n",
    "    plt.show()\n"
   ]
  },
  {
   "cell_type": "code",
   "execution_count": null,
   "metadata": {},
   "outputs": [],
   "source": [
    "band_fits_all = band_fits[band_fits.band == 'all']\n",
    "collective_fits_all = collective_fits[collective_fits.band == 'all']\n",
    "\n",
    "fig, axis = plt.subplots(1, 1, figsize=(8, 8))\n",
    "histx, histy = create_border_hist(axis)\n",
    "\n",
    "axis.scatter(band_fits_all.loc['sn91bg'].x1, band_fits_all.loc['sn91bg'].c)\n",
    "histx.hist(band_fits_all.loc['sn91bg'].x1)\n",
    "histy.hist(band_fits_all.loc['sn91bg'].c, orientation='horizontal')   \n",
    "\n",
    "axis.set_xlabel('Stretch (x1)')\n",
    "axis.set_ylabel('Color (c)')\n"
   ]
  },
  {
   "cell_type": "code",
   "execution_count": null,
   "metadata": {},
   "outputs": [],
   "source": [
    "plt.scatter(band_fits_all.loc['sn91bg'].x1, band_fits_all.loc['hsiao_x1'].x1)\n",
    "plt.xlabel('SN91bg Stretch (x1)')\n",
    "plt.ylabel('Hsiao Stretch (x1)')"
   ]
  },
  {
   "cell_type": "markdown",
   "metadata": {},
   "source": [
    "## Host Galaxy Properties\n",
    "\n",
    "We start with some book keeping, and create dataframes for various subsets of the host galaxy data."
   ]
  },
  {
   "cell_type": "code",
   "execution_count": null,
   "metadata": {},
   "outputs": [],
   "source": [
    "host_photometry = pd.DataFrame({\n",
    "    'obj_id': sdss_master['CID'],\n",
    "    'host_id': sdss_master['objIDHost'],  # Host galaxy object ID in SDSS DR8 Database \n",
    "    'ra': sdss_master['RAhost'],  # Right ascension of galaxy host (degrees) \n",
    "    'dec': sdss_master['DEChost'],  # Declination of galaxy host (degrees) \n",
    "    'dist': sdss_master['separationhost'], # Distance from SN to host (arcsec) \n",
    "    'distnorm': sdss_master['DLRhost'], # Normalized distance from SN to host (dDLR) \n",
    "    'z_KF': sdss_master['zphothost'], # Host photometric redshift (KF algorithm) \n",
    "    'z_KF_err': sdss_master['zphoterrhost'], # zphothost uncertainty\n",
    "    'z_RF': sdss_master['zphotRFhost'],  # Host photometric redshift (RF algorithm) \n",
    "    'z_RF_err': sdss_master['zphotRFerrhost'],  # zphotRFhost uncertainty \n",
    "    'u_mag': sdss_master['dereduhost'],  # Host galaxy u-band magnitude (dereddened) \n",
    "    'u_mag_err': sdss_master['erruhost'], # Host galaxy u-band magnitude uncertainty \n",
    "    'g_mag': sdss_master['deredghost'],  # Host galaxy g-band magnitude (dereddened)\n",
    "    'g_mag_err': sdss_master['errghost'],  #  Host galaxy g-band magnitude uncertainty \n",
    "    'r_mag': sdss_master['deredrhost'],  # Host galaxy r-band magnitude (dereddened)\n",
    "    'r_mag_err': sdss_master['errrhost'],  #  Host galaxy r-band magnitude uncertainty \n",
    "    'i_mag': sdss_master['deredihost'], # Host galaxy i-band magnitude (dereddened) \n",
    "    'i_mag_err': sdss_master['errihost'], # Host galaxy i-band magnitude uncertainty \n",
    "    'z_mag': sdss_master['deredzhost'], # Host galaxy z-band magnitude (dereddened) \n",
    "    'z_mag_err': sdss_master['errzhost'] # Host galaxy z-band magnitude (dereddened)\n",
    "})\n",
    "host_photometry.set_index('obj_id', inplace=True)\n",
    "    \n",
    "# Galaxy Parameters Calculated with FPPS\n",
    "fpps_params = pd.DataFrame({\n",
    "    'obj_id' : sdss_master['CID'],\n",
    "    'logmass' : sdss_master['logMassFSPS'],  # FSPS log(M), M=Galaxy Mass (M in units of Me)\n",
    "    'logmass_lo' : sdss_master['logMassloFSPS'],  # FSPS Lower limit of uncertainty in log(M)\n",
    "    'logmass_hi' : sdss_master['logMasshiFSPS'],  # FSPS Upper limit of uncertainty in log(M)\n",
    "    'logssfr' : sdss_master['logSSFRFSPS'],  # FSPS log(sSFR) sSFR=Galaxy Specific Star-forming Rate (SFR in Me yr−1)\n",
    "    'logssfr_lo' : sdss_master['logSSFRloFSPS'],  # FSPS Lower limit of uncertainty in log(sSFR)\n",
    "    'logssfr_hi' : sdss_master['logSSFRhiFSPS'],  # FSPS Upper limit of uncertainty in log(sSFR)\n",
    "    'age' : sdss_master['ageFSPS'],  # FSPS galaxy age (Gyr)\n",
    "    'age_lo' : sdss_master['ageloFSPS'],  # FSPS Lower limit of uncertainty in age\n",
    "    'age_hi' : sdss_master['agehiFSPS'],  # FSPS Upper limit of uncertainty in age \n",
    "    'rchisq' : sdss_master['minredchi2FSPS'] # Reduced chi-squared of best FSPS template fit\n",
    "})\n",
    "fpps_params.set_index('obj_id', inplace=True)\n",
    "\n",
    "# Galaxy Parameters Calculated with PÉGASE.2\n",
    "pegase_params = pd.DataFrame({\n",
    "    'obj_id' : sdss_master['CID'],\n",
    "    'logmass' : sdss_master['logMassPEGASE'], # PÉGASE.2 log(M), M=Galaxy Mass (M in units of Me) \n",
    "    'logmass_lo' : sdss_master['logMassloPEGASE'], # PÉGASE.2 Lower limit of uncertainty in log(M)\n",
    "    'logmass_hi' : sdss_master['logMasshiPEGASE'], # PÉGASE.2 Upper limit of uncertainty in log(SFR) \n",
    "    'logssfr' : sdss_master['logSFRPEGASE'], # PÉGASE.2 log(SFR) SFR=Galaxy star-forming rate (Me yr−1)\n",
    "    'logssfr_lo' : sdss_master['logSFRloPEGASE'], # PÉGASE.2 Lower limit of uncertainty in log(SFR)\n",
    "    'logssfr_hi' : sdss_master['logSFRhiPEGASE'], # PÉGASE.2 Upper limit of uncertainty in log(SFR)\n",
    "    'age' : sdss_master['agePEGASE'], # PÉGASE.2 galaxy age (Gyr)\n",
    "    'rchisq' : sdss_master['minchi2PEGASE']# Reduced chi-squared of best PÉGASE.2 fit\n",
    "})\n",
    "pegase_params.set_index('obj_id', inplace=True)\n"
   ]
  },
  {
   "cell_type": "markdown",
   "metadata": {},
   "source": [
    "Next we define a few plotting functions to help simplify our work later on."
   ]
  },
  {
   "cell_type": "code",
   "execution_count": null,
   "metadata": {},
   "outputs": [],
   "source": [
    "def plot_host_property_distribution(col_name, bg_ids, normal_ids, *data_frames, **kwargs):\n",
    "    \"\"\"Plot histograms of host galaxy properties\n",
    "    \n",
    "    Args:\n",
    "    col_name     (str): The name of the value to plot\n",
    "    bg_ids     (Series): Object Ids of 91bg like SN\n",
    "    normal_ids (Series): Object Ids of normal SN\n",
    "    *data_frames (DataFrame): Data frames with host galaxy data\n",
    "\n",
    "    Returns:\n",
    "        A matplotlib figure\n",
    "        An array of matplotlib axes\n",
    "    \"\"\"\n",
    "    \n",
    "    fig, axes = plt.subplots(1, len(data_frames), sharex=True, sharey=True)\n",
    "    if len(data_frames) == 1:\n",
    "        axes = np.array([axes])\n",
    "    \n",
    "    for df, axis in zip(data_frames, axes.flatten()):\n",
    "        plot_data = df[col_name][df[col_name] > 0]\n",
    "        bg_data = plot_data.reindex(bg_ids).dropna()\n",
    "        normal_data = plot_data.reindex(normal_ids).dropna()\n",
    "        \n",
    "        axis.hist(normal_data, label=f'Normal ({len(normal_data)})', density=True, **kwargs)\n",
    "        axis.hist(bg_data, fill=False, \n",
    "                  hatch='///', density=True, \n",
    "                  histtype='step', label=f'91bg ({len(bg_data)})',\n",
    "                  **kwargs)\n",
    "\n",
    "    axes[-1].legend()\n",
    "    plt.tight_layout()\n",
    "    return fig, axes\n",
    "        "
   ]
  },
  {
   "cell_type": "code",
   "execution_count": null,
   "metadata": {},
   "outputs": [],
   "source": [
    "for df, title in zip((band_class, collective_class), ('Band Fits', 'Collective Fits')):\n",
    "    bg_like = df[(df.x > 0) & (df.y > 0)].index\n",
    "    normal = df[(df.x < 0) & (df.y < 0)].index\n",
    "\n",
    "    fig, axes = plot_host_property_distribution('logmass', bg_like, normal, fpps_params, pegase_params) \n",
    "    axes[0].set_title(f'FPPS ({title})')\n",
    "    axes[1].set_title(f'PEGASE ({title})')\n",
    "    for axis in axes:\n",
    "        axis.set_xlabel(r'$\\log(M)$')\n",
    "\n",
    "    file_name = '_'.join(title.split()).lower() + '_mass.pdf'\n",
    "    plt.tight_layout()\n",
    "    plt.savefig(fig_dir / file_name)\n",
    "    plt.show()\n"
   ]
  },
  {
   "cell_type": "code",
   "execution_count": null,
   "metadata": {},
   "outputs": [],
   "source": [
    "for df, title in zip((band_class, collective_class), ('Band Fits', 'Collective Fits')):\n",
    "    bg_like = df[(df.x > 0) & (df.y > 0)].index\n",
    "    normal = df[(df.x < 0) & (df.y < 0)].index\n",
    "\n",
    "    fig, axes = plot_host_property_distribution('logssfr', bg_like, normal, pegase_params) \n",
    "    axes[0].set_title(f'PEGASE ({title})')\n",
    "    for axis in axes:\n",
    "        axis.set_xlabel(r'$\\log(SSFR)$')\n",
    "    \n",
    "    file_name = '_'.join(title.split()).lower() + '_ssfr.pdf'\n",
    "    plt.tight_layout()\n",
    "    plt.savefig(fig_dir / file_name)\n",
    "    plt.show()\n"
   ]
  },
  {
   "cell_type": "code",
   "execution_count": null,
   "metadata": {},
   "outputs": [],
   "source": [
    "for df, title in zip((band_class, collective_class), ('Band Fits', 'Collective Fits')):\n",
    "    fig, axes = plot_host_property_distribution(\n",
    "        'dist', bg_like, normal, host_photometry, bins = np.arange(0, 40)) \n",
    "\n",
    "    axes[0].set_xlabel('Distance (arcsec) ')\n",
    "    axes[0].set_title(f'Distance from SN to host (arcsec) ({title})')\n",
    "    \n",
    "    file_name = '_'.join(title.split()).lower() + '_distance.pdf'\n",
    "    plt.tight_layout()\n",
    "    plt.savefig(fig_dir / file_name)\n",
    "    plt.show()"
   ]
  },
  {
   "cell_type": "code",
   "execution_count": null,
   "metadata": {},
   "outputs": [],
   "source": []
  }
 ],
 "metadata": {
  "kernelspec": {
   "display_name": "Python [conda env:phot_class] *",
   "language": "python",
   "name": "conda-env-phot_class-py"
  },
  "language_info": {
   "codemirror_mode": {
    "name": "ipython",
    "version": 3
   },
   "file_extension": ".py",
   "mimetype": "text/x-python",
   "name": "python",
   "nbconvert_exporter": "python",
   "pygments_lexer": "ipython3",
   "version": "3.7.4"
  }
 },
 "nbformat": 4,
 "nbformat_minor": 2
}
