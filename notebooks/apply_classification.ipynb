{
 "cells": [
  {
   "cell_type": "markdown",
   "metadata": {},
   "source": [
    "# Apply Photometric Classification To Fit Results\n",
    "\n",
    "This notebook applies the photometric classification method from González-Gaitán et al. 2014 to SDSS light-curve fit results."
   ]
  },
  {
   "cell_type": "code",
   "execution_count": 1,
   "metadata": {},
   "outputs": [
    {
     "data": {
      "text/html": [
       "\n",
       "    <div class=\"bk-root\">\n",
       "        <a href=\"https://bokeh.pydata.org\" target=\"_blank\" class=\"bk-logo bk-logo-small bk-logo-notebook\"></a>\n",
       "        <span id=\"1001\">Loading BokehJS ...</span>\n",
       "    </div>"
      ]
     },
     "metadata": {},
     "output_type": "display_data"
    },
    {
     "data": {
      "application/javascript": [
       "\n",
       "(function(root) {\n",
       "  function now() {\n",
       "    return new Date();\n",
       "  }\n",
       "\n",
       "  var force = true;\n",
       "\n",
       "  if (typeof root._bokeh_onload_callbacks === \"undefined\" || force === true) {\n",
       "    root._bokeh_onload_callbacks = [];\n",
       "    root._bokeh_is_loading = undefined;\n",
       "  }\n",
       "\n",
       "  var JS_MIME_TYPE = 'application/javascript';\n",
       "  var HTML_MIME_TYPE = 'text/html';\n",
       "  var EXEC_MIME_TYPE = 'application/vnd.bokehjs_exec.v0+json';\n",
       "  var CLASS_NAME = 'output_bokeh rendered_html';\n",
       "\n",
       "  /**\n",
       "   * Render data to the DOM node\n",
       "   */\n",
       "  function render(props, node) {\n",
       "    var script = document.createElement(\"script\");\n",
       "    node.appendChild(script);\n",
       "  }\n",
       "\n",
       "  /**\n",
       "   * Handle when an output is cleared or removed\n",
       "   */\n",
       "  function handleClearOutput(event, handle) {\n",
       "    var cell = handle.cell;\n",
       "\n",
       "    var id = cell.output_area._bokeh_element_id;\n",
       "    var server_id = cell.output_area._bokeh_server_id;\n",
       "    // Clean up Bokeh references\n",
       "    if (id != null && id in Bokeh.index) {\n",
       "      Bokeh.index[id].model.document.clear();\n",
       "      delete Bokeh.index[id];\n",
       "    }\n",
       "\n",
       "    if (server_id !== undefined) {\n",
       "      // Clean up Bokeh references\n",
       "      var cmd = \"from bokeh.io.state import curstate; print(curstate().uuid_to_server['\" + server_id + \"'].get_sessions()[0].document.roots[0]._id)\";\n",
       "      cell.notebook.kernel.execute(cmd, {\n",
       "        iopub: {\n",
       "          output: function(msg) {\n",
       "            var id = msg.content.text.trim();\n",
       "            if (id in Bokeh.index) {\n",
       "              Bokeh.index[id].model.document.clear();\n",
       "              delete Bokeh.index[id];\n",
       "            }\n",
       "          }\n",
       "        }\n",
       "      });\n",
       "      // Destroy server and session\n",
       "      var cmd = \"import bokeh.io.notebook as ion; ion.destroy_server('\" + server_id + \"')\";\n",
       "      cell.notebook.kernel.execute(cmd);\n",
       "    }\n",
       "  }\n",
       "\n",
       "  /**\n",
       "   * Handle when a new output is added\n",
       "   */\n",
       "  function handleAddOutput(event, handle) {\n",
       "    var output_area = handle.output_area;\n",
       "    var output = handle.output;\n",
       "\n",
       "    // limit handleAddOutput to display_data with EXEC_MIME_TYPE content only\n",
       "    if ((output.output_type != \"display_data\") || (!output.data.hasOwnProperty(EXEC_MIME_TYPE))) {\n",
       "      return\n",
       "    }\n",
       "\n",
       "    var toinsert = output_area.element.find(\".\" + CLASS_NAME.split(' ')[0]);\n",
       "\n",
       "    if (output.metadata[EXEC_MIME_TYPE][\"id\"] !== undefined) {\n",
       "      toinsert[toinsert.length - 1].firstChild.textContent = output.data[JS_MIME_TYPE];\n",
       "      // store reference to embed id on output_area\n",
       "      output_area._bokeh_element_id = output.metadata[EXEC_MIME_TYPE][\"id\"];\n",
       "    }\n",
       "    if (output.metadata[EXEC_MIME_TYPE][\"server_id\"] !== undefined) {\n",
       "      var bk_div = document.createElement(\"div\");\n",
       "      bk_div.innerHTML = output.data[HTML_MIME_TYPE];\n",
       "      var script_attrs = bk_div.children[0].attributes;\n",
       "      for (var i = 0; i < script_attrs.length; i++) {\n",
       "        toinsert[toinsert.length - 1].firstChild.setAttribute(script_attrs[i].name, script_attrs[i].value);\n",
       "      }\n",
       "      // store reference to server id on output_area\n",
       "      output_area._bokeh_server_id = output.metadata[EXEC_MIME_TYPE][\"server_id\"];\n",
       "    }\n",
       "  }\n",
       "\n",
       "  function register_renderer(events, OutputArea) {\n",
       "\n",
       "    function append_mime(data, metadata, element) {\n",
       "      // create a DOM node to render to\n",
       "      var toinsert = this.create_output_subarea(\n",
       "        metadata,\n",
       "        CLASS_NAME,\n",
       "        EXEC_MIME_TYPE\n",
       "      );\n",
       "      this.keyboard_manager.register_events(toinsert);\n",
       "      // Render to node\n",
       "      var props = {data: data, metadata: metadata[EXEC_MIME_TYPE]};\n",
       "      render(props, toinsert[toinsert.length - 1]);\n",
       "      element.append(toinsert);\n",
       "      return toinsert\n",
       "    }\n",
       "\n",
       "    /* Handle when an output is cleared or removed */\n",
       "    events.on('clear_output.CodeCell', handleClearOutput);\n",
       "    events.on('delete.Cell', handleClearOutput);\n",
       "\n",
       "    /* Handle when a new output is added */\n",
       "    events.on('output_added.OutputArea', handleAddOutput);\n",
       "\n",
       "    /**\n",
       "     * Register the mime type and append_mime function with output_area\n",
       "     */\n",
       "    OutputArea.prototype.register_mime_type(EXEC_MIME_TYPE, append_mime, {\n",
       "      /* Is output safe? */\n",
       "      safe: true,\n",
       "      /* Index of renderer in `output_area.display_order` */\n",
       "      index: 0\n",
       "    });\n",
       "  }\n",
       "\n",
       "  // register the mime type if in Jupyter Notebook environment and previously unregistered\n",
       "  if (root.Jupyter !== undefined) {\n",
       "    var events = require('base/js/events');\n",
       "    var OutputArea = require('notebook/js/outputarea').OutputArea;\n",
       "\n",
       "    if (OutputArea.prototype.mime_types().indexOf(EXEC_MIME_TYPE) == -1) {\n",
       "      register_renderer(events, OutputArea);\n",
       "    }\n",
       "  }\n",
       "\n",
       "  \n",
       "  if (typeof (root._bokeh_timeout) === \"undefined\" || force === true) {\n",
       "    root._bokeh_timeout = Date.now() + 5000;\n",
       "    root._bokeh_failed_load = false;\n",
       "  }\n",
       "\n",
       "  var NB_LOAD_WARNING = {'data': {'text/html':\n",
       "     \"<div style='background-color: #fdd'>\\n\"+\n",
       "     \"<p>\\n\"+\n",
       "     \"BokehJS does not appear to have successfully loaded. If loading BokehJS from CDN, this \\n\"+\n",
       "     \"may be due to a slow or bad network connection. Possible fixes:\\n\"+\n",
       "     \"</p>\\n\"+\n",
       "     \"<ul>\\n\"+\n",
       "     \"<li>re-rerun `output_notebook()` to attempt to load from CDN again, or</li>\\n\"+\n",
       "     \"<li>use INLINE resources instead, as so:</li>\\n\"+\n",
       "     \"</ul>\\n\"+\n",
       "     \"<code>\\n\"+\n",
       "     \"from bokeh.resources import INLINE\\n\"+\n",
       "     \"output_notebook(resources=INLINE)\\n\"+\n",
       "     \"</code>\\n\"+\n",
       "     \"</div>\"}};\n",
       "\n",
       "  function display_loaded() {\n",
       "    var el = document.getElementById(\"1001\");\n",
       "    if (el != null) {\n",
       "      el.textContent = \"BokehJS is loading...\";\n",
       "    }\n",
       "    if (root.Bokeh !== undefined) {\n",
       "      if (el != null) {\n",
       "        el.textContent = \"BokehJS \" + root.Bokeh.version + \" successfully loaded.\";\n",
       "      }\n",
       "    } else if (Date.now() < root._bokeh_timeout) {\n",
       "      setTimeout(display_loaded, 100)\n",
       "    }\n",
       "  }\n",
       "\n",
       "\n",
       "  function run_callbacks() {\n",
       "    try {\n",
       "      root._bokeh_onload_callbacks.forEach(function(callback) {\n",
       "        if (callback != null)\n",
       "          callback();\n",
       "      });\n",
       "    } finally {\n",
       "      delete root._bokeh_onload_callbacks\n",
       "    }\n",
       "    console.debug(\"Bokeh: all callbacks have finished\");\n",
       "  }\n",
       "\n",
       "  function load_libs(css_urls, js_urls, callback) {\n",
       "    if (css_urls == null) css_urls = [];\n",
       "    if (js_urls == null) js_urls = [];\n",
       "\n",
       "    root._bokeh_onload_callbacks.push(callback);\n",
       "    if (root._bokeh_is_loading > 0) {\n",
       "      console.debug(\"Bokeh: BokehJS is being loaded, scheduling callback at\", now());\n",
       "      return null;\n",
       "    }\n",
       "    if (js_urls == null || js_urls.length === 0) {\n",
       "      run_callbacks();\n",
       "      return null;\n",
       "    }\n",
       "    console.debug(\"Bokeh: BokehJS not loaded, scheduling load and callback at\", now());\n",
       "    root._bokeh_is_loading = css_urls.length + js_urls.length;\n",
       "\n",
       "    function on_load() {\n",
       "      root._bokeh_is_loading--;\n",
       "      if (root._bokeh_is_loading === 0) {\n",
       "        console.debug(\"Bokeh: all BokehJS libraries/stylesheets loaded\");\n",
       "        run_callbacks()\n",
       "      }\n",
       "    }\n",
       "\n",
       "    function on_error() {\n",
       "      console.error(\"failed to load \" + url);\n",
       "    }\n",
       "\n",
       "    for (var i = 0; i < css_urls.length; i++) {\n",
       "      var url = css_urls[i];\n",
       "      const element = document.createElement(\"link\");\n",
       "      element.onload = on_load;\n",
       "      element.onerror = on_error;\n",
       "      element.rel = \"stylesheet\";\n",
       "      element.type = \"text/css\";\n",
       "      element.href = url;\n",
       "      console.debug(\"Bokeh: injecting link tag for BokehJS stylesheet: \", url);\n",
       "      document.body.appendChild(element);\n",
       "    }\n",
       "\n",
       "    for (var i = 0; i < js_urls.length; i++) {\n",
       "      var url = js_urls[i];\n",
       "      var element = document.createElement('script');\n",
       "      element.onload = on_load;\n",
       "      element.onerror = on_error;\n",
       "      element.async = false;\n",
       "      element.src = url;\n",
       "      console.debug(\"Bokeh: injecting script tag for BokehJS library: \", url);\n",
       "      document.head.appendChild(element);\n",
       "    }\n",
       "  };var element = document.getElementById(\"1001\");\n",
       "  if (element == null) {\n",
       "    console.error(\"Bokeh: ERROR: autoload.js configured with elementid '1001' but no matching script tag was found. \")\n",
       "    return false;\n",
       "  }\n",
       "\n",
       "  function inject_raw_css(css) {\n",
       "    const element = document.createElement(\"style\");\n",
       "    element.appendChild(document.createTextNode(css));\n",
       "    document.body.appendChild(element);\n",
       "  }\n",
       "\n",
       "  var js_urls = [\"https://cdn.pydata.org/bokeh/release/bokeh-1.3.4.min.js\", \"https://cdn.pydata.org/bokeh/release/bokeh-widgets-1.3.4.min.js\", \"https://cdn.pydata.org/bokeh/release/bokeh-tables-1.3.4.min.js\", \"https://cdn.pydata.org/bokeh/release/bokeh-gl-1.3.4.min.js\"];\n",
       "  var css_urls = [];\n",
       "\n",
       "  var inline_js = [\n",
       "    function(Bokeh) {\n",
       "      Bokeh.set_log_level(\"info\");\n",
       "    },\n",
       "    \n",
       "    function(Bokeh) {\n",
       "      \n",
       "    },\n",
       "    function(Bokeh) {} // ensure no trailing comma for IE\n",
       "  ];\n",
       "\n",
       "  function run_inline_js() {\n",
       "    \n",
       "    if ((root.Bokeh !== undefined) || (force === true)) {\n",
       "      for (var i = 0; i < inline_js.length; i++) {\n",
       "        inline_js[i].call(root, root.Bokeh);\n",
       "      }if (force === true) {\n",
       "        display_loaded();\n",
       "      }} else if (Date.now() < root._bokeh_timeout) {\n",
       "      setTimeout(run_inline_js, 100);\n",
       "    } else if (!root._bokeh_failed_load) {\n",
       "      console.log(\"Bokeh: BokehJS failed to load within specified timeout.\");\n",
       "      root._bokeh_failed_load = true;\n",
       "    } else if (force !== true) {\n",
       "      var cell = $(document.getElementById(\"1001\")).parents('.cell').data().cell;\n",
       "      cell.output_area.append_execute_result(NB_LOAD_WARNING)\n",
       "    }\n",
       "\n",
       "  }\n",
       "\n",
       "  if (root._bokeh_is_loading === 0) {\n",
       "    console.debug(\"Bokeh: BokehJS loaded, going straight to plotting\");\n",
       "    run_inline_js();\n",
       "  } else {\n",
       "    load_libs(css_urls, js_urls, function() {\n",
       "      console.debug(\"Bokeh: BokehJS plotting callback run at\", now());\n",
       "      run_inline_js();\n",
       "    });\n",
       "  }\n",
       "}(window));"
      ],
      "application/vnd.bokehjs_load.v0+json": "\n(function(root) {\n  function now() {\n    return new Date();\n  }\n\n  var force = true;\n\n  if (typeof root._bokeh_onload_callbacks === \"undefined\" || force === true) {\n    root._bokeh_onload_callbacks = [];\n    root._bokeh_is_loading = undefined;\n  }\n\n  \n\n  \n  if (typeof (root._bokeh_timeout) === \"undefined\" || force === true) {\n    root._bokeh_timeout = Date.now() + 5000;\n    root._bokeh_failed_load = false;\n  }\n\n  var NB_LOAD_WARNING = {'data': {'text/html':\n     \"<div style='background-color: #fdd'>\\n\"+\n     \"<p>\\n\"+\n     \"BokehJS does not appear to have successfully loaded. If loading BokehJS from CDN, this \\n\"+\n     \"may be due to a slow or bad network connection. Possible fixes:\\n\"+\n     \"</p>\\n\"+\n     \"<ul>\\n\"+\n     \"<li>re-rerun `output_notebook()` to attempt to load from CDN again, or</li>\\n\"+\n     \"<li>use INLINE resources instead, as so:</li>\\n\"+\n     \"</ul>\\n\"+\n     \"<code>\\n\"+\n     \"from bokeh.resources import INLINE\\n\"+\n     \"output_notebook(resources=INLINE)\\n\"+\n     \"</code>\\n\"+\n     \"</div>\"}};\n\n  function display_loaded() {\n    var el = document.getElementById(\"1001\");\n    if (el != null) {\n      el.textContent = \"BokehJS is loading...\";\n    }\n    if (root.Bokeh !== undefined) {\n      if (el != null) {\n        el.textContent = \"BokehJS \" + root.Bokeh.version + \" successfully loaded.\";\n      }\n    } else if (Date.now() < root._bokeh_timeout) {\n      setTimeout(display_loaded, 100)\n    }\n  }\n\n\n  function run_callbacks() {\n    try {\n      root._bokeh_onload_callbacks.forEach(function(callback) {\n        if (callback != null)\n          callback();\n      });\n    } finally {\n      delete root._bokeh_onload_callbacks\n    }\n    console.debug(\"Bokeh: all callbacks have finished\");\n  }\n\n  function load_libs(css_urls, js_urls, callback) {\n    if (css_urls == null) css_urls = [];\n    if (js_urls == null) js_urls = [];\n\n    root._bokeh_onload_callbacks.push(callback);\n    if (root._bokeh_is_loading > 0) {\n      console.debug(\"Bokeh: BokehJS is being loaded, scheduling callback at\", now());\n      return null;\n    }\n    if (js_urls == null || js_urls.length === 0) {\n      run_callbacks();\n      return null;\n    }\n    console.debug(\"Bokeh: BokehJS not loaded, scheduling load and callback at\", now());\n    root._bokeh_is_loading = css_urls.length + js_urls.length;\n\n    function on_load() {\n      root._bokeh_is_loading--;\n      if (root._bokeh_is_loading === 0) {\n        console.debug(\"Bokeh: all BokehJS libraries/stylesheets loaded\");\n        run_callbacks()\n      }\n    }\n\n    function on_error() {\n      console.error(\"failed to load \" + url);\n    }\n\n    for (var i = 0; i < css_urls.length; i++) {\n      var url = css_urls[i];\n      const element = document.createElement(\"link\");\n      element.onload = on_load;\n      element.onerror = on_error;\n      element.rel = \"stylesheet\";\n      element.type = \"text/css\";\n      element.href = url;\n      console.debug(\"Bokeh: injecting link tag for BokehJS stylesheet: \", url);\n      document.body.appendChild(element);\n    }\n\n    for (var i = 0; i < js_urls.length; i++) {\n      var url = js_urls[i];\n      var element = document.createElement('script');\n      element.onload = on_load;\n      element.onerror = on_error;\n      element.async = false;\n      element.src = url;\n      console.debug(\"Bokeh: injecting script tag for BokehJS library: \", url);\n      document.head.appendChild(element);\n    }\n  };var element = document.getElementById(\"1001\");\n  if (element == null) {\n    console.error(\"Bokeh: ERROR: autoload.js configured with elementid '1001' but no matching script tag was found. \")\n    return false;\n  }\n\n  function inject_raw_css(css) {\n    const element = document.createElement(\"style\");\n    element.appendChild(document.createTextNode(css));\n    document.body.appendChild(element);\n  }\n\n  var js_urls = [\"https://cdn.pydata.org/bokeh/release/bokeh-1.3.4.min.js\", \"https://cdn.pydata.org/bokeh/release/bokeh-widgets-1.3.4.min.js\", \"https://cdn.pydata.org/bokeh/release/bokeh-tables-1.3.4.min.js\", \"https://cdn.pydata.org/bokeh/release/bokeh-gl-1.3.4.min.js\"];\n  var css_urls = [];\n\n  var inline_js = [\n    function(Bokeh) {\n      Bokeh.set_log_level(\"info\");\n    },\n    \n    function(Bokeh) {\n      \n    },\n    function(Bokeh) {} // ensure no trailing comma for IE\n  ];\n\n  function run_inline_js() {\n    \n    if ((root.Bokeh !== undefined) || (force === true)) {\n      for (var i = 0; i < inline_js.length; i++) {\n        inline_js[i].call(root, root.Bokeh);\n      }if (force === true) {\n        display_loaded();\n      }} else if (Date.now() < root._bokeh_timeout) {\n      setTimeout(run_inline_js, 100);\n    } else if (!root._bokeh_failed_load) {\n      console.log(\"Bokeh: BokehJS failed to load within specified timeout.\");\n      root._bokeh_failed_load = true;\n    } else if (force !== true) {\n      var cell = $(document.getElementById(\"1001\")).parents('.cell').data().cell;\n      cell.output_area.append_execute_result(NB_LOAD_WARNING)\n    }\n\n  }\n\n  if (root._bokeh_is_loading === 0) {\n    console.debug(\"Bokeh: BokehJS loaded, going straight to plotting\");\n    run_inline_js();\n  } else {\n    load_libs(css_urls, js_urls, function() {\n      console.debug(\"Bokeh: BokehJS plotting callback run at\", now());\n      run_inline_js();\n    });\n  }\n}(window));"
     },
     "metadata": {},
     "output_type": "display_data"
    }
   ],
   "source": [
    "import sys\n",
    "from pathlib import Path\n",
    "\n",
    "import numpy as np\n",
    "import pandas as pd\n",
    "from astropy.table import Table\n",
    "from bokeh.plotting import figure, output_notebook, show\n",
    "from matplotlib import pyplot as plt\n",
    "from scipy import optimize\n",
    "from sklearn.utils import resample\n",
    "from sndata.csp import dr1\n",
    "from sndata.sdss import sako18\n",
    "\n",
    "sys.path.insert(0, '..')\n",
    "from phot_class import fom\n",
    "\n",
    "output_notebook()\n",
    "dr1.download_module_data()\n",
    "\n",
    "# Output directory for figures\n",
    "fig_dir = Path('./notebook_figs/classification')\n",
    "fig_dir.mkdir(exist_ok=True, parents=True)\n"
   ]
  },
  {
   "cell_type": "markdown",
   "metadata": {},
   "source": [
    "## Load Data\n",
    "\n",
    "We read in the SDSS classificaions for supernovae and join these with our own photometric classification parameters. We create seperate tables for the band-by-band and collective fit results."
   ]
  },
  {
   "cell_type": "code",
   "execution_count": 2,
   "metadata": {
    "scrolled": false
   },
   "outputs": [],
   "source": [
    "# Read in sdss classifications\n",
    "sdss_master = sako18.load_table('master')\n",
    "sako_classification = pd.DataFrame({\n",
    "    'obj_id': sdss_master['CID'],\n",
    "    'spec_class': sdss_master['Classification']\n",
    "})\n",
    "sako_classification.set_index('obj_id', inplace=True)\n"
   ]
  },
  {
   "cell_type": "code",
   "execution_count": 3,
   "metadata": {},
   "outputs": [],
   "source": [
    "def read_classification_data(path, sdss_classifications):\n",
    "    # Read in our own classification data\n",
    "    class_data = Table.read(path).to_pandas(index='obj_id')\n",
    "    class_data['survey'] = 'SDSS'\n",
    "    class_data['spec_class'] = 'Unspecified'\n",
    "\n",
    "    # Update our table with sdss classifications\n",
    "    class_data.update(sdss_classifications)\n",
    "    return class_data\n"
   ]
  },
  {
   "cell_type": "code",
   "execution_count": 4,
   "metadata": {},
   "outputs": [
    {
     "data": {
      "text/html": [
       "<div>\n",
       "<style scoped>\n",
       "    .dataframe tbody tr th:only-of-type {\n",
       "        vertical-align: middle;\n",
       "    }\n",
       "\n",
       "    .dataframe tbody tr th {\n",
       "        vertical-align: top;\n",
       "    }\n",
       "\n",
       "    .dataframe thead th {\n",
       "        text-align: right;\n",
       "    }\n",
       "</style>\n",
       "<table border=\"1\" class=\"dataframe\">\n",
       "  <thead>\n",
       "    <tr style=\"text-align: right;\">\n",
       "      <th></th>\n",
       "      <th>x</th>\n",
       "      <th>y</th>\n",
       "      <th>survey</th>\n",
       "      <th>spec_class</th>\n",
       "    </tr>\n",
       "    <tr>\n",
       "      <th>obj_id</th>\n",
       "      <th></th>\n",
       "      <th></th>\n",
       "      <th></th>\n",
       "      <th></th>\n",
       "    </tr>\n",
       "  </thead>\n",
       "  <tbody>\n",
       "    <tr>\n",
       "      <td>10028</td>\n",
       "      <td>-30.718333</td>\n",
       "      <td>-61.811193</td>\n",
       "      <td>SDSS</td>\n",
       "      <td>SNIa?</td>\n",
       "    </tr>\n",
       "    <tr>\n",
       "      <td>10036</td>\n",
       "      <td>0.266537</td>\n",
       "      <td>0.091667</td>\n",
       "      <td>SDSS</td>\n",
       "      <td>pSNIa</td>\n",
       "    </tr>\n",
       "    <tr>\n",
       "      <td>10037</td>\n",
       "      <td>-1.148080</td>\n",
       "      <td>-0.182717</td>\n",
       "      <td>SDSS</td>\n",
       "      <td>zSNIa</td>\n",
       "    </tr>\n",
       "    <tr>\n",
       "      <td>1008</td>\n",
       "      <td>-3.743340</td>\n",
       "      <td>-0.495803</td>\n",
       "      <td>SDSS</td>\n",
       "      <td>zSNIa</td>\n",
       "    </tr>\n",
       "    <tr>\n",
       "      <td>10096</td>\n",
       "      <td>-4.332436</td>\n",
       "      <td>0.309214</td>\n",
       "      <td>SDSS</td>\n",
       "      <td>SNIa</td>\n",
       "    </tr>\n",
       "  </tbody>\n",
       "</table>\n",
       "</div>"
      ],
      "text/plain": [
       "                x          y survey spec_class\n",
       "obj_id                                        \n",
       "10028  -30.718333 -61.811193   SDSS      SNIa?\n",
       "10036    0.266537   0.091667   SDSS      pSNIa\n",
       "10037   -1.148080  -0.182717   SDSS      zSNIa\n",
       "1008    -3.743340  -0.495803   SDSS      zSNIa\n",
       "10096   -4.332436   0.309214   SDSS       SNIa"
      ]
     },
     "execution_count": 4,
     "metadata": {},
     "output_type": "execute_result"
    }
   ],
   "source": [
    "band_path = '../results/band_fits/with_ext/sdss_sako18_simple_fit_class.ecsv'\n",
    "band_class = read_classification_data(band_path, sako_classification)\n",
    "\n",
    "collective_path = '../results/collective_fits/with_ext/sdss_sako18_simple_fit_class.ecsv'\n",
    "collective_class = read_classification_data(collective_path, sako_classification)\n",
    "collective_class.head()\n"
   ]
  },
  {
   "cell_type": "markdown",
   "metadata": {},
   "source": [
    "We also read in the actual fit results."
   ]
  },
  {
   "cell_type": "code",
   "execution_count": 5,
   "metadata": {},
   "outputs": [],
   "source": [
    "def read_fits_data(path):\n",
    "    fits_data = Table.read(path).to_pandas()\n",
    "    return fits_data.set_index(['source', 'obj_id'])\n"
   ]
  },
  {
   "cell_type": "code",
   "execution_count": 6,
   "metadata": {},
   "outputs": [
    {
     "name": "stderr",
     "output_type": "stream",
     "text": [
      "/anaconda3/envs/phot_class/lib/python3.7/site-packages/ipykernel_launcher.py:2: TableReplaceWarning: converted column 'pre_max' from integer to float\n",
      "  \n",
      "/anaconda3/envs/phot_class/lib/python3.7/site-packages/ipykernel_launcher.py:2: TableReplaceWarning: converted column 'post_max' from integer to float\n",
      "  \n",
      "/anaconda3/envs/phot_class/lib/python3.7/site-packages/ipykernel_launcher.py:6: TableReplaceWarning: converted column 'pre_max' from integer to float\n",
      "  \n",
      "/anaconda3/envs/phot_class/lib/python3.7/site-packages/ipykernel_launcher.py:6: TableReplaceWarning: converted column 'post_max' from integer to float\n",
      "  \n"
     ]
    },
    {
     "data": {
      "text/html": [
       "<div>\n",
       "<style scoped>\n",
       "    .dataframe tbody tr th:only-of-type {\n",
       "        vertical-align: middle;\n",
       "    }\n",
       "\n",
       "    .dataframe tbody tr th {\n",
       "        vertical-align: top;\n",
       "    }\n",
       "\n",
       "    .dataframe thead th {\n",
       "        text-align: right;\n",
       "    }\n",
       "</style>\n",
       "<table border=\"1\" class=\"dataframe\">\n",
       "  <thead>\n",
       "    <tr style=\"text-align: right;\">\n",
       "      <th></th>\n",
       "      <th></th>\n",
       "      <th>message</th>\n",
       "      <th>band</th>\n",
       "      <th>pre_max</th>\n",
       "      <th>post_max</th>\n",
       "      <th>vparams</th>\n",
       "      <th>x1</th>\n",
       "      <th>z</th>\n",
       "      <th>c</th>\n",
       "      <th>amplitude</th>\n",
       "      <th>t0</th>\n",
       "      <th>...</th>\n",
       "      <th>x1_err</th>\n",
       "      <th>z_err</th>\n",
       "      <th>c_err</th>\n",
       "      <th>amplitude_err</th>\n",
       "      <th>t0_err</th>\n",
       "      <th>mwebv_err</th>\n",
       "      <th>chisq</th>\n",
       "      <th>ndof</th>\n",
       "      <th>b_max</th>\n",
       "      <th>delta_15</th>\n",
       "    </tr>\n",
       "    <tr>\n",
       "      <th>source</th>\n",
       "      <th>obj_id</th>\n",
       "      <th></th>\n",
       "      <th></th>\n",
       "      <th></th>\n",
       "      <th></th>\n",
       "      <th></th>\n",
       "      <th></th>\n",
       "      <th></th>\n",
       "      <th></th>\n",
       "      <th></th>\n",
       "      <th></th>\n",
       "      <th></th>\n",
       "      <th></th>\n",
       "      <th></th>\n",
       "      <th></th>\n",
       "      <th></th>\n",
       "      <th></th>\n",
       "      <th></th>\n",
       "      <th></th>\n",
       "      <th></th>\n",
       "      <th></th>\n",
       "      <th></th>\n",
       "    </tr>\n",
       "  </thead>\n",
       "  <tbody>\n",
       "    <tr>\n",
       "      <td rowspan=\"3\" valign=\"top\">hsiao_x1</td>\n",
       "      <td>10028</td>\n",
       "      <td>Minimization exited successfully.</td>\n",
       "      <td>all</td>\n",
       "      <td>85.0</td>\n",
       "      <td>20.0</td>\n",
       "      <td>t0,amplitude,x1</td>\n",
       "      <td>0.141842</td>\n",
       "      <td>0.064256</td>\n",
       "      <td>NaN</td>\n",
       "      <td>2.190513e-04</td>\n",
       "      <td>2.453694e+06</td>\n",
       "      <td>...</td>\n",
       "      <td>0.006493</td>\n",
       "      <td>NaN</td>\n",
       "      <td>NaN</td>\n",
       "      <td>7.309902e-07</td>\n",
       "      <td>0.085901</td>\n",
       "      <td>NaN</td>\n",
       "      <td>412.58</td>\n",
       "      <td>32.0</td>\n",
       "      <td>-19.16</td>\n",
       "      <td>1.330</td>\n",
       "    </tr>\n",
       "    <tr>\n",
       "      <td>10028</td>\n",
       "      <td>Minimization exited successfully.</td>\n",
       "      <td>blue</td>\n",
       "      <td>34.0</td>\n",
       "      <td>8.0</td>\n",
       "      <td>amplitude,x1</td>\n",
       "      <td>0.145950</td>\n",
       "      <td>0.064256</td>\n",
       "      <td>NaN</td>\n",
       "      <td>2.120666e-04</td>\n",
       "      <td>2.453694e+06</td>\n",
       "      <td>...</td>\n",
       "      <td>0.007041</td>\n",
       "      <td>NaN</td>\n",
       "      <td>NaN</td>\n",
       "      <td>8.540877e-07</td>\n",
       "      <td>NaN</td>\n",
       "      <td>NaN</td>\n",
       "      <td>37.06</td>\n",
       "      <td>12.0</td>\n",
       "      <td>-19.09</td>\n",
       "      <td>1.339</td>\n",
       "    </tr>\n",
       "    <tr>\n",
       "      <td>10028</td>\n",
       "      <td>Minimization exited successfully.</td>\n",
       "      <td>red</td>\n",
       "      <td>51.0</td>\n",
       "      <td>12.0</td>\n",
       "      <td>amplitude,x1</td>\n",
       "      <td>0.097528</td>\n",
       "      <td>0.064256</td>\n",
       "      <td>NaN</td>\n",
       "      <td>2.255210e-04</td>\n",
       "      <td>2.453694e+06</td>\n",
       "      <td>...</td>\n",
       "      <td>0.009118</td>\n",
       "      <td>NaN</td>\n",
       "      <td>NaN</td>\n",
       "      <td>7.930632e-07</td>\n",
       "      <td>NaN</td>\n",
       "      <td>NaN</td>\n",
       "      <td>155.41</td>\n",
       "      <td>19.0</td>\n",
       "      <td>-19.22</td>\n",
       "      <td>1.233</td>\n",
       "    </tr>\n",
       "    <tr>\n",
       "      <td rowspan=\"3\" valign=\"top\">sn91bg</td>\n",
       "      <td>10028</td>\n",
       "      <td>Minimization exited successfully.</td>\n",
       "      <td>all</td>\n",
       "      <td>90.0</td>\n",
       "      <td>15.0</td>\n",
       "      <td>t0,amplitude,x1,c</td>\n",
       "      <td>1.250000</td>\n",
       "      <td>0.064256</td>\n",
       "      <td>1.110223e-16</td>\n",
       "      <td>1.127967e-15</td>\n",
       "      <td>2.453696e+06</td>\n",
       "      <td>...</td>\n",
       "      <td>0.000311</td>\n",
       "      <td>NaN</td>\n",
       "      <td>0.000118</td>\n",
       "      <td>6.547090e-18</td>\n",
       "      <td>0.147287</td>\n",
       "      <td>NaN</td>\n",
       "      <td>4755.33</td>\n",
       "      <td>26.0</td>\n",
       "      <td>-18.52</td>\n",
       "      <td>1.446</td>\n",
       "    </tr>\n",
       "    <tr>\n",
       "      <td>10028</td>\n",
       "      <td>Minimization exited successfully.</td>\n",
       "      <td>blue</td>\n",
       "      <td>36.0</td>\n",
       "      <td>6.0</td>\n",
       "      <td>amplitude,x1,c</td>\n",
       "      <td>1.250000</td>\n",
       "      <td>0.064256</td>\n",
       "      <td>3.878009e-13</td>\n",
       "      <td>1.811014e-15</td>\n",
       "      <td>2.453696e+06</td>\n",
       "      <td>...</td>\n",
       "      <td>0.000986</td>\n",
       "      <td>NaN</td>\n",
       "      <td>0.005012</td>\n",
       "      <td>1.319683e-17</td>\n",
       "      <td>NaN</td>\n",
       "      <td>NaN</td>\n",
       "      <td>304.26</td>\n",
       "      <td>9.0</td>\n",
       "      <td>-19.04</td>\n",
       "      <td>1.446</td>\n",
       "    </tr>\n",
       "    <tr>\n",
       "      <td>10028</td>\n",
       "      <td>Minimization exited successfully.</td>\n",
       "      <td>red</td>\n",
       "      <td>54.0</td>\n",
       "      <td>9.0</td>\n",
       "      <td>amplitude,x1,c</td>\n",
       "      <td>1.250000</td>\n",
       "      <td>0.064256</td>\n",
       "      <td>1.054712e-15</td>\n",
       "      <td>9.607958e-16</td>\n",
       "      <td>2.453696e+06</td>\n",
       "      <td>...</td>\n",
       "      <td>0.002071</td>\n",
       "      <td>NaN</td>\n",
       "      <td>0.001131</td>\n",
       "      <td>6.517304e-18</td>\n",
       "      <td>NaN</td>\n",
       "      <td>NaN</td>\n",
       "      <td>1049.86</td>\n",
       "      <td>15.0</td>\n",
       "      <td>-18.35</td>\n",
       "      <td>1.446</td>\n",
       "    </tr>\n",
       "  </tbody>\n",
       "</table>\n",
       "<p>6 rows × 21 columns</p>\n",
       "</div>"
      ],
      "text/plain": [
       "                                           message  band  pre_max  post_max  \\\n",
       "source   obj_id                                                               \n",
       "hsiao_x1 10028   Minimization exited successfully.   all     85.0      20.0   \n",
       "         10028   Minimization exited successfully.  blue     34.0       8.0   \n",
       "         10028   Minimization exited successfully.   red     51.0      12.0   \n",
       "sn91bg   10028   Minimization exited successfully.   all     90.0      15.0   \n",
       "         10028   Minimization exited successfully.  blue     36.0       6.0   \n",
       "         10028   Minimization exited successfully.   red     54.0       9.0   \n",
       "\n",
       "                           vparams        x1         z             c  \\\n",
       "source   obj_id                                                        \n",
       "hsiao_x1 10028     t0,amplitude,x1  0.141842  0.064256           NaN   \n",
       "         10028        amplitude,x1  0.145950  0.064256           NaN   \n",
       "         10028        amplitude,x1  0.097528  0.064256           NaN   \n",
       "sn91bg   10028   t0,amplitude,x1,c  1.250000  0.064256  1.110223e-16   \n",
       "         10028      amplitude,x1,c  1.250000  0.064256  3.878009e-13   \n",
       "         10028      amplitude,x1,c  1.250000  0.064256  1.054712e-15   \n",
       "\n",
       "                    amplitude            t0  ...    x1_err  z_err     c_err  \\\n",
       "source   obj_id                              ...                              \n",
       "hsiao_x1 10028   2.190513e-04  2.453694e+06  ...  0.006493    NaN       NaN   \n",
       "         10028   2.120666e-04  2.453694e+06  ...  0.007041    NaN       NaN   \n",
       "         10028   2.255210e-04  2.453694e+06  ...  0.009118    NaN       NaN   \n",
       "sn91bg   10028   1.127967e-15  2.453696e+06  ...  0.000311    NaN  0.000118   \n",
       "         10028   1.811014e-15  2.453696e+06  ...  0.000986    NaN  0.005012   \n",
       "         10028   9.607958e-16  2.453696e+06  ...  0.002071    NaN  0.001131   \n",
       "\n",
       "                 amplitude_err    t0_err  mwebv_err    chisq  ndof  b_max  \\\n",
       "source   obj_id                                                             \n",
       "hsiao_x1 10028    7.309902e-07  0.085901        NaN   412.58  32.0 -19.16   \n",
       "         10028    8.540877e-07       NaN        NaN    37.06  12.0 -19.09   \n",
       "         10028    7.930632e-07       NaN        NaN   155.41  19.0 -19.22   \n",
       "sn91bg   10028    6.547090e-18  0.147287        NaN  4755.33  26.0 -18.52   \n",
       "         10028    1.319683e-17       NaN        NaN   304.26   9.0 -19.04   \n",
       "         10028    6.517304e-18       NaN        NaN  1049.86  15.0 -18.35   \n",
       "\n",
       "                 delta_15  \n",
       "source   obj_id            \n",
       "hsiao_x1 10028      1.330  \n",
       "         10028      1.339  \n",
       "         10028      1.233  \n",
       "sn91bg   10028      1.446  \n",
       "         10028      1.446  \n",
       "         10028      1.446  \n",
       "\n",
       "[6 rows x 21 columns]"
      ]
     },
     "execution_count": 6,
     "metadata": {},
     "output_type": "execute_result"
    }
   ],
   "source": [
    "band_fits_path = '../results/band_fits/with_ext/sdss_sako18_simple_fit_fits.ecsv'\n",
    "band_fits = read_fits_data(band_fits_path)\n",
    "band_fits['band'] = [str(b)[-2] if b != 'all' else b for b in band_fits.band]\n",
    "\n",
    "collective_fits_path = '../results/collective_fits/with_ext/sdss_sako18_simple_fit_fits.ecsv'\n",
    "collective_fits = read_fits_data(collective_fits_path)\n",
    "collective_fits.head(6)\n"
   ]
  },
  {
   "cell_type": "markdown",
   "metadata": {},
   "source": [
    "## Exploration of Failed Fits\n",
    "\n",
    "We perform a cursory investigation of any fits that have failed to converge. To start, we note the unique error messages raised in the band and collective fit results."
   ]
  },
  {
   "cell_type": "code",
   "execution_count": 7,
   "metadata": {},
   "outputs": [],
   "source": [
    "def get_failed_fits(fits_df):\n",
    "    failed_fits = fits_df['message'].str.lower().str.contains('failed')\n",
    "    return fits_df[failed_fits]\n",
    "    "
   ]
  },
  {
   "cell_type": "code",
   "execution_count": 8,
   "metadata": {},
   "outputs": [
    {
     "name": "stdout",
     "output_type": "stream",
     "text": [
      "Band fit error messages:\n",
      "\n",
      "['No data points with S/N > 5.0. Initial guessing failed.'\n",
      " 'Hesse Failed. Covariance may not be accurate. Covariance not positive definite.']\n",
      "\n",
      "Collective fit error messages:\n",
      "\n",
      "['No data points with S/N > 5.0. Initial guessing failed.'\n",
      " 'Hesse Failed. Covariance may not be accurate. Covariance not positive definite.']\n"
     ]
    }
   ],
   "source": [
    "print('Band fit error messages:\\n')\n",
    "print(get_failed_fits(band_fits).message.unique())\n",
    "\n",
    "print('\\nCollective fit error messages:\\n')\n",
    "print(get_failed_fits(collective_fits).message.unique())\n"
   ]
  },
  {
   "cell_type": "markdown",
   "metadata": {},
   "source": [
    "The SNR error is not concerning so long as there are an equal number of occurences between the band and collective fits."
   ]
  },
  {
   "cell_type": "code",
   "execution_count": 9,
   "metadata": {},
   "outputs": [
    {
     "name": "stdout",
     "output_type": "stream",
     "text": [
      "Equal Number of SNR errors: True\n"
     ]
    }
   ],
   "source": [
    "snr_err_msg = 'No data points with S/N > 5.0. Initial guessing failed.'\n",
    "band_snr_indices = band_fits.message == snr_err_msg\n",
    "collective_snr_indices = collective_fits.message == snr_err_msg\n",
    "equal_errors = sum(band_snr_indices) == sum(collective_snr_indices)\n",
    "\n",
    "print('Equal Number of SNR errors:', equal_errors)\n"
   ]
  },
  {
   "cell_type": "markdown",
   "metadata": {},
   "source": [
    "We drop the SNR errors for now and look at the distribution of the remaining errors across bands and models."
   ]
  },
  {
   "cell_type": "code",
   "execution_count": 10,
   "metadata": {},
   "outputs": [],
   "source": [
    "goodsnr_band_fits = band_fits[band_fits.message != snr_err_msg]\n",
    "goodsnr_collective_fits = collective_fits[collective_fits.message != snr_err_msg]\n"
   ]
  },
  {
   "cell_type": "code",
   "execution_count": 11,
   "metadata": {},
   "outputs": [
    {
     "name": "stdout",
     "output_type": "stream",
     "text": [
      "Band by band error distribution\n",
      "\n",
      "By fitted band (set):\n",
      "Series([], Name: band, dtype: int64)\n",
      "\n",
      "Number of failed fits per source:\n",
      "hsiao_x1    193\n",
      "Name: source, dtype: int64\n",
      "\n",
      "Number of failed fits per object (num_failures number_targets):\n",
      "1    179\n",
      "2      7\n",
      "dtype: int64\n"
     ]
    }
   ],
   "source": [
    "band_failed_nosnr = get_failed_fits(goodsnr_band_fits)\n",
    "\n",
    "print('Band by band error distribution\\n')\n",
    "print('By fitted band (set):')\n",
    "print(band_failed_nosnr.band.str[-2].value_counts())\n",
    "\n",
    "print('\\nNumber of failed fits per source:')\n",
    "print(band_failed_nosnr.droplevel(1).index.value_counts())\n",
    "\n",
    "print('\\nNumber of failed fits per object (num_failures number_targets):')\n",
    "print(band_failed_nosnr.index.value_counts().value_counts())\n"
   ]
  },
  {
   "cell_type": "code",
   "execution_count": 12,
   "metadata": {},
   "outputs": [
    {
     "name": "stdout",
     "output_type": "stream",
     "text": [
      "Collective error distribution\n",
      "\n",
      "By fitted band (set):\n",
      "red    8\n",
      "Name: band, dtype: int64\n",
      "\n",
      "Number of failed fits per source:\n",
      "hsiao_x1    8\n",
      "Name: source, dtype: int64\n",
      "\n",
      "Number of failed fits per object (num_failures number_targets):\n",
      "1    8\n",
      "dtype: int64\n"
     ]
    }
   ],
   "source": [
    "collective_failed_nosnr = get_failed_fits(goodsnr_collective_fits)\n",
    "\n",
    "print('Collective error distribution\\n')\n",
    "print('By fitted band (set):')\n",
    "print(collective_failed_nosnr.band.value_counts())\n",
    "\n",
    "print('\\nNumber of failed fits per source:')\n",
    "print(collective_failed_nosnr.droplevel(1).index.value_counts())\n",
    "\n",
    "print('\\nNumber of failed fits per object (num_failures number_targets):')\n",
    "print(collective_failed_nosnr.index.value_counts().value_counts())\n"
   ]
  },
  {
   "cell_type": "markdown",
   "metadata": {},
   "source": [
    "## Classification\n",
    "\n",
    "We apply the classification to the fitted light curves."
   ]
  },
  {
   "cell_type": "code",
   "execution_count": 13,
   "metadata": {},
   "outputs": [],
   "source": [
    "def create_border_hist(axis, padding=0):\n",
    "    \"\"\"Create axes for plotting border histograms\n",
    "    \n",
    "    Args:\n",
    "        axis     (Axis): The matplotlib axis to border\n",
    "        padding (float): Spacing between the main and bordering axes\n",
    "        \n",
    "    Returns:\n",
    "        Axis for the upper histogram\n",
    "        Axis for the right side histogram\n",
    "    \"\"\"\n",
    "\n",
    "    axis_pos = axis.get_position()\n",
    "    axis_width = axis_pos.x1 - axis_pos.x0\n",
    "    axis_height = axis_pos.y1 - axis_pos.y0\n",
    "\n",
    "    histx_pos = axis.get_position()\n",
    "    histx_pos.y0 += axis_height + padding\n",
    "    histx_pos.y1 = histx_pos.y0 + .35 * axis_height + padding\n",
    "    histx = plt.axes(histx_pos)\n",
    "    histx.set_xlim(axis.get_xlim())\n",
    "    histx.tick_params(direction='in', labelbottom=False)\n",
    "\n",
    "    histy_pos = axis.get_position()\n",
    "    histy_pos.x0 += axis_width + padding / 2\n",
    "    histy_pos.x1 = histy_pos.x0 + .35 * axis_width + padding / 2\n",
    "    histy = plt.axes(histy_pos)\n",
    "    histy.set_ylim(axis.get_ylim())\n",
    "    histy.tick_params(direction='in', labelleft=False)\n",
    "\n",
    "    return histx, histy\n",
    "\n",
    "\n",
    "def plot_classification(band_class, collective_class, fits_df, border_bins, padding):\n",
    "    \"\"\"Plot classification results\n",
    "    \n",
    "    Args:\n",
    "        band_class       (DataFrame): Classification results from band fitting\n",
    "        collective_class (DataFrame): Classification results from collective fitting\n",
    "        fits_df          (DataFrame): DataFrame of fit results\n",
    "        border_bins        (ndarray): Bins for histogram\n",
    "        padding              (float): Spacing between the main and bordering axes\n",
    "    \"\"\"\n",
    "    \n",
    "    fig, axes = plt.subplots(1, 3, figsize=(15, 5))\n",
    "\n",
    "    # Plot histogram of overall chi-squared values\n",
    "    fits_hsiao = fits_df.loc['hsiao_x1']\n",
    "    fits_hsiao = fits_hsiao[fits_hsiao.band == 'all']\n",
    "    fits_sn91bg = fits_df.loc['sn91bg']\n",
    "    fits_sn91bg = fits_sn91bg[fits_sn91bg.band == 'all']\n",
    "    delta_chi = (fits_hsiao.chisq / fits_hsiao.ndof) - (fits_sn91bg.chisq / fits_sn91bg.ndof)\n",
    "\n",
    "    chi_lt0 = delta_chi[delta_chi < 0]\n",
    "    chi_gt0 = delta_chi[delta_chi > 0]\n",
    "\n",
    "    bins = np.arange(-25, 25)\n",
    "    axes[0].hist(chi_lt0, bins=bins, label=r'$\\Delta \\chi^2 < 0$ ({})'.format(len(chi_lt0)))\n",
    "    axes[0].hist(chi_gt0, bins=bins, label=r'$\\Delta \\chi^2 > 0$ ({})'.format(len(chi_gt0)))\n",
    "    axes[0].axvline(0, color='black', linestyle='--')\n",
    "    axes[0].set_xlim(-10, 10)\n",
    "    axes[0].set_title(r'$\\Delta \\chi^2$ (Hsiao - SN91bg)')\n",
    "    axes[0].legend()\n",
    "\n",
    "    # Plot collective fit results\n",
    "    coll_class_lt = collective_class.loc[chi_lt0.index]\n",
    "    coll_class_gt = collective_class.loc[chi_gt0.index]\n",
    "    axes[1].scatter(coll_class_lt.x, coll_class_lt.y, s=10)\n",
    "    axes[1].scatter(coll_class_gt.x, coll_class_gt.y, s=10)\n",
    "    axes[1].axvline(0, color='grey', linestyle='--')\n",
    "    axes[1].axhline(0, color='grey', linestyle='--')\n",
    "    axes[1].set_xlim(-75, 75)\n",
    "    axes[1].set_ylim(-50, 50)\n",
    "\n",
    "    collective_histx, collective_histy = create_border_hist(axes[1], padding)\n",
    "    collective_histx.hist([coll_class_lt.x , coll_class_gt.x], bins=border_bins, stacked=True)\n",
    "    collective_histy.hist([coll_class_lt.y , coll_class_gt.y], bins=border_bins, stacked=True, orientation='horizontal')    \n",
    "    collective_histx.set_xlim(axes[1].get_xlim())\n",
    "    collective_histy.set_ylim(axes[1].get_ylim())\n",
    "    collective_histy.set_title('Collective Fitting')\n",
    "    collective_histx.set_yscale('log')\n",
    "    collective_histy.set_xscale('log')\n",
    "\n",
    "    # Plot band-by-band fit results\n",
    "    ax2_pos = axes[2].get_position()\n",
    "    width = ax2_pos.x1 - ax2_pos.x0\n",
    "    ax2_pos.x0 += .4 * width\n",
    "    ax2_pos.x1 += .4 * width\n",
    "    axes[2].set_position(ax2_pos)\n",
    "\n",
    "    band_class_lt = band_class.loc[chi_lt0.index]\n",
    "    band_class_gt = band_class.loc[chi_gt0.index]\n",
    "    axes[2].scatter(band_class_lt.x, band_class_lt.y, s=10)\n",
    "    axes[2].scatter(band_class_gt.x, band_class_gt.y, s=10)\n",
    "    axes[2].axvline(0, color='grey', linestyle='--')\n",
    "    axes[2].axhline(0, color='grey', linestyle='--')\n",
    "    axes[2].set_xlim(-75, 75)\n",
    "    axes[2].set_ylim(-50, 50)\n",
    "\n",
    "    band_histx, band_histy = create_border_hist(axes[2], padding)\n",
    "    band_histx.hist([band_class_lt.x , band_class_gt.x], bins=border_bins, stacked=True)\n",
    "    band_histy.hist([band_class_lt.y , band_class_gt.y], bins=border_bins, stacked=True, orientation='horizontal')\n",
    "    band_histx.set_xlim(axes[2].get_xlim())\n",
    "    band_histy.set_ylim(axes[2].get_ylim())\n",
    "    band_histy.set_title('Band Fitting')\n",
    "    band_histx.set_yscale('log')\n",
    "    band_histy.set_xscale('log')\n"
   ]
  },
  {
   "cell_type": "code",
   "execution_count": 14,
   "metadata": {},
   "outputs": [
    {
     "name": "stderr",
     "output_type": "stream",
     "text": [
      "/anaconda3/envs/phot_class/lib/python3.7/site-packages/ipykernel_launcher.py:66: FutureWarning: \n",
      "Passing list-likes to .loc or [] with any missing label will raise\n",
      "KeyError in the future, you can use .reindex() as an alternative.\n",
      "\n",
      "See the documentation here:\n",
      "https://pandas.pydata.org/pandas-docs/stable/user_guide/indexing.html#deprecate-loc-reindex-listlike\n",
      "/anaconda3/envs/phot_class/lib/python3.7/site-packages/ipykernel_launcher.py:67: FutureWarning: \n",
      "Passing list-likes to .loc or [] with any missing label will raise\n",
      "KeyError in the future, you can use .reindex() as an alternative.\n",
      "\n",
      "See the documentation here:\n",
      "https://pandas.pydata.org/pandas-docs/stable/user_guide/indexing.html#deprecate-loc-reindex-listlike\n",
      "/anaconda3/envs/phot_class/lib/python3.7/site-packages/ipykernel_launcher.py:91: FutureWarning: \n",
      "Passing list-likes to .loc or [] with any missing label will raise\n",
      "KeyError in the future, you can use .reindex() as an alternative.\n",
      "\n",
      "See the documentation here:\n",
      "https://pandas.pydata.org/pandas-docs/stable/user_guide/indexing.html#deprecate-loc-reindex-listlike\n",
      "/anaconda3/envs/phot_class/lib/python3.7/site-packages/ipykernel_launcher.py:92: FutureWarning: \n",
      "Passing list-likes to .loc or [] with any missing label will raise\n",
      "KeyError in the future, you can use .reindex() as an alternative.\n",
      "\n",
      "See the documentation here:\n",
      "https://pandas.pydata.org/pandas-docs/stable/user_guide/indexing.html#deprecate-loc-reindex-listlike\n"
     ]
    },
    {
     "data": {
      "text/plain": [
       "<Figure size 432x288 with 0 Axes>"
      ]
     },
     "metadata": {},
     "output_type": "display_data"
    },
    {
     "data": {
      "image/png": "[encoded data removed]",
      "text/plain": [
       "<Figure size 1080x360 with 7 Axes>"
      ]
     },
     "metadata": {
      "needs_background": "light"
     },
     "output_type": "display_data"
    }
   ],
   "source": [
    "plt.tight_layout()\n",
    "plot_classification(band_class, collective_class, band_fits, np.arange(-100, 100, 5), .02)\n",
    "plt.savefig(fig_dir / 'classification.pdf')\n"
   ]
  },
  {
   "cell_type": "markdown",
   "metadata": {},
   "source": [
    "## Intrinsic Properties\n",
    "\n",
    "We consider the distribution of fit parameters."
   ]
  },
  {
   "cell_type": "code",
   "execution_count": 15,
   "metadata": {},
   "outputs": [
    {
     "data": {
      "image/png": "[encoded data removed]",
      "text/plain": [
       "<Figure size 432x288 with 1 Axes>"
      ]
     },
     "metadata": {
      "needs_background": "light"
     },
     "output_type": "display_data"
    },
    {
     "data": {
      "image/png": "[encoded data removed]",
      "text/plain": [
       "<Figure size 432x288 with 1 Axes>"
      ]
     },
     "metadata": {
      "needs_background": "light"
     },
     "output_type": "display_data"
    },
    {
     "data": {
      "image/png": "[encoded data removed]",
      "text/plain": [
       "<Figure size 432x288 with 1 Axes>"
      ]
     },
     "metadata": {
      "needs_background": "light"
     },
     "output_type": "display_data"
    },
    {
     "data": {
      "image/png": "[encoded data removed]",
      "text/plain": [
       "<Figure size 432x288 with 1 Axes>"
      ]
     },
     "metadata": {
      "needs_background": "light"
     },
     "output_type": "display_data"
    }
   ],
   "source": [
    "for source in ('hsiao_x1', 'sn91bg'):\n",
    "    for df, fit_type in zip((band_fits.loc[source], collective_fits.loc[source]), ('Band', 'Collective')):\n",
    "        labels, data = np.transpose([[band, band_data.x1] for band, band_data in df.groupby('band')])\n",
    "        plt.hist(data, stacked=True, label=labels)\n",
    "        plt.title(f'x1 Distribution ({source} - {fit_type} Fits)')\n",
    "        plt.legend()\n",
    "        \n",
    "        plt.savefig(fig_dir / f'x1_distribution_{source}_{fit_type}_fits.pdf'.lower())\n",
    "        plt.show()\n",
    "    "
   ]
  },
  {
   "cell_type": "code",
   "execution_count": 16,
   "metadata": {},
   "outputs": [
    {
     "data": {
      "image/png": "[encoded data removed]",
      "text/plain": [
       "<Figure size 432x288 with 1 Axes>"
      ]
     },
     "metadata": {
      "needs_background": "light"
     },
     "output_type": "display_data"
    },
    {
     "data": {
      "image/png": "[encoded data removed]",
      "text/plain": [
       "<Figure size 432x288 with 1 Axes>"
      ]
     },
     "metadata": {
      "needs_background": "light"
     },
     "output_type": "display_data"
    }
   ],
   "source": [
    "for df, fit_type in zip((band_fits.loc['sn91bg'], collective_fits.loc['sn91bg']), ('Band', 'Collective')):\n",
    "    labels, data = np.transpose([[band, band_data.c] for band, band_data in df.groupby('band')])\n",
    "    plt.hist(data, stacked=True, label=labels)\n",
    "    plt.title(f'c Distribution (SN91bg - {fit_type} Fits)')\n",
    "    plt.legend()\n",
    "    \n",
    "    plt.savefig(fig_dir / f'c_distribution_sn91bg_{fit_type}_fits.pdf'.lower())\n",
    "    plt.show()\n"
   ]
  },
  {
   "cell_type": "code",
   "execution_count": 17,
   "metadata": {},
   "outputs": [
    {
     "data": {
      "text/plain": [
       "Text(0, 0.5, 'Color (c)')"
      ]
     },
     "execution_count": 17,
     "metadata": {},
     "output_type": "execute_result"
    },
    {
     "data": {
      "image/png": "[encoded data removed]",
      "text/plain": [
       "<Figure size 576x576 with 3 Axes>"
      ]
     },
     "metadata": {
      "needs_background": "light"
     },
     "output_type": "display_data"
    }
   ],
   "source": [
    "band_fits_all = band_fits[band_fits.band == 'all']\n",
    "collective_fits_all = collective_fits[collective_fits.band == 'all']\n",
    "\n",
    "fig, axis = plt.subplots(1, 1, figsize=(8, 8))\n",
    "histx, histy = create_border_hist(axis)\n",
    "\n",
    "axis.scatter(band_fits_all.loc['sn91bg'].x1, band_fits_all.loc['sn91bg'].c)\n",
    "histx.hist(band_fits_all.loc['sn91bg'].x1)\n",
    "histy.hist(band_fits_all.loc['sn91bg'].c, orientation='horizontal')   \n",
    "\n",
    "axis.set_xlabel('Stretch (x1)')\n",
    "axis.set_ylabel('Color (c)')\n"
   ]
  },
  {
   "cell_type": "code",
   "execution_count": 18,
   "metadata": {},
   "outputs": [
    {
     "data": {
      "text/plain": [
       "Text(0, 0.5, 'Hsiao Stretch (x1)')"
      ]
     },
     "execution_count": 18,
     "metadata": {},
     "output_type": "execute_result"
    },
    {
     "data": {
      "image/png": "[encoded data removed]",
      "text/plain": [
       "<Figure size 432x288 with 1 Axes>"
      ]
     },
     "metadata": {
      "needs_background": "light"
     },
     "output_type": "display_data"
    }
   ],
   "source": [
    "plt.scatter(band_fits_all.loc['sn91bg'].x1, band_fits_all.loc['hsiao_x1'].x1)\n",
    "plt.xlabel('SN91bg Stretch (x1)')\n",
    "plt.ylabel('Hsiao Stretch (x1)')"
   ]
  },
  {
   "cell_type": "markdown",
   "metadata": {},
   "source": [
    "## Host Galaxy Properties\n",
    "\n",
    "We start with some book keeping, and create dataframes for various subsets of the host galaxy data."
   ]
  },
  {
   "cell_type": "code",
   "execution_count": 19,
   "metadata": {},
   "outputs": [],
   "source": [
    "host_photometry = pd.DataFrame({\n",
    "    'obj_id': sdss_master['CID'],\n",
    "    'host_id': sdss_master['objIDHost'],  # Host galaxy object ID in SDSS DR8 Database \n",
    "    'ra': sdss_master['RAhost'],  # Right ascension of galaxy host (degrees) \n",
    "    'dec': sdss_master['DEChost'],  # Declination of galaxy host (degrees) \n",
    "    'dist': sdss_master['separationhost'], # Distance from SN to host (arcsec) \n",
    "    'distnorm': sdss_master['DLRhost'], # Normalized distance from SN to host (dDLR) \n",
    "    'z_KF': sdss_master['zphothost'], # Host photometric redshift (KF algorithm) \n",
    "    'z_KF_err': sdss_master['zphoterrhost'], # zphothost uncertainty\n",
    "    'z_RF': sdss_master['zphotRFhost'],  # Host photometric redshift (RF algorithm) \n",
    "    'z_RF_err': sdss_master['zphotRFerrhost'],  # zphotRFhost uncertainty \n",
    "    'u_mag': sdss_master['dereduhost'],  # Host galaxy u-band magnitude (dereddened) \n",
    "    'u_mag_err': sdss_master['erruhost'], # Host galaxy u-band magnitude uncertainty \n",
    "    'g_mag': sdss_master['deredghost'],  # Host galaxy g-band magnitude (dereddened)\n",
    "    'g_mag_err': sdss_master['errghost'],  #  Host galaxy g-band magnitude uncertainty \n",
    "    'r_mag': sdss_master['deredrhost'],  # Host galaxy r-band magnitude (dereddened)\n",
    "    'r_mag_err': sdss_master['errrhost'],  #  Host galaxy r-band magnitude uncertainty \n",
    "    'i_mag': sdss_master['deredihost'], # Host galaxy i-band magnitude (dereddened) \n",
    "    'i_mag_err': sdss_master['errihost'], # Host galaxy i-band magnitude uncertainty \n",
    "    'z_mag': sdss_master['deredzhost'], # Host galaxy z-band magnitude (dereddened) \n",
    "    'z_mag_err': sdss_master['errzhost'] # Host galaxy z-band magnitude (dereddened)\n",
    "})\n",
    "host_photometry.set_index('obj_id', inplace=True)\n",
    "    \n",
    "# Galaxy Parameters Calculated with FPPS\n",
    "fpps_params = pd.DataFrame({\n",
    "    'obj_id' : sdss_master['CID'],\n",
    "    'logmass' : sdss_master['logMassFSPS'],  # FSPS log(M), M=Galaxy Mass (M in units of Me)\n",
    "    'logmass_lo' : sdss_master['logMassloFSPS'],  # FSPS Lower limit of uncertainty in log(M)\n",
    "    'logmass_hi' : sdss_master['logMasshiFSPS'],  # FSPS Upper limit of uncertainty in log(M)\n",
    "    'logssfr' : sdss_master['logSSFRFSPS'],  # FSPS log(sSFR) sSFR=Galaxy Specific Star-forming Rate (SFR in Me yr−1)\n",
    "    'logssfr_lo' : sdss_master['logSSFRloFSPS'],  # FSPS Lower limit of uncertainty in log(sSFR)\n",
    "    'logssfr_hi' : sdss_master['logSSFRhiFSPS'],  # FSPS Upper limit of uncertainty in log(sSFR)\n",
    "    'age' : sdss_master['ageFSPS'],  # FSPS galaxy age (Gyr)\n",
    "    'age_lo' : sdss_master['ageloFSPS'],  # FSPS Lower limit of uncertainty in age\n",
    "    'age_hi' : sdss_master['agehiFSPS'],  # FSPS Upper limit of uncertainty in age \n",
    "    'rchisq' : sdss_master['minredchi2FSPS'] # Reduced chi-squared of best FSPS template fit\n",
    "})\n",
    "fpps_params.set_index('obj_id', inplace=True)\n",
    "\n",
    "# Galaxy Parameters Calculated with PÉGASE.2\n",
    "pegase_params = pd.DataFrame({\n",
    "    'obj_id' : sdss_master['CID'],\n",
    "    'logmass' : sdss_master['logMassPEGASE'], # PÉGASE.2 log(M), M=Galaxy Mass (M in units of Me) \n",
    "    'logmass_lo' : sdss_master['logMassloPEGASE'], # PÉGASE.2 Lower limit of uncertainty in log(M)\n",
    "    'logmass_hi' : sdss_master['logMasshiPEGASE'], # PÉGASE.2 Upper limit of uncertainty in log(SFR) \n",
    "    'logssfr' : sdss_master['logSFRPEGASE'], # PÉGASE.2 log(SFR) SFR=Galaxy star-forming rate (Me yr−1)\n",
    "    'logssfr_lo' : sdss_master['logSFRloPEGASE'], # PÉGASE.2 Lower limit of uncertainty in log(SFR)\n",
    "    'logssfr_hi' : sdss_master['logSFRhiPEGASE'], # PÉGASE.2 Upper limit of uncertainty in log(SFR)\n",
    "    'age' : sdss_master['agePEGASE'], # PÉGASE.2 galaxy age (Gyr)\n",
    "    'rchisq' : sdss_master['minchi2PEGASE']# Reduced chi-squared of best PÉGASE.2 fit\n",
    "})\n",
    "pegase_params.set_index('obj_id', inplace=True)\n"
   ]
  },
  {
   "cell_type": "markdown",
   "metadata": {},
   "source": [
    "Next we define a few plotting functions to help simplify our work later on."
   ]
  },
  {
   "cell_type": "code",
   "execution_count": 20,
   "metadata": {},
   "outputs": [],
   "source": [
    "def plot_host_property_distribution(col_name, bg_ids, normal_ids, *data_frames, **kwargs):\n",
    "    \"\"\"Plot histograms of host galaxy properties\n",
    "    \n",
    "    Args:\n",
    "    col_name     (str): The name of the value to plot\n",
    "    bg_ids     (Series): Object Ids of 91bg like SN\n",
    "    normal_ids (Series): Object Ids of normal SN\n",
    "    *data_frames (DataFrame): Data frames with host galaxy data\n",
    "\n",
    "    Returns:\n",
    "        A matplotlib figure\n",
    "        An array of matplotlib axes\n",
    "    \"\"\"\n",
    "    \n",
    "    fig, axes = plt.subplots(1, len(data_frames), sharex=True, sharey=True)\n",
    "    if len(data_frames) == 1:\n",
    "        axes = np.array([axes])\n",
    "    \n",
    "    for df, axis in zip(data_frames, axes.flatten()):\n",
    "        plot_data = df[col_name][df[col_name] > 0]\n",
    "        bg_data = plot_data.reindex(bg_ids).dropna()\n",
    "        normal_data = plot_data.reindex(normal_ids).dropna()\n",
    "        stat = stats.anderson_ksamp([bg_data, normal_data])\n",
    "        print(stat, '\\n')\n",
    "        \n",
    "        axis.hist(normal_data, label=f'Normal ({len(normal_data)})', density=True, **kwargs)\n",
    "        axis.hist(bg_data, fill=False, \n",
    "                  hatch='///', density=True, \n",
    "                  histtype='step', label=f'91bg ({len(bg_data)})',\n",
    "                  **kwargs)\n",
    "\n",
    "    axes[-1].legend()\n",
    "    plt.tight_layout()\n",
    "    return fig, axes\n",
    "        "
   ]
  },
  {
   "cell_type": "code",
   "execution_count": 21,
   "metadata": {},
   "outputs": [
    {
     "ename": "NameError",
     "evalue": "name 'stats' is not defined",
     "output_type": "error",
     "traceback": [
      "\u001b[0;31m---------------------------------------------------------------------------\u001b[0m",
      "\u001b[0;31mNameError\u001b[0m                                 Traceback (most recent call last)",
      "\u001b[0;32m<ipython-input-21-30c3f624167a>\u001b[0m in \u001b[0;36m<module>\u001b[0;34m\u001b[0m\n\u001b[1;32m      3\u001b[0m     \u001b[0mnormal\u001b[0m \u001b[0;34m=\u001b[0m \u001b[0mdf\u001b[0m\u001b[0;34m[\u001b[0m\u001b[0;34m(\u001b[0m\u001b[0mdf\u001b[0m\u001b[0;34m.\u001b[0m\u001b[0mx\u001b[0m \u001b[0;34m<\u001b[0m \u001b[0;36m0\u001b[0m\u001b[0;34m)\u001b[0m \u001b[0;34m&\u001b[0m \u001b[0;34m(\u001b[0m\u001b[0mdf\u001b[0m\u001b[0;34m.\u001b[0m\u001b[0my\u001b[0m \u001b[0;34m<\u001b[0m \u001b[0;36m0\u001b[0m\u001b[0;34m)\u001b[0m\u001b[0;34m]\u001b[0m\u001b[0;34m.\u001b[0m\u001b[0mindex\u001b[0m\u001b[0;34m\u001b[0m\u001b[0;34m\u001b[0m\u001b[0m\n\u001b[1;32m      4\u001b[0m \u001b[0;34m\u001b[0m\u001b[0m\n\u001b[0;32m----> 5\u001b[0;31m     \u001b[0mfig\u001b[0m\u001b[0;34m,\u001b[0m \u001b[0maxes\u001b[0m \u001b[0;34m=\u001b[0m \u001b[0mplot_host_property_distribution\u001b[0m\u001b[0;34m(\u001b[0m\u001b[0;34m'logmass'\u001b[0m\u001b[0;34m,\u001b[0m \u001b[0mbg_like\u001b[0m\u001b[0;34m,\u001b[0m \u001b[0mnormal\u001b[0m\u001b[0;34m,\u001b[0m \u001b[0mfpps_params\u001b[0m\u001b[0;34m,\u001b[0m \u001b[0mpegase_params\u001b[0m\u001b[0;34m)\u001b[0m\u001b[0;34m\u001b[0m\u001b[0;34m\u001b[0m\u001b[0m\n\u001b[0m\u001b[1;32m      6\u001b[0m     \u001b[0maxes\u001b[0m\u001b[0;34m[\u001b[0m\u001b[0;36m0\u001b[0m\u001b[0;34m]\u001b[0m\u001b[0;34m.\u001b[0m\u001b[0mset_title\u001b[0m\u001b[0;34m(\u001b[0m\u001b[0;34mf'FPPS'\u001b[0m\u001b[0;34m)\u001b[0m\u001b[0;34m\u001b[0m\u001b[0;34m\u001b[0m\u001b[0m\n\u001b[1;32m      7\u001b[0m     \u001b[0maxes\u001b[0m\u001b[0;34m[\u001b[0m\u001b[0;36m1\u001b[0m\u001b[0;34m]\u001b[0m\u001b[0;34m.\u001b[0m\u001b[0mset_title\u001b[0m\u001b[0;34m(\u001b[0m\u001b[0;34mf'PEGASE'\u001b[0m\u001b[0;34m)\u001b[0m\u001b[0;34m\u001b[0m\u001b[0;34m\u001b[0m\u001b[0m\n",
      "\u001b[0;32m<ipython-input-20-a66123f3dd5f>\u001b[0m in \u001b[0;36mplot_host_property_distribution\u001b[0;34m(col_name, bg_ids, normal_ids, *data_frames, **kwargs)\u001b[0m\n\u001b[1;32m     21\u001b[0m         \u001b[0mbg_data\u001b[0m \u001b[0;34m=\u001b[0m \u001b[0mplot_data\u001b[0m\u001b[0;34m.\u001b[0m\u001b[0mreindex\u001b[0m\u001b[0;34m(\u001b[0m\u001b[0mbg_ids\u001b[0m\u001b[0;34m)\u001b[0m\u001b[0;34m.\u001b[0m\u001b[0mdropna\u001b[0m\u001b[0;34m(\u001b[0m\u001b[0;34m)\u001b[0m\u001b[0;34m\u001b[0m\u001b[0;34m\u001b[0m\u001b[0m\n\u001b[1;32m     22\u001b[0m         \u001b[0mnormal_data\u001b[0m \u001b[0;34m=\u001b[0m \u001b[0mplot_data\u001b[0m\u001b[0;34m.\u001b[0m\u001b[0mreindex\u001b[0m\u001b[0;34m(\u001b[0m\u001b[0mnormal_ids\u001b[0m\u001b[0;34m)\u001b[0m\u001b[0;34m.\u001b[0m\u001b[0mdropna\u001b[0m\u001b[0;34m(\u001b[0m\u001b[0;34m)\u001b[0m\u001b[0;34m\u001b[0m\u001b[0;34m\u001b[0m\u001b[0m\n\u001b[0;32m---> 23\u001b[0;31m         \u001b[0mstat\u001b[0m \u001b[0;34m=\u001b[0m \u001b[0mstats\u001b[0m\u001b[0;34m.\u001b[0m\u001b[0manderson_ksamp\u001b[0m\u001b[0;34m(\u001b[0m\u001b[0;34m[\u001b[0m\u001b[0mbg_data\u001b[0m\u001b[0;34m,\u001b[0m \u001b[0mnormal_data\u001b[0m\u001b[0;34m]\u001b[0m\u001b[0;34m)\u001b[0m\u001b[0;34m\u001b[0m\u001b[0;34m\u001b[0m\u001b[0m\n\u001b[0m\u001b[1;32m     24\u001b[0m         \u001b[0mprint\u001b[0m\u001b[0;34m(\u001b[0m\u001b[0mstat\u001b[0m\u001b[0;34m,\u001b[0m \u001b[0;34m'\\n'\u001b[0m\u001b[0;34m)\u001b[0m\u001b[0;34m\u001b[0m\u001b[0;34m\u001b[0m\u001b[0m\n\u001b[1;32m     25\u001b[0m \u001b[0;34m\u001b[0m\u001b[0m\n",
      "\u001b[0;31mNameError\u001b[0m: name 'stats' is not defined"
     ]
    },
    {
     "data": {
      "image/png": "[encoded data removed]",
      "text/plain": [
       "<Figure size 432x288 with 2 Axes>"
      ]
     },
     "metadata": {
      "needs_background": "light"
     },
     "output_type": "display_data"
    }
   ],
   "source": [
    "for df, fitting_type in zip((band_class, collective_class), ('Band Fits', 'Collective Fits')):\n",
    "    bg_like = df[(df.x > 0) & (df.y > 0)].index\n",
    "    normal = df[(df.x < 0) & (df.y < 0)].index\n",
    "\n",
    "    fig, axes = plot_host_property_distribution('logmass', bg_like, normal, fpps_params, pegase_params) \n",
    "    axes[0].set_title(f'FPPS')\n",
    "    axes[1].set_title(f'PEGASE')\n",
    "    for axis in axes:\n",
    "        axis.set_xlabel(r'$\\log(M)$')\n",
    "\n",
    "    file_name = '_'.join(title.split()).lower() + '_mass.pdf'\n",
    "    plt.tight_layout()\n",
    "    plt.savefig(fig_dir / file_name)\n",
    "    \n",
    "    print(fitting_type)\n",
    "    plt.show()\n"
   ]
  },
  {
   "cell_type": "code",
   "execution_count": null,
   "metadata": {},
   "outputs": [],
   "source": [
    "for df, title in zip((band_class, collective_class), ('Band Fits', 'Collective Fits')):\n",
    "    bg_like = df[(df.x > 0) & (df.y > 0)].index\n",
    "    normal = df[(df.x < 0) & (df.y < 0)].index\n",
    "\n",
    "    fig, axes = plot_host_property_distribution('logssfr', bg_like, normal, pegase_params) \n",
    "    axes[0].set_title(f'PEGASE ({title})')\n",
    "    for axis in axes:\n",
    "        axis.set_xlabel(r'$\\log(SSFR)$')\n",
    "    \n",
    "    file_name = '_'.join(title.split()).lower() + '_ssfr.pdf'\n",
    "    plt.tight_layout()\n",
    "    plt.savefig(fig_dir / file_name)\n",
    "    plt.show()\n"
   ]
  },
  {
   "cell_type": "code",
   "execution_count": null,
   "metadata": {},
   "outputs": [],
   "source": [
    "for df, title in zip((band_class, collective_class), ('Band Fits', 'Collective Fits')):\n",
    "    fig, axes = plot_host_property_distribution(\n",
    "        'dist', bg_like, normal, host_photometry, bins = np.arange(0, 40)) \n",
    "\n",
    "    axes[0].set_xlabel('Distance (arcsec) ')\n",
    "    axes[0].set_title(f'Distance from SN to host (arcsec) ({title})')\n",
    "    \n",
    "    file_name = '_'.join(title.split()).lower() + '_distance.pdf'\n",
    "    plt.tight_layout()\n",
    "    plt.savefig(fig_dir / file_name)\n",
    "    plt.show()"
   ]
  },
  {
   "cell_type": "code",
   "execution_count": null,
   "metadata": {},
   "outputs": [],
   "source": []
  }
 ],
 "metadata": {
  "kernelspec": {
   "display_name": "Python [conda env:phot_class] *",
   "language": "python",
   "name": "conda-env-phot_class-py"
  },
  "language_info": {
   "codemirror_mode": {
    "name": "ipython",
    "version": 3
   },
   "file_extension": ".py",
   "mimetype": "text/x-python",
   "name": "python",
   "nbconvert_exporter": "python",
   "pygments_lexer": "ipython3",
   "version": "3.7.4"
  }
 },
 "nbformat": 4,
 "nbformat_minor": 2
}
