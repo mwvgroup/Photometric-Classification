{
 "cells": [
  {
   "cell_type": "markdown",
   "metadata": {},
   "source": [
    "# Fitting a Single SDSS Target\n",
    "\n",
    "This notebook exemplifies the fitting of a single SDSS target with the analysis pipeline and compares results to published values."
   ]
  },
  {
   "cell_type": "code",
   "execution_count": null,
   "metadata": {},
   "outputs": [],
   "source": [
    "import sys\n",
    "\n",
    "import numpy as np\n",
    "import sncosmo\n",
    "from astropy.table import Table\n",
    "from matplotlib import pyplot as plt\n",
    "\n",
    "sys.path.insert(0, '../')\n",
    "from analysis_pipeline.data_access import sdss\n",
    "from analysis_pipeline.lc_fitting import fit_lc\n"
   ]
  },
  {
   "cell_type": "markdown",
   "metadata": {},
   "source": [
    "## Notes on data handling\n",
    "\n",
    "For completeness, we note that the analysis pipeline automatically registers SDSS bandpasses from Doi et al. 2010. We use these filters when fitting SDSS light curves."
   ]
  },
  {
   "cell_type": "code",
   "execution_count": null,
   "metadata": {
    "scrolled": false
   },
   "outputs": [],
   "source": [
    "fig, axes = plt.subplots(1, 6, figsize=(24, 4))\n",
    "for i, axis in enumerate(axes):\n",
    "    for band in 'ugriz':\n",
    "        band = sncosmo.get_bandpass('91bg_proj_sdss_{}{}'.format(band, i + 1))\n",
    "        axis.plot(band.wave, band.trans)\n",
    "        axis.set_title('CCD Column {}'.format(i + 1))\n"
   ]
  },
  {
   "cell_type": "markdown",
   "metadata": {},
   "source": [
    "We also note that the published SDSS data set includes flags notating outlier data points. These observations are automatically removed when creating the input tables for SNCosmo. For example:"
   ]
  },
  {
   "cell_type": "code",
   "execution_count": null,
   "metadata": {
    "scrolled": false
   },
   "outputs": [],
   "source": [
    "outliers = sdss._data_access_funcs._get_outliers()\n",
    "example_data = list(outliers.items())[0]\n",
    "example_id = example_data[0]\n",
    "example_mjd_list = example_data[1]\n",
    "print('Example object ID:', example_id)\n",
    "print('Example list of bad MJD:', example_mjd_list)\n",
    "\n",
    "example_input_table = sdss.get_input_for_id(example_id)\n",
    "mjd_in_table = example_mjd_list[0] in example_input_table['time']\n",
    "print('Bad MJD in input table:', mjd_in_table)\n"
   ]
  },
  {
   "cell_type": "markdown",
   "metadata": {},
   "source": [
    "## Picking an example target\n",
    "\n",
    "For our demonstration, we specifically focus on targets that are spectroscopically confirmed SNe Ia. These can be isolated from the published SDSS data by selecting targets classified as `zSNIa`."
   ]
  },
  {
   "cell_type": "code",
   "execution_count": null,
   "metadata": {
    "scrolled": false
   },
   "outputs": [],
   "source": [
    "print('A sample of the SDSS published results for spectroscopically confirmed SNe Ia:')\n",
    "master_table_indices = sdss.master_table['Classification'] == 'zSNIa'\n",
    "spec_confirmed_sn = sdss.master_table[master_table_indices]\n",
    "spec_confirmed_sn[:5]\n"
   ]
  },
  {
   "cell_type": "markdown",
   "metadata": {},
   "source": [
    "Next, we pick an arbitrary object ID and retrieve the published values. "
   ]
  },
  {
   "cell_type": "code",
   "execution_count": null,
   "metadata": {},
   "outputs": [],
   "source": [
    "test_id = '932'\n",
    "published_values = spec_confirmed_sn[spec_confirmed_sn['CID'] == test_id][0]\n",
    "print('Example_id:', test_id)\n",
    "\n",
    "print('\\nPublished values:')\n",
    "print('  z: ', published_values['zCMB'])\n",
    "print('  t0:', published_values['MJDatPeakrmag'])\n",
    "print('  x0:', published_values['x0SALT2zspec'])\n",
    "print('  x1:', published_values['x1SALT2zspec'])\n",
    "print('  c: ', published_values['cSALT2zspec'])\n",
    "\n",
    "chisq_norm = published_values['chi2SALT2zspec'] / published_values['ndofSALT2zspec']\n",
    "print('  Normalized chi-squared:', chisq_norm)\n",
    "\n",
    "print('\\nThe lightcurve:')\n",
    "test_data = sdss.get_data_for_id(test_id)\n",
    "fig, axes = plt.subplots(1, 5, figsize=(15, 3))\n",
    "for i in range(5):\n",
    "    band_data = test_data[test_data['FILT'] == i]\n",
    "    axes[i].scatter(band_data['MJD'], band_data['MAG'])\n",
    "    axes[i].errorbar(band_data['MJD'], band_data['MAG'], yerr=band_data['MERR'], linestyle='')\n",
    "\n",
    "plt.show()\n",
    "\n",
    "print('\\nA subset of the data table:')\n",
    "test_data[:10]"
   ]
  },
  {
   "cell_type": "markdown",
   "metadata": {},
   "source": [
    "# Light curve fitting\n",
    "\n",
    "Using the data shown above, we fit the light curve and compare results against published values."
   ]
  },
  {
   "cell_type": "code",
   "execution_count": null,
   "metadata": {
    "scrolled": false
   },
   "outputs": [],
   "source": [
    "# Get an input table formatted for use with SNCosmo\n",
    "input_table = sdss.get_input_for_id(test_id)\n",
    "\n",
    "# Create a Salt2.0 model\n",
    "source = sncosmo.get_source('salt2', version='2.0')\n",
    "model = sncosmo.Model(source=source)\n",
    "model.set(z=input_table.meta['redshift'])\n",
    "\n",
    "# Run the fit\n",
    "pipeline_results = fit_lc(input_table, model, ['t0', 'x0', 'x1', 'c'], modelcov=True)\n",
    "print('\\nPipeline results:')\n",
    "print('  z: ', pipeline_results[0])\n",
    "print('  t0:', pipeline_results[1])\n",
    "print('  x0:', pipeline_results[2])\n",
    "print('  x1:', pipeline_results[3])\n",
    "print('  c: ', pipeline_results[4])\n",
    "print('  Normalized chi-squared:', pipeline_results[10] / pipeline_results[11])\n",
    "\n",
    "print('\\nPublished values:')\n",
    "print('  z: ', published_values['zCMB'])\n",
    "print('  t0:', published_values['MJDatPeakrmag'])\n",
    "print('  x0:', published_values['x0SALT2zspec'])\n",
    "print('  x1:', published_values['x1SALT2zspec'])\n",
    "print('  c: ', published_values['cSALT2zspec'])\n",
    "print('  Normalized chi-squared:', chisq_norm)\n"
   ]
  },
  {
   "cell_type": "markdown",
   "metadata": {},
   "source": [
    "It is import to also check that the results we receive from the pipeline are the same as those we would receive from running SNCosmo directly."
   ]
  },
  {
   "cell_type": "code",
   "execution_count": null,
   "metadata": {},
   "outputs": [],
   "source": [
    "sncosmo_result, fitted_model = sncosmo.fit_lc(\n",
    "    input_table, \n",
    "    model, ['t0', 'x0', 'x1', 'c'], \n",
    "    modelcov=True\n",
    ")\n",
    "\n",
    "print('\\nSNCosmo values:')\n",
    "print('  z: ', sncosmo_result.parameters[0])\n",
    "print('  t0:', sncosmo_result.parameters[1])\n",
    "print('  x0:', sncosmo_result.parameters[2])\n",
    "print('  x1:', sncosmo_result.parameters[3])\n",
    "print('  c: ', sncosmo_result.parameters[4])\n",
    "print('  Normalized chi-squared:',\n",
    "     sncosmo_result.chisq / sncosmo_result.ndof)\n",
    "\n",
    "sncosmo.plot_lc(input_table, model=fitted_model, errors=sncosmo_result.errors)\n",
    "plt.show()\n"
   ]
  },
  {
   "cell_type": "code",
   "execution_count": null,
   "metadata": {},
   "outputs": [],
   "source": []
  }
 ],
 "metadata": {
  "kernelspec": {
   "display_name": "Python [conda env:sdss_classification_3.7]",
   "language": "python",
   "name": "conda-env-sdss_classification_3.7-py"
  },
  "language_info": {
   "codemirror_mode": {
    "name": "ipython",
    "version": 3
   },
   "file_extension": ".py",
   "mimetype": "text/x-python",
   "name": "python",
   "nbconvert_exporter": "python",
   "pygments_lexer": "ipython3",
   "version": "3.7.1"
  }
 },
 "nbformat": 4,
 "nbformat_minor": 2
}
