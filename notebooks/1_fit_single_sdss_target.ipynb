{
 "cells": [
  {
   "cell_type": "code",
   "execution_count": null,
   "metadata": {},
   "outputs": [],
   "source": [
    "import sys\n",
    "\n",
    "import numpy as np\n",
    "import sncosmo\n",
    "from astropy.table import Table\n",
    "from matplotlib import pyplot as plt\n",
    "\n",
    "sys.path.insert(0, '../')\n",
    "from analysis_pipeline.data_access import sdss\n"
   ]
  },
  {
   "cell_type": "markdown",
   "metadata": {},
   "source": [
    "## Check filter transmission curves"
   ]
  },
  {
   "cell_type": "code",
   "execution_count": null,
   "metadata": {
    "scrolled": false
   },
   "outputs": [],
   "source": [
    "fig, axes = plt.subplots(1, 6, figsize=(24, 4))\n",
    "for i, axis in enumerate(axes):\n",
    "    for band in 'ugriz':\n",
    "        band = sncosmo.get_bandpass('91bg_proj_sdss_{}{}'.format(band, i + 1))\n",
    "        axis.plot(band.wave, band.trans)\n",
    "        axis.set_title('CCD Column {}'.format(i + 1))\n"
   ]
  },
  {
   "cell_type": "markdown",
   "metadata": {},
   "source": [
    "## Get outlier data points"
   ]
  },
  {
   "cell_type": "code",
   "execution_count": null,
   "metadata": {
    "scrolled": true
   },
   "outputs": [],
   "source": [
    "outliers = sdss._data_access_funcs._get_outliers()\n",
    "list(outliers.items())[:10]\n"
   ]
  },
  {
   "cell_type": "markdown",
   "metadata": {},
   "source": [
    "## Get SDSS published table of spectroscopically confirmed SNIa"
   ]
  },
  {
   "cell_type": "code",
   "execution_count": null,
   "metadata": {
    "scrolled": false
   },
   "outputs": [],
   "source": [
    "spec_confirmed_sn = sdss.master_table[sdss.master_table['Classification'] == 'zSNIa']\n",
    "spec_confirmed_sn[:10]\n"
   ]
  },
  {
   "cell_type": "markdown",
   "metadata": {},
   "source": [
    "## Pick an arbitrary target and look at the light curve"
   ]
  },
  {
   "cell_type": "code",
   "execution_count": null,
   "metadata": {
    "scrolled": false
   },
   "outputs": [],
   "source": [
    "test_id = 932\n",
    "\n",
    "# Get fit published values\n",
    "published_values = sdss.master_table[sdss.master_table['CID'] == test_id]\n",
    "x0 = published_values['x0SALT2zspec'][0]\n",
    "x1 = published_values['x1SALT2zspec'][0]\n",
    "c = published_values['cSALT2zspec'][0]\n",
    "chisq_norm = published_values['chi2SALT2zspec'][0] / published_values['ndofSALT2zspec'][0]\n",
    "peak_mjd = published_values['MJDatPeakrmag'][0]\n",
    "\n",
    "print('Published Values for CID {}:'.format(test_id))\n",
    "print('x0: ', x0)\n",
    "print('x1: ', x1)\n",
    "print('c: ', c)\n",
    "print('chisq: ', published_values['chi2SALT2zspec'][0])\n",
    "print('ndof: ', published_values['ndofSALT2zspec'][0])\n",
    "print('chisq_norm: ', chisq_norm)\n",
    "\n",
    "# Get sdss photometry data\n",
    "phot_data = sdss.get_data_for_id(test_id)\n",
    "\n",
    "fig, axes = plt.subplots(1, 5, figsize=(15, 3))\n",
    "for i in range(5):\n",
    "    band_data = phot_data[phot_data['FILT'] == i]\n",
    "    axes[i].scatter(band_data['MJD'], band_data['MAG'])\n",
    "    axes[i].errorbar(band_data['MJD'], band_data['MAG'], yerr=band_data['MERR'], linestyle='')\n",
    "\n",
    "plt.show()\n",
    "\n",
    "phot_data[:10]\n"
   ]
  },
  {
   "cell_type": "markdown",
   "metadata": {},
   "source": [
    "## Create an SNCosmo input table"
   ]
  },
  {
   "cell_type": "code",
   "execution_count": null,
   "metadata": {},
   "outputs": [],
   "source": [
    "@np.vectorize\n",
    "def band_name(filt, idccd):\n",
    "    \"\"\"Return the sncosmo band name given filter and CCD id\n",
    "    \n",
    "    Args:\n",
    "        filt  (str): Filter name <ugriz>\n",
    "        idccd (int): Column number 1 through 6\n",
    "    \n",
    "    Args:\n",
    "        The name of the filter registered with sncosmo\n",
    "    \"\"\"\n",
    "\n",
    "    return '91bg_proj_sdss_{}{}'.format('ugriz'[filt], idccd)\n"
   ]
  },
  {
   "cell_type": "code",
   "execution_count": null,
   "metadata": {
    "scrolled": false
   },
   "outputs": [],
   "source": [
    "input_table = Table()\n",
    "\n",
    "input_table.meta = phot_data.meta\n",
    "input_table['flag'] = phot_data['FLAG']\n",
    "input_table['time'] = phot_data['MJD']\n",
    "input_table['band'] = band_name(phot_data['FILT'], phot_data['IDCCD'])\n",
    "input_table['zp'] = np.full(len(phot_data), 2.5 * np.log10(3631))\n",
    "input_table['flux'] = phot_data['FLUX'] #* 1E-6\n",
    "input_table['fluxerr'] = phot_data['FLUXERR'] #* 1E-6\n",
    "input_table['zpsys'] = np.full(len(phot_data), 'ab')\n",
    "\n",
    "# Apply cuts described in Sako et al.\n",
    "input_table = input_table[input_table['flag'] < 1024]\n",
    "\n",
    "if test_id in outliers:\n",
    "    print('Wait you need to remove the outier data points!!!!!')\n",
    "\n",
    "input_table.show_in_notebook(display_length=10)\n"
   ]
  },
  {
   "cell_type": "markdown",
   "metadata": {},
   "source": [
    "## Run fit"
   ]
  },
  {
   "cell_type": "code",
   "execution_count": null,
   "metadata": {
    "scrolled": false
   },
   "outputs": [],
   "source": [
    "print('\\n\\nFitting for all terms except z:')\n",
    "source = sncosmo.get_source('salt2', version='2.0')\n",
    "model = sncosmo.Model(source=source)\n",
    "model.set(z=input_table.meta['redshift'])\n",
    "\n",
    "result, fitted_model = sncosmo.fit_lc(\n",
    "    input_table, \n",
    "    model, ['t0', 'x0', 'x1', 'c'], \n",
    "    bounds=None,\n",
    "    modelcov=True,\n",
    "    phase_range=[-15, 45],\n",
    "    minsnr=5,\n",
    "    warn=False\n",
    ")\n",
    "\n",
    "\n",
    "result['chi2_norm'] = (result.chisq / result.ndof)\n",
    "sncosmo.plot_lc(input_table, model=fitted_model, errors=result.errors)\n",
    "plt.show()\n",
    "print(result)\n",
    "\n"
   ]
  },
  {
   "cell_type": "code",
   "execution_count": null,
   "metadata": {},
   "outputs": [],
   "source": []
  }
 ],
 "metadata": {
  "kernelspec": {
   "display_name": "Python [conda env:sdss_classification_3.7]",
   "language": "python",
   "name": "conda-env-sdss_classification_3.7-py"
  },
  "language_info": {
   "codemirror_mode": {
    "name": "ipython",
    "version": 3
   },
   "file_extension": ".py",
   "mimetype": "text/x-python",
   "name": "python",
   "nbconvert_exporter": "python",
   "pygments_lexer": "ipython3",
   "version": "3.7.1"
  }
 },
 "nbformat": 4,
 "nbformat_minor": 2
}
