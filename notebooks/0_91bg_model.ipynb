{
 "cells": [
  {
   "cell_type": "markdown",
   "metadata": {},
   "source": [
    "# SN 1991bg Model\n",
    "\n",
    "This notebook explores the 91bg model we have ported into SNCosmo."
   ]
  },
  {
   "cell_type": "code",
   "execution_count": null,
   "metadata": {},
   "outputs": [],
   "source": [
    "import os\n",
    "import sys\n",
    "\n",
    "import matplotlib.pyplot as plt\n",
    "import numpy as np\n",
    "import sncosmo\n",
    "from astropy.table import Table\n",
    "\n",
    "sys.path.insert(0, '../')\n",
    "import snana_read as snread\n",
    "from analysis_pipeline import SN91bgSource\n",
    "\n",
    "print('Model Summary:')\n",
    "print(SN91bgSource())\n"
   ]
  },
  {
   "cell_type": "code",
   "execution_count": null,
   "metadata": {},
   "outputs": [],
   "source": [
    "# read raw SNANA data and transfer to SNcosmo format\n",
    "lc_dir = '../snana_sims/snana_results/'\n",
    "snc_fmt_dir = os.path.join(lc_dir, 'sncosmo_fmt')\n",
    "if not os.path.exists(snc_fmt_dir):\n",
    "    os.mkdir(snc_fmt_dir)\n",
    "\n",
    "outpath = os.path.join(lc_dir, 'sncosmo_fmt')\n",
    "snread.write_lc(1000, lc_dir, outpath)\n"
   ]
  },
  {
   "cell_type": "markdown",
   "metadata": {},
   "source": [
    "91bg"
   ]
  },
  {
   "cell_type": "code",
   "execution_count": null,
   "metadata": {
    "scrolled": false
   },
   "outputs": [],
   "source": [
    "cid = 31\n",
    "data = Table.read('../snana_sims/snana_results/sncosmo_fmt/sn91bg_{:05d}.csv'.format(cid))\n",
    "meta = Table.read('../snana_sims/snana_results/sncosmo_fmt/meta.csv')\n",
    "for par in ['cid', 'z', 't0', 'x1', 'c']:\n",
    "    data.meta[par] = meta[par][cid - 1]\n",
    "\n",
    "model = sncosmo.Model(source=SN91bgSource())\n",
    "model.set(z=0.1)\n",
    "result, fitted_model = sncosmo.fit_lc(\n",
    "    data=data,\n",
    "    model=model,\n",
    "    vparam_names=['z', 't0', 'x0', 'x1', 'c'],\n",
    "    bounds={'z': (0.01, 0.45), 'x1': (0.65, 1.25), 'c': (0, 1)},\n",
    "    guess_z=False)\n",
    "\n",
    "sncosmo.plot_lc(data, model=fitted_model, errors=result.errors)\n",
    "print('reduced chi^2:', result.chisq / result.ndof)\n",
    "print('sim_z:', data.meta['z'])\n",
    "print('sim_t0:', data.meta['t0'])\n",
    "print('sim_stretch:', data.meta['x1'])\n",
    "print('sim_color:', data.meta['c'])\n"
   ]
  },
  {
   "cell_type": "markdown",
   "metadata": {},
   "source": [
    "Fitting with fixed simulation results"
   ]
  },
  {
   "cell_type": "code",
   "execution_count": null,
   "metadata": {},
   "outputs": [],
   "source": [
    "model.set(z=data.meta['z'], x1=data.meta['x1'], c=data.meta['c'])\n",
    "result, fitted_model = sncosmo.fit_lc(\n",
    "    data=data,\n",
    "    model=model,\n",
    "    vparam_names=['t0', 'x0'],\n",
    "    bounds=None)\n",
    "\n",
    "sncosmo.plot_lc(data, model=fitted_model, errors=result.errors)\n",
    "print('reduced chi^2:', result.chisq / result.ndof)\n",
    "print('sim_z:', data.meta['z'])\n",
    "print('sim_t0:', data.meta['t0'])\n",
    "print('sim_stretch:', data.meta['x1'])\n",
    "print('sim_color:', data.meta['c'])\n"
   ]
  },
  {
   "cell_type": "markdown",
   "metadata": {},
   "source": [
    "# Output all fitting results"
   ]
  },
  {
   "cell_type": "code",
   "execution_count": null,
   "metadata": {},
   "outputs": [],
   "source": [
    "def fit_all(num, mod, band):\n",
    "    \"\"\"\n",
    "    Run lc-fit for a series of SNe with both salt2 and \n",
    "    sn91bg model, output all the fitting results\n",
    "    \n",
    "    Args:\n",
    "        num  (int): how many SN to fit\n",
    "        mod  (str): Which model to use\n",
    "        band (str): Which bands to fit, 'riz' for red, \n",
    "                      'ug' for blue and other strings for all\n",
    "    \"\"\"\n",
    "\n",
    "    lc = range(num)\n",
    "    sim_st = []\n",
    "    sim_c = []\n",
    "    sim_z = []\n",
    "    fit_z = []\n",
    "    fit_zerr = []\n",
    "    fit_st = []\n",
    "    fit_sterr = []\n",
    "    fit_c = []\n",
    "    fit_cerr = []\n",
    "    chisq = []\n",
    "    redchisq = []\n",
    "    cid = []\n",
    "    if mod == '91bg':\n",
    "        model = sncosmo.Model(source=SN91bgSource())\n",
    "\n",
    "    if mod == 'salt2':\n",
    "        model = sncosmo.Model(source='salt2')\n",
    "\n",
    "    for i in lc:\n",
    "        try:\n",
    "            meta = Table.read('../snana_sims/snana_results/sncosmo_fmt/meta.csv')\n",
    "            table = Table.read(f'../snana_sims/snana_results/sncosmo_fmt/sn91bg_{i + 1:05d}.csv')\n",
    "\n",
    "            #assert(len(table)/5.0>20)\n",
    "            for par in ['z', 't0', 'x1', 'c']:\n",
    "                table.meta[par] = meta[par][i]\n",
    "\n",
    "            if band == 'ug':\n",
    "                mask = (table['band'] == 'sdssu' + table['band'] == 'sdssg')\n",
    "                data = table[mask]\n",
    "\n",
    "            elif band == 'riz':\n",
    "                mask = (table['band'] == 'sdssr' + table['band'] == 'sdssi' +\n",
    "                        table['band'] == 'sdssz')\n",
    "                data = table[mask]\n",
    "            else:\n",
    "                data = table\n",
    "            #model.set(z=0.1) # flat prior for redshift, default is middle point of z bounds\n",
    "            result, fitted_model = sncosmo.fit_lc(\n",
    "                data=data, \n",
    "                model=model,\n",
    "                vparam_names=['z', 't0', 'x0', 'x1', 'c'],\n",
    "                bounds={'z': (0.01, 0.45), 'x1': (0.65, 1.25), 'c': (0., 1.)})\n",
    "            \n",
    "            sim_st.append(data.meta['x1'])\n",
    "            sim_c.append(data.meta['c'])\n",
    "            sim_z.append(data.meta['z'])\n",
    "            fit_st.append(round(result.parameters[3], 6))\n",
    "            fit_sterr.append(round(result.errors['x1'], 6))\n",
    "            fit_c.append(round(result.parameters[4], 6))\n",
    "            fit_cerr.append(round(result.errors['c'], 6))\n",
    "            fit_z.append(round(result.parameters[0], 6))\n",
    "            fit_zerr.append(round(result.errors['z'], 6))\n",
    "            chisq.append(round(result.chisq, 5))\n",
    "            redchisq.append(round(result.chisq / result.ndof, 5))\n",
    "            cid.append(i + 1)\n",
    "            \n",
    "        except:\n",
    "            continue\n",
    "            \n",
    "    result = Table(\n",
    "        data=[cid, sim_z, fit_z, fit_zerr, sim_st, fit_st, fit_sterr,\n",
    "              sim_c, fit_c, fit_cerr, chisq, redchisq],\n",
    "        names=['cid', 'sim_z', 'fit_z', 'fit_zerr', 'sim_st', 'fit_st',\n",
    "               'fit_sterr', 'sim_c', 'fit_c', 'fit_cerr', 'chi^2', 'redchi^2'])\n",
    "\n",
    "    return result\n"
   ]
  },
  {
   "cell_type": "code",
   "execution_count": null,
   "metadata": {},
   "outputs": [],
   "source": [
    "data = fit_all(100, '91bg', 'all')\n",
    "#fit_all(1000,'91bg','ug')\n",
    "#fit_all(1000,'91bg','riz')\n",
    "\n",
    "data\n"
   ]
  },
  {
   "cell_type": "markdown",
   "metadata": {},
   "source": [
    "# Comparison of simulated and fitted parameters"
   ]
  },
  {
   "cell_type": "code",
   "execution_count": null,
   "metadata": {},
   "outputs": [],
   "source": [
    "fig = plt.figure(figsize=(6, 6))\n",
    "ax = fig.add_axes((0, 0, 0.78, 0.78))\n",
    "ax1 = fig.add_axes((0, 0.8, 0.78, 0.2))\n",
    "ax2 = fig.add_axes((0.8, 0, 0.2, 0.78))\n",
    "ax.scatter(data['sim_st'], data['fit_st'], s=5)\n",
    "#ax.errorbar(data['sim_st'],data['fit_st'],yerr=data['fit_sterr'],fmt='.',elinewidth=1)\n",
    "x_range = (0.5, 1.4)\n",
    "y_range = (0.5, 1.4)\n",
    "ax1.hist(data['sim_st'], bins=15, range=x_range)\n",
    "ax2.hist(data['fit_st'], bins=15, range=y_range, orientation='horizontal')\n",
    "ax1.set_xticklabels([])\n",
    "ax2.set_yticklabels([])\n",
    "ax.set_xlabel('stretch (sim)', fontsize=15, fontweight='light')\n",
    "ax.set_ylabel('stretch (fit)', fontsize=15, fontweight='light')\n",
    "ax.plot(np.arange(0., 2., 0.1), np.arange(0., 2., 0.1), 'k-.', linewidth=1)\n",
    "ax.set_xlim(x_range)\n",
    "ax.set_ylim(y_range)\n"
   ]
  },
  {
   "cell_type": "code",
   "execution_count": null,
   "metadata": {},
   "outputs": [],
   "source": [
    "fig = plt.figure(figsize=(6, 6))\n",
    "ax = fig.add_axes((0, 0, 0.78, 0.78))\n",
    "ax1 = fig.add_axes((0, 0.8, 0.78, 0.2))\n",
    "ax2 = fig.add_axes((0.8, 0, 0.2, 0.78))\n",
    "ax.scatter(data['sim_c'], data['fit_c'], s=5)\n",
    "#ax.errorbar(data['sim_c'],data['fit_c'],yerr=data['fit_cerr'],fmt='.',elinewidth=1)\n",
    "x_range = (-0.1, 1.1)\n",
    "y_range = (-0.1, 1.1)\n",
    "ax1.hist(data['sim_c'], bins=20, range=x_range)\n",
    "ax2.hist(data['fit_c'], bins=20, orientation='horizontal', range=y_range)\n",
    "ax1.set_xticklabels([])\n",
    "ax2.set_yticklabels([])\n",
    "ax.set_xlabel('color (sim)', fontsize=15, fontweight='light')\n",
    "ax.set_ylabel('color (fit)', fontsize=15, fontweight='light')\n",
    "ax.plot(np.arange(-0.5, 1.2, 0.1), np.arange(-0.5, 1.2, 0.1), 'k-.',\n",
    "        linewidth=1)\n",
    "ax.set_xlim(x_range)\n",
    "ax.set_ylim(y_range)\n"
   ]
  },
  {
   "cell_type": "code",
   "execution_count": null,
   "metadata": {
    "scrolled": false
   },
   "outputs": [],
   "source": [
    "fig = plt.figure(figsize=(6, 6))\n",
    "ax = fig.add_axes((0, 0, 0.78, 0.78))\n",
    "ax1 = fig.add_axes((0, 0.8, 0.78, 0.2))\n",
    "ax2 = fig.add_axes((0.8, 0, 0.2, 0.78))\n",
    "ax.scatter(data['sim_z'], data['fit_z'], s=5)\n",
    "x_range = (0, 0.35)\n",
    "y_range = (0, 0.35)\n",
    "ax1.hist(data['sim_z'], bins=15, range=x_range)\n",
    "ax2.hist(data['fit_z'], bins=15, range=y_range, orientation='horizontal')\n",
    "ax1.set_xticklabels([])\n",
    "ax2.set_yticklabels([])\n",
    "ax.set_xlabel('z (sim)', fontsize=15, fontweight='light')\n",
    "ax.set_ylabel('z (fit)', fontsize=15, fontweight='light')\n",
    "ax.plot(np.arange(0, 1, 0.1), np.arange(0, 1, 0.1), 'k-.', linewidth=1)\n",
    "ax.set_xlim(x_range)\n",
    "ax.set_ylim(y_range)\n"
   ]
  },
  {
   "cell_type": "code",
   "execution_count": null,
   "metadata": {},
   "outputs": [],
   "source": [
    "fig=plt.figure(figsize=(6,6))\n",
    "ax=fig.add_axes((0,0,0.78,0.78))\n",
    "ax1=fig.add_axes((0,0.8,0.78,0.2))\n",
    "ax2=fig.add_axes((0.8,0,0.2,0.78))\n",
    "ax.scatter(data['sim_st'],data['sim_c'],s=3)\n",
    "ax1.hist(data['sim_st'],bins=20,range=(0.6,1.3))\n",
    "ax2.hist(data['sim_c'],bins=20,orientation='horizontal',range=(0,1))\n",
    "ax1.set_xticklabels([])\n",
    "ax2.set_yticklabels([])\n",
    "ax.set_xlabel('stretch (sim)',fontsize=15,fontweight='light')\n",
    "ax.set_ylabel('color (sim)',fontsize=15,fontweight='light')\n",
    "ax.set_xlim(0.6,1.3)\n",
    "ax.set_ylim(0,1)\n",
    "ax1.set_title('SNANA simulation',size=15)"
   ]
  },
  {
   "cell_type": "code",
   "execution_count": null,
   "metadata": {},
   "outputs": [],
   "source": [
    "fig = plt.figure(figsize=(6, 6))\n",
    "ax = fig.add_axes((0, 0, 0.78, 0.78))\n",
    "ax1 = fig.add_axes((0, 0.8, 0.78, 0.2))\n",
    "ax2 = fig.add_axes((0.8, 0, 0.2, 0.78))\n",
    "ax.scatter(data['fit_st'], data['fit_c'], s=5)\n",
    "x_range = (0.6, 1.3)\n",
    "y_range = (0, 1.)\n",
    "ax1.hist(data['fit_st'], bins=20, range=x_range)\n",
    "ax2.hist(data['fit_c'], bins=20, orientation='horizontal', range=y_range)\n",
    "ax1.set_xticklabels([])\n",
    "ax2.set_yticklabels([])\n",
    "ax.set_xlabel('stretch (fit)', fontsize=15, fontweight='light')\n",
    "ax.set_ylabel('color (fit)', fontsize=15, fontweight='light')\n",
    "ax.set_xlim(x_range)\n",
    "ax.set_ylim(y_range)\n",
    "ax1.set_title('fitted by model_1', size=15)\n"
   ]
  },
  {
   "cell_type": "code",
   "execution_count": null,
   "metadata": {},
   "outputs": [],
   "source": []
  }
 ],
 "metadata": {
  "kernelspec": {
   "display_name": "Python [conda env:sdss_class] *",
   "language": "python",
   "name": "conda-env-sdss_class-py"
  },
  "language_info": {
   "codemirror_mode": {
    "name": "ipython",
    "version": 3
   },
   "file_extension": ".py",
   "mimetype": "text/x-python",
   "name": "python",
   "nbconvert_exporter": "python",
   "pygments_lexer": "ipython3",
   "version": "3.7.3"
  }
 },
 "nbformat": 4,
 "nbformat_minor": 2
}
