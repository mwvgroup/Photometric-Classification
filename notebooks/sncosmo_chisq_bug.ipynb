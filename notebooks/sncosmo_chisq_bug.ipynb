{
 "cells": [
  {
   "cell_type": "markdown",
   "metadata": {},
   "source": [
    "# SNCosmo Chi-Squared Bug\n",
    "\n",
    "This notebook identifies a bug in `sncosmo` where returned chi-squared values are much larger than expected. This behavior arises from the fact that the `sncosmo` chi-squared calculation will incorporate values that fall outside the range of the model. We outline a workaround for this bug and ensure that the chi-squared calculation in our pipeline does not suffer from the same problem.\n",
    "\n",
    "#### Table of Contents:\n",
    "1. <a href='#outlining_behavior'>Outlining sncosmo's Behavior </a>: Outlines the bug mentioned above\n",
    "1. <a href='#sn91bg'>Fitting with the SN91bg Model</a>: Checks our handling of this bug in our analysis is compatible with the SN91bg model we use.\n",
    "1. <a href='#out_of_range'>Out of Range Bands</a>: Demonstrates why out of range wavelengths are not a problem even though out of range phases are.\n"
   ]
  },
  {
   "cell_type": "code",
   "execution_count": 1,
   "metadata": {},
   "outputs": [],
   "source": [
    "import sys\n",
    "\n",
    "import numpy as np\n",
    "import sncosmo\n",
    "from astropy.table import Table\n",
    "from matplotlib import pyplot as plt\n",
    "from sndata.csp import dr3\n",
    "\n",
    "sys.path.insert(0, '../')\n",
    "from phot_class import utils\n",
    "from phot_class import models\n",
    "from phot_class.fit_funcs import simple_fit\n",
    "\n",
    "models.register_sources(force=True)\n",
    "dr3.download_module_data()\n",
    "dr3.register_filters(force=True)\n"
   ]
  },
  {
   "cell_type": "markdown",
   "metadata": {},
   "source": [
    "## Outlining `sncosmo`'s Behavior  <a id='outlining_behavior'></a>\n",
    "\n",
    "We start by fitting a light curve with Salt2 and visually inspecting the result. Using the fitted model, we then tabulate the modeled flux value at each observed epoch. Note that we are using the `simple_fit` function from our analysis pipeline, which is a wrapper for `sncosmo.fit_lc`. We do this to avoid a separate bug where `sncosmo.fit_lc` mutates its arguments.\"\n"
   ]
  },
  {
   "cell_type": "code",
   "execution_count": null,
   "metadata": {},
   "outputs": [],
   "source": [
    "test_id = '2005ke'\n",
    "data = dr3.get_data_for_id(test_id, format_sncosmo=True)\n",
    "\n",
    "# Remove bands outside our models wavelength range\n",
    "# Failing to do this will raise an error when fitting\n",
    "# We will consider how this effects chi-squared in a later section\n",
    "data = data[data['band'] != 'csp_dr3_Y']\n",
    "data = data[data['band'] != 'csp_dr3_Ydw']\n",
    "data = data[data['band'] != 'csp_dr3_J']\n",
    "data = data[data['band'] != 'csp_dr3_H']\n",
    "\n",
    "salt2 = sncosmo.Model('salt2')\n",
    "salt2.set(z=data.meta['redshift'])\n",
    "\n",
    "result, fitted_model = simple_fit(data, salt2, ['t0', 'x0', 'x1', 'c'])\n",
    "sncosmo.plot_lc(data, fitted_model)\n"
   ]
  },
  {
   "cell_type": "markdown",
   "metadata": {},
   "source": [
    "Note in the above figure that the flux drops to zero at 50 days. This occurs because the range of the salt2 model only extends to 50 days. We can see this behavior when tabulating the modeled flux values."
   ]
  },
  {
   "cell_type": "code",
   "execution_count": null,
   "metadata": {},
   "outputs": [],
   "source": [
    "data['model_flux'] = fitted_model.bandflux(data['band'], data['time'])\n",
    "\n",
    "# Show data past a phase of 50 days\n",
    "t0 = fitted_model.parameters[1]\n",
    "data[data['time'] - t0 >= 50]"
   ]
  },
  {
   "cell_type": "markdown",
   "metadata": {},
   "source": [
    "Keeping the above table in mind, we calculate the chi-squared value in four different ways:\n",
    "\n",
    "1. We manually calculate the chi-squared the entire data table (including phases > 50 days)\n",
    "1. We manually calculate the chi-squared using only data where the modeled flux > 0\n",
    "1. Using the `sncosmo.chisq` function\n",
    "1. Using the `utils.calc_model_chisq` function from our analysis pipeline\n",
    "\n",
    "We will see that the first and third calculation are (almost) the same, indicating `sncosmo` does not take into account the model range when calculating chi-squared. We will also see that the second and fourth values are also close, meaning our analysis pipeline does not suffer from the same bug."
   ]
  },
  {
   "cell_type": "code",
   "execution_count": null,
   "metadata": {},
   "outputs": [],
   "source": [
    "positive_model_flux = data['model_flux'] > 0\n",
    "bounded_data = data[positive_model_flux]\n",
    "\n",
    "naive_chisq = sum(((data['flux'] - data['model_flux']) / data['fluxerr']) ** 2)\n",
    "bounded_chisq = sum(((bounded_data['flux'] - bounded_data['model_flux']) / bounded_data['fluxerr']) ** 2)\n",
    "sncosmo_chisq = sncosmo.chisq(data, fitted_model)\n",
    "pipeline_chisq, pipeline_dof = utils.calc_model_chisq(data, result, fitted_model)\n",
    "\n",
    "print('naive_chisq   :', naive_chisq)\n",
    "print('bounded_chisq :', bounded_chisq)\n",
    "print('sncosmo_chisq :', sncosmo_chisq)\n",
    "print('pipeline_chisq:', pipeline_chisq)\n"
   ]
  },
  {
   "cell_type": "markdown",
   "metadata": {},
   "source": [
    "## Fitting with the SN91bg model  <a id='sn91bg'></a>\n",
    "\n",
    "In addressing the above bug, we rely on the modeled flux being zero outside the range of the model. We quickly check this is a valid assumption for our custom 91bg model."
   ]
  },
  {
   "cell_type": "code",
   "execution_count": null,
   "metadata": {},
   "outputs": [],
   "source": [
    "bg_id = '2005ke'\n",
    "bg_data = dr3.get_data_for_id(bg_id, format_sncosmo=True)\n",
    "bg_data = bg_data[bg_data['band'] != 'csp_dr3_Y']\n",
    "bg_data = bg_data[bg_data['band'] != 'csp_dr3_Ydw']\n",
    "bg_data = bg_data[bg_data['band'] != 'csp_dr3_J']\n",
    "bg_data = bg_data[bg_data['band'] != 'csp_dr3_H']\n",
    "\n",
    "sn91bg = sncosmo.Model('sn91bg')\n",
    "sn91bg.set(z=bg_data.meta['redshift'])\n",
    "bg_result, bg_fit = simple_fit(bg_data, sn91bg, ['t0', 'x0', 'x1', 'c'])\n",
    "sncosmo.plot_lc(bg_data, bg_fit)\n"
   ]
  },
  {
   "cell_type": "markdown",
   "metadata": {},
   "source": [
    "We can see in the above plot a visual drop in the modeled flux to zero at 50 days. This means our handling of the chi-squared bug will work for our custom 91bg model. We also calculate the chi-squared values below and note that our fit with the 91bg model performs better than with the salt2 model. This is good news since the target we are using is a 91bg!"
   ]
  },
  {
   "cell_type": "code",
   "execution_count": null,
   "metadata": {},
   "outputs": [],
   "source": [
    "bg_data['model_flux'] = bg_fit.bandflux(bg_data['band'], bg_data['time'])\n",
    "bounded_bg_data = bg_data[bg_data['model_flux'] > 0]\n",
    "\n",
    "naive_bg_chisq = sum(((bg_data['flux'] - bg_data['model_flux']) / bg_data['fluxerr']) ** 2)\n",
    "bounded_bg_chisq = sum(((bounded_bg_data['flux'] - bounded_bg_data['model_flux']) / bounded_bg_data['fluxerr']) ** 2)\n",
    "sncosmo_bg_chisq = sncosmo.chisq(bg_data, bg_fit)\n",
    "pipeline_bg_chisq, pipeline_dof = utils.calc_model_chisq(bg_data, bg_result, bg_fit)\n",
    "\n",
    "print('naive_chisq   :', naive_bg_chisq)\n",
    "print('bounded_chisq :', bounded_bg_chisq)\n",
    "print('sncosmo_chisq :', sncosmo_bg_chisq)\n",
    "print('pipeline_chisq:', pipeline_bg_chisq)\n"
   ]
  },
  {
   "cell_type": "markdown",
   "metadata": {},
   "source": [
    "## Out of Range Bands <a id='out_of_range'></a>\n",
    "\n",
    "We have seen above that the limited phase range of a model effects the chi-squared significantly. However, the same is not true for observations in a bandpass that is outside the model's wavelength range, since an error is raised. We demonstrate this below:\n"
   ]
  },
  {
   "cell_type": "code",
   "execution_count": null,
   "metadata": {},
   "outputs": [],
   "source": [
    "all_data = dr3.get_data_for_id('2005kc', format_sncosmo=True)\n",
    "\n",
    "# Get data that is within the model range\n",
    "out_of_range_bands = ['csp_dr3_Y', 'csp_dr3_Ydw', 'csp_dr3_J', 'csp_dr3_H']\n",
    "is_out_range = np.any([all_data['band'] == b for b in out_of_range_bands], axis=0)\n",
    "in_range_data = all_data[~is_out_range]\n",
    "\n",
    "salt2 = sncosmo.Model('salt2')\n",
    "salt2.set(z=data.meta['redshift'])\n",
    "\n",
    "# Fit using just the in range data\n",
    "result, fit = simple_fit(in_range_data, salt2, ['t0', 'x0', 'x1', 'c'])\n",
    "in_range_chisq = sncosmo.chisq(in_range_data, fit)\n",
    "all_chisq = sncosmo.chisq(all_data, fit)\n"
   ]
  },
  {
   "cell_type": "code",
   "execution_count": 25,
   "metadata": {},
   "outputs": [],
   "source": [
    "model = sncosmo.Model('salt2')\n",
    "t0 = model.parameters[1]\n",
    "zp_system = 'ab'\n",
    "zero_point = 25\n",
    "band_name = 'sdssg'\n",
    "flux_offset = 100\n",
    "flux_err_coeff = .1\n",
    "\n",
    "phase = np.arange(-10, 30) + t0\n",
    "model_flux = model.bandflux(band_name, phase, zero_point, zp_system) \n",
    "flux = model_flux + flux_offset\n",
    "flux_err = flux * flux_err_coeff\n",
    "band = np.full(len(phase), band_name)\n",
    "zpsys = np.full(len(phase), zp_system)\n",
    "zp = np.full(len(phase), zero_point)\n",
    "\n",
    "data = Table(\n",
    "    [phase, band, flux, flux_err, zp, zpsys],\n",
    "    names=['time', 'band', 'flux', 'fluxerr', 'zp', 'zpsys']\n",
    ")\n",
    "result = sncosmo.utils.Result(\n",
    "    {'vparam_names': ['t0', 'x0', 'x1', 'c']})\n"
   ]
  },
  {
   "cell_type": "code",
   "execution_count": 26,
   "metadata": {},
   "outputs": [
    {
     "data": {
      "text/html": [
       "<i>Table length=40</i>\n",
       "<table id=\"table4964670480\" class=\"table-striped table-bordered table-condensed\">\n",
       "<thead><tr><th>time</th><th>band</th><th>flux</th><th>fluxerr</th><th>zp</th><th>zpsys</th></tr></thead>\n",
       "<thead><tr><th>float64</th><th>str5</th><th>float64</th><th>float64</th><th>int64</th><th>str2</th></tr></thead>\n",
       "<tr><td>-10.0</td><td>sdssg</td><td>252700.5215313203</td><td>25270.05215313203</td><td>25</td><td>ab</td></tr>\n",
       "<tr><td>-9.0</td><td>sdssg</td><td>306512.20076980506</td><td>30651.220076980506</td><td>25</td><td>ab</td></tr>\n",
       "<tr><td>-8.0</td><td>sdssg</td><td>364897.5753339071</td><td>36489.75753339071</td><td>25</td><td>ab</td></tr>\n",
       "<tr><td>-7.0</td><td>sdssg</td><td>420500.3139591927</td><td>42050.03139591927</td><td>25</td><td>ab</td></tr>\n",
       "<tr><td>-6.0</td><td>sdssg</td><td>469418.09053297486</td><td>46941.80905329749</td><td>25</td><td>ab</td></tr>\n",
       "<tr><td>-5.0</td><td>sdssg</td><td>511037.3156453642</td><td>51103.73156453642</td><td>25</td><td>ab</td></tr>\n",
       "<tr><td>-4.0</td><td>sdssg</td><td>544407.7945448775</td><td>54440.779454487754</td><td>25</td><td>ab</td></tr>\n",
       "<tr><td>-3.0</td><td>sdssg</td><td>569650.9774658966</td><td>56965.097746589665</td><td>25</td><td>ab</td></tr>\n",
       "<tr><td>-2.0</td><td>sdssg</td><td>587865.4809583761</td><td>58786.548095837614</td><td>25</td><td>ab</td></tr>\n",
       "<tr><td>-1.0</td><td>sdssg</td><td>598212.86782432</td><td>59821.286782432</td><td>25</td><td>ab</td></tr>\n",
       "<tr><td>...</td><td>...</td><td>...</td><td>...</td><td>...</td><td>...</td></tr>\n",
       "<tr><td>20.0</td><td>sdssg</td><td>165735.2081021288</td><td>16573.520810212878</td><td>25</td><td>ab</td></tr>\n",
       "<tr><td>21.0</td><td>sdssg</td><td>151752.713726483</td><td>15175.2713726483</td><td>25</td><td>ab</td></tr>\n",
       "<tr><td>22.0</td><td>sdssg</td><td>139227.75990124358</td><td>13922.775990124359</td><td>25</td><td>ab</td></tr>\n",
       "<tr><td>23.0</td><td>sdssg</td><td>127993.63634759352</td><td>12799.363634759353</td><td>25</td><td>ab</td></tr>\n",
       "<tr><td>24.0</td><td>sdssg</td><td>118045.92517860806</td><td>11804.592517860807</td><td>25</td><td>ab</td></tr>\n",
       "<tr><td>25.0</td><td>sdssg</td><td>109313.86205083372</td><td>10931.386205083372</td><td>25</td><td>ab</td></tr>\n",
       "<tr><td>26.0</td><td>sdssg</td><td>101627.8741264225</td><td>10162.78741264225</td><td>25</td><td>ab</td></tr>\n",
       "<tr><td>27.0</td><td>sdssg</td><td>94756.72323936221</td><td>9475.672323936222</td><td>25</td><td>ab</td></tr>\n",
       "<tr><td>28.0</td><td>sdssg</td><td>88596.5095137198</td><td>8859.65095137198</td><td>25</td><td>ab</td></tr>\n",
       "<tr><td>29.0</td><td>sdssg</td><td>83054.01631093265</td><td>8305.401631093266</td><td>25</td><td>ab</td></tr>\n",
       "</table>"
      ],
      "text/plain": [
       "<Table length=40>\n",
       "  time   band        flux             fluxerr         zp  zpsys\n",
       "float64  str5      float64            float64       int64  str2\n",
       "------- ----- ------------------ ------------------ ----- -----\n",
       "  -10.0 sdssg  252700.5215313203  25270.05215313203    25    ab\n",
       "   -9.0 sdssg 306512.20076980506 30651.220076980506    25    ab\n",
       "   -8.0 sdssg  364897.5753339071  36489.75753339071    25    ab\n",
       "   -7.0 sdssg  420500.3139591927  42050.03139591927    25    ab\n",
       "   -6.0 sdssg 469418.09053297486  46941.80905329749    25    ab\n",
       "   -5.0 sdssg  511037.3156453642  51103.73156453642    25    ab\n",
       "   -4.0 sdssg  544407.7945448775 54440.779454487754    25    ab\n",
       "   -3.0 sdssg  569650.9774658966 56965.097746589665    25    ab\n",
       "   -2.0 sdssg  587865.4809583761 58786.548095837614    25    ab\n",
       "   -1.0 sdssg    598212.86782432    59821.286782432    25    ab\n",
       "    ...   ...                ...                ...   ...   ...\n",
       "   20.0 sdssg  165735.2081021288 16573.520810212878    25    ab\n",
       "   21.0 sdssg   151752.713726483   15175.2713726483    25    ab\n",
       "   22.0 sdssg 139227.75990124358 13922.775990124359    25    ab\n",
       "   23.0 sdssg 127993.63634759352 12799.363634759353    25    ab\n",
       "   24.0 sdssg 118045.92517860806 11804.592517860807    25    ab\n",
       "   25.0 sdssg 109313.86205083372 10931.386205083372    25    ab\n",
       "   26.0 sdssg  101627.8741264225  10162.78741264225    25    ab\n",
       "   27.0 sdssg  94756.72323936221  9475.672323936222    25    ab\n",
       "   28.0 sdssg   88596.5095137198   8859.65095137198    25    ab\n",
       "   29.0 sdssg  83054.01631093265  8305.401631093266    25    ab"
      ]
     },
     "execution_count": 26,
     "metadata": {},
     "output_type": "execute_result"
    }
   ],
   "source": [
    "data"
   ]
  },
  {
   "cell_type": "code",
   "execution_count": 27,
   "metadata": {},
   "outputs": [
    {
     "data": {
      "text/plain": [
       "(False, 0.0010807669032814051, 3999.5629168679006)"
      ]
     },
     "execution_count": 27,
     "metadata": {},
     "output_type": "execute_result"
    }
   ],
   "source": [
    "expected_chisq = np.sum(((flux - model_flux) / flux_err) ** 2)\n",
    "chisq, dof = utils.calc_model_chisq(data, result, model)\n",
    "\n",
    "expected_chisq == chisq, expected_chisq, chisq"
   ]
  },
  {
   "cell_type": "code",
   "execution_count": 32,
   "metadata": {},
   "outputs": [
    {
     "data": {
      "text/plain": [
       "0.0010807669032814051"
      ]
     },
     "execution_count": 32,
     "metadata": {},
     "output_type": "execute_result"
    }
   ],
   "source": [
    "sncosmo.chisq(data, model)"
   ]
  },
  {
   "cell_type": "code",
   "execution_count": 35,
   "metadata": {},
   "outputs": [
    {
     "data": {
      "text/plain": [
       "(36, 36)"
      ]
     },
     "execution_count": 35,
     "metadata": {},
     "output_type": "execute_result"
    }
   ],
   "source": [
    "dof, len(data) - 4"
   ]
  },
  {
   "cell_type": "code",
   "execution_count": null,
   "metadata": {},
   "outputs": [],
   "source": []
  }
 ],
 "metadata": {
  "kernelspec": {
   "display_name": "Python [conda env:sdss_class] *",
   "language": "python",
   "name": "conda-env-sdss_class-py"
  },
  "language_info": {
   "codemirror_mode": {
    "name": "ipython",
    "version": 3
   },
   "file_extension": ".py",
   "mimetype": "text/x-python",
   "name": "python",
   "nbconvert_exporter": "python",
   "pygments_lexer": "ipython3",
   "version": "3.7.4"
  }
 },
 "nbformat": 4,
 "nbformat_minor": 2
}
