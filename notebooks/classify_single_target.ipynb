{
 "cells": [
  {
   "cell_type": "markdown",
   "metadata": {},
   "source": [
    "# Classify Single Target\n",
    "\n",
    "This notebook calculates the classification coordinate for a single light curve.\n"
   ]
  },
  {
   "cell_type": "code",
   "execution_count": 2,
   "metadata": {},
   "outputs": [],
   "source": [
    "import sys\n",
    "\n",
    "sys.path.insert(0, '../')\n",
    "\n",
    "import sncosmo\n",
    "from matplotlib import pyplot as plt\n",
    "from sndata.csp import dr3\n",
    "from sndata.sdss import sako18\n",
    "\n",
    "from analysis_pipeline.models import register_sources\n",
    "from analysis_pipeline.utils import split_data\n",
    "from analysis_pipeline.lc_fitting import calc_chisq as _calc_chisq\n",
    "\n",
    "dr3.download_module_data()\n",
    "dr3.register_filters(force=True)\n",
    "register_sources(force=True)\n"
   ]
  },
  {
   "cell_type": "code",
   "execution_count": null,
   "metadata": {
    "scrolled": false
   },
   "outputs": [],
   "source": [
    "def calc_chisq(data, model, vparam=4):\n",
    "    \"\"\"Calculate the chi-squared\n",
    "    \n",
    "    Args:\n",
    "        data  (Table): Table of light curve data for SNCosmo\n",
    "        model (Model): SNCosmo model already fitted to the data\n",
    "        vparam  (int): Number of parameters used in the fit\n",
    "    \"\"\"\n",
    "\n",
    "    chisq, points = _calc_chisq(data, model)\n",
    "    dof = points - vparam\n",
    "    return chisq / dof\n",
    "\n",
    "\n",
    "def fit_for_chisq(data, model, bounds):\n",
    "    \"\"\"Fit data with a model and return the chi-squared\n",
    "    \n",
    "    Args:\n",
    "        data  (Table): Table of light curve data for SNCosmo\n",
    "        model (Model): SNCosmo model\n",
    "        bounds (dict): bounds for the fit\n",
    "    \n",
    "    Returns:\n",
    "        The reduced chi-squared\n",
    "    \"\"\"\n",
    "\n",
    "    model.set(z=data.meta['redshift'])\n",
    "\n",
    "    result, fitted_model = sncosmo.fit_lc(data, model, model.param_names[1:], bounds=bounds)\n",
    "    chisq = calc_chisq(data, fitted_model)\n",
    "    \n",
    "    sncosmo.plot_lc(data, fitted_model)\n",
    "    plt.show()\n",
    "    \n",
    "    return chisq\n",
    "\n",
    "def get_classification_coords(data, bounds, band_names, lambda_eff):\n",
    "    \"\"\"Determine the classification coordinates for a given target\n",
    "    \n",
    "    Args:\n",
    "        data             (Table): Table of light curve data for SNCosmo\n",
    "        bounds            (dict): Bounds for the fit\n",
    "        band_names   (list[str]): Band names of the parent survey\n",
    "        lambda_eff (list[float]): Effective wavelength for each band\n",
    "    \n",
    "    Returns:\n",
    "       The x and y classification coordinates\n",
    "    \"\"\"\n",
    "\n",
    "    blue_data, red_data = split_data(data, band_names, lambda_eff)\n",
    "\n",
    "    print('91bg')\n",
    "    model_bg = sncosmo.Model(source=sncosmo.get_source('sn91bg'))\n",
    "    b_bg = fit_for_chisq(blue_data, model_bg, bounds)\n",
    "    r_bg = fit_for_chisq(red_data, model_bg, bounds)\n",
    "\n",
    "    print('salt2')\n",
    "    model_salt2 = sncosmo.Model('salt2')\n",
    "    b_s2 = fit_for_chisq(blue_data, model_salt2, bounds)\n",
    "    r_s2 = fit_for_chisq(red_data, model_salt2, bounds)\n",
    "    return (b_s2 - b_bg, r_s2 - r_bg)\n"
   ]
  },
  {
   "cell_type": "markdown",
   "metadata": {},
   "source": [
    "In the following cell we fit with all available data. The cell after that we ignore the NIR."
   ]
  },
  {
   "cell_type": "code",
   "execution_count": null,
   "metadata": {
    "scrolled": false
   },
   "outputs": [],
   "source": [
    "data_table = dr3.get_data_for_id('2006gt', True)\n",
    "bounds = {\n",
    "    'z': [0.01, 0.8],\n",
    "    't0': (1003, 1004), # 06gt\n",
    "    'x0':[0, 0.02],\n",
    "    'x1': [0.65, 1.25],\n",
    "    'c': [0, 1]\n",
    "}\n",
    "\n",
    "band_names = dr3.band_names\n",
    "lambda_eff = dr3.lambda_effective\n",
    "\n",
    "coord = get_classification_coords(data_table, bounds, band_names, lambda_eff)\n",
    "print('Classification coords:', coord)\n"
   ]
  },
  {
   "cell_type": "code",
   "execution_count": null,
   "metadata": {
    "scrolled": false
   },
   "outputs": [],
   "source": [
    "data_table = dr3.get_data_for_id('2006gt', True)\n",
    "data_table = data_table[data_table['band'] != 'csp_dr3_Y']\n",
    "data_table = data_table[data_table['band'] != 'csp_dr3_Ydw']\n",
    "data_table = data_table[data_table['band'] != 'csp_dr3_J']\n",
    "data_table = data_table[data_table['band'] != 'csp_dr3_H']\n",
    "\n",
    "band_names = dr3.band_names\n",
    "lambda_eff = dr3.lambda_effective\n",
    "\n",
    "coord = get_classification_coords(data_table, bounds, band_names, lambda_eff)\n",
    "print('Classification coords:', coord)\n"
   ]
  },
  {
   "cell_type": "code",
   "execution_count": null,
   "metadata": {},
   "outputs": [],
   "source": []
  }
 ],
 "metadata": {
  "kernelspec": {
   "display_name": "Python [conda env:sdss_class] *",
   "language": "python",
   "name": "conda-env-sdss_class-py"
  },
  "language_info": {
   "codemirror_mode": {
    "name": "ipython",
    "version": 3
   },
   "file_extension": ".py",
   "mimetype": "text/x-python",
   "name": "python",
   "nbconvert_exporter": "python",
   "pygments_lexer": "ipython3",
   "version": "3.7.3"
  }
 },
 "nbformat": 4,
 "nbformat_minor": 2
}
