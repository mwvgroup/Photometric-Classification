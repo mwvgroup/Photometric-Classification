{
 "cells": [
  {
   "cell_type": "markdown",
   "metadata": {},
   "source": [
    "# Data Cuts\n",
    "\n",
    "This notebook selects and caches to file the object Id's of SDSS observed transients that have observations in at least two bands and at least one point before and after max."
   ]
  },
  {
   "cell_type": "code",
   "execution_count": null,
   "metadata": {},
   "outputs": [],
   "source": [
    "from multiprocessing import Pool\n",
    "from pathlib import Path\n",
    "\n",
    "import numpy as np\n",
    "import pandas as pd\n",
    "from astropy.table import Table\n",
    "from sndata.sdss import sako18\n",
    "from tqdm.notebook import tqdm\n",
    "\n",
    "sako18.download_module_data()\n",
    "results_dir = Path('../results/').resolve()\n"
   ]
  },
  {
   "cell_type": "markdown",
   "metadata": {},
   "source": [
    "First we read in the SDSS classifications."
   ]
  },
  {
   "cell_type": "code",
   "execution_count": null,
   "metadata": {},
   "outputs": [],
   "source": [
    "sdss_master = sako18.load_table('master')\n",
    "sako_classification = pd.DataFrame({\n",
    "    'obj_id': sdss_master['CID'],\n",
    "    'spec_class': sdss_master['Classification']\n",
    "})\n",
    "sako_classification.set_index('obj_id', inplace=True)\n",
    "sako_classification['spec_class'].value_counts()\n"
   ]
  },
  {
   "cell_type": "markdown",
   "metadata": {},
   "source": [
    "We drop any non transient objects."
   ]
  },
  {
   "cell_type": "code",
   "execution_count": null,
   "metadata": {},
   "outputs": [],
   "source": [
    "non_sne = sako_classification[sako_classification['spec_class'].isin(('Variable', 'AGN'))]\n"
   ]
  },
  {
   "cell_type": "markdown",
   "metadata": {},
   "source": [
    "We check observations for each object and see if they pass our prescribed data cuts. Results are cached to file."
   ]
  },
  {
   "cell_type": "code",
   "execution_count": null,
   "metadata": {},
   "outputs": [],
   "source": [
    "def passes_cut(obj_id):\n",
    "    \"\"\"Return if an object has data in >=2 bands and at\n",
    "    least one point before and after max.\n",
    "    \n",
    "    Return is false for all AGN and Variables\n",
    "    \n",
    "    Args:\n",
    "        obj_id (str): The object Id\n",
    "        \n",
    "    Returns:\n",
    "        A boolean\n",
    "    \"\"\"\n",
    "\n",
    "    if obj_id in non_sne.index:\n",
    "        return False\n",
    "\n",
    "    obj_data = sako18.get_data_for_id(obj_id).to_pandas()\n",
    "    obj_data = obj_data[obj_data.flux / obj_data.fluxerr >= 5]\n",
    "    num_bands = len(obj_data.band.unique())\n",
    "    salt2_fits = Table.read(results_dir / 'sdss_salt2_fits.ecsv').to_pandas(index='obj_id')\n",
    "\n",
    "    try:\n",
    "        salt_fit = salt2_fits.loc[obj_id]\n",
    "        return all(\n",
    "            (salt_fit.pre_max, salt_fit.post_max, (num_bands >= 2))\n",
    "        )\n",
    "\n",
    "    except KeyError:\n",
    "        return False\n",
    "\n",
    "\n",
    "def get_good_ids(cache_file=results_dir / 'good_ids.npy'):\n",
    "    \"\"\"Get SDSS object Ids for targets passing observation cuts\n",
    "    \n",
    "    Results are cached to file for performance.\n",
    "    \n",
    "    Args:\n",
    "        cache_file (str): Path to cache return to\n",
    "        \n",
    "    Returns:\n",
    "        An array of object Ids\n",
    "    \"\"\"\n",
    "\n",
    "    if Path(cache_file).exists():\n",
    "        return np.load(cache_file)\n",
    "\n",
    "    sako_obj_ids = sako18.get_available_ids()\n",
    "    with Pool() as p:\n",
    "        is_good_id = list(tqdm(p.imap(passes_cut, sako_obj_ids), total=len(sako_obj_ids)))\n",
    "\n",
    "    good_obj_ids = np.array(sako_obj_ids)[is_good_id].tolist()\n",
    "    np.save(cache_file, good_obj_ids)\n",
    "    return good_obj_ids\n"
   ]
  },
  {
   "cell_type": "code",
   "execution_count": null,
   "metadata": {},
   "outputs": [],
   "source": [
    "len(get_good_ids())\n"
   ]
  },
  {
   "cell_type": "code",
   "execution_count": null,
   "metadata": {},
   "outputs": [],
   "source": []
  }
 ],
 "metadata": {
  "kernelspec": {
   "display_name": "Python [conda env:Photometric-Classification] *",
   "language": "python",
   "name": "conda-env-Photometric-Classification-py"
  },
  "language_info": {
   "codemirror_mode": {
    "name": "ipython",
    "version": 3
   },
   "file_extension": ".py",
   "mimetype": "text/x-python",
   "name": "python",
   "nbconvert_exporter": "python",
   "pygments_lexer": "ipython3",
   "version": "3.7.7"
  }
 },
 "nbformat": 4,
 "nbformat_minor": 4
}