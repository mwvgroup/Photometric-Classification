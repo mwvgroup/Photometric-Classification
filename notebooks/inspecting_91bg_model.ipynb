{
 "cells": [
  {
   "cell_type": "markdown",
   "metadata": {},
   "source": [
    "# Inspecting the Ported 91bg Model\n",
    "\n",
    "#### Table of Contents:\n",
    "1. <a href='#model_evolution'>Model Evolution</a>: Explore modeled flux and colors over time\n",
    "1. <a href='#parameter_covarience'>Parameter Covarience</a>: Demonstrates the covarience between stretch and color for 91bgs\n",
    "1. <a href='#s2_parameters'>Comparison with Salt2 Parameters</a>: Comparison of simulated salt2 parameters against best fit 91bg parameters.\n"
   ]
  },
  {
   "cell_type": "code",
   "execution_count": null,
   "metadata": {},
   "outputs": [],
   "source": [
    "import sys\n",
    "from pathlib import Path\n",
    "\n",
    "import numpy as np\n",
    "import sncosmo\n",
    "from astropy.table import Table\n",
    "from matplotlib import pyplot as plt\n",
    "from matplotlib.ticker import NullFormatter\n",
    "from sndata.csp import dr3\n",
    "from tqdm import tqdm\n",
    "\n",
    "sys.path.append('../')\n",
    "from phot_class import models\n",
    "from phot_class.simulation import sncosmo_sims\n"
   ]
  },
  {
   "cell_type": "code",
   "execution_count": null,
   "metadata": {},
   "outputs": [],
   "source": [
    "# Output directory for figures\n",
    "fig_dir = Path('./notebook_figs')\n",
    "fig_dir.mkdir(exist_ok=True, parents=True)\n",
    "\n",
    "models.register_sources(force=True)\n",
    "bg_source = sncosmo.get_source('sn91bg')\n",
    "\n",
    "print('Source Summary:\\n')\n",
    "print(bg_source)\n"
   ]
  },
  {
   "cell_type": "markdown",
   "metadata": {},
   "source": [
    "## Parameter Covarience <a id='parameter_covarience'></a>\n",
    "\n",
    "We consider the covarience between stretch and color in 91bg like supernovae. Note that our 91bg model does not consider this covarience (yet).\n"
   ]
  },
  {
   "cell_type": "code",
   "execution_count": null,
   "metadata": {},
   "outputs": [],
   "source": [
    "def plot_hexbin(x, y, xlim, ylim, fig_size=(8, 8), bins=50):\n",
    "    \"\"\"Plot a hexbin with x and y histograms\n",
    "    \n",
    "    Args:\n",
    "      x      (ndarray):\n",
    "      x      (ndarray):\n",
    "      xlim     (tuple): x limits for the plot\n",
    "      ylim     (tuple): y limits for the plot\n",
    "      fig_size (tuple): x and y dimensions for the figure\n",
    "      bins       (int): Number of bins to use\n",
    "      \n",
    "    Returns:\n",
    "        A matplotlib figure\n",
    "        The axis of the main subplot\n",
    "        The axis of the x histogram\n",
    "        The axis of the y histogram\n",
    "    \"\"\"\n",
    "\n",
    "    # Define axis coordinates\n",
    "    left, width = 0.1, 0.65\n",
    "    bottom, height = 0.1, 0.65\n",
    "    bottom_h = left_h = left + width + 0.02\n",
    "\n",
    "    rect_scatter = [left, bottom, width, height]\n",
    "    rect_histx = [left, bottom_h, width, 0.2]\n",
    "    rect_histy = [left_h, bottom, 0.2, height]\n",
    "\n",
    "    # Instantiate figure\n",
    "    fig = plt.figure(1, fig_size)\n",
    "\n",
    "    ax_main = plt.axes(rect_scatter)\n",
    "    ax_hist_x = plt.axes(rect_histx)\n",
    "    ax_hist_y = plt.axes(rect_histy)\n",
    "\n",
    "    # Remove labels from histogram axes\n",
    "    nullfmt = NullFormatter() \n",
    "    ax_hist_x.xaxis.set_major_formatter(nullfmt)\n",
    "    ax_hist_y.yaxis.set_major_formatter(nullfmt)\n",
    "\n",
    "    # The hexbin\n",
    "    ax_main.hexbin(x, y, gridsize=(bins, bins), cmap='Blues')\n",
    "    ax_main.set_xlim(xlim)\n",
    "    ax_main.set_ylim(ylim)\n",
    "\n",
    "    # The histograms\n",
    "    avg_x = np.average(x)\n",
    "    std_x = np.std(x)\n",
    "    ax_hist_x.hist(x, bins=bins) \n",
    "    ax_hist_x.axvline(avg_x, color='black', linestyle='--', label='Average')\n",
    "    ax_hist_x.axvline(avg_x + std_x, color='black', linestyle=':')\n",
    "    ax_hist_x.axvline(avg_x - std_x, color='black', linestyle=':', \n",
    "                      label='Standard Deviation')\n",
    "    \n",
    "    avg_y = np.average(y)\n",
    "    std_y = np.std(y)\n",
    "    ax_hist_y.hist(y, bins=bins, orientation='horizontal')\n",
    "    ax_hist_y.axhline(avg_y, color='black', linestyle='--')\n",
    "    ax_hist_y.axhline(avg_y + std_y, color='black', linestyle=':')\n",
    "    ax_hist_y.axhline(avg_y - std_y, color='black', linestyle=':')\n",
    "\n",
    "    ax_hist_x.set_xlim(ax_main.get_xlim())\n",
    "    ax_hist_y.set_ylim(ax_main.get_ylim())\n",
    "\n",
    "    return fig, ax_main, ax_hist_x, ax_hist_y\n",
    "    "
   ]
  },
  {
   "cell_type": "code",
   "execution_count": null,
   "metadata": {},
   "outputs": [],
   "source": [
    "stretch, color = sncosmo_sims.bg_stretch_color(\n",
    "    size=1e6, \n",
    "    min_stretch=-np.inf, \n",
    "    min_color=-np.inf, \n",
    "    max_stretch=np.inf, \n",
    "    max_color=np.inf)\n"
   ]
  },
  {
   "cell_type": "code",
   "execution_count": null,
   "metadata": {
    "scrolled": false
   },
   "outputs": [],
   "source": [
    "xlim = (sncosmo_sims.AVG_STRETCH - .4, sncosmo_sims.AVG_STRETCH + .4)\n",
    "ylim = (sncosmo_sims.AVG_COLOR - .6, sncosmo_sims.AVG_COLOR + .6)\n",
    "fig, *axes = plot_hexbin(stretch, color, xlim, ylim, bins=30)\n",
    "\n",
    "axes[0].axvline(min(bg_source._stretch), linestyle='-.')\n",
    "axes[0].axvline(max(bg_source._stretch), linestyle='-.')\n",
    "axes[0].axhline(min(bg_source._color), linestyle='-.')\n",
    "axes[0].axhline(max(bg_source._color), linestyle='-.', label='Model Limits')\n",
    "\n",
    "axes[0].set_xlabel('Stretch (x1)', fontsize=12)\n",
    "axes[0].set_ylabel('Color (c)', fontsize=12)\n",
    "fig.legend(fontsize=12, loc='upper right', bbox_to_anchor=(1.05, .9))\n",
    "\n",
    "plt.savefig(fig_dir / '91bg_x1_c_covariance.pdf')\n",
    "plt.show()\n"
   ]
  },
  {
   "cell_type": "markdown",
   "metadata": {},
   "source": [
    "## Model Evolution <a id='model_evolution'></a>\n",
    "\n",
    "We explore the predicted flux and colors of our ported 91bg model. We arbitrarily choose to use the CSP band passes.\n"
   ]
  },
  {
   "cell_type": "code",
   "execution_count": null,
   "metadata": {},
   "outputs": [],
   "source": [
    "dr3.register_filters(True)\n",
    "\n",
    "# A set of fiducial band passes.\n",
    "unique_bands = (\n",
    "    'csp_dr3_u',\n",
    "    'csp_dr3_g',\n",
    "    'csp_dr3_r',\n",
    "    'csp_dr3_i',\n",
    "    'csp_dr3_B',\n",
    "    'csp_dr3_V'\n",
    ")\n"
   ]
  },
  {
   "cell_type": "code",
   "execution_count": null,
   "metadata": {},
   "outputs": [],
   "source": [
    "def plot_flux_for_param(source, param_name, param_value):\n",
    "    \"\"\"Plot a modeled light curve over the range of a given param\n",
    "    \n",
    "    Args:\n",
    "        source    (Source): An sncosmo source class\n",
    "        param_name   (str): Name of the param to vary\n",
    "        param_value  (str): Values of the param to plot\n",
    "    \"\"\"\n",
    "\n",
    "    model = sncosmo.Model(source)\n",
    "    phase = np.arange(model.mintime(), model.maxtime())\n",
    "    fig, axes = plt.subplots(2, 3, figsize=(15, 10), sharex=True, sharey=True)\n",
    "    for band, axis in zip(unique_bands, axes.flatten()):\n",
    "        for p_val in param_value:\n",
    "            model.update({param_name: p_val})\n",
    "            flux = model.bandflux(band, phase, zp=25, zpsys='AB')\n",
    "            axis.plot(phase, flux, label=f'{param_name} = {p_val}')\n",
    "            axis.set_xlabel('Time')\n",
    "            axis.set_ylabel('Flux')\n",
    "            axis.set_title(band)\n",
    "            axis.legend()\n",
    "\n",
    "    plt.show()\n"
   ]
  },
  {
   "cell_type": "code",
   "execution_count": null,
   "metadata": {},
   "outputs": [],
   "source": [
    "plot_flux_for_param(bg_source, 'c', (0.0, 0.25, 0.5, 0.75, 1))\n",
    "plt.savefig(fig_dir / '91bg_flux_color_evolution.pdf')\n",
    "plt.show()\n"
   ]
  },
  {
   "cell_type": "code",
   "execution_count": null,
   "metadata": {},
   "outputs": [],
   "source": [
    "plot_flux_for_param(bg_source, 'x1', (0.65, 0.85, 1.05, 1.25))\n",
    "plt.savefig(fig_dir / '91bg_flux_stretch_evolution.pdf')\n",
    "plt.show()\n"
   ]
  },
  {
   "cell_type": "code",
   "execution_count": null,
   "metadata": {},
   "outputs": [],
   "source": [
    "def plot_color_for_param(source, colors, param_name, param_value):\n",
    "    \"\"\"Plot a modeled light curve over the range of a given param\n",
    "    \n",
    "    Args:\n",
    "        source    (Source): An sncosmo source class\n",
    "        param_name   (str): Name of the param to vary\n",
    "        param_value  (str): Values of the param to plot\n",
    "    \"\"\"\n",
    "\n",
    "    model = sncosmo.Model(source)\n",
    "    phase = np.arange(model.mintime(), model.maxtime())\n",
    "    fig, axes = plt.subplots(2, 3, figsize=(15, 10), sharex=True)\n",
    "    for (band1, band2), axis in zip(colors, axes.flatten()):\n",
    "        for p_val in param_value:\n",
    "            model.update({param_name: p_val})\n",
    "            color = model.color(band1, band2, 'ab', phase)\n",
    "            axis.plot(phase, color, label=f'{param_name} = {p_val}')\n",
    "            axis.set_xlabel('Time')\n",
    "            axis.set_ylabel(param_name)\n",
    "            axis.set_title(f'{band1} - {band2}')\n",
    "            axis.legend()\n",
    "            \n",
    "    plt.tight_layout()\n",
    "    plt.show()\n"
   ]
  },
  {
   "cell_type": "code",
   "execution_count": null,
   "metadata": {},
   "outputs": [],
   "source": [
    "colors = tuple((unique_bands[i], unique_bands[i + 1]) for i in range(len(unique_bands) - 1))\n",
    "plot_color_for_param(bg_source, colors, 'c', (0.0, 0.25, 0.5, 0.75, 1))\n",
    "plt.savefig(fig_dir / '91bg_color_evolution.pdf')\n",
    "plt.show()\n"
   ]
  },
  {
   "cell_type": "code",
   "execution_count": null,
   "metadata": {},
   "outputs": [],
   "source": [
    "plot_color_for_param(bg_source, colors, 'x1', (0.65, 0.85, 1.05, 1.25))\n",
    "plt.savefig(fig_dir / '91bg_stretch_evolution.pdf')\n",
    "plt.show()\n"
   ]
  },
  {
   "cell_type": "markdown",
   "metadata": {},
   "source": [
    "## Comparison with Salt2 Parameters <a id='s2_parameters'></a>\n"
   ]
  },
  {
   "cell_type": "markdown",
   "metadata": {},
   "source": [
    "We consider the correlation between salt2 and 91bg fit parameters - specificaly between stretch and color. We do this by simulating light curves with salt2, fitting each light curve with our 91bg model, and then plotting the relationship between the input and output parameters. \n",
    "\n",
    "First we create a set table of simulated observations that defines the cadence of our simulated light curves."
   ]
  },
  {
   "cell_type": "code",
   "execution_count": null,
   "metadata": {},
   "outputs": [],
   "source": [
    "time = 4 * np.arange(-10, 30, 3).tolist()\n",
    "bands = np.concatenate(\n",
    "    [np.full(len(time) // 4, 'sdss' + band) for band in 'ugri']\n",
    ")\n",
    "\n",
    "table_length = len(time)\n",
    "observations = Table(\n",
    "    {'time': time,\n",
    "     'band': bands,\n",
    "     'gain': np.full(table_length, 1.0),\n",
    "     'skynoise': np.zeros(table_length),\n",
    "     'zp': np.full(table_length, 27.5),\n",
    "     'zpsys': np.full(table_length, 'ab')})\n",
    "\n",
    "observations\n"
   ]
  },
  {
   "cell_type": "markdown",
   "metadata": {},
   "source": [
    "Next, we generate a dictionary of parameters for each light curve we want to simulate, and run the simulations."
   ]
  },
  {
   "cell_type": "code",
   "execution_count": null,
   "metadata": {},
   "outputs": [],
   "source": [
    "z=0\n",
    "bg_param_list = []\n",
    "dx = .1\n",
    "\n",
    "stretch = np.arange(0.65, 1.25 + dx, dx)\n",
    "color = np.arange(0, 1 + dx, dx)\n",
    "for x1 in stretch:\n",
    "    for c in color:\n",
    "        bg_param_list.append({'z': z, 'x1': np.round(x1, 2), 'c': np.round(c, 2)})\n",
    "\n",
    "sn91bg = sncosmo.Model('sn91bg')\n",
    "light_curves = sncosmo.realize_lcs(observations, sn91bg, bg_param_list)\n"
   ]
  },
  {
   "cell_type": "markdown",
   "metadata": {},
   "source": [
    "Each of these light curves are then fit with the 91bg model. For conveniance, we cache results to file. We also typcast the salt2 and 91bg model parameters from lists of dictionaries to astropy tables."
   ]
  },
  {
   "cell_type": "code",
   "execution_count": null,
   "metadata": {
    "scrolled": false
   },
   "outputs": [],
   "source": [
    "salt2 = sncosmo.Model('salt2')\n",
    "salt2.set(z=z)\n",
    "\n",
    "s2_param_list = []\n",
    "bounds = {'c': [-5, 5], 'x1': [-5, 5]}  # To prevent runaway\n",
    "for lc in tqdm(light_curves):\n",
    "    result, fm = sncosmo.fit_lc(lc, salt2, ['x0', 't0', 'x1', 'c'], bounds=bounds)\n",
    "    result_dict = {p:v for p, v in zip(result.param_names, result.parameters)}\n",
    "    s2_param_list.append(result_dict)\n",
    "\n",
    "s2_parameters = Table(rows=s2_param_list)\n",
    "bg_parameters = Table(rows=bg_param_list) \n"
   ]
  },
  {
   "cell_type": "markdown",
   "metadata": {},
   "source": [
    "Finally, we plot the relationship between the parameters."
   ]
  },
  {
   "cell_type": "code",
   "execution_count": null,
   "metadata": {},
   "outputs": [],
   "source": [
    "def scatter_plot_parameters(simulated_params, fit_params):\n",
    "    \"\"\"Plot fitted parameters against simulated parameters as a color plot\n",
    "    \n",
    "    Args:\n",
    "        simulated_params (Table): A table of simulated parameter values\n",
    "        fit_params       (Table): A table of fitted parameter values\n",
    "        \n",
    "    Returns:\n",
    "        A matplotlib figure\n",
    "        An array with the axes of the figure\n",
    "    \"\"\"\n",
    "\n",
    "    fig, axes = plt.subplots(1, 2, figsize=(10, 5))\n",
    "    axes[0].scatter(simulated_params['c'], fit_params['c'])      \n",
    "    axes[0].set_title('Color')\n",
    "\n",
    "    axes[1].scatter(simulated_params['x1'], fit_params['x1'])      \n",
    "    axes[1].set_title('Stretch')\n",
    "\n",
    "    for axis in axes:\n",
    "        axis.set_xlabel('Simulated')\n",
    "        axis.set_ylabel('Fitted')\n"
   ]
  },
  {
   "cell_type": "code",
   "execution_count": null,
   "metadata": {},
   "outputs": [],
   "source": [
    "scatter_plot_parameters(bg_parameters, s2_parameters)\n",
    "plt.savefig(fig_dir / 'salt2_fit_of_91bg_scatter.pdf')\n",
    "plt.show()\n"
   ]
  },
  {
   "cell_type": "code",
   "execution_count": null,
   "metadata": {},
   "outputs": [],
   "source": [
    "def subplot_cotours(x, y, z, axis, **kwargs):\n",
    "    \"\"\"Imshow values with contours\n",
    "    \n",
    "    Args:\n",
    "        x     (array): An array of x values\n",
    "        y     (array): An array of y values\n",
    "        z     (array): A 2d array of z values\n",
    "        axis   (Axis): matplotlib axis to plot on\n",
    "        vmin  (float): Lower limit for imshow\n",
    "        vmax  (float): Upper limit for imshow\n",
    "        limit (float): A value indicating the LSST 5 sigma limit\n",
    "        Any other arguments for ``axis.imshow``\n",
    "        \n",
    "    Returns:\n",
    "        A matplotlib figure\n",
    "    \"\"\"\n",
    "\n",
    "    axis.set_xlim(min(x), max(x))\n",
    "    axis.set_ylim(min(y), max(y))\n",
    "    extent = [min(x), max(x), min(y), max(y)]\n",
    "    \n",
    "    im = axis.imshow(\n",
    "        z, \n",
    "        origin='lower', \n",
    "        interpolation='bilinear',\n",
    "        extent=extent, \n",
    "        aspect='auto',\n",
    "        cmap='bwr',\n",
    "        **kwargs\n",
    "    )\n",
    "    \n",
    "    return im\n",
    "\n",
    "def imshow_parameters(simulated_params, fit_params):\n",
    "    \"\"\"Plot fitted parameters against simulated parameters as a color plot\n",
    "    \n",
    "    Args:\n",
    "        simulated_params (Table): A table of simulated parameter values\n",
    "        fit_params       (Table): A table of fitted parameter values\n",
    "        \n",
    "    Returns:\n",
    "        A matplotlib figure\n",
    "        An array with the axes of the figure\n",
    "    \"\"\"\n",
    "    \n",
    "    fig, axes = plt.subplots(1, 2, figsize=(12, 5))\n",
    "    \n",
    "    x = simulated_params['x1']\n",
    "    y = simulated_params['c']\n",
    "    \n",
    "    z1 = [fit_params['c'][simulated_params['x1'] == x1] for x1 in set(simulated_params['x1'])]\n",
    "    im1 = subplot_cotours(x, y, z1, axes[0])\n",
    "    axes[0].set_xlabel('Simulated Stretch')\n",
    "    axes[0].set_ylabel('Simulated Color')\n",
    "    axes[0].set_title('Fitted Color')\n",
    "\n",
    "    cbar_ax_1 = fig.add_axes([0.41, 0.15, 0.05, 0.7])\n",
    "    fig.colorbar(im1, cax=cbar_ax_1)\n",
    "\n",
    "    z2 = [fit_params['x1'][simulated_params['c'] == c] for c in set(simulated_params['c'])]\n",
    "    im2 = subplot_cotours(x, y, z2, axes[1])\n",
    "    axes[1].set_xlabel('Simulated Stretch')\n",
    "    axes[1].set_ylabel('Simulated Color')\n",
    "    axes[1].set_title('Fitted Stretch')\n",
    "\n",
    "    cbar_ax_2 = fig.add_axes([0.92, 0.15, 0.05, 0.7])\n",
    "    fig.colorbar(im2, cax=cbar_ax_2)\n",
    "\n",
    "    plt.subplots_adjust(wspace=0.9)\n",
    "    \n",
    "    return fig, axes\n"
   ]
  },
  {
   "cell_type": "code",
   "execution_count": null,
   "metadata": {},
   "outputs": [],
   "source": [
    "imshow_parameters(bg_parameters, s2_parameters)\n",
    "plt.savefig(fig_dir / 'salt2_fit_of_91bg_color.pdf')\n",
    "plt.show()\n"
   ]
  },
  {
   "cell_type": "code",
   "execution_count": null,
   "metadata": {},
   "outputs": [],
   "source": []
  }
 ],
 "metadata": {
  "kernelspec": {
   "display_name": "Python [conda env:phot_class] *",
   "language": "python",
   "name": "conda-env-phot_class-py"
  },
  "language_info": {
   "codemirror_mode": {
    "name": "ipython",
    "version": 3
   },
   "file_extension": ".py",
   "mimetype": "text/x-python",
   "name": "python",
   "nbconvert_exporter": "python",
   "pygments_lexer": "ipython3",
   "version": "3.7.4"
  }
 },
 "nbformat": 4,
 "nbformat_minor": 2
}
