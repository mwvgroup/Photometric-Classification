{
 "cells": [
  {
   "cell_type": "markdown",
   "metadata": {},
   "source": [
    "# Inspecting the Ported 91bg Model\n",
    "\n",
    "#### Table of Contents:\n",
    "1. <a href='#model_evolution'>Model Evolution</a>: Explore modeled flux and colors over time\n"
   ]
  },
  {
   "cell_type": "code",
   "execution_count": null,
   "metadata": {},
   "outputs": [],
   "source": [
    "import sys\n",
    "\n",
    "import numpy as np\n",
    "import sncosmo\n",
    "from matplotlib import pyplot as plt\n",
    "from sndata.csp import dr3\n",
    "\n",
    "sys.path.append('../')\n",
    "from phot_class import models\n"
   ]
  },
  {
   "cell_type": "code",
   "execution_count": null,
   "metadata": {},
   "outputs": [],
   "source": [
    "models.register_sources(force=True)\n",
    "bg_source = sncosmo.get_source('sn91bg')\n",
    "\n",
    "print('Source Summary:\\n')\n",
    "print(bg_source)\n"
   ]
  },
  {
   "cell_type": "markdown",
   "metadata": {},
   "source": [
    "## Model Evolution <a id='model_evolution'></a>\n",
    "\n",
    "We explore the predicted flux and colors of our ported 91bg model. We arbitrarily choose to use the CSP band passes.\n"
   ]
  },
  {
   "cell_type": "code",
   "execution_count": null,
   "metadata": {},
   "outputs": [],
   "source": [
    "dr3.register_filters(True)\n",
    "\n",
    "# A set of fiducial band passes.\n",
    "unique_bands = (\n",
    "    'csp_dr3_u',\n",
    "    'csp_dr3_g',\n",
    "    'csp_dr3_r',\n",
    "    'csp_dr3_i',\n",
    "    'csp_dr3_B',\n",
    "    'csp_dr3_V'\n",
    ")\n"
   ]
  },
  {
   "cell_type": "code",
   "execution_count": null,
   "metadata": {},
   "outputs": [],
   "source": [
    "def plot_flux_for_param(source, param_name, param_value):\n",
    "    \"\"\"Plot a modeled light curve over the range of a given param\n",
    "    \n",
    "    Args:\n",
    "        source    (Source): An sncosmo source class\n",
    "        param_name   (str): Name of the param to vary\n",
    "        param_value  (str): Values of the param to plot\n",
    "    \"\"\"\n",
    "\n",
    "    model = sncosmo.Model(source)\n",
    "    phase = np.arange(model.mintime(), model.maxtime())\n",
    "    fig, axes = plt.subplots(2, 3, figsize=(15, 10), sharex=True, sharey=True)\n",
    "    for band, axis in zip(unique_bands, axes.flatten()):\n",
    "        for p_val in param_value:\n",
    "            model.update({param_name: p_val})\n",
    "            flux = model.bandflux(band, phase, zp=25, zpsys='AB')\n",
    "            axis.plot(phase, flux, label=f'{param_name} = {p_val}')\n",
    "            axis.set_xlabel('Time')\n",
    "            axis.set_ylabel('Flux')\n",
    "            axis.set_title(band)\n",
    "            axis.legend()\n",
    "\n",
    "    plt.show()\n"
   ]
  },
  {
   "cell_type": "code",
   "execution_count": null,
   "metadata": {},
   "outputs": [],
   "source": [
    "plot_flux_for_param(bg_source, 'c', (0.0, 0.25, 0.5, 0.75, 1))\n"
   ]
  },
  {
   "cell_type": "code",
   "execution_count": null,
   "metadata": {},
   "outputs": [],
   "source": [
    "plot_flux_for_param(bg_source, 'x1', (0.65, 0.85, 1.05, 1.25))\n"
   ]
  },
  {
   "cell_type": "code",
   "execution_count": null,
   "metadata": {},
   "outputs": [],
   "source": [
    "def plot_color_for_param(source, colors, param_name, param_value):\n",
    "    \"\"\"Plot a modeled light curve over the range of a given param\n",
    "    \n",
    "    Args:\n",
    "        source    (Source): An sncosmo source class\n",
    "        param_name   (str): Name of the param to vary\n",
    "        param_value  (str): Values of the param to plot\n",
    "    \"\"\"\n",
    "\n",
    "    model = sncosmo.Model(source)\n",
    "    phase = np.arange(model.mintime(), model.maxtime())\n",
    "    fig, axes = plt.subplots(2, 3, figsize=(15, 10), sharex=True)\n",
    "    for (band1, band2), axis in zip(colors, axes.flatten()):\n",
    "        for p_val in param_value:\n",
    "            model.update({param_name: p_val})\n",
    "            color = model.color(band1, band2, 'ab', phase)\n",
    "            axis.plot(phase, color, label=f'{param_name} = {p_val}')\n",
    "            axis.set_xlabel('Time')\n",
    "            axis.set_ylabel('Color')\n",
    "            axis.set_title(f'{band1} - {band2}')\n",
    "            axis.legend()\n",
    "            \n",
    "    plt.tight_layout()\n",
    "    plt.show()\n"
   ]
  },
  {
   "cell_type": "code",
   "execution_count": null,
   "metadata": {},
   "outputs": [],
   "source": [
    "colors = tuple((unique_bands[i], unique_bands[i + 1]) for i in range(len(unique_bands) - 1))\n",
    "plot_color_for_param(bg_source, colors, 'c', (0.0, 0.25, 0.5, 0.75, 1))\n"
   ]
  },
  {
   "cell_type": "code",
   "execution_count": null,
   "metadata": {},
   "outputs": [],
   "source": [
    "plot_color_for_param(bg_source, colors, 'x1', (0.65, 0.85, 1.05, 1.25))\n"
   ]
  },
  {
   "cell_type": "code",
   "execution_count": null,
   "metadata": {},
   "outputs": [],
   "source": []
  }
 ],
 "metadata": {
  "kernelspec": {
   "display_name": "Python [conda env:phot_class] *",
   "language": "python",
   "name": "conda-env-phot_class-py"
  },
  "language_info": {
   "codemirror_mode": {
    "name": "ipython",
    "version": 3
   },
   "file_extension": ".py",
   "mimetype": "text/x-python",
   "name": "python",
   "nbconvert_exporter": "python",
   "pygments_lexer": "ipython3",
   "version": "3.7.4"
  }
 },
 "nbformat": 4,
 "nbformat_minor": 2
}
