{
 "cells": [
  {
   "cell_type": "markdown",
   "metadata": {},
   "source": [
    "# Inspecting the Ported 91bg Model\n",
    "\n",
    "#### Table of Contents:\n",
    "1. <a href='#model_evolution'>Model Evolution</a>: Explore modeled flux and colors over time\n",
    "1. <a href='#parameter_covarience'>Parameter Covarience</a>: Demonstrates the covarience between stretch and color for 91bgs\n"
   ]
  },
  {
   "cell_type": "code",
   "execution_count": null,
   "metadata": {},
   "outputs": [],
   "source": [
    "import sys\n",
    "from copy import deepcopy\n",
    "\n",
    "import numpy as np\n",
    "import sncosmo\n",
    "from matplotlib import pyplot as plt\n",
    "from matplotlib.ticker import NullFormatter\n",
    "from sndata.csp import dr3\n",
    "\n",
    "sys.path.append('../')\n",
    "from phot_class import models\n",
    "from phot_class.simulation import sncosmo_sims\n"
   ]
  },
  {
   "cell_type": "code",
   "execution_count": null,
   "metadata": {},
   "outputs": [],
   "source": [
    "models.register_sources(force=True)\n",
    "bg_source = sncosmo.get_source('sn91bg')\n",
    "\n",
    "print('Source Summary:\\n')\n",
    "print(bg_source)\n"
   ]
  },
  {
   "cell_type": "markdown",
   "metadata": {},
   "source": [
    "## Parameter Covarience <a id='parameter_covarience'></a>\n"
   ]
  },
  {
   "cell_type": "code",
   "execution_count": null,
   "metadata": {},
   "outputs": [],
   "source": [
    "def plot_hexbin(x, y, xlim, ylim, fig_size=(8, 8), bins=50):\n",
    "    \"\"\"Plot a hexbin with x and y histograms\n",
    "    \n",
    "    Args:\n",
    "      x      (ndarray):\n",
    "      x      (ndarray):\n",
    "      xlim     (tuple): x limits for the plot\n",
    "      ylim     (tuple): y limits for the plot\n",
    "      fig_size (tuple): x and y dimensions for the figure\n",
    "      bins       (int): Number of bins to use\n",
    "      \n",
    "    Returns:\n",
    "        A matplotlib figure\n",
    "        The axis of the main subplot\n",
    "        The axis of the x histogram\n",
    "        The axis of the y histogram\n",
    "    \"\"\"\n",
    "\n",
    "    # Define axis coordinates\n",
    "    left, width = 0.1, 0.65\n",
    "    bottom, height = 0.1, 0.65\n",
    "    bottom_h = left_h = left + width + 0.02\n",
    "\n",
    "    rect_scatter = [left, bottom, width, height]\n",
    "    rect_histx = [left, bottom_h, width, 0.2]\n",
    "    rect_histy = [left_h, bottom, 0.2, height]\n",
    "\n",
    "    # Instantiate figure\n",
    "    fig = plt.figure(1, fig_size)\n",
    "\n",
    "    ax_main = plt.axes(rect_scatter)\n",
    "    ax_hist_x = plt.axes(rect_histx)\n",
    "    ax_hist_y = plt.axes(rect_histy)\n",
    "\n",
    "    # Remove labels from histogram axes\n",
    "    nullfmt = NullFormatter() \n",
    "    ax_hist_x.xaxis.set_major_formatter(nullfmt)\n",
    "    ax_hist_y.yaxis.set_major_formatter(nullfmt)\n",
    "\n",
    "    # The hexbin\n",
    "    ax_main.hexbin(x, y, gridsize=(bins, bins), cmap='Blues')\n",
    "    ax_main.set_xlim(xlim)\n",
    "    ax_main.set_ylim(ylim)\n",
    "\n",
    "    # The histograms\n",
    "    avg_x = np.average(x)\n",
    "    std_x = np.std(x)\n",
    "    ax_hist_x.hist(x, bins=bins) \n",
    "    ax_hist_x.axvline(avg_x, color='black', linestyle='--', label='Average')\n",
    "    ax_hist_x.axvline(avg_x + std_x, color='black', linestyle=':')\n",
    "    ax_hist_x.axvline(avg_x - std_x, color='black', linestyle=':', \n",
    "                      label='Standard Deviation')\n",
    "    \n",
    "    avg_y = np.average(y)\n",
    "    std_y = np.std(y)\n",
    "    ax_hist_y.hist(y, bins=bins, orientation='horizontal')\n",
    "    ax_hist_y.axhline(avg_y, color='black', linestyle='--')\n",
    "    ax_hist_y.axhline(avg_y + std_y, color='black', linestyle=':')\n",
    "    ax_hist_y.axhline(avg_y - std_y, color='black', linestyle=':')\n",
    "\n",
    "    ax_hist_x.set_xlim(ax_main.get_xlim())\n",
    "    ax_hist_y.set_ylim(ax_main.get_ylim())\n",
    "\n",
    "    return fig, ax_main, ax_hist_x, ax_hist_y\n",
    "    "
   ]
  },
  {
   "cell_type": "code",
   "execution_count": null,
   "metadata": {},
   "outputs": [],
   "source": [
    "stretch, color = sncosmo_sims.bg_stretch_color(\n",
    "    size=1e6, \n",
    "    min_stretch=-np.inf, \n",
    "    min_color=-np.inf, \n",
    "    max_stretch=np.inf, \n",
    "    max_color=np.inf)\n"
   ]
  },
  {
   "cell_type": "code",
   "execution_count": null,
   "metadata": {
    "scrolled": false
   },
   "outputs": [],
   "source": [
    "xlim = (sncosmo_sims.AVG_STRETCH - .4, sncosmo_sims.AVG_STRETCH + .4)\n",
    "ylim = (sncosmo_sims.AVG_COLOR - .6, sncosmo_sims.AVG_COLOR + .6)\n",
    "fig, *axes = plot_hexbin(stretch, color, xlim, ylim, bins=30)\n",
    "\n",
    "axes[0].axvline(min(bg_source._stretch), linestyle='-.')\n",
    "axes[0].axvline(max(bg_source._stretch), linestyle='-.')\n",
    "axes[0].axhline(min(bg_source._color), linestyle='-.')\n",
    "axes[0].axhline(max(bg_source._color), linestyle='-.', label='Model Limits')\n",
    "\n",
    "axes[0].set_xlabel('Stretch (x1)', fontsize=12)\n",
    "axes[0].set_ylabel('Color (c)', fontsize=12)\n",
    "fig.legend(fontsize=12, loc='upper right', bbox_to_anchor=(1.05, .9))\n",
    "\n",
    "plt.show()\n"
   ]
  },
  {
   "cell_type": "markdown",
   "metadata": {},
   "source": [
    "## Model Evolution <a id='model_evolution'></a>\n",
    "\n",
    "We explore the predicted flux and colors of our ported 91bg model. We arbitrarily choose to use the CSP band passes.\n"
   ]
  },
  {
   "cell_type": "code",
   "execution_count": null,
   "metadata": {},
   "outputs": [],
   "source": [
    "dr3.register_filters(True)\n",
    "\n",
    "# A set of fiducial band passes.\n",
    "unique_bands = (\n",
    "    'csp_dr3_u',\n",
    "    'csp_dr3_g',\n",
    "    'csp_dr3_r',\n",
    "    'csp_dr3_i',\n",
    "    'csp_dr3_B',\n",
    "    'csp_dr3_V'\n",
    ")\n"
   ]
  },
  {
   "cell_type": "code",
   "execution_count": null,
   "metadata": {},
   "outputs": [],
   "source": [
    "def plot_flux_for_param(source, param_name, param_value):\n",
    "    \"\"\"Plot a modeled light curve over the range of a given param\n",
    "    \n",
    "    Args:\n",
    "        source    (Source): An sncosmo source class\n",
    "        param_name   (str): Name of the param to vary\n",
    "        param_value  (str): Values of the param to plot\n",
    "    \"\"\"\n",
    "\n",
    "    model = sncosmo.Model(source)\n",
    "    phase = np.arange(model.mintime(), model.maxtime())\n",
    "    fig, axes = plt.subplots(2, 3, figsize=(15, 10), sharex=True, sharey=True)\n",
    "    for band, axis in zip(unique_bands, axes.flatten()):\n",
    "        for p_val in param_value:\n",
    "            model.update({param_name: p_val})\n",
    "            flux = model.bandflux(band, phase, zp=25, zpsys='AB')\n",
    "            axis.plot(phase, flux, label=f'{param_name} = {p_val}')\n",
    "            axis.set_xlabel('Time')\n",
    "            axis.set_ylabel('Flux')\n",
    "            axis.set_title(band)\n",
    "            axis.legend()\n",
    "\n",
    "    plt.show()\n"
   ]
  },
  {
   "cell_type": "code",
   "execution_count": null,
   "metadata": {},
   "outputs": [],
   "source": [
    "plot_flux_for_param(bg_source, 'c', (0.0, 0.25, 0.5, 0.75, 1))\n"
   ]
  },
  {
   "cell_type": "code",
   "execution_count": null,
   "metadata": {},
   "outputs": [],
   "source": [
    "plot_flux_for_param(bg_source, 'x1', (0.65, 0.85, 1.05, 1.25))\n"
   ]
  },
  {
   "cell_type": "code",
   "execution_count": null,
   "metadata": {},
   "outputs": [],
   "source": [
    "def plot_color_for_param(source, colors, param_name, param_value):\n",
    "    \"\"\"Plot a modeled light curve over the range of a given param\n",
    "    \n",
    "    Args:\n",
    "        source    (Source): An sncosmo source class\n",
    "        param_name   (str): Name of the param to vary\n",
    "        param_value  (str): Values of the param to plot\n",
    "    \"\"\"\n",
    "\n",
    "    model = sncosmo.Model(source)\n",
    "    phase = np.arange(model.mintime(), model.maxtime())\n",
    "    fig, axes = plt.subplots(2, 3, figsize=(15, 10), sharex=True)\n",
    "    for (band1, band2), axis in zip(colors, axes.flatten()):\n",
    "        for p_val in param_value:\n",
    "            model.update({param_name: p_val})\n",
    "            color = model.color(band1, band2, 'ab', phase)\n",
    "            axis.plot(phase, color, label=f'{param_name} = {p_val}')\n",
    "            axis.set_xlabel('Time')\n",
    "            axis.set_ylabel('Color')\n",
    "            axis.set_title(f'{band1} - {band2}')\n",
    "            axis.legend()\n",
    "            \n",
    "    plt.tight_layout()\n",
    "    plt.show()\n"
   ]
  },
  {
   "cell_type": "code",
   "execution_count": null,
   "metadata": {},
   "outputs": [],
   "source": [
    "colors = tuple((unique_bands[i], unique_bands[i + 1]) for i in range(len(unique_bands) - 1))\n",
    "plot_color_for_param(bg_source, colors, 'c', (0.0, 0.25, 0.5, 0.75, 1))\n"
   ]
  },
  {
   "cell_type": "code",
   "execution_count": null,
   "metadata": {},
   "outputs": [],
   "source": [
    "plot_color_for_param(bg_source, colors, 'x1', (0.65, 0.85, 1.05, 1.25))\n"
   ]
  },
  {
   "cell_type": "code",
   "execution_count": null,
   "metadata": {},
   "outputs": [],
   "source": []
  }
 ],
 "metadata": {
  "kernelspec": {
   "display_name": "Python [conda env:phot_class] *",
   "language": "python",
   "name": "conda-env-phot_class-py"
  },
  "language_info": {
   "codemirror_mode": {
    "name": "ipython",
    "version": 3
   },
   "file_extension": ".py",
   "mimetype": "text/x-python",
   "name": "python",
   "nbconvert_exporter": "python",
   "pygments_lexer": "ipython3",
   "version": "3.7.4"
  }
 },
 "nbformat": 4,
 "nbformat_minor": 2
}
