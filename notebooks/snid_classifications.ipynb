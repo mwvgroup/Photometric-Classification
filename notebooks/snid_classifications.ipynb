{
 "cells": [
  {
   "cell_type": "markdown",
   "metadata": {},
   "source": [
    "# SNID Results\n",
    "\n",
    "This notebook explores SDSS typing results from SNID."
   ]
  },
  {
   "cell_type": "code",
   "execution_count": null,
   "metadata": {},
   "outputs": [],
   "source": [
    "import sys\n",
    "from pathlib import Path\n",
    "\n",
    "import numpy as np\n",
    "import pandas as pd\n",
    "import seaborn as sn\n",
    "from matplotlib import pyplot as plt\n",
    "from astropy.table import Table\n",
    "\n",
    "sys.path.insert(0, '../scripts')\n",
    "from run_snid_typing import sdss_data_iter\n",
    "\n",
    "results_dir = Path('.').resolve().parent / 'results'\n",
    "fig_dir = Path('./notebook_figs/snid')\n",
    "fig_dir.mkdir(exist_ok=True, parents=True)\n"
   ]
  },
  {
   "cell_type": "markdown",
   "metadata": {},
   "source": [
    "We define some plotting functions ahead of time."
   ]
  },
  {
   "cell_type": "code",
   "execution_count": null,
   "metadata": {},
   "outputs": [],
   "source": [
    "def plot_snid_template_num(data, filt=None, colname='Type'):\n",
    "    \"\"\"Plot distributions for the number of template matches\n",
    "    \n",
    "    Args:\n",
    "        data (DataFrame): DataFrame with ``type`` column\n",
    "        filt       (str): Only plot types with this argument in the name\n",
    "        colname    (str): Use a column other than ``type``\n",
    "    \"\"\"\n",
    "    \n",
    "    fig, (ax1, ax2, ax3) = plt.subplots(1, 3, figsize=(9, 3))\n",
    "\n",
    "    for classification, class_data in data.groupby(colname):\n",
    "        if filt and filt not in classification:\n",
    "            continue\n",
    "            \n",
    "        ax1.hist(class_data.nType, bins=np.arange(0, 100, 5), alpha=.5)\n",
    "        ax1.set_xlabel('Number of Templates')\n",
    "        ax1.set_ylabel('Number of Targets')\n",
    "\n",
    "        ax2.hist(class_data.percType, bins=np.arange(0, 1.1, .1), alpha=.5)\n",
    "        ax2.set_xlabel('Percentage of Templates')\n",
    "        ax2.set_ylabel('Number of Targets')\n",
    "\n",
    "        ax3.scatter(\n",
    "            class_data.nType, class_data.percType, \n",
    "            label=classification, s=8, alpha=.5, zorder=-len(class_data))\n",
    "        \n",
    "        ax3.set_xlabel('Number of Templates')\n",
    "        ax3.set_ylabel('Percentage of Templates')\n",
    "\n",
    "    fig.legend(bbox_to_anchor=(1.1, 1.1))    \n",
    "    fig.tight_layout()\n",
    "\n",
    "\n",
    "def plot_confusion_matrix(data, colname='Type'):\n",
    "    \"\"\"Plot a confusion matrix comparing SDSS and SNID classifications\n",
    "    \n",
    "    Args:\n",
    "        data (DataFrame): DataFrame with ``colname`` column\n",
    "        colname    (str): Use a column other than ``'Type'``\n",
    "    \"\"\"\n",
    "    \n",
    "    from sndata.sdss import sako18\n",
    "    master = sako18.load_table('master')\n",
    "    master['objID'] = np.array(master['CID'], dtype=float)\n",
    "    sdss_classifications = master[['objID', 'Classification']].to_pandas(index='objID')\n",
    "    \n",
    "    joined_data = data.join(sdss_classifications)\n",
    "\n",
    "    confusion_matrix = pd.crosstab(\n",
    "        joined_data['Classification'], joined_data[colname], \n",
    "        rownames=['SDSS'], colnames=['SNID'])\n",
    "\n",
    "    sn.heatmap(confusion_matrix, annot=True, vmax=30, cmap=\"Blues\", fmt='g')\n",
    "    plt.tight_layout()\n",
    "    "
   ]
  },
  {
   "cell_type": "markdown",
   "metadata": {},
   "source": [
    "## SN Typing\n",
    "\n",
    "Results for SNIDtop level types (`Ia`, `Ib`, `Ic`, `II`, and `NotSN`)\n"
   ]
  },
  {
   "cell_type": "code",
   "execution_count": null,
   "metadata": {},
   "outputs": [],
   "source": [
    "def read_peak_type(path):\n",
    "    \"\"\"Return the type summary from an SNID output file\n",
    "\n",
    "    Args:\n",
    "        path (str, Path): Path to read\n",
    "\n",
    "    Returns:\n",
    "         An astropy Table\n",
    "    \"\"\"\n",
    "\n",
    "    names = ['type', 'ntemp', 'fraction', 'slope', 'redshift',\n",
    "             'redshift_error', 'age', 'age_error']\n",
    "\n",
    "    data = Table.read(\n",
    "        str(path), header_start=4, data_start=4,\n",
    "        data_end=28, format='ascii.basic', names=names\n",
    "    ).to_pandas(index='type')\n",
    "\n",
    "    # Calculate percentage of templates used for each type\n",
    "    # Total matched templates equals the sum of matches for the parent types\n",
    "    type_names = ['Ia', 'Ib', 'Ic', 'II', 'NotSN']\n",
    "    peak_type = data.loc[type_names].ntemp.idxmax()\n",
    "    ntemp = data.loc[peak_type].ntemp\n",
    "    total_templates = data.loc[type_names].ntemp.sum()\n",
    "    percent_templates =  ntemp / total_templates * 100\n",
    "\n",
    "    return peak_type, ntemp, percent_templates\n",
    "\n",
    "\n",
    "def compile_peak_types(snid_dir):\n",
    "    \"\"\"Get peak types from all output files from a previous SNID run\n",
    "\n",
    "    Args:\n",
    "        snid_dir (Path): Directory of SNID outputs\n",
    "\n",
    "    Returns:\n",
    "        A DataFrame indexed by object ID\n",
    "    \"\"\"\n",
    "    \n",
    "    if not snid_dir.exists():\n",
    "        raise FileNotFoundError(f'Results directory DNE: {snid_dir}')\n",
    "\n",
    "    rows = []\n",
    "    for path in snid_dir.glob('*snid.output'):\n",
    "        obj_id, phase, *_ = path.name.split('_')\n",
    "        peak_type, ntemp, percent_templates = read_peak_type(path)\n",
    "        rows.append([int(obj_id), float(phase), peak_type, ntemp, percent_templates])\n",
    "\n",
    "    type_data = pd.DataFrame(\n",
    "        rows,\n",
    "        columns=['objId', 'Phase', 'Type', 'nType', 'percType',])\n",
    "\n",
    "    # Keep only the spectra nearest peak\n",
    "    type_data['abs_phase'] = type_data.Phase.abs()\n",
    "    type_data = type_data.sort_values('abs_phase', ascending=True)\n",
    "    type_data = type_data.drop_duplicates(keep='first', subset='objId')\n",
    "    type_data = type_data.sort_values('objId', ascending=True)\n",
    "\n",
    "    return type_data.set_index('objId')\n"
   ]
  },
  {
   "cell_type": "code",
   "execution_count": null,
   "metadata": {
    "scrolled": false
   },
   "outputs": [],
   "source": [
    "types_rlap_5 = compile_peak_types(results_dir / 'snid' / 'type_rlap_5')\n",
    "\n",
    "plot_snid_template_num(types_rlap_5)\n",
    "types_rlap_5.Type.value_counts()\n"
   ]
  },
  {
   "cell_type": "code",
   "execution_count": null,
   "metadata": {},
   "outputs": [],
   "source": [
    "types_rlap_10 = compile_peak_types(results_dir / 'snid' / 'type_rlap_10')\n",
    "\n",
    "plot_snid_template_num(types_rlap_10)\n",
    "types_rlap_10.Type.value_counts()\n"
   ]
  },
  {
   "cell_type": "code",
   "execution_count": null,
   "metadata": {},
   "outputs": [],
   "source": [
    "final_types = types_rlap_5.copy()\n",
    "final_types.update(types_rlap_10)\n",
    "\n",
    "plot_snid_template_num(final_types)\n",
    "final_types.Type.value_counts()\n"
   ]
  },
  {
   "cell_type": "code",
   "execution_count": null,
   "metadata": {},
   "outputs": [],
   "source": [
    "plot_confusion_matrix(final_types)\n",
    "plt.savefig(fig_dir / 'type_confusion_matrix.pdf')\n"
   ]
  },
  {
   "cell_type": "markdown",
   "metadata": {},
   "source": [
    "## SN Sub-Typing\n",
    "\n",
    "SNID results for sub-categories."
   ]
  },
  {
   "cell_type": "code",
   "execution_count": null,
   "metadata": {},
   "outputs": [],
   "source": [
    "def read_peak_subtype(path):\n",
    "    \"\"\"Return the type summary from an SNID output file\n",
    "\n",
    "    Args:\n",
    "        path (str, Path): Path to read\n",
    "\n",
    "    Returns:\n",
    "         An astropy Table\n",
    "    \"\"\"\n",
    "\n",
    "    names = ['type', 'ntemp', 'fraction', 'slope', 'redshift',\n",
    "             'redshift_error', 'age', 'age_error']\n",
    "\n",
    "    data = Table.read(\n",
    "        str(path), header_start=4, data_start=4,\n",
    "        data_end=28, format='ascii.basic', names=names\n",
    "    ).to_pandas(index='type')\n",
    "    \n",
    "    # Get the subtype with the most matches. Make sure the subtype \n",
    "    # is not equally as \"good\" a match as the second best subtype\n",
    "    sn_type, subtype, second_subtype = data.ntemp.nlargest(3).index\n",
    "    assert data.loc[subtype].ntemp != second_subtype\n",
    "    \n",
    "    subtype_record = data.loc[subtype]\n",
    "    type_record = data.loc[sn_type]\n",
    "    perc_temp = subtype_record.ntemp / type_record.ntemp * 100\n",
    "\n",
    "    return subtype_record.redshift, subtype, subtype_record.ntemp, perc_temp\n",
    "\n",
    "\n",
    "def compile_peak_subtypes(snid_dir):\n",
    "    \"\"\"Get peak subtypes from all output files from a previous SNID run\n",
    "\n",
    "    Args:\n",
    "        snid_dir (Path): Directory of SNID outputs\n",
    "\n",
    "    Returns:\n",
    "        A DataFrame indexed by object ID\n",
    "    \"\"\"\n",
    "    \n",
    "    if not snid_dir.exists():\n",
    "        raise FileNotFoundError(f'Results directory DNE: {snid_dir}')\n",
    "    \n",
    "    rows = []\n",
    "    for path in snid_dir.glob('*snid.output'):\n",
    "        obj_id, phase, *_ = path.name.split('_') \n",
    "        rows.append([int(obj_id), float(phase), *read_peak_subtype(path)])\n",
    "\n",
    "    type_data = pd.DataFrame(\n",
    "        rows,\n",
    "        columns=['objId', 'Phase', 'redshift', 'Type', 'nType', 'percType'])\n",
    "\n",
    "    # Keep only the spectra nearest peak\n",
    "    type_data['abs_phase'] = type_data['Phase'].abs()\n",
    "    type_data = type_data.sort_values('abs_phase', ascending=True)\n",
    "    type_data = type_data.drop_duplicates(keep='first', subset='objId')\n",
    "    type_data = type_data.drop('abs_phase', axis='columns')\n",
    "\n",
    "    type_data = type_data.sort_values('objId')\n",
    "    return type_data.set_index('objId')\n"
   ]
  },
  {
   "cell_type": "markdown",
   "metadata": {},
   "source": [
    "We consider results with a minimum rlap of 10 and 5. We also consider the combination of the results."
   ]
  },
  {
   "cell_type": "code",
   "execution_count": null,
   "metadata": {},
   "outputs": [],
   "source": [
    "subtypes_rlap_5_path = results_dir / 'snid' / 'subtype_rlap_5'\n",
    "subtypes_rlap_5 = compile_peak_subtypes(subtypes_rlap_5_path)\n",
    "\n",
    "plot_snid_template_num(subtypes_rlap_5, 'Ia')\n",
    "subtypes_rlap_5.Type.value_counts()\n"
   ]
  },
  {
   "cell_type": "code",
   "execution_count": null,
   "metadata": {},
   "outputs": [],
   "source": [
    "subtypes_rlap_10_path = results_dir / 'snid' / 'subtype_rlap_10'\n",
    "subtypes_rlap_10 = compile_peak_subtypes(subtypes_rlap_10_path)\n",
    "\n",
    "plot_snid_template_num(subtypes_rlap_10, 'Ia')\n",
    "subtypes_rlap_10.Type.value_counts()\n"
   ]
  },
  {
   "cell_type": "code",
   "execution_count": null,
   "metadata": {},
   "outputs": [],
   "source": [
    "combined_subtypes = subtypes_rlap_5.copy()\n",
    "combined_subtypes.update(subtypes_rlap_10)\n",
    "\n",
    "plot_snid_template_num(combined_subtypes, 'Ia')\n",
    "combined_subtypes.Type.value_counts()\n"
   ]
  },
  {
   "cell_type": "code",
   "execution_count": null,
   "metadata": {},
   "outputs": [],
   "source": [
    "plt.figure(figsize=(8, 6))\n",
    "plot_confusion_matrix(combined_subtypes)\n",
    "plt.savefig(fig_dir / 'subtype_confusion_matrix.pdf')\n"
   ]
  },
  {
   "cell_type": "code",
   "execution_count": null,
   "metadata": {},
   "outputs": [],
   "source": []
  }
 ],
 "metadata": {
  "kernelspec": {
   "display_name": "Python 3",
   "language": "python",
   "name": "python3"
  },
  "language_info": {
   "codemirror_mode": {
    "name": "ipython",
    "version": 3
   },
   "file_extension": ".py",
   "mimetype": "text/x-python",
   "name": "python",
   "nbconvert_exporter": "python",
   "pygments_lexer": "ipython3",
   "version": "3.7.7"
  }
 },
 "nbformat": 4,
 "nbformat_minor": 1
}
