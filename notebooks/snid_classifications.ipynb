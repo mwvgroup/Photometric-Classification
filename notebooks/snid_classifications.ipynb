{
 "cells": [
  {
   "cell_type": "markdown",
   "metadata": {},
   "source": [
    "# SNID Results\n",
    "\n",
    "This notebook explores typing results from running SNID on SDSS spectra."
   ]
  },
  {
   "cell_type": "code",
   "execution_count": null,
   "metadata": {},
   "outputs": [],
   "source": [
    "import sys\n",
    "from pathlib import Path\n",
    "\n",
    "import numpy as np\n",
    "import pandas as pd\n",
    "import seaborn as sn\n",
    "from astropy.table import Table\n",
    "from matplotlib import pyplot as plt\n",
    "from sndata.sdss import sako18spec\n"
   ]
  },
  {
   "cell_type": "code",
   "execution_count": null,
   "metadata": {},
   "outputs": [],
   "source": [
    "# Location of pipeline outputs\n",
    "results_dir = Path('.').resolve().parent / 'results'\n",
    "snid_dir = results_dir / 'snid'\n",
    "\n",
    "# Where to save figures to\n",
    "fig_dir = Path('./notebook_figs/snid')\n",
    "fig_dir.mkdir(exist_ok=True, parents=True)\n"
   ]
  },
  {
   "cell_type": "markdown",
   "metadata": {},
   "source": [
    "## SN Typing\n",
    "\n",
    "Results for SNIDtop level types (`Ia`, `Ib`, `Ic`, `II`, and `NotSN`)\n"
   ]
  },
  {
   "cell_type": "code",
   "execution_count": null,
   "metadata": {},
   "outputs": [],
   "source": [
    "def read_peak_type(path):\n",
    "    \"\"\"Return the type summary from an SNID output file\n",
    "\n",
    "    Args:\n",
    "        path (str, Path): Path to read\n",
    "\n",
    "    Returns:\n",
    "         An astropy Table\n",
    "    \"\"\"\n",
    "\n",
    "    names = ['type', 'ntemp', 'fraction', 'slope', 'redshift',\n",
    "             'redshift_error', 'age', 'age_error']\n",
    "\n",
    "    data = Table.read(\n",
    "        str(path), header_start=4, data_start=4,\n",
    "        data_end=28, format='ascii.basic', names=names\n",
    "    ).to_pandas(index='type')\n",
    "\n",
    "    # Calculate percentage of templates used for each type\n",
    "    # Total matched templates equals the sum of matches for the parent types\n",
    "    type_names = ['Ia', 'Ib', 'Ic', 'II', 'NotSN']\n",
    "    peak_type = data.loc[type_names].ntemp.idxmax()\n",
    "    ntemp = data.loc[peak_type].ntemp\n",
    "    total_templates = data.loc[type_names].ntemp.sum()\n",
    "    percent_templates =  ntemp / total_templates * 100\n",
    "\n",
    "    return peak_type, ntemp, percent_templates\n",
    "\n",
    "\n",
    "def compile_peak_types(snid_dir):\n",
    "    \"\"\"Get peak types from all output files from a previous SNID run\n",
    "\n",
    "    Args:\n",
    "        snid_dir (Path): Directory of SNID outputs\n",
    "\n",
    "    Returns:\n",
    "        A DataFrame indexed by object ID\n",
    "    \"\"\"\n",
    "    \n",
    "    if not snid_dir.exists():\n",
    "        raise FileNotFoundError(f'Results directory DNE: {snid_dir}')\n",
    "\n",
    "    rows = []\n",
    "    for path in snid_dir.glob('*snid.output'):\n",
    "        obj_id, phase, *_ = path.name.split('_')\n",
    "        peak_type, ntemp, percent_templates = read_peak_type(path)\n",
    "        rows.append([int(obj_id), float(phase), peak_type, ntemp, percent_templates])\n",
    "\n",
    "    type_data = pd.DataFrame(\n",
    "        rows,\n",
    "        columns=['objId', 'Phase', 'Type', 'nType', 'percType',])\n",
    "\n",
    "    # Keep only the spectra nearest peak\n",
    "    type_data['abs_phase'] = type_data.Phase.abs()\n",
    "    type_data = type_data.sort_values('abs_phase', ascending=True)\n",
    "    type_data = type_data.drop_duplicates(keep='first', subset='objId')\n",
    "    type_data = type_data.sort_values('objId', ascending=True)\n",
    "\n",
    "    return type_data.set_index('objId')\n"
   ]
  },
  {
   "cell_type": "code",
   "execution_count": null,
   "metadata": {},
   "outputs": [],
   "source": [
    "def plot_snid_template_num(data, filt=None, colname='Type'):\n",
    "    \"\"\"Plot distributions for the number of template matches\n",
    "    \n",
    "    Args:\n",
    "        data (DataFrame): DataFrame with ``type`` column\n",
    "        filt       (str): Only plot types with this argument in the name\n",
    "        colname    (str): Use a column other than ``type``\n",
    "    \"\"\"\n",
    "    \n",
    "    fig, (ax1, ax2, ax3) = plt.subplots(1, 3, figsize=(9, 3))\n",
    "\n",
    "    for classification, class_data in data.groupby(colname):\n",
    "        if filt and filt not in classification:\n",
    "            continue\n",
    "            \n",
    "        ax1.hist(class_data.nType, bins=np.arange(0, 100, 5), alpha=.5)\n",
    "        ax1.set_xlabel('Number of Templates')\n",
    "        ax1.set_ylabel('Number of Targets')\n",
    "\n",
    "        ax2.hist(class_data.percType, bins=np.arange(0, 1.1, .1), alpha=.5)\n",
    "        ax2.set_xlabel('Percentage of Templates')\n",
    "        ax2.set_ylabel('Number of Targets')\n",
    "\n",
    "        ax3.scatter(\n",
    "            class_data.nType, class_data.percType, \n",
    "            label=classification, s=8, alpha=.5, zorder=-len(class_data))\n",
    "        \n",
    "        ax3.set_xlabel('Number of Templates')\n",
    "        ax3.set_ylabel('Percentage of Templates')\n",
    "\n",
    "    fig.legend(bbox_to_anchor=(1.1, 1.1))    \n",
    "    fig.tight_layout()\n",
    "    "
   ]
  },
  {
   "cell_type": "code",
   "execution_count": null,
   "metadata": {
    "scrolled": false
   },
   "outputs": [],
   "source": [
    "types_rlap_5 = compile_peak_types(snid_dir / 'type_rlap_5')\n",
    "plot_snid_template_num(types_rlap_5)\n",
    "types_rlap_5.Type.value_counts()\n"
   ]
  },
  {
   "cell_type": "code",
   "execution_count": null,
   "metadata": {},
   "outputs": [],
   "source": [
    "types_rlap_10 = compile_peak_types(snid_dir / 'type_rlap_10')\n",
    "plot_snid_template_num(types_rlap_10)\n",
    "types_rlap_10.Type.value_counts()\n"
   ]
  },
  {
   "cell_type": "code",
   "execution_count": null,
   "metadata": {},
   "outputs": [],
   "source": [
    "final_types = types_rlap_5.copy()\n",
    "final_types.update(types_rlap_10)\n",
    "\n",
    "plot_snid_template_num(final_types)\n",
    "final_types.Type.value_counts()\n"
   ]
  },
  {
   "cell_type": "markdown",
   "metadata": {},
   "source": [
    "## SN Sub-Typing\n",
    "\n",
    "SNID results for sub-categories."
   ]
  },
  {
   "cell_type": "code",
   "execution_count": null,
   "metadata": {},
   "outputs": [],
   "source": [
    "def read_peak_subtype(path):\n",
    "    \"\"\"Return the type summary from an SNID output file\n",
    "\n",
    "    Args:\n",
    "        path (str, Path): Path to read\n",
    "\n",
    "    Returns:\n",
    "         An astropy Table\n",
    "    \"\"\"\n",
    "\n",
    "    names = ['type', 'ntemp', 'fraction', 'slope', 'redshift',\n",
    "             'redshift_error', 'age', 'age_error']\n",
    "\n",
    "    data = Table.read(\n",
    "        str(path), header_start=4, data_start=4,\n",
    "        data_end=28, format='ascii.basic', names=names\n",
    "    ).to_pandas(index='type')\n",
    "    \n",
    "    # Get the subtype with the most matches. Make sure the subtype \n",
    "    # is not equally as \"good\" a match as the second best subtype\n",
    "    sn_type, subtype, second_subtype = data.ntemp.nlargest(3).index\n",
    "    assert data.loc[subtype].ntemp != second_subtype\n",
    "    \n",
    "    subtype_record = data.loc[subtype]\n",
    "    type_record = data.loc[sn_type]\n",
    "    perc_temp = subtype_record.ntemp / type_record.ntemp * 100\n",
    "\n",
    "    return subtype_record.redshift, subtype, subtype_record.ntemp, perc_temp\n",
    "\n",
    "\n",
    "def compile_peak_subtypes(snid_dir):\n",
    "    \"\"\"Get peak subtypes from all output files from a previous SNID run\n",
    "\n",
    "    Args:\n",
    "        snid_dir (Path): Directory of SNID outputs\n",
    "\n",
    "    Returns:\n",
    "        A DataFrame indexed by object ID\n",
    "    \"\"\"\n",
    "    \n",
    "    if not snid_dir.exists():\n",
    "        raise FileNotFoundError(f'Results directory DNE: {snid_dir}')\n",
    "    \n",
    "    rows = []\n",
    "    for path in snid_dir.glob('*snid.output'):\n",
    "        obj_id, phase, *_ = path.name.split('_') \n",
    "        rows.append([int(obj_id), float(phase), *read_peak_subtype(path)])\n",
    "\n",
    "    type_data = pd.DataFrame(\n",
    "        rows,\n",
    "        columns=['objId', 'Phase', 'redshift', 'Type', 'nType', 'percType'])\n",
    "\n",
    "    # Keep only the spectra nearest peak\n",
    "    type_data['abs_phase'] = type_data['Phase'].abs()\n",
    "    type_data = type_data.sort_values('abs_phase', ascending=True)\n",
    "    type_data = type_data.drop_duplicates(keep='first', subset='objId')\n",
    "    type_data = type_data.drop('abs_phase', axis='columns')\n",
    "\n",
    "    type_data = type_data.sort_values('objId')\n",
    "    return type_data.set_index('objId')\n"
   ]
  },
  {
   "cell_type": "markdown",
   "metadata": {},
   "source": [
    "We consider results with a minimum rlap of 10 and 5. We also consider the combination of the results."
   ]
  },
  {
   "cell_type": "code",
   "execution_count": null,
   "metadata": {},
   "outputs": [],
   "source": [
    "subtypes_rlap_5_path = snid_dir / 'subtype_rlap_5'\n",
    "subtypes_rlap_5 = compile_peak_subtypes(subtypes_rlap_5_path)\n",
    "\n",
    "plot_snid_template_num(subtypes_rlap_5, 'Ia')\n",
    "subtypes_rlap_5.Type.value_counts()\n"
   ]
  },
  {
   "cell_type": "code",
   "execution_count": null,
   "metadata": {},
   "outputs": [],
   "source": [
    "subtypes_rlap_10_path = snid_dir / 'subtype_rlap_10'\n",
    "subtypes_rlap_10 = compile_peak_subtypes(subtypes_rlap_10_path)\n",
    "\n",
    "plot_snid_template_num(subtypes_rlap_10, 'Ia')\n",
    "subtypes_rlap_10.Type.value_counts()\n"
   ]
  },
  {
   "cell_type": "code",
   "execution_count": null,
   "metadata": {},
   "outputs": [],
   "source": [
    "final_subtypes = subtypes_rlap_5.copy()\n",
    "final_subtypes.update(subtypes_rlap_10)\n",
    "\n",
    "plot_snid_template_num(final_subtypes, 'Ia')\n",
    "final_subtypes.Type.value_counts()\n"
   ]
  },
  {
   "cell_type": "markdown",
   "metadata": {},
   "source": [
    "## Comparison with SDSS"
   ]
  },
  {
   "cell_type": "markdown",
   "metadata": {},
   "source": [
    "### Confusion Matrix"
   ]
  },
  {
   "cell_type": "code",
   "execution_count": null,
   "metadata": {},
   "outputs": [],
   "source": [
    "def load_sdss_classifications():\n",
    "    \"\"\"Return a Series with SDSS classifications\"\"\"\n",
    "    \n",
    "    master = sako18spec.load_table('master')\n",
    "    master['objID'] = np.array(master['CID'], dtype=float)\n",
    "    master['SDSSClass'] = master['Classification']\n",
    "    master = master[['objID', 'SDSSClass']].to_pandas(index='objID')\n",
    "    return master\n",
    "\n",
    "\n",
    "def plot_confusion_matrix(data, col1='SDSSClass', col2='Type', ylabel='SDSS', xlabel='This Work'):\n",
    "    \"\"\"Plot a confusion matrix comparing SDSS and SNID classifications\n",
    "    \n",
    "    Args:\n",
    "        data (DataFrame): DataFrame with ``colname`` column\n",
    "        colname    (str): Use a column other than ``'Type'``\n",
    "        \n",
    "    Returns:\n",
    "        Dataframe of classifications used in the plot\n",
    "    \"\"\"\n",
    "    \n",
    "    confusion_matrix = pd.crosstab(\n",
    "        data[col1], data[col2], \n",
    "        rownames=[ylabel], colnames=[xlabel])\n",
    "\n",
    "    sn.heatmap(confusion_matrix, annot=True, vmax=30, cmap=\"Blues\", fmt='g')\n",
    "    plt.tight_layout()\n"
   ]
  },
  {
   "cell_type": "code",
   "execution_count": null,
   "metadata": {},
   "outputs": [],
   "source": [
    "sdss_types = load_sdss_classifications()\n",
    "final_types_with_sdss = final_types.join(sdss_types).replace({\n",
    "        'SNIa': 'Ia',\n",
    "        'SNIa?': 'Ia',\n",
    "        'SNIb': 'Ib',\n",
    "        'SNIc': 'Ic',\n",
    "        'SNII': 'II',\n",
    "        'AGN': 'NotSN'\n",
    "    })\n"
   ]
  },
  {
   "cell_type": "code",
   "execution_count": null,
   "metadata": {},
   "outputs": [],
   "source": [
    "plot_confusion_matrix(final_types_with_sdss)\n",
    "plt.savefig(fig_dir / 'type_confusion_matrix.pdf')\n"
   ]
  },
  {
   "cell_type": "code",
   "execution_count": null,
   "metadata": {},
   "outputs": [],
   "source": [
    "final_subtypes_with_sdss = final_subtypes.join(sdss_types).replace({\n",
    "        'SNIa': 'Ia',\n",
    "        'SNIa?': 'Ia',\n",
    "        'SNIb': 'Ib',\n",
    "        'SNIc': 'Ic',\n",
    "        'SNII': 'II',\n",
    "        'AGN': 'NotSN'\n",
    "    })\n"
   ]
  },
  {
   "cell_type": "code",
   "execution_count": null,
   "metadata": {},
   "outputs": [],
   "source": [
    "plt.figure(figsize=(8, 6))\n",
    "plot_confusion_matrix(final_subtypes_with_sdss)\n",
    "plt.savefig(fig_dir / 'subtype_confusion_matrix.pdf')\n"
   ]
  },
  {
   "cell_type": "markdown",
   "metadata": {},
   "source": [
    "### Spectra\n",
    "\n",
    "We inspect spectra with classifications that disagree."
   ]
  },
  {
   "cell_type": "code",
   "execution_count": null,
   "metadata": {},
   "outputs": [],
   "source": [
    "import warnings\n",
    "from sndata._utils import convert_to_jd\n",
    "from datetime import datetime\n",
    "\n",
    "def get_sdss_t0(obj_id):\n",
    "    \"\"\"Get the t0 value for a SDSS target\n",
    "\n",
    "    Args:\n",
    "        obj_id (str): The object identifier\n",
    "\n",
    "    Returns:\n",
    "        The time of B-band maximum in units of\n",
    "    \"\"\"\n",
    "\n",
    "    with warnings.catch_warnings():\n",
    "        warnings.simplefilter(\"ignore\")\n",
    "        sdss_master_table = sako18spec.load_table('master').to_pandas(index='CID')\n",
    "\n",
    "    \n",
    "    # Unknown object ID\n",
    "    if obj_id not in sdss_master_table.index:\n",
    "        raise ValueError(f't0 not available for <{obj_id}>')\n",
    "\n",
    "    t0_mjd = sdss_master_table.loc[obj_id]['PeakMJDSALT2zspec']\n",
    "\n",
    "    # Known object Id with unknown peak time\n",
    "    if np.isnan(t0_mjd):\n",
    "        raise ValueError(f't0 not available for <{obj_id}>')\n",
    "\n",
    "    to_jd = convert_to_jd(t0_mjd)\n",
    "    return to_jd\n",
    "\n",
    "\n",
    "@np.vectorize\n",
    "def convert_sdss_date_to_jd(observed_date):\n",
    "    \"\"\"Convert SDSS Spectra observation dates from string format to JD\n",
    "\n",
    "    Args:\n",
    "        observed_date (str): Date string with format ``%Y-%m-%d``\n",
    "\n",
    "    Returns:\n",
    "        Observed date in JD as a float\n",
    "    \"\"\"\n",
    "\n",
    "    date_with_timezone = observed_date + '+0000'\n",
    "    date = datetime.strptime(date_with_timezone, '%Y-%m-%d%z')\n",
    "\n",
    "    unix_time = date.timestamp()\n",
    "    january_1_1970_in_julian = 2440587.5\n",
    "    day_in_seconds = 24 * 60 * 60\n",
    "    date_in_jd = (unix_time / day_in_seconds) + january_1_1970_in_julian\n",
    "\n",
    "    return date_in_jd\n"
   ]
  },
  {
   "cell_type": "code",
   "execution_count": null,
   "metadata": {},
   "outputs": [],
   "source": [
    "disagreement = final_types_with_sdss[\n",
    "    final_types_with_sdss['SDSSClass'] != final_types_with_sdss['Type']\n",
    "]\n",
    "\n",
    "disagreement = disagreement.sort_values(['SDSSClass', 'Type'])\n",
    "print(f'{len(disagreement)} objects are in disagreement')\n",
    "disagreement\n"
   ]
  },
  {
   "cell_type": "code",
   "execution_count": null,
   "metadata": {
    "scrolled": false
   },
   "outputs": [],
   "source": [
    "def plot_dis_spectra(disagreement_df):\n",
    "\n",
    "    for obj_id, row in disagreement_df.iterrows():\n",
    "        \n",
    "        # Load object spectra\n",
    "        data = sako18spec.get_data_for_id(str(obj_id))\n",
    "        data = data[data['type'] != 'Gal']\n",
    "\n",
    "        # Determine phase of each spectrum\n",
    "        t0 = get_sdss_t0(str(obj_id))\n",
    "        phase = convert_sdss_date_to_jd(data['date']) - t0\n",
    "        data['phase'] = np.round(phase, 1)\n",
    "\n",
    "        # Keep only the phase used by SNID\n",
    "        snid_phase = row.Phase\n",
    "        spectrum = data[data['phase'] == snid_phase]\n",
    "        \n",
    "        # Crop spectrum to wavelength range considered by SNID\n",
    "        # This helps the auto axis scaler\n",
    "        spectrum = spectrum[\n",
    "            (spectrum['wavelength'] > 4000) & (spectrum['wavelength'] < 9000)]\n",
    "\n",
    "        plt.plot(spectrum['wavelength'], spectrum['flux'])\n",
    "        plt.title(f'{obj_id} - SDSS: {row.SDSSClass} - SNID: {row.Type}')\n",
    "        plt.xlim(4000, 9000)\n",
    "        plt.show()\n"
   ]
  },
  {
   "cell_type": "code",
   "execution_count": null,
   "metadata": {
    "scrolled": false
   },
   "outputs": [],
   "source": [
    "plot_dis_spectra(disagreement)\n"
   ]
  },
  {
   "cell_type": "code",
   "execution_count": null,
   "metadata": {},
   "outputs": [],
   "source": []
  }
 ],
 "metadata": {
  "kernelspec": {
   "display_name": "Python 3",
   "language": "python",
   "name": "python3"
  },
  "language_info": {
   "codemirror_mode": {
    "name": "ipython",
    "version": 3
   },
   "file_extension": ".py",
   "mimetype": "text/x-python",
   "name": "python",
   "nbconvert_exporter": "python",
   "pygments_lexer": "ipython3",
   "version": "3.7.7"
  }
 },
 "nbformat": 4,
 "nbformat_minor": 1
}
