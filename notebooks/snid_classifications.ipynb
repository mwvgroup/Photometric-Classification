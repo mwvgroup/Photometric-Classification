{
 "cells": [
  {
   "cell_type": "markdown",
   "metadata": {},
   "source": [
    "# SNID Results\n",
    "\n",
    "This notebook explores typing results from running SNID on SDSS spectra."
   ]
  },
  {
   "cell_type": "code",
   "execution_count": null,
   "metadata": {},
   "outputs": [],
   "source": [
    "import sys\n",
    "import warnings\n",
    "from datetime import datetime\n",
    "from pathlib import Path\n",
    "\n",
    "import numpy as np\n",
    "import pandas as pd\n",
    "import seaborn as sn\n",
    "from astropy.table import Table\n",
    "from matplotlib import pyplot as plt\n",
    "from sndata.sdss import sako18spec\n",
    "from sndata._utils import convert_to_jd\n",
    "\n",
    "sys.path.insert(0, '../scripts')\n",
    "from run_snid_typing import compile_peak_types, compile_peak_subtypes\n"
   ]
  },
  {
   "cell_type": "code",
   "execution_count": null,
   "metadata": {},
   "outputs": [],
   "source": [
    "# Location of pipeline outputs\n",
    "results_dir = Path('.').resolve().parent / 'results'\n",
    "snid_dir = results_dir / 'snid'\n",
    "\n",
    "# Where to save figures to\n",
    "fig_dir = Path('./notebook_figs/snid')\n",
    "fig_dir.mkdir(exist_ok=True, parents=True)\n"
   ]
  },
  {
   "cell_type": "markdown",
   "metadata": {},
   "source": [
    "## SN Typing\n",
    "\n",
    "Results for SNIDtop level types (`Ia`, `Ib`, `Ic`, `II`, and `NotSN`). We consider results with a minimum rlap of 10 and 5. We also consider the combination of the results.\n"
   ]
  },
  {
   "cell_type": "code",
   "execution_count": null,
   "metadata": {},
   "outputs": [],
   "source": [
    "def plot_snid_template_num(\n",
    "        data, filt=None, type_col='Type', num_col='nType', perc_col='percType'):\n",
    "    \"\"\"Plot distributions for the number of template matches\n",
    "    \n",
    "    Args:\n",
    "        data (DataFrame): DataFrame with ``type`` column\n",
    "        filt       (str): Only plot types with this argument in the name\n",
    "        colname    (str): Use a column other than ``type``\n",
    "    \"\"\"\n",
    "    \n",
    "    fig, (ax1, ax2, ax3) = plt.subplots(1, 3, figsize=(9, 3))\n",
    "\n",
    "    for classification, class_data in data.groupby(type_col):\n",
    "        if filt and filt not in classification:\n",
    "            continue\n",
    "            \n",
    "        ax1.hist(class_data[num_col], bins=np.arange(0, 100, 5), alpha=.5)\n",
    "        ax1.set_xlabel('Number of Templates')\n",
    "        ax1.set_ylabel('Number of Targets')\n",
    "\n",
    "        ax2.hist(class_data[perc_col], bins=np.arange(0, 1.1, .1), alpha=.5)\n",
    "        ax2.set_xlabel('Percentage of Templates')\n",
    "        ax2.set_ylabel('Number of Targets')\n",
    "\n",
    "        ax3.scatter(\n",
    "            class_data[num_col], class_data[perc_col], \n",
    "            label=classification, s=8, alpha=.5, zorder=-len(class_data))\n",
    "        \n",
    "        ax3.set_xlabel('Number of Templates')\n",
    "        ax3.set_ylabel('Percentage of Templates')\n",
    "\n",
    "    fig.legend(bbox_to_anchor=(1.1, 1.1))    \n",
    "    fig.tight_layout()\n",
    "    "
   ]
  },
  {
   "cell_type": "code",
   "execution_count": null,
   "metadata": {
    "scrolled": false
   },
   "outputs": [],
   "source": [
    "types_rlap_5 = compile_peak_types(snid_dir / 'type_rlap_5')\n",
    "plot_snid_template_num(types_rlap_5)\n",
    "types_rlap_5.Type.value_counts()\n"
   ]
  },
  {
   "cell_type": "code",
   "execution_count": null,
   "metadata": {},
   "outputs": [],
   "source": [
    "types_rlap_10 = compile_peak_types(snid_dir / 'type_rlap_10')\n",
    "plot_snid_template_num(types_rlap_10)\n",
    "types_rlap_10.Type.value_counts()\n"
   ]
  },
  {
   "cell_type": "code",
   "execution_count": null,
   "metadata": {},
   "outputs": [],
   "source": [
    "final_types = types_rlap_5.copy()\n",
    "final_types.update(types_rlap_10)\n",
    "\n",
    "plot_snid_template_num(final_types)\n",
    "final_types.Type.value_counts()\n"
   ]
  },
  {
   "cell_type": "code",
   "execution_count": null,
   "metadata": {},
   "outputs": [],
   "source": [
    "final_types.percType.min()"
   ]
  },
  {
   "cell_type": "markdown",
   "metadata": {},
   "source": [
    "## SN Sub-Typing\n",
    "\n",
    "SNID results for sub-categories."
   ]
  },
  {
   "cell_type": "code",
   "execution_count": null,
   "metadata": {},
   "outputs": [],
   "source": [
    "subtypes_rlap_5_path = snid_dir / 'subtype_rlap_5'\n",
    "subtypes_rlap_5 = compile_peak_subtypes(subtypes_rlap_5_path)\n",
    "\n",
    "plot_snid_template_num(\n",
    "    subtypes_rlap_5, 'Ia', \n",
    "    type_col='subType',\n",
    "    num_col='nSubType', \n",
    "    perc_col='percSubType')\n",
    "\n",
    "subtypes_rlap_5.subType.value_counts()\n"
   ]
  },
  {
   "cell_type": "code",
   "execution_count": null,
   "metadata": {},
   "outputs": [],
   "source": [
    "subtypes_rlap_10_path = snid_dir / 'subtype_rlap_10'\n",
    "subtypes_rlap_10 = compile_peak_subtypes(subtypes_rlap_10_path)\n",
    "\n",
    "plot_snid_template_num(\n",
    "    subtypes_rlap_10, 'Ia', \n",
    "    type_col='subType',\n",
    "    num_col='nSubType', \n",
    "    perc_col='percSubType')\n",
    "\n",
    "subtypes_rlap_10.subType.value_counts()\n"
   ]
  },
  {
   "cell_type": "code",
   "execution_count": null,
   "metadata": {},
   "outputs": [],
   "source": [
    "final_subtypes = subtypes_rlap_5.copy()\n",
    "final_subtypes.update(subtypes_rlap_10)\n",
    "\n",
    "plot_snid_template_num(\n",
    "    final_subtypes, 'Ia',\n",
    "    type_col='subType',\n",
    "    num_col='nSubType', \n",
    "    perc_col='percSubType')\n",
    "\n",
    "final_subtypes.subType.value_counts()\n"
   ]
  },
  {
   "cell_type": "markdown",
   "metadata": {},
   "source": [
    "## Comparison with SDSS"
   ]
  },
  {
   "cell_type": "code",
   "execution_count": null,
   "metadata": {},
   "outputs": [],
   "source": [
    "def plot_confusion_matrix(data, xcol='Type', ycol='SDSSClass', xlabel='This Work', ylabel='SDSS'):\n",
    "    \"\"\"Plot a confusion matrix comparing SDSS and SNID classifications\n",
    "    \n",
    "    Args:\n",
    "        data (DataFrame): DataFrame with ``colname`` column\n",
    "        colname    (str): Use a column other than ``'Type'``\n",
    "        \n",
    "    Returns:\n",
    "        Dataframe of classifications used in the plot\n",
    "    \"\"\"\n",
    "    \n",
    "    confusion_matrix = pd.crosstab(\n",
    "        data[ycol], data[xcol], \n",
    "        rownames=[ylabel], colnames=[xlabel])\n",
    "\n",
    "    sn.heatmap(confusion_matrix, annot=True, vmax=30, cmap=\"Blues\", fmt='g')\n",
    "    plt.tight_layout()\n"
   ]
  },
  {
   "cell_type": "code",
   "execution_count": null,
   "metadata": {
    "scrolled": false
   },
   "outputs": [],
   "source": [
    "def plot_inter_sdss_classification_confusion():\n",
    "    \"\"\"Plot a confusion matrix comparing Zheng and Sako classifications\n",
    "    \n",
    "    i.e. Sako et al. 2018 Table 9 and the SDSS Master table\n",
    "    \"\"\"\n",
    "    \n",
    "    with warnings.catch_warnings():\n",
    "        warnings.simplefilter(\"ignore\")\n",
    "        master = sako18spec.load_table('master').to_pandas('CID')\n",
    "\n",
    "    # The master table includes photometric classifications.\n",
    "    # We drop these for comparison with the spectral classifications\n",
    "    master = master[~master.Classification.str.startswith('p')]\n",
    "    master['Classification'] = master.Classification.replace({\n",
    "        'SNII': 'II',\n",
    "        'SNIa': 'Ia',\n",
    "        'SNIa?': 'Ia?',\n",
    "        'SNIb': 'Ib',\n",
    "        'SNIc': 'Ic',\n",
    "        'zSNII': 'II(z)',\n",
    "        'zSNIa': 'Ia(z)',\n",
    "    })\n",
    "\n",
    "    t9 = sako18spec.load_table(9).to_pandas('CID')\n",
    "    t9 = t9[t9.Type != 'Gal']\n",
    "    t9['Type'] = t9.Type.replace({\n",
    "        'None': 'Unknown',\n",
    "        'IIn': 'II',\n",
    "        'IIb': 'II'\n",
    "    })\n",
    "\n",
    "    plt.figure(figsize=(10, 10))\n",
    "    plot_confusion_matrix(t9.join(master), xcol='Type', ycol='Classification', xlabel='Sako18 Table 9', ylabel='Sako18 Master Table')\n",
    "\n",
    "    boxes = [\n",
    "        (0, 0, 1, 1),\n",
    "        (1, 1, 3, 3),\n",
    "        (3, 3, 6, 6),\n",
    "        (6, 6, 7, 7),\n",
    "        (7, 7, 9, 8),\n",
    "        (9, 8, 10, 9),\n",
    "        (10, 9, 11, 10)\n",
    "    ]\n",
    "\n",
    "    for x1, y1, x2, y2 in boxes:\n",
    "        plt.plot([x1, x1], [y1, y2], color='k', linestyle='--')\n",
    "        plt.plot([x2, x2], [y1, y2], color='k', linestyle='--')\n",
    "        plt.plot([x1, x2], [y1, y1], color='k', linestyle='--')\n",
    "        plt.plot([x1, x2], [y2, y2], color='k', linestyle='--')\n"
   ]
  },
  {
   "cell_type": "code",
   "execution_count": null,
   "metadata": {},
   "outputs": [],
   "source": [
    "plot_inter_sdss_classification_confusion()\n",
    "plt.savefig(fig_dir / 'sako18_confusion_matrix.pdf')\n"
   ]
  },
  {
   "cell_type": "markdown",
   "metadata": {},
   "source": [
    "### Comparing subtypes v.s. SDSS classifications"
   ]
  },
  {
   "cell_type": "code",
   "execution_count": null,
   "metadata": {},
   "outputs": [],
   "source": [
    "subtype_summary = pd.read_csv(snid_dir / 'summary.csv', index_col='objId')\n",
    "subtype_summary['SDSSClass'] = subtype_summary.SDSSClass.replace({\n",
    "    'SNIa': 'Ia',\n",
    "    'SNIa?': 'Ia',\n",
    "    'SNIb': 'Ib',\n",
    "    'SNIc': 'Ic',\n",
    "    'SNII': 'II',\n",
    "    'AGN': 'NotSN'\n",
    "    })\n",
    "\n",
    "subtype_summary['Type'] = subtype_summary.subType.replace({\n",
    "    'Ia-norm': 'Ia',\n",
    "    'Ia-91bg': 'Ia',\n",
    "    'Ia-91T': 'Ia',\n",
    "    'Ia-pec': 'Ia',\n",
    "    'Ia-csm': 'Ia',\n",
    "    \n",
    "    'Ib-norm': 'Ib',\n",
    "    'Ib-pec': 'Ib',\n",
    "    \n",
    "    'Ic-norm': 'Ic',\n",
    "    'Ic-broad': 'Ic',\n",
    "    \n",
    "    'IIb': 'II',\n",
    "    'IIn': 'II',\n",
    "    'IIL': 'II',\n",
    "    'IIP': 'II',\n",
    "    \n",
    "    'Gal': 'NotSN',\n",
    "    'AGN': 'NotSN'\n",
    "})\n",
    "\n",
    "subtype_summary = subtype_summary[subtype_summary.percSubType >= 50]\n",
    "subtype_summary = subtype_summary[subtype_summary.percType >= 50]"
   ]
  },
  {
   "cell_type": "code",
   "execution_count": null,
   "metadata": {},
   "outputs": [],
   "source": [
    "subtype_summary.subType.value_counts()"
   ]
  },
  {
   "cell_type": "code",
   "execution_count": null,
   "metadata": {},
   "outputs": [],
   "source": [
    "plot_confusion_matrix(subtype_summary)\n",
    "plt.savefig(fig_dir / 'type_confusion_matrix.pdf')\n"
   ]
  },
  {
   "cell_type": "code",
   "execution_count": null,
   "metadata": {},
   "outputs": [],
   "source": [
    "subtype_summary"
   ]
  },
  {
   "cell_type": "code",
   "execution_count": null,
   "metadata": {},
   "outputs": [],
   "source": [
    "plt.figure(figsize=(8, 6))\n",
    "plot_confusion_matrix(subtype_summary, xcol='subType')\n",
    "plt.axvline(2, color='k', linestyle=':', linewidth=1)\n",
    "plt.axvline(6, color='k', linestyle=':', linewidth=1)\n",
    "plt.axvline(11, color='k', linestyle=':', linewidth=1)\n",
    "plt.axvline(13, color='k', linestyle=':', linewidth=1)\n",
    "\n",
    "plt.savefig(fig_dir / 'subtype_confusion_matrix.pdf')\n"
   ]
  },
  {
   "cell_type": "markdown",
   "metadata": {},
   "source": [
    "### Spectra\n",
    "\n",
    "We inspect spectra with classifications that disagree."
   ]
  },
  {
   "cell_type": "code",
   "execution_count": null,
   "metadata": {},
   "outputs": [],
   "source": [
    "def get_sdss_t0(obj_id):\n",
    "    \"\"\"Get the t0 value for a SDSS target\n",
    "\n",
    "    Args:\n",
    "        obj_id (str): The object identifier\n",
    "\n",
    "    Returns:\n",
    "        The time of B-band maximum in units of\n",
    "    \"\"\"\n",
    "\n",
    "    with warnings.catch_warnings():\n",
    "        warnings.simplefilter(\"ignore\")\n",
    "        sdss_master_table = sako18spec.load_table('master').to_pandas(index='CID')\n",
    "\n",
    "    \n",
    "    # Unknown object ID\n",
    "    if obj_id not in sdss_master_table.index:\n",
    "        raise ValueError(f't0 not available for <{obj_id}>')\n",
    "\n",
    "    t0_mjd = sdss_master_table.loc[obj_id]['PeakMJDSALT2zspec']\n",
    "\n",
    "    # Known object Id with unknown peak time\n",
    "    if np.isnan(t0_mjd):\n",
    "        raise ValueError(f't0 not available for <{obj_id}>')\n",
    "\n",
    "    to_jd = convert_to_jd(t0_mjd)\n",
    "    return to_jd\n",
    "\n",
    "\n",
    "@np.vectorize\n",
    "def convert_sdss_date_to_jd(observed_date):\n",
    "    \"\"\"Convert SDSS Spectra observation dates from string format to JD\n",
    "\n",
    "    Args:\n",
    "        observed_date (str): Date string with format ``%Y-%m-%d``\n",
    "\n",
    "    Returns:\n",
    "        Observed date in JD as a float\n",
    "    \"\"\"\n",
    "\n",
    "    date_with_timezone = observed_date + '+0000'\n",
    "    date = datetime.strptime(date_with_timezone, '%Y-%m-%d%z')\n",
    "\n",
    "    unix_time = date.timestamp()\n",
    "    january_1_1970_in_julian = 2440587.5\n",
    "    day_in_seconds = 24 * 60 * 60\n",
    "    date_in_jd = (unix_time / day_in_seconds) + january_1_1970_in_julian\n",
    "\n",
    "    return date_in_jd\n"
   ]
  },
  {
   "cell_type": "code",
   "execution_count": null,
   "metadata": {},
   "outputs": [],
   "source": [
    "disagreement = subtype_summary[\n",
    "    subtype_summary['SDSSClass'] != subtype_summary['Type']\n",
    "]\n",
    "\n",
    "disagreement = disagreement[disagreement.SDSSClass != 'Unknown']\n",
    "disagreement = disagreement.sort_values(['SDSSClass', 'Type'])\n",
    "print(f'{len(disagreement)} objects are in disagreement')\n",
    "disagreement\n"
   ]
  },
  {
   "cell_type": "code",
   "execution_count": null,
   "metadata": {
    "scrolled": false
   },
   "outputs": [],
   "source": [
    "def plot_individual_spectra(disagreement_df):\n",
    "    \"\"\"Plot spectra with disagreeing classifications between our work and SDSS\n",
    "    \n",
    "    Args:\n",
    "        disagreement_df (DataFrame): Data frame indexed by object Id\n",
    "    \"\"\"\n",
    "\n",
    "    for obj_id, row in disagreement_df.iterrows():\n",
    "        \n",
    "        # Load object spectra\n",
    "        data = sako18spec.get_data_for_id(str(obj_id))\n",
    "        data = data[data['type'] != 'Gal']\n",
    "\n",
    "        # Determine phase of each spectrum\n",
    "        t0 = get_sdss_t0(str(obj_id))\n",
    "        phase = convert_sdss_date_to_jd(data['date']) - t0\n",
    "        data['phase'] = np.round(phase, 1)\n",
    "\n",
    "        # Keep only the phase used by SNID\n",
    "        snid_phase = row.Phase\n",
    "        spectrum = data[data['phase'] == snid_phase]\n",
    "        \n",
    "        # Crop spectrum to wavelength range considered by SNID\n",
    "        # This helps the auto axis scaler\n",
    "        spectrum = spectrum[\n",
    "            (spectrum['wavelength'] > 4000) & (spectrum['wavelength'] < 9000)]\n",
    "\n",
    "        plt.plot(spectrum['wavelength'], spectrum['flux'])\n",
    "        plt.title(f'{obj_id} - SDSS: {row.SDSSClass} - SNID: {row.subType}')\n",
    "        plt.xlim(4000, 9000)\n",
    "        plt.show()\n"
   ]
  },
  {
   "cell_type": "code",
   "execution_count": null,
   "metadata": {
    "scrolled": false
   },
   "outputs": [],
   "source": [
    "plot_individual_spectra(disagreement)\n"
   ]
  },
  {
   "cell_type": "code",
   "execution_count": null,
   "metadata": {},
   "outputs": [],
   "source": [
    "def plot_all_disagreements(disagreement_df):\n",
    "    \"\"\"Plot spectra with disagreeing classifications between our work and SDSS\n",
    "    \n",
    "    Args:\n",
    "        disagreement_df (DataFrame): Data frame indexed by object Id\n",
    "    \"\"\"\n",
    "\n",
    "    fig, axis = plt.subplots(figsize=(7.5, 10))\n",
    "    yticks = []\n",
    "    ylabels = []\n",
    "    for i, (obj_id, row) in enumerate(disagreement_df.iterrows()):\n",
    "        \n",
    "        # Load object spectra\n",
    "        data = sako18spec.get_data_for_id(str(obj_id))\n",
    "        data = data[data['type'] != 'Gal']\n",
    "\n",
    "        # Determine phase of each spectrum\n",
    "        t0 = get_sdss_t0(str(obj_id))\n",
    "        phase = convert_sdss_date_to_jd(data['date']) - t0\n",
    "        data['phase'] = np.round(phase, 1)\n",
    "\n",
    "        # Keep only the phase used by SNID\n",
    "        snid_phase = row.Phase\n",
    "        spectrum = data[data['phase'] == snid_phase]\n",
    "        \n",
    "        # Crop spectrum to wavelength range considered by SNID\n",
    "        # This helps the auto axis scaler\n",
    "        spectrum = spectrum[\n",
    "            (spectrum['wavelength'] > 4000) & (spectrum['wavelength'] < 9000)]\n",
    "\n",
    "        flux = spectrum['flux'] / spectrum['flux'][0]\n",
    "        offset = 2 * i - 1\n",
    "        axis.plot(spectrum['wavelength'], flux + offset, color='k', linewidth=.5)\n",
    "        \n",
    "        yticks.append(offset + 1)\n",
    "        ylabels.append(data.meta['obj_id'])\n",
    "    \n",
    "    \n",
    "    axis.set_xlim(4000, 9000)\n",
    "    axis.set_yticks(yticks)\n",
    "    axis.set_yticklabels(ylabels)\n",
    "    axis.set_ylabel('Object Id')\n",
    "    axis.set_xlabel(r'Wavlength ($\\AA$)')\n"
   ]
  },
  {
   "cell_type": "code",
   "execution_count": null,
   "metadata": {
    "scrolled": false
   },
   "outputs": [],
   "source": [
    "ia_disagreements = disagreement.loc[[20245, 19220, 9045, 19604, 1371, 18909, 1032, 19051, 15354]]\n",
    "plot_all_disagreements(ia_disagreements)\n",
    "disagreement[disagreement.SDSSClass == 'Ia']\n",
    "plt.savefig(fig_dir / 'ia_disagree_spectra.pdf')\n"
   ]
  },
  {
   "cell_type": "code",
   "execution_count": null,
   "metadata": {},
   "outputs": [],
   "source": [
    "ia_disagreements = disagreement.loc[[10297, 18457, 20530]]\n",
    "plot_all_disagreements(ia_disagreements)\n",
    "disagreement[disagreement.SDSSClass == 'II']\n",
    "plt.savefig(fig_dir / 'ii_disagree_spectra.pdf')\n"
   ]
  },
  {
   "cell_type": "code",
   "execution_count": null,
   "metadata": {},
   "outputs": [],
   "source": [
    "ia_disagreements = disagreement.loc[[9118, 9273, 15475, 16179, 20677]]\n",
    "plot_all_disagreements(ia_disagreements)\n",
    "disagreement[disagreement.SDSSClass == 'Ic']\n",
    "plt.savefig(fig_dir / 'ic_disagree_spectra.pdf')\n"
   ]
  },
  {
   "cell_type": "code",
   "execution_count": null,
   "metadata": {},
   "outputs": [],
   "source": []
  }
 ],
 "metadata": {
  "kernelspec": {
   "display_name": "Python 3",
   "language": "python",
   "name": "python3"
  },
  "language_info": {
   "codemirror_mode": {
    "name": "ipython",
    "version": 3
   },
   "file_extension": ".py",
   "mimetype": "text/x-python",
   "name": "python",
   "nbconvert_exporter": "python",
   "pygments_lexer": "ipython3",
   "version": "3.7.7"
  }
 },
 "nbformat": 4,
 "nbformat_minor": 1
}
