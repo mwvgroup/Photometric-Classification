{
 "cells": [
  {
   "cell_type": "markdown",
   "metadata": {},
   "source": [
    "# SNID Results\n",
    "\n",
    "This notebook explores SDSS typing results from SNID."
   ]
  },
  {
   "cell_type": "code",
   "execution_count": null,
   "metadata": {},
   "outputs": [],
   "source": [
    "import sys\n",
    "from pathlib import Path\n",
    "\n",
    "import numpy as np\n",
    "import pandas as pd\n",
    "import seaborn as sn\n",
    "from matplotlib import pyplot as plt\n",
    "from astropy.table import Table\n",
    "\n",
    "sys.path.insert(0, '../scripts')\n",
    "from run_snid_typing import sdss_data_iter\n",
    "\n",
    "results_dir = Path('.').resolve().parent / 'results'\n"
   ]
  },
  {
   "cell_type": "markdown",
   "metadata": {},
   "source": [
    "We define some plotting functions ahead of time."
   ]
  },
  {
   "cell_type": "code",
   "execution_count": null,
   "metadata": {},
   "outputs": [],
   "source": [
    "def plot_snid_template_num(data, filt=None, colname='type'):\n",
    "    \"\"\"Plot distributions for the number of template matches\n",
    "    \n",
    "    Args:\n",
    "        data (DataFrame): DataFrame with ``type`` column\n",
    "        filt       (str): Only plot types with this argument in the name\n",
    "        colname    (str): Use a column other than ``type``\n",
    "    \"\"\"\n",
    "    \n",
    "    fig, (ax1, ax2, ax3) = plt.subplots(1, 3, figsize=(9, 3))\n",
    "\n",
    "    for classification, class_data in data.groupby(colname):\n",
    "        if filt and filt not in classification:\n",
    "            continue\n",
    "            \n",
    "        ax1.hist(class_data.ntemp, bins=np.arange(0, 100, 5), alpha=.5)\n",
    "        ax1.set_xlabel('Number of Templates')\n",
    "        ax1.set_ylabel('Number of Targets')\n",
    "\n",
    "        ax2.hist(class_data.perc_temp, bins=np.arange(0, 1.1, .1), alpha=.5)\n",
    "        ax2.set_xlabel('Percentage of Templates')\n",
    "        ax2.set_ylabel('Number of Targets')\n",
    "\n",
    "        ax3.scatter(\n",
    "            class_data.ntemp, class_data.perc_temp, \n",
    "            label=classification, s=8, alpha=.5, zorder=-len(class_data))\n",
    "        \n",
    "        ax3.set_xlabel('Number of Templates')\n",
    "        ax3.set_ylabel('Percentage of Templates')\n",
    "\n",
    "    fig.legend(bbox_to_anchor=(1.1, 1.1))    \n",
    "    fig.tight_layout()\n",
    "    \n",
    "def plot_confusion_matrix(data, colname='type'):\n",
    "    \"\"\"Plot a confusion matrix comparing SDSS and SNID classifications\n",
    "    \n",
    "    Args:\n",
    "        data (DataFrame): DataFrame with ``type`` column\n",
    "        colname    (str): Use a column other than ``type``\n",
    "    \"\"\"\n",
    "    \n",
    "    from sndata.sdss import sako18\n",
    "    master = sako18.load_table('master')\n",
    "    mask = master['PeakMJDSALT2zspec'].mask\n",
    "    sdss_classifications = master[~mask][['CID', 'Classification']].to_pandas(index='CID')\n",
    "    \n",
    "    joined_data = sdss_classifications.join(data[colname])\n",
    "\n",
    "    confusion_matrix = pd.crosstab(\n",
    "        joined_data['Classification'], joined_data[colname], \n",
    "        rownames=['SDSS'], colnames=['SNID'])\n",
    "\n",
    "    sn.heatmap(confusion_matrix, annot=True, vmax=30, cmap=\"Blues\")\n",
    "    plt.show()\n"
   ]
  },
  {
   "cell_type": "markdown",
   "metadata": {},
   "source": [
    "## SN Typing\n",
    "\n",
    "Results for SNIDtop level types (`Ia`, `Ib`, `Ic`, `II`, and `NotSN`)\n"
   ]
  },
  {
   "cell_type": "code",
   "execution_count": null,
   "metadata": {},
   "outputs": [],
   "source": [
    "TYPES = ['Ia', 'Ib', 'Ic', 'II', 'NotSN']\n",
    "\n",
    "def read_peak_type(path):\n",
    "    \"\"\"Return the type summary from an SNID output file\n",
    "\n",
    "    Args:\n",
    "        path (str, Path): Path to read\n",
    "\n",
    "    Returns:\n",
    "         An astropy Table\n",
    "    \"\"\"\n",
    "\n",
    "    names = ['type', 'ntemp', 'fraction', 'slope', 'redshift',\n",
    "             'redshift_error', 'age', 'age_error']\n",
    "\n",
    "    data = Table.read(\n",
    "        str(path), header_start=4, data_start=4,\n",
    "        data_end=28, format='ascii.basic', names=names\n",
    "    ).to_pandas(index='type')\n",
    "\n",
    "    # Calculate percentage of templates used for each type\n",
    "    # Total matched templates equals the sum of matches for the parent types\n",
    "    # (see TYPES global)\n",
    "    peak_type = data.loc[TYPES].ntemp.idxmax()\n",
    "    ntemp = data.loc[peak_type].ntemp\n",
    "    total_templates = data.loc[TYPES].ntemp.sum()\n",
    "    percent_templates =  ntemp / total_templates\n",
    "\n",
    "    return peak_type, ntemp, percent_templates\n",
    "\n",
    "\n",
    "def compile_peak_types(results_dir):\n",
    "    \"\"\"Get peak types from all output files from a previous SNID run\n",
    "\n",
    "    Args:\n",
    "        results_dir (Path): Directory of SNID outputs\n",
    "\n",
    "    Returns:\n",
    "        A DataFrame indexed by object ID\n",
    "    \"\"\"\n",
    "\n",
    "    rows = []\n",
    "    for path in results_dir.glob('*snid.output'):\n",
    "        obj_id, phase, *_ = path.name.split('_')\n",
    "        peak_type, ntemp, percent_templates = read_peak_type(path)\n",
    "        rows.append([obj_id, float(phase), peak_type, percent_templates, ntemp])\n",
    "\n",
    "    type_data = pd.DataFrame(\n",
    "        rows,\n",
    "        columns=['obj_id', 'phase', 'type', 'perc_temp', 'ntemp'])\n",
    "\n",
    "    # Keep only the spectra nearest peak\n",
    "    type_data['abs_phase'] = type_data.phase.abs()\n",
    "    type_data = type_data.sort_values('abs_phase', ascending=True)\n",
    "    type_data = type_data.drop_duplicates(keep='first', subset='obj_id')\n",
    "\n",
    "    type_data['obj_id'] = type_data['obj_id'].astype('str')\n",
    "    return type_data.set_index('obj_id')\n"
   ]
  },
  {
   "cell_type": "code",
   "execution_count": null,
   "metadata": {
    "scrolled": false
   },
   "outputs": [],
   "source": [
    "types_rlap_5_dir = results_dir / 'snid' / 'type_rlap_5'\n",
    "types_rlap_5 = compile_peak_types(types_rlap_5_dir)\n",
    "\n",
    "plot_snid_template_num(types_rlap_5)\n",
    "types_rlap_5.type.value_counts()\n"
   ]
  },
  {
   "cell_type": "code",
   "execution_count": null,
   "metadata": {},
   "outputs": [],
   "source": [
    "types_rlap_10_dir = results_dir / 'snid' / 'type_rlap_10'\n",
    "types_rlap_10 = compile_peak_types(types_rlap_10_dir)\n",
    "\n",
    "plot_snid_template_num(types_rlap_10)\n",
    "types_rlap_10.type.value_counts()\n"
   ]
  },
  {
   "cell_type": "code",
   "execution_count": null,
   "metadata": {},
   "outputs": [],
   "source": [
    "combined_types = types_rlap_5.copy()\n",
    "combined_types.update(types_rlap_10)\n",
    "\n",
    "plot_snid_template_num(combined_types)\n",
    "combined_types.type.value_counts()\n"
   ]
  },
  {
   "cell_type": "code",
   "execution_count": null,
   "metadata": {},
   "outputs": [],
   "source": [
    "plot_confusion_matrix(combined_types, 'type')\n"
   ]
  },
  {
   "cell_type": "markdown",
   "metadata": {},
   "source": [
    "## SN Sub-Typing\n",
    "\n",
    "SNID results for sub-categories."
   ]
  },
  {
   "cell_type": "code",
   "execution_count": null,
   "metadata": {},
   "outputs": [],
   "source": [
    "def read_peak_subtype(path):\n",
    "    \"\"\"Return the type summary from an SNID output file\n",
    "\n",
    "    Args:\n",
    "        path (str, Path): Path to read\n",
    "\n",
    "    Returns:\n",
    "         An astropy Table\n",
    "    \"\"\"\n",
    "\n",
    "    names = ['type', 'ntemp', 'fraction', 'slope', 'redshift',\n",
    "             'redshift_error', 'age', 'age_error']\n",
    "\n",
    "    data = Table.read(\n",
    "        str(path), header_start=4, data_start=4,\n",
    "        data_end=28, format='ascii.basic', names=names\n",
    "    ).to_pandas(index='type')\n",
    "    \n",
    "    sn_type, subtype, second_subtype = data.ntemp.nlargest(3).index\n",
    "    assert data.loc[subtype].ntemp != second_subtype\n",
    "    ntemp = data.loc[subtype].ntemp\n",
    "    perc_temp = ntemp / data.loc[sn_type].ntemp\n",
    "\n",
    "    return subtype, ntemp, perc_temp\n",
    "\n",
    "\n",
    "def compile_peak_subtypes(results_dir):\n",
    "    \"\"\"Get peak subtypes from all output files from a previous SNID run\n",
    "\n",
    "    Args:\n",
    "        results_dir (Path): Directory of SNID outputs\n",
    "\n",
    "    Returns:\n",
    "        A DataFrame indexed by object ID\n",
    "    \"\"\"\n",
    "    \n",
    "    rows = []\n",
    "    for path in results_dir.glob('*snid.output'):\n",
    "        obj_id, phase, *_ = path.name.split('_')\n",
    "        peak_type, ntemp, perc_temp = read_peak_subtype(path)\n",
    "        rows.append([obj_id, float(phase), peak_type, ntemp, perc_temp])\n",
    "\n",
    "    type_data = pd.DataFrame(\n",
    "        rows,\n",
    "        columns=['obj_id', 'phase', 'type', 'ntemp', 'perc_temp'])\n",
    "\n",
    "    # Keep only the spectra nearest peak\n",
    "    type_data['abs_phase'] = type_data.phase.abs()\n",
    "    type_data = type_data.sort_values('abs_phase', ascending=True)\n",
    "    type_data = type_data.drop_duplicates(keep='first', subset='obj_id')\n",
    "\n",
    "    type_data['obj_id'] = type_data['obj_id'].astype('str')\n",
    "    return type_data.set_index('obj_id')\n"
   ]
  },
  {
   "cell_type": "markdown",
   "metadata": {},
   "source": [
    "We consider results with a minimum rlap of 10 and 5. We also consider the combination of the results."
   ]
  },
  {
   "cell_type": "code",
   "execution_count": null,
   "metadata": {},
   "outputs": [],
   "source": [
    "subtypes_rlap_5_path = results_dir / 'snid' / 'subtype_rlap_5'\n",
    "subtypes_rlap_5 = compile_peak_subtypes(subtypes_rlap_5_path)\n",
    "\n",
    "plot_snid_template_num(subtypes_rlap_5, 'Ia')\n",
    "subtypes_rlap_5.type.value_counts()\n"
   ]
  },
  {
   "cell_type": "code",
   "execution_count": null,
   "metadata": {},
   "outputs": [],
   "source": [
    "subtypes_rlap_10_path = results_dir / 'snid' / 'subtype_rlap_10'\n",
    "subtypes_rlap_10 = compile_peak_subtypes(subtypes_rlap_10_path)\n",
    "\n",
    "plot_snid_template_num(subtypes_rlap_10, 'Ia')\n",
    "subtypes_rlap_10.type.value_counts()\n"
   ]
  },
  {
   "cell_type": "code",
   "execution_count": null,
   "metadata": {},
   "outputs": [],
   "source": [
    "combined_subtypes = subtypes_rlap_5.copy()\n",
    "combined_subtypes.update(subtypes_rlap_10)\n",
    "\n",
    "plot_snid_template_num(combined_subtypes, 'Ia')\n",
    "combined_subtypes.type.value_counts()\n"
   ]
  },
  {
   "cell_type": "code",
   "execution_count": null,
   "metadata": {},
   "outputs": [],
   "source": []
  }
 ],
 "metadata": {
  "kernelspec": {
   "display_name": "Python [conda env:Photometric-Classification] *",
   "language": "python",
   "name": "conda-env-Photometric-Classification-py"
  },
  "language_info": {
   "codemirror_mode": {
    "name": "ipython",
    "version": 3
   },
   "file_extension": ".py",
   "mimetype": "text/x-python",
   "name": "python",
   "nbconvert_exporter": "python",
   "pygments_lexer": "ipython3",
   "version": "3.7.6"
  }
 },
 "nbformat": 4,
 "nbformat_minor": 1
}
