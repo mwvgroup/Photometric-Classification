{
 "cells": [
  {
   "cell_type": "markdown",
   "metadata": {},
   "source": [
    "# Chi-Squared Calculation Comparison\n",
    "\n",
    "This notebook compares the Chi-Squared values returned by SNCosmo against Chi-Squared values calculated manually."
   ]
  },
  {
   "cell_type": "code",
   "execution_count": null,
   "metadata": {},
   "outputs": [],
   "source": [
    "%matplotlib inline\n",
    "\n",
    "import sys\n",
    "from warnings import warn\n",
    "\n",
    "import numpy as np\n",
    "import sncosmo\n",
    "from SNData.csp import dr3\n",
    "from SNData.des import sn3yr\n",
    "from astropy.table import Table, join\n",
    "from matplotlib import pyplot as plt\n",
    "\n",
    "sys.path.insert(0, '../')\n",
    "from analysis_pipeline import get_fit_results, get_priors, SN91bgSource\n",
    "\n",
    "for module in (dr3, sn3yr):\n",
    "    module.download_module_data()\n",
    "    module.register_filters(force=True)\n"
   ]
  },
  {
   "cell_type": "markdown",
   "metadata": {},
   "source": [
    "## Manually Calculating Chi-Squared"
   ]
  },
  {
   "cell_type": "code",
   "execution_count": null,
   "metadata": {},
   "outputs": [],
   "source": [
    "def calc_chisq(data, model):\n",
    "    \"\"\"Calculate the chi-squared for a given data table and model\n",
    "    \n",
    "    Args:\n",
    "        data  (Table): An SNCosmo input table\n",
    "        model (Model): An SNCosmo Model\n",
    "        \n",
    "    Returns:\n",
    "        The un-normalized chi-squared\n",
    "        The number of data points used in the calculation\n",
    "    \"\"\"\n",
    "\n",
    "    # Model flux and keep only non-zero values\n",
    "    data['model_flux'] = [model.bandflux(b, t) for b, t in zip(data['band'], data['time'])]\n",
    "    data = data[data['model_flux'] > 0]\n",
    "    \n",
    "    chisq = np.sum(\n",
    "        ((data['model_flux'] - data['flux']) / data['fluxerr']) ** 2\n",
    "    )\n",
    "    return chisq, len(data)\n"
   ]
  },
  {
   "cell_type": "code",
   "execution_count": null,
   "metadata": {
    "scrolled": false
   },
   "outputs": [],
   "source": [
    "test_id = '2007S'\n",
    "model = sncosmo.Model('salt2')\n",
    "data = dr3.get_sncosmo_input(test_id)\n",
    "priors = get_priors(dr3, model).loc[test_id]\n",
    "\n",
    "model.set(z=data.meta['redshift'])\n",
    "bounds = dict()\n",
    "for p in model.param_names:\n",
    "    bounds[p] = (priors[f'{p}_min'], priors[f'{p}_max'])\n",
    "    model.update({p: priors[p]})\n",
    "\n",
    "fit_result, fit_model = sncosmo.fit_lc(data, model, ['t0', 'x0', 'x1', 'c'], bounds=bounds)\n",
    "sncosmo.plot_lc(data, model)\n",
    "\n",
    "full_sncosmo_chisq = fit_result['chisq'] / fit_result['ndof']\n",
    "print('Chi-Squared from fit_lc:', full_sncosmo_chisq)\n",
    "\n",
    "for band in ('csp_dr3_Y', 'csp_dr3_J', 'csp_dr3_Ydw', 'csp_dr3_H'):\n",
    "    data = data[data['band'] != band]\n",
    "    \n",
    "func_chisq = sncosmo.chisq(data, model) / fit_result['ndof']\n",
    "print('Chi-Squared from `sncosmo.chisq`:', func_chisq)\n",
    "\n",
    "man_chisq, num_points = calc_chisq(data, model)\n",
    "man_dof = fit_result['ndof'] - len(data) + num_points\n",
    "print('Manual Chi-squared using all data:', man_chisq / man_dof)\n"
   ]
  },
  {
   "cell_type": "code",
   "execution_count": null,
   "metadata": {},
   "outputs": [],
   "source": [
    "band_sncosmo_chisq = dict()\n",
    "band_manual_chisq = dict()\n",
    "for band in set(data['band']):\n",
    "    band_data = data[data['band'] == band]\n",
    "    try:\n",
    "        fit_result, fitted_model = sncosmo.fit_lc(band_data, model, ['t0', 'x0', 'x1', 'c'])\n",
    "        \n",
    "    except RuntimeError:\n",
    "        continue\n",
    "    \n",
    "    \n",
    "    # Calculate chi-squared\n",
    "    man_chisq, num_points = calc_chisq(band_data, fitted_model)\n",
    "    man_dof = fit_result['ndof'] - len(band_data) + num_points\n",
    "    band_manual_chisq[band] = man_chisq / man_dof\n",
    "    band_sncosmo_chisq[band] = fit_result['chisq'] / fit_result['ndof']\n",
    "\n",
    "print('SNCosmo Chi-Squared:')\n",
    "print(band_sncosmo_chisq)\n",
    "\n",
    "print('\\nManual Chi-Squared:')\n",
    "print(band_manual_chisq)\n",
    "\n",
    "print('\\nSNCosmo Chi-Squared summed over bands:')\n",
    "print(sum(i for i in band_sncosmo_chisq.values()))\n",
    "\n",
    "print('\\nManual Chi-Squared summed over bands:')\n",
    "print(sum(i for i in band_manual_chisq.values()))"
   ]
  },
  {
   "cell_type": "code",
   "execution_count": null,
   "metadata": {},
   "outputs": [],
   "source": []
  }
 ],
 "metadata": {
  "kernelspec": {
   "display_name": "Python [conda env:sdss_class] *",
   "language": "python",
   "name": "conda-env-sdss_class-py"
  },
  "language_info": {
   "codemirror_mode": {
    "name": "ipython",
    "version": 3
   },
   "file_extension": ".py",
   "mimetype": "text/x-python",
   "name": "python",
   "nbconvert_exporter": "python",
   "pygments_lexer": "ipython3",
   "version": "3.7.3"
  }
 },
 "nbformat": 4,
 "nbformat_minor": 2
}
