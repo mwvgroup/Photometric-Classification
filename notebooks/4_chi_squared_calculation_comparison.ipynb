{
 "cells": [
  {
   "cell_type": "markdown",
   "metadata": {},
   "source": [
    "# Chi-Squared Calculation Comparison\n",
    "\n",
    "This notebook compares the Chi-Squared values returned by SNCosmo against Chi-Squared values calculated by the analysis pipeline."
   ]
  },
  {
   "cell_type": "code",
   "execution_count": null,
   "metadata": {},
   "outputs": [],
   "source": [
    "import sys\n",
    "from warnings import warn\n",
    "\n",
    "import numpy as np\n",
    "import sncosmo\n",
    "from astropy.table import Table, join\n",
    "from matplotlib import pyplot as plt\n",
    "from sndata.csp import dr3\n",
    "from sndata.des import sn3yr\n",
    "\n",
    "sys.path.insert(0, '../')\n",
    "from analysis_pipeline import utils\n",
    "from analysis_pipeline.lc_fitting import calc_chisq\n",
    "from analysis_pipeline.models import register_sources\n",
    "\n",
    "register_sources()\n",
    "for module in (dr3, sn3yr):\n",
    "    module.download_module_data()\n",
    "    module.register_filters(force=True)\n"
   ]
  },
  {
   "cell_type": "markdown",
   "metadata": {},
   "source": [
    "## Fitting with All Data"
   ]
  },
  {
   "cell_type": "markdown",
   "metadata": {},
   "source": [
    "We begin by considering chi-squared values calculated from fits using all available band data. We start by picking a target we know to fit well and use the Salt2.4 model."
   ]
  },
  {
   "cell_type": "code",
   "execution_count": null,
   "metadata": {
    "scrolled": false
   },
   "outputs": [],
   "source": [
    "test_id = '2007S'\n",
    "salt2 = sncosmo.Model('salt2')\n",
    "data = dr3.get_data_for_id(test_id, format_sncosmo=True)\n",
    "priors = utils.get_priors(dr3, salt2).loc[test_id]\n",
    "\n",
    "salt2.set(z=data.meta['redshift'])\n",
    "bounds = dict()\n",
    "for p in salt2.param_names:\n",
    "    bounds[p] = (priors[f'{p}_min'], priors[f'{p}_max'])\n",
    "    salt2.update({p: priors[p]})\n",
    "\n",
    "fit_result, fit_model = sncosmo.fit_lc(data, salt2, ['t0', 'x0', 'x1', 'c'], bounds=bounds, phase_range=(-20,50))\n",
    "sncosmo.plot_lc(data, fit_model)\n",
    "plt.show()\n"
   ]
  },
  {
   "cell_type": "markdown",
   "metadata": {},
   "source": [
    "We compare the chi-squared "
   ]
  },
  {
   "cell_type": "code",
   "execution_count": null,
   "metadata": {},
   "outputs": [],
   "source": [
    "sncosmo_chisq = fit_result['chisq'] / fit_result['ndof']\n",
    "print('Chi-Squared from fit_lc:', sncosmo_chisq)\n",
    "\n",
    "pipeline_data = utils.get_fit_results(dr3, salt2, 4, 'all').loc[test_id]\n",
    "print('Pipeline Chi-squared using all data:', \n",
    "      pipeline_data['chi'] / pipeline_data['dof'])\n"
   ]
  },
  {
   "cell_type": "markdown",
   "metadata": {},
   "source": [
    "Next we do the same but use the 91bg model. We expect this model to perfom much more poorly."
   ]
  },
  {
   "cell_type": "code",
   "execution_count": null,
   "metadata": {},
   "outputs": [],
   "source": [
    "test_id = '2007S'\n",
    "sn91bg = sncosmo.Model('sn91bg')\n",
    "data = dr3.get_data_for_id(test_id, format_sncosmo=True)\n",
    "priors = utils.get_priors(dr3, sn91bg).loc[test_id]\n",
    "\n",
    "sn91bg.set(z=data.meta['redshift'])\n",
    "bounds = dict()\n",
    "for p in sn91bg.param_names:\n",
    "    bounds[p] = (priors[f'{p}_min'], priors[f'{p}_max'])\n",
    "    sn91bg.update({p: priors[p]})\n",
    "\n",
    "fit_result, fit_model = sncosmo.fit_lc(data, sn91bg, ['t0', 'x0', 'x1', 'c'], bounds=bounds, phase_range=(-20,50))\n",
    "sncosmo.plot_lc(data, fit_model)\n",
    "plt.show()\n"
   ]
  },
  {
   "cell_type": "code",
   "execution_count": null,
   "metadata": {},
   "outputs": [],
   "source": [
    "sncosmo_chisq = fit_result['chisq'] / fit_result['ndof']\n",
    "print('Chi-Squared from fit_lc:', sncosmo_chisq)\n",
    "\n",
    "pipeline_data = utils.get_fit_results(dr3, sn91bg, 4, 'all').loc[test_id]\n",
    "print('Pipeline Chi-squared using all data:', \n",
    "      pipeline_data['chi'] / pipeline_data['dof'])\n"
   ]
  },
  {
   "cell_type": "markdown",
   "metadata": {},
   "source": [
    "Self-implemented lc-fitting plots for clarity."
   ]
  },
  {
   "cell_type": "code",
   "execution_count": null,
   "metadata": {},
   "outputs": [],
   "source": [
    "fig = plt.figure(figsize=(10, 12))\n",
    "ax = [plt.subplot(3, 2, i + 1) for i in range(6)]\n",
    "\n",
    "b = ['csp_dr3_u', 'csp_dr3_B', 'csp_dr3_g', 'csp_dr3_V', 'csp_dr3_r', 'csp_dr3_i']\n",
    "plot_color = ['darkblue', 'blue', 'aqua', 'lightblue', 'lightgreen', 'yellow']\n",
    "for i in range(6):\n",
    "    data_this = data[data['band'] == b[i]]\n",
    "    ax[i].errorbar(data_this['time'], data_this['flux'], yerr=data_this['fluxerr'], fmt='.', markersize=3, capsize=2)\n",
    "    xtime = np.arange(data_this['time'].min(), data_this['time'].max(),0.1)\n",
    "    yflux = [fit_model.bandflux(data_this['band'][0], t) for t in xtime]\n",
    "    ax[i].plot(xtime, yflux, c=plot_color[i], label=b[i])\n",
    "    ax[i].set_xlabel('Time')\n",
    "    ax[i].set_ylabel('Flux')\n",
    "    ax[i].legend()\n"
   ]
  },
  {
   "cell_type": "markdown",
   "metadata": {},
   "source": [
    "## Fitting Individual Bands\n",
    "\n",
    "In addition to fitting all available bands at once, we also fit individual band passes and look at the chi-squared values summed over the individual bands."
   ]
  },
  {
   "cell_type": "code",
   "execution_count": null,
   "metadata": {},
   "outputs": [],
   "source": [
    "band_sncosmo_chisq = dict()\n",
    "band_pipeline_chisq = dict()\n",
    "for band in set(data['band']):\n",
    "    band_data = data[data['band'] == band]\n",
    "    vparams=['t0', 'x0', 'x1', 'c']\n",
    "    try:\n",
    "        snc_result, fitted_model = sncosmo.fit_lc(band_data, salt2, vparams, phase_range=(-15,50))\n",
    "        \n",
    "    except RuntimeError:\n",
    "        continue\n",
    "    \n",
    "    \n",
    "    # Calculate chi-squared\n",
    "    pipe_chisq, num_points = calc_chisq(band_data, fitted_model)\n",
    "    pipe_dof = len(band_data) - len(vparams)\n",
    "    band_pipeline_chisq[band] = pipe_chisq / pipe_dof\n",
    "    band_sncosmo_chisq[band] = snc_result['chisq'] / snc_result['ndof']\n",
    "\n",
    "print('SNCosmo Chi-Squared:')\n",
    "print(band_sncosmo_chisq)\n",
    "\n",
    "print('\\nSNCosmo Chi-Squared summed over bands:')\n",
    "print(sum(i for i in band_sncosmo_chisq.values()))\n",
    "\n",
    "print('\\nPipeline Chi-Squared:')\n",
    "print(band_pipeline_chisq)\n",
    "\n",
    "print('\\nPipeline Chi-Squared summed over bands:')\n",
    "print(sum(i for i in band_pipeline_chisq.values()))\n"
   ]
  },
  {
   "cell_type": "code",
   "execution_count": null,
   "metadata": {},
   "outputs": [],
   "source": []
  }
 ],
 "metadata": {
  "kernelspec": {
   "display_name": "Python [conda env:sdss_class] *",
   "language": "python",
   "name": "conda-env-sdss_class-py"
  },
  "language_info": {
   "codemirror_mode": {
    "name": "ipython",
    "version": 3
   },
   "file_extension": ".py",
   "mimetype": "text/x-python",
   "name": "python",
   "nbconvert_exporter": "python",
   "pygments_lexer": "ipython3",
   "version": "3.7.3"
  }
 },
 "nbformat": 4,
 "nbformat_minor": 2
}
