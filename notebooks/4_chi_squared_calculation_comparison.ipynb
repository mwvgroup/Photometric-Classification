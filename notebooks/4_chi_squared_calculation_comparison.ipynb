{
 "cells": [
  {
   "cell_type": "markdown",
   "metadata": {},
   "source": [
    "# Chi-Squared Calculation Comparison\n",
    "\n",
    "This notebook compares the Chi-Squared values returned by SNCosmo against Chi-Squared values calculated by the analysis pipeline."
   ]
  },
  {
   "cell_type": "code",
   "execution_count": null,
   "metadata": {},
   "outputs": [],
   "source": [
    "%matplotlib inline\n",
    "\n",
    "import sys\n",
    "from warnings import warn\n",
    "\n",
    "import numpy as np\n",
    "import sncosmo\n",
    "from SNData.csp import dr3\n",
    "from SNData.des import sn3yr\n",
    "from astropy.table import Table, join\n",
    "from matplotlib import pyplot as plt\n",
    "\n",
    "sys.path.insert(0, '../')\n",
    "from analysis_pipeline import get_fit_results, get_priors, SN91bgSource\n",
    "\n",
    "for module in (dr3, sn3yr):\n",
    "    module.download_module_data()\n",
    "    module.register_filters(force=True)\n"
   ]
  },
  {
   "cell_type": "markdown",
   "metadata": {},
   "source": [
    "## Manually Calculating Chi-Squared"
   ]
  },
  {
   "cell_type": "markdown",
   "metadata": {},
   "source": [
    "In addition to comparing the SNCosmo and pipeline chi-squared values, we also define a `calc_chisq` function so that we can experiment with alternative chi-squared equations. For clarity, we will call this the \"manual\" chi-squared."
   ]
  },
  {
   "cell_type": "code",
   "execution_count": null,
   "metadata": {},
   "outputs": [],
   "source": [
    "def calc_chisq(data, model):\n",
    "    \"\"\"\n",
    "    Calculate the chi-squared for a given data table and model\n",
    "    \n",
    "    Args:\n",
    "        data  (Table): An SNCosmo input table\n",
    "        model (Model): An SNCosmo Model\n",
    "        \n",
    "    Returns:\n",
    "        The un-normalized chi-squared\n",
    "        The number of data points used in the calculation\n",
    "    \"\"\"\n",
    "\n",
    "    while True:\n",
    "        try:\n",
    "            # Model flux and keep only non-zero values\n",
    "            data['model_flux'] = [model.bandflux(b, t) for b, t in zip(data['band'], data['time'])]\n",
    "            data = data[data['model_flux'] > 0]\n",
    "            chisq = np.sum(((data['model_flux'] - data['flux']) / data['fluxerr']) ** 2)\n",
    "            return chisq, len(data)\n",
    "\n",
    "        except ValueError as err:\n",
    "            # Remove bands that are out of model range\n",
    "            data = data[data['band'] != err.args[0].split()[1][1:-1]]\n"
   ]
  },
  {
   "cell_type": "markdown",
   "metadata": {},
   "source": [
    "## Fitting with All Data"
   ]
  },
  {
   "cell_type": "markdown",
   "metadata": {},
   "source": [
    "We begin by considering chi-squared values calculated from fits using all available band data. We arbitrarily pick a target from the CSP DR3 data release and fit it's light curve with the Salt2.4 model."
   ]
  },
  {
   "cell_type": "code",
   "execution_count": null,
   "metadata": {
    "scrolled": false
   },
   "outputs": [],
   "source": [
    "test_id = '2007S'\n",
    "model = sncosmo.Model('salt2')\n",
    "data = dr3.get_data_for_id(test_id, format_sncosmo=True)\n",
    "priors = get_priors(dr3, model).loc[test_id]\n",
    "\n",
    "model.set(z=data.meta['redshift'])\n",
    "bounds = dict()\n",
    "for p in model.param_names:\n",
    "    bounds[p] = (priors[f'{p}_min'], priors[f'{p}_max'])\n",
    "    model.update({p: priors[p]})\n",
    "\n",
    "fit_result, fit_model = sncosmo.fit_lc(data, model, ['t0', 'x0', 'x1', 'c'], bounds=bounds, phase_range=(-20,50))\n",
    "sncosmo.plot_lc(data, fit_model)\n"
   ]
  },
  {
   "cell_type": "markdown",
   "metadata": {},
   "source": [
    "Next we compare the various chi-squared values."
   ]
  },
  {
   "cell_type": "code",
   "execution_count": null,
   "metadata": {},
   "outputs": [],
   "source": [
    "sncosmo_chisq = fit_result['chisq'] / fit_result['ndof']\n",
    "print('Chi-Squared from fit_lc:', sncosmo_chisq)\n",
    "\n",
    "man_chisq, num_points = calc_chisq(data, fit_model)\n",
    "man_dof = fit_result['ndof'] - len(data) + num_points\n",
    "print('Manual Chi-squared using all data:', man_chisq / man_dof)\n",
    "\n",
    "pipeline_data = get_fit_results(dr3, model, 4)[0].loc[test_id]\n",
    "print('Pipeline Chi-squared using all data:', \n",
    "      pipeline_data['chi'] / pipeline_data['dof'])\n"
   ]
  },
  {
   "cell_type": "markdown",
   "metadata": {},
   "source": [
    "Self-implemented lc-fitting plots for clarity."
   ]
  },
  {
   "cell_type": "code",
   "execution_count": null,
   "metadata": {},
   "outputs": [],
   "source": [
    "allbands = data.copy()\n",
    "\n",
    "fig = plt.figure(figsize=(10,12))\n",
    "ax = [plt.subplot(3, 2, i + 1) for i in range(6)]\n",
    "\n",
    "b = ['csp_dr3_u', 'csp_dr3_B', 'csp_dr3_g', 'csp_dr3_V', 'csp_dr3_r', 'csp_dr3_i']\n",
    "plot_color = ['darkblue', 'blue', 'aqua', 'lightblue', 'lightgreen', 'yellow']\n",
    "for i in range(6):\n",
    "    data = allbands.copy()\n",
    "    data = data[data['band'] == b[i]]\n",
    "    ax[i].errorbar(data['time'], data['flux'], yerr=data['fluxerr'], fmt='.', markersize=3, capsize=2)\n",
    "    xtime = np.arange(data['time'].min(), data['time'].max(),0.1)\n",
    "    yflux = [fit_model.bandflux(data['band'][0], t) for t in xtime]\n",
    "    ax[i].plot(xtime, yflux, c=plot_color[i], label=b[i])\n",
    "    ax[i].set_xlabel('Time')\n",
    "    ax[i].set_ylabel('Flux')\n",
    "    ax[i].legend()"
   ]
  },
  {
   "cell_type": "markdown",
   "metadata": {},
   "source": [
    "## Fitting Individual Bands\n",
    "\n",
    "In addition to fitting all available bands at once, we also fit individual band passes and look at the chi-squared values summed over the individual bands."
   ]
  },
  {
   "cell_type": "code",
   "execution_count": null,
   "metadata": {},
   "outputs": [],
   "source": [
    "band_sncosmo_chisq = dict()\n",
    "band_manual_chisq = dict()\n",
    "for band in set(data['band']):\n",
    "    band_data = data[data['band'] == band]\n",
    "    try:\n",
    "        fit_result, fitted_model = sncosmo.fit_lc(band_data, model, ['t0', 'x0', 'x1', 'c'], phase_range=(-15,50))\n",
    "        \n",
    "    except RuntimeError:\n",
    "        continue\n",
    "    \n",
    "    \n",
    "    # Calculate chi-squared\n",
    "    man_chisq, num_points = calc_chisq(band_data, fitted_model)\n",
    "    man_dof = fit_result['ndof'] - len(band_data) + num_points\n",
    "    band_manual_chisq[band] = man_chisq / man_dof\n",
    "    band_sncosmo_chisq[band] = fit_result['chisq'] / fit_result['ndof']\n",
    "\n",
    "print('SNCosmo Chi-Squared:')\n",
    "print(band_sncosmo_chisq)\n",
    "\n",
    "print('\\nSNCosmo Chi-Squared summed over bands:')\n",
    "print(sum(i for i in band_sncosmo_chisq.values()))\n",
    "\n",
    "print('\\nManual Chi-Squared:')\n",
    "print(band_manual_chisq)\n",
    "\n",
    "print('\\nManual Chi-Squared summed over bands:')\n",
    "print(sum(i for i in band_manual_chisq.values()))\n"
   ]
  },
  {
   "cell_type": "code",
   "execution_count": null,
   "metadata": {},
   "outputs": [],
   "source": []
  }
 ],
 "metadata": {
  "kernelspec": {
   "display_name": "Python [conda env:sdss_class] *",
   "language": "python",
   "name": "conda-env-sdss_class-py"
  },
  "language_info": {
   "codemirror_mode": {
    "name": "ipython",
    "version": 3
   },
   "file_extension": ".py",
   "mimetype": "text/x-python",
   "name": "python",
   "nbconvert_exporter": "python",
   "pygments_lexer": "ipython3",
   "version": "3.7.3"
  }
 },
 "nbformat": 4,
 "nbformat_minor": 2
}
