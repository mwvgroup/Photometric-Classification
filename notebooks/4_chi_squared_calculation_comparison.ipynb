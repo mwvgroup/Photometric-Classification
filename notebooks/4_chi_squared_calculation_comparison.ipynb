{
 "cells": [
  {
   "cell_type": "markdown",
   "metadata": {},
   "source": [
    "# Chi-Squared Calculation Comparison\n",
    "\n",
    "This notebook compares the published Chi-Squared values from DES against the Chi-Squared value calculated by SNCosmo using the published fit parameters."
   ]
  },
  {
   "cell_type": "code",
   "execution_count": null,
   "metadata": {},
   "outputs": [],
   "source": [
    "import sys\n",
    "from warnings import warn\n",
    "\n",
    "import sncosmo\n",
    "from astropy.table import Table\n",
    "from matplotlib import pyplot as plt\n",
    "\n",
    "sys.path.insert(0, '../')\n",
    "from analysis_pipeline.data_access import des\n",
    "\n",
    "param_names = sncosmo.Model(source='salt2').param_names"
   ]
  },
  {
   "cell_type": "markdown",
   "metadata": {},
   "source": [
    "# Calculating Chi-Squared"
   ]
  },
  {
   "cell_type": "code",
   "execution_count": null,
   "metadata": {},
   "outputs": [],
   "source": [
    "def calc_chi_sq(modelcov=True):\n",
    "    \"\"\"Calculate the Chi-Squared value for each target\n",
    "    \n",
    "    Args:\n",
    "        modelcov (bool): Whether to use the model covariance \n",
    "          when calculating chi-squared (Default: True)\n",
    "          \n",
    "    Returns:\n",
    "        An astropy table with chi-squared values and fit parameters\n",
    "    \"\"\"\n",
    "    \n",
    "    # Create duplicate columns with new names for convenience\n",
    "    des.master_table['z'] = des.master_table['zCMB']\n",
    "    des.master_table['zERR'] = des.master_table['zCMBERR']\n",
    "    des.master_table['t0'] = des.master_table['PKMJD']\n",
    "    des.master_table['t0ERR'] = des.master_table['PKMJDERR']\n",
    "\n",
    "    # Create output Table\n",
    "    col_names = ['cid', 'NDOF', 'FITCHI2', 'FITPROB', 'SNCOSMOCHI2']\n",
    "    col_names.extend(param_names)\n",
    "    col_names.extend((p + 'ERR' for p in param_names))\n",
    "    out_table = Table(names=col_names)\n",
    "    \n",
    "    # Poplulat table\n",
    "    for target in des.master_table:\n",
    "        try:\n",
    "            data = des.get_input_for_id(target['CIDint'])\n",
    "\n",
    "        except:\n",
    "            continue\n",
    "\n",
    "        salt2 = sncosmo.Model(source='salt2')\n",
    "        fit_params = {param: target[param] for param in salt2.param_names}\n",
    "        salt2.set(**fit_params)\n",
    "\n",
    "        try:\n",
    "            chi_sq = sncosmo.chisq(data, salt2, modelcov=modelcov)\n",
    "\n",
    "        except ValueError as e:\n",
    "            warn(f'Failed calculation for {target[\"CID\"]}: {e}')\n",
    "                 \n",
    "        new_row = list(target['CIDint', 'NDOF', 'FITCHI2', 'FITPROB'])\n",
    "        new_row.append(chi_sq)\n",
    "        new_row.extend(fit_params.values())\n",
    "        for p in param_names:\n",
    "                 new_row.append(target[p + 'ERR'])\n",
    "        out_table.add_row(new_row)\n",
    "\n",
    "    return out_table\n",
    "                 \n"
   ]
  },
  {
   "cell_type": "code",
   "execution_count": null,
   "metadata": {
    "scrolled": false
   },
   "outputs": [],
   "source": [
    "chi_sq_cov = calc_chi_sq(True)\n",
    "chi_sq_nocov = calc_chi_sq(False)\n",
    "\n",
    "chi_sq_cov.show_in_notebook(display_length=5)"
   ]
  },
  {
   "cell_type": "markdown",
   "metadata": {},
   "source": [
    "# Comparing Chi-Squared Values\n",
    "\n",
    "We compare Chi-Squared values calculated with and without covariance"
   ]
  },
  {
   "cell_type": "code",
   "execution_count": null,
   "metadata": {},
   "outputs": [],
   "source": [
    "fig, axes = plt.subplots(1, 2, figsize=(10, 5))\n",
    "\n",
    "for axis, data in zip(axes, [chi_sq_cov, chi_sq_nocov]):\n",
    "    x, y = data['FITCHI2'], data['SNCOSMOCHI2']\n",
    "    axis.scatter(x, y)\n",
    "    axis.plot((0, 20000), (0, 20000), linestyle='--', alpha=.5, color='grey')\n",
    "    \n",
    "    axis.set_xlabel('Published Chi2')\n",
    "    axis.set_xlim(0, max(x))\n",
    "    axis.set_ylim(0, max(y))\n",
    "\n",
    "axes[0].set_ylabel('SNCosmo Chi2')\n",
    "axes[0].set_title('Covariance')\n",
    "axes[1].set_title('No Covariance')\n",
    "\n",
    "plt.show()"
   ]
  },
  {
   "cell_type": "markdown",
   "metadata": {},
   "source": [
    "# Correlations with Parameters\n",
    "\n",
    "We expect there to be no correlation between the chi-squared residuals, but we check anyways."
   ]
  },
  {
   "cell_type": "code",
   "execution_count": null,
   "metadata": {},
   "outputs": [],
   "source": [
    "residual = chi_sq_cov['FITCHI2'] - chi_sq_cov['SNCOSMOCHI2']\n",
    "fig, axes = plt.subplots(2, 3, figsize=(16, 8))\n",
    "\n",
    "for axis, param in zip(axes.flatten(), param_names):\n",
    "    axis.scatter(chi_sq_cov[param], residual)\n",
    "    axis.set_xlim(min(chi_sq_cov[param]), max(chi_sq_cov[param]))\n",
    "    axis.set_title(param)\n",
    "    \n",
    "axes[1, 2].scatter(chi_sq_cov['FITPROB'], residual)\n",
    "axes[1, 2].set_xlim(min(chi_sq_cov['FITPROB']), max(chi_sq_cov['FITPROB']))\n",
    "axes[1, 2].set_title('FITPROB')\n",
    "\n",
    "axes[0, 0].set_ylabel('Residual Chi-Squared')\n",
    "axes[1, 1].set_xlabel('Parameter Value')\n",
    "plt.show()\n"
   ]
  },
  {
   "cell_type": "code",
   "execution_count": null,
   "metadata": {},
   "outputs": [],
   "source": [
    "residual = chi_sq_cov['FITCHI2'] - chi_sq_cov['SNCOSMOCHI2']\n",
    "fig, axes = plt.subplots(2, 3, figsize=(16, 8))\n",
    "\n",
    "for axis, param in zip(axes.flatten(), param_names):\n",
    "    axis.scatter(chi_sq_cov[param + 'ERR'], residual)\n",
    "    axis.set_xlim(min(chi_sq_cov[param + 'ERR']), max(chi_sq_cov[param + 'ERR']))\n",
    "    axis.set_title(param + 'ERR')\n",
    "\n",
    "axes[0, 0].set_ylabel('Residual Chi-Squared')\n",
    "axes[1, 1].set_xlabel('Parameter Value')\n",
    "plt.show()\n",
    "\n"
   ]
  },
  {
   "cell_type": "code",
   "execution_count": null,
   "metadata": {},
   "outputs": [],
   "source": []
  }
 ],
 "metadata": {
  "kernelspec": {
   "display_name": "Python [conda env:sdss_class] *",
   "language": "python",
   "name": "conda-env-sdss_class-py"
  },
  "language_info": {
   "codemirror_mode": {
    "name": "ipython",
    "version": 3
   },
   "file_extension": ".py",
   "mimetype": "text/x-python",
   "name": "python",
   "nbconvert_exporter": "python",
   "pygments_lexer": "ipython3",
   "version": "3.7.3"
  }
 },
 "nbformat": 4,
 "nbformat_minor": 2
}
