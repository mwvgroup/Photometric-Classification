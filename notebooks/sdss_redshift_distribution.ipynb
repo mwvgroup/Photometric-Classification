{
 "cells": [
  {
   "cell_type": "markdown",
   "metadata": {},
   "source": [
    "# SDSS Redhift Distribution\n",
    "\n",
    "This notebook plots a histagram of redshifts for the SDSS SN Sample."
   ]
  },
  {
   "cell_type": "code",
   "execution_count": null,
   "metadata": {},
   "outputs": [],
   "source": [
    "import warnings\n",
    "from pathlib import Path\n",
    "\n",
    "import numpy as np\n",
    "import pandas as pd\n",
    "from matplotlib import pyplot as plt\n",
    "from sndata.sdss import sako18\n",
    "\n",
    "pd.set_option('display.max_columns', 999)\n",
    "\n",
    "# Output directory for figures\n",
    "fig_dir = Path('./notebook_figs')\n",
    "fig_dir.mkdir(exist_ok=True, parents=True)\n"
   ]
  },
  {
   "cell_type": "markdown",
   "metadata": {},
   "source": [
    "We load in a table listing all available targets in the SDSS SNe survey and note the available catagories.\n"
   ]
  },
  {
   "cell_type": "code",
   "execution_count": null,
   "metadata": {},
   "outputs": [],
   "source": [
    "with warnings.catch_warnings():\n",
    "    warnings.simplefilter(\"ignore\")\n",
    "    sdss_df = sako18.load_table('master').to_pandas(index='CID')\n",
    "    \n",
    "list(sdss_df.Classification.unique())\n"
   ]
  },
  {
   "cell_type": "markdown",
   "metadata": {},
   "source": [
    "We bin the number of targets by redshift for each catagory."
   ]
  },
  {
   "cell_type": "code",
   "execution_count": null,
   "metadata": {},
   "outputs": [],
   "source": [
    "sdss_df['z'] = sdss_df.zCMB\n",
    "missing_spec_z = sdss_df.zCMB < 0\n",
    "sdss_df.loc[missing_spec_z, 'z'] = sdss_df[missing_spec_z].zPSNIDzspec\n",
    "\n",
    "bins = np.arange(0, 1, .05)\n",
    "groups = sdss_df.groupby(['Classification', pd.cut(sdss_df.z, bins)])\n",
    "binned_data = groups.size().unstack()\n",
    "binned_data.fillna(0, inplace=True)\n",
    "binned_data\n"
   ]
  },
  {
   "cell_type": "code",
   "execution_count": null,
   "metadata": {},
   "outputs": [],
   "source": [
    "unknown = binned_data.loc['Unknown']\n",
    "snia_spec = binned_data.loc[['SNIa', 'SNIa?']].sum()\n",
    "snia_hostspec = binned_data.loc['zSNIa']\n",
    "snia_phot = binned_data.loc['pSNIa']\n",
    "\n",
    "snia = snia_spec + snia_hostspec + snia_phot\n",
    "snibc = binned_data.loc[['SNIb', 'SNIc', 'zSNIbc', 'pSNIbc']].sum() \n"
   ]
  },
  {
   "cell_type": "markdown",
   "metadata": {},
   "source": [
    "Finally, we can plot the redshift distribution."
   ]
  },
  {
   "cell_type": "code",
   "execution_count": null,
   "metadata": {
    "scrolled": false
   },
   "outputs": [],
   "source": [
    "fig, axis = plt.subplots(1, 1, figsize=(6, 6))\n",
    "\n",
    "# The combined distribution\n",
    "axis.hist(bins[:-1], len(bins) - 1, weights=unknown + snia, color='C0')\n",
    "\n",
    "# Shade in the spectroscopic distribution\n",
    "axis.hist(bins[:-1], len(bins) - 1, \n",
    "          weights=unknown + snia_spec + snia_hostspec, \n",
    "          histtype='step', \n",
    "          fill=False, \n",
    "          hatch='///',\n",
    "          color='C3', \n",
    "          label=f'SNe with Host z ({int(snia_hostspec.sum())})')\n",
    "\n",
    "# Shade in the direct spectroscopic distribution\n",
    "axis.hist(bins[:-1], len(bins) - 1, weights=unknown + snia_spec, color='C0')\n",
    "axis.hist(bins[:-1], len(bins) - 1, \n",
    "          weights=unknown + snia_spec, \n",
    "          histtype='step', \n",
    "          fill=False, \n",
    "          hatch='\\\\\\\\\\\\', \n",
    "          color='C1', \n",
    "          label=f'SNe with Spectral z ({int(snia_spec.sum())})')\n",
    "\n",
    "# Shade in the unclassified distribution\n",
    "axis.hist(bins[:-1], len(bins) - 1, weights=unknown, color='C0')\n",
    "axis.hist(bins[:-1], len(bins) - 1, \n",
    "          weights=unknown, \n",
    "          histtype='step', \n",
    "          fill=False, \n",
    "          hatch='xx',\n",
    "          color='k',\n",
    "          label=f'Unknown Classification ({int(unknown.sum())})')\n",
    "\n",
    "# Replot the combined distribution so we have clean borders\n",
    "# and a legend entry with the desired symbol\n",
    "axis.hist(bins[:-1], len(bins) - 1, \n",
    "          weights=unknown + snia, \n",
    "          color='C0', \n",
    "          histtype='step', \n",
    "          fill=False, \n",
    "          label=f'SNe with Photometric z ({int(snia_phot.sum())})')\n",
    "\n",
    "\n",
    "# Plot lines at key redshift values\n",
    "# z = (obsv_lambda / rest_lambda) - 1\n",
    "u_eff = 3550\n",
    "g_eff = 4680\n",
    "r_eff = 6160\n",
    "z_ug = (g_eff / u_eff) - 1\n",
    "z_ur = (r_eff / u_eff) - 1\n",
    "axis.axvline(z_ug, color='black', linestyle='--', label=r'u $\\rightarrow$ g')\n",
    "axis.axvline(z_ur, color='black', linestyle='-.', label=r'u $\\rightarrow$ r')\n",
    "    \n",
    "axis.set_xlabel('Redshift', fontsize=12)\n",
    "axis.set_ylabel('Number of Targets (SNe + Unclassified)', fontsize=12)\n",
    "plt.xlim(0, 1)\n",
    "plt.tight_layout()\n",
    "\n",
    "# Reorder the legend\n",
    "handles, labels = axis.get_legend_handles_labels()\n",
    "order = [5, 2, 3, 4, 0, 1]\n",
    "axis.legend(np.array(handles)[order], np.array(labels)[order], loc='upper right', framealpha=1)\n",
    "\n",
    "plt.savefig(fig_dir / 'sdss_redshift.pdf')\n",
    "plt.show()\n"
   ]
  },
  {
   "cell_type": "code",
   "execution_count": null,
   "metadata": {},
   "outputs": [],
   "source": []
  }
 ],
 "metadata": {
  "kernelspec": {
   "display_name": "Python [conda env:phot_class] *",
   "language": "python",
   "name": "conda-env-phot_class-py"
  },
  "language_info": {
   "codemirror_mode": {
    "name": "ipython",
    "version": 3
   },
   "file_extension": ".py",
   "mimetype": "text/x-python",
   "name": "python",
   "nbconvert_exporter": "python",
   "pygments_lexer": "ipython3",
   "version": "3.7.4"
  }
 },
 "nbformat": 4,
 "nbformat_minor": 2
}
