{
 "cells": [
  {
   "cell_type": "markdown",
   "metadata": {},
   "source": [
    "# Fitting with Iminuit Vs. Emcee\n",
    "\n",
    "This notebook provides a simple comparison of the `fit_lc` and `mcmc_lc` minimization routines available in `sncosmo` (based on `iminuit` and `emcee` respectively). Comparisons are performed using the SN91bg Model."
   ]
  },
  {
   "cell_type": "code",
   "execution_count": null,
   "metadata": {
    "scrolled": false
   },
   "outputs": [],
   "source": [
    "import sys\n",
    "\n",
    "import sncosmo\n",
    "from matplotlib import pyplot as plt\n",
    "from sndata.sdss import sako18\n",
    "from sndata.des import sn3yr\n",
    "\n",
    "sys.path.insert(0, '../')\n",
    "from phot_class import fit_func_wraps, models, utils\n",
    "\n",
    "sako18.download_module_data()\n",
    "sn3yr.download_module_data()\n",
    "\n",
    "sako18.register_filters(True)\n",
    "sn3yr.register_filters(True)\n"
   ]
  },
  {
   "cell_type": "markdown",
   "metadata": {},
   "source": [
    "We build some simple functions to fit data and plot results. Note that we used the wrapped versions of the minimization routines from our analysis pipeline. "
   ]
  },
  {
   "cell_type": "code",
   "execution_count": null,
   "metadata": {},
   "outputs": [],
   "source": [
    "def iminuit_fit(data, model, vparams, **kwargs):\n",
    "    result, fitted_model = fit_func_wraps.simple_fit(data, model, vparams, **kwargs)\n",
    "\n",
    "    xs, d = utils.calc_model_chisq(data, result, fitted_model)\n",
    "    print(f'chisq / ndof = {xs} / {d} = {xs / d}')\n",
    "    print(f'ncall = {result.ncall}')\n",
    "    print(f'message = {result.message}', flush=True)\n",
    "\n",
    "    fig = sncosmo.plot_lc(data, model=fitted_model, errors=result.errors)\n",
    "    plt.show()\n",
    "    \n",
    "    return result, fitted_model\n",
    "\n",
    "def emcee_fit(data, model, vparams, **kwargs):    \n",
    "    result, fitted_model = fit_func_wraps.mcmc_fit(data, model, vparams, **kwargs)\n",
    "\n",
    "    xs, d = utils.calc_model_chisq(data, result, fitted_model)\n",
    "    print(f'chisq / ndof = {xs} / {d} = {xs / d}')\n",
    "    print(f'samples = {len(result.samples)}')\n",
    "\n",
    "    fig = sncosmo.plot_lc(data, model=fitted_model, errors=result.errors)\n",
    "    plt.show()\n",
    "    return result, fitted_model\n",
    "\n",
    "    "
   ]
  },
  {
   "cell_type": "markdown",
   "metadata": {},
   "source": [
    "## Demo Data\n",
    "\n",
    "For simplicity, we start with the example data from sncosmo."
   ]
  },
  {
   "cell_type": "code",
   "execution_count": null,
   "metadata": {},
   "outputs": [],
   "source": [
    "data = sncosmo.load_example_data()\n",
    "\n",
    "models.register_sources(force=True)\n",
    "model = sncosmo.Model(sncosmo.get_source('sn91bg', version='hsiao_phase'))\n",
    "model.set(z=data.meta['z'], t0=data.meta['t0'])\n",
    "\n",
    "vparams = ['amplitude', 'x1', 'c']  # parameters of model to vary\n",
    "bounds={'x1': (0.65, 1.25), 'c': (0, 1)}  # bounds on parameters\n"
   ]
  },
  {
   "cell_type": "markdown",
   "metadata": {},
   "source": [
    "We run a fit using the `iminuit` minimization. To avoid some known bugs in `sncosmo` we use the wrapped version of `fit_lc` available in our analysis pipeline. "
   ]
  },
  {
   "cell_type": "code",
   "execution_count": null,
   "metadata": {},
   "outputs": [],
   "source": [
    "iminuit_result, iminuit_fitted_model = iminuit_fit(data, model, vparams, bounds=bounds)\n"
   ]
  },
  {
   "cell_type": "markdown",
   "metadata": {},
   "source": [
    "Next, we fit the same data using an MCMC minimization. Note that we retrieve a much more reasonable value for the `c` parameter while maintaining a similar quality of fit (chi-squared). However, the error value quickly minimizes this excitement."
   ]
  },
  {
   "cell_type": "code",
   "execution_count": null,
   "metadata": {},
   "outputs": [],
   "source": [
    "mcmc_result, mcmc_fitted_model = emcee_fit(data, model, vparams, bounds=bounds)"
   ]
  },
  {
   "cell_type": "markdown",
   "metadata": {},
   "source": [
    "## SDSS and DES Data\n",
    "\n",
    "We repeat the above process, but look at a few light-curves from SDSS or DES."
   ]
  },
  {
   "cell_type": "code",
   "execution_count": null,
   "metadata": {},
   "outputs": [],
   "source": [
    "use_data = 'sdss'\n",
    "\n",
    "if use_data == 'sdss':\n",
    "    filter_func = utils.classification_filter_factory(\n",
    "            ['SNIa']\n",
    "        )\n",
    "\n",
    "    data_iter = sako18.iter_data(filter_func=filter_func)\n",
    "\n",
    "elif use_data == 'des':\n",
    "    data_iter = des.iter_data()\n",
    "    "
   ]
  },
  {
   "cell_type": "code",
   "execution_count": null,
   "metadata": {},
   "outputs": [],
   "source": [
    "data = next(data_iter)\n",
    "model.set(z=data.meta['z'], t0=0)\n",
    "mcmc_result, mcmc_fit = iminuit_fit(data, model, model.param_names[1:], bounds=bounds)\n",
    "mcmc_result, mcmc_fit = emcee_fit(data, model, model.param_names[1:], bounds=bounds)\n"
   ]
  },
  {
   "cell_type": "code",
   "execution_count": null,
   "metadata": {},
   "outputs": [],
   "source": []
  }
 ],
 "metadata": {
  "kernelspec": {
   "display_name": "Python [conda env:phot_class] *",
   "language": "python",
   "name": "conda-env-phot_class-py"
  },
  "language_info": {
   "codemirror_mode": {
    "name": "ipython",
    "version": 3
   },
   "file_extension": ".py",
   "mimetype": "text/x-python",
   "name": "python",
   "nbconvert_exporter": "python",
   "pygments_lexer": "ipython3",
   "version": "3.7.4"
  }
 },
 "nbformat": 4,
 "nbformat_minor": 2
}
