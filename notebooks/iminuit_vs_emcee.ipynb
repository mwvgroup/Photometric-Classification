{
 "cells": [
  {
   "cell_type": "markdown",
   "metadata": {},
   "source": [
    "# Fitting with Iminuit Vs. Emcee\n",
    "\n",
    "This notebook provides a simple comparison of the `fit_lc` and `mcmc_lc` minimization routines available in `sncosmo` (based on `iminuit` and `emcee` respectively)."
   ]
  },
  {
   "cell_type": "code",
   "execution_count": null,
   "metadata": {
    "scrolled": false
   },
   "outputs": [],
   "source": [
    "import sncosmo\n",
    "from matplotlib import pyplot as plt\n",
    "from phot_class import fit_func_wraps, models, utils\n"
   ]
  },
  {
   "cell_type": "markdown",
   "metadata": {},
   "source": [
    "For simplicity, we use the example data from sncosmo."
   ]
  },
  {
   "cell_type": "code",
   "execution_count": null,
   "metadata": {},
   "outputs": [],
   "source": [
    "data = sncosmo.load_example_data()\n",
    "\n",
    "models.register_sources(force=True)\n",
    "model = sncosmo.Model(sncosmo.get_source('sn91bg', version='hsiao_phase'))\n",
    "model.set(z=data.meta['z'], t0=data.meta['t0'])\n",
    "\n",
    "vparams = ['amplitude', 'x1', 'c']  # parameters of model to vary\n",
    "bounds={'x1': (0.65, 1.25), 'c': (0, 1)}  # bounds on parameters\n"
   ]
  },
  {
   "cell_type": "markdown",
   "metadata": {},
   "source": [
    "We run a fit using the `iminuit` minimization. To avoid some known bugs in `sncosmo` we use the wrapped version of `fit_lc` available in our analysis pipeline. "
   ]
  },
  {
   "cell_type": "code",
   "execution_count": null,
   "metadata": {},
   "outputs": [],
   "source": [
    "iminuit_result, iminuit_fit = fit_func_wraps.simple_fit(\n",
    "    data, model, vparams, bounds=bounds)\n",
    "\n",
    "xs, d = utils.calc_model_chisq(data, iminuit_result, iminuit_fit)\n",
    "print(f'chisq / ndof = {xs} / {d} = {xs / d}')\n",
    "print(f'ncall = {iminuit_result.ncall}')\n",
    "print(f'message = {iminuit_result.message}', flush=True)\n",
    "\n",
    "fig = sncosmo.plot_lc(data, model=iminuit_fit, errors=iminuit_result.errors)\n",
    "plt.show()\n"
   ]
  },
  {
   "cell_type": "markdown",
   "metadata": {},
   "source": [
    "Next, we fit the same data using an MCMC minimization. Note that we retrieve a much more reasonable value for the `c` parameter while maintaining a similar quality of fit (chi-squared)."
   ]
  },
  {
   "cell_type": "code",
   "execution_count": null,
   "metadata": {},
   "outputs": [],
   "source": [
    "mcmc_result, mcmc_fit = fit_func_wraps.mcmc_fit(\n",
    "    data, model, vparams, bounds=bounds)\n",
    "\n",
    "xs, d = utils.calc_model_chisq(data, mcmc_result, mcmc_fit)\n",
    "print(f'chisq / ndof = {xs} / {d} = {xs / d}')\n",
    "print(f'samples = {len(mcmc_result.samples)}')\n",
    "\n",
    "fig = sncosmo.plot_lc(data, model=mcmc_fit, errors=mcmc_result.errors)\n",
    "plt.show()\n"
   ]
  },
  {
   "cell_type": "code",
   "execution_count": null,
   "metadata": {},
   "outputs": [],
   "source": []
  }
 ],
 "metadata": {
  "kernelspec": {
   "display_name": "Python [conda env:phot_class] *",
   "language": "python",
   "name": "conda-env-phot_class-py"
  },
  "language_info": {
   "codemirror_mode": {
    "name": "ipython",
    "version": 3
   },
   "file_extension": ".py",
   "mimetype": "text/x-python",
   "name": "python",
   "nbconvert_exporter": "python",
   "pygments_lexer": "ipython3",
   "version": "3.7.4"
  }
 },
 "nbformat": 4,
 "nbformat_minor": 2
}
