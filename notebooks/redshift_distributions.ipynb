{
 "cells": [
  {
   "cell_type": "markdown",
   "metadata": {},
   "source": [
    "# Redhift Distributions"
   ]
  },
  {
   "cell_type": "markdown",
   "metadata": {},
   "source": [
    "from matplotlib import pyplot as plt\n",
    "from sndata.des import sn3yr\n",
    "from sndata.csp import dr3\n",
    "from sndata.sdss import sako18\n",
    "\n",
    "#### Table of Contents:\n",
    "1. <a href='#combined'>Combined Surveys</a>: Redshift histogram for SDSS, DES, and CSP together.\n",
    "1. <a href='#sdss'>SDSS</a>: Redshift histogram for the Sloan Digital Sky Survey\n",
    "1. <a href='#csp'>CSP</a>: Redshift histogram for the Carnegie Supernova Project\n"
   ]
  },
  {
   "cell_type": "code",
   "execution_count": null,
   "metadata": {},
   "outputs": [],
   "source": [
    "from pathlib import Path\n",
    "\n",
    "import numpy as np\n",
    "from matplotlib import pyplot as plt\n",
    "\n",
    "from sndata.csp import dr3\n",
    "from sndata.des import sn3yr\n",
    "from sndata.sdss import sako18\n",
    "\n",
    "# Output directory for figures\n",
    "fig_dir = Path('./notebook_figs')\n",
    "fig_dir.mkdir(exist_ok=True, parents=True)\n"
   ]
  },
  {
   "cell_type": "markdown",
   "metadata": {},
   "source": [
    "## Combined Surveys <a id='combined'></a>\n",
    "\n",
    "Redshift histogram for SDSS, DES, and CSP together."
   ]
  },
  {
   "cell_type": "code",
   "execution_count": null,
   "metadata": {},
   "outputs": [],
   "source": [
    "z_des = [d.meta['redshift'] for d in sn3yr.iter_data(True)]\n",
    "z_csp = dr3.load_table(1)['z']\n",
    "\n",
    "sdss_master = sako18.load_table('master')\n",
    "z_sdss = sdss_master['zCMB']\n",
    "z_sdss = z_sdss[z_sdss > 0]"
   ]
  },
  {
   "cell_type": "code",
   "execution_count": null,
   "metadata": {},
   "outputs": [],
   "source": [
    "fig, axis = plt.subplots(1, 1, figsize=(6, 6))\n",
    "axis.hist(\n",
    "    [z_sdss, z_csp, z_des], \n",
    "    label=['SDSS', 'CSP', 'DES'], \n",
    "    bins=np.arange(0, 1, .05),\n",
    "    normed=True, \n",
    "    stacked=True\n",
    ")\n",
    "\n",
    "axis.set_xlim(0, 1)\n",
    "axis.set_xlabel('Redshift', fontsize=12)\n",
    "axis.set_ylabel('Number of Targets / Survey', fontsize=12)\n",
    "axis.legend()\n",
    "\n",
    "plt.show()"
   ]
  },
  {
   "cell_type": "markdown",
   "metadata": {},
   "source": [
    "## SDSS <a id='sdss'></a>\n",
    "\n",
    "Redshift histogram for the Sloan Digital Sky Survey\n"
   ]
  },
  {
   "cell_type": "code",
   "execution_count": null,
   "metadata": {
    "scrolled": false
   },
   "outputs": [],
   "source": [
    "sdss_df = sdss_master[sdss_master['zCMB'] >= 0].to_pandas(index='CID')\n",
    "sdss_df.Classification.replace('SNIa?', 'SNIa', inplace=True)\n",
    "sdss_df.Classification.replace('zSNIa', 'SNIa', inplace=True)\n",
    "sdss_df.Classification.replace('SNIb', 'SNIb / c', inplace=True)\n",
    "sdss_df.Classification.replace('SNIc', 'SNIb / c', inplace=True)\n",
    "sdss_df.Classification.replace('SNIbc', 'SNIb / c', inplace=True)\n",
    "sdss_df.Classification.replace('zSNIbc', 'SNIb / c', inplace=True)\n",
    "sdss_df.Classification.replace('zSNII', 'SNII', inplace=True)\n",
    "sdss_class_groups = sdss_df.groupby('Classification')\n",
    "\n",
    "fig, axis = plt.subplots(1, 1, figsize=(6, 6))\n",
    "ignore_types = ['Variable', 'AGN']\n",
    "for class_name, class_data in sdss_class_groups:\n",
    "    if class_name in ignore_types:\n",
    "        continue\n",
    "\n",
    "    axis.hist(list(class_data['zCMB']), label=class_name, bins=np.arange(0, 1, .05))\n",
    "\n",
    "# z = (obsv_lambda / rest_lambda) - 1\n",
    "u_eff = 3550\n",
    "g_eff = 4680\n",
    "r_eff = 6160\n",
    "i_eff = 7480\n",
    "z_eff = 8930\n",
    "\n",
    "z_ug = (g_eff / u_eff) - 1\n",
    "z_ur = (r_eff / u_eff) - 1\n",
    "axis.axvline(z_ug, color='black', linestyle='--', label=r'u $\\rightarrow$ g')\n",
    "axis.axvline(z_ur, color='black', linestyle='-.', label=r'u $\\rightarrow$ r')\n",
    "    \n",
    "axis.set_xlabel('Redshift', fontsize=12)\n",
    "axis.set_ylabel('Number of Targets / Classification', fontsize=12)\n",
    "plt.xlim(0, 1)\n",
    "plt.tight_layout()\n",
    "axis.legend()\n",
    "\n",
    "plt.savefig(fig_dir / 'sdss_redshift.pdf')\n",
    "plt.show()\n"
   ]
  },
  {
   "cell_type": "markdown",
   "metadata": {},
   "source": [
    "## CSP <a id='csp'></a>\n",
    "\n",
    "Redshift histogram for the carnegie supernova project\n"
   ]
  },
  {
   "cell_type": "code",
   "execution_count": null,
   "metadata": {},
   "outputs": [],
   "source": [
    "table_1 = dr3.load_table(1).to_pandas(index='SN')\n",
    "table_2 = dr3.load_table(2).to_pandas(index='SN')\n",
    "csp_df = table_2.join(table_1)\n",
    "csp_df.Subtype1.replace('normal', 'Normal', inplace=True)\n",
    "csp_df.Subtype1.replace('---', 'Unknown', inplace=True)\n",
    "csp_df.Subtype1.replace('06bt-like', 'Peculiar', inplace=True)\n",
    "csp_df.Subtype1.replace('06gz-like', 'Peculiar', inplace=True)\n",
    "csp_df.Subtype1.replace('86G-like', 'Peculiar', inplace=True)\n",
    "csp_df.Subtype1.replace('91T-like', '91T', inplace=True)\n",
    "csp_df.Subtype1.replace('91bg-like', '91bg', inplace=True)\n",
    "csp_class_groups = csp_df.groupby('Subtype1')\n",
    "\n",
    "fig, axis = plt.subplots(1, 1, figsize=(6, 6))\n",
    "for class_name, class_data in csp_class_groups:\n",
    "    axis.hist(list(class_data['z']), label=class_name, bins=np.arange(0, .1, .005))\n",
    "\n",
    "axis.set_xlabel('Redshift', fontsize=12)\n",
    "axis.set_ylabel('Number of Targets / Classification', fontsize=12)\n",
    "axis.set_xlim(0, .1)\n",
    "axis.legend()\n",
    "\n",
    "plt.savefig(fig_dir / 'csp_redshift.pdf')\n",
    "plt.show()\n",
    "    "
   ]
  },
  {
   "cell_type": "code",
   "execution_count": null,
   "metadata": {},
   "outputs": [],
   "source": []
  }
 ],
 "metadata": {
  "kernelspec": {
   "display_name": "Python [conda env:phot_class] *",
   "language": "python",
   "name": "conda-env-phot_class-py"
  },
  "language_info": {
   "codemirror_mode": {
    "name": "ipython",
    "version": 3
   },
   "file_extension": ".py",
   "mimetype": "text/x-python",
   "name": "python",
   "nbconvert_exporter": "python",
   "pygments_lexer": "ipython3",
   "version": "3.7.4"
  }
 },
 "nbformat": 4,
 "nbformat_minor": 2
}
