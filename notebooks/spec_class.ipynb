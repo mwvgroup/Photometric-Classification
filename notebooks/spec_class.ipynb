{
 "cells": [
  {
   "cell_type": "markdown",
   "metadata": {},
   "source": [
    "# Spectroscopic Classification\n",
    "\n",
    "This notebook assigns Branch et al. 2006 style subtypes to SDSS spectra.\n",
    "\n",
    "#### Table of Contents:\n",
    "1. <a href='#formatting_data'>Formatting the Data</a>: A cursory inspection of the data\n",
    "1. <a href='#peak'>Closest Measurement to Peak Brightness</a>: Selecting only measurements near peak brightness\n",
    "1. <a href='#plotting_classifications'>Plotting Classifications</a>: Plotting Si ii λ5972 vs Si ii λ6355"
   ]
  },
  {
   "cell_type": "code",
   "execution_count": null,
   "metadata": {},
   "outputs": [],
   "source": [
    "import math\n",
    "import sys\n",
    "import warnings\n",
    "from datetime import datetime\n",
    "from functools import reduce\n",
    "from pathlib import Path\n",
    "\n",
    "import numpy as np\n",
    "import pandas as pd\n",
    "from astropy.table import Table\n",
    "from matplotlib import pyplot as plt\n",
    "from sndata.sdss import sako18spec\n",
    "from sndata.csp import dr1\n",
    "\n",
    "sys.path.insert(0, '../')\n",
    "from phot_class.spectra import tabulate_spectral_properties, dust_map\n",
    "\n",
    "dr1.download_module_data()\n",
    "sako18spec.download_module_data()\n",
    "\n",
    "# Output directory for figures\n",
    "fig_dir = Path('./notebook_figs/pew_measurements')\n",
    "fig_dir.mkdir(exist_ok=True, parents=True)\n"
   ]
  },
  {
   "cell_type": "markdown",
   "metadata": {},
   "source": [
    "## Formatting the data <a id='formatting_data'></a>\n",
    "\n",
    "We start by reading in measurements from external publications."
   ]
  },
  {
   "cell_type": "code",
   "execution_count": null,
   "metadata": {},
   "outputs": [],
   "source": [
    "folatelli_13 = dr1.load_table(6).to_pandas()\n",
    "branch_06 = pd.DataFrame({\n",
    "    'obj_id': ['1981B', '1984A', '1986G', '1989B', '1990N', '1991M', '1991T', '1991bg', '1992A', '1994D', '1194ae', '1996X', '1997cn', '1998ag', '1998bu', '1999aw', '1999by', '1999ee', '2000cx', '2001ay', '2001el', '2002bf', '2002bo', '2002cx'],\n",
    "    'pw7': [127, 204, 126, 124, 88, 137, 29, 92, 107, 96, 89, 87, 101, 78, 94, 58, 95, 82, 51, 150, 95, 171, 146, 18 ],\n",
    "    'pw6': [17, 23, 33, 20, 12, 19, 0, 49, 19, 19, 7, 17, 45, 12, 16, 1, 46, 5, 2, 8, 16, 10, 11, 0]\n",
    "})\n"
   ]
  },
  {
   "cell_type": "markdown",
   "metadata": {},
   "source": [
    "Next we read in spectroscopic measurements from the analysis pipeline. We include results determined using a range of resampling sizes."
   ]
  },
  {
   "cell_type": "code",
   "execution_count": null,
   "metadata": {},
   "outputs": [],
   "source": [
    "@np.vectorize\n",
    "def calc_julian_date(date):\n",
    "    \"\"\"\n",
    "    Convert a datetime object into julian float.\n",
    "    \n",
    "    Args:\n",
    "        date (str): The date to convert in %Y-%m-%d format\n",
    "\n",
    "    Returns:\n",
    "        The Julian date as a float\n",
    "    \"\"\"\n",
    "\n",
    "    \n",
    "    date = datetime.strptime(date, '%Y-%m-%d')\n",
    "    julian_datetime = (\n",
    "        367 * date.year - \n",
    "        int((7 * (date.year + int((date.month + 9) / 12.0))) / 4.0) + \n",
    "        int((275 * date.month) / 9.0) + date.day + \n",
    "        1721013.5 + \n",
    "        (date.hour + date.minute / 60.0 + date.second / math.pow(60, 2)) / 24.0 - \n",
    "        0.5 * math.copysign(1, 100 * date.year + date.month - 190002.5) + 0.5\n",
    "    )\n",
    "\n",
    "    return julian_datetime\n",
    "\n",
    "\n",
    "def read_spec_results(path):\n",
    "    \"\"\"Read in spectroscopic measurements from the analysis pipeline\n",
    "    \n",
    "    Args:\n",
    "        path (str): The path of the ecsv file to read\n",
    "        \n",
    "    Returns:\n",
    "        A Pandas DataFrame\n",
    "    \"\"\"\n",
    "\n",
    "    # Read in pipeline results\n",
    "    spec_class = Table.read(path).to_pandas()\n",
    "    spec_class.set_index(['obj_id', 'feat_name'], inplace=True)\n",
    "    spec_class['jd'] = calc_julian_date(spec_class.date)\n",
    "    \n",
    "    # Get time of peak brightness\n",
    "    with warnings.catch_warnings():\n",
    "        warnings.simplefilter(\"ignore\")\n",
    "        master = sako18spec.load_table('master').to_pandas()\n",
    "        master = master.rename(columns={'CID': 'obj_id'}).set_index('obj_id')\n",
    "\n",
    "    # Calculate days since maximum\n",
    "    peak_jd = master.MJDatPeakrmag + 2400000.5\n",
    "    spec_class['days'] = spec_class.jd - peak_jd\n",
    "    \n",
    "    return spec_class\n"
   ]
  },
  {
   "cell_type": "code",
   "execution_count": null,
   "metadata": {
    "scrolled": false
   },
   "outputs": [],
   "source": [
    "results_dir = Path('/Users/daniel/Github/Photometric-Classification/results/')\n",
    "\n",
    "# Data for 0, 2, and 5 resampling steps\n",
    "n0_spec = read_spec_results(results_dir / 'spec_class/sdss_sako18spec_3_1_0.ecsv')\n",
    "n2_spec = read_spec_results(results_dir / 'spec_class/sdss_sako18spec_3_1_2.ecsv')\n",
    "n5_spec = read_spec_results(results_dir / 'spec_class/sdss_sako18spec_3_1_5.ecsv')\n"
   ]
  },
  {
   "cell_type": "code",
   "execution_count": null,
   "metadata": {},
   "outputs": [],
   "source": [
    "n5_spec.head()"
   ]
  },
  {
   "cell_type": "markdown",
   "metadata": {},
   "source": [
    "We check the reasons why some of our calculations failed."
   ]
  },
  {
   "cell_type": "code",
   "execution_count": null,
   "metadata": {},
   "outputs": [],
   "source": [
    "n5_spec[n5_spec.pew.isna()].msg.value_counts()\n"
   ]
  },
  {
   "cell_type": "markdown",
   "metadata": {},
   "source": [
    "We also check the number of measurement available for each target."
   ]
  },
  {
   "cell_type": "code",
   "execution_count": null,
   "metadata": {},
   "outputs": [],
   "source": [
    "(n5_spec.sid.value_counts() / 2).hist()\n",
    "plt.title('Number of spectra per object (Not including host)')\n",
    "plt.ylabel('Number of Targets')\n",
    "plt.xlabel('Number of Spectra')\n",
    "plt.show()\n"
   ]
  },
  {
   "cell_type": "markdown",
   "metadata": {},
   "source": [
    "## Closest Measurements to Peak Brightness <a id='peak'></a>\n",
    "\n",
    "Since some objects have multiple measurements, we chose the value closes to peak brightness.\n"
   ]
  },
  {
   "cell_type": "code",
   "execution_count": null,
   "metadata": {
    "scrolled": false
   },
   "outputs": [],
   "source": [
    "def get_tmax_pew(spec_data):\n",
    "    \"\"\"Keep only pew measurements performed nearest tmax\n",
    "    \n",
    "    Args:\n",
    "        spec_data     (DataFrame): Measurements from the analysis pipeline\n",
    "    \n",
    "    Returns:\n",
    "        A pandas DataFrame\n",
    "    \"\"\"\n",
    "    \n",
    "    features = spec_data.index.get_level_values('feat_name').unique()\n",
    "    data_frames = []\n",
    "\n",
    "    for feat_name in features:\n",
    "        feat_data = spec_data.xs(feat_name, level='feat_name')\n",
    "        feat_data['feat_name'] = feat_name\n",
    "        feat_data.set_index('feat_name', append=True, inplace=True)\n",
    "        \n",
    "        feat_data['sort'] = feat_data.days.abs()         \n",
    "        feat_data = feat_data.sort_values(by='sort')\n",
    "        feat_data = feat_data[~feat_data.index.duplicated()]\n",
    "        feat_data = feat_data.drop(axis=1, labels='sort')\n",
    "        data_frames.append(feat_data)\n",
    "    \n",
    "    return pd.concat(data_frames)\n"
   ]
  },
  {
   "cell_type": "code",
   "execution_count": null,
   "metadata": {},
   "outputs": [],
   "source": [
    "n0_peak = get_tmax_pew(n0_spec)\n",
    "n2_peak = get_tmax_pew(n2_spec)\n",
    "n5_peak = get_tmax_pew(n5_spec)"
   ]
  },
  {
   "cell_type": "markdown",
   "metadata": {},
   "source": [
    "## Plotting Classifications <a id='plotting_classifications'></a>\n",
    "\n",
    "We plot the pEW of Si ii at λ5972 vs λ6355.\n"
   ]
  },
  {
   "cell_type": "code",
   "execution_count": null,
   "metadata": {},
   "outputs": [],
   "source": [
    "def get_colors(pw6, pw7):\n",
    "    \"\"\"Get the color of each point bassed on its coordinates\n",
    "    \n",
    "    Args:\n",
    "        pw6 (ndarray): Array of EW measurements for feature 6\n",
    "        pw7 (ndarray): Array of EW measurements for feature 7\n",
    "        \n",
    "    Returns:\n",
    "        A 2d array of RGB values\n",
    "    \"\"\"\n",
    "    \n",
    "    color = np.ones((len(pw6), 4))\n",
    "    color[:, 0: 3] = 0  # Default to black\n",
    "    color[pw6 > 30] = 0, 0, 1, 1  # Blue\n",
    "    color[(pw6 < 30) & (pw7 > 105)] = 1, 0, 0, 1  # Red\n",
    "    color[pw7 < 70] = 0, 128 / 255, 0, 1  # Green\n",
    "\n",
    "    return color\n",
    "\n",
    "def subplot_published_classes(axis):\n",
    "    \"\"\"Plot Si ii pEW at λ5972 vs λ6355 from CSP and Branch 2006\n",
    "    \n",
    "    Args:\n",
    "        axis (Axis): A matplotlib axis\n",
    "    \"\"\"\n",
    "\n",
    "    axis.scatter(\n",
    "        branch_06.pw7, \n",
    "        branch_06.pw6, \n",
    "        marker='D',\n",
    "        facecolor='none', \n",
    "        edgecolor=get_colors(branch_06.pw6, branch_06.pw7),\n",
    "        zorder=2,\n",
    "        alpha=.5,\n",
    "        label='Branch 2006'\n",
    "    )\n",
    "\n",
    "    axis.scatter(\n",
    "        folatelli_13.pW7, \n",
    "        folatelli_13.pW6, \n",
    "        marker='v',\n",
    "        facecolor='none', \n",
    "        edgecolor=get_colors(folatelli_13.pW6, folatelli_13.pW7),\n",
    "        zorder=2,\n",
    "        alpha=.5,\n",
    "        label='Folatelli 2013'\n",
    "    )\n",
    "\n",
    "def plot_si_ratio(spec_data, snr_ratios=(1, 2, 3), plot_external_data=True):\n",
    "    \"\"\"Plot the pW6 vs pW7 silicon pEw ratios\n",
    "    \n",
    "    Args:\n",
    "        spec_data     (DataFrame): Measurements from the analysis pipeline\n",
    "        plot_external_data (bool): Whether to plot data from CSP and Branch 2006\n",
    "        \n",
    "    Returns:\n",
    "        A matplotlib figure\n",
    "        An array of matplotlib axes\n",
    "    \"\"\"\n",
    "    \n",
    "    # Keep only Type Ia spectra\n",
    "    si_data = spec_data[spec_data.type.isin(['Ia', 'Ia-pec', 'Ia?'])].dropna(subset=['pew'])\n",
    "    si_data = si_data[si_data.days.abs() < 7]\n",
    "    \n",
    "    num_subplots = len(snr_ratios)\n",
    "    fig, axes = plt.subplots(1, num_subplots, figsize=(num_subplots * 6, 6), sharex=True, sharey=True)  \n",
    "    flat_ax = [axes] if num_subplots == 1 else axes.flatten()\n",
    "    for snr, axis in zip(snr_ratios, flat_ax):\n",
    "        \n",
    "        # Keep only data with both pw6 and pw7 measurements greater than snr\n",
    "        good_snr = si_data[si_data.pew / si_data.pew_samperr  >= snr]\n",
    "        pw6 = good_snr.xs('pW6', level='feat_name')[['pew', 'pew_samperr']]\n",
    "        pw7 = good_snr.xs('pW7', level='feat_name')[['pew', 'pew_samperr']]\n",
    "        plot_data = pd.merge(pw6, pw7, on='obj_id', suffixes=('_pw6', '_pw7'))\n",
    "        \n",
    "        axis.errorbar(\n",
    "            x=plot_data.pew_pw7, \n",
    "            y=plot_data.pew_pw6, \n",
    "            xerr=plot_data.pew_samperr_pw7, \n",
    "            yerr=plot_data.pew_samperr_pw6, \n",
    "            linestyle='', \n",
    "            ecolor='grey', \n",
    "            color='grey',\n",
    "            alpha=.3, \n",
    "            zorder=0)\n",
    "        \n",
    "        if plot_external_data:\n",
    "            subplot_published_classes(axis)\n",
    "        \n",
    "        # Isolate each subtype\n",
    "        cl = plot_data[plot_data.pew_pw6 > 30]\n",
    "        bl = plot_data[(plot_data.pew_pw6 < 30) & (plot_data.pew_pw7 > 105)]\n",
    "        ss = plot_data[plot_data.pew_pw7 < 70]\n",
    "        cn = plot_data[(plot_data.pew_pw6 <= 30) & (70 <= plot_data.pew_pw7) & (plot_data.pew_pw7 <= 105)]\n",
    "        \n",
    "        axis.scatter(cl.pew_pw7, cl.pew_pw6, color='C0', zorder=1, label='Cool')\n",
    "        axis.scatter(bl.pew_pw7, bl.pew_pw6, color='C3', zorder=1, label='Broad Line')\n",
    "        axis.scatter(ss.pew_pw7, ss.pew_pw6, color='C2', zorder=1, label='Shallow Silicon')\n",
    "        axis.scatter(cn.pew_pw7, cn.pew_pw6, color='k', zorder=1, label='Core Normal')\n",
    "        \n",
    "        axis.set_xlabel('Si ii λ6355', fontsize=14)\n",
    "        axis.set_title(f'SNR > {snr}')\n",
    "        \n",
    "    flat_ax[0].set_xlim(-10, 500)\n",
    "    flat_ax[0].set_ylim(-10, 200)\n",
    "    flat_ax[0].set_ylabel('Si ii λ5972', fontsize=14) \n",
    "    flat_ax[-1].legend()\n",
    "    return fig, flat_ax\n"
   ]
  },
  {
   "cell_type": "code",
   "execution_count": null,
   "metadata": {
    "scrolled": false
   },
   "outputs": [],
   "source": [
    "fig, axes = plot_si_ratio(n0_peak)\n",
    "fig.suptitle(f'0 Sampling Iterations')\n",
    "plt.savefig(fig_dir / '0_iterations.pdf')\n",
    "plt.show()\n"
   ]
  },
  {
   "cell_type": "code",
   "execution_count": null,
   "metadata": {},
   "outputs": [],
   "source": [
    "fig, axes = plot_si_ratio(n2_peak)\n",
    "fig.suptitle(f'2 Sampling Iterations')\n",
    "plt.savefig(fig_dir / '2_iterations.pdf')\n",
    "plt.show()\n"
   ]
  },
  {
   "cell_type": "code",
   "execution_count": null,
   "metadata": {},
   "outputs": [],
   "source": [
    "fig, axes = plot_si_ratio(n5_peak, (0, 1, 2, 3))\n",
    "fig.suptitle(f'5 Sampling Iterations')\n",
    "plt.savefig(fig_dir / '5_iterations.pdf')\n",
    "plt.show()\n"
   ]
  },
  {
   "cell_type": "code",
   "execution_count": null,
   "metadata": {},
   "outputs": [],
   "source": [
    "fig, axes = plot_si_ratio(n5_peak, (0, ), False)\n",
    "axes[0].set_title('')\n",
    "axes[0].set_xlim(0, 350)\n",
    "axes[0].set_ylim(0, 120)\n",
    "plt.savefig(fig_dir / '5_iterations_snr_eq_1.pdf')\n",
    "plt.show()\n"
   ]
  },
  {
   "cell_type": "markdown",
   "metadata": {},
   "source": [
    "We note the two outlier points with high pEW are noisy spectra."
   ]
  },
  {
   "cell_type": "code",
   "execution_count": null,
   "metadata": {},
   "outputs": [],
   "source": [
    "n5_peak.loc[['5635', '6780']]\n"
   ]
  },
  {
   "cell_type": "code",
   "execution_count": null,
   "metadata": {},
   "outputs": [],
   "source": [
    "for obj_id in ('5635', '6780'):\n",
    "    fig, axis = plt.subplots(figsize=(20, 10))\n",
    "    target_data = sako18spec.get_data_for_id(obj_id)\n",
    "    z = target_data.meta['z']\n",
    "    wave = target_data['wavelength'] / (1 + z)\n",
    "    \n",
    "    axis.plot(wave, target_data['flux'], lw=.5, label=obj_id)\n",
    "    axis.set_xlabel('Wavelength')\n",
    "    axis.set_ylabel('Flux')\n",
    "    axis.legend()\n",
    "    plt.show()\n"
   ]
  },
  {
   "cell_type": "code",
   "execution_count": null,
   "metadata": {},
   "outputs": [],
   "source": []
  }
 ],
 "metadata": {
  "kernelspec": {
   "display_name": "Python [conda env:phot_class] *",
   "language": "python",
   "name": "conda-env-phot_class-py"
  },
  "language_info": {
   "codemirror_mode": {
    "name": "ipython",
    "version": 3
   },
   "file_extension": ".py",
   "mimetype": "text/x-python",
   "name": "python",
   "nbconvert_exporter": "python",
   "pygments_lexer": "ipython3",
   "version": "3.7.4"
  }
 },
 "nbformat": 4,
 "nbformat_minor": 2
}
