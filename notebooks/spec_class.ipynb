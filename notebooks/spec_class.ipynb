{
 "cells": [
  {
   "cell_type": "code",
   "execution_count": 21,
   "metadata": {},
   "outputs": [
    {
     "name": "stdout",
     "output_type": "stream",
     "text": [
      "Downloading data tables...\n",
      "Fetching http://cdsarc.u-strasbg.fr/viz-bin/nph-Cat/tar.gz?J/AJ/154/211\n",
      "Downloading photometry...\n",
      "Fetching https://csp.obs.carnegiescience.edu/data/CSP_Photometry_DR3.tgz\n",
      "Downloading filters...\n",
      "Fetching https://csp.obs.carnegiescience.edu/data/u_tel_ccd_atm_ext_1.2.dat\n",
      "Fetching https://csp.obs.carnegiescience.edu/data/g_tel_ccd_atm_ext_1.2.dat\n",
      "Fetching https://csp.obs.carnegiescience.edu/data/r_tel_ccd_atm_ext_1.2_new.dat\n",
      "Fetching https://csp.obs.carnegiescience.edu/data/i_tel_ccd_atm_ext_1.2_new.dat\n",
      "Fetching https://csp.obs.carnegiescience.edu/data/B_tel_ccd_atm_ext_1.2.dat\n",
      "Fetching https://csp.obs.carnegiescience.edu/data/V_LC3014_tel_ccd_atm_ext_1.2.dat\n",
      "Fetching https://csp.obs.carnegiescience.edu/data/V_LC3009_tel_ccd_atm_ext_1.2.dat\n",
      "Fetching https://csp.obs.carnegiescience.edu/data/V_tel_ccd_atm_ext_1.2.dat\n",
      "Fetching https://csp.obs.carnegiescience.edu/data/Y_SWO_TAM_scan_atm.dat\n",
      "Fetching https://csp.obs.carnegiescience.edu/data/J_old_retrocam_swope_atm.dat\n",
      "Fetching https://csp.obs.carnegiescience.edu/data/J_SWO_TAM_atm.dat\n",
      "Fetching https://csp.obs.carnegiescience.edu/data/H_SWO_TAM_scan_atm.dat\n",
      "Fetching https://csp.obs.carnegiescience.edu/data/Y_texas_DUP_atm.dat\n",
      "Fetching https://csp.obs.carnegiescience.edu/data/J_texas_DUP_atm.dat\n",
      "Fetching https://csp.obs.carnegiescience.edu/data/H_texas_DUP_atm.dat\n"
     ]
    }
   ],
   "source": [
    "import sys\n",
    "\n",
    "from sndata.csp import dr1, dr3\n",
    "\n",
    "sys.path.insert(0, '../')\n",
    "from phot_class.spectra import tabulate_spectral_properties\n",
    "\n",
    "dr1.download_module_data()\n",
    "dr3.download_module_data()\n"
   ]
  },
  {
   "cell_type": "code",
   "execution_count": 3,
   "metadata": {
    "scrolled": false
   },
   "outputs": [],
   "source": [
    "date, wave, flux = [], [], []\n",
    "for spectra in dr1.iter_data():\n",
    "    spectra = spectra.group_by('date')\n",
    "    \n",
    "    for spectrum in spectra.groups:\n",
    "        date.append(spectrum['date'][0])\n",
    "        wave.append(spectrum['wavelength'])\n",
    "        flux.append(spectrum['flux'])\n",
    "        \n",
    "    break"
   ]
  },
  {
   "cell_type": "code",
   "execution_count": 6,
   "metadata": {},
   "outputs": [
    {
     "ename": "KeyError",
     "evalue": "'Ra'",
     "traceback": [
      "\u001b[0;31m---------------------------------------------------------------------------\u001b[0m",
      "\u001b[0;31mKeyError\u001b[0m                                  Traceback (most recent call last)",
      "\u001b[0;32m<ipython-input-6-c6f86eef777d>\u001b[0m in \u001b[0;36m<module>\u001b[0;34m\u001b[0m\n\u001b[0;32m----> 1\u001b[0;31m \u001b[0mtabulate_spectral_properties\u001b[0m\u001b[0;34m(\u001b[0m\u001b[0mdate\u001b[0m\u001b[0;34m,\u001b[0m \u001b[0mwave\u001b[0m\u001b[0;34m,\u001b[0m \u001b[0mflux\u001b[0m\u001b[0;34m,\u001b[0m \u001b[0mspectra\u001b[0m\u001b[0;34m.\u001b[0m\u001b[0mmeta\u001b[0m\u001b[0;34m[\u001b[0m\u001b[0;34m'redshift'\u001b[0m\u001b[0;34m]\u001b[0m\u001b[0;34m,\u001b[0m \u001b[0mspectra\u001b[0m\u001b[0;34m.\u001b[0m\u001b[0mmeta\u001b[0m\u001b[0;34m[\u001b[0m\u001b[0;34m'Ra'\u001b[0m\u001b[0;34m]\u001b[0m\u001b[0;34m,\u001b[0m \u001b[0mspectra\u001b[0m\u001b[0;34m.\u001b[0m\u001b[0mmeta\u001b[0m\u001b[0;34m[\u001b[0m\u001b[0;34m'dec'\u001b[0m\u001b[0;34m]\u001b[0m\u001b[0;34m)\u001b[0m\u001b[0;34m\u001b[0m\u001b[0;34m\u001b[0m\u001b[0m\n\u001b[0m",
      "\u001b[0;31mKeyError\u001b[0m: 'Ra'"
     ],
     "output_type": "error"
    }
   ],
   "source": [
    "tabulate_spectral_properties(date, wave, flux, spectra.meta['redshift'], spectra.meta['Ra'], spectra.meta['dec'])"
   ]
  },
  {
   "cell_type": "code",
   "execution_count": 7,
   "metadata": {},
   "outputs": [
    {
     "data": {
      "text/plain": [
       "OrderedDict([('comments',\n",
       "              ['FITS_file:            SN04dt_b01_CLA_LD_24oct04.fits',\n",
       "               'Redshift:             0.01973',\n",
       "               'JDate_of_max:         2453239.06',\n",
       "               'JDate_of_observation: 2453302.77',\n",
       "               'Epoch:                62.48',\n",
       "               '',\n",
       "               'FITS_file:            SN04dt_b01_DUP_WF_20sep04.fits',\n",
       "               'Redshift:             0.01973',\n",
       "               'JDate_of_max:         2453239.06',\n",
       "               'JDate_of_observation: 2453268.72',\n",
       "               'Epoch:                29.09',\n",
       "               '',\n",
       "               'FITS_file:            SN04dt_b01_DUP_WF_14sep04.fits',\n",
       "               'Redshift:             0.01973',\n",
       "               'JDate_of_max:         2453239.06',\n",
       "               'JDate_of_observation: 2453262.71',\n",
       "               'Epoch:                23.19',\n",
       "               '',\n",
       "               'FITS_file:            SN04dt_b01_DUP_WF_19sep04.fits',\n",
       "               'Redshift:             0.01973',\n",
       "               'JDate_of_max:         2453239.06',\n",
       "               'JDate_of_observation: 2453267.83',\n",
       "               'Epoch:                28.21',\n",
       "               '',\n",
       "               'FITS_file:            SN04dt_b01_DUP_WF_04dec04.fits',\n",
       "               'Redshift:             0.01973',\n",
       "               'JDate_of_max:         2453239.06',\n",
       "               'JDate_of_observation: 2453343.65',\n",
       "               'Epoch:                102.57',\n",
       "               '']),\n",
       "             ('redshift', 0.01973),\n",
       "             ('JDate_of_max', 2453239.06),\n",
       "             ('obj_id', '2004dt')])"
      ]
     },
     "execution_count": 7,
     "metadata": {},
     "output_type": "execute_result"
    }
   ],
   "source": [
    "spectra.meta"
   ]
  },
  {
   "cell_type": "code",
   "execution_count": null,
   "metadata": {},
   "outputs": [],
   "source": []
  }
 ],
 "metadata": {
  "kernelspec": {
   "display_name": "Python [conda env:phot_class] *",
   "language": "python",
   "name": "conda-env-phot_class-py"
  },
  "language_info": {
   "codemirror_mode": {
    "name": "ipython",
    "version": 3
   },
   "file_extension": ".py",
   "mimetype": "text/x-python",
   "name": "python",
   "nbconvert_exporter": "python",
   "pygments_lexer": "ipython3",
   "version": "3.7.4"
  }
 },
 "nbformat": 4,
 "nbformat_minor": 2
}
