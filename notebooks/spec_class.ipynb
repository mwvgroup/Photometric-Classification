{
 "cells": [
  {
   "cell_type": "markdown",
   "metadata": {},
   "source": [
    "# Spectroscopic Classification\n",
    "\n",
    "This notebook assigns Branch et al. 2006 style subtypes to SDSS spectra.\n",
    "\n",
    "#### Table of Contents:\n",
    "1. <a href='#spectral_binning'>Spectral Binning</a>: A reminder of some of the manipulations performed on each spectrum during the analysis.\n",
    "1. <a href='#reading_in_data'>Reading in the Data</a>: A cursory inspection of the data\n",
    "1. <a href='#peak'>Closest Measurement to Peak Brightness</a>: Selecting only measurements near peak brightness\n",
    "1. <a href='#resampling'>The Effect of Resampling</a>: Plots Si ii λ5972 vs Si ii λ6355 for different amounts of resampling"
   ]
  },
  {
   "cell_type": "code",
   "execution_count": null,
   "metadata": {},
   "outputs": [],
   "source": [
    "import math\n",
    "import sys\n",
    "import warnings\n",
    "from datetime import datetime\n",
    "from functools import reduce\n",
    "from pathlib import Path\n",
    "\n",
    "import numpy as np\n",
    "import pandas as pd\n",
    "from astropy.table import Table\n",
    "from matplotlib import pyplot as plt\n",
    "from sndata.sdss import sako18spec\n",
    "from sndata.csp import dr1\n",
    "\n",
    "sys.path.insert(0, '../')\n",
    "from phot_class import spectra as spec_class\n",
    "\n",
    "dr1.download_module_data()\n",
    "sako18spec.download_module_data()\n",
    "\n",
    "# Output directory for figures\n",
    "fig_dir = Path('./notebook_figs/pew_measurements')\n",
    "fig_dir.mkdir(exist_ok=True, parents=True)\n"
   ]
  },
  {
   "cell_type": "markdown",
   "metadata": {},
   "source": [
    "# Spectral Binning <a id='spectral_binning'></a>\n",
    "\n",
    "We pause for a moment and remind ourselves that the values we are working with in this notebook are calculated after each spectra is restframed, corrected for Milky Way extinction, and binned to a resolution of five (unless otherwise noted) angstroms.\n"
   ]
  },
  {
   "cell_type": "code",
   "execution_count": null,
   "metadata": {},
   "outputs": [],
   "source": [
    "data = sako18spec.get_data_for_id('5635')\n",
    "wave = data['wavelength']\n",
    "flux = data['flux']\n",
    "z = data.meta['z']\n",
    "ra = data.meta['ra']\n",
    "dec = data.meta['dec']\n",
    "\n",
    "# Bin the flux and calculate the average in each bin\n",
    "bin_wave, bin_flux = spec_class.bin_spectrum(wave, flux)\n",
    "\n",
    "# Correct for exctinction and shift to rest frame\n",
    "rest_wave, rest_flux = spec_class.correct_extinction(bin_wave, bin_flux, ra, dec, z)\n",
    "\n",
    "plt.figure(figsize=(16, 8))\n",
    "plt.plot(wave, flux, linewidth=.5, label='Original')\n",
    "plt.plot(bin_wave, bin_flux + 5e-17, linewidth=1, label='Binned')\n",
    "plt.plot(rest_wave, rest_flux + 1e-16, linewidth=.5, label='Rest Framed')\n",
    "\n",
    "plt.ylim(ymin=0)\n",
    "plt.ylabel('Flux')\n",
    "plt.xlabel(r'Wavelength ($\\AA$)')\n",
    "plt.legend()\n"
   ]
  },
  {
   "cell_type": "markdown",
   "metadata": {},
   "source": [
    "## Reading in the Data <a id='reading_in_data'></a>\n",
    "\n",
    "We read in measurements from external publications."
   ]
  },
  {
   "cell_type": "code",
   "execution_count": null,
   "metadata": {},
   "outputs": [],
   "source": [
    "folatelli_13 = dr1.load_table(6).to_pandas()\n",
    "branch_06 = pd.DataFrame({\n",
    "    'obj_id': ['1981B', '1984A', '1986G', '1989B', '1990N', '1991M', '1991T', '1991bg', '1992A', '1994D', '1194ae', '1996X', '1997cn', '1998ag', '1998bu', '1999aw', '1999by', '1999ee', '2000cx', '2001ay', '2001el', '2002bf', '2002bo', '2002cx'],\n",
    "    'pw7': [127, 204, 126, 124, 88, 137, 29, 92, 107, 96, 89, 87, 101, 78, 94, 58, 95, 82, 51, 150, 95, 171, 146, 18 ],\n",
    "    'pw6': [17, 23, 33, 20, 12, 19, 0, 49, 19, 19, 7, 17, 45, 12, 16, 1, 46, 5, 2, 8, 16, 10, 11, 0]\n",
    "})\n"
   ]
  },
  {
   "cell_type": "markdown",
   "metadata": {},
   "source": [
    "Next we read in spectroscopic measurements from the analysis pipeline. We include results determined using a range of resampling sizes."
   ]
  },
  {
   "cell_type": "code",
   "execution_count": null,
   "metadata": {},
   "outputs": [],
   "source": [
    "@np.vectorize\n",
    "def calc_julian_date(date):\n",
    "    \"\"\"\n",
    "    Convert a datetime object into julian float.\n",
    "    \n",
    "    Args:\n",
    "        date (str): The date to convert in %Y-%m-%d format\n",
    "\n",
    "    Returns:\n",
    "        The Julian date as a float\n",
    "    \"\"\"\n",
    "\n",
    "    \n",
    "    date = datetime.strptime(date, '%Y-%m-%d')\n",
    "    julian_datetime = (\n",
    "        367 * date.year - \n",
    "        int((7 * (date.year + int((date.month + 9) / 12.0))) / 4.0) + \n",
    "        int((275 * date.month) / 9.0) + date.day + \n",
    "        1721013.5 + \n",
    "        (date.hour + date.minute / 60.0 + date.second / math.pow(60, 2)) / 24.0 - \n",
    "        0.5 * math.copysign(1, 100 * date.year + date.month - 190002.5) + 0.5\n",
    "    )\n",
    "\n",
    "    return julian_datetime\n",
    "\n",
    "\n",
    "def read_spec_results(path):\n",
    "    \"\"\"Read in spectroscopic measurements from the analysis pipeline\n",
    "    \n",
    "    Args:\n",
    "        path (str): The path of the ecsv file to read\n",
    "        \n",
    "    Returns:\n",
    "        A Pandas DataFrame\n",
    "    \"\"\"\n",
    "\n",
    "    # Read in pipeline results\n",
    "    spec_class = Table.read(path).to_pandas()\n",
    "    spec_class.set_index(['obj_id', 'feat_name'], inplace=True)\n",
    "    spec_class['jd'] = calc_julian_date(spec_class.date)\n",
    "    \n",
    "    # Get time of peak brightness\n",
    "    with warnings.catch_warnings():\n",
    "        warnings.simplefilter(\"ignore\")\n",
    "        master = sako18spec.load_table('master').to_pandas()\n",
    "        master = master.rename(columns={'CID': 'obj_id'}).set_index('obj_id')\n",
    "\n",
    "    # Calculate days since maximum\n",
    "    peak_jd = master.MJDatPeakrmag + 2400000.5\n",
    "    spec_class['days'] = spec_class.jd - peak_jd\n",
    "    \n",
    "    return spec_class\n"
   ]
  },
  {
   "cell_type": "code",
   "execution_count": null,
   "metadata": {
    "scrolled": false
   },
   "outputs": [],
   "source": [
    "results_dir = Path('/Users/daniel/Github/Photometric-Classification/results/')\n",
    "\n",
    "# Data for 0, 2, and 5 resampling steps\n",
    "n0_spec = read_spec_results(results_dir / 'spec_class/sdss_sako18spec_rv3_1_bin5_methavg_step0.ecsv')\n",
    "n2_spec = read_spec_results(results_dir / 'spec_class/sdss_sako18spec_rv3_1_bin5_methavg_step2.ecsv')\n",
    "n5_spec = read_spec_results(results_dir / 'spec_class/sdss_sako18spec_rv3_1_bin5_methavg_step5.ecsv')\n",
    "\n",
    "# Data 5 resampling binned to 3 Angstroms instead of 5\n",
    "n5_bin3_spec = read_spec_results(results_dir / 'spec_class/sdss_sako18spec_rv3_1_bin3_methavg_step5.ecsv')\n"
   ]
  },
  {
   "cell_type": "code",
   "execution_count": null,
   "metadata": {},
   "outputs": [],
   "source": [
    "n5_spec.head()"
   ]
  },
  {
   "cell_type": "markdown",
   "metadata": {},
   "source": [
    "We check the reasons why some of our calculations failed."
   ]
  },
  {
   "cell_type": "code",
   "execution_count": null,
   "metadata": {},
   "outputs": [],
   "source": [
    "n5_spec[n5_spec.pew.isna()].msg.value_counts()\n"
   ]
  },
  {
   "cell_type": "markdown",
   "metadata": {},
   "source": [
    "We also check the number of measurement available for each target."
   ]
  },
  {
   "cell_type": "code",
   "execution_count": null,
   "metadata": {},
   "outputs": [],
   "source": [
    "(n5_spec.sid.value_counts() / 2).hist()\n",
    "plt.title('Number of spectra per object (Not including host)')\n",
    "plt.ylabel('Number of Targets')\n",
    "plt.xlabel('Number of Spectra')\n",
    "plt.show()\n"
   ]
  },
  {
   "cell_type": "markdown",
   "metadata": {},
   "source": [
    "## Closest Measurements to Peak Brightness <a id='peak'></a>\n",
    "\n",
    "Since some objects have multiple measurements, we chose the value closest to peak brightness.\n"
   ]
  },
  {
   "cell_type": "code",
   "execution_count": null,
   "metadata": {
    "scrolled": false
   },
   "outputs": [],
   "source": [
    "def get_tmax_pew(spec_data):\n",
    "    \"\"\"Keep only pew measurements performed nearest tmax\n",
    "    \n",
    "    Args:\n",
    "        spec_data     (DataFrame): Measurements from the analysis pipeline\n",
    "    \n",
    "    Returns:\n",
    "        A pandas DataFrame\n",
    "    \"\"\"\n",
    "    \n",
    "    features = spec_data.index.get_level_values('feat_name').unique()\n",
    "    data_frames = []\n",
    "\n",
    "    for feat_name in features:\n",
    "        feat_data = spec_data.xs(feat_name, level='feat_name')\n",
    "        feat_data['feat_name'] = feat_name\n",
    "        feat_data.set_index('feat_name', append=True, inplace=True)\n",
    "        \n",
    "        feat_data['sort'] = feat_data.days.abs()         \n",
    "        feat_data = feat_data.sort_values(by='sort')\n",
    "        feat_data = feat_data[~feat_data.index.duplicated()]\n",
    "        feat_data = feat_data.drop(axis=1, labels='sort')\n",
    "        data_frames.append(feat_data)\n",
    "    \n",
    "    return pd.concat(data_frames)\n"
   ]
  },
  {
   "cell_type": "code",
   "execution_count": null,
   "metadata": {},
   "outputs": [],
   "source": [
    "n0_peak = get_tmax_pew(n0_spec)\n",
    "n2_peak = get_tmax_pew(n2_spec)\n",
    "n5_peak = get_tmax_pew(n5_spec)\n",
    "n5_bin3_peak = get_tmax_pew(n5_bin3_spec)\n"
   ]
  },
  {
   "cell_type": "markdown",
   "metadata": {},
   "source": [
    "## The Effect of Resampling <a id='resampling'></a>\n",
    "\n",
    "We plot the pEW of Si ii at λ5972 vs λ6355. Different plots are made for results determined using a different number of resampling steps.\n"
   ]
  },
  {
   "cell_type": "code",
   "execution_count": null,
   "metadata": {},
   "outputs": [],
   "source": [
    "def get_colors(pw6, pw7):\n",
    "    \"\"\"Get the color of each point bassed on its coordinates\n",
    "    \n",
    "    Args:\n",
    "        pw6 (ndarray): Array of EW measurements for feature 6\n",
    "        pw7 (ndarray): Array of EW measurements for feature 7\n",
    "        \n",
    "    Returns:\n",
    "        A 2d array of RGB values\n",
    "    \"\"\"\n",
    "    \n",
    "    color = np.empty(len(pw6), dtype='U10')\n",
    "    color[:] = 'black'  # Default to black\n",
    "    color[pw6 > 30] = 'blue'  # Blue\n",
    "    color[(pw6 < 30) & (pw7 > 105)] = 'red'  # Red\n",
    "    color[pw7 < 70] = 'green'  # Green\n",
    "\n",
    "    return color\n",
    "\n",
    "def subplot_published_classes(axis):\n",
    "    \"\"\"Plot Si ii pEW at λ5972 vs λ6355 from CSP and Branch 2006\n",
    "    \n",
    "    Args:\n",
    "        axis (Axis): A matplotlib axis\n",
    "    \"\"\"\n",
    "\n",
    "    axis.scatter(\n",
    "        branch_06.pw7, \n",
    "        branch_06.pw6, \n",
    "        marker='D',\n",
    "        facecolor='none', \n",
    "        edgecolor=get_colors(branch_06.pw6, branch_06.pw7),\n",
    "        zorder=2,\n",
    "        alpha=.5,\n",
    "        label='Branch 2006'\n",
    "    )\n",
    "\n",
    "    axis.scatter(\n",
    "        folatelli_13.pW7, \n",
    "        folatelli_13.pW6, \n",
    "        marker='v',\n",
    "        facecolor='none', \n",
    "        edgecolor=get_colors(folatelli_13.pW6, folatelli_13.pW7),\n",
    "        zorder=2,\n",
    "        alpha=.5,\n",
    "        label='Folatelli 2013'\n",
    "    )\n",
    "    \n",
    "def get_pew_above_snr(df, snr):\n",
    "    \"\"\"Return a data frame with only measurements above a given SNR\n",
    "    \n",
    "    Args:\n",
    "        df (DataFrame): Dataframe of spectroscopic pipeline results\n",
    "        snr    (float): The signal to noise ratio\n",
    "        \n",
    "    Returns:\n",
    "        A DataFrame\n",
    "    \"\"\"\n",
    "    \n",
    "    lt_7_days = df[df.days.abs() < 7]\n",
    "    good_snr = lt_7_days[lt_7_days.pew / lt_7_days.pew_samperr  >= snr][['pew', 'pew_samperr']]\n",
    "    pw6 = good_snr.xs('pW6', level='feat_name')\n",
    "    pw7 = good_snr.xs('pW7', level='feat_name')\n",
    "    pew = pd.merge(pw6, pw7, on='obj_id', suffixes=('_pw6', '_pw7'))\n",
    "    pew = pew.join(df.date)\n",
    "    return pew\n",
    "    \n",
    "\n",
    "def plot_si_ratio(spec_data, snr_ratios=(1, 2, 3), plot_external_data=True):\n",
    "    \"\"\"Plot the pW6 vs pW7 silicon pEw ratios for different SNR cutoffs\n",
    "    \n",
    "    Args:\n",
    "        spec_data     (DataFrame): Measurements from the analysis pipeline\n",
    "        snr_ratios        (tuple): SNR cutoffs to plot\n",
    "        plot_external_data (bool): Whether to plot data from CSP and Branch 2006\n",
    "        \n",
    "    Returns:\n",
    "        A matplotlib figure\n",
    "        An array of matplotlib axes\n",
    "    \"\"\"\n",
    "    \n",
    "    # Keep only Type Ia spectra\n",
    "    si_data = spec_data[spec_data.type.isin(['Ia', 'Ia-pec', 'Ia?'])].dropna(subset=['pew'])\n",
    "    \n",
    "    num_subplots = len(snr_ratios)\n",
    "    fig, axes = plt.subplots(1, num_subplots, figsize=(num_subplots * 6, 6), sharex=True, sharey=True)  \n",
    "    flat_ax = [axes] if num_subplots == 1 else axes.flatten()\n",
    "    for snr, axis in zip(snr_ratios, flat_ax):\n",
    "        \n",
    "        # Keep only data with both pw6 and pw7 measurements greater than snr\n",
    "        plot_data = get_pew_above_snr(si_data, snr)\n",
    "        \n",
    "        axis.errorbar(\n",
    "            x=plot_data.pew_pw7, \n",
    "            y=plot_data.pew_pw6, \n",
    "            xerr=plot_data.pew_samperr_pw7, \n",
    "            yerr=plot_data.pew_samperr_pw6, \n",
    "            linestyle='', \n",
    "            ecolor='grey', \n",
    "            color='grey',\n",
    "            alpha=.3, \n",
    "            zorder=0)\n",
    "        \n",
    "        if plot_external_data:\n",
    "            subplot_published_classes(axis)\n",
    "        \n",
    "        # Isolate each subtype\n",
    "        cl = plot_data[plot_data.pew_pw6 > 30]\n",
    "        bl = plot_data[(plot_data.pew_pw6 < 30) & (plot_data.pew_pw7 > 105)]\n",
    "        ss = plot_data[plot_data.pew_pw7 < 70]\n",
    "        cn = plot_data[(plot_data.pew_pw6 <= 30) & (70 <= plot_data.pew_pw7) & (plot_data.pew_pw7 <= 105)]\n",
    "        \n",
    "        axis.scatter(cl.pew_pw7, cl.pew_pw6, color='C0', zorder=1, label='Cool')\n",
    "        axis.scatter(bl.pew_pw7, bl.pew_pw6, color='C3', zorder=1, label='Broad Line')\n",
    "        axis.scatter(ss.pew_pw7, ss.pew_pw6, color='C2', zorder=1, label='Shallow Silicon')\n",
    "        axis.scatter(cn.pew_pw7, cn.pew_pw6, color='k', zorder=1, label='Core Normal')\n",
    "        \n",
    "        axis.set_xlabel(r'Si ii $\\lambda$6355', fontsize=14)\n",
    "        axis.set_title(rf'SNR $>$ {snr}')\n",
    "        \n",
    "    flat_ax[0].set_xlim(-10, 500)\n",
    "    flat_ax[0].set_ylim(-10, 200)\n",
    "    flat_ax[0].set_ylabel(r'Si ii $\\lambda$5972', fontsize=14) \n",
    "    flat_ax[-1].legend()\n",
    "    return fig, flat_ax\n"
   ]
  },
  {
   "cell_type": "markdown",
   "metadata": {},
   "source": [
    "Since resampling error cannot be calculated for zero resampling steps, the SNR cutoff has no effect."
   ]
  },
  {
   "cell_type": "code",
   "execution_count": null,
   "metadata": {
    "scrolled": false
   },
   "outputs": [],
   "source": [
    "fig, axes = plot_si_ratio(n0_peak)\n",
    "fig.suptitle(f'0 Sampling Iterations')\n",
    "plt.savefig(fig_dir / '0_iterations.pdf')\n",
    "plt.show()\n"
   ]
  },
  {
   "cell_type": "markdown",
   "metadata": {},
   "source": [
    "Increasing the number of sampling steps around each feature boundary to 2 steps pulls the average values into a more reasonable range."
   ]
  },
  {
   "cell_type": "code",
   "execution_count": null,
   "metadata": {},
   "outputs": [],
   "source": [
    "fig, axes = plot_si_ratio(n2_peak)\n",
    "fig.suptitle(f'2 Sampling Iterations')\n",
    "plt.savefig(fig_dir / '2_iterations.pdf')\n",
    "plt.show()\n"
   ]
  },
  {
   "cell_type": "markdown",
   "metadata": {},
   "source": [
    "Increasing the number of resampling steps to 5 continues this trend even further."
   ]
  },
  {
   "cell_type": "code",
   "execution_count": null,
   "metadata": {},
   "outputs": [],
   "source": [
    "fig, axes = plot_si_ratio(n5_peak, (.5, 1, 2, 3))\n",
    "fig.suptitle(f'5 Sampling Iterations')\n",
    "plt.savefig(fig_dir / '5_iterations.pdf')\n",
    "plt.show()\n"
   ]
  },
  {
   "cell_type": "markdown",
   "metadata": {},
   "source": [
    "## Effects of Binning Resolution\n",
    "\n",
    "We compare results determined using a binning resoltuion of 5 and 3 Angstroms. First we plot results for 5 Angstroms.\n"
   ]
  },
  {
   "cell_type": "code",
   "execution_count": null,
   "metadata": {},
   "outputs": [],
   "source": [
    "fig, axes = plot_si_ratio(n5_peak, (.5, ), False)\n",
    "axes[0].set_title('')\n",
    "axes[0].set_xlim(0, 350)\n",
    "axes[0].set_ylim(0, 120)\n",
    "plt.savefig(fig_dir / '5_iterations_snr_eq_1.pdf')\n",
    "plt.show()\n"
   ]
  },
  {
   "cell_type": "markdown",
   "metadata": {},
   "source": [
    "Next we plot results for a 3 Angstrom bin."
   ]
  },
  {
   "cell_type": "code",
   "execution_count": null,
   "metadata": {},
   "outputs": [],
   "source": [
    "fig, axes = plot_si_ratio(n5_bin3_peak, (.5, ), False)\n",
    "axes[0].set_title('')\n",
    "axes[0].set_xlim(0, 350)\n",
    "axes[0].set_ylim(0, 120)\n",
    "plt.savefig(fig_dir / '5_iterations_snr_eq_1.pdf')\n",
    "plt.show()\n"
   ]
  },
  {
   "cell_type": "markdown",
   "metadata": {},
   "source": [
    "For curiosity's sake, we investigate the furthest outliers in the first plot."
   ]
  },
  {
   "cell_type": "code",
   "execution_count": null,
   "metadata": {},
   "outputs": [],
   "source": [
    "def get_outliers(spec_data, pw6_cutoff, pw7_cutoff, snr_cutoff=1):\n",
    "    \"\"\"Select meaurements with pw6 pew > pw6_cutoff and pw7 pew pw7_cutoff\n",
    "    \n",
    "    Args:\n",
    "        spec_data (DataFrame): Data to select on\n",
    "        pw6_cutoff    (float): The PEW cutoff for feature pw6\n",
    "        pw7_cutoff    (float): The PEW cutoff for feature pw7\n",
    "        snr_cutoff    (float): SNR cutoff to apply before selection\n",
    "        \n",
    "    Returns:\n",
    "        A DataFrame with measurements matching the specified criteria\n",
    "    \"\"\"\n",
    "    good_snr = spec_data[spec_data.pew / spec_data.pew_samperr > snr_cutoff]\n",
    "    good_snr = good_snr[good_snr.days.abs() < 7]\n",
    "\n",
    "    pw6 = good_snr.xs('pW6', level='feat_name')\n",
    "    outliers = list(pw6[pw6.pew > 45].index)\n",
    "\n",
    "    pw7 = good_snr.xs('pW7', level='feat_name')\n",
    "    outliers = outliers + list(pw7[pw7.pew > 150].index)\n",
    "\n",
    "    outlier_meas = good_snr.loc[outliers]\n",
    "    pw6_indices = set(outlier_meas.xs('pW6', level='feat_name').index)\n",
    "    pw7_indices = set(outlier_meas.xs('pW7', level='feat_name').index)\n",
    "    outliers = sorted(pw6_indices.intersection(pw7_indices))\n",
    "\n",
    "    return good_snr.loc[outliers]\n",
    "\n",
    "outliers = get_outliers(n5_peak, 45, 150)\n",
    "outliers\n"
   ]
  },
  {
   "cell_type": "code",
   "execution_count": null,
   "metadata": {
    "scrolled": false
   },
   "outputs": [],
   "source": [
    "def subplot_feature_pew(wave, flux, axis):\n",
    "    \"\"\"Shade in the PEW of spectral properties\n",
    "    \n",
    "    Args:\n",
    "        wave (ndarray): The spectrum's wavelengths\n",
    "        flux (ndarray): The flux for each wavelength\n",
    "        axis    (Axis): The axius to plot on\n",
    "    \"\"\"\n",
    "    \n",
    "    for feat_name, feat_definition in spec_class.line_locations.items():\n",
    "        feat_start, feat_end = spec_class.find_feature_bounds(\n",
    "            wave, flux, feat_definition)\n",
    "\n",
    "        idx_start = np.where(wave == feat_start)[0][0]\n",
    "        idx_end = np.where(wave == feat_end)[0][0]\n",
    "        feat_wave = wave[idx_start: idx_end + 1]\n",
    "        feat_flux = flux[idx_start: idx_end + 1]\n",
    "        \n",
    "        continuum, norm_flux, pew = spec_class.feature_pew(feat_wave, feat_flux)\n",
    "        axis.plot(feat_wave, continuum, color='C0', linestyle='--')\n",
    "        axis.fill_between(feat_wave, feat_flux, continuum, color='grey', alpha=.2, zorder=0)\n",
    "        \n",
    "def subplot_feature_bounds(axis):\n",
    "    \"\"\"Plot the blue and red boundaries used for each feature\n",
    "    \n",
    "    Args:\n",
    "        axis (Axis): The axis to plot on\n",
    "    \"\"\"\n",
    "    \n",
    "    colors = ('black', 'red')\n",
    "    \n",
    "    pw6 = spec_class.line_locations['pW6']\n",
    "    axis.axvline(pw6['lower_blue'], color='k', linestyle='-.', alpha=.7, label='Lower Bound')\n",
    "    axis.axvline(pw6['upper_blue'], color='k', linestyle=':', alpha=.7, label='Upper Bound')\n",
    "    axis.axvline(pw6['lower_red'], color='k', linestyle='-.', alpha=.7)\n",
    "    axis.axvline(pw6['upper_red'], color='k', linestyle=':', alpha=.7)\n",
    "    \n",
    "    pw7 = spec_class.line_locations['pW7']\n",
    "    axis.axvline(pw7['lower_red'], color='k', linestyle='-.', alpha=.7)\n",
    "    axis.axvline(pw7['upper_red'], color='k', linestyle=':', alpha=.7)\n",
    "\n",
    "def plot_outliers(outlier_data):\n",
    "    \"\"\"Plot a collection of spectra\n",
    "    \n",
    "    Args:\n",
    "        outlier_data (DataFrame): PEW Measurements for spectra to plot\n",
    "        \n",
    "    Returns:\n",
    "        A matplotlib Figure\n",
    "        An array of matplotlib axes\n",
    "    \"\"\"\n",
    "\n",
    "    obj_ids = outliers.index.get_level_values('obj_id').unique()\n",
    "    fig, axes = plt.subplots(len(obj_ids), 1, figsize=(15, 4 * len(obj_ids)), sharex=True)\n",
    "\n",
    "    for obj_id, axis in zip(obj_ids, axes):\n",
    "        target_data = sako18spec.get_data_for_id(obj_id)\n",
    "        target_data.sort('wavelength')\n",
    "\n",
    "        # Keep only the SN spectra used in the classification\n",
    "        date = outliers.loc[obj_id].date[0]\n",
    "        pw6_pew = outliers.loc[obj_id, 'pW6'].pew\n",
    "        pw7_pew = outliers.loc[obj_id, 'pW7'].pew\n",
    "        \n",
    "        target_data = target_data[target_data['date'] == date]\n",
    "        target_data = target_data[target_data['type'] != 'Gal']\n",
    "\n",
    "        # Correct for exctinction and shift to rest frame\n",
    "        wave = target_data['wavelength']\n",
    "        flux = target_data['flux']\n",
    "        z = target_data.meta['z']\n",
    "        ra = target_data.meta['ra']\n",
    "        dec = target_data.meta['dec']\n",
    "        rest_wave, rest_flux = spec_class.correct_extinction(wave, flux, ra, dec, z)\n",
    "        bin_wave, bin_flux = spec_class.bin_spectrum(rest_wave, rest_flux)\n",
    "\n",
    "        axis.plot(rest_wave, rest_flux, lw=1, label='Restframed')\n",
    "        subplot_feature_pew(rest_wave, rest_flux, axis)\n",
    "        subplot_feature_bounds(axis)\n",
    "        \n",
    "        axis.plot(bin_wave, bin_flux, lw=2, label='Binned')\n",
    "        axis.set_xlabel('Wavelength')\n",
    "        axis.set_ylabel('Flux')\n",
    "        axis.set_ylim(0, 1e-15)\n",
    "        axis.set_title(obj_id)\n",
    "        axis.legend()\n",
    "    \n",
    "    axis.set_xlim(4000, 7000)\n",
    "    \n",
    "    return fig, axes\n"
   ]
  },
  {
   "cell_type": "code",
   "execution_count": null,
   "metadata": {
    "scrolled": false
   },
   "outputs": [],
   "source": [
    "fig, axes = plot_outliers(outliers)\n",
    "\n",
    "axes[0].set_ylim(0, 6e-17)\n",
    "axes[2].set_ylim(0, 4e-16)\n",
    "axes[3].set_ylim(0, 1e-16)\n"
   ]
  },
  {
   "cell_type": "markdown",
   "metadata": {},
   "source": [
    "## Classified Spectra"
   ]
  },
  {
   "cell_type": "code",
   "execution_count": null,
   "metadata": {},
   "outputs": [],
   "source": [
    "def plot_all_spectra(\n",
    "        spec_measurements, xlim=(5000, 7000), space_scale=1.5, num_columns=2):\n",
    "    \"\"\"Plot all spectra used in our data sample with PEW above a given SNR\n",
    "\n",
    "    Args:\n",
    "        spec_measurements: \n",
    "        xlim: \n",
    "        space_scale: \n",
    "        num_columns: \n",
    "\n",
    "    Returns:\n",
    "        A matplotlib figure\n",
    "        A matplotlib axis\n",
    "    \"\"\"\n",
    "\n",
    "    fig, axes = plt.subplots(1, num_columns, figsize=(8.5, 11), sharex=True)\n",
    "\n",
    "    spec_to_plot = list(spec_measurements.index.get_level_values('obj_id'))\n",
    "    spec_per_col = len(spec_to_plot) // num_columns\n",
    "    spectra_cols = [spec_to_plot[i * spec_per_col: (i + 1) * spec_per_col] for\n",
    "                    i in range(num_columns)]\n",
    "\n",
    "    for spec_set, axis in zip(spectra_cols, axes.flatten()):\n",
    "\n",
    "        yticks = []\n",
    "        for i, obj_id in enumerate(spec_set):\n",
    "            target_data = sako18spec.get_data_for_id(obj_id)\n",
    "            offset = i * space_scale\n",
    "\n",
    "            # Keep only the SN spectra used in the classification\n",
    "            date = spec_measurements.loc[obj_id].date[0]\n",
    "            target_data = target_data[target_data['date'] == date]\n",
    "            target_data = target_data[target_data['type'] != 'Gal']\n",
    "\n",
    "            # Correct for extinction, shift to rest frame, and bin spectrum\n",
    "            wave = target_data['wavelength']\n",
    "            flux = target_data['flux']\n",
    "            z = target_data.meta['z']\n",
    "            ra = target_data.meta['ra']\n",
    "            dec = target_data.meta['dec']\n",
    "\n",
    "            bin_wave, bin_flux = spec_class.bin_spectrum(wave, flux)\n",
    "            rest_wave, rest_flux = spec_class.correct_extinction(\n",
    "                bin_wave, bin_flux, ra, dec, z)\n",
    "\n",
    "            # Scale and offset spectra to same order of magnitude\n",
    "            _, pw7_end = spec_class.find_feature_bounds(\n",
    "                rest_wave, rest_flux, spec_class.line_locations['pW7'])\n",
    "\n",
    "            scale = rest_flux[np.where(rest_wave == pw7_end)[0][0]]\n",
    "            rest_flux /= scale\n",
    "            rest_flux += offset\n",
    "\n",
    "            axis.plot(rest_wave, rest_flux, lw=1, color='k')\n",
    "            subplot_feature_pew(rest_wave, rest_flux, axis)\n",
    "\n",
    "        axis.set_ylim(0, (i + 1) * space_scale)\n",
    "        axis.set_yticks(yticks)\n",
    "        axis.set_yticklabels(spec_set)\n",
    "        axis.set_xlim(xlim)\n",
    "\n",
    "        axis.set_xlabel('Wavelength')\n",
    "\n",
    "    axes[0].set_ylabel('Candidate Id')\n",
    "    plt.tight_layout()\n"
   ]
  },
  {
   "cell_type": "code",
   "execution_count": null,
   "metadata": {
    "scrolled": false
   },
   "outputs": [],
   "source": [
    "spectra_to_plot = get_pew_above_snr(n5_peak, 1)\n",
    "obj_ids = get_pew_above_snr(n5_peak, 1).index.get_level_values('obj_id').unique()\n",
    "\n",
    "num_figs = 5\n",
    "for i in range(num_figs - 1):\n",
    "    n = len(obj_ids) // num_figs\n",
    "    fig_ids = obj_ids[i * n: (i + 1) * n]\n",
    "    plot_all_spectra(spectra_to_plot.loc[fig_ids])\n",
    "    plt.show()\n",
    "\n",
    "fig_ids = obj_ids[(i + 1) * n:]\n",
    "plot_all_spectra(spectra_to_plot.loc[fig_ids])\n",
    "plt.show()\n"
   ]
  },
  {
   "cell_type": "code",
   "execution_count": null,
   "metadata": {},
   "outputs": [],
   "source": [
    "def plot_spec_for_id(obj_id):\n",
    "    \"\"\"Plot a single spectrum\n",
    "    \n",
    "    Args:\n",
    "        obj_id (str): The Id of the object to plot \n",
    "\n",
    "    Returns:\n",
    "        A matplotlib figure\n",
    "        A matplotlib axis\n",
    "    \"\"\"\n",
    "    \n",
    "    data = sako18spec.get_data_for_id(obj_id)\n",
    "    data = data[data['type'] != 'Gal']\n",
    "    \n",
    "    wave = data['wavelength']\n",
    "    flux = data['flux']\n",
    "    z = data.meta['z']\n",
    "    ra = data.meta['ra']\n",
    "    dec = data.meta['dec']\n",
    "\n",
    "    bin_wave, bin_flux = spec_class.bin_spectrum(wave, flux)\n",
    "    rest_wave, rest_flux = spec_class.correct_extinction(\n",
    "        bin_wave, bin_flux, ra, dec, z)\n",
    "\n",
    "    fig, axis = plt.subplots(1, 1, figsize=(16, 8))\n",
    "    axis.plot(rest_wave, rest_flux, linewidth=1, color='k')\n",
    "    subplot_feature_bounds(axis)\n",
    "\n",
    "    axis.set_ylim(ymin=0)\n",
    "    axis.set_ylabel('Flux')\n",
    "    axis.set_xlabel(r'Wavelength ($\\AA$)')\n",
    "    axis.set_xlim(3500, 8200)\n",
    "    plt.legend()\n",
    "    return fig, axis\n"
   ]
  },
  {
   "cell_type": "code",
   "execution_count": null,
   "metadata": {},
   "outputs": [],
   "source": [
    "fig, axis = plot_spec_for_id('13070')\n",
    "axis.set_ylim(0, 1e-16)\n"
   ]
  },
  {
   "cell_type": "markdown",
   "metadata": {},
   "source": [
    "## Comparison with Photometric Results"
   ]
  },
  {
   "cell_type": "code",
   "execution_count": null,
   "metadata": {},
   "outputs": [],
   "source": [
    "import nbimporter\n",
    "from sndata.sdss import sako18\n",
    "\n",
    "from apply_classification import read_classification_data\n",
    "\n",
    "# Read in sdss classifications\n",
    "sdss_master = sako18.load_table('master')\n",
    "sako_classification = pd.DataFrame({\n",
    "    'obj_id': sdss_master['CID'],\n",
    "    'spec_class': sdss_master['Classification']\n",
    "})\n",
    "sako_classification.set_index('obj_id', inplace=True)\n",
    "\n",
    "band_path = '../results/band_fits/with_ext/sdss_sako18_simple_fit_class.ecsv'\n",
    "band_class = read_classification_data(band_path, sako_classification)\n",
    "\n",
    "collective_path = '../results/collective_fits/with_ext/sdss_sako18_simple_fit_class.ecsv'\n",
    "collective_class = read_classification_data(collective_path, sako_classification)\n"
   ]
  },
  {
   "cell_type": "code",
   "execution_count": null,
   "metadata": {},
   "outputs": [],
   "source": [
    "def plot_classification(phot_class, spec_measurements):\n",
    "    \"\"\"Plot classification results\n",
    "\n",
    "    Args:\n",
    "        class_df  (DataFrame): Classification coordinates\n",
    "        class_df  (DataFrame): Classification results from collective fitting\n",
    "    \"\"\"\n",
    "\n",
    "    fig, axis = plt.subplots(1, 1, figsize=(7, 7))\n",
    "    x_label = r'$\\chi^2_{blue}$ (Ia) - $\\chi^2_{blue}$ (91bg)'\n",
    "    y_label = r'$\\chi^2_{red}$ (Ia) - $\\chi^2_{red}$ (91bg)'\n",
    "    markers = dict(blue='s', red='^', black='o', green='v')\n",
    "    labels=dict(blue='Cool', red='Broad Line', green='Shallow Silicon', black='Core Normal')\n",
    "\n",
    "    \n",
    "    spec_measurements['color'] = get_colors(spec_measurements.pew_pw6, spec_measurements.pew_pw7)\n",
    "    plot_data = phot_class.join(spec_measurements)    \n",
    "    \n",
    "    axis.scatter(plot_data.x, plot_data.y, s=10, alpha=.5, color='grey')\n",
    "    for color, data in plot_data.groupby('color'):\n",
    "        axis.scatter(data.x, data.y, s=14, color=color, label=labels[color], marker=markers[color])\n",
    "\n",
    "    axis.axvline(0, color='grey', linestyle='--')\n",
    "    axis.axhline(0, color='grey', linestyle='--')\n",
    "    axis.set_xlabel(x_label, fontsize=12, labelpad=10)\n",
    "    axis.set_ylabel(y_label, fontsize=12)\n",
    "    axis.set_xlim(-75, 75)\n",
    "    axis.set_ylim(-50, 50)\n",
    "    axis.legend()\n",
    "\n",
    "    return fig, axis\n"
   ]
  },
  {
   "cell_type": "code",
   "execution_count": null,
   "metadata": {
    "scrolled": false
   },
   "outputs": [],
   "source": [
    "coll_fig, coll_axis = plot_classification(\n",
    "    phot_class=collective_class, \n",
    "    spec_measurements=get_pew_above_snr(n5_peak, 1)\n",
    ")\n",
    "    \n",
    "plt.title('Collective Fitting')\n",
    "plt.show()\n"
   ]
  },
  {
   "cell_type": "code",
   "execution_count": null,
   "metadata": {},
   "outputs": [],
   "source": [
    "coll_fig, coll_axis = plot_classification(\n",
    "    phot_class=band_class, \n",
    "    spec_measurements=get_pew_above_snr(n5_peak, 1)\n",
    ")\n",
    "\n",
    "plt.title('Band Fitting')\n",
    "plt.show()\n"
   ]
  },
  {
   "cell_type": "code",
   "execution_count": null,
   "metadata": {},
   "outputs": [],
   "source": []
  }
 ],
 "metadata": {
  "kernelspec": {
   "display_name": "Python [conda env:phot_class] *",
   "language": "python",
   "name": "conda-env-phot_class-py"
  },
  "language_info": {
   "codemirror_mode": {
    "name": "ipython",
    "version": 3
   },
   "file_extension": ".py",
   "mimetype": "text/x-python",
   "name": "python",
   "nbconvert_exporter": "python",
   "pygments_lexer": "ipython3",
   "version": "3.7.4"
  }
 },
 "nbformat": 4,
 "nbformat_minor": 2
}
