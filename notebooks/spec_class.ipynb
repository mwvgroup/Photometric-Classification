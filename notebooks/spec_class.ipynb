{
 "cells": [
  {
   "cell_type": "code",
   "execution_count": null,
   "metadata": {},
   "outputs": [],
   "source": [
    "import sys\n",
    "from pathlib import Path\n",
    "\n",
    "from astropy.table import Table\n",
    "from matplotlib import pyplot as plt\n",
    "from sndata.sdss import sako18spec\n",
    "\n",
    "sys.path.insert(0, '../')\n",
    "from phot_class.spectra import tabulate_spectral_properties\n"
   ]
  },
  {
   "cell_type": "code",
   "execution_count": null,
   "metadata": {},
   "outputs": [],
   "source": [
    "sako18spec.download_module_data()\n",
    "results_dir = Path('/Users/daniel/Github/Photometric-Classification/results/')\n"
   ]
  },
  {
   "cell_type": "code",
   "execution_count": null,
   "metadata": {},
   "outputs": [],
   "source": [
    "spec_class = Table.read(results_dir / 'spec_class/sdss_sako18spec.ecsv').to_pandas()\n",
    "spec_class.set_index(['feat_name', 'obj_id', 'date'], inplace=True)\n",
    "\n",
    "spec_summary = sako18spec.load_table(9).to_pandas()\n",
    "spec_summary = spec_summary[spec_summary['Type'] != 'Gal']\n",
    "spec_summary.drop_duplicates('CID', inplace=True)\n",
    "\n",
    "spec_summary.rename(columns={'CID': 'obj_id', 'Date': 'date'}, inplace=True)\n",
    "spec_summary.set_index(['obj_id'], inplace=True)\n",
    "\n",
    "spec_data = spec_class.join(spec_summary)\n",
    "spec_data\n"
   ]
  },
  {
   "cell_type": "code",
   "execution_count": null,
   "metadata": {
    "scrolled": false
   },
   "outputs": [],
   "source": [
    "ia_data = spec_data[spec_data.Type.isin(['Ia', 'Ia-pec', 'Ia?'])]\n",
    "\n",
    "for sdss_class, spectral_measurements in ia_data.groupby('Type'):\n",
    "    si_features = spectral_measurements.pew.loc[['pW6', 'pW7']]\n",
    "    good_data = (~si_features.isna()).index\n",
    "    plot_data = si_features.reindex(good_data)\n",
    "    \n",
    "    y = plot_data.loc['pW6']\n",
    "    x = plot_data.loc['pW7']\n",
    "    \n",
    "    plt.scatter(x, y, label=sdss_class)\n",
    "\n",
    "plt.xlim(-100, 800)\n",
    "plt.ylim(-60, 300)\n",
    "plt.legend()\n"
   ]
  },
  {
   "cell_type": "code",
   "execution_count": null,
   "metadata": {},
   "outputs": [],
   "source": []
  }
 ],
 "metadata": {
  "kernelspec": {
   "display_name": "Python [conda env:phot_class] *",
   "language": "python",
   "name": "conda-env-phot_class-py"
  },
  "language_info": {
   "codemirror_mode": {
    "name": "ipython",
    "version": 3
   },
   "file_extension": ".py",
   "mimetype": "text/x-python",
   "name": "python",
   "nbconvert_exporter": "python",
   "pygments_lexer": "ipython3",
   "version": "3.7.4"
  }
 },
 "nbformat": 4,
 "nbformat_minor": 2
}
