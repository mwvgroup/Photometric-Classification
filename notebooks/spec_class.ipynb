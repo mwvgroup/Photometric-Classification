{
 "cells": [
  {
   "cell_type": "markdown",
   "metadata": {},
   "source": [
    "# Spectroscopic Classification\n",
    "\n",
    "This notebook assigns Branch et al. 2006 style subtypes to SDSS spectra."
   ]
  },
  {
   "cell_type": "code",
   "execution_count": null,
   "metadata": {},
   "outputs": [],
   "source": [
    "import sys\n",
    "from pathlib import Path\n",
    "\n",
    "from astropy.table import Table\n",
    "from matplotlib import pyplot as plt\n",
    "from sndata.sdss import sako18spec\n",
    "\n",
    "sys.path.insert(0, '../')\n",
    "from phot_class.spectra import tabulate_spectral_properties\n",
    "\n",
    "sako18spec.download_module_data()\n",
    "\n",
    "# Output directory for figures\n",
    "fig_dir = Path('./notebook_figs/pew_measurements')\n",
    "fig_dir.mkdir(exist_ok=True, parents=True)\n"
   ]
  },
  {
   "cell_type": "markdown",
   "metadata": {},
   "source": [
    "We start by reading in spectroscopic measurements from the analysis pipeline. We include results determined using a range of resampling sizes."
   ]
  },
  {
   "cell_type": "code",
   "execution_count": null,
   "metadata": {},
   "outputs": [],
   "source": [
    "def read_spec_results(path):\n",
    "    \"\"\"Read in spectroscopic measurements from the analysis pipeline\n",
    "    \n",
    "    Args:\n",
    "        path (str): The path of the ecsv file to read\n",
    "        \n",
    "    Returns:\n",
    "        A Pandas DataFrame\n",
    "    \"\"\"\n",
    "    \n",
    "    spec_class = Table.read(path).to_pandas()\n",
    "    spec_class.set_index(['feat_name', 'obj_id', 'date'], inplace=True)\n",
    "\n",
    "    spec_summary = sako18spec.load_table(9).to_pandas()\n",
    "    spec_summary = spec_summary[spec_summary['Type'] != 'Gal']\n",
    "    spec_summary.drop_duplicates('CID', inplace=True)\n",
    "\n",
    "    spec_summary.rename(columns={'CID': 'obj_id', 'Date': 'date'}, inplace=True)\n",
    "    spec_summary.set_index(['obj_id'], inplace=True)\n",
    "\n",
    "    combined_spec_data = spec_class.join(spec_summary)\n",
    "    return combined_spec_data\n"
   ]
  },
  {
   "cell_type": "code",
   "execution_count": null,
   "metadata": {},
   "outputs": [],
   "source": [
    "results_dir = Path('/Users/daniel/Github/Photometric-Classification/results/')\n",
    "n0_spec = read_spec_results(results_dir / 'spec_class/sdss_sako18spec_0_steps.ecsv')\n",
    "n2_spec = read_spec_results(results_dir / 'spec_class/sdss_sako18spec_2_steps.ecsv')\n",
    "n5_spec = read_spec_results(results_dir / 'spec_class/sdss_sako18spec_5_steps.ecsv')\n"
   ]
  },
  {
   "cell_type": "code",
   "execution_count": null,
   "metadata": {},
   "outputs": [],
   "source": [
    "n0_spec.head()"
   ]
  },
  {
   "cell_type": "markdown",
   "metadata": {},
   "source": [
    "Next we plot the ratio of the Si features."
   ]
  },
  {
   "cell_type": "code",
   "execution_count": null,
   "metadata": {},
   "outputs": [],
   "source": [
    "def plot_si_ratio(spec_data):\n",
    "    \"\"\"Plot the pW6 vs pW7 silicon pEw ratios\n",
    "    \n",
    "    Args:\n",
    "        spec_data (DataFrame): Measurements from the analysis pipeline\n",
    "        \n",
    "    Returns:\n",
    "        A matplotlib figure\n",
    "        An array of matplotlib axes\n",
    "    \"\"\"\n",
    "    \n",
    "    fig, axes = plt.subplots(1, 3, figsize=(15, 5), sharex=True, sharey=True)\n",
    "    si_data = spec_data[spec_data.Type.isin(['Ia', 'Ia-pec', 'Ia?'])].loc[['pW6', 'pW7']]\n",
    "    for snr, axis in zip((0, 2, 5), axes.flatten()):\n",
    "        good_snr = si_data[si_data.pew / si_data.pew_samperr  > snr]\n",
    "\n",
    "        overlap = good_snr.loc['pW6'].index.join(good_snr.loc['pW7'].index)\n",
    "\n",
    "        pw6 = good_snr.loc['pW6'].reindex(overlap).pew\n",
    "        pw6_err = good_snr.loc['pW6'].reindex(overlap).pew_samperr\n",
    "        pw7 = good_snr.loc['pW7'].reindex(overlap).pew\n",
    "        pw7_err = good_snr.loc['pW7'].reindex(overlap).pew_samperr\n",
    "\n",
    "        axis.scatter(pw7, pw6, alpha=.25)\n",
    "        axis.errorbar(pw7, pw6, xerr=pw7_err, yerr=pw6_err, linestyle='', alpha=.25)\n",
    "        axis.set_xlabel('Si ii λ6355')\n",
    "        axis.set_title(f'SNR > {snr}')\n",
    "        \n",
    "    axes[0].set_ylabel('Si ii λ5972')\n",
    "        \n",
    "    return fig, axes\n"
   ]
  },
  {
   "cell_type": "code",
   "execution_count": null,
   "metadata": {},
   "outputs": [],
   "source": [
    "fig, axes = plot_si_ratio(n0_spec)\n",
    "fig.suptitle('Zero Sampling Iterations')\n",
    "axes[0].set_xlim(-25, 700)\n",
    "axes[0].set_ylim(-25, 300)\n",
    "plt.savefig(fig_dir / '0_iterations.pdf')\n"
   ]
  },
  {
   "cell_type": "code",
   "execution_count": null,
   "metadata": {},
   "outputs": [],
   "source": [
    "fig, axes = plot_si_ratio(n2_spec)\n",
    "fig.suptitle('Two Sampling Iterations')\n",
    "axes[0].set_xlim(-25, 600)\n",
    "axes[0].set_ylim(-25, 200)\n",
    "plt.savefig(fig_dir / '2_iterations.pdf')\n"
   ]
  },
  {
   "cell_type": "code",
   "execution_count": null,
   "metadata": {},
   "outputs": [],
   "source": [
    "fig, axes = plot_si_ratio(n5_spec)\n",
    "fig.suptitle('Five Sampling Iterations')\n",
    "axes[0].set_xlim(-25, 600)\n",
    "axes[0].set_ylim(-25, 200)\n",
    "plt.savefig(fig_dir / '5_iterations.pdf')\n"
   ]
  },
  {
   "cell_type": "code",
   "execution_count": null,
   "metadata": {},
   "outputs": [],
   "source": []
  }
 ],
 "metadata": {
  "kernelspec": {
   "display_name": "Python [conda env:phot_class] *",
   "language": "python",
   "name": "conda-env-phot_class-py"
  },
  "language_info": {
   "codemirror_mode": {
    "name": "ipython",
    "version": 3
   },
   "file_extension": ".py",
   "mimetype": "text/x-python",
   "name": "python",
   "nbconvert_exporter": "python",
   "pygments_lexer": "ipython3",
   "version": "3.7.4"
  }
 },
 "nbformat": 4,
 "nbformat_minor": 2
}
