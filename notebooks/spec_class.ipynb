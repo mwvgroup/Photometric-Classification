{
 "cells": [
  {
   "cell_type": "markdown",
   "metadata": {},
   "source": [
    "# Spectroscopic Classification\n",
    "\n",
    "This notebook assigns Branch et al. 2006 style subtypes to SDSS spectra."
   ]
  },
  {
   "cell_type": "code",
   "execution_count": null,
   "metadata": {},
   "outputs": [],
   "source": [
    "import sys\n",
    "from pathlib import Path\n",
    "\n",
    "import numpy as np\n",
    "import pandas as pd\n",
    "from astropy.table import Table\n",
    "from matplotlib import pyplot as plt\n",
    "from sndata.sdss import sako18spec\n",
    "from sndata.csp import dr1\n",
    "\n",
    "sys.path.insert(0, '../')\n",
    "from phot_class.spectra import tabulate_spectral_properties, dust_map\n",
    "\n",
    "sako18spec.download_module_data()\n",
    "\n",
    "# Output directory for figures\n",
    "fig_dir = Path('./notebook_figs/pew_measurements')\n",
    "fig_dir.mkdir(exist_ok=True, parents=True)\n"
   ]
  },
  {
   "cell_type": "markdown",
   "metadata": {},
   "source": [
    "We start by reading in measurements from external publications."
   ]
  },
  {
   "cell_type": "code",
   "execution_count": null,
   "metadata": {},
   "outputs": [],
   "source": [
    "folatelli_13 = dr1.load_table(6).to_pandas()\n",
    "branch_06 = pd.DataFrame({\n",
    "    'obj_id': ['1981B', '1984A', '1986G', '1989B', '1990N', '1991M', '1991T', '1991bg', '1992A', '1994D', '1194ae', '1996X', '1997cn', '1998ag', '1998bu', '1999aw', '1999by', '1999ee', '2000cx', '2001ay', '2001el', '2002bf', '2002bo', '2002cx'],\n",
    "    'pw7': [127, 204, 126, 124, 88, 137, 29, 92, 107, 96, 89, 87, 101, 78, 94, 58, 95, 82, 51, 150, 95, 171, 146, 18 ],\n",
    "    'pw6': [17, 23, 33, 20, 12, 19, 0, 49, 19, 19, 7, 17, 45, 12, 16, 1, 46, 5, 2, 8, 16, 10, 11, 0]\n",
    "})\n"
   ]
  },
  {
   "cell_type": "markdown",
   "metadata": {},
   "source": [
    "Next we read in spectroscopic measurements from the analysis pipeline. We include results determined using a range of resampling sizes."
   ]
  },
  {
   "cell_type": "code",
   "execution_count": null,
   "metadata": {},
   "outputs": [],
   "source": [
    "def read_spec_results(path):\n",
    "    \"\"\"Read in spectroscopic measurements from the analysis pipeline\n",
    "    \n",
    "    Args:\n",
    "        path (str): The path of the ecsv file to read\n",
    "        \n",
    "    Returns:\n",
    "        A Pandas DataFrame\n",
    "    \"\"\"\n",
    "    \n",
    "    spec_class = Table.read(path).to_pandas()\n",
    "    spec_class.set_index(['feat_name', 'obj_id', 'date'], inplace=True)\n",
    "\n",
    "    spec_summary = sako18spec.load_table(9).to_pandas()\n",
    "    spec_summary = spec_summary[spec_summary['Type'] != 'Gal']\n",
    "    spec_summary.drop_duplicates('CID', inplace=True)\n",
    "\n",
    "    spec_summary.rename(columns={'CID': 'obj_id', 'Date': 'date'}, inplace=True)\n",
    "    spec_summary.set_index(['obj_id'], inplace=True)\n",
    "\n",
    "    combined_spec_data = spec_class.join(spec_summary)\n",
    "    return combined_spec_data\n"
   ]
  },
  {
   "cell_type": "code",
   "execution_count": null,
   "metadata": {},
   "outputs": [],
   "source": [
    "results_dir = Path('/Users/daniel/Github/Photometric-Classification/results/')\n",
    "n0_spec = read_spec_results(results_dir / 'spec_class/sdss_sako18spec_3_1_0.ecsv')\n",
    "n2_spec = read_spec_results(results_dir / 'spec_class/sdss_sako18spec_3_1_2.ecsv')\n",
    "n5_spec = read_spec_results(results_dir / 'spec_class/sdss_sako18spec_3_1_5.ecsv')\n"
   ]
  },
  {
   "cell_type": "code",
   "execution_count": null,
   "metadata": {},
   "outputs": [],
   "source": [
    "n5_spec.head()"
   ]
  },
  {
   "cell_type": "markdown",
   "metadata": {},
   "source": [
    "Finally we plot the ratio of the Si features."
   ]
  },
  {
   "cell_type": "code",
   "execution_count": null,
   "metadata": {},
   "outputs": [],
   "source": [
    "def get_colors(pw6, pw7):\n",
    "    \"\"\"Get the color of each point bassed on its coordinates\n",
    "    \n",
    "    Args:\n",
    "        pw6 (ndarray): Array of EW measurements for feature 6\n",
    "        pw7 (ndarray): Array of EW measurements for feature 7\n",
    "        \n",
    "    Returns:\n",
    "        A 2d array of RGB values\n",
    "    \"\"\"\n",
    "    \n",
    "    color = np.ones((len(pw6), 4))\n",
    "    color[:, 0: 3] = 0  # Default to black\n",
    "    color[pw6 > 30] = 0, 0, 1, 1  # Blue\n",
    "    color[(pw6 < 30) & (pw7 > 105)] = 1, 0, 0, 1  # Red\n",
    "    color[pw7 < 70] = 0, 128 / 255, 0, 1  # Green\n",
    "\n",
    "    return color\n",
    "\n",
    "def subplot_published_classes(axis):\n",
    "    \"\"\"Plot pw7 vs pw6 from CSP and Branch 2006\n",
    "    \n",
    "    Args:\n",
    "        axis (Axis): A matplotlib axis\n",
    "    \"\"\"\n",
    "\n",
    "    axis.scatter(\n",
    "        branch_06.pw7, \n",
    "        branch_06.pw6, \n",
    "        marker='D',\n",
    "        facecolor='none', \n",
    "        edgecolor=get_colors(branch_06.pw6, branch_06.pw7),\n",
    "        zorder=2)\n",
    "\n",
    "    axis.scatter(\n",
    "        folatelli_13.pW7, \n",
    "        folatelli_13.pW6, \n",
    "        marker='v',\n",
    "        facecolor='none', \n",
    "        edgecolor=get_colors(folatelli_13.pW6, folatelli_13.pW7),\n",
    "        zorder=2)\n",
    "\n",
    "def plot_si_ratio(spec_data, plot_external_data=True):\n",
    "    \"\"\"Plot the pW6 vs pW7 silicon pEw ratios\n",
    "    \n",
    "    Args:\n",
    "        spec_data     (DataFrame): Measurements from the analysis pipeline\n",
    "        plot_external_data (bool): Whether to plot data from CSP and Branch 2006\n",
    "        \n",
    "    Returns:\n",
    "        A matplotlib figure\n",
    "        An array of matplotlib axes\n",
    "    \"\"\"\n",
    "    \n",
    "    fig, axes = plt.subplots(1, 3, figsize=(24, 8), sharex=True, sharey=True)\n",
    "    si_data = spec_data[spec_data.Type.isin(['Ia', 'Ia-pec', 'Ia?'])].loc[['pW6', 'pW7']]\n",
    "    for snr, axis in zip((1, 3, 5), axes.flatten()):\n",
    "        good_snr = si_data[si_data.pew / si_data.pew_samperr  > snr]\n",
    "\n",
    "        overlap = good_snr.loc['pW6'].index.join(good_snr.loc['pW7'].index)\n",
    "\n",
    "        pw6 = good_snr.loc['pW6'].reindex(overlap).pew\n",
    "        pw6_err = good_snr.loc['pW6'].reindex(overlap).pew_samperr\n",
    "        pw7 = good_snr.loc['pW7'].reindex(overlap).pew\n",
    "        pw7_err = good_snr.loc['pW7'].reindex(overlap).pew_samperr\n",
    "        color = get_colors(pw6, pw7)\n",
    "\n",
    "        axis.errorbar(\n",
    "            x=pw7, \n",
    "            y=pw6, \n",
    "            xerr=pw7_err, \n",
    "            yerr=pw6_err, \n",
    "            linestyle='', \n",
    "            ecolor='grey', \n",
    "            color='grey',\n",
    "            alpha=.3, \n",
    "            zorder=0)\n",
    "        \n",
    "        if plot_external_data:\n",
    "            subplot_published_classes(axis)\n",
    "        \n",
    "        axis.scatter(pw7, pw6, color=color, zorder=1)\n",
    "        axis.set_xlabel('Si ii λ6355')\n",
    "        axis.set_title(f'SNR > {snr}')\n",
    "        \n",
    "    axes[0].set_ylabel('Si ii λ5972')        \n",
    "    return fig, axes\n"
   ]
  },
  {
   "cell_type": "code",
   "execution_count": null,
   "metadata": {
    "scrolled": false
   },
   "outputs": [],
   "source": [
    "fig, axes = plot_si_ratio(n0_spec)\n",
    "fig.suptitle(f'0 Sampling Iterations')\n",
    "axes[0].set_xlim(-10, 700)\n",
    "axes[0].set_ylim(-10, 300)\n",
    "plt.savefig(fig_dir / '0_iterations.pdf')\n",
    "plt.show()\n"
   ]
  },
  {
   "cell_type": "code",
   "execution_count": null,
   "metadata": {},
   "outputs": [],
   "source": [
    "fig, axes = plot_si_ratio(n2_spec)\n",
    "fig.suptitle(f'2 Sampling Iterations')\n",
    "axes[0].set_xlim(-10, 500)\n",
    "axes[0].set_ylim(-10, 200)\n",
    "plt.savefig(fig_dir / '2_iterations.pdf')\n",
    "plt.show()\n"
   ]
  },
  {
   "cell_type": "code",
   "execution_count": null,
   "metadata": {},
   "outputs": [],
   "source": [
    "fig, axes = plot_si_ratio(n5_spec)\n",
    "fig.suptitle(f'5 Sampling Iterations')\n",
    "axes[0].set_xlim(-10, 400)\n",
    "axes[0].set_ylim(-10, 150)\n",
    "plt.savefig(fig_dir / '5_iterations.pdf')\n",
    "plt.show()\n"
   ]
  },
  {
   "cell_type": "code",
   "execution_count": null,
   "metadata": {},
   "outputs": [],
   "source": []
  }
 ],
 "metadata": {
  "kernelspec": {
   "display_name": "Python [conda env:phot_class] *",
   "language": "python",
   "name": "conda-env-phot_class-py"
  },
  "language_info": {
   "codemirror_mode": {
    "name": "ipython",
    "version": 3
   },
   "file_extension": ".py",
   "mimetype": "text/x-python",
   "name": "python",
   "nbconvert_exporter": "python",
   "pygments_lexer": "ipython3",
   "version": "3.7.4"
  }
 },
 "nbformat": 4,
 "nbformat_minor": 2
}
