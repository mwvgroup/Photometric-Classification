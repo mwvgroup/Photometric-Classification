{
 "cells": [
  {
   "cell_type": "markdown",
   "metadata": {},
   "source": [
    "# Classifying a Single Target\n",
    "\n",
    "This notebook demonstrates the photometric classification of a single supernova (SN) from the Carnegie Supernova Project (CSP). It is a simplified example intended to outline the general classification technique introduced by González-Gaitán et al. 2014. \n",
    "\n",
    "Two approaches are demonstrated in this notebook. In the first, data is split into rest frame red and rest frame blue bandpasses. Fits are then performed to both the blue and red data using models for a normal and 91bg-like supernova. The resulting classification of the target is determined using the relative quality of fit (normal chi-squared - 91bg-like chi-squared) in both bandpass collections. In the second approach, fits are performed in each bandpass independently and results are seperated afterword into red and blue bands. \n",
    "\n",
    "The first section of this notebook is intended to introduce the general concept. The second notebook introduces some important extra-details.\n",
    "\n",
    "#### Table of Contents:\n",
    "1. <a href='#fitting_collectively'>Fitting Bands Collectively</a>: Classification performed by fitting blue and red data as seperate band sets.\n",
    "1. <a href='#fitting_independently'>Fitting Bands Independently</a>: Classification performed by fitting bands independently and then seperating results into the blue and red afterword.\n"
   ]
  },
  {
   "cell_type": "code",
   "execution_count": null,
   "metadata": {},
   "outputs": [],
   "source": [
    "import sys\n",
    "\n",
    "import sncosmo\n",
    "from matplotlib import pyplot as plt\n",
    "from sndata.csp import dr3\n",
    "\n",
    "sys.path.insert(0, '../')\n",
    "from phot_class import models\n",
    "from phot_class import utils\n",
    "from phot_class.fit_funcs import simple_fit\n",
    "from phot_class import classification\n",
    "\n",
    "dr3.download_module_data()\n",
    "dr3.register_filters(force=True)\n",
    "models.register_sources(force=True)\n"
   ]
  },
  {
   "cell_type": "markdown",
   "metadata": {},
   "source": [
    "## Fitting Bands Collectively <a id='fitting_collectively'></a>\n",
    "\n",
    "We start by reading in data for an arbitrarily chosen SN. For demonstration purposes, we pick a known 91bg-like SN and drop band-passes that are in the NIR. "
   ]
  },
  {
   "cell_type": "code",
   "execution_count": null,
   "metadata": {
    "scrolled": false
   },
   "outputs": [],
   "source": [
    "demo_id = '2005ke'\n",
    "all_data = dr3.get_data_for_id(demo_id)\n",
    "all_data = all_data[all_data['band'] != 'csp_dr3_Y']\n",
    "all_data = all_data[all_data['band'] != 'csp_dr3_Ydw']\n",
    "all_data = all_data[all_data['band'] != 'csp_dr3_J']\n",
    "all_data = all_data[all_data['band'] != 'csp_dr3_H']\n"
   ]
  },
  {
   "cell_type": "markdown",
   "metadata": {},
   "source": [
    "Using the spectroscopic redshift of the target, we split the photometric data into rest frame blue and red wavelengths. In practice, we may not have the redshift value and will need to split data using a photometrically determined redshift."
   ]
  },
  {
   "cell_type": "code",
   "execution_count": null,
   "metadata": {},
   "outputs": [],
   "source": [
    "redshift = all_data.meta['redshift']\n",
    "blue_data, red_data = utils.split_data(\n",
    "    all_data, dr3.band_names, dr3.lambda_effective, redshift)\n",
    "\n",
    "print('Blue data bands:', set(blue_data['band']))\n",
    "print('Red data bands :', set(red_data['band']))\n"
   ]
  },
  {
   "cell_type": "markdown",
   "metadata": {},
   "source": [
    "Next, we fit the red and blue data using models for Hsiao and sn91bg-like SNe. Naively this results in four total light-curve fits; however, we also perform an initial fit using the complete light-curve and the Hsiao model. This additional fit helps us determine an initial guess for the time of maximum and ensures more predictable fitting results.\n"
   ]
  },
  {
   "cell_type": "code",
   "execution_count": null,
   "metadata": {},
   "outputs": [],
   "source": [
    "sn91bg = sncosmo.Model(sncosmo.get_source('sn91bg', version='hsiao_phase'))\n",
    "hsiao = sncosmo.Model('hsiao')\n",
    "\n",
    "bg_params = ['t0', 'amplitude', 'x1', 'c']\n",
    "hs_params = ['t0', 'amplitude']\n",
    "\n",
    "initial_result, _ = simple_fit(all_data, hsiao, hs_params)\n",
    "t0 = initial_result.parameters[1]\n",
    "\n",
    "hsiao.set(t0=t0, z=redshift)\n",
    "hsiao_bounds = {'t0': (t0 - 3, t0 + 3)}\n",
    "\n",
    "sn91bg.set(t0=t0, z=redshift)\n",
    "sn91bg_bounds = {\n",
    "    't0': (t0 - 3, t0 + 3), \n",
    "    'x1': (0.65, 1.25),\n",
    "    'c': (0, 1)}\n",
    "\n",
    "blue_hsiao_result, blue_hsiao_fit = simple_fit(blue_data, hsiao, hs_params, bounds=hsiao_bounds)\n",
    "red_hsiao_result, red_hsiao_fit = simple_fit(red_data, hsiao, hs_params, bounds=hsiao_bounds)\n",
    "\n",
    "blue_sn91bg_result, blue_sn91bg_fit = simple_fit(blue_data, sn91bg, bg_params, bounds=sn91bg_bounds)\n",
    "red_sn91bg_result, red_sn91bg_fit = simple_fit(red_data, sn91bg, bg_params, bounds=sn91bg_bounds)\n"
   ]
  },
  {
   "cell_type": "markdown",
   "metadata": {},
   "source": [
    "We pause here to visually inspect the fit results."
   ]
  },
  {
   "cell_type": "code",
   "execution_count": null,
   "metadata": {
    "scrolled": false
   },
   "outputs": [],
   "source": [
    "sncosmo.plot_lc(blue_data, blue_hsiao_fit)\n",
    "sncosmo.plot_lc(red_data, red_hsiao_fit)\n",
    "sncosmo.plot_lc(blue_data, blue_sn91bg_fit)\n",
    "sncosmo.plot_lc(red_data, red_sn91bg_fit)\n",
    "plt.show()\n"
   ]
  },
  {
   "cell_type": "markdown",
   "metadata": {},
   "source": [
    "Finally, we determine the chi-squared of each fit and use them to determine a classification coordinate. If we were to repeat this process for multiple SNe and plot the resulting coordinates, we would expect 91bg like SNe to fall in the upper right quadrant and hsiao-like SNe to fall in the lower-left corner (see González-Gaitán et al. 2014 for more details). Since our example light curve is from a 91bg-like SN, we expect a positive x and y coordinate."
   ]
  },
  {
   "cell_type": "code",
   "execution_count": null,
   "metadata": {},
   "outputs": [],
   "source": [
    "blue_hsiao_chisq, blue_hsiao_dof = utils.calc_model_chisq(blue_data, blue_hsiao_result, blue_hsiao_fit)\n",
    "red_hsiao_chisq, red_hsiao_dof = utils.calc_model_chisq(red_data, red_hsiao_result, red_hsiao_fit)\n",
    "\n",
    "blue_sn91bg_chisq, blue_sn91bg_dof = utils.calc_model_chisq(blue_data, blue_sn91bg_result, blue_sn91bg_fit)\n",
    "red_sn91bg_chisq, red_sn91bg_dof = utils.calc_model_chisq(red_data, red_sn91bg_result, red_sn91bg_fit)\n",
    "\n",
    "print('Reduced chi-squared values:')\n",
    "print(f'hsiao Blue : {blue_hsiao_chisq} / {blue_hsiao_dof} = {blue_hsiao_chisq / blue_hsiao_dof}')\n",
    "print(f'hsiao Red  : {red_hsiao_chisq} / {red_hsiao_dof} = {red_hsiao_chisq / red_hsiao_dof}')\n",
    "print(f'SN91bg Blue: {blue_sn91bg_chisq} / {blue_sn91bg_dof} = {blue_sn91bg_chisq / blue_sn91bg_dof}')\n",
    "print(f'SN91bg Red : {red_sn91bg_chisq} / {red_sn91bg_dof} = {red_sn91bg_chisq / red_sn91bg_dof}')\n",
    "\n",
    "coordinates = (\n",
    "    (blue_hsiao_chisq / blue_hsiao_dof) - (blue_sn91bg_chisq / blue_sn91bg_dof), \n",
    "    (red_hsiao_chisq / red_hsiao_dof) - (red_sn91bg_chisq / red_sn91bg_dof)\n",
    ")\n",
    "\n",
    "print('Coordinates:', coordinates)\n"
   ]
  },
  {
   "cell_type": "markdown",
   "metadata": {},
   "source": [
    "## Fitting Bands Independently <a id='fitting_independently'></a>\n",
    "\n",
    "We pause to consider the Hsiao fit of the blue bands plotted above. We see that the chi-squared is dominated not by the morphology of the light-curve, but by the model's inability to match the supernova's color. This is problamatic since we would like to discriminate targets primarily based on their light-curve morphology. To address this we can fit each band independently without an overall color term.\n",
    "\n",
    "This approach is what has been implimented in our analysis pipeline."
   ]
  },
  {
   "cell_type": "code",
   "execution_count": null,
   "metadata": {
    "scrolled": false
   },
   "outputs": [],
   "source": [
    "prior = {'z': all_data.meta['redshift']}\n",
    "\n",
    "fit_results = classification.run_classification_fits(\n",
    "    demo_id, \n",
    "    all_data, \n",
    "    ['t0', 'amplitude', 'x1', 'c'], \n",
    "    simple_fit, \n",
    "    priors_hs=prior, \n",
    "    priors_bg=prior,\n",
    "    kwargs_bg={'bounds': sn91bg_bounds},\n",
    "    show_plots=True\n",
    ")\n"
   ]
  },
  {
   "cell_type": "code",
   "execution_count": null,
   "metadata": {},
   "outputs": [],
   "source": [
    "classification.classify_targets(fit_results, dr3.band_names, dr3.lambda_effective)\n"
   ]
  },
  {
   "cell_type": "code",
   "execution_count": null,
   "metadata": {},
   "outputs": [],
   "source": []
  }
 ],
 "metadata": {
  "kernelspec": {
   "display_name": "Python [conda env:phot_class] *",
   "language": "python",
   "name": "conda-env-phot_class-py"
  },
  "language_info": {
   "codemirror_mode": {
    "name": "ipython",
    "version": 3
   },
   "file_extension": ".py",
   "mimetype": "text/x-python",
   "name": "python",
   "nbconvert_exporter": "python",
   "pygments_lexer": "ipython3",
   "version": "3.7.4"
  }
 },
 "nbformat": 4,
 "nbformat_minor": 2
}
