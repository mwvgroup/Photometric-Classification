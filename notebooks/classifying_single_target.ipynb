{
 "cells": [
  {
   "cell_type": "markdown",
   "metadata": {},
   "source": [
    "# Classifying a Single Target\n",
    "\n",
    "This notebook demonstrates the photometric classification of a single supernova (SN) from the Carnegie Supernova Project (CSP). It is a simplified example intended to outline the general classification technique introduced by González-Gaitán et al. 2014.\n"
   ]
  },
  {
   "cell_type": "code",
   "execution_count": null,
   "metadata": {},
   "outputs": [],
   "source": [
    "import sys\n",
    "\n",
    "import sncosmo\n",
    "from sndata.csp import dr3\n",
    "\n",
    "sys.path.insert(0, '../')\n",
    "from phot_class import models\n",
    "from phot_class import utils\n",
    "from phot_class.fit_funcs import simple_fit\n",
    "\n",
    "dr3.download_module_data()\n",
    "dr3.register_filters(force=True)\n",
    "models.register_sources(force=True)\n"
   ]
  },
  {
   "cell_type": "markdown",
   "metadata": {},
   "source": [
    "We start by reading in data for an arbitrarily chosen SN. For demonstration purposes, we pick a known 91bg-like SN and drop band-passes that are outside the wavelength range of the salt2 model. "
   ]
  },
  {
   "cell_type": "code",
   "execution_count": null,
   "metadata": {
    "scrolled": false
   },
   "outputs": [],
   "source": [
    "demo_id = '2005ke'\n",
    "all_data = dr3.get_data_for_id(demo_id, format_sncosmo=True)\n",
    "all_data = all_data[all_data['band'] != 'csp_dr3_Y']\n",
    "all_data = all_data[all_data['band'] != 'csp_dr3_Ydw']\n",
    "all_data = all_data[all_data['band'] != 'csp_dr3_J']\n",
    "all_data = all_data[all_data['band'] != 'csp_dr3_H']\n"
   ]
  },
  {
   "cell_type": "markdown",
   "metadata": {},
   "source": [
    "Using the spectroscopic redshift of the target, we split the photometric data into rest frame blue and red wavelengths. In practice, we may not have the redshift value and will need to split data using a photometrically determined redshift."
   ]
  },
  {
   "cell_type": "code",
   "execution_count": null,
   "metadata": {},
   "outputs": [],
   "source": [
    "redshift = all_data.meta['redshift']\n",
    "blue_data, red_data = utils.split_data(\n",
    "    all_data, dr3.band_names, dr3.lambda_effective, redshift)\n",
    "\n",
    "print('Blue data bands:', set(blue_data['band']))\n",
    "print('Red data bands :', set(red_data['band']))\n"
   ]
  },
  {
   "cell_type": "markdown",
   "metadata": {},
   "source": [
    "Next, we fit the red and blue data using models for salt2-like and 91bg-like SNe. Naively this results in four total light-curve fits; however, we also perform an initial fit using the complete light-curve and the salt2 model. This additional fit helps us determine an initial guess for the time of maximum and ensures more predictable fitting results.\n"
   ]
  },
  {
   "cell_type": "code",
   "execution_count": null,
   "metadata": {},
   "outputs": [],
   "source": [
    "sn91bg = sncosmo.Model('sn91bg')\n",
    "salt2 = sncosmo.Model('salt2')\n",
    "\n",
    "initial_result, _ = simple_fit(all_data, salt2, ['t0', 'x0', 'x1', 'c'])\n",
    "t0 = initial_result.parameters[1]\n",
    "\n",
    "salt2.set(t0=t0)\n",
    "salt2_bounds = {'t0': (t0 - 3, t0 + 3)}\n",
    "\n",
    "sn91bg.set(t0=t0)\n",
    "sn91bg_bounds = {\n",
    "    't0': (t0 - 3, t0 + 3), \n",
    "    'x1': (0.65, 1.25),\n",
    "    'c': (0, 1)}\n",
    "\n",
    "blue_salt2_result, blue_salt2_fit = simple_fit(blue_data, salt2, ['t0', 'x0', 'x1', 'c'], bounds=salt2_bounds)\n",
    "red_salt2_result, red_salt2_fit = simple_fit(red_data, salt2, ['t0', 'x0', 'x1', 'c'], bounds=salt2_bounds)\n",
    "\n",
    "blue_sn91bg_result, blue_sn91bg_fit = simple_fit(blue_data, salt2, ['t0', 'x0', 'x1', 'c'], bounds=sn91bg_bounds)\n",
    "red_sn91bg_result, red_sn91bg_fit = simple_fit(red_data, salt2, ['t0', 'x0', 'x1', 'c'], bounds=sn91bg_bounds)\n"
   ]
  },
  {
   "cell_type": "markdown",
   "metadata": {},
   "source": [
    "We pause here to visually inspect the fit results."
   ]
  },
  {
   "cell_type": "code",
   "execution_count": null,
   "metadata": {},
   "outputs": [],
   "source": [
    "sncosmo.plot_lc(blue_data, blue_salt2_fit)\n",
    "# sncosmo.plot_lc(red_data, red_salt2_fit)\n",
    "# sncosmo.plot_lc(blue_data, blue_sn91bg_fit)\n",
    "# sncosmo.plot_lc(red_data, red_sn91bg_fit)\n"
   ]
  },
  {
   "cell_type": "markdown",
   "metadata": {},
   "source": [
    "Finally, we determine the chi-squared of each fit and use them to determine a classification coordinate. If we were to repeat this process for multiple SNe and plot the resulting coordinates, we would expect 91bg like SNe to fall in the upper right quadrant and salt2-like SNe to fall in the lower-left corner (see González-Gaitán et al. 2014 for more details). Since our example light curve is from a 91bg-like SN, we expect a positive x and y coordinate."
   ]
  },
  {
   "cell_type": "code",
   "execution_count": null,
   "metadata": {},
   "outputs": [],
   "source": [
    "blue_sn91bg_chisq, blue_sn91bg_dof = utils.calc_model_chisq(blue_data, blue_salt2_result, blue_salt2_fit)\n",
    "red_sn91bg_chisq, red_sn91bg_dof = utils.calc_model_chisq(red_data, red_salt2_result, red_salt2_fit)\n",
    "\n",
    "blue_salt2_chisq, blue_salt2_dof = utils.calc_model_chisq(blue_data, blue_sn91bg_result, blue_sn91bg_fit)\n",
    "red_salt2_chisq, red_salt2_dof = utils.calc_model_chisq(red_data, red_sn91bg_result, red_sn91bg_fit)\n",
    "\n",
    "classification = (\n",
    "    (blue_salt2_chisq / blue_salt2_dof) - (blue_sn91bg_chisq / blue_sn91bg_dof), \n",
    "    (red_salt2_chisq / red_salt2_dof) - (red_sn91bg_chisq / red_sn91bg_dof)\n",
    ")\n",
    "\n",
    "classification\n"
   ]
  },
  {
   "cell_type": "code",
   "execution_count": null,
   "metadata": {},
   "outputs": [],
   "source": []
  }
 ],
 "metadata": {
  "kernelspec": {
   "display_name": "Python [conda env:phot_class] *",
   "language": "python",
   "name": "conda-env-phot_class-py"
  },
  "language_info": {
   "codemirror_mode": {
    "name": "ipython",
    "version": 3
   },
   "file_extension": ".py",
   "mimetype": "text/x-python",
   "name": "python",
   "nbconvert_exporter": "python",
   "pygments_lexer": "ipython3",
   "version": "3.7.4"
  }
 },
 "nbformat": 4,
 "nbformat_minor": 2
}
