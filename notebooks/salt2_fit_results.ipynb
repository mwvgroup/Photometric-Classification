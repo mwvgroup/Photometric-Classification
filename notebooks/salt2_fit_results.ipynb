{
 "cells": [
  {
   "cell_type": "markdown",
   "metadata": {},
   "source": [
    "# Salt2 Fit Results\n",
    "\n",
    "This notebook inspects the distribution and correlation of Salt2 parameters fit to the SDSS SN sample.\n",
    "\n",
    "#### Table of Contents:\n",
    "1. <a href='#loading_data'>Loading the Data</a>: Read in data and drop bad fits.\n",
    "1. <a href='#fit_results'>Investigating Fit Results</a>: Plots of various fit parameters.\n",
    "1. <a href='#with_class'>Trends with Classification</a>: Plots of various fit parameters color coded by classification.\n"
   ]
  },
  {
   "cell_type": "code",
   "execution_count": null,
   "metadata": {},
   "outputs": [],
   "source": [
    "import warnings\n",
    "from pathlib import Path\n",
    "\n",
    "import matplotlib.pyplot as plt\n",
    "import numpy as np\n",
    "import seaborn as sns\n",
    "import sncosmo\n",
    "from astropy.table import Table\n",
    "from corner import corner\n",
    "from matplotlib.colors import LinearSegmentedColormap\n",
    "from matplotlib.ticker import NullFormatter\n",
    "from scipy import stats\n",
    "from sndata.sdss import sako18\n",
    "\n",
    "fig_dir = Path('./notebook_figs/salt2_fits')\n",
    "fig_dir.mkdir(exist_ok=True, parents=True)\n"
   ]
  },
  {
   "cell_type": "markdown",
   "metadata": {},
   "source": [
    "## Loading the Data <a id='loading_data'></a>\n",
    "\n",
    "We load in both the original fit results from Sako et al. 2018 (Salt 2.0) and the fit results that we ran ourselves (Salt 2.4)."
   ]
  },
  {
   "cell_type": "code",
   "execution_count": null,
   "metadata": {},
   "outputs": [],
   "source": [
    "with warnings.catch_warnings():\n",
    "    warnings.simplefilter(\"ignore\")\n",
    "    \n",
    "    salt2_fits = Table.read('../results/sdss_salt2_fits.ecsv').to_pandas(index='obj_id')\n",
    "    sako_fits = sako18.load_table('master').to_pandas(index='CID')\n",
    "    sako_sneia = sako_fits[sako_fits.Classification.isin(['SNIa', 'SNIa?', 'pSNIa', 'zSNIa'])]\n",
    "\n",
    "    combined = salt2_fits.join(sako_sneia)\n"
   ]
  },
  {
   "cell_type": "code",
   "execution_count": null,
   "metadata": {},
   "outputs": [],
   "source": [
    "salt2_fits.head()\n"
   ]
  },
  {
   "cell_type": "markdown",
   "metadata": {},
   "source": [
    "Since it is not available as part of the fit results, we calculate the B - V color at $t_{max}$ for each of the fitted SNe."
   ]
  },
  {
   "cell_type": "code",
   "execution_count": null,
   "metadata": {
    "scrolled": false
   },
   "outputs": [],
   "source": [
    "salt2 = sncosmo.Model('salt2')\n",
    "   \n",
    "color = []\n",
    "for idx, row in salt2_fits.iterrows():\n",
    "    salt2.update({p: row[p] for p in salt2.param_names})\n",
    "    t0 = salt2.parameters[salt2.param_names.index('t0')]\n",
    "    if np.isnan(t0):\n",
    "        color.append(np.nan)\n",
    "        continue\n",
    "        \n",
    "    color.append(salt2.color('standard::B', 'standard::V', 'AB', t0))\n",
    "    \n",
    "salt2_fits['max_color'] = color\n"
   ]
  },
  {
   "cell_type": "markdown",
   "metadata": {},
   "source": [
    "As a simple sanity check, we compare our fit parameters against the published values. We don't expect to get the same results since different Salt versions were used. However, we do expect to see obvious (unsurprising) trends."
   ]
  },
  {
   "cell_type": "code",
   "execution_count": null,
   "metadata": {},
   "outputs": [],
   "source": [
    "def compare_salt_versions(combined_data):\n",
    "    \"\"\"Create a plot comparing our fit results with Sako 2018\n",
    "    \n",
    "    Args:\n",
    "        combined_data (DataFrame): Combined data to plot\n",
    "        \n",
    "    Returns:\n",
    "        A matplotlib figure\n",
    "        An array of matplotlib axes\n",
    "    \"\"\"\n",
    "\n",
    "    fig, axes = plt.subplots(1, 2, figsize=(18, 9))\n",
    "\n",
    "    line = [-10, 10]\n",
    "    line_args = dict(c='grey', linestyle='--')\n",
    "\n",
    "    axes[0].scatter(combined_data.x1SALT2flat, combined_data.x1)\n",
    "    axes[0].set_xlabel('Sako18 SALT 2.0')\n",
    "    axes[0].set_ylabel('SALT 2.4')\n",
    "    axes[0].set_title(r'Stretch (x$_1$)')\n",
    "    axes[0].set_ylim(-6, 6)\n",
    "    axes[0].set_xlim(-6, 6)\n",
    "    axes[0].plot(line, line, **line_args)\n",
    "\n",
    "    axes[1].scatter(combined_data.cSALT2flat, combined_data.c)\n",
    "    axes[1].set_xlabel('Sako18 SALT 2.0')\n",
    "    axes[1].set_title('Color (c)')\n",
    "    axes[1].set_ylim(-1, 1)\n",
    "    axes[1].set_xlim(-1, 1)\n",
    "    axes[1].plot(line, line, **line_args)\n",
    "\n",
    "    return fig, axes\n"
   ]
  },
  {
   "cell_type": "code",
   "execution_count": null,
   "metadata": {},
   "outputs": [],
   "source": [
    "_ = compare_salt_versions(combined)\n"
   ]
  },
  {
   "cell_type": "markdown",
   "metadata": {},
   "source": [
    "We see that there are some fits that failed to converge and ran into the boundary. We drop these from our sample."
   ]
  },
  {
   "cell_type": "code",
   "execution_count": null,
   "metadata": {},
   "outputs": [],
   "source": [
    "good_fits = salt2_fits[['z', 'c', 'x1', 'x0', 't0', 'chisq', 'ndof', 'b_max', 'delta_15', 'max_color']].dropna()\n",
    "good_fits = good_fits[good_fits.c < .495]\n",
    "good_fits = good_fits[good_fits.x1 < 4.95]\n",
    "#good_fits = good_fits[salt2_fits.chisq / salt2_fits.ndof <= 5]\n",
    "\n",
    "good_fits.head()\n"
   ]
  },
  {
   "cell_type": "markdown",
   "metadata": {},
   "source": [
    "## Investigating Fit Results <a id='fit_results'></a>\n",
    "\n",
    "We look at trends within the fitted model parameters.\n"
   ]
  },
  {
   "cell_type": "code",
   "execution_count": null,
   "metadata": {},
   "outputs": [],
   "source": [
    "def scatter_plot(x, y, c=None, contour=False, class_by=None, x_cutoff=0, y_cutoff=0):\n",
    "    \"\"\"Create a scatter plot with bordering histograms\n",
    "    \n",
    "    Args:\n",
    "        x    (ndarray): x values to plot\n",
    "        y    (ndarray): y values to plot\n",
    "        c    (ndarray): Optional values for a colorbar\n",
    "        contour (bool): Whether to plot contours\n",
    "        class_by   (str): Classify by \"collective\" or \"band\" fits\n",
    "        x_cutoff (float): The x cutoff for bg classifications\n",
    "        y_cutoff (float): The y cutoff for bg classifications\n",
    "        \n",
    "    Returns:\n",
    "        A seaborn figure\n",
    "        A matplotlib axis for the color bar, if c is provided\n",
    "    \"\"\"\n",
    "\n",
    "    joint_plot = sns.jointplot(x, y, height=8)\n",
    "    scatter_ax = joint_plot.ax_joint\n",
    "    \n",
    "    if c is not None:\n",
    "        scatter_ax.cla()\n",
    "        basic_cols = ['blue', 'lightgrey', 'red']\n",
    "        cmap = LinearSegmentedColormap.from_list('mycmap', basic_cols)\n",
    "        s = scatter_ax.scatter(x, y, c=c, cmap=cmap, s=12)\n",
    "\n",
    "        ax_pos = scatter_ax.get_position()\n",
    "        ax_pos.y0 -= .2\n",
    "        ax_pos.y1 = ax_pos.y0 + .05\n",
    "        cbar_ax = plt.gcf().add_axes(ax_pos)\n",
    "        plt.colorbar(s, cax=cbar_ax, orientation='horizontal')\n",
    "        return joint_plot, cbar_ax \n",
    "    \n",
    "    elif class_by is not None:\n",
    "        x_coord = class_coords['x_' + class_by]\n",
    "        y_coord = class_coords['y_' + class_by]\n",
    "        sn91bg = class_coords[(x_coord > x_cutoff) & (y_coord > y_cutoff)].index\n",
    "        normal = class_coords[(x_coord < x_cutoff) & (y_coord < y_cutoff)].index\n",
    "        pec = class_coords[(x_coord < x_cutoff) & (y_coord > y_cutoff)].index\n",
    "\n",
    "        scatter_ax.cla()\n",
    "        scatter_ax.scatter(x.reindex(normal), y.reindex(normal), \n",
    "                          color=sns.color_palette('Paired')[0],\n",
    "                          #color='C0',\n",
    "                          s=12, label='Q3')\n",
    "        \n",
    "        scatter_ax.scatter(x.reindex(sn91bg), y.reindex(sn91bg), color='C3', marker='^', label='Q1')\n",
    "        scatter_ax.scatter(x.reindex(pec), y.reindex(pec), color='C1', marker='s', label='Q2') \n",
    "        scatter_ax.legend()\n",
    "        \n",
    "    if contour:\n",
    "        sns.kdeplot(x, y, ax=scatter_ax, color='black', alpha=.8)\n",
    "        \n",
    "    return joint_plot\n"
   ]
  },
  {
   "cell_type": "code",
   "execution_count": null,
   "metadata": {},
   "outputs": [],
   "source": [
    "stretch_color = scatter_plot(good_fits.c, good_fits.x1, contour=True)\n",
    "stretch_color.ax_joint.set_xlabel('Color Excess (c)')\n",
    "stretch_color.ax_joint.set_ylabel(r'Stretch (x$_1$)')\n",
    "plt.savefig(fig_dir / 'stretch_color.pdf')\n"
   ]
  },
  {
   "cell_type": "code",
   "execution_count": null,
   "metadata": {},
   "outputs": [],
   "source": [
    "stretch_bmax, cbar = scatter_plot(good_fits.b_max, good_fits.x1, good_fits.c)\n",
    "stretch_bmax.ax_joint.set_xlabel('Peak B band mag')\n",
    "stretch_bmax.ax_joint.set_ylabel(r'Stretch (x$_1$)')\n",
    "cbar.set_xlabel('Color Excess (c)')\n",
    "plt.savefig(fig_dir / 'stretch_bmax.pdf')\n"
   ]
  },
  {
   "cell_type": "code",
   "execution_count": null,
   "metadata": {},
   "outputs": [],
   "source": [
    "color_bmax, cbar = scatter_plot(good_fits.b_max, good_fits.c, good_fits.x1)\n",
    "color_bmax.ax_joint.set_xlabel('Peak B band mag')\n",
    "color_bmax.ax_joint.set_ylabel(r'Color Excess (c)')\n",
    "cbar.set_xlabel(r'Stretch (x$_1$)')\n",
    "plt.savefig(fig_dir / 'color_bmax.pdf')\n"
   ]
  },
  {
   "cell_type": "code",
   "execution_count": null,
   "metadata": {},
   "outputs": [],
   "source": [
    "delta15_bmax, cbar = scatter_plot(good_fits.delta_15, good_fits.b_max, good_fits.c)\n",
    "delta15_bmax.ax_joint.set_xlabel(r'$\\Delta$ m(B)')\n",
    "delta15_bmax.ax_joint.set_ylabel('Peak B band mag')\n",
    "delta15_bmax.ax_joint.set_ylim(-21, -14.5)\n",
    "delta15_bmax.ax_joint.invert_yaxis()\n",
    "cbar.set_xlabel('Color Excess (c)')\n",
    "plt.savefig(fig_dir / 'delta15_bmax.pdf')\n"
   ]
  },
  {
   "cell_type": "markdown",
   "metadata": {},
   "source": [
    "## Trends with Classification <a id='with_class'></a>\n",
    "\n",
    "We repeate similar plots to the previous section, but include classification data."
   ]
  },
  {
   "cell_type": "code",
   "execution_count": null,
   "metadata": {},
   "outputs": [],
   "source": [
    "band_path = '../results/band_fits/with_ext/sdss_sako18_simple_fit_class.ecsv'\n",
    "band_class = Table.read(band_path).to_pandas(index='obj_id')\n",
    "\n",
    "collective_path = '../results/collective_fits/with_ext/sdss_sako18_simple_fit_class.ecsv'\n",
    "collective_class = Table.read(collective_path).to_pandas(index='obj_id')\n",
    "\n",
    "class_coords = collective_class.join(band_class, lsuffix='_collective', rsuffix='_band')\n",
    "class_coords.head()\n"
   ]
  },
  {
   "cell_type": "code",
   "execution_count": null,
   "metadata": {},
   "outputs": [],
   "source": [
    "x_cut = .5\n",
    "y_cut = 1\n",
    "\n",
    "stretch_color_collective = scatter_plot(good_fits.c, good_fits.x1, class_by='collective',\n",
    "    x_cutoff=x_cut, \n",
    "    y_cutoff=y_cut,\n",
    "    #contour=True\n",
    ")\n",
    "stretch_color_collective.ax_joint.set_xlabel(r'Stretch (x$_1$)')\n",
    "stretch_color_collective.ax_joint.set_ylabel('Color Excess (c)')\n",
    "plt.savefig(fig_dir / 'stretch_color_collective.pdf')\n",
    "plt.show()\n"
   ]
  },
  {
   "cell_type": "code",
   "execution_count": null,
   "metadata": {},
   "outputs": [],
   "source": [
    "delta15_bmax_collective = scatter_plot(\n",
    "    x=good_fits.delta_15, \n",
    "    y=good_fits.b_max, \n",
    "    class_by='collective',\n",
    "    x_cutoff=x_cut, \n",
    "    y_cutoff=y_cut,\n",
    "    #contour=True\n",
    ")\n",
    "\n",
    "delta15_bmax_collective.ax_joint.set_xlabel(r'$\\Delta$ m(B)')\n",
    "delta15_bmax_collective.ax_joint.set_ylabel('Peak B band mag')\n",
    "delta15_bmax_collective.ax_joint.set_ylim(-21, -14.5)\n",
    "delta15_bmax_collective.ax_joint.invert_yaxis()\n",
    "plt.savefig(fig_dir / 'delta15_bmax_collective.pdf')\n"
   ]
  },
  {
   "cell_type": "code",
   "execution_count": null,
   "metadata": {},
   "outputs": [],
   "source": [
    "def density_estimation(m1, m2):\n",
    "    xmin = ymin = np.min([m1, m2])\n",
    "    xmax = ymax = np.max([m1, m2])\n",
    "    \n",
    "    X, Y = np.mgrid[xmin:xmax:100j, ymin:ymax:100j]                                                     \n",
    "    positions = np.vstack([X.ravel(), Y.ravel()])                                                       \n",
    "    values = np.vstack([m1, m2])                                                                        \n",
    "    kernel = stats.gaussian_kde(values)                                                                 \n",
    "    Z = np.reshape(kernel(positions).T, X.shape)\n",
    "    return X, Y, Z\n",
    "\n",
    "def plot_corner(data, columns, labels, ranges, class_by='collective', x_cutoff=0, y_cutoff=0):\n",
    "    \"\"\"Create a corner plot of fit parameters\n",
    "    \n",
    "    Args:\n",
    "        data (Dataframe): The data to use when plotting\n",
    "        columns   (list): The names of the columns to plot\n",
    "        ranges    (list): Plottin limits for each column\n",
    "        class_by   (str): Classify by \"collective\" or \"band\" fits\n",
    "        x_cutoff (float): The x cutoff for bg classifications\n",
    "        y_cutoff (float): The y cutoff for bg classifications\n",
    "        \n",
    "    Returns:\n",
    "        A matplotlib figure\n",
    "    \"\"\"\n",
    "    \n",
    "    x_coord = class_coords['x_' + class_by]\n",
    "    y_coord = class_coords['y_' + class_by]\n",
    "    normal = class_coords[(x_coord < x_cutoff) & (y_coord < y_cutoff)].index\n",
    "    sn91bg = class_coords[(x_coord > x_cutoff) & (y_coord > y_cutoff)].index\n",
    "    pec = class_coords[(x_coord < x_cutoff) & (y_coord > y_cutoff)].index\n",
    "    \n",
    "    # Create initial plot\n",
    "    plot_data = np.array(data[columns])\n",
    "    fig = corner(\n",
    "        plot_data, \n",
    "        labels=labels, \n",
    "        figsize=(7, 7), \n",
    "        range=ranges,\n",
    "        hist_kwargs={'histtype': 'bar', 'color': 'C0'}, \n",
    "        plot_contours=False, \n",
    "        show_titles=True,\n",
    "        plot_density=False,\n",
    "    )\n",
    "\n",
    "    # Isolate plots in lower triangle of figure\n",
    "    num_cols = len(columns)\n",
    "    axes = np.reshape(fig.axes, (num_cols, num_cols))\n",
    "    skip_countors = [(4, 0)]\n",
    "    \n",
    "    # Replace scatter plots withcustom plots\n",
    "    for i, j in zip(*np.tril_indices(num_cols, -1)):\n",
    "        axis = axes[i, j]        \n",
    "        x = data[columns[j]]\n",
    "        y = data[columns[i]]\n",
    "        \n",
    "        label_prefix = '' if (i==1 and j==0) else '_'\n",
    "        axis.scatter(\n",
    "            x.reindex(normal), \n",
    "            y.reindex(normal), \n",
    "            s=1, \n",
    "            label=label_prefix + f'Quadrant 3 (x < {x_cutoff}, y < {y_cutoff})')\n",
    "        \n",
    "        if (i, j) not in skip_countors:\n",
    "            X, Y, Z = density_estimation(x, y)\n",
    "            axis.contour(X, Y, Z, colors='k', alpha=.5)\n",
    "        \n",
    "        axis.scatter(\n",
    "            x.reindex(pec), \n",
    "            y.reindex(pec),\n",
    "            s=15, \n",
    "            marker='^', \n",
    "            color='C3',\n",
    "            label=label_prefix + f'Quadrant 2 (x < {x_cutoff}, y > {y_cutoff})',\n",
    "            zorder=9\n",
    "        ) \n",
    "        \n",
    "        axis.scatter(\n",
    "            x.reindex(sn91bg),\n",
    "            y.reindex(sn91bg),\n",
    "            s=15, \n",
    "            marker='s',\n",
    "            color='C1',\n",
    "            label=label_prefix + f'Quadrant 1 (x > {x_cutoff}, y > {y_cutoff})',\n",
    "            zorder=10\n",
    "        )\n",
    "\n",
    "    # Peak density lines on scatter plots\n",
    "    diagonal_plots = axes[np.diag_indices(num_cols)]\n",
    "    for col_name, axis in zip(columns, diagonal_plots):\n",
    "        col_data = good_fits[col_name]\n",
    "        mean = col_data.mean()\n",
    "        std = col_data.std()\n",
    "\n",
    "        axis.axvline(mean, color='k', alpha=.8, linestyle='--')\n",
    "        axis.axvline(mean + std, color='k', alpha=.8, linestyle=':')\n",
    "        axis.axvline(mean - std, color='k', alpha=.8, linestyle=':')\n",
    "\n",
    "    plt.subplots_adjust(wspace=.1, hspace=.1)\n",
    "    return fig\n"
   ]
  },
  {
   "cell_type": "code",
   "execution_count": null,
   "metadata": {},
   "outputs": [],
   "source": [
    "fig = plot_corner(\n",
    "    data=good_fits,\n",
    "    columns = ['x1', 'c', 'max_color', 'b_max', 'delta_15'],\n",
    "    labels=[r'x_1', 'c', r'B - V ($t_{max}$)', r'B$_{max}$', r'$\\Delta$ m(B)'],\n",
    "    ranges=((-6, 6), (-.6, .6), (-.5, 2), (-16, -21), (0, 3)),\n",
    "    x_cutoff=.5,\n",
    "    y_cutoff=1\n",
    ")\n",
    "\n",
    "fig.legend(loc=(.32, .85))\n",
    "plt.savefig(fig_dir / 'params_corner_plot.pdf')\n"
   ]
  },
  {
   "cell_type": "code",
   "execution_count": null,
   "metadata": {},
   "outputs": [],
   "source": []
  }
 ],
 "metadata": {
  "kernelspec": {
   "display_name": "Python [conda env:phot_class] *",
   "language": "python",
   "name": "conda-env-phot_class-py"
  },
  "language_info": {
   "codemirror_mode": {
    "name": "ipython",
    "version": 3
   },
   "file_extension": ".py",
   "mimetype": "text/x-python",
   "name": "python",
   "nbconvert_exporter": "python",
   "pygments_lexer": "ipython3",
   "version": "3.7.4"
  }
 },
 "nbformat": 4,
 "nbformat_minor": 2
}
