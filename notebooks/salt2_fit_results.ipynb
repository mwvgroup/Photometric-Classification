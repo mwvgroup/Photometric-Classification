{
 "cells": [
  {
   "cell_type": "markdown",
   "metadata": {},
   "source": [
    "# Salt2 Fit Results\n",
    "\n",
    "This notebook inspects the distribution and correlation of Salt2 parameters fit to the SDSS SN sample.\n",
    "\n",
    "#### Table of Contents:\n",
    "1. <a href='#loading_data'>Loading the Data</a>: Read in data and drop bad fits.\n",
    "1. <a href='#fit_results'>Investigating Fit Results</a>: Plots of various fit parameters.\n",
    "1. <a href='#with_class'>Trends with Classification</a>: Plots of various fit parameters color coded by classification.\n"
   ]
  },
  {
   "cell_type": "code",
   "execution_count": null,
   "metadata": {},
   "outputs": [],
   "source": [
    "import warnings\n",
    "from pathlib import Path\n",
    "\n",
    "import matplotlib.pyplot as plt\n",
    "import numpy as np\n",
    "import seaborn as sns\n",
    "import sncosmo\n",
    "from astropy.table import Table\n",
    "from corner import corner\n",
    "from matplotlib.colors import LinearSegmentedColormap\n",
    "from matplotlib.ticker import MultipleLocator, NullFormatter\n",
    "from scipy import stats\n",
    "from sndata.sdss import sako18\n",
    "\n",
    "\n",
    "sako18.download_module_data()\n",
    "results_dir = Path('../results/').resolve()\n",
    "fig_dir = Path('./notebook_figs/salt2_fits')\n",
    "fig_dir.mkdir(exist_ok=True, parents=True)\n"
   ]
  },
  {
   "cell_type": "markdown",
   "metadata": {},
   "source": [
    "## Loading the Data <a id='loading_data'></a>\n",
    "\n",
    "We load in both the original fit results from Sako et al. 2018 (Salt 2.0) and the fit results that we ran ourselves (Salt 2.4)."
   ]
  },
  {
   "cell_type": "code",
   "execution_count": null,
   "metadata": {},
   "outputs": [],
   "source": [
    "with warnings.catch_warnings():\n",
    "    warnings.simplefilter(\"ignore\")\n",
    "    \n",
    "    salt2_fits = Table.read(results_dir / 'sdss_salt2_fits.ecsv').to_pandas(index='obj_id')\n",
    "    sako_master = sako18.load_table('master').to_pandas(index='CID')\n",
    "    ia_ids = list(sako_master[sako_master.Classification.isin(['SNIa', 'SNIa?'])].index)\n",
    "\n",
    "    combined = salt2_fits.join(sako_master)\n"
   ]
  },
  {
   "cell_type": "markdown",
   "metadata": {},
   "source": [
    "Since it is not available as part of the fit results, we calculate the B - V color at $t_{max}$ for each of the fitted SNe."
   ]
  },
  {
   "cell_type": "code",
   "execution_count": null,
   "metadata": {
    "scrolled": false
   },
   "outputs": [],
   "source": [
    "salt2 = sncosmo.Model('salt2')\n",
    "   \n",
    "color = []\n",
    "for idx, row in combined.iterrows():\n",
    "    salt2.update({p: row[p] for p in salt2.param_names})\n",
    "    \n",
    "    t0 = salt2.parameters[salt2.param_names.index('t0')]\n",
    "    z = salt2.parameters[salt2.param_names.index('z')]\n",
    "    if np.isnan(t0) or z > .8:  # Outside model range\n",
    "        color.append(np.nan)\n",
    "        continue\n",
    "        \n",
    "    color.append(salt2.color('standard::B', 'standard::V', 'AB', t0))\n",
    "    \n",
    "combined['max_color'] = color\n",
    "combined\n"
   ]
  },
  {
   "cell_type": "markdown",
   "metadata": {},
   "source": [
    "As a simple sanity check, we compare our fit parameters against the published values. We don't expect to get the same results since different Salt versions were used. However, we do expect to see obvious (unsurprising) trends."
   ]
  },
  {
   "cell_type": "code",
   "execution_count": null,
   "metadata": {},
   "outputs": [],
   "source": [
    "def compare_salt_versions(combined_data):\n",
    "    \"\"\"Create a plot comparing our fit results with Sako 2018\n",
    "    \n",
    "    Args:\n",
    "        combined_data (DataFrame): Combined data to plot\n",
    "        \n",
    "    Returns:\n",
    "        A matplotlib figure\n",
    "        An array of matplotlib axes\n",
    "    \"\"\"\n",
    "\n",
    "    fig, axes = plt.subplots(1, 2, figsize=(18, 9))\n",
    "\n",
    "    line = [-10, 10]\n",
    "    line_args = dict(c='grey', linestyle='--')\n",
    "\n",
    "    axes[0].scatter(combined_data.x1SALT2flat, combined_data.x1)\n",
    "    axes[0].set_xlabel('Sako18 SALT 2.0')\n",
    "    axes[0].set_ylabel('SALT 2.4')\n",
    "    axes[0].set_title(r'Stretch (x$_1$)')\n",
    "    axes[0].set_ylim(-6, 6)\n",
    "    axes[0].set_xlim(-6, 6)\n",
    "    axes[0].plot(line, line, **line_args)\n",
    "\n",
    "    axes[1].scatter(combined_data.cSALT2flat, combined_data.c)\n",
    "    axes[1].set_xlabel('Sako18 SALT 2.0')\n",
    "    axes[1].set_title('Color (c)')\n",
    "    axes[1].set_ylim(-2, 2)\n",
    "    axes[1].set_xlim(-2, 2)\n",
    "    axes[1].plot(line, line, **line_args)\n",
    "\n",
    "    return fig, axes\n"
   ]
  },
  {
   "cell_type": "code",
   "execution_count": null,
   "metadata": {},
   "outputs": [],
   "source": [
    "_, salt_comparison_axes = compare_salt_versions(combined)"
   ]
  },
  {
   "cell_type": "markdown",
   "metadata": {},
   "source": [
    "We see that there are some fits that failed to converge and ran into the boundary. We drop these from our sample. However, we don't want to drop any fits that may have failed for targets classified as 91bg-like. Since 91bg's are fainter and faster than normal SNe, we expect the Salt2 model to struggle in fitting them. We explicitly keep these fits."
   ]
  },
  {
   "cell_type": "code",
   "execution_count": null,
   "metadata": {},
   "outputs": [],
   "source": [
    "# Read in the classification coordinates from the collective fits\n",
    "coord_path = results_dir / 'collective_fits/with_ext/sdss_sako18_simple_fit_class.ecsv'\n",
    "class_coords = Table.read(coord_path).to_pandas(index='obj_id')\n",
    "class_coords.head()\n",
    "\n",
    "# Select the Id's of peculiar objects based on the desired cutoff\n",
    "x_cutoff = .25\n",
    "y_cutoff = .25\n",
    "\n",
    "pec_ids = list(class_coords[(class_coords.x < - x_cutoff) & (class_coords.y > y_cutoff)].index)\n",
    "sn91bg_ids = [\n",
    "    '6295', '12780', '15381', '15489', '15529', '16215', '17695', '17868',\n",
    "    '17886', '18643', '18751', '18890', '19065', '20994', '21898'\n",
    "]\n"
   ]
  },
  {
   "cell_type": "code",
   "execution_count": null,
   "metadata": {},
   "outputs": [],
   "source": [
    "good_fits = combined[['z', 'c', 'x1', 'x0', 't0', 'chisq', 'ndof', 'b_max', 'delta_15', 'max_color']].dropna()\n",
    "good_fits = good_fits[\n",
    "    np.isin(good_fits.index, pec_ids + sn91bg_ids) | \n",
    "    ((good_fits.c < .49) & (good_fits.x1 < 4.9))\n",
    "]\n"
   ]
  },
  {
   "cell_type": "markdown",
   "metadata": {},
   "source": [
    "## Investigating Fit Results <a id='fit_results'></a>\n",
    "\n",
    "We look at trends within the fitted model parameters.\n"
   ]
  },
  {
   "cell_type": "code",
   "execution_count": null,
   "metadata": {},
   "outputs": [],
   "source": [
    "def scatter_plot(x, y, c=None, contour=False, class_by=None, x_cutoff=0, y_cutoff=0):\n",
    "    \"\"\"Create a scatter plot with bordering histograms\n",
    "    \n",
    "    Args:\n",
    "        x    (ndarray): x values to plot\n",
    "        y    (ndarray): y values to plot\n",
    "        c    (ndarray): Optional values for a colorbar\n",
    "        contour (bool): Whether to plot contours\n",
    "        class_by   (str): Classify by \"collective\" or \"band\" fits\n",
    "        x_cutoff (float): The x cutoff for bg classifications\n",
    "        y_cutoff (float): The y cutoff for bg classifications\n",
    "        \n",
    "    Returns:\n",
    "        A seaborn figure\n",
    "        A matplotlib axis for the color bar, if c is provided\n",
    "    \"\"\"\n",
    "\n",
    "    joint_plot = sns.jointplot(x, y, height=8)\n",
    "    scatter_ax = joint_plot.ax_joint\n",
    "    \n",
    "    if c is not None:\n",
    "        scatter_ax.cla()\n",
    "        basic_cols = ['blue', 'lightgrey', 'red']\n",
    "        cmap = LinearSegmentedColormap.from_list('mycmap', basic_cols)\n",
    "        s = scatter_ax.scatter(x, y, c=c, cmap=cmap, s=12)\n",
    "\n",
    "        ax_pos = scatter_ax.get_position()\n",
    "        ax_pos.y0 -= .2\n",
    "        ax_pos.y1 = ax_pos.y0 + .05\n",
    "        cbar_ax = plt.gcf().add_axes(ax_pos)\n",
    "        plt.colorbar(s, cax=cbar_ax, orientation='horizontal')\n",
    "        return joint_plot, cbar_ax \n",
    "    \n",
    "    elif class_by is not None:\n",
    "        x_coord = class_coords['x_' + class_by]\n",
    "        y_coord = class_coords['y_' + class_by]\n",
    "        sn91bg = class_coords[(x_coord > x_cutoff) & (y_coord > y_cutoff)].index\n",
    "        normal = class_coords[(x_coord < x_cutoff) & (y_coord < y_cutoff)].index\n",
    "        pec = class_coords[(x_coord < x_cutoff) & (y_coord > y_cutoff)].index\n",
    "\n",
    "        scatter_ax.cla()\n",
    "        scatter_ax.scatter(x.reindex(normal), y.reindex(normal), \n",
    "                          color=sns.color_palette('Paired')[0],\n",
    "                          #color='C0',\n",
    "                          s=12, label='Q3')\n",
    "        \n",
    "        scatter_ax.scatter(x.reindex(sn91bg), y.reindex(sn91bg), color='C3', marker='^', label='Q1')\n",
    "        scatter_ax.scatter(x.reindex(pec), y.reindex(pec), color='C1', marker='s', label='Q2') \n",
    "        scatter_ax.legend()\n",
    "        \n",
    "    if contour:\n",
    "        sns.kdeplot(x, y, ax=scatter_ax, color='black', alpha=.8)\n",
    "        \n",
    "    return joint_plot\n"
   ]
  },
  {
   "cell_type": "code",
   "execution_count": null,
   "metadata": {},
   "outputs": [],
   "source": [
    "stretch_color = scatter_plot(good_fits.c, good_fits.x1, contour=True)\n",
    "stretch_color.ax_joint.set_xlabel('Color Excess (c)')\n",
    "stretch_color.ax_joint.set_ylabel(r'Stretch (x$_1$)')\n"
   ]
  },
  {
   "cell_type": "code",
   "execution_count": null,
   "metadata": {},
   "outputs": [],
   "source": [
    "stretch_bmax, cbar = scatter_plot(good_fits.b_max, good_fits.x1, good_fits.c)\n",
    "stretch_bmax.ax_joint.set_xlabel('Peak B band mag')\n",
    "stretch_bmax.ax_joint.set_ylabel(r'Stretch (x$_1$)')\n",
    "cbar.set_xlabel('Color Excess (c)')\n",
    "stretch_bmax.ax_joint.set_xlim(-25, -10)\n"
   ]
  },
  {
   "cell_type": "code",
   "execution_count": null,
   "metadata": {},
   "outputs": [],
   "source": [
    "color_bmax, cbar = scatter_plot(good_fits.b_max, good_fits.c, good_fits.x1)\n",
    "color_bmax.ax_joint.set_xlabel('Peak B band mag')\n",
    "color_bmax.ax_joint.set_ylabel(r'Color Excess (c)')\n",
    "cbar.set_xlabel(r'Stretch (x$_1$)')\n",
    "color_bmax.ax_joint.set_xlim(-25, -10)"
   ]
  },
  {
   "cell_type": "code",
   "execution_count": null,
   "metadata": {},
   "outputs": [],
   "source": [
    "delta15_bmax, cbar = scatter_plot(good_fits.delta_15, good_fits.b_max, good_fits.c)\n",
    "delta15_bmax.ax_joint.set_xlabel(r'$\\Delta$ m(B)')\n",
    "delta15_bmax.ax_joint.set_ylabel('Peak B band mag')\n",
    "delta15_bmax.ax_joint.set_ylim(-21, -14.5)\n",
    "delta15_bmax.ax_joint.invert_yaxis()\n",
    "cbar.set_xlabel('Color Excess (c)')\n"
   ]
  },
  {
   "cell_type": "markdown",
   "metadata": {},
   "source": [
    "## Trends with Classification <a id='with_class'></a>\n",
    "\n",
    "We create a corner plot with subplots similar to the previous section, but include classification data."
   ]
  },
  {
   "cell_type": "code",
   "execution_count": null,
   "metadata": {},
   "outputs": [],
   "source": [
    "def density_estimation(m1, m2):\n",
    "    xmin = ymin = np.min([m1, m2])\n",
    "    xmax = ymax = np.max([m1, m2])\n",
    "    \n",
    "    X, Y = np.mgrid[xmin:xmax:100j, ymin:ymax:100j]                                                     \n",
    "    positions = np.vstack([X.ravel(), Y.ravel()])                                                       \n",
    "    values = np.vstack([m1, m2])                                                                        \n",
    "    kernel = stats.gaussian_kde(values)                                                                 \n",
    "    Z = np.reshape(kernel(positions).T, X.shape)\n",
    "    return X, Y, Z\n",
    "\n",
    "def plot_corner(data, columns, labels, ranges, x_cutoff=0, y_cutoff=0):\n",
    "    \"\"\"Create a corner plot of fit parameters\n",
    "    \n",
    "    Args:\n",
    "        sn91bg (list[str]): List of object IDs for 91bg-like objects\n",
    "        data (Dataframe): The data to use when plotting\n",
    "        columns   (list): The names of the columns to plot\n",
    "        ranges    (list): Plottin limits for each column\n",
    "        class_by   (str): Classify by \"collective\" or \"band\" fits\n",
    "        x_cutoff (float): The x cutoff for bg classifications\n",
    "        y_cutoff (float): The y cutoff for bg classifications\n",
    "        \n",
    "    Returns:\n",
    "        A matplotlib figure\n",
    "    \"\"\"\n",
    "    \n",
    "    # Create initial plot\n",
    "    corner_data = np.array(data[columns].reindex(ia_ids))\n",
    "    fig = corner(\n",
    "        corner_data, \n",
    "        labels=labels, \n",
    "        figsize=(7, 7), \n",
    "        range=ranges,\n",
    "        hist_kwargs={'histtype': 'bar', 'color': 'grey'}, \n",
    "        label_kwargs={'fontsize': 14},\n",
    "        plot_contours=False, \n",
    "        show_titles=True,\n",
    "        plot_density=True,\n",
    "    )\n",
    "\n",
    "    # Isolate plots in lower triangle of figure\n",
    "    num_cols = len(columns)\n",
    "    axes = np.reshape(fig.axes, (num_cols, num_cols))\n",
    "    skip_countors = [(4, 0)]\n",
    "    \n",
    "    # Replace scatter plots withcustom plots\n",
    "    for i, j in zip(*np.tril_indices(num_cols, -1)):\n",
    "        axis = axes[i, j]        \n",
    "        x = data[columns[j]]\n",
    "        y = data[columns[i]]\n",
    "        \n",
    "        label_prefix = '' if (i==1 and j==0) else '_'\n",
    "        # axis.scatter(\n",
    "        #     x.reindex(normal), \n",
    "        #     y.reindex(normal), \n",
    "        #     s=1, \n",
    "        #     color='grey',\n",
    "        #     alpha=.7,\n",
    "        #     label=label_prefix + f'Quadrant 3 (x < {x_cutoff}, y < {y_cutoff})')\n",
    "        \n",
    "        if (i, j) not in skip_countors:\n",
    "            X, Y, Z = density_estimation(\n",
    "                x.loc[x.index.intersection(ia_ids)], \n",
    "                y.loc[y.index.intersection(ia_ids)])\n",
    "            \n",
    "            axis.contour(X, Y, Z, colors='k', alpha=.6)\n",
    "        \n",
    "        axis.scatter(\n",
    "            x.reindex(pec_ids), \n",
    "            y.reindex(pec_ids),\n",
    "            s=15, \n",
    "            marker='^', \n",
    "            color='C0',\n",
    "            label=label_prefix + f'Quadrant 2 (x < {x_cutoff}, y > {y_cutoff})',\n",
    "            zorder=9,\n",
    "            alpha=.4\n",
    "        ) \n",
    "        \n",
    "        axis.scatter(\n",
    "            x.reindex(sn91bg_ids),\n",
    "            y.reindex(sn91bg_ids),\n",
    "            s=15, \n",
    "            marker='s',\n",
    "            color='C1',\n",
    "            label=label_prefix + f'Quadrant 1 (x > {x_cutoff}, y > {y_cutoff})',\n",
    "            zorder=10,\n",
    "            alpha=1\n",
    "        )\n",
    "\n",
    "    # Peak density lines on scatter plots\n",
    "    diagonal_plots = axes[np.diag_indices(num_cols)]\n",
    "    for col_name, axis in zip(columns, diagonal_plots):\n",
    "        col_data = data[col_name]\n",
    "        mean = col_data.mean()\n",
    "        std = col_data.std()\n",
    "\n",
    "        axis.axvline(mean, color='k', alpha=.8, linestyle='--')\n",
    "        axis.axvline(mean + std, color='k', alpha=.8, linestyle=':')\n",
    "        axis.axvline(mean - std, color='k', alpha=.8, linestyle=':')\n",
    "        axis.yaxis.tick_right()\n",
    "        \n",
    "        ymax = 175\n",
    "        ticks = np.arange(0, ymax + 1, 25)\n",
    "        axis.set_yticks(ticks)\n",
    "        \n",
    "        labels = [int(t) for t in ticks]\n",
    "        labels[0] = ''\n",
    "        axis.set_yticklabels(labels)\n",
    "        # axis.yaxis.set_minor_locator(MultipleLocator(5))\n",
    "\n",
    "    plt.subplots_adjust(wspace=.1, hspace=.1)\n",
    "    return fig\n"
   ]
  },
  {
   "cell_type": "code",
   "execution_count": null,
   "metadata": {
    "scrolled": false
   },
   "outputs": [],
   "source": [
    "fig = plot_corner(\n",
    "    data=good_fits,\n",
    "    columns=['x1', 'c', 'max_color', 'b_max', 'delta_15'],\n",
    "    labels=[r'$x_1$', 'c', r'B - V ($t_{max}$)', r'B$_{max}$', r'$\\Delta$ m$_{15}$(B)'],\n",
    "    ranges=((-5, 5), (-.6, .6), (-.5, 1.5), (-17, -21), (0, 2.5)),\n",
    "    x_cutoff=.25,\n",
    "    y_cutoff=.25\n",
    ")\n",
    "\n",
    "fig.legend(loc=(.32, .85))\n",
    "plt.savefig(fig_dir / 'params_corner_plot.pdf')\n"
   ]
  },
  {
   "cell_type": "code",
   "execution_count": null,
   "metadata": {},
   "outputs": [],
   "source": [
    "print('Average 91bg Delta 15:', np.average(combined.loc[sn91bg_ids].delta_15))\n",
    "print('Average Ia Delta 15:', np.average(combined.loc[ia_ids].delta_15.dropna()))\n",
    "print('Average 91bg peak color:', np.average(combined.loc[sn91bg_ids].max_color))\n"
   ]
  },
  {
   "cell_type": "code",
   "execution_count": null,
   "metadata": {},
   "outputs": [],
   "source": []
  }
 ],
 "metadata": {
  "kernelspec": {
   "display_name": "Python [conda env:Photometric-Classification] *",
   "language": "python",
   "name": "conda-env-Photometric-Classification-py"
  },
  "language_info": {
   "codemirror_mode": {
    "name": "ipython",
    "version": 3
   },
   "file_extension": ".py",
   "mimetype": "text/x-python",
   "name": "python",
   "nbconvert_exporter": "python",
   "pygments_lexer": "ipython3",
   "version": "3.7.6"
  }
 },
 "nbformat": 4,
 "nbformat_minor": 2
}
