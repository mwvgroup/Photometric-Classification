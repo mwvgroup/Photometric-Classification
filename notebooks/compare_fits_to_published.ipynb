{
 "cells": [
  {
   "cell_type": "markdown",
   "metadata": {},
   "source": [
    "# Compare fit results to published values\n",
    "\n",
    "This notebook compares fit results from SNCosmo with fit results published SDSS and DES. For this notebook to work for either survey, the analysis pipeline must have been run for that survey.\n",
    "\n",
    "#### Table of Contents:\n",
    "1. <a href='#document_setup'>Document Setup</a>: Download published data, define file paths, and define some functions for plotting / reading data\n",
    "1. <a href='#sdss'>SDSS</a>: Compare fit results for the Sloan Digital Sky Survey\n",
    "1. <a href='#des'>DES</a>: Compare fit results for the Dark Energy Survey\n"
   ]
  },
  {
   "cell_type": "code",
   "execution_count": 1,
   "metadata": {
    "ExecuteTime": {
     "end_time": "2019-01-29T19:57:38.084459Z",
     "start_time": "2019-01-29T19:57:32.663826Z"
    }
   },
   "outputs": [],
   "source": [
    "import sys\n",
    "from pathlib import Path\n",
    "\n",
    "import numpy as np\n",
    "import sncosmo\n",
    "from astropy.table import Column, Table\n",
    "from bokeh.io import output_notebook, show\n",
    "from bokeh.layouts import gridplot\n",
    "from bokeh.models import ColumnDataSource, HoverTool\n",
    "from bokeh.plotting import figure\n",
    "from matplotlib import pyplot as plt\n",
    "from sndata.des import sn3yr\n",
    "from sndata.sdss import sako18\n",
    "\n",
    "sys.path.insert(0, '../')\n",
    "from phot_class import models\n"
   ]
  },
  {
   "cell_type": "markdown",
   "metadata": {},
   "source": [
    "## Document Setup <a id='document_setup'></a>\n",
    "\n",
    "We start by downloading the published data to the local machine and instantiating various light-curve models."
   ]
  },
  {
   "cell_type": "code",
   "execution_count": 2,
   "metadata": {
    "ExecuteTime": {
     "end_time": "2019-01-29T19:57:40.152819Z",
     "start_time": "2019-01-29T19:57:40.140235Z"
    }
   },
   "outputs": [],
   "source": [
    "# Make sure published data is locally available\n",
    "sako18.download_module_data()\n",
    "sn3yr.download_module_data()\n",
    "\n",
    "# Define models\n",
    "models.register_sources(force=True)\n",
    "salt_2_4 = sncosmo.Model(source=sncosmo.get_source('salt2', version='2.4'))\n",
    "salt_2_0 = sncosmo.Model(source=sncosmo.get_source('salt2', version='2.0'))\n",
    "sn_91bg = sncosmo.Model(source=sncosmo.get_source('sn91bg'))\n"
   ]
  },
  {
   "cell_type": "markdown",
   "metadata": {},
   "source": [
    "Next we define necessary file paths alog with a function for reading in data from outputs of the analysis pipeline"
   ]
  },
  {
   "cell_type": "code",
   "execution_count": 3,
   "metadata": {},
   "outputs": [],
   "source": [
    "# Output directory for figures\n",
    "fig_dir = Path('./notebook_figs')\n",
    "fig_dir.mkdir(exist_ok=True, parents=True)\n",
    "\n",
    "# Define the path of results from our analysis pipeline\n",
    "pipeline_out_dir = '../phot_class_results'\n",
    "\n",
    "\n",
    "def read_pipeline_salt2_fits(survey, release, fit_func='simple_fit'):\n",
    "    \"\"\"Return pipeline fit results\n",
    "    \n",
    "    Args:\n",
    "        survey   (str): The name of the survey\n",
    "        release  (str): The name of the survey's data release\n",
    "        fit_func (str): The name of the fit function used by the pipeline\n",
    "\n",
    "    Returns:\n",
    "        A pandas DataFrame\n",
    "    \"\"\"\n",
    "\n",
    "    file_name = f'{survey}_{release}_{fit_func}_fits.ecsv'\n",
    "    inpath = Path(pipeline_out_dir).resolve() / file_name\n",
    "\n",
    "    data = Table.read(inpath)\n",
    "    data['obj_id'] = Column(data['obj_id'], dtype='U100')\n",
    "    data = data.to_pandas()\n",
    "\n",
    "    # Return just the salt2 results fit to all available data\n",
    "    data.set_index(['source', 'band_set', 'obj_id'], inplace=True)\n",
    "    return data.loc['salt2', 'all']\n"
   ]
  },
  {
   "cell_type": "markdown",
   "metadata": {},
   "source": [
    "Since we will be creating the same plots for multiple data sets, we create some generic plotting functions. We create a static version of the plot along with an interactive version."
   ]
  },
  {
   "cell_type": "code",
   "execution_count": 4,
   "metadata": {
    "ExecuteTime": {
     "end_time": "2019-01-29T19:57:42.584067Z",
     "start_time": "2019-01-29T19:57:42.391266Z"
    }
   },
   "outputs": [
    {
     "data": {
      "text/html": [
       "\n",
       "    <div class=\"bk-root\">\n",
       "        <a href=\"https://bokeh.pydata.org\" target=\"_blank\" class=\"bk-logo bk-logo-small bk-logo-notebook\"></a>\n",
       "        <span id=\"1001\">Loading BokehJS ...</span>\n",
       "    </div>"
      ]
     },
     "metadata": {},
     "output_type": "execute_result"
    },
    {
     "data": {},
     "metadata": {},
     "output_type": "display_data"
    }
   ],
   "source": [
    "# Set up bokeh plotting\n",
    "output_notebook()\n",
    "_basic_tools = \"save,pan,box_zoom,reset,wheel_zoom\".split(',')\n",
    "\n",
    "\n",
    "def create_static_figure(fit_data):\n",
    "    \"\"\"Return a matplotlib figure comparing 't0', 'x0', 'x1', 'c', and chisq\n",
    "    of the published and pipeline fit values.\n",
    "    \n",
    "    Published values should be in columns with the above mentioned parameter\n",
    "    names. Pipeline values should be columns with the same name plus a \"_pipe\"\n",
    "    suffix.\n",
    "    \n",
    "    Args:\n",
    "        fit_data (DataFrame): The data to plot\n",
    "        \n",
    "    Returns:\n",
    "         A matplotlib figure object\n",
    "    \"\"\"\n",
    "\n",
    "    fig, axes = plt.subplots(2, 3, figsize=(18, 12))\n",
    "\n",
    "    # Start by plotting parameter values (things that have errors)\n",
    "    for axis, value in zip(axes.flatten(), ['t0', 'x0', 'x1', 'c']):\n",
    "        axis.set_title(value)\n",
    "\n",
    "        # Plot a reference line at y = x\n",
    "        line_start = np.min([fit_data[f'{value}'], fit_data[f'{value}_pipe']])\n",
    "        line_end = np.max([fit_data[f'{value}'], fit_data[f'{value}_pipe']])\n",
    "        line = [line_start, line_end]\n",
    "        axis.plot(line, line, linestyle='--', color='grey', alpha=.7)\n",
    "\n",
    "        axis.errorbar(fit_data[f'{value}'],\n",
    "                      fit_data[f'{value}_pipe'],\n",
    "                      xerr=fit_data[f'{value}_err'],\n",
    "                      yerr=fit_data[f'{value}_err_pipe'],\n",
    "                      linestyle='',\n",
    "                      alpha=.3)\n",
    "\n",
    "        axis.scatter(fit_data[f'{value}'],\n",
    "                     fit_data[f'{value}_pipe'],\n",
    "                     alpha=.3,\n",
    "                     s=5)\n",
    "\n",
    "        axis.set_xlim(*line)\n",
    "        axis.set_ylim(*line)\n",
    "\n",
    "    # Now plot the stuff without errors\n",
    "    axes[1, 1].scatter(fit_data[f'chisq'], fit_data['chisq_pipe'], alpha=.3,\n",
    "                       s=10)\n",
    "    axes[1, 1].set_title('chisq')\n",
    "\n",
    "    reduced_chisq_survey = (fit_data[f'chisq'] / fit_data[f'ndof'])\n",
    "    reduced_chisq_pipeline = fit_data['chisq_pipe'] / fit_data['ndof_pipe']\n",
    "    axes[1, 2].scatter(reduced_chisq_survey, reduced_chisq_pipeline, alpha=.3,\n",
    "                       s=10)\n",
    "    axes[1, 1].set_title('chisq_norm')\n",
    "\n",
    "    axes[0, 0].set_ylabel('Pipeline Fit')\n",
    "    axes[1, 0].set_xlabel('Published Value')\n",
    "    axes[1, 0].set_ylabel('Pipeline Fit')\n",
    "    axes[1, 1].set_xlabel('Published Value')\n",
    "    axes[1, 2].set_xlabel('Published Value')\n",
    "    return axes\n",
    "\n",
    "\n",
    "def create_interactive_figure(fit_data):\n",
    "    \"\"\"Return a bokeh figure comparing 't0', 'x0', 'x1', 'c', and chisq\n",
    "    of the published and pipeline fit values.\n",
    "    \n",
    "    Published values should be in columns with the above mentioned parameter\n",
    "    names. Pipeline values should be columns with the same name plus a \"_pipe\"\n",
    "    suffix.\n",
    "    \n",
    "    Args:\n",
    "        fit_data (DataFrame): The data to plot\n",
    "        \n",
    "    Returns:\n",
    "         A bokeh figure object\n",
    "    \"\"\"\n",
    "\n",
    "    data_dict = fit_data.copy()\n",
    "    data_dict['chisq_norm'] = (data_dict['chisq'] / data_dict['ndof'])\n",
    "    data_dict[f'chisq_norm_pipe'] = (\n",
    "            data_dict[f'chisq_pipe'] /\n",
    "            data_dict[f'ndof_pipe']\n",
    "    )\n",
    "\n",
    "    source = ColumnDataSource(data=data_dict)\n",
    "    hover = HoverTool(tooltips=[\n",
    "        (\"obj_id\", \"@obj_id\"),\n",
    "        (\"class\", \"@class\"),\n",
    "        (\"z\", \"@z\"),\n",
    "        ('z_fit', '@fit_z'),\n",
    "        ('chisq', '@chisq'),\n",
    "        ('ndof', '@ndof'),\n",
    "    ])\n",
    "\n",
    "    figures = []\n",
    "    for value in ('x0', 'x1', 'c', 'chisq'):\n",
    "        x_key, y_key = f'{value}', f'{value}_pipe'\n",
    "        fig = figure(\n",
    "            tools=_basic_tools + [hover, 'box_select', 'lasso_select'],\n",
    "            title=value)\n",
    "\n",
    "        fig.circle(x_key, y_key, source=source, size=4, alpha=.5)\n",
    "        fig.line([min(data_dict[x_key]), max(data_dict[x_key])],\n",
    "                 [min(data_dict[x_key]), max(data_dict[x_key])],\n",
    "                 line_width=2)\n",
    "\n",
    "        fig.xaxis.axis_label = 'Published Value'\n",
    "        fig.yaxis.axis_label = 'SNCosmo Fit ugriz'\n",
    "        figures.append(fig)\n",
    "\n",
    "    return gridplot(figures, ncols=2, plot_width=350, plot_height=350)\n"
   ]
  },
  {
   "cell_type": "markdown",
   "metadata": {},
   "source": [
    "## SDSS <a id='sdss'></a>\n",
    "\n",
    "We read in published fit results for SDSS from the `\"master\"` table of the Sako et al. 2018 data release. We then join this data with results from the analysis pipeline."
   ]
  },
  {
   "cell_type": "code",
   "execution_count": 5,
   "metadata": {
    "ExecuteTime": {
     "end_time": "2019-01-29T19:57:51.595792Z",
     "start_time": "2019-01-29T19:57:48.230607Z"
    },
    "scrolled": false
   },
   "outputs": [
    {
     "name": "stderr",
     "output_type": "stream",
     "text": [
      "/anaconda3/envs/sdss_class/lib/python3.7/site-packages/IPython/core/interactiveshell.py:3326: TableReplaceWarning: converted column 'ndofSALT2zspec' from integer to float\n",
      "  exec(code_obj, self.user_global_ns, self.user_ns)\n"
     ]
    },
    {
     "ename": "FileNotFoundError",
     "evalue": "[Errno 2] No such file or directory: '/Users/daniel/Github/SDSS-Classification/phot_class_results/sdss_sako18_simple_fit_fits.ecsv'",
     "traceback": [
      "\u001b[0;31m---------------------------------------------------------------------------\u001b[0m",
      "\u001b[0;31mFileNotFoundError\u001b[0m                         Traceback (most recent call last)",
      "\u001b[0;32m<ipython-input-5-ce0fbc2bacb0>\u001b[0m in \u001b[0;36m<module>\u001b[0;34m\u001b[0m\n\u001b[1;32m     32\u001b[0m \u001b[0;34m\u001b[0m\u001b[0m\n\u001b[1;32m     33\u001b[0m \u001b[0;31m# Read in fit results from the pipeline\u001b[0m\u001b[0;34m\u001b[0m\u001b[0;34m\u001b[0m\u001b[0;34m\u001b[0m\u001b[0m\n\u001b[0;32m---> 34\u001b[0;31m \u001b[0msdss_pipeline\u001b[0m \u001b[0;34m=\u001b[0m \u001b[0mread_pipeline_salt2_fits\u001b[0m\u001b[0;34m(\u001b[0m\u001b[0;34m'sdss'\u001b[0m\u001b[0;34m,\u001b[0m \u001b[0;34m'sako18'\u001b[0m\u001b[0;34m)\u001b[0m\u001b[0;34m\u001b[0m\u001b[0;34m\u001b[0m\u001b[0m\n\u001b[0m\u001b[1;32m     35\u001b[0m \u001b[0msdss_pipeline\u001b[0m\u001b[0;34m.\u001b[0m\u001b[0mdropna\u001b[0m\u001b[0;34m(\u001b[0m\u001b[0minplace\u001b[0m\u001b[0;34m=\u001b[0m\u001b[0;32mTrue\u001b[0m\u001b[0;34m)\u001b[0m\u001b[0;34m\u001b[0m\u001b[0;34m\u001b[0m\u001b[0m\n\u001b[1;32m     36\u001b[0m \u001b[0;34m\u001b[0m\u001b[0m\n",
      "\u001b[0;32m<ipython-input-3-6f7b2df42227>\u001b[0m in \u001b[0;36mread_pipeline_salt2_fits\u001b[0;34m(survey, release, fit_func)\u001b[0m\n\u001b[1;32m     22\u001b[0m     \u001b[0minpath\u001b[0m \u001b[0;34m=\u001b[0m \u001b[0mPath\u001b[0m\u001b[0;34m(\u001b[0m\u001b[0mpipeline_out_dir\u001b[0m\u001b[0;34m)\u001b[0m\u001b[0;34m.\u001b[0m\u001b[0mresolve\u001b[0m\u001b[0;34m(\u001b[0m\u001b[0;34m)\u001b[0m \u001b[0;34m/\u001b[0m \u001b[0mfile_name\u001b[0m\u001b[0;34m\u001b[0m\u001b[0;34m\u001b[0m\u001b[0m\n\u001b[1;32m     23\u001b[0m \u001b[0;34m\u001b[0m\u001b[0m\n\u001b[0;32m---> 24\u001b[0;31m     \u001b[0mdata\u001b[0m \u001b[0;34m=\u001b[0m \u001b[0mTable\u001b[0m\u001b[0;34m.\u001b[0m\u001b[0mread\u001b[0m\u001b[0;34m(\u001b[0m\u001b[0minpath\u001b[0m\u001b[0;34m)\u001b[0m\u001b[0;34m\u001b[0m\u001b[0;34m\u001b[0m\u001b[0m\n\u001b[0m\u001b[1;32m     25\u001b[0m     \u001b[0mdata\u001b[0m\u001b[0;34m[\u001b[0m\u001b[0;34m'obj_id'\u001b[0m\u001b[0;34m]\u001b[0m \u001b[0;34m=\u001b[0m \u001b[0mColumn\u001b[0m\u001b[0;34m(\u001b[0m\u001b[0mdata\u001b[0m\u001b[0;34m[\u001b[0m\u001b[0;34m'obj_id'\u001b[0m\u001b[0;34m]\u001b[0m\u001b[0;34m,\u001b[0m \u001b[0mdtype\u001b[0m\u001b[0;34m=\u001b[0m\u001b[0;34m'U100'\u001b[0m\u001b[0;34m)\u001b[0m\u001b[0;34m\u001b[0m\u001b[0;34m\u001b[0m\u001b[0m\n\u001b[1;32m     26\u001b[0m     \u001b[0mdata\u001b[0m \u001b[0;34m=\u001b[0m \u001b[0mdata\u001b[0m\u001b[0;34m.\u001b[0m\u001b[0mto_pandas\u001b[0m\u001b[0;34m(\u001b[0m\u001b[0;34m)\u001b[0m\u001b[0;34m\u001b[0m\u001b[0;34m\u001b[0m\u001b[0m\n",
      "\u001b[0;32m/anaconda3/envs/sdss_class/lib/python3.7/site-packages/astropy/table/connect.py\u001b[0m in \u001b[0;36m__call__\u001b[0;34m(self, *args, **kwargs)\u001b[0m\n\u001b[1;32m     50\u001b[0m     \u001b[0;32mdef\u001b[0m \u001b[0m__call__\u001b[0m\u001b[0;34m(\u001b[0m\u001b[0mself\u001b[0m\u001b[0;34m,\u001b[0m \u001b[0;34m*\u001b[0m\u001b[0margs\u001b[0m\u001b[0;34m,\u001b[0m \u001b[0;34m**\u001b[0m\u001b[0mkwargs\u001b[0m\u001b[0;34m)\u001b[0m\u001b[0;34m:\u001b[0m\u001b[0;34m\u001b[0m\u001b[0;34m\u001b[0m\u001b[0m\n\u001b[1;32m     51\u001b[0m         \u001b[0mcls\u001b[0m \u001b[0;34m=\u001b[0m \u001b[0mself\u001b[0m\u001b[0;34m.\u001b[0m\u001b[0m_cls\u001b[0m\u001b[0;34m\u001b[0m\u001b[0;34m\u001b[0m\u001b[0m\n\u001b[0;32m---> 52\u001b[0;31m         \u001b[0mout\u001b[0m \u001b[0;34m=\u001b[0m \u001b[0mregistry\u001b[0m\u001b[0;34m.\u001b[0m\u001b[0mread\u001b[0m\u001b[0;34m(\u001b[0m\u001b[0mcls\u001b[0m\u001b[0;34m,\u001b[0m \u001b[0;34m*\u001b[0m\u001b[0margs\u001b[0m\u001b[0;34m,\u001b[0m \u001b[0;34m**\u001b[0m\u001b[0mkwargs\u001b[0m\u001b[0;34m)\u001b[0m\u001b[0;34m\u001b[0m\u001b[0;34m\u001b[0m\u001b[0m\n\u001b[0m\u001b[1;32m     53\u001b[0m \u001b[0;34m\u001b[0m\u001b[0m\n\u001b[1;32m     54\u001b[0m         \u001b[0;31m# For some readers (e.g., ascii.ecsv), the returned `out` class is not\u001b[0m\u001b[0;34m\u001b[0m\u001b[0;34m\u001b[0m\u001b[0;34m\u001b[0m\u001b[0m\n",
      "\u001b[0;32m/anaconda3/envs/sdss_class/lib/python3.7/site-packages/astropy/io/registry.py\u001b[0m in \u001b[0;36mread\u001b[0;34m(cls, format, *args, **kwargs)\u001b[0m\n\u001b[1;32m    506\u001b[0m                     \u001b[0;32mtry\u001b[0m\u001b[0;34m:\u001b[0m\u001b[0;34m\u001b[0m\u001b[0;34m\u001b[0m\u001b[0m\n\u001b[1;32m    507\u001b[0m                         \u001b[0mctx\u001b[0m \u001b[0;34m=\u001b[0m \u001b[0mget_readable_fileobj\u001b[0m\u001b[0;34m(\u001b[0m\u001b[0margs\u001b[0m\u001b[0;34m[\u001b[0m\u001b[0;36m0\u001b[0m\u001b[0;34m]\u001b[0m\u001b[0;34m,\u001b[0m \u001b[0mencoding\u001b[0m\u001b[0;34m=\u001b[0m\u001b[0;34m'binary'\u001b[0m\u001b[0;34m)\u001b[0m\u001b[0;34m\u001b[0m\u001b[0;34m\u001b[0m\u001b[0m\n\u001b[0;32m--> 508\u001b[0;31m                         \u001b[0mfileobj\u001b[0m \u001b[0;34m=\u001b[0m \u001b[0mctx\u001b[0m\u001b[0;34m.\u001b[0m\u001b[0m__enter__\u001b[0m\u001b[0;34m(\u001b[0m\u001b[0;34m)\u001b[0m\u001b[0;34m\u001b[0m\u001b[0;34m\u001b[0m\u001b[0m\n\u001b[0m\u001b[1;32m    509\u001b[0m                     \u001b[0;32mexcept\u001b[0m \u001b[0mOSError\u001b[0m\u001b[0;34m:\u001b[0m\u001b[0;34m\u001b[0m\u001b[0;34m\u001b[0m\u001b[0m\n\u001b[1;32m    510\u001b[0m                         \u001b[0;32mraise\u001b[0m\u001b[0;34m\u001b[0m\u001b[0;34m\u001b[0m\u001b[0m\n",
      "\u001b[0;32m/anaconda3/envs/sdss_class/lib/python3.7/contextlib.py\u001b[0m in \u001b[0;36m__enter__\u001b[0;34m(self)\u001b[0m\n\u001b[1;32m    110\u001b[0m         \u001b[0;32mdel\u001b[0m \u001b[0mself\u001b[0m\u001b[0;34m.\u001b[0m\u001b[0margs\u001b[0m\u001b[0;34m,\u001b[0m \u001b[0mself\u001b[0m\u001b[0;34m.\u001b[0m\u001b[0mkwds\u001b[0m\u001b[0;34m,\u001b[0m \u001b[0mself\u001b[0m\u001b[0;34m.\u001b[0m\u001b[0mfunc\u001b[0m\u001b[0;34m\u001b[0m\u001b[0;34m\u001b[0m\u001b[0m\n\u001b[1;32m    111\u001b[0m         \u001b[0;32mtry\u001b[0m\u001b[0;34m:\u001b[0m\u001b[0;34m\u001b[0m\u001b[0;34m\u001b[0m\u001b[0m\n\u001b[0;32m--> 112\u001b[0;31m             \u001b[0;32mreturn\u001b[0m \u001b[0mnext\u001b[0m\u001b[0;34m(\u001b[0m\u001b[0mself\u001b[0m\u001b[0;34m.\u001b[0m\u001b[0mgen\u001b[0m\u001b[0;34m)\u001b[0m\u001b[0;34m\u001b[0m\u001b[0;34m\u001b[0m\u001b[0m\n\u001b[0m\u001b[1;32m    113\u001b[0m         \u001b[0;32mexcept\u001b[0m \u001b[0mStopIteration\u001b[0m\u001b[0;34m:\u001b[0m\u001b[0;34m\u001b[0m\u001b[0;34m\u001b[0m\u001b[0m\n\u001b[1;32m    114\u001b[0m             \u001b[0;32mraise\u001b[0m \u001b[0mRuntimeError\u001b[0m\u001b[0;34m(\u001b[0m\u001b[0;34m\"generator didn't yield\"\u001b[0m\u001b[0;34m)\u001b[0m \u001b[0;32mfrom\u001b[0m \u001b[0;32mNone\u001b[0m\u001b[0;34m\u001b[0m\u001b[0;34m\u001b[0m\u001b[0m\n",
      "\u001b[0;32m/anaconda3/envs/sdss_class/lib/python3.7/site-packages/astropy/utils/data.py\u001b[0m in \u001b[0;36mget_readable_fileobj\u001b[0;34m(name_or_obj, encoding, cache, show_progress, remote_timeout)\u001b[0m\n\u001b[1;32m    191\u001b[0m                 \u001b[0mname_or_obj\u001b[0m\u001b[0;34m,\u001b[0m \u001b[0mcache\u001b[0m\u001b[0;34m=\u001b[0m\u001b[0mcache\u001b[0m\u001b[0;34m,\u001b[0m \u001b[0mshow_progress\u001b[0m\u001b[0;34m=\u001b[0m\u001b[0mshow_progress\u001b[0m\u001b[0;34m,\u001b[0m\u001b[0;34m\u001b[0m\u001b[0;34m\u001b[0m\u001b[0m\n\u001b[1;32m    192\u001b[0m                 timeout=remote_timeout)\n\u001b[0;32m--> 193\u001b[0;31m         \u001b[0mfileobj\u001b[0m \u001b[0;34m=\u001b[0m \u001b[0mio\u001b[0m\u001b[0;34m.\u001b[0m\u001b[0mFileIO\u001b[0m\u001b[0;34m(\u001b[0m\u001b[0mname_or_obj\u001b[0m\u001b[0;34m,\u001b[0m \u001b[0;34m'r'\u001b[0m\u001b[0;34m)\u001b[0m\u001b[0;34m\u001b[0m\u001b[0;34m\u001b[0m\u001b[0m\n\u001b[0m\u001b[1;32m    194\u001b[0m         \u001b[0;32mif\u001b[0m \u001b[0mis_url\u001b[0m \u001b[0;32mand\u001b[0m \u001b[0;32mnot\u001b[0m \u001b[0mcache\u001b[0m\u001b[0;34m:\u001b[0m\u001b[0;34m\u001b[0m\u001b[0;34m\u001b[0m\u001b[0m\n\u001b[1;32m    195\u001b[0m             \u001b[0mdelete_fds\u001b[0m\u001b[0;34m.\u001b[0m\u001b[0mappend\u001b[0m\u001b[0;34m(\u001b[0m\u001b[0mfileobj\u001b[0m\u001b[0;34m)\u001b[0m\u001b[0;34m\u001b[0m\u001b[0;34m\u001b[0m\u001b[0m\n",
      "\u001b[0;31mFileNotFoundError\u001b[0m: [Errno 2] No such file or directory: '/Users/daniel/Github/SDSS-Classification/phot_class_results/sdss_sako18_simple_fit_fits.ecsv'"
     ],
     "output_type": "error"
    }
   ],
   "source": [
    "# Get SDSS published data\n",
    "master_table = sako18.load_table('master')\n",
    "sdss_published = master_table[\n",
    "    'CID',\n",
    "    'PeakMJDSALT2zspec',\n",
    "    'PeakMJDderrSALT2zspec',\n",
    "    'x0SALT2zspec',\n",
    "    'x0errSALT2zspec',\n",
    "    'x1SALT2zspec',\n",
    "    'x1errSALT2zspec',\n",
    "    'cSALT2zspec',\n",
    "    'cerrSALT2zspec',\n",
    "    'chi2SALT2zspec',\n",
    "    'ndofSALT2zspec'\n",
    "]\n",
    "\n",
    "# Convert to pandas and rename for consistency\n",
    "sdss_published = sdss_published.to_pandas()\n",
    "sdss_published.dropna(inplace=True)\n",
    "sdss_published.rename(index=str, inplace=True, columns={\n",
    "    'CID': 'obj_id',\n",
    "    'PeakMJDSALT2zspec': 't0',\n",
    "    'PeakMJDderrSALT2zspec': 't0_err',\n",
    "    'x0SALT2zspec': 'x0',\n",
    "    'x0errSALT2zspec': 'x0_err',\n",
    "    'x1SALT2zspec': 'x1',\n",
    "    'x1errSALT2zspec': 'x1_err',\n",
    "    'cSALT2zspec': 'c',\n",
    "    'cerrSALT2zspec': 'c_err',\n",
    "    'chi2SALT2zspec': 'chisq',\n",
    "    'ndofSALT2zspec': 'ndof'})\n",
    "\n",
    "# Read in fit results from the pipeline\n",
    "sdss_pipeline = read_pipeline_salt2_fits('sdss', 'sako18')\n",
    "sdss_pipeline.dropna(inplace=True)\n",
    "\n",
    "# Join the two data frames together\n",
    "sdss_published.set_index('obj_id', inplace=True)\n",
    "sdss_combined = sdss_published.join(sdss_pipeline, rsuffix='_pipe')\n",
    "sdss_combined.dropna(inplace=True)\n",
    "sdss_combined.head()\n"
   ]
  },
  {
   "cell_type": "code",
   "execution_count": null,
   "metadata": {
    "ExecuteTime": {
     "end_time": "2019-01-29T19:57:54.414872Z",
     "start_time": "2019-01-29T19:57:51.599854Z"
    },
    "scrolled": false
   },
   "outputs": [],
   "source": [
    "plot_axes = create_static_figure(sdss_combined)\n",
    "plt.savefig(fig_dir / 'sdss_compare_published.pdf')\n",
    "plt.show()\n"
   ]
  },
  {
   "cell_type": "code",
   "execution_count": null,
   "metadata": {
    "scrolled": false
   },
   "outputs": [],
   "source": [
    "plot_grid = create_interactive_figure(sdss_combined)\n",
    "show(plot_grid)\n"
   ]
  },
  {
   "cell_type": "markdown",
   "metadata": {},
   "source": [
    "Note the disagreement of the `x0` values. Having no explanation for this disagreement, we settle on characterizing the slope of the relationship and move on."
   ]
  },
  {
   "cell_type": "code",
   "execution_count": null,
   "metadata": {},
   "outputs": [],
   "source": [
    "x = sdss_combined['x0']\n",
    "y = sdss_combined['x0_pipe']\n",
    "np.polyfit(x, y, 1)\n"
   ]
  },
  {
   "cell_type": "markdown",
   "metadata": {},
   "source": [
    "## DES <a id='des'></a>"
   ]
  },
  {
   "cell_type": "code",
   "execution_count": null,
   "metadata": {
    "scrolled": false
   },
   "outputs": [],
   "source": [
    "# Get DES published data\n",
    "des_published = sn3yr.load_table('SALT2mu_DES+LOWZ_C11.FITRES')[\n",
    "    'CIDint',\n",
    "    'PKMJD',\n",
    "    'PKMJDERR',\n",
    "    'x0',\n",
    "    'x0ERR',\n",
    "    'x1',\n",
    "    'x1ERR',\n",
    "    'c',\n",
    "    'cERR',\n",
    "    'FITCHI2',\n",
    "    'NDOF'\n",
    "]\n",
    "\n",
    "# Convert object ids to a uniform length\n",
    "des_published['obj_id'] = [f'{cid:08}' for cid in des_published['CIDint']]\n",
    "des_published.remove_column('CIDint')\n",
    "\n",
    "# Convert published t0 from MJD to JD\n",
    "des_published['PKMJD'] += 2400000.5\n",
    "\n",
    "# Rename columns to match pipeline naming convention\n",
    "des_published = des_published.to_pandas()\n",
    "des_published.rename(index=str, inplace=True, columns={\n",
    "    'CIDint': 'obj_id',\n",
    "    'PKMJD': 't0',\n",
    "    'PKMJDERR': 't0_err',\n",
    "    'x0': 'x0',\n",
    "    'x0ERR': 'x0_err',\n",
    "    'x1': 'x1',\n",
    "    'x1ERR': 'x1_err',\n",
    "    'c': 'c',\n",
    "    'cERR': 'c_err',\n",
    "    'FITCHI2': 'chisq',\n",
    "    'NDOF': 'ndof'})\n",
    "\n",
    "des_published.set_index('obj_id', inplace=True)\n",
    "\n",
    "# Join the published and pipeline results into a single data frame\n",
    "des_pipeline = read_pipeline_salt2_fits('des', 'sn3yr')\n",
    "combined_des = des_published.join(des_pipeline, rsuffix='_pipe')\n",
    "combined_des.dropna(inplace=True)\n"
   ]
  },
  {
   "cell_type": "code",
   "execution_count": null,
   "metadata": {
    "scrolled": false
   },
   "outputs": [],
   "source": [
    "plot_axes = create_static_figure(combined_des)\n",
    "plt.savefig(fig_dir / 'des_compare_published.pdf')\n",
    "plt.tight_layout()\n",
    "plt.show()\n"
   ]
  },
  {
   "cell_type": "code",
   "execution_count": null,
   "metadata": {},
   "outputs": [],
   "source": [
    "plot_grid = create_interactive_figure(combined_des)\n",
    "show(plot_grid)\n"
   ]
  },
  {
   "cell_type": "code",
   "execution_count": null,
   "metadata": {},
   "outputs": [],
   "source": []
  }
 ],
 "metadata": {
  "kernelspec": {
   "display_name": "Python [conda env:sdss_class] *",
   "language": "python",
   "name": "conda-env-sdss_class-py"
  },
  "language_info": {
   "codemirror_mode": {
    "name": "ipython",
    "version": 3
   },
   "file_extension": ".py",
   "mimetype": "text/x-python",
   "name": "python",
   "nbconvert_exporter": "python",
   "pygments_lexer": "ipython3",
   "version": "3.7.4"
  }
 },
 "nbformat": 4,
 "nbformat_minor": 2
}
