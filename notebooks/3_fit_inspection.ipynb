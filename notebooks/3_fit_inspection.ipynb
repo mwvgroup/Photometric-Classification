{
 "cells": [
  {
   "cell_type": "markdown",
   "metadata": {},
   "source": [
    "# Fit Inspection\n",
    "\n",
    "This notebook inspects fit results and allows the reader to manually specify new priors for any bad fits. It is important to note that manually specifying new priors will **NOT** update the fit results saved to file. New fit results can only be tabulated by re-running the analysis piepline.\n"
   ]
  },
  {
   "cell_type": "code",
   "execution_count": null,
   "metadata": {},
   "outputs": [],
   "source": [
    "import sys\n",
    "from copy import deepcopy\n",
    "\n",
    "import pandas as pd\n",
    "import sncosmo\n",
    "from astropy.table import Column, Table, unique\n",
    "from matplotlib import pyplot as plt\n",
    "from sndata.csp import dr3\n",
    "from sndata.des import sn3yr\n",
    "from sndata.sdss import sako18\n",
    "\n",
    "sys.path.insert(0, '../')\n",
    "from analysis_pipeline import get_priors, get_fit_results, save_priors\n",
    "from analysis_pipeline.lc_fitting import split_data, fit_lc\n",
    "from analysis_pipeline.models import register_sources\n",
    "\n",
    "register_sources(force=True)\n"
   ]
  },
  {
   "cell_type": "markdown",
   "metadata": {},
   "source": [
    "We first ensure that data is available on the local machine and the the filters for each survey are registered with SNComso."
   ]
  },
  {
   "cell_type": "code",
   "execution_count": null,
   "metadata": {},
   "outputs": [],
   "source": [
    "# Download data and register SNCosmo filters\n",
    "for data in (dr3, sn3yr, sako18):\n",
    "    data.download_module_data()\n",
    "    data.register_filters(force=True)\n",
    "\n",
    "# Define models\n",
    "salt2_4 = sncosmo.Model('salt2')\n",
    "sn91bg_p = sncosmo.Model(source=sncosmo.get_source('sn91bg', version='salt2_phase'))\n",
    "sn91bg_c = sncosmo.Model(source=sncosmo.get_source('sn91bg', version='color_interpolation'))\n"
   ]
  },
  {
   "cell_type": "markdown",
   "metadata": {},
   "source": [
    "Next we define a function for viewing fit results."
   ]
  },
  {
   "cell_type": "code",
   "execution_count": null,
   "metadata": {},
   "outputs": [],
   "source": [
    "def plot_lightcurves(obj_id, module, model, fit_results):\n",
    "    \"\"\"Plot a light curve\n",
    "    \n",
    "    Args:\n",
    "        obj_id           (str): Survey specific object id\n",
    "        module       (module): SNData submodule for a survey's data release\n",
    "        model          (Model): The model to plot\n",
    "        results_df (DataFrame): Pipeline fit results\n",
    "    \"\"\"\n",
    "\n",
    "    data = [module.get_data_for_id(obj_id, format_sncosmo=True)]\n",
    "    data += split_data(data[0], module.band_names, module.lambda_effective)\n",
    "    for data_table, df in zip(data, fit_results):\n",
    "        fit_results = df.loc[obj_id]\n",
    "\n",
    "        model = deepcopy(model)\n",
    "        params = {p: fit_results[p] for p in model.param_names}\n",
    "        model.update(params)\n",
    "\n",
    "        sncosmo.plot_lc(data_table, model)\n",
    "        plt.show()\n"
   ]
  },
  {
   "cell_type": "markdown",
   "metadata": {},
   "source": [
    "## Inspecting fit results"
   ]
  },
  {
   "cell_type": "markdown",
   "metadata": {},
   "source": [
    "We specify the data module, light-curve model, and number of parameters we wish to inspect fits for. Using that information we build an iterator of object id values. To optionally skip ahead and start inspecting at a given object ID, specify the `start_at_id` variable. "
   ]
  },
  {
   "cell_type": "code",
   "execution_count": null,
   "metadata": {},
   "outputs": [],
   "source": [
    "# Specify values in this code block\n",
    "module_to_inspect = dr3\n",
    "start_at_id = None\n",
    "model_to_inspect = sn91bg_c\n",
    "params_to_inspect = 4\n",
    "\n",
    "# Read in data and build iterator of object ids\n",
    "priors = get_priors(module_to_inspect, model_to_inspect)\n",
    "fits = get_fit_results(module_to_inspect, model_to_inspect, params_to_inspect)\n",
    "ids = module_to_inspect.get_available_ids()\n",
    "if start_at_id:\n",
    "    ids = ids[ids.index(start_at_id):]\n",
    "\n",
    "ids = iter(ids)\n"
   ]
  },
  {
   "cell_type": "markdown",
   "metadata": {},
   "source": [
    "The following cell retrieves the next ID value and plots the the current fit results. If the fits look good, rerun the cell and move on to the next object. Otherwise, continue on to the following cells below."
   ]
  },
  {
   "cell_type": "code",
   "execution_count": null,
   "metadata": {
    "scrolled": false
   },
   "outputs": [],
   "source": [
    "# Plot fits\n",
    "current_id = next(ids)\n",
    "print(f'Inspecting {current_id}')\n",
    "plot_lightcurves(current_id, module_to_inspect, model_to_inspect, fits)\n"
   ]
  },
  {
   "cell_type": "markdown",
   "metadata": {},
   "source": [
    "Take note of the priors used in the fit."
   ]
  },
  {
   "cell_type": "code",
   "execution_count": null,
   "metadata": {},
   "outputs": [],
   "source": [
    "# Print priors\n",
    "priors_this = priors.loc[current_id]\n",
    "priors_dict = dict(priors_this)\n",
    "print(priors_this)\n"
   ]
  },
  {
   "cell_type": "markdown",
   "metadata": {},
   "source": [
    "Next we pick the portion of the light curve that was fit poorly, update the priors, and look at the new fit results."
   ]
  },
  {
   "cell_type": "code",
   "execution_count": null,
   "metadata": {},
   "outputs": [],
   "source": [
    "data_to_fit = 'all'  # 'all', 'blue', or 'red'\n",
    "\n",
    "# Modify any values as you see fit:\n",
    "#priors_dict['t0_min'] = 1000\n",
    "#priors_dict['t0_max'] = 1010\n",
    "#priors_dict['c_max'] = 245\n"
   ]
  },
  {
   "cell_type": "code",
   "execution_count": null,
   "metadata": {},
   "outputs": [],
   "source": [
    "# This cell reruns fits with the new priors and plots the results.\n",
    "# There is no need to edit this cell.\n",
    "\n",
    "# Get the specified bands of the lightcurve\n",
    "data = module_to_inspect.get_data_for_id(current_id, format_sncosmo=True)\n",
    "blue, red = split_data(\n",
    "    data,\n",
    "    module_to_inspect.band_names, \n",
    "    module_to_inspect.lambda_effective)\n",
    "\n",
    "data = {'all': data, 'blue': blue, 'red': red}[data_to_fit]\n",
    "\n",
    "# Set initial values in model\n",
    "model_this = deepcopy(model_to_inspect)\n",
    "vparams = model_to_inspect.param_names[5 - params_to_inspect:]\n",
    "model_this.update({p: priors_dict[p] for p in vparams})\n",
    "if 'z' not in vparams:\n",
    "    model_this.set(z=data.meta['redshift'])\n",
    "\n",
    "# Specify fitting bounds\n",
    "bounds = None\n",
    "bounds = {p: (priors_dict[f'{p}_min'], priors_dict[f'{p}_max']) for p in model_to_inspect.param_names}\n",
    "\n",
    "fit_results = fit_lc(data, model_this, vparams, bounds=bounds)\n",
    "z =  fit_results[2]\n",
    "t0 = fit_results[3]\n",
    "x0 = fit_results[4]\n",
    "x1 = fit_results[5]\n",
    "c = fit_results[6]\n",
    "model_this.set(z=z, t0=t0, x0=x0, x1=x1, c=c)\n",
    "\n",
    "sncosmo.plot_lc(data, model_this)\n",
    "plt.show()\n",
    "print(priors_dict)\n"
   ]
  },
  {
   "cell_type": "markdown",
   "metadata": {},
   "source": [
    "If the new fits look good (enough), save the priors to file."
   ]
  },
  {
   "cell_type": "code",
   "execution_count": null,
   "metadata": {},
   "outputs": [],
   "source": [
    "save_priors(current_id, module_to_inspect, model_to_inspect, priors_dict, \"Increased t0_min\")"
   ]
  },
  {
   "cell_type": "code",
   "execution_count": null,
   "metadata": {},
   "outputs": [],
   "source": []
  }
 ],
 "metadata": {
  "kernelspec": {
   "display_name": "Python [conda env:sdss_class] *",
   "language": "python",
   "name": "conda-env-sdss_class-py"
  },
  "language_info": {
   "codemirror_mode": {
    "name": "ipython",
    "version": 3
   },
   "file_extension": ".py",
   "mimetype": "text/x-python",
   "name": "python",
   "nbconvert_exporter": "python",
   "pygments_lexer": "ipython3",
   "version": "3.7.3"
  }
 },
 "nbformat": 4,
 "nbformat_minor": 2
}
