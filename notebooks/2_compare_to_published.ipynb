{
 "cells": [
  {
   "cell_type": "markdown",
   "metadata": {},
   "source": [
    "# Compare fit results to published values\n",
    "\n",
    "This notebook compares fit results from SNCosmo with fit results published by SDSS and DES. For this notebook to work for either survey, the analysis pipeline must have been run for that survey."
   ]
  },
  {
   "cell_type": "code",
   "execution_count": null,
   "metadata": {
    "ExecuteTime": {
     "end_time": "2019-01-29T19:57:38.084459Z",
     "start_time": "2019-01-29T19:57:32.663826Z"
    }
   },
   "outputs": [],
   "source": [
    "import os\n",
    "import sys\n",
    "from copy import deepcopy\n",
    "\n",
    "import numpy as np\n",
    "import pandas as pd\n",
    "import sncosmo\n",
    "from astropy.table import Table, join\n",
    "from bokeh.io import output_notebook, show\n",
    "from bokeh.layouts import gridplot\n",
    "from bokeh.models import ColumnDataSource, HoverTool\n",
    "from bokeh.plotting import figure\n",
    "from matplotlib import pyplot as plt\n",
    "from sndata.des import sn3yr\n",
    "from sndata.sdss import sako18\n",
    "\n",
    "sys.path.insert(0, '../')\n",
    "from analysis_pipeline import get_fit_results\n",
    "from analysis_pipeline.lc_fitting import split_data\n",
    "from analysis_pipeline.models import register_sources\n",
    "\n",
    "register_sources(force=True)\n"
   ]
  },
  {
   "cell_type": "code",
   "execution_count": null,
   "metadata": {
    "ExecuteTime": {
     "end_time": "2019-01-29T19:57:40.152819Z",
     "start_time": "2019-01-29T19:57:40.140235Z"
    }
   },
   "outputs": [],
   "source": [
    "# Make sure published data is locally available\n",
    "sako18.download_module_data()\n",
    "sn3yr.download_module_data()\n",
    "\n",
    "# Set up bokeh plotting\n",
    "output_notebook()\n",
    "_basic_tools = \"save,pan,box_zoom,reset,wheel_zoom\".split(',')\n",
    "\n",
    "# Output directory for figures\n",
    "fig_dir = './notebook_figs'\n",
    "if not os.path.exists(fig_dir):\n",
    "    os.mkdir(fig_dir)\n",
    "\n",
    "# Define models\n",
    "salt_2_4 = sncosmo.Model(source=sncosmo.get_source('salt2', version='2.4'))\n",
    "salt_2_0 = sncosmo.Model(source=sncosmo.get_source('salt2', version='2.0'))\n",
    "sn_91bg = sncosmo.Model(source=sncosmo.get_source('sn91bg', version='salt2_phase'))\n"
   ]
  },
  {
   "cell_type": "markdown",
   "metadata": {},
   "source": [
    "## Plotting functions\n",
    "\n",
    "Since we will be creating the same plots for multiple data sets, we create some generic plotting functions. We create a static version of the plot zoomed in to show detail, along with an interactive version that defaults to show all available data. Note that we assume the colum names of the data tables being plotted."
   ]
  },
  {
   "cell_type": "code",
   "execution_count": null,
   "metadata": {
    "ExecuteTime": {
     "end_time": "2019-01-29T19:57:42.584067Z",
     "start_time": "2019-01-29T19:57:42.391266Z"
    }
   },
   "outputs": [],
   "source": [
    "def create_static_figure(fit_data, survey_name):\n",
    "    \"\"\"Return a matplotlib figure comparing x0, x1, c, and chisq\n",
    "    of the published and SNCosmo fit values.\n",
    "    \n",
    "    Args:\n",
    "        fit_data  (Table): A table of data to plot\n",
    "        survey_name (str): Name of the survey being plotted\n",
    "        \n",
    "    Returns:\n",
    "         A matplotlib figure object\n",
    "    \"\"\"\n",
    "\n",
    "    fig, axes = plt.subplots(2, 3, figsize=(18, 12))\n",
    "    axes = axes.flatten()\n",
    "    line = (-20, 60000)\n",
    "\n",
    "    for axis, value in zip(axes, ['t0', 'x0', 'x1', 'c']):\n",
    "        axis.set_title(value)\n",
    "        axis.plot(line, line, linestyle='--', color='grey', alpha=.7)\n",
    "        axis.errorbar(fit_data[f'{value}_{survey_name}'],\n",
    "                      fit_data[f'{value}_sncosmo'],\n",
    "                      xerr=fit_data[f'{value}_err_{survey_name}'],\n",
    "                      yerr=fit_data[f'{value}_err_sncosmo'],\n",
    "                      linestyle='',\n",
    "                      alpha=.3)\n",
    "\n",
    "        axis.scatter(fit_data[f'{value}_{survey_name}'],\n",
    "                     fit_data[f'{value}_sncosmo'],\n",
    "                     alpha=.3,\n",
    "                     s=5)\n",
    "\n",
    "    reduced_chisq_survey = (\n",
    "            fit_data[f'chi_{survey_name}'] /\n",
    "            fit_data[f'dof_{survey_name}']\n",
    "    )\n",
    "\n",
    "    reduced_chisq_sncosmo = fit_data['chi_sncosmo'] / fit_data['dof_sncosmo']\n",
    "    axes[4].set_title('chisq')\n",
    "    axes[4].plot(line, line, linestyle='--', color='grey', alpha=.8)\n",
    "    axes[4].scatter(fit_data[f'chi_{survey_name}'],\n",
    "                    fit_data['chi_sncosmo'],\n",
    "                    alpha=.3, s=10)\n",
    "\n",
    "    axes[5].set_title('chisq_norm')\n",
    "    axes[5].plot(line, line, linestyle='--', color='grey', alpha=.8)\n",
    "    axes[5].scatter(reduced_chisq_survey,\n",
    "                    reduced_chisq_sncosmo,\n",
    "                    alpha=.3, s=10)\n",
    "\n",
    "    axes[0].set_ylabel('SNCosmo Fit ugriz')\n",
    "    axes[3].set_xlabel('Published Value')\n",
    "    axes[3].set_ylabel('SNCosmo Fit ugriz')\n",
    "    axes[4].set_xlabel('Published Value')\n",
    "    axes[5].set_xlabel('Published Value')\n",
    "\n",
    "    return axes\n",
    "\n",
    "\n",
    "def create_interactive_figure(fit_data, survey_name):\n",
    "    \"\"\"Return a bokeh figure comparing x0, x1, c, and chisq\n",
    "    of the published and SNCosmo fit values.\n",
    "    \n",
    "    Args:\n",
    "        fit_data  (Table): A table of data to plot\n",
    "        survey_name (str): Name of the survey being plotted\n",
    "        \n",
    "    Returns:\n",
    "         A bokeh figure object\n",
    "    \"\"\"\n",
    "\n",
    "    data_dict = fit_data.copy()\n",
    "    data_dict['chisq_norm_sncosmo'] = (\n",
    "            data_dict['chi_sncosmo'] / data_dict['dof_sncosmo']\n",
    "    )\n",
    "\n",
    "    data_dict[f'chisq_norm_{survey_name}'] = (\n",
    "            data_dict[f'chi_{survey_name}'] /\n",
    "            data_dict[f'dof_{survey_name}']\n",
    "    )\n",
    "\n",
    "    source = ColumnDataSource(data=data_dict)\n",
    "    hover = HoverTool(tooltips=[\n",
    "        (\"target\", \"@cid\"),\n",
    "        (\"class\", \"@class\"),\n",
    "        (\"z\", \"@z\"),\n",
    "        ('z_fit', '@fit_z'),\n",
    "        ('chisq_sncosmo', '@chisq_sncosmo'),\n",
    "        ('ndof_sncosmo', '@ndof_sncosmo'),\n",
    "    ])\n",
    "\n",
    "    figures = []\n",
    "    for value in ('x0', 'x1', 'c', 'chi'):\n",
    "        x_key, y_key = f'{value}_{survey_name}', f'{value}_sncosmo'\n",
    "        fig = figure(\n",
    "            tools=_basic_tools + [hover, 'box_select', 'lasso_select'],\n",
    "            title=value)\n",
    "\n",
    "        fig.circle(x_key, y_key, source=source, size=4, alpha=.5)\n",
    "        fig.line([min(data_dict[x_key]), max(data_dict[x_key])],\n",
    "                 [min(data_dict[x_key]), max(data_dict[x_key])],\n",
    "                 line_width=2)\n",
    "\n",
    "        fig.xaxis.axis_label = 'Published Value'\n",
    "        fig.yaxis.axis_label = 'SNCosmo Fit ugriz'\n",
    "        figures.append(fig)\n",
    "\n",
    "    return gridplot(figures, ncols=2, plot_width=350, plot_height=350)\n"
   ]
  },
  {
   "cell_type": "markdown",
   "metadata": {},
   "source": [
    "## SDSS\n",
    "\n",
    "We create a table to store both the published and SNCosmo fit results for SDSS. Then we plot correlations between both data sets for the fit parameters x0, x1 (stretch), and c (color) along with normalized chi-squared."
   ]
  },
  {
   "cell_type": "code",
   "execution_count": null,
   "metadata": {
    "ExecuteTime": {
     "end_time": "2019-01-29T19:57:51.595792Z",
     "start_time": "2019-01-29T19:57:48.230607Z"
    },
    "scrolled": false
   },
   "outputs": [],
   "source": [
    "# Get SDSS published data\n",
    "master_table = sako18.load_table('master')\n",
    "sdss_published = master_table[\n",
    "    'CID',\n",
    "    'PeakMJDSALT2zspec',\n",
    "    'PeakMJDderrSALT2zspec',\n",
    "    'x0SALT2zspec',\n",
    "    'x0errSALT2zspec',\n",
    "    'x1SALT2zspec',\n",
    "    'x1errSALT2zspec',\n",
    "    'cSALT2zspec',\n",
    "    'cerrSALT2zspec',\n",
    "    'chi2SALT2zspec',\n",
    "    'ndofSALT2zspec'\n",
    "]\n",
    "\n",
    "sdss_published = sdss_published.to_pandas()\n",
    "sdss_published.dropna(inplace=True)\n",
    "sdss_published.rename(index=str, inplace=True, columns={\n",
    "    'CID': 'cid',\n",
    "    'PeakMJDSALT2zspec': 't0_sdss',\n",
    "    'PeakMJDderrSALT2zspec': 't0_err_sdss',\n",
    "    'x0SALT2zspec': 'x0_sdss',\n",
    "    'x0errSALT2zspec': 'x0_err_sdss',\n",
    "    'x1SALT2zspec': 'x1_sdss',\n",
    "    'x1errSALT2zspec': 'x1_err_sdss',\n",
    "    'cSALT2zspec': 'c_sdss',\n",
    "    'cerrSALT2zspec': 'c_err_sdss',\n",
    "    'chi2SALT2zspec': 'chi_sdss',\n",
    "    'ndofSALT2zspec': 'dof_sdss'})\n",
    "\n",
    "sdss_published.set_index('cid', inplace=True)\n",
    "\n",
    "# Join table with SNCosmo fit data\n",
    "sdss_snia_4param_all, _, _ = get_fit_results(sako18, salt_2_0, 4)\n",
    "sdss_snia_4param_all.dropna(inplace=True)\n",
    "sdss_snia_4param_all.columns = sdss_snia_4param_all.columns.map(lambda x: str(x) + '_sncosmo')\n",
    "\n",
    "combined_sdss = sdss_published.join(sdss_snia_4param_all)\n",
    "combined_sdss.head()\n"
   ]
  },
  {
   "cell_type": "code",
   "execution_count": null,
   "metadata": {
    "ExecuteTime": {
     "end_time": "2019-01-29T19:57:54.414872Z",
     "start_time": "2019-01-29T19:57:51.599854Z"
    },
    "scrolled": false
   },
   "outputs": [],
   "source": [
    "plot_axes = create_static_figure(combined_sdss, 'sdss')\n",
    "\n",
    "# Note that the bounds for axis 0 only show onne observing season\n",
    "plot_axes[0].set_xlim(53940, 54080)\n",
    "plot_axes[0].set_ylim(53940, 54080)\n",
    "plot_axes[1].set_xlim(0, .003)\n",
    "plot_axes[1].set_ylim(0, .003)\n",
    "plot_axes[2].set_xlim(-6, 6)\n",
    "plot_axes[2].set_ylim(-6, 6)\n",
    "plot_axes[3].set_xlim(-1.5, 1.5)\n",
    "plot_axes[3].set_ylim(-1.5, 1.5)\n",
    "plot_axes[4].set_xlim(0, 200)\n",
    "plot_axes[4].set_ylim(0, 200)\n",
    "plot_axes[5].set_xlim(0, 5)\n",
    "plot_axes[5].set_ylim(0, 5)\n",
    "\n",
    "plt.savefig(os.path.join(fig_dir, 'sdss_compare_published.pdf'))\n",
    "plt.show()\n"
   ]
  },
  {
   "cell_type": "code",
   "execution_count": null,
   "metadata": {
    "scrolled": false
   },
   "outputs": [],
   "source": [
    "plot_grid = create_interactive_figure(combined_sdss, 'sdss')\n",
    "show(plot_grid)\n"
   ]
  },
  {
   "cell_type": "markdown",
   "metadata": {},
   "source": [
    "Note the disagreement of the `x0` values. Having no explanation, for the time being, we settle on characterizing the slope of the relationship and move on."
   ]
  },
  {
   "cell_type": "code",
   "execution_count": null,
   "metadata": {},
   "outputs": [],
   "source": [
    "x = combined_sdss['x0_sdss']\n",
    "y = combined_sdss['x0_sncosmo']\n",
    "is_not_nan = ~np.isnan(y)\n",
    "np.polyfit(x[is_not_nan], y[is_not_nan], 1)\n"
   ]
  },
  {
   "cell_type": "markdown",
   "metadata": {},
   "source": [
    "## DES"
   ]
  },
  {
   "cell_type": "code",
   "execution_count": null,
   "metadata": {
    "scrolled": false
   },
   "outputs": [],
   "source": [
    "# Get DES published data\n",
    "des_published = sn3yr.load_table('SALT2mu_DES+LOWZ_C11.FITRES')[\n",
    "    'CIDint',\n",
    "    'PKMJD',\n",
    "    'PKMJDERR',\n",
    "    'x0',\n",
    "    'x0ERR',\n",
    "    'x1',\n",
    "    'x1ERR',\n",
    "    'c',\n",
    "    'cERR',\n",
    "    'FITCHI2',\n",
    "    'NDOF'\n",
    "]\n",
    "\n",
    "des_published = des_published.to_pandas()\n",
    "des_published.dropna(inplace=True)\n",
    "des_published.rename(index=str, inplace=True, columns={\n",
    "    'CIDint': 'cid',\n",
    "    'PKMJD': 't0_des',\n",
    "    'PKMJDERR': 't0_err_des',\n",
    "    'x0': 'x0_des',\n",
    "    'x0ERR': 'x0_err_des',\n",
    "    'x1': 'x1_des',\n",
    "    'x1ERR': 'x1_err_des',\n",
    "    'c': 'c_des',\n",
    "    'cERR': 'c_err_des',\n",
    "    'FITCHI2': 'chi_des',\n",
    "    'NDOF': 'dof_des'})\n",
    "\n",
    "des_published.set_index('cid', inplace=True)\n",
    "\n",
    "# Join table with SNCosmo fit data\n",
    "des_snia_4param_all, _, _ = get_fit_results(sn3yr, salt_2_4, 4)\n",
    "des_snia_4param_all.columns = des_snia_4param_all.columns.map(lambda x: str(x) + '_sncosmo')\n",
    "des_snia_4param_all.index = des_snia_4param_all.index.map(int)\n",
    "\n",
    "combined_des = des_published.join(des_snia_4param_all)\n"
   ]
  },
  {
   "cell_type": "code",
   "execution_count": null,
   "metadata": {
    "scrolled": false
   },
   "outputs": [],
   "source": [
    "plot_axes = create_static_figure(combined_des, 'des')\n",
    "\n",
    "plot_axes[0].set_xlim(56500, 57400)\n",
    "plot_axes[0].set_ylim(56500, 57400)\n",
    "plot_axes[1].set_xlim(0, 6e-4)\n",
    "plot_axes[1].set_ylim(0, 6e-4)\n",
    "plot_axes[2].set_xlim(-5, 5)\n",
    "plot_axes[2].set_ylim(-5, 5)\n",
    "plot_axes[3].set_xlim(-.4, .4)\n",
    "plot_axes[3].set_ylim(-.4, .4)\n",
    "plot_axes[4].set_xlim(0, 70)\n",
    "plot_axes[4].set_ylim(0, 200)\n",
    "plot_axes[5].set_xlim(0, 2)\n",
    "plot_axes[5].set_ylim(0, 8)\n",
    "\n",
    "plt.savefig(os.path.join(fig_dir, 'des_compare_published.pdf'))\n",
    "plt.show()\n"
   ]
  },
  {
   "cell_type": "code",
   "execution_count": null,
   "metadata": {},
   "outputs": [],
   "source": [
    "plot_grid = create_interactive_figure(combined_des, 'des')\n",
    "show(plot_grid)\n"
   ]
  },
  {
   "cell_type": "code",
   "execution_count": null,
   "metadata": {},
   "outputs": [],
   "source": []
  }
 ],
 "metadata": {
  "kernelspec": {
   "display_name": "Python [conda env:sdss_class] *",
   "language": "python",
   "name": "conda-env-sdss_class-py"
  },
  "language_info": {
   "codemirror_mode": {
    "name": "ipython",
    "version": 3
   },
   "file_extension": ".py",
   "mimetype": "text/x-python",
   "name": "python",
   "nbconvert_exporter": "python",
   "pygments_lexer": "ipython3",
   "version": "3.7.3"
  }
 },
 "nbformat": 4,
 "nbformat_minor": 2
}
