{
 "cells": [
  {
   "cell_type": "markdown",
   "metadata": {},
   "source": [
    "# Creating Config Files\n",
    "\n",
    "This notebook generates config files that specify supernova specific priors \n",
    "and fitting arguments. Individual files are created for different supernova \n",
    "surveys. The config files are save in yaml format and values typically follow the \n",
    "following template:\n",
    "\n",
    "    hsiao_x1:\n",
    "      object_id:\n",
    "        kwargs:\n",
    "          bounds:\n",
    "            t0:\n",
    "              - ? # Typically t0 - 10\n",
    "              - ? # Typically t0 + 10\n",
    "            x1:\n",
    "              - -1\n",
    "              - 1\n",
    "          phase_range:\n",
    "            - -20\n",
    "            - 50\n",
    "        priors:\n",
    "          z: ?\n",
    "          t0: ?\n",
    "\n",
    "    sn91bg:\n",
    "      object_id:\n",
    "        kwargs:\n",
    "          bounds:\n",
    "            c:\n",
    "              - 0\n",
    "              - 1\n",
    "            x1:\n",
    "              - 0.65\n",
    "              - 1.25\n",
    "            t0:\n",
    "              - ? # Typically t0 - 10\n",
    "              - ? # Typically t0 + 10\n",
    "          phase_range:\n",
    "            - -20\n",
    "            - 50\n",
    "        priors:\n",
    "          z: ?\n",
    "          t0: ?\n",
    "\n",
    "We note that values for some supernovae may have been manually altered in the\n",
    "config files after manually inspecting their  light curve fits. For this reason,\n",
    "an existing config file should not be overwritten on the the assumption that\n",
    "the automatically generated and currently existing config files are the same.\n",
    "\n",
    "#### Table of Contents:\n",
    "1. <a href='#sdss'>SDSS - Sako et al. 2018</a>: Generate a config file for the Sloan Digital Sky Survey\n",
    "1. <a href='#csp'>CSP - DR1</a>: Generate a config file for the Carnegie Supernova Project\n",
    "1. <a href='#des'>DES - SN3yr</a>: Generate a config file for the Dark Energy Survey\n"
   ]
  },
  {
   "cell_type": "code",
   "execution_count": null,
   "metadata": {},
   "outputs": [],
   "source": [
    "from pathlib import Path\n",
    "\n",
    "import numpy as np\n",
    "import yaml\n",
    "from sndata.csp import dr1\n",
    "from sndata.des import sn3yr\n",
    "from sndata.sdss import sako18\n",
    "\n",
    "out_dir = Path('../config_files')\n",
    "out_dir.mkdir(exist_ok=True, parents=True)\n"
   ]
  },
  {
   "cell_type": "code",
   "execution_count": null,
   "metadata": {},
   "outputs": [],
   "source": [
    "def create_config_dict(id_arr, t0_arr, z_arr, t0_range=10):\n",
    "    \"\"\"Create a dictionary with fitting params and kwargs for our pipeline\n",
    "    \n",
    "    Args:\n",
    "        id_add (ndarray): An array of object Ids\n",
    "        t0_arr (ndarray): An array of t0 values for each object\n",
    "        z_arr  (ndarray): An array of redshift values for each object\n",
    "        t0_range (float): The + / - bounds when fitting t0\n",
    "    \"\"\"\n",
    "    \n",
    "    config_dict = {'hsiao_x1': {}, 'sn91bg': {}}\n",
    "    for obj_id, t0, z in zip(id_arr, t0_arr, z_arr):\n",
    "\n",
    "        config_dict['hsiao_x1'][obj_id] = {'priors': {}, 'kwargs': {}}\n",
    "        config_dict['hsiao_x1'][obj_id]['priors'] = {'z': z, 't0': t0}\n",
    "        config_dict['hsiao_x1'][obj_id]['kwargs'] = {'bounds': {}, 'phase_range': {}}\n",
    "        config_dict['hsiao_x1'][obj_id]['kwargs']['bounds'] = {'t0': [t0 - 10, t0 + 10], 'x1': [-1, 1]}\n",
    "        config_dict['hsiao_x1'][obj_id]['kwargs']['phase_range'] = [-20, 50]\n",
    "\n",
    "        config_dict['sn91bg'][obj_id] = {'priors': {}, 'kwargs': {}}\n",
    "        config_dict['sn91bg'][obj_id]['priors'] = {'z': z, 't0': t0}\n",
    "        config_dict['sn91bg'][obj_id]['kwargs'] = {'bounds': {}, 'phase_range': {}}\n",
    "        config_dict['sn91bg'][obj_id]['kwargs']['bounds'] = {'t0': [t0 - 10, t0 + 10], 'c': [0, 1], 'x1': [0.65, 1.25]}\n",
    "        config_dict['sn91bg'][obj_id]['kwargs']['phase_range'] = [-20, 50]\n",
    "    \n",
    "    return config_dict\n",
    "\n",
    "def raise_path_exists(path):\n",
    "    \"\"\"Raise an error if a path exists\n",
    "    \n",
    "    Args:\n",
    "        path (Path): The path to check\n",
    "    \"\"\"\n",
    "\n",
    "    if path.exists():\n",
    "        raise ValueError(\n",
    "            'Existing files may have manually modified values.'\n",
    "            ' Be careful not to overwrite them!'\n",
    "        )\n",
    "    "
   ]
  },
  {
   "cell_type": "markdown",
   "metadata": {},
   "source": [
    "## SDSS - Sako et al. 2018 <a id='SDSS'></a>"
   ]
  },
  {
   "cell_type": "code",
   "execution_count": null,
   "metadata": {},
   "outputs": [],
   "source": [
    "master = sako18.load_table('master').to_pandas()\n",
    "master['JD'] = master['MJDatPeakrmag'] + 2400000.5\n",
    "master.head()\n"
   ]
  },
  {
   "cell_type": "code",
   "execution_count": null,
   "metadata": {},
   "outputs": [],
   "source": [
    "targets_with_redshift = master[master['zCMB'] >= 0]\n",
    "\n",
    "print('Total targets of with z:', len(targets_with_redshift), '/', len(master))\n"
   ]
  },
  {
   "cell_type": "code",
   "execution_count": null,
   "metadata": {},
   "outputs": [],
   "source": [
    "sdss_config = create_config_dict(\n",
    "    targets_with_redshift['CID'],\n",
    "    targets_with_redshift['JD'], \n",
    "    targets_with_redshift['zCMB'])\n"
   ]
  },
  {
   "cell_type": "code",
   "execution_count": null,
   "metadata": {},
   "outputs": [],
   "source": [
    "sdss_out_path = out_dir / Path('sdss_config.yml')\n",
    "raise_path_exists(sdss_out_path)\n",
    "with open(sdss_out_path, 'w') as ofile:\n",
    "    yaml.dump(sdss_config, ofile)\n"
   ]
  },
  {
   "cell_type": "markdown",
   "metadata": {},
   "source": [
    "## CSP - DR1 <a id='CSP'></a>"
   ]
  },
  {
   "cell_type": "code",
   "execution_count": null,
   "metadata": {},
   "outputs": [],
   "source": [
    "csp_table_1 = dr1.load_table(1).to_pandas()\n",
    "csp_table_1['JD'] = csp_table_1['T0'] + 2400000.5\n",
    "csp_table_1.head()\n"
   ]
  },
  {
   "cell_type": "code",
   "execution_count": null,
   "metadata": {},
   "outputs": [],
   "source": [
    "csp_config = create_config_dict(\n",
    "    csp_table_1['SN'],\n",
    "    csp_table_1['JD'], \n",
    "    csp_table_1['zCMB'])\n",
    "\n"
   ]
  },
  {
   "cell_type": "code",
   "execution_count": null,
   "metadata": {},
   "outputs": [],
   "source": [
    "csp_out_path = out_dir / Path('csp_config.yml')\n",
    "raise_path_exists(csp_out_path)\n",
    "with open(csp_out_path, 'w') as ofile:\n",
    "    yaml.dump(csp_config, ofile)\n"
   ]
  },
  {
   "cell_type": "markdown",
   "metadata": {},
   "source": [
    "## DES - SN3yr <a id='DES'></a>"
   ]
  },
  {
   "cell_type": "code",
   "execution_count": null,
   "metadata": {},
   "outputs": [],
   "source": [
    "des_fit_res = sn3yr.load_table('SALT2mu_DES+LOWZ_C11.FITRES').to_pandas()\n",
    "des_fit_res['JD'] = des_fit_res['PKMJD'] + 2400000.5\n",
    "des_fit_res.CIDint = des_fit_res.CIDint.apply(lambda x: str(x).zfill(8))\n",
    "des_fit_res.head()\n"
   ]
  },
  {
   "cell_type": "code",
   "execution_count": null,
   "metadata": {},
   "outputs": [],
   "source": [
    "des_config = create_config_dict(\n",
    "    des_fit_res['CIDint'],\n",
    "    des_fit_res['JD'], \n",
    "    des_fit_res['zCMB'])\n"
   ]
  },
  {
   "cell_type": "code",
   "execution_count": null,
   "metadata": {},
   "outputs": [],
   "source": [
    "des_out_path = out_dir / Path('des_config.yml')\n",
    "raise_path_exists(des_out_path)\n",
    "with open(des_out_path, 'w') as ofile:\n",
    "    yaml.dump(des_config, ofile)\n",
    "    "
   ]
  },
  {
   "cell_type": "code",
   "execution_count": null,
   "metadata": {},
   "outputs": [],
   "source": []
  }
 ],
 "metadata": {
  "kernelspec": {
   "display_name": "Python [conda env:phot_class] *",
   "language": "python",
   "name": "conda-env-phot_class-py"
  },
  "language_info": {
   "codemirror_mode": {
    "name": "ipython",
    "version": 3
   },
   "file_extension": ".py",
   "mimetype": "text/x-python",
   "name": "python",
   "nbconvert_exporter": "python",
   "pygments_lexer": "ipython3",
   "version": "3.7.4"
  }
 },
 "nbformat": 4,
 "nbformat_minor": 2
}
