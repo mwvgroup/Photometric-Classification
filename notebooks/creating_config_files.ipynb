{
 "cells": [
  {
   "cell_type": "markdown",
   "metadata": {},
   "source": [
    "# Creating Config Files\n",
    "\n",
    "This notebook generates config files that specify supernova specific priors \n",
    "and fitting arguments. Individual files are created for different supernova \n",
    "surveys. The config files are save in yaml format and values typically follow the \n",
    "following template:\n",
    "\n",
    "    hsiao_x1:\n",
    "      object_id:\n",
    "        kwargs:\n",
    "          bounds:\n",
    "            t0:\n",
    "              - ? # Typically t0 - 10\n",
    "              - ? # Typically t0 + 10\n",
    "            x1:\n",
    "              - -.5\n",
    "              - .5\n",
    "          phase_range:\n",
    "            - -20\n",
    "            - 50\n",
    "        priors:\n",
    "          z: ?\n",
    "          t0: ?\n",
    "\n",
    "    sn91bg:\n",
    "      object_id:\n",
    "        kwargs:\n",
    "          bounds:\n",
    "            c:\n",
    "              - 0\n",
    "              - 1\n",
    "            x1:\n",
    "              - 0.65\n",
    "              - 1.25\n",
    "            t0:\n",
    "              - ? # Typically t0 - 10\n",
    "              - ? # Typically t0 + 10\n",
    "          phase_range:\n",
    "            - -20\n",
    "            - 50\n",
    "        priors:\n",
    "          z: ?\n",
    "          t0: ?\n",
    "\n",
    "We note that values for some supernovae may have been manually altered in the\n",
    "config files after manually inspecting their  light curve fits. For this reason,\n",
    "an existing config file should not be overwritten on the the assumption that\n",
    "the automatically generated and currently existing config files are the same.\n",
    "\n",
    "#### Table of Contents:\n",
    "1. <a href='#SDSS'>SDSS - Sako et al. 2018</a>: Generate a config file for the Sloan Digital Sky Survey\n",
    "1. <a href='#DES'>DES - SN3yr</a>: Generate a config file for the Dark Energy Survey\n",
    "1. <a href='#CSP'>CSP - DR3</a>: Generate a config file for the Carnegie Suipernova Project\n"
   ]
  },
  {
   "cell_type": "code",
   "execution_count": null,
   "metadata": {},
   "outputs": [],
   "source": [
    "from pathlib import Path\n",
    "\n",
    "import sfdmap\n",
    "import yaml\n",
    "from astropy.table import join\n",
    "from sndata.des import sn3yr\n",
    "from sndata.sdss import sako18\n",
    "from sndata.csp import dr3\n",
    "from sndata._utils import convert_to_jd\n",
    "\n",
    "out_dir = Path('../config_files')\n",
    "out_dir.mkdir(exist_ok=True, parents=True)\n",
    "DUST_MAP = sfdmap.SFDMap('../phot_class/schlegel98_dust_map/')\n"
   ]
  },
  {
   "cell_type": "code",
   "execution_count": null,
   "metadata": {},
   "outputs": [],
   "source": [
    "def create_config_dict(id_arr, t0_arr, z_arr, ra_arr, dec_arr, t0_range=10, dust=True):\n",
    "    \"\"\"Create a dictionary with fitting params and kwargs for our pipeline\n",
    "    \n",
    "    Args:\n",
    "        id_add (ndarray): An array of object Ids\n",
    "        t0_arr (ndarray): An array of t0 values for each object\n",
    "        z_arr  (ndarray): An array of redshift values for each object\n",
    "        t0_range (float): The + / - bounds when fitting t0\n",
    "    \"\"\"\n",
    "    \n",
    "    config_dict = {'hsiao_x1': {}, 'sn91bg': {}}\n",
    "    for obj_id, t0, z, ra, dec in zip(id_arr, t0_arr, z_arr, ra_arr, dec_arr):\n",
    "        config_dict['hsiao_x1'][obj_id] = {'priors': {}, 'kwargs': {}}\n",
    "        config_dict['hsiao_x1'][obj_id]['priors'] = {'t0': t0}\n",
    "        config_dict['hsiao_x1'][obj_id]['kwargs'] = {'bounds': {}, 'phase_range': {}}\n",
    "        config_dict['hsiao_x1'][obj_id]['kwargs']['bounds'] = {'t0': [t0 - t0_range, t0 + t0_range], 'x1': [-.5, .5]}\n",
    "        config_dict['hsiao_x1'][obj_id]['kwargs']['phase_range'] = [-20, 50]\n",
    "\n",
    "        config_dict['sn91bg'][obj_id] = {'priors': {}, 'kwargs': {}}\n",
    "        config_dict['sn91bg'][obj_id]['priors'] = {'t0': t0}\n",
    "        config_dict['sn91bg'][obj_id]['kwargs'] = {'bounds': {}, 'phase_range': {}}\n",
    "        config_dict['sn91bg'][obj_id]['kwargs']['bounds'] = {'t0': [t0 - t0_range, t0 + t0_range], 'c': [0, 1], 'x1': [0.65, 1.25]}\n",
    "        config_dict['sn91bg'][obj_id]['kwargs']['phase_range'] = [-20, 50]\n",
    "        \n",
    "        if dust:\n",
    "            mwebv = float(DUST_MAP.ebv(ra, dec))\n",
    "            config_dict['hsiao_x1'][obj_id]['priors']['mwebv'] = mwebv\n",
    "            config_dict['sn91bg'][obj_id]['priors']['mwebv'] = mwebv            \n",
    "        \n",
    "        if z >= 0:  # SDSS masks missing z values with -9\n",
    "            config_dict['hsiao_x1'][obj_id]['priors']['z'] = z\n",
    "            config_dict['sn91bg'][obj_id]['priors']['z'] = z\n",
    "\n",
    "    return config_dict\n",
    "\n",
    "\n",
    "def raise_path_exists(path):\n",
    "    \"\"\"Raise an error if a path exists\n",
    "    \n",
    "    Args:\n",
    "        path (Path): The path to check\n",
    "    \"\"\"\n",
    "\n",
    "    if path.exists():\n",
    "        raise ValueError(\n",
    "            'Existing files may have manually modified values.'\n",
    "            ' Be careful not to overwrite them!'\n",
    "        )\n"
   ]
  },
  {
   "cell_type": "markdown",
   "metadata": {},
   "source": [
    "## SDSS - Sako et al. 2018 <a id='SDSS'></a>\n",
    "\n",
    "For SDSS, we use values from the \"master\" table of Sako et al. 2018."
   ]
  },
  {
   "cell_type": "code",
   "execution_count": null,
   "metadata": {
    "scrolled": true
   },
   "outputs": [],
   "source": [
    "sako18.download_module_data()\n",
    "master = sako18.load_table('master').to_pandas()\n",
    "master['JD'] = master['MJDatPeakrmag'] + 2400000.5\n",
    "master.head()\n"
   ]
  },
  {
   "cell_type": "markdown",
   "metadata": {},
   "source": [
    "We config dictionaries both with and without exctinction."
   ]
  },
  {
   "cell_type": "code",
   "execution_count": null,
   "metadata": {},
   "outputs": [],
   "source": [
    "sdss_config_noebv = create_config_dict(\n",
    "    master['CID'],\n",
    "    master['JD'], \n",
    "    master['zCMB'],\n",
    "    master['RA'],\n",
    "    master['DEC'],\n",
    "    dust=False\n",
    ")\n",
    "\n",
    "sdss_config_extinction = create_config_dict(\n",
    "    master['CID'],\n",
    "    master['JD'], \n",
    "    master['zCMB'],\n",
    "    master['RA'],\n",
    "    master['DEC'],\n",
    "    dust=True\n",
    ")\n"
   ]
  },
  {
   "cell_type": "markdown",
   "metadata": {},
   "source": [
    "Since not all targets have published redshift values, we also add bounds on the redshift so it can be fit where necessary."
   ]
  },
  {
   "cell_type": "code",
   "execution_count": null,
   "metadata": {},
   "outputs": [],
   "source": [
    "for config in (sdss_config_noebv, sdss_config_extinction):\n",
    "    for model, model_config in config.items():\n",
    "        for obj_id, obj_config in model_config.items():\n",
    "            obj_config['kwargs']['bounds']['z'] = [0.05, 0.4]\n",
    "        "
   ]
  },
  {
   "cell_type": "markdown",
   "metadata": {},
   "source": [
    "Finally, we dump the dictionaries to file."
   ]
  },
  {
   "cell_type": "code",
   "execution_count": null,
   "metadata": {},
   "outputs": [],
   "source": [
    "sdss_noebv_path = out_dir / Path('sdss_config_noext.yml')\n",
    "raise_path_exists(sdss_noebv_path)\n",
    "with open(sdss_noebv_path, 'w') as ofile:\n",
    "    yaml.dump(sdss_config_noebv, ofile)\n",
    "\n",
    "sdss_ebv_path = out_dir / Path('sdss_config_ext.yml')\n",
    "raise_path_exists(sdss_ebv_path)\n",
    "with open(sdss_ebv_path, 'w') as ofile:\n",
    "    yaml.dump(sdss_config_extinction, ofile)\n"
   ]
  },
  {
   "cell_type": "markdown",
   "metadata": {},
   "source": [
    "## DES - SN3yr <a id='DES'></a>"
   ]
  },
  {
   "cell_type": "code",
   "execution_count": null,
   "metadata": {},
   "outputs": [],
   "source": [
    "sn3yr.download_module_data()\n",
    "des_fit_res = sn3yr.load_table('SALT2mu_DES+LOWZ_C11.FITRES').to_pandas()\n",
    "des_fit_res['JD'] = des_fit_res['PKMJD'] + 2400000.5\n",
    "des_fit_res.CIDint = des_fit_res.CIDint.apply(lambda x: str(x).zfill(8))\n",
    "des_fit_res.head()\n"
   ]
  },
  {
   "cell_type": "code",
   "execution_count": null,
   "metadata": {},
   "outputs": [],
   "source": [
    "des_config_noebv = create_config_dict(\n",
    "    des_fit_res['CIDint'],\n",
    "    des_fit_res['JD'], \n",
    "    des_fit_res['zCMB'],\n",
    "    des_fit_res['RA'],\n",
    "    des_fit_res['DECL'],\n",
    "    dust=False\n",
    ")\n",
    "\n",
    "des_config_extinction = create_config_dict(\n",
    "    des_fit_res['CIDint'],\n",
    "    des_fit_res['JD'], \n",
    "    des_fit_res['zCMB'],\n",
    "    des_fit_res['RA'],\n",
    "    des_fit_res['DECL'],\n",
    "    dust=True\n",
    ")\n"
   ]
  },
  {
   "cell_type": "code",
   "execution_count": null,
   "metadata": {},
   "outputs": [],
   "source": [
    "des_noebv_path = out_dir / Path('des_config_noext.yml')\n",
    "raise_path_exists(des_noebv_path)\n",
    "with open(des_noebv_path, 'w') as ofile:\n",
    "    yaml.dump(des_config_noebv, ofile)\n",
    "\n",
    "des_ebv_path = out_dir / Path('des_config_ext.yml')\n",
    "raise_path_exists(des_ebv_path)\n",
    "with open(des_ebv_path, 'w') as ofile:\n",
    "    yaml.dump(des_config_extinction, ofile)\n"
   ]
  },
  {
   "cell_type": "markdown",
   "metadata": {},
   "source": [
    "## CSP - DR3 <a id='CSP'></a>"
   ]
  },
  {
   "cell_type": "code",
   "execution_count": null,
   "metadata": {},
   "outputs": [],
   "source": [
    "dr3.download_module_data()\n",
    "\n",
    "# Load DR3 data for all objects with a published t0\n",
    "dr3_data = join(dr3.load_table(1), dr3.load_table(3), keys='SN')\n",
    "dr3_data = dr3_data[~dr3_data['T(Bmax)'].mask]\n",
    "\n",
    "ra = []\n",
    "dec = []\n",
    "for obj_id in dr3_data['SN']:\n",
    "    obj_data = dr3.get_data_for_id(obj_id)\n",
    "    ra.append(obj_data.meta['ra'])\n",
    "    dec.append(obj_data.meta['dec'])\n"
   ]
  },
  {
   "cell_type": "code",
   "execution_count": null,
   "metadata": {},
   "outputs": [],
   "source": [
    "# We typecast to avoid errors with PyYaml\n",
    "csp_config = create_config_dict(\n",
    "    [str(sn) for sn in dr3_data['SN']],\n",
    "    [float(t) for t in convert_to_jd(dr3_data['T(Bmax)'])], \n",
    "    [float(z) for z in dr3_data['z']],\n",
    "    ra,\n",
    "    dec,\n",
    "    dust=True,\n",
    "    t0_range=3\n",
    ")\n",
    "\n",
    "csp_ebv_path = out_dir / Path('csp_config_ext.yml')\n",
    "raise_path_exists(csp_ebv_path)\n",
    "with open(csp_ebv_path, 'w') as ofile:\n",
    "    yaml.safe_dump(csp_config, ofile)\n"
   ]
  },
  {
   "cell_type": "code",
   "execution_count": null,
   "metadata": {},
   "outputs": [],
   "source": []
  }
 ],
 "metadata": {
  "kernelspec": {
   "display_name": "Python [conda env:Photometric-Classification] *",
   "language": "python",
   "name": "conda-env-Photometric-Classification-py"
  },
  "language_info": {
   "codemirror_mode": {
    "name": "ipython",
    "version": 3
   },
   "file_extension": ".py",
   "mimetype": "text/x-python",
   "name": "python",
   "nbconvert_exporter": "python",
   "pygments_lexer": "ipython3",
   "version": "3.7.7"
  }
 },
 "nbformat": 4,
 "nbformat_minor": 2
}
