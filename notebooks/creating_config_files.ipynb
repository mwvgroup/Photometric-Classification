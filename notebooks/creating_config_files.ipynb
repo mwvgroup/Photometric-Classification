{
 "cells": [
  {
   "cell_type": "markdown",
   "metadata": {},
   "source": [
    "# Creating Config Files\n",
    "\n",
    "This notebook generates config files to specify supernova specific priors \n",
    "and fitting arguments. Individual files are created for different supernova \n",
    "surveys. The config files are save in yaml format and values typically follow the \n",
    "following template:\n",
    "\n",
    "    salt2:\n",
    "      object_id:\n",
    "        kwargs:\n",
    "          global:\n",
    "            bounds:\n",
    "              t0:\n",
    "                - ? # Typically t0 - 10\n",
    "                - ? # Typically t0 + 10\n",
    "            phase_range:\n",
    "              - -20\n",
    "              - 50\n",
    "        priors:\n",
    "          global:\n",
    "            z: ?\n",
    "            t0: ?\n",
    "\n",
    "    sn91bg:\n",
    "      object_id:\n",
    "        kwargs:\n",
    "          global:\n",
    "            bounds:\n",
    "              c:\n",
    "                - 0\n",
    "                - 1\n",
    "              x1:\n",
    "                - 0.65\n",
    "                - 1.25\n",
    "              t0:\n",
    "                - ? # Typically t0 - 10\n",
    "                - ? # Typically t0 + 10\n",
    "            phase_range:\n",
    "              - -20\n",
    "              - 50\n",
    "        priors:\n",
    "          global:\n",
    "            z: ?\n",
    "            t0: ?\n",
    "\n",
    "We note that values for some supernovae may have been manually  altered in the\n",
    "config files after manually inspecting their  light curve fits."
   ]
  },
  {
   "cell_type": "code",
   "execution_count": null,
   "metadata": {},
   "outputs": [],
   "source": [
    "import sys\n",
    "\n",
    "import numpy as np\n",
    "from sndata.sdss import sako18\n",
    "from sndata.csp import dr1\n",
    "from sndata.des import sn3yr\n",
    "import yaml\n",
    "\n",
    "from pathlib import Path\n",
    "\n",
    "out_dir = Path(some_directory_name)\n",
    "out_dir.mkdir(exist_ok=True, parents=True)\n"
   ]
  },
  {
   "cell_type": "code",
   "execution_count": null,
   "metadata": {},
   "outputs": [],
   "source": [
    "def create_config_dict(id_arr, t0_arr, z_arr, t0_range=10):\n",
    "    \n",
    "    config_dict = {'salt2': {}, 'sn91bg': {}}\n",
    "    for obj_id, t0, z in zip(id_arr, t0_arr, z_arr):\n",
    "\n",
    "        config_dict['salt2'][obj_id] = {'priors': {}, 'kwargs': {}}\n",
    "        config_dict['salt2'][obj_id]['priors'] = {'global': {'z': z, 't0': t0}}\n",
    "        config_dict['salt2'][obj_id]['kwargs'] = {'global': {'bounds': {}, 'phase_range': {}}}\n",
    "        config_dict['salt2'][obj_id]['kwargs']['global']['bounds'] = {'t0': [t0 - 10, t0 + 10]}\n",
    "        config_dict['salt2'][obj_id]['kwargs']['global']['phase_range'] = [-20, 50]\n",
    "\n",
    "        config_dict['sn91bg'][obj_id] = {'priors': {}, 'kwargs': {}}\n",
    "        config_dict['sn91bg'][obj_id]['priors'] = {'global': {'z': z, 't0': t0}}\n",
    "        config_dict['sn91bg'][obj_id]['kwargs'] = {'global': {'bounds': {}, 'phase_range': {}}}\n",
    "        config_dict['sn91bg'][obj_id]['kwargs']['global']['bounds'] = {'t0': [t0 - 10, t0 + 10], 'c': [0, 1], 'x1': [0.65, 1.25]}\n",
    "        config_dict['sn91bg'][obj_id]['kwargs']['global']['phase_range'] = [-20, 50]\n",
    "    \n",
    "    return config_dict\n",
    "\n",
    "def raise_path_exists(path):\n",
    "    if path.exists():\n",
    "        raise ValueError(\n",
    "            'Existing files may have manually modified values.'\n",
    "            ' Be careful not to overwrite them!'\n",
    "        )\n",
    "    "
   ]
  },
  {
   "cell_type": "markdown",
   "metadata": {},
   "source": [
    "## SDSS - Sako et al. 2018"
   ]
  },
  {
   "cell_type": "code",
   "execution_count": null,
   "metadata": {},
   "outputs": [],
   "source": [
    "master = sako18.load_table('master').to_pandas()\n",
    "master['JD'] = master['MJDatPeakrmag'] + 2400000.5\n",
    "master.head()\n"
   ]
  },
  {
   "cell_type": "code",
   "execution_count": null,
   "metadata": {},
   "outputs": [],
   "source": [
    "classifications = set(master['Classification'])\n",
    "classifications\n"
   ]
  },
  {
   "cell_type": "code",
   "execution_count": null,
   "metadata": {},
   "outputs": [],
   "source": [
    "targets_with_redshift = master[master['zCMB'] >= 0]\n",
    "\n",
    "skip_types = ('AGN', 'Variable', 'SNII', 'zSNII', 'pSNII')\n",
    "indices = ~np.isin(targets_with_redshift['Classification'], skip_types)\n",
    "targets_of_interest = targets_with_redshift[indices]\n",
    "\n",
    "print('Total targets of interest:', len(targets_of_interest), '/', len(master))\n"
   ]
  },
  {
   "cell_type": "code",
   "execution_count": null,
   "metadata": {},
   "outputs": [],
   "source": [
    "sdss_config = create_config_dict(\n",
    "    targets_of_interest['CID'],\n",
    "    targets_of_interest['JD'], \n",
    "    targets_of_interest['zCMB'])\n"
   ]
  },
  {
   "cell_type": "code",
   "execution_count": null,
   "metadata": {},
   "outputs": [],
   "source": [
    "sdss_out_path = out_dir / Path('sdss_config.yml')\n",
    "raise_path_exists(sdss_out_path)\n",
    "with open(sdss_out_path, 'w') as ofile:\n",
    "    yaml.dump(sdss_config, ofile)\n"
   ]
  },
  {
   "cell_type": "markdown",
   "metadata": {},
   "source": [
    "## CSP - DR1"
   ]
  },
  {
   "cell_type": "code",
   "execution_count": null,
   "metadata": {},
   "outputs": [],
   "source": [
    "csp_table_1 = dr1.load_table(1).to_pandas()\n",
    "csp_table_1['JD'] = csp_table_1['T0'] + 2400000.5\n",
    "csp_table_1.head()\n"
   ]
  },
  {
   "cell_type": "code",
   "execution_count": null,
   "metadata": {},
   "outputs": [],
   "source": [
    "csp_config = create_config_dict(\n",
    "    csp_table_1['SN'],\n",
    "    csp_table_1['JD'], \n",
    "    csp_table_1['zCMB'])\n",
    "\n"
   ]
  },
  {
   "cell_type": "code",
   "execution_count": null,
   "metadata": {},
   "outputs": [],
   "source": [
    "csp_out_path = out_dir / Path('csp_config.yml')\n",
    "raise_path_exists(csp_out_path)\n",
    "with open(csp_out_path, 'w') as ofile:\n",
    "    yaml.dump(csp_config, ofile)\n"
   ]
  },
  {
   "cell_type": "markdown",
   "metadata": {},
   "source": [
    "## DES - SN3yr"
   ]
  },
  {
   "cell_type": "code",
   "execution_count": null,
   "metadata": {},
   "outputs": [],
   "source": [
    "des_fit_res = sn3yr.load_table('SALT2mu_DES+LOWZ_C11.FITRES').to_pandas()\n",
    "des_fit_res['JD'] = des_fit_res['PKMJD'] + 2400000.5\n",
    "des_fit_res.CIDint = des_fit_res.CIDint.apply(lambda x: str(x).zfill(8))\n",
    "des_fit_res.head()\n"
   ]
  },
  {
   "cell_type": "code",
   "execution_count": null,
   "metadata": {},
   "outputs": [],
   "source": [
    "des_config = create_config_dict(\n",
    "    des_fit_res['CIDint'],\n",
    "    des_fit_res['JD'], \n",
    "    des_fit_res['zCMB'])\n"
   ]
  },
  {
   "cell_type": "code",
   "execution_count": null,
   "metadata": {},
   "outputs": [],
   "source": [
    "des_out_path = out_dir / Path('des_config.yml')\n",
    "raise_path_exists(des_out_path)\n",
    "with open(des_out_path, 'w') as ofile:\n",
    "    yaml.dump(des_config, ofile)\n",
    "    "
   ]
  },
  {
   "cell_type": "code",
   "execution_count": null,
   "metadata": {},
   "outputs": [],
   "source": []
  }
 ],
 "metadata": {
  "kernelspec": {
   "display_name": "Python [conda env:phot_class] *",
   "language": "python",
   "name": "conda-env-phot_class-py"
  },
  "language_info": {
   "codemirror_mode": {
    "name": "ipython",
    "version": 3
   },
   "file_extension": ".py",
   "mimetype": "text/x-python",
   "name": "python",
   "nbconvert_exporter": "python",
   "pygments_lexer": "ipython3",
   "version": "3.7.4"
  }
 },
 "nbformat": 4,
 "nbformat_minor": 2
}
