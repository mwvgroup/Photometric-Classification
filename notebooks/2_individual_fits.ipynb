{
 "cells": [
  {
   "cell_type": "markdown",
   "metadata": {},
   "source": [
    "# Exploring Individual Fits\n",
    "\n",
    "This notebook looks at fit results for individual light-curves.\n"
   ]
  },
  {
   "cell_type": "code",
   "execution_count": null,
   "metadata": {},
   "outputs": [],
   "source": [
    "import sys\n",
    "from copy import deepcopy\n",
    "from pathlib import Path\n",
    "\n",
    "import pandas as pd\n",
    "import sncosmo\n",
    "from IPython.display import clear_output\n",
    "from matplotlib import pyplot as plt\n",
    "\n",
    "sys.path.insert(0, '../')\n",
    "from analysis_pipeline.data_access import csp, des, sdss\n",
    "from analysis_pipeline import SN91bgSource\n"
   ]
  },
  {
   "cell_type": "code",
   "execution_count": null,
   "metadata": {},
   "outputs": [],
   "source": [
    "salt2_20 = sncosmo.Model(source='salt2', version='2.0')\n",
    "salt2_24 = sncosmo.Model(source='salt2', version='2.4')\n",
    "sn_91bg = sncosmo.Model(source=SN91bgSource())\n"
   ]
  },
  {
   "cell_type": "markdown",
   "metadata": {},
   "source": [
    "## Individual fits\n",
    "\n",
    "We start by looking at fits individually"
   ]
  },
  {
   "cell_type": "code",
   "execution_count": null,
   "metadata": {},
   "outputs": [],
   "source": [
    "fit_results_dir = Path('../fit_results')\n",
    "\n",
    "def set_model(cid, survey, model, num_params, bands):\n",
    "    \"\"\"Set model parameters using fit results\n",
    "    \n",
    "    Args:\n",
    "        cid        (str): Object id\n",
    "        survey     (str): Survey name (eg. csp)\n",
    "        model    (Model): An SNCosmo model\n",
    "        num_params (int): The number of fitted parameters (4 or 5)\n",
    "        bands      (str): 'all', 'blue', or 'red'\n",
    "        \n",
    "    Returns:\n",
    "        A copy of ``model`` with set parameter values\n",
    "    \"\"\"    \n",
    "\n",
    "    model_name = f'{model.source.name}_{model.source.version}'\n",
    "    fname = f'{survey}_{num_params}_{model_name}_{bands}.csv'\n",
    "    table_path = fit_results_dir / survey / fname\n",
    "\n",
    "    results_df = pd.read_csv(table_path)\n",
    "    results_for_cid = results_df[results_df['cid'] == cid]\n",
    "    \n",
    "    out_model = deepcopy(model)\n",
    "    out_model.set(\n",
    "        z=results_for_cid['z'],\n",
    "        t0=results_for_cid['t0'],\n",
    "        x0=results_for_cid['x0'],\n",
    "        x1=results_for_cid['x1'],\n",
    "        c=results_for_cid['c']\n",
    "    )\n",
    "    \n",
    "    return out_model\n",
    "\n",
    "\n",
    "def plot_fit(cid, survey, model, num_params, bands):\n",
    "    \"\"\"Plot a fitted light curve\n",
    "    \n",
    "    Args:\n",
    "        cid        (str): Object id\n",
    "        survey     (str): Survey name (eg. csp)\n",
    "        model    (Model): An SNCosmo model\n",
    "        num_params (int): The number of fitted parameters (4 or 5)\n",
    "        bands      (str): 'all', 'blue', or 'red'\n",
    "    \"\"\"\n",
    "\n",
    "    data_module = {'csp': csp, 'des': des, 'sdss': sdss}[survey] \n",
    "    data = data_module.get_input_for_id(cid)\n",
    "    model = set_model(cid, survey, model, num_params, bands)\n",
    "    sncosmo.plot_lc(data, model)\n",
    "    plt.show()\n"
   ]
  },
  {
   "cell_type": "code",
   "execution_count": null,
   "metadata": {},
   "outputs": [],
   "source": [
    "plot_fit('2005kc', 'csp', salt2_24, 4, 'all')"
   ]
  },
  {
   "cell_type": "markdown",
   "metadata": {},
   "source": [
    "## Iteritive Fits\n",
    "\n",
    "Next we iterate over targets and look at look at fits in all, blue, and red bands."
   ]
  },
  {
   "cell_type": "code",
   "execution_count": null,
   "metadata": {},
   "outputs": [],
   "source": [
    "def iter_fit_results(survey, model, num_params):\n",
    "    \"\"\"Iteratively plot fit results for all, blue, and red bands\n",
    "    \n",
    "    Pause for input after aver target\n",
    "    \n",
    "    Args:\n",
    "        survey     (str): Survey name (eg. csp)\n",
    "        model    (Model): An SNCosmo model\n",
    "        num_params (int): The number of fitted parameters (4 or 5)\n",
    "    \"\"\"\n",
    "    \n",
    "    data_module = {'csp': csp, 'des': des, 'sdss': sdss}[survey] \n",
    "    for cid in data_module.get_target_ids():\n",
    "        clear_output()\n",
    "        plot_fit(cid, survey, model, num_params, 'all')\n",
    "        plot_fit(cid, survey, model, num_params, 'blue')\n",
    "        plot_fit(cid, survey, model, num_params, 'red')\n",
    "        \n",
    "        i = input()\n",
    "        if i != '':\n",
    "            return\n"
   ]
  },
  {
   "cell_type": "code",
   "execution_count": null,
   "metadata": {
    "scrolled": false
   },
   "outputs": [],
   "source": [
    "iter_fit_results('csp', salt2_24, 4)"
   ]
  },
  {
   "cell_type": "code",
   "execution_count": null,
   "metadata": {},
   "outputs": [],
   "source": []
  }
 ],
 "metadata": {
  "kernelspec": {
   "display_name": "Python [conda env:sdss_class] *",
   "language": "python",
   "name": "conda-env-sdss_class-py"
  },
  "language_info": {
   "codemirror_mode": {
    "name": "ipython",
    "version": 3
   },
   "file_extension": ".py",
   "mimetype": "text/x-python",
   "name": "python",
   "nbconvert_exporter": "python",
   "pygments_lexer": "ipython3",
   "version": "3.7.3"
  }
 },
 "nbformat": 4,
 "nbformat_minor": 2
}
