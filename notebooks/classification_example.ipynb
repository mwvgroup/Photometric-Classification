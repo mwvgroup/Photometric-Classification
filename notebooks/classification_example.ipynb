{
 "cells": [
  {
   "cell_type": "code",
   "execution_count": 1,
   "metadata": {},
   "outputs": [],
   "source": [
    "import signal\n",
    "import sys\n",
    "import warnings\n",
    "from copy import deepcopy\n",
    "\n",
    "import numpy as np\n",
    "import sncosmo\n",
    "from astropy.table import Table\n",
    "from matplotlib import pyplot as plt\n",
    "from sndata.csp import dr1, dr3\n",
    "from sndata.des import sn3yr\n",
    "from tqdm import tqdm_notebook\n",
    "\n",
    "sys.path.insert(0, '../')\n",
    "from analysis_pipeline import models, classification\n",
    "from analysis_pipeline.utils import split_data, calc_model_chisq as calc_chisq\n",
    "\n",
    "warnings.simplefilter('ignore')\n"
   ]
  },
  {
   "cell_type": "markdown",
   "metadata": {},
   "source": [
    "## Load and register data"
   ]
  },
  {
   "cell_type": "code",
   "execution_count": 3,
   "metadata": {},
   "outputs": [],
   "source": [
    "# Download and register data\n",
    "dr1.download_module_data()\n",
    "dr3.download_module_data()\n",
    "dr3.register_filters(force=True)\n",
    "# sn3yr.register_filters(force=True)\n",
    "models.register_sources(force=True)\n"
   ]
  },
  {
   "cell_type": "markdown",
   "metadata": {},
   "source": [
    "## Load Spectroscopic Classifications"
   ]
  },
  {
   "cell_type": "code",
   "execution_count": 4,
   "metadata": {
    "scrolled": false
   },
   "outputs": [
    {
     "data": {
      "text/html": [
       "<i>Table masked=True length=92</i>\n",
       "<table id=\"table5081062160-523144\" class=\"table-striped table-bordered table-condensed\">\n",
       "<thead><tr><th>idx</th><th>SN</th><th>Type</th></tr></thead>\n",
       "<tr><td>0</td><td>2004dt</td><td>Normal</td></tr>\n",
       "<tr><td>1</td><td>2004ef</td><td>Normal</td></tr>\n",
       "<tr><td>2</td><td>2004eo</td><td>Normal</td></tr>\n",
       "<tr><td>3</td><td>2004ey</td><td>Normal</td></tr>\n",
       "<tr><td>4</td><td>2004gc</td><td>Normal</td></tr>\n",
       "<tr><td>5</td><td>2004gs</td><td>Normal</td></tr>\n",
       "<tr><td>6</td><td>2004gu</td><td>Normal</td></tr>\n",
       "<tr><td>7</td><td>2005A</td><td>Normal</td></tr>\n",
       "<tr><td>8</td><td>2005M</td><td>91T</td></tr>\n",
       "<tr><td>9</td><td>2005ag</td><td>Normal</td></tr>\n",
       "<tr><td>10</td><td>2005al</td><td>Normal</td></tr>\n",
       "<tr><td>11</td><td>2005am</td><td>Normal</td></tr>\n",
       "<tr><td>12</td><td>2005be</td><td>Normal</td></tr>\n",
       "<tr><td>13</td><td>2005bg</td><td>Normal</td></tr>\n",
       "<tr><td>14</td><td>2005bl</td><td>91bg</td></tr>\n",
       "<tr><td>15</td><td>2005bo</td><td>Normal</td></tr>\n",
       "<tr><td>16</td><td>2005el</td><td>Normal</td></tr>\n",
       "<tr><td>17</td><td>2005eq</td><td>91T</td></tr>\n",
       "<tr><td>18</td><td>2005hc</td><td>Normal</td></tr>\n",
       "<tr><td>19</td><td>2005iq</td><td>Normal</td></tr>\n",
       "<tr><td>20</td><td>2005kc</td><td>Normal</td></tr>\n",
       "<tr><td>21</td><td>2005ke</td><td>91bg</td></tr>\n",
       "<tr><td>22</td><td>2005ki</td><td>Normal</td></tr>\n",
       "<tr><td>23</td><td>2005ku</td><td>Normal</td></tr>\n",
       "<tr><td>24</td><td>2005lu</td><td>Normal</td></tr>\n",
       "<tr><td>25</td><td>2005na</td><td>Normal</td></tr>\n",
       "<tr><td>26</td><td>2006D</td><td>Normal</td></tr>\n",
       "<tr><td>27</td><td>2006X</td><td>Normal</td></tr>\n",
       "<tr><td>28</td><td>2006ax</td><td>Normal</td></tr>\n",
       "<tr><td>29</td><td>2006bd</td><td>91bg</td></tr>\n",
       "<tr><td>30</td><td>2006bh</td><td>Normal</td></tr>\n",
       "<tr><td>31</td><td>2006br</td><td>Normal</td></tr>\n",
       "<tr><td>32</td><td>2006dd</td><td>Normal</td></tr>\n",
       "<tr><td>33</td><td>2006ef</td><td>Normal</td></tr>\n",
       "<tr><td>34</td><td>2006ej</td><td>Normal</td></tr>\n",
       "<tr><td>35</td><td>2006eq</td><td>Normal</td></tr>\n",
       "<tr><td>36</td><td>2006et</td><td>Normal</td></tr>\n",
       "<tr><td>37</td><td>2006ev</td><td>Normal</td></tr>\n",
       "<tr><td>38</td><td>2006fw</td><td>Normal</td></tr>\n",
       "<tr><td>39</td><td>2006gj</td><td>Normal</td></tr>\n",
       "<tr><td>40</td><td>2006gt</td><td>91bg</td></tr>\n",
       "<tr><td>41</td><td>2006hb</td><td>86G</td></tr>\n",
       "<tr><td>42</td><td>2006hx</td><td>Normal</td></tr>\n",
       "<tr><td>43</td><td>2006is</td><td>Normal</td></tr>\n",
       "<tr><td>44</td><td>2006kf</td><td>Normal</td></tr>\n",
       "<tr><td>45</td><td>2006lu</td><td>Normal</td></tr>\n",
       "<tr><td>46</td><td>2006mr</td><td>91bg</td></tr>\n",
       "<tr><td>47</td><td>2006ob</td><td>Normal</td></tr>\n",
       "<tr><td>48</td><td>2006os</td><td>Normal</td></tr>\n",
       "<tr><td>49</td><td>2006ot</td><td>peculiar</td></tr>\n",
       "<tr><td>50</td><td>2006py</td><td>Normal</td></tr>\n",
       "<tr><td>51</td><td>2007A</td><td>Normal</td></tr>\n",
       "<tr><td>52</td><td>2007N</td><td>91bg</td></tr>\n",
       "<tr><td>53</td><td>2007S</td><td>91T</td></tr>\n",
       "<tr><td>54</td><td>2007af</td><td>Normal</td></tr>\n",
       "<tr><td>55</td><td>2007ai</td><td>91T</td></tr>\n",
       "<tr><td>56</td><td>2007al</td><td>91bg</td></tr>\n",
       "<tr><td>57</td><td>2007as</td><td>Normal</td></tr>\n",
       "<tr><td>58</td><td>2007ax</td><td>91bg</td></tr>\n",
       "<tr><td>59</td><td>2007ba</td><td>91bg</td></tr>\n",
       "<tr><td>60</td><td>2007bc</td><td>Normal</td></tr>\n",
       "<tr><td>61</td><td>2007bd</td><td>Normal</td></tr>\n",
       "<tr><td>62</td><td>2007bm</td><td>Normal</td></tr>\n",
       "<tr><td>63</td><td>2007ca</td><td>Normal</td></tr>\n",
       "<tr><td>64</td><td>2007hj</td><td>Normal</td></tr>\n",
       "<tr><td>65</td><td>2007jg</td><td>Normal</td></tr>\n",
       "<tr><td>66</td><td>2007jh</td><td>86G</td></tr>\n",
       "<tr><td>67</td><td>2007le</td><td>Normal</td></tr>\n",
       "<tr><td>68</td><td>2007nq</td><td>Normal</td></tr>\n",
       "<tr><td>69</td><td>2007on</td><td>Normal</td></tr>\n",
       "<tr><td>70</td><td>2007sr</td><td>Normal</td></tr>\n",
       "<tr><td>71</td><td>2007ux</td><td>Normal</td></tr>\n",
       "<tr><td>72</td><td>2008C</td><td>Normal</td></tr>\n",
       "<tr><td>73</td><td>2008R</td><td>91bg</td></tr>\n",
       "<tr><td>74</td><td>2008ar</td><td>Normal</td></tr>\n",
       "<tr><td>75</td><td>2008bc</td><td>Normal</td></tr>\n",
       "<tr><td>76</td><td>2008bf</td><td>Normal</td></tr>\n",
       "<tr><td>77</td><td>2008bq</td><td>Normal</td></tr>\n",
       "<tr><td>78</td><td>2008fp</td><td>Normal</td></tr>\n",
       "<tr><td>79</td><td>2008gl</td><td>Normal</td></tr>\n",
       "<tr><td>80</td><td>2008gp</td><td>Normal</td></tr>\n",
       "<tr><td>81</td><td>2008hu</td><td>Normal</td></tr>\n",
       "<tr><td>82</td><td>2008hv</td><td>Normal</td></tr>\n",
       "<tr><td>83</td><td>2008ia</td><td>Normal</td></tr>\n",
       "<tr><td>84</td><td>2009D</td><td>Normal</td></tr>\n",
       "<tr><td>85</td><td>2009F</td><td>91bg</td></tr>\n",
       "<tr><td>86</td><td>2009Y</td><td>Normal</td></tr>\n",
       "<tr><td>87</td><td>2009aa</td><td>Normal</td></tr>\n",
       "<tr><td>88</td><td>2009ab</td><td>Normal</td></tr>\n",
       "<tr><td>89</td><td>2009ad</td><td>Normal</td></tr>\n",
       "<tr><td>90</td><td>2009ag</td><td>Normal</td></tr>\n",
       "<tr><td>91</td><td>2005hj</td><td>91T</td></tr>\n",
       "</table><style>table.dataTable {clear: both; width: auto !important; margin: 0 !important;}\n",
       ".dataTables_info, .dataTables_length, .dataTables_filter, .dataTables_paginate{\n",
       "display: inline-block; margin-right: 1em; }\n",
       ".paginate_button { margin-right: 5px; }\n",
       "</style>\n",
       "<script>\n",
       "\n",
       "var astropy_sort_num = function(a, b) {\n",
       "    var a_num = parseFloat(a);\n",
       "    var b_num = parseFloat(b);\n",
       "\n",
       "    if (isNaN(a_num) && isNaN(b_num))\n",
       "        return ((a < b) ? -1 : ((a > b) ? 1 : 0));\n",
       "    else if (!isNaN(a_num) && !isNaN(b_num))\n",
       "        return ((a_num < b_num) ? -1 : ((a_num > b_num) ? 1 : 0));\n",
       "    else\n",
       "        return isNaN(a_num) ? -1 : 1;\n",
       "}\n",
       "\n",
       "require.config({paths: {\n",
       "    datatables: 'https://cdn.datatables.net/1.10.12/js/jquery.dataTables.min'\n",
       "}});\n",
       "require([\"datatables\"], function(){\n",
       "    console.log(\"$('#table5081062160-523144').dataTable()\");\n",
       "    \n",
       "jQuery.extend( jQuery.fn.dataTableExt.oSort, {\n",
       "    \"optionalnum-asc\": astropy_sort_num,\n",
       "    \"optionalnum-desc\": function (a,b) { return -astropy_sort_num(a, b); }\n",
       "});\n",
       "\n",
       "    $('#table5081062160-523144').dataTable({\n",
       "        order: [],\n",
       "        pageLength: 10,\n",
       "        lengthMenu: [[10, 25, 50, 100, 500, 1000, -1], [10, 25, 50, 100, 500, 1000, 'All']],\n",
       "        pagingType: \"full_numbers\",\n",
       "        columnDefs: [{targets: [0], type: \"optionalnum\"}]\n",
       "    });\n",
       "});\n",
       "</script>\n"
      ],
      "text/plain": [
       "<IPython.core.display.HTML object>"
      ]
     },
     "execution_count": 4,
     "metadata": {},
     "output_type": "execute_result"
    }
   ],
   "source": [
    "# Get list of targets that are spectroscopically classified\n",
    "dr1_table_1 = dr1.load_table(1)\n",
    "is_typed = ~dr1_table_1['Type'].mask\n",
    "classifications = dr1_table_1['SN', 'Type'][is_typed]\n",
    "classifications.show_in_notebook(display_length=10)\n"
   ]
  },
  {
   "cell_type": "markdown",
   "metadata": {},
   "source": [
    "## Plot Pipeline Results"
   ]
  },
  {
   "cell_type": "code",
   "execution_count": 6,
   "metadata": {},
   "outputs": [
    {
     "data": {
      "image/png": "[encoded data removed]",
      "text/plain": [
       "<Figure size 720x720 with 1 Axes>"
      ]
     },
     "metadata": {
      "needs_background": "light"
     },
     "output_type": "display_data"
    }
   ],
   "source": [
    "dr3_fits = Table.read('/Users/daniel/Github/SDSS-Classification/phot_class_results/csp_dr3_simple_fit_fits.ecsv')\n",
    "dr3_fits = Table(dr3_fits, masked=True)\n",
    "dr3_classifications = classification.classify_targets(dr3_fits)\n",
    "\n",
    "plt.figure(figsize=(10, 10))\n",
    "for snclass in set(classifications['Type']):\n",
    "    indices = np.isin(dr3_classifications['obj_id'], classifications[classifications['Type'] == snclass]['SN'])\n",
    "    plot_data = dr3_classifications[indices]\n",
    "    plt.scatter(plot_data['x'], plot_data['y'], label=snclass)\n",
    "\n",
    "plt.axvline(0, linestyle='--', color='grey')\n",
    "plt.axhline(0, linestyle='--', color='grey')\n",
    "plt.xlabel(r'$\\chi^2_{blue}(Ia) - \\chi^2_{blue}(91bg)$', fontsize=14)\n",
    "plt.ylabel(r'$\\chi^2_{red}(Ia) - \\chi^2_{red}(91bg)$', fontsize=14)\n",
    "plt.legend()\n",
    "plt.show()\n"
   ]
  },
  {
   "cell_type": "code",
   "execution_count": 7,
   "metadata": {},
   "outputs": [
    {
     "data": {
      "text/plain": [
       "2454124.3"
      ]
     },
     "execution_count": 7,
     "metadata": {},
     "output_type": "execute_result"
    }
   ],
   "source": [
    "dr1_table = dr1.load_table(1)\n",
    "t0 = dr1_table[dr1_table['SN'] == '2007N']['T0'][0] + 2400000.5\n",
    "t0"
   ]
  },
  {
   "cell_type": "code",
   "execution_count": 8,
   "metadata": {
    "scrolled": false
   },
   "outputs": [
    {
     "name": "stdout",
     "output_type": "stream",
     "text": [
      "norm_blue_chisq nan\n",
      "norm_red_chisq nan\n",
      "bg_blue_chisq nan\n",
      "bg_red_chisq nan\n"
     ]
    },
    {
     "data": {
      "text/plain": [
       "(nan, nan)"
      ]
     },
     "execution_count": 8,
     "metadata": {},
     "output_type": "execute_result"
    }
   ],
   "source": [
    "classify_set_salt2_t0(\n",
    "    all_data_table, red_data_table, blue_data_table, \n",
    "    vparams=['t0', 'x0', 'x1', 'c'],\n",
    "    kwargs_s2=dict(bounds={'t0': [2454124.2, 2454124.4]}),\n",
    "    kwargs_bg=dict(bounds={'x1': [0.65, 1.25], 'c': [0, 1]}),\n",
    "    show_plots=True\n",
    ")"
   ]
  },
  {
   "cell_type": "code",
   "execution_count": 9,
   "metadata": {},
   "outputs": [
    {
     "ename": "FileNotFoundError",
     "evalue": "[Errno 2] No such file or directory: '/Users/daniel/Github/SDSS-Classification/analysis_results/des_sn3yr_simple_fit_fits.ecsv'",
     "output_type": "error",
     "traceback": [
      "\u001b[0;31m---------------------------------------------------------------------------\u001b[0m",
      "\u001b[0;31mFileNotFoundError\u001b[0m                         Traceback (most recent call last)",
      "\u001b[0;32m<ipython-input-9-a39e531ebde2>\u001b[0m in \u001b[0;36m<module>\u001b[0;34m\u001b[0m\n\u001b[0;32m----> 1\u001b[0;31m \u001b[0mdes_fits\u001b[0m \u001b[0;34m=\u001b[0m \u001b[0mTable\u001b[0m\u001b[0;34m.\u001b[0m\u001b[0mread\u001b[0m\u001b[0;34m(\u001b[0m\u001b[0;34m'/Users/daniel/Github/SDSS-Classification/analysis_results/des_sn3yr_simple_fit_fits.ecsv'\u001b[0m\u001b[0;34m)\u001b[0m\u001b[0;34m\u001b[0m\u001b[0;34m\u001b[0m\u001b[0m\n\u001b[0m\u001b[1;32m      2\u001b[0m \u001b[0mdes_fits\u001b[0m \u001b[0;34m=\u001b[0m \u001b[0mTable\u001b[0m\u001b[0;34m(\u001b[0m\u001b[0mdes_fits\u001b[0m\u001b[0;34m,\u001b[0m \u001b[0mmasked\u001b[0m\u001b[0;34m=\u001b[0m\u001b[0;32mTrue\u001b[0m\u001b[0;34m)\u001b[0m\u001b[0;34m\u001b[0m\u001b[0;34m\u001b[0m\u001b[0m\n\u001b[1;32m      3\u001b[0m \u001b[0mdes_classifications\u001b[0m \u001b[0;34m=\u001b[0m \u001b[0mclassification\u001b[0m\u001b[0;34m.\u001b[0m\u001b[0mclassify_targets\u001b[0m\u001b[0;34m(\u001b[0m\u001b[0mdes_fits\u001b[0m\u001b[0;34m)\u001b[0m\u001b[0;34m\u001b[0m\u001b[0;34m\u001b[0m\u001b[0m\n\u001b[1;32m      4\u001b[0m \u001b[0;34m\u001b[0m\u001b[0m\n\u001b[1;32m      5\u001b[0m \u001b[0mplt\u001b[0m\u001b[0;34m.\u001b[0m\u001b[0mfigure\u001b[0m\u001b[0;34m(\u001b[0m\u001b[0mfigsize\u001b[0m\u001b[0;34m=\u001b[0m\u001b[0;34m(\u001b[0m\u001b[0;36m10\u001b[0m\u001b[0;34m,\u001b[0m \u001b[0;36m10\u001b[0m\u001b[0;34m)\u001b[0m\u001b[0;34m)\u001b[0m\u001b[0;34m\u001b[0m\u001b[0;34m\u001b[0m\u001b[0m\n",
      "\u001b[0;32m/anaconda3/envs/sdss_class/lib/python3.7/site-packages/astropy/table/connect.py\u001b[0m in \u001b[0;36m__call__\u001b[0;34m(self, *args, **kwargs)\u001b[0m\n\u001b[1;32m     50\u001b[0m     \u001b[0;32mdef\u001b[0m \u001b[0m__call__\u001b[0m\u001b[0;34m(\u001b[0m\u001b[0mself\u001b[0m\u001b[0;34m,\u001b[0m \u001b[0;34m*\u001b[0m\u001b[0margs\u001b[0m\u001b[0;34m,\u001b[0m \u001b[0;34m**\u001b[0m\u001b[0mkwargs\u001b[0m\u001b[0;34m)\u001b[0m\u001b[0;34m:\u001b[0m\u001b[0;34m\u001b[0m\u001b[0;34m\u001b[0m\u001b[0m\n\u001b[1;32m     51\u001b[0m         \u001b[0mcls\u001b[0m \u001b[0;34m=\u001b[0m \u001b[0mself\u001b[0m\u001b[0;34m.\u001b[0m\u001b[0m_cls\u001b[0m\u001b[0;34m\u001b[0m\u001b[0;34m\u001b[0m\u001b[0m\n\u001b[0;32m---> 52\u001b[0;31m         \u001b[0mout\u001b[0m \u001b[0;34m=\u001b[0m \u001b[0mregistry\u001b[0m\u001b[0;34m.\u001b[0m\u001b[0mread\u001b[0m\u001b[0;34m(\u001b[0m\u001b[0mcls\u001b[0m\u001b[0;34m,\u001b[0m \u001b[0;34m*\u001b[0m\u001b[0margs\u001b[0m\u001b[0;34m,\u001b[0m \u001b[0;34m**\u001b[0m\u001b[0mkwargs\u001b[0m\u001b[0;34m)\u001b[0m\u001b[0;34m\u001b[0m\u001b[0;34m\u001b[0m\u001b[0m\n\u001b[0m\u001b[1;32m     53\u001b[0m \u001b[0;34m\u001b[0m\u001b[0m\n\u001b[1;32m     54\u001b[0m         \u001b[0;31m# For some readers (e.g., ascii.ecsv), the returned `out` class is not\u001b[0m\u001b[0;34m\u001b[0m\u001b[0;34m\u001b[0m\u001b[0;34m\u001b[0m\u001b[0m\n",
      "\u001b[0;32m/anaconda3/envs/sdss_class/lib/python3.7/site-packages/astropy/io/registry.py\u001b[0m in \u001b[0;36mread\u001b[0;34m(cls, format, *args, **kwargs)\u001b[0m\n\u001b[1;32m    506\u001b[0m                     \u001b[0;32mtry\u001b[0m\u001b[0;34m:\u001b[0m\u001b[0;34m\u001b[0m\u001b[0;34m\u001b[0m\u001b[0m\n\u001b[1;32m    507\u001b[0m                         \u001b[0mctx\u001b[0m \u001b[0;34m=\u001b[0m \u001b[0mget_readable_fileobj\u001b[0m\u001b[0;34m(\u001b[0m\u001b[0margs\u001b[0m\u001b[0;34m[\u001b[0m\u001b[0;36m0\u001b[0m\u001b[0;34m]\u001b[0m\u001b[0;34m,\u001b[0m \u001b[0mencoding\u001b[0m\u001b[0;34m=\u001b[0m\u001b[0;34m'binary'\u001b[0m\u001b[0;34m)\u001b[0m\u001b[0;34m\u001b[0m\u001b[0;34m\u001b[0m\u001b[0m\n\u001b[0;32m--> 508\u001b[0;31m                         \u001b[0mfileobj\u001b[0m \u001b[0;34m=\u001b[0m \u001b[0mctx\u001b[0m\u001b[0;34m.\u001b[0m\u001b[0m__enter__\u001b[0m\u001b[0;34m(\u001b[0m\u001b[0;34m)\u001b[0m\u001b[0;34m\u001b[0m\u001b[0;34m\u001b[0m\u001b[0m\n\u001b[0m\u001b[1;32m    509\u001b[0m                     \u001b[0;32mexcept\u001b[0m \u001b[0mOSError\u001b[0m\u001b[0;34m:\u001b[0m\u001b[0;34m\u001b[0m\u001b[0;34m\u001b[0m\u001b[0m\n\u001b[1;32m    510\u001b[0m                         \u001b[0;32mraise\u001b[0m\u001b[0;34m\u001b[0m\u001b[0;34m\u001b[0m\u001b[0m\n",
      "\u001b[0;32m/anaconda3/envs/sdss_class/lib/python3.7/contextlib.py\u001b[0m in \u001b[0;36m__enter__\u001b[0;34m(self)\u001b[0m\n\u001b[1;32m    110\u001b[0m         \u001b[0;32mdel\u001b[0m \u001b[0mself\u001b[0m\u001b[0;34m.\u001b[0m\u001b[0margs\u001b[0m\u001b[0;34m,\u001b[0m \u001b[0mself\u001b[0m\u001b[0;34m.\u001b[0m\u001b[0mkwds\u001b[0m\u001b[0;34m,\u001b[0m \u001b[0mself\u001b[0m\u001b[0;34m.\u001b[0m\u001b[0mfunc\u001b[0m\u001b[0;34m\u001b[0m\u001b[0;34m\u001b[0m\u001b[0m\n\u001b[1;32m    111\u001b[0m         \u001b[0;32mtry\u001b[0m\u001b[0;34m:\u001b[0m\u001b[0;34m\u001b[0m\u001b[0;34m\u001b[0m\u001b[0m\n\u001b[0;32m--> 112\u001b[0;31m             \u001b[0;32mreturn\u001b[0m \u001b[0mnext\u001b[0m\u001b[0;34m(\u001b[0m\u001b[0mself\u001b[0m\u001b[0;34m.\u001b[0m\u001b[0mgen\u001b[0m\u001b[0;34m)\u001b[0m\u001b[0;34m\u001b[0m\u001b[0;34m\u001b[0m\u001b[0m\n\u001b[0m\u001b[1;32m    113\u001b[0m         \u001b[0;32mexcept\u001b[0m \u001b[0mStopIteration\u001b[0m\u001b[0;34m:\u001b[0m\u001b[0;34m\u001b[0m\u001b[0;34m\u001b[0m\u001b[0m\n\u001b[1;32m    114\u001b[0m             \u001b[0;32mraise\u001b[0m \u001b[0mRuntimeError\u001b[0m\u001b[0;34m(\u001b[0m\u001b[0;34m\"generator didn't yield\"\u001b[0m\u001b[0;34m)\u001b[0m \u001b[0;32mfrom\u001b[0m \u001b[0;32mNone\u001b[0m\u001b[0;34m\u001b[0m\u001b[0;34m\u001b[0m\u001b[0m\n",
      "\u001b[0;32m/anaconda3/envs/sdss_class/lib/python3.7/site-packages/astropy/utils/data.py\u001b[0m in \u001b[0;36mget_readable_fileobj\u001b[0;34m(name_or_obj, encoding, cache, show_progress, remote_timeout)\u001b[0m\n\u001b[1;32m    191\u001b[0m                 \u001b[0mname_or_obj\u001b[0m\u001b[0;34m,\u001b[0m \u001b[0mcache\u001b[0m\u001b[0;34m=\u001b[0m\u001b[0mcache\u001b[0m\u001b[0;34m,\u001b[0m \u001b[0mshow_progress\u001b[0m\u001b[0;34m=\u001b[0m\u001b[0mshow_progress\u001b[0m\u001b[0;34m,\u001b[0m\u001b[0;34m\u001b[0m\u001b[0;34m\u001b[0m\u001b[0m\n\u001b[1;32m    192\u001b[0m                 timeout=remote_timeout)\n\u001b[0;32m--> 193\u001b[0;31m         \u001b[0mfileobj\u001b[0m \u001b[0;34m=\u001b[0m \u001b[0mio\u001b[0m\u001b[0;34m.\u001b[0m\u001b[0mFileIO\u001b[0m\u001b[0;34m(\u001b[0m\u001b[0mname_or_obj\u001b[0m\u001b[0;34m,\u001b[0m \u001b[0;34m'r'\u001b[0m\u001b[0;34m)\u001b[0m\u001b[0;34m\u001b[0m\u001b[0;34m\u001b[0m\u001b[0m\n\u001b[0m\u001b[1;32m    194\u001b[0m         \u001b[0;32mif\u001b[0m \u001b[0mis_url\u001b[0m \u001b[0;32mand\u001b[0m \u001b[0;32mnot\u001b[0m \u001b[0mcache\u001b[0m\u001b[0;34m:\u001b[0m\u001b[0;34m\u001b[0m\u001b[0;34m\u001b[0m\u001b[0m\n\u001b[1;32m    195\u001b[0m             \u001b[0mdelete_fds\u001b[0m\u001b[0;34m.\u001b[0m\u001b[0mappend\u001b[0m\u001b[0;34m(\u001b[0m\u001b[0mfileobj\u001b[0m\u001b[0;34m)\u001b[0m\u001b[0;34m\u001b[0m\u001b[0;34m\u001b[0m\u001b[0m\n",
      "\u001b[0;31mFileNotFoundError\u001b[0m: [Errno 2] No such file or directory: '/Users/daniel/Github/SDSS-Classification/analysis_results/des_sn3yr_simple_fit_fits.ecsv'"
     ]
    }
   ],
   "source": [
    "des_fits = Table.read('/Users/daniel/Github/SDSS-Classification/analysis_results/des_sn3yr_simple_fit_fits.ecsv')\n",
    "des_fits = Table(des_fits, masked=True)\n",
    "des_classifications = classification.classify_targets(des_fits)\n",
    "\n",
    "plt.figure(figsize=(10, 10))\n",
    "plt.scatter(des_classifications['y'], des_classifications['x'], label='DES')\n",
    "\n",
    "plt.axvline(0, linestyle='--', color='grey')\n",
    "plt.axhline(0, linestyle='--', color='grey')\n",
    "plt.xlabel(r'$\\chi^2_{blue}(Ia) - \\chi^2_{blue}(91bg)$', fontsize=14)\n",
    "plt.ylabel(r'$\\chi^2_{red}(Ia) - \\chi^2_{red}(91bg)$', fontsize=14)\n",
    "plt.legend()\n",
    "plt.show()\n"
   ]
  },
  {
   "cell_type": "code",
   "execution_count": null,
   "metadata": {
    "scrolled": false
   },
   "outputs": [],
   "source": [
    "all_data_table = sn3yr.get_data_for_id('01330031', True)\n",
    "red_data_table, blue_data_table = split_data(all_data_table, sn3yr.band_names, sn3yr.lambda_effective)\n",
    "classify_set_salt2_t0(\n",
    "    all_data_table, red_data_table, blue_data_table, \n",
    "    vparams=['t0', 'x0', 'x1', 'c'],\n",
    "    kwargs_bg=dict(bounds={'x1': [0.65, 1.25], 'c': [0, 1]}),\n",
    "    show_plots=True\n",
    ")"
   ]
  },
  {
   "cell_type": "code",
   "execution_count": null,
   "metadata": {},
   "outputs": [],
   "source": []
  }
 ],
 "metadata": {
  "kernelspec": {
   "display_name": "Python [conda env:sdss_class] *",
   "language": "python",
   "name": "conda-env-sdss_class-py"
  },
  "language_info": {
   "codemirror_mode": {
    "name": "ipython",
    "version": 3
   },
   "file_extension": ".py",
   "mimetype": "text/x-python",
   "name": "python",
   "nbconvert_exporter": "python",
   "pygments_lexer": "ipython3",
   "version": "3.7.4"
  }
 },
 "nbformat": 4,
 "nbformat_minor": 2
}
