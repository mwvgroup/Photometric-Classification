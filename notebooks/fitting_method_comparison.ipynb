{
 "cells": [
  {
   "cell_type": "markdown",
   "metadata": {},
   "source": [
    "# Comparison of Fitting Methods\n",
    "\n",
    "We consider here the differences in classification results when using fits performed independently by band, or collectively by band set (i.e., red bands and blue bads as two collective groups). We also discuss the impact of the inclusion of Milky Way extinction. We choose to use the DES lightcurves since they have consistent internal behavior (by nature of being a cosmological data release).\n",
    "\n",
    "#### Table of Contents:\n",
    "1. <a href='#mwext'>Effect of Milky Way Extinction</a>: The impact of MW extinction of classification parameters.\n",
    "1. <a href='#collfit'>Effect Of Band-By-Band Vs. Collective Fitting</a>: The impact of choosing to fit bands independently vs. collectively.\n"
   ]
  },
  {
   "cell_type": "code",
   "execution_count": null,
   "metadata": {},
   "outputs": [],
   "source": [
    "import sys\n",
    "from pathlib import Path\n",
    "\n",
    "from copy import deepcopy\n",
    "import numpy as np\n",
    "import sncosmo\n",
    "import sndata\n",
    "from astropy.table import Table\n",
    "from matplotlib import pyplot as plt\n",
    "\n",
    "sys.path.insert(0, '..')\n",
    "from phot_class import models, utils\n",
    "\n",
    "models.register_sources(force=True)\n",
    "sndata.des.sn3yr.register_filters(force=True)\n",
    "\n",
    "# Output directory for figures\n",
    "fig_dir = Path('./notebook_figs/ext_effects')\n",
    "fig_dir.mkdir(exist_ok=True, parents=True)\n"
   ]
  },
  {
   "cell_type": "markdown",
   "metadata": {},
   "source": [
    "## Effect of Milky Way Extinction <a id='mwext'></a>\n",
    "\n",
    "We start by reading in the fit results and classification parameters for DES. For now, we only consider fits that are performed band-by-band. We expect the impact to be minimal since band-by-band fitting is independent of a light-curve's color.\n"
   ]
  },
  {
   "cell_type": "code",
   "execution_count": null,
   "metadata": {
    "scrolled": false
   },
   "outputs": [],
   "source": [
    "def read_combined_data(path_pattern):\n",
    "    \"\"\"Read in fit / classification results \n",
    "    \n",
    "    Args:\n",
    "        path_pattern (str): A path that can be formatted using the words\n",
    "            'with' and 'no' to point to data with/without MW extinction\n",
    "            \n",
    "    Returns:\n",
    "        A Pandas DataFrame\n",
    "    \"\"\"\n",
    "    \n",
    "    path_pattern = str(path_pattern)\n",
    "    no_ext = Table.read(path_pattern.format('no')).to_pandas()\n",
    "    with_ext = Table.read(path_pattern.format('with')).to_pandas()\n",
    "    \n",
    "    if 'band' in with_ext:\n",
    "        no_ext.set_index(['obj_id', 'source', 'band'], inplace=True)\n",
    "        with_ext.set_index(['obj_id', 'source', 'band'], inplace=True)\n",
    "        out_data = no_ext.join(with_ext, lsuffix='_noext', rsuffix='_ext')\n",
    "        \n",
    "    else:\n",
    "        no_ext.set_index('obj_id', inplace=True)\n",
    "        with_ext.set_index('obj_id', inplace=True)\n",
    "        out_data = no_ext.join(with_ext, lsuffix='_noext', rsuffix='_ext')\n",
    "        \n",
    "        out_data['sep'] = np.sqrt(\n",
    "            (out_data['x_noext'] - out_data['x_ext']) ** 2 + \n",
    "            (out_data['y_noext'] - out_data['y_ext']) ** 2 \n",
    "        )\n",
    "\n",
    "    return out_data\n"
   ]
  },
  {
   "cell_type": "code",
   "execution_count": null,
   "metadata": {},
   "outputs": [],
   "source": [
    "results_dir = Path('../results/')\n",
    "band_coords_path = results_dir / 'band_fits/{}_ext/des_sn3yr_simple_fit_class.ecsv'\n",
    "band_coords = read_combined_data(band_coords_path)\n",
    "\n",
    "band_fits_path = results_dir / 'band_fits/{}_ext/des_sn3yr_simple_fit_fits.ecsv'\n",
    "band_fits = read_combined_data(band_fits_path)\n",
    "\n",
    "band_coords.head()"
   ]
  },
  {
   "cell_type": "markdown",
   "metadata": {},
   "source": [
    "Next, we create overlaid plots of the classification coordinates determined with and without extinction. This allows us to inspect the shift in the coordinates visually."
   ]
  },
  {
   "cell_type": "code",
   "execution_count": null,
   "metadata": {
    "scrolled": false
   },
   "outputs": [],
   "source": [
    "def plot_coord_seperation(band_fit_df, x_cols, ycols):\n",
    "    \"\"\"Create overlaid plots of the classification coordinates\n",
    "    \n",
    "    Args:\n",
    "        band_fit_df (DataFrame): The dataframe to pull data from\n",
    "        x_cols      (list[str]): List of two colum names with x-coordinates\n",
    "        y_cols      (list[str]): List of two colum names with y-coordinates\n",
    "        \n",
    "    Returns:\n",
    "        A matplotlib figure\n",
    "        An array of matplotlib axes\n",
    "    \"\"\"\n",
    "    \n",
    "    fig, axes = plt.subplots(1, 2, figsize=(20, 10))\n",
    "\n",
    "    for axis in axes:\n",
    "        axis.axvline(0, linestyle=':', color='grey')\n",
    "        axis.axhline(0, linestyle=':', color='grey')\n",
    "        axis.set_xlabel(r'$\\chi^2_{blue}(Ia) - \\chi^2_{blue}(91bg)$', fontsize=14)\n",
    "        axis.set_ylabel(r'$\\chi^2_{red}(Ia) - \\chi^2_{red}(91bg)$', fontsize=14)\n",
    "\n",
    "        axis.scatter(band_fit_df[x_cols[0]], band_fit_df[ycols[0]], s=25, c='C0', label='With Mw Ext')\n",
    "        axis.scatter(band_fit_df[x_cols[1]], band_fit_df[ycols[1]], s=25, \n",
    "                     facecolors='none', edgecolors='black', alpha=.8, label='No MW Ext')\n",
    "\n",
    "        distant_data = band_fit_df[band_fit_df.sep.ge(.5)]\n",
    "        for index, row in distant_data.iterrows():\n",
    "            x = [row[x_cols[0]], row[x_cols[1]]]\n",
    "            y = [row[ycols[0]], row[ycols[1]]]\n",
    "            axis.plot(x, y, color='grey', marker='')\n",
    "    \n",
    "    axis.legend()\n",
    "    axes[1].set_xlim(-5, 1)\n",
    "    axes[1].set_ylim(-5, 1)\n",
    "    return fig, axes\n"
   ]
  },
  {
   "cell_type": "code",
   "execution_count": null,
   "metadata": {},
   "outputs": [],
   "source": [
    "fig, axes = plot_coord_seperation(band_coords, ['x_ext', 'x_noext'], ['y_ext', 'y_noext'])\n",
    "plt.savefig(fig_dir / 'displacement_bandfit_mwextinction.pdf')\n",
    "axes[0].set_xlim(-300, 5)\n"
   ]
  },
  {
   "cell_type": "markdown",
   "metadata": {},
   "source": [
    "To understand why some points don't agree, we inspect the fits with/without extinction for the target having with the largest separation in either subplot."
   ]
  },
  {
   "cell_type": "code",
   "execution_count": null,
   "metadata": {},
   "outputs": [],
   "source": [
    "def plot_band_fits(fits, data):\n",
    "    \"\"\"Plot fits with/without MW exctinction for tabulated hasiao/91bg params\n",
    "    \n",
    "    Args:\n",
    "        fits (DataFrame): Tabulate fit parameters with colomns\n",
    "            *params + '_ext' and *params + '_noext'\n",
    "        data     (Table): Observed light curve data for the desired target\n",
    "      \n",
    "    Returns:\n",
    "        A matplotlib figure\n",
    "        An array of matplotlib axes\n",
    "    \"\"\"\n",
    "    \n",
    "    dust_kw = dict(effects=[sncosmo.F99Dust()], effect_names=['mw'], effect_frames=['obs'])\n",
    "    \n",
    "    bg_source = sncosmo.get_source('sn91bg', version='hsiao_phase')\n",
    "    sn91bg = sncosmo.Model(bg_source, **dust_kw)\n",
    "    hsiao = sncosmo.Model('hsiao_x1', **dust_kw)\n",
    "    \n",
    "    num_cols = 2\n",
    "    num_rows = len(fits.loc[data.meta['obj_id']]) // 2 - 1\n",
    "    fig, axes = plt.subplots(num_rows, num_cols, figsize=(8, num_rows * 4))\n",
    "    \n",
    "    for model, axes_col in zip((hsiao, sn91bg), axes.T):\n",
    "        fit_results = fits.loc[data.meta['obj_id'], model.source.name]\n",
    "        fit_results = fit_results[fit_results.index != 'all']\n",
    "    \n",
    "        for (band_name, row), axis in zip(fit_results.iterrows(), axes_col):\n",
    "\n",
    "            band_data = data[data['band'] == band_name]\n",
    "            axis.scatter(band_data['time'], band_data['flux'], label=band_name)\n",
    "            axis.errorbar(band_data['time'], band_data['flux'], \n",
    "                          yerr=band_data['fluxerr'], linestyle='', label='')\n",
    "\n",
    "            for suffix in ('_ext', '_noext'):\n",
    "                params = {p: row[p + suffix] for p in model.param_names}\n",
    "                model.update(params)\n",
    "\n",
    "                time = np.arange(params['t0'] - 18, params['t0'] + 90)\n",
    "                model_flux = model.bandflux(band_name, time, zp=27.5, zpsys='AB')\n",
    "                label = suffix.lstrip('_').replace('no', 'no ') + 'inction'\n",
    "                axis.plot(time, model_flux, label=label)\n",
    "\n",
    "            axis.legend()\n",
    "            \n",
    "    return fig, axes\n"
   ]
  },
  {
   "cell_type": "code",
   "execution_count": null,
   "metadata": {
    "scrolled": false
   },
   "outputs": [],
   "source": [
    "demo_id_1 = band_coords.sep.idxmax()\n",
    "\n",
    "print(f'Largest Overall Seperation: {demo_id_1}')\n",
    "print(band_coords.loc[demo_id_1])\n",
    "\n",
    "demo_data_1 = sndata.des.sn3yr.get_data_for_id(demo_id_1)\n",
    "_ = plot_band_fits(band_fits, demo_data_1)\n"
   ]
  },
  {
   "cell_type": "code",
   "execution_count": null,
   "metadata": {
    "scrolled": false
   },
   "outputs": [],
   "source": [
    "i1 = (band_coords.x_ext >= -5) & (band_coords.y_ext >= -5)\n",
    "i2 = (band_coords.x_noext >= -5) & (band_coords.y_noext >= -5)\n",
    "subset = band_coords[i1 | i2]\n",
    "demo_id_2 = subset.sep.idxmax()\n",
    "\n",
    "print('\\nLargest Seperation with x,y > -5')\n",
    "print(subset.loc[demo_id_2])\n",
    "\n",
    "demo_data_2 = sndata.des.sn3yr.get_data_for_id(demo_id_2)\n",
    "_ = plot_band_fits(band_fits, demo_data_2)\n",
    "plt.savefig(fig_dir / 'bandfit_difference_mwextinction.pdf')\n",
    "plt.show()\n"
   ]
  },
  {
   "cell_type": "markdown",
   "metadata": {},
   "source": [
    "From the light-curve plots, we can see that the inclusion of MW extinction does not directly impact the individual band fits but instead impacts the t0 estimation, which is performed using all available bands. The modified Hsiao model we are using is surprisingly robust and is not affected."
   ]
  },
  {
   "cell_type": "markdown",
   "metadata": {},
   "source": [
    "## Effect Of Band-By-Band Vs Collective Fitting <a id='collfit'></a>\n",
    "\n",
    "Next, we can consider the impact of choosing to fit bands independently vs. collectively. We expect the difference here to be much larger than before since collective fits may be sensitive to color variations within the SNe population. As before, we start by reading in the data and plotting the two sets of classification coordinates.\n"
   ]
  },
  {
   "cell_type": "code",
   "execution_count": null,
   "metadata": {},
   "outputs": [],
   "source": [
    "results_dir = Path('../results/')\n",
    "coll_coords_path = results_dir / 'collective_fits/{}_ext/des_sn3yr_simple_fit_class.ecsv'\n",
    "coll_coords = read_combined_data(coll_coords_path)\n",
    "\n",
    "coll_fits_path = results_dir / 'collective_fits/{}_ext/des_sn3yr_simple_fit_fits.ecsv'\n",
    "coll_fits = read_combined_data(coll_fits_path)\n",
    "\n",
    "coll_coords.head()\n"
   ]
  },
  {
   "cell_type": "code",
   "execution_count": null,
   "metadata": {},
   "outputs": [],
   "source": [
    "all_coords = band_coords.join(coll_coords, lsuffix='_band', rsuffix='_coll')\n",
    "all_coords['sep'] = np.sqrt(\n",
    "    (all_coords['x_ext_band'] - all_coords['x_ext_coll']) ** 2 + \n",
    "    (all_coords['y_ext_band'] - all_coords['y_ext_coll']) ** 2 \n",
    ")\n",
    "\n",
    "all_coords.head()\n"
   ]
  },
  {
   "cell_type": "markdown",
   "metadata": {},
   "source": [
    "Let's look at the impact of MW exctinction when performing collective fits."
   ]
  },
  {
   "cell_type": "code",
   "execution_count": null,
   "metadata": {},
   "outputs": [],
   "source": [
    "fig, axes = plot_coord_seperation(all_coords, ['x_ext_band', 'x_ext_coll'], ['y_ext_band', 'y_ext_coll'])\n",
    "plt.savefig(fig_dir / 'displacement_collectivefit_mwextinction.pdf')\n",
    "axes[0].set_xlim(-300, 5)\n"
   ]
  },
  {
   "cell_type": "markdown",
   "metadata": {},
   "source": [
    "Note that the change in coordinates is now much larger than in the previous case. We would like to know why this is, so we consider the differences in coordinates between the band and collective fits (with and without extinction)."
   ]
  },
  {
   "cell_type": "code",
   "execution_count": null,
   "metadata": {},
   "outputs": [],
   "source": [
    "def plot_comparison_of_coords(band_x, coll_x, band_y, coll_y):\n",
    "    \"\"\"\n",
    "\n",
    "    Args:\n",
    "        band_x (Series): x coordinate from band fitting\n",
    "        coll_x (Series): x coordinate from collective fitting\n",
    "        band_y (Series): y coordinate from band fitting\n",
    "        coll_y (Series): y coordinate from collective fitting\n",
    "\n",
    "    Returns:\n",
    "        A matplotlib figure\n",
    "        An array of matplotlib axes\n",
    "    \"\"\"\n",
    "\n",
    "    fig, axes = plt.subplots(1, 2, figsize=(16, 8))\n",
    "\n",
    "    # Reference lines\n",
    "    for axis in axes:\n",
    "        axis.axvline(0, linestyle=':', c='grey')\n",
    "        axis.axhline(0, linestyle=':', c='grey')\n",
    "\n",
    "    ## Axis 0\n",
    "    #########\n",
    "\n",
    "    axes[0].scatter(band_x, coll_x, label='x Coord (Blue)', s=10)\n",
    "    axes[0].scatter(band_y, coll_y, label='y Coord (Red)', s=10)\n",
    "\n",
    "    # Determine points for plotting lines of best fit\n",
    "    xlim = axes[0].get_xlim()\n",
    "    ylim = axes[0].get_ylim()\n",
    "    line_min = min(xlim[0], ylim[0])\n",
    "    line_max = max(xlim[1], ylim[1])\n",
    "    line_points = [line_min, line_max]\n",
    "\n",
    "    # Determine lines of best fit\n",
    "    ix = np.isfinite(band_x + coll_x)\n",
    "    iy = np.isfinite(band_y + coll_y)\n",
    "    x_best_fit = np.poly1d(np.polyfit(band_x[ix], coll_x[ix], 1))\n",
    "    y_best_fit = np.poly1d(np.polyfit(band_y[iy], coll_y[iy], 1))\n",
    "\n",
    "    # Plot best fit\n",
    "    axes[0].plot(line_points, line_points, linestyle='-.', c='grey')\n",
    "    axes[0].plot(line_points, x_best_fit(line_points), linestyle='--', c='C0')\n",
    "    axes[0].plot(line_points, y_best_fit(line_points), linestyle='--', c='C1')\n",
    "\n",
    "    # Restore axis to bounds before plotting lines and add a legend\n",
    "    axes[0].set_xlim(*line_points)\n",
    "    axes[0].set_ylim(*line_points)\n",
    "    axes[0].set_xlabel('Band Fitting Parameter')\n",
    "    axes[0].set_ylabel('Collective Fitting Parameter')\n",
    "    axes[0].legend(loc='upper left')\n",
    "\n",
    "    ## Axis 1\n",
    "    #########\n",
    "\n",
    "    axes[1].scatter(band_x - coll_x, band_y - coll_y, label='Band fit - Collective fit')\n",
    "    axes[1].legend(loc='upper left')\n",
    "    axes[1].set_xlabel(r'$\\Delta$ x (blue)')\n",
    "    axes[1].set_ylabel(r'$\\Delta$ y (red)')\n",
    "\n",
    "    return fig, axes"
   ]
  },
  {
   "cell_type": "code",
   "execution_count": null,
   "metadata": {},
   "outputs": [],
   "source": [
    "fig, axes = plot_comparison_of_coords(\n",
    "    band_x=all_coords['x_ext_band'], \n",
    "    coll_x=all_coords['x_ext_coll'],\n",
    "    band_y=all_coords['y_ext_band'], \n",
    "    coll_y=all_coords['y_ext_coll'],\n",
    ")\n",
    "\n",
    "fig.suptitle('Collective vs. Band Fit Parameters With MW Extinction')\n",
    "plt.savefig(fig_dir / 'collective_v_band_parameters_with_extinction.pdf')\n",
    "plt.show()\n"
   ]
  },
  {
   "cell_type": "code",
   "execution_count": null,
   "metadata": {},
   "outputs": [],
   "source": [
    "fig, axes = plot_comparison_of_coords(\n",
    "    band_x=all_coords['x_noext_band'], \n",
    "    coll_x=all_coords['x_noext_coll'],\n",
    "    band_y=all_coords['y_noext_band'], \n",
    "    coll_y=all_coords['y_noext_coll'],\n",
    ")\n",
    "\n",
    "fig.suptitle('Collective vs. Band Fit Parameters Without MW Extinction')\n",
    "plt.show()\n",
    "\n"
   ]
  },
  {
   "cell_type": "markdown",
   "metadata": {},
   "source": [
    "Since more positive coordinates indicate a more 91bg-like target, we see that not correcting for exctinction biases classifications towards 91bgs likley because of the redder colors. We can validate this by visually inspecting the fit results."
   ]
  },
  {
   "cell_type": "code",
   "execution_count": null,
   "metadata": {
    "scrolled": false
   },
   "outputs": [],
   "source": [
    "def plot_collective_fits(fits, data, band_names, lambda_eff, suffix='_ext'):\n",
    "    \"\"\"Plot collective fits for tabulated hasiao/91bg params\n",
    "    \n",
    "    Args:\n",
    "        fits  (DataFrame): Tabulate fit parameters with colomns *params + suffix\n",
    "        data      (Table): Observed light curve data for the desired target\n",
    "        band_names (iter): List of all bands available in the survey\n",
    "        lambda_eff (iter): The effective wavelength of each band in band_names\n",
    "        suffix      (str): Suffix to add to parameter names when indexing columns\n",
    "    \"\"\"\n",
    "    \n",
    "    dust_kw = dict(effects=[sncosmo.F99Dust()], effect_names=['mw'], effect_frames=['obs'])\n",
    "    \n",
    "    bg_source = sncosmo.get_source('sn91bg', version='hsiao_phase')\n",
    "    sn91bg = sncosmo.Model(bg_source, **dust_kw)\n",
    "    hsiao = sncosmo.Model('hsiao_x1', **dust_kw)\n",
    "    \n",
    "    for model in (hsiao, sn91bg):\n",
    "        z = fits.loc[data.meta['obj_id'], model.source.name, 'all']['z' + suffix]\n",
    "        blue_data, red_data = utils.split_data(data, band_names, lambda_eff, z, cutoff=float('inf'))\n",
    "        \n",
    "        for band_set, data_table in zip(('all', 'blue', 'red'), (data, blue_data, red_data)):\n",
    "            fit_results = fits.loc[data.meta['obj_id'], model.source.name, band_set]\n",
    "            model.update({p: fit_results[p + suffix] for p in model.param_names})\n",
    "            sncosmo.plot_lc(data_table, model)\n",
    "            plt.show()\n"
   ]
  },
  {
   "cell_type": "code",
   "execution_count": null,
   "metadata": {
    "scrolled": false
   },
   "outputs": [],
   "source": [
    "demo_id_3 = all_coords.sep[np.isfinite(all_coords.sep)].idxmax()\n",
    "demo_data_3 = sndata.des.sn3yr.get_data_for_id(demo_id_3)\n",
    "\n",
    "print('ID:', demo_id_3)\n",
    "print(all_coords.loc[demo_id_3])\n",
    "\n",
    "print('Impact of exctinction on band-by-band fitting')\n",
    "plot_band_fits(band_fits, demo_data_3)\n",
    "plt.show()\n"
   ]
  },
  {
   "cell_type": "code",
   "execution_count": null,
   "metadata": {
    "scrolled": false
   },
   "outputs": [],
   "source": [
    "print('Collective fits with exctinction included')\n",
    "plot_collective_fits(coll_fits, demo_data_3, sndata.des.sn3yr.band_names, sndata.des.sn3yr.lambda_effective)\n"
   ]
  },
  {
   "cell_type": "code",
   "execution_count": null,
   "metadata": {
    "scrolled": false
   },
   "outputs": [],
   "source": [
    "print('Collective fits without exctinction included')\n",
    "plot_collective_fits(coll_fits, demo_data_3, sndata.des.sn3yr.band_names, sndata.des.sn3yr.lambda_effective, suffix='_noext')\n"
   ]
  },
  {
   "cell_type": "code",
   "execution_count": null,
   "metadata": {},
   "outputs": [],
   "source": []
  }
 ],
 "metadata": {
  "kernelspec": {
   "display_name": "Python [conda env:anaconda3-phot_class] *",
   "language": "python",
   "name": "conda-env-anaconda3-phot_class-py"
  },
  "language_info": {
   "codemirror_mode": {
    "name": "ipython",
    "version": 3
   },
   "file_extension": ".py",
   "mimetype": "text/x-python",
   "name": "python",
   "nbconvert_exporter": "python",
   "pygments_lexer": "ipython3",
   "version": "3.7.4"
  }
 },
 "nbformat": 4,
 "nbformat_minor": 2
}
