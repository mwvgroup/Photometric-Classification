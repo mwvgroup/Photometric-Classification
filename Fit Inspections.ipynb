{
 "cells": [
  {
   "cell_type": "code",
   "execution_count": null,
   "metadata": {},
   "outputs": [],
   "source": [
    "import numpy as np\n",
    "from astropy.table import Table, join\n",
    "from matplotlib import pyplot as plt\n",
    "\n",
    "from bokeh.io import output_notebook, show\n",
    "from bokeh.plotting import figure\n",
    "from bokeh.models import Span, HoverTool, ColumnDataSource\n",
    "from bokeh.layouts import gridplot\n",
    "\n",
    "from parse_sn_data import MASTER_TABLE as master_table\n",
    "\n",
    "output_notebook()\n",
    "_basic_tools = \"save,pan,box_zoom,reset,wheel_zoom\".split(',')"
   ]
  },
  {
   "cell_type": "code",
   "execution_count": null,
   "metadata": {},
   "outputs": [],
   "source": [
    "# Get SMP fit data\n",
    "smp_fit_params = master_table[\n",
    "    'CID',\n",
    "    'x0SALT2zspec', \n",
    "    'x0errSALT2zspec', \n",
    "    'x1SALT2zspec', \n",
    "    'x1errSALT2zspec', \n",
    "    'cSALT2zspec', \n",
    "    'cerrSALT2zspec']\n",
    "\n",
    "smp_fit_params.rename_column('CID', 'cid')\n",
    "smp_fit_params.rename_column('x0SALT2zspec', 'x0_smp')\n",
    "smp_fit_params.rename_column('x0errSALT2zspec', 'x0_smp_err')\n",
    "smp_fit_params.rename_column('x1SALT2zspec', 'x1_smp')\n",
    "smp_fit_params.rename_column('x1errSALT2zspec', 'x1_smp_err')\n",
    "smp_fit_params.rename_column('cSALT2zspec', 'c_smp')\n",
    "smp_fit_params.rename_column('cerrSALT2zspec', 'c_smp_err')\n",
    "\n",
    "# Get SNCosmo fitt data\n",
    "sncosmo_fits = Table.read('sncosmo_results/summary.csv')\n",
    "\n",
    "sncosmo_fits.rename_column('x0', 'x0_snc')\n",
    "sncosmo_fits.rename_column('x1', 'x1_snc')\n",
    "sncosmo_fits.rename_column('c', 'c_snc')\n",
    "\n",
    "\n",
    "combined_table = join(sncosmo_fits, smp_fit_params)\n",
    "combined_table = combined_table[~combined_table['x0_smp'].mask]\n",
    "for value in ('x0', 'x1', 'c'):\n",
    "    combined_table['delta_' + value] = \\\n",
    "        (combined_table[value + '_smp'] - combined_table[value + '_snc']) / combined_table[value + '_smp']\n"
   ]
  },
  {
   "cell_type": "markdown",
   "metadata": {},
   "source": [
    "# Compare fit parameters between SNCosmo and SDSS"
   ]
  },
  {
   "cell_type": "code",
   "execution_count": null,
   "metadata": {
    "scrolled": false
   },
   "outputs": [],
   "source": [
    "data_dict = {col.name: np.array(col) for col in combined_table.itercols()}\n",
    "source = ColumnDataSource(data=data_dict)\n",
    "\n",
    "figures = []\n",
    "for value in ('x0', 'x1', 'c'):\n",
    "    hover = HoverTool(tooltips=[\n",
    "        (\"target\", \"@cid\"),\n",
    "        (\"class\", \"@class\"),\n",
    "        (\"z\", \"@z\"),\n",
    "        ('z_fit', '@fit_z'),\n",
    "        ('chi2', '@chi')\n",
    "    ])\n",
    "\n",
    "    fig = figure(tools=_basic_tools + [hover, 'box_select', 'lasso_select'], title=value)\n",
    "    fig.circle(value + '_snc', value + '_smp', source=source, size=4, alpha=.5)\n",
    "    fig.xaxis.axis_label = value + ' snc'\n",
    "    fig.yaxis.axis_label = value + ' smp'\n",
    "    figures.append(fig)\n",
    "\n",
    "grid = gridplot(figures, ncols=3, plot_width=350, plot_height=350)\n",
    "show(grid)\n"
   ]
  },
  {
   "cell_type": "code",
   "execution_count": null,
   "metadata": {},
   "outputs": [],
   "source": [
    "figures = []\n",
    "for value in ('x0', 'x1', 'c'):\n",
    "    hover = HoverTool(tooltips=[\n",
    "        (\"target\", \"@cid\"),\n",
    "        (\"class\", \"@class\"),\n",
    "        (\"z\", \"@z\"),\n",
    "        ('z_fit', '@fit_z'),\n",
    "        ('chi2', '@chi')\n",
    "    ])\n",
    "\n",
    "    fig = figure(tools=_basic_tools + [hover, 'box_select', 'lasso_select'], title=value)\n",
    "    fig.circle('fit_z', 'delta_' + value, source=source, size=4, alpha=.5)\n",
    "    fig.xaxis.axis_label = 'Redshift'\n",
    "    fig.yaxis.axis_label = 'Percent Residual'\n",
    "    figures.append(fig)\n",
    "\n",
    "grid = gridplot(figures, ncols=3, plot_width=325, plot_height=325)\n",
    "show(grid)\n",
    "\n"
   ]
  },
  {
   "cell_type": "code",
   "execution_count": null,
   "metadata": {},
   "outputs": [],
   "source": []
  }
 ],
 "metadata": {
  "kernelspec": {
   "display_name": "Python 3",
   "language": "python",
   "name": "python3"
  },
  "language_info": {
   "codemirror_mode": {
    "name": "ipython",
    "version": 3
   },
   "file_extension": ".py",
   "mimetype": "text/x-python",
   "name": "python",
   "nbconvert_exporter": "python",
   "pygments_lexer": "ipython3",
   "version": "3.7.0"
  }
 },
 "nbformat": 4,
 "nbformat_minor": 2
}
